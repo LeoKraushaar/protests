{
 "cells": [
  {
   "cell_type": "markdown",
   "metadata": {},
   "source": [
    "## Monte Carlo Results"
   ]
  },
  {
   "cell_type": "code",
   "execution_count": 83,
   "metadata": {
    "vscode": {
     "languageId": "r"
    }
   },
   "outputs": [],
   "source": [
    "setwd(\"/home/leoKraushaar/Documents/School/Year 3/Semester 2/STAT 413/Project/protests/\")\n",
    "library(dplyr)"
   ]
  },
  {
   "cell_type": "code",
   "execution_count": 84,
   "metadata": {
    "vscode": {
     "languageId": "r"
    }
   },
   "outputs": [
    {
     "data": {
      "text/html": [
       "<table class=\"dataframe\">\n",
       "<caption>A data.frame: 6 × 4</caption>\n",
       "<thead>\n",
       "\t<tr><th></th><th scope=col>prov</th><th scope=col>season</th><th scope=col>retail</th><th scope=col>protests</th></tr>\n",
       "\t<tr><th></th><th scope=col>&lt;chr&gt;</th><th scope=col>&lt;chr&gt;</th><th scope=col>&lt;dbl&gt;</th><th scope=col>&lt;int&gt;</th></tr>\n",
       "</thead>\n",
       "<tbody>\n",
       "\t<tr><th scope=row>1</th><td>Alberta                  </td><td>Spring</td><td>10359631</td><td> 9</td></tr>\n",
       "\t<tr><th scope=row>2</th><td>British Columbia         </td><td>Spring</td><td> 9645388</td><td>25</td></tr>\n",
       "\t<tr><th scope=row>3</th><td>Manitoba                 </td><td>Spring</td><td> 4135184</td><td> 7</td></tr>\n",
       "\t<tr><th scope=row>4</th><td>New Brunswick            </td><td>Spring</td><td> 3615926</td><td> 4</td></tr>\n",
       "\t<tr><th scope=row>5</th><td>Newfoundland and Labrador</td><td>Spring</td><td> 3065366</td><td> 3</td></tr>\n",
       "\t<tr><th scope=row>6</th><td>Northwest Territories    </td><td>Spring</td><td> 1920654</td><td> 0</td></tr>\n",
       "</tbody>\n",
       "</table>\n"
      ],
      "text/latex": [
       "A data.frame: 6 × 4\n",
       "\\begin{tabular}{r|llll}\n",
       "  & prov & season & retail & protests\\\\\n",
       "  & <chr> & <chr> & <dbl> & <int>\\\\\n",
       "\\hline\n",
       "\t1 & Alberta                   & Spring & 10359631 &  9\\\\\n",
       "\t2 & British Columbia          & Spring &  9645388 & 25\\\\\n",
       "\t3 & Manitoba                  & Spring &  4135184 &  7\\\\\n",
       "\t4 & New Brunswick             & Spring &  3615926 &  4\\\\\n",
       "\t5 & Newfoundland and Labrador & Spring &  3065366 &  3\\\\\n",
       "\t6 & Northwest Territories     & Spring &  1920654 &  0\\\\\n",
       "\\end{tabular}\n"
      ],
      "text/markdown": [
       "\n",
       "A data.frame: 6 × 4\n",
       "\n",
       "| <!--/--> | prov &lt;chr&gt; | season &lt;chr&gt; | retail &lt;dbl&gt; | protests &lt;int&gt; |\n",
       "|---|---|---|---|---|\n",
       "| 1 | Alberta                   | Spring | 10359631 |  9 |\n",
       "| 2 | British Columbia          | Spring |  9645388 | 25 |\n",
       "| 3 | Manitoba                  | Spring |  4135184 |  7 |\n",
       "| 4 | New Brunswick             | Spring |  3615926 |  4 |\n",
       "| 5 | Newfoundland and Labrador | Spring |  3065366 |  3 |\n",
       "| 6 | Northwest Territories     | Spring |  1920654 |  0 |\n",
       "\n"
      ],
      "text/plain": [
       "  prov                      season retail   protests\n",
       "1 Alberta                   Spring 10359631  9      \n",
       "2 British Columbia          Spring  9645388 25      \n",
       "3 Manitoba                  Spring  4135184  7      \n",
       "4 New Brunswick             Spring  3615926  4      \n",
       "5 Newfoundland and Labrador Spring  3065366  3      \n",
       "6 Northwest Territories     Spring  1920654  0      "
      ]
     },
     "metadata": {},
     "output_type": "display_data"
    }
   ],
   "source": [
    "data <- read.csv(\"data/montecarlo/2030_norm.csv\")[, -1]\n",
    "head(data)"
   ]
  },
  {
   "cell_type": "code",
   "execution_count": 85,
   "metadata": {
    "vscode": {
     "languageId": "r"
    }
   },
   "outputs": [
    {
     "data": {
      "text/html": [
       "2860"
      ],
      "text/latex": [
       "2860"
      ],
      "text/markdown": [
       "2860"
      ],
      "text/plain": [
       "[1] 2860"
      ]
     },
     "metadata": {},
     "output_type": "display_data"
    }
   ],
   "source": [
    "floor(nrow(data)/143)"
   ]
  },
  {
   "cell_type": "code",
   "execution_count": 86,
   "metadata": {
    "vscode": {
     "languageId": "r"
    }
   },
   "outputs": [
    {
     "data": {
      "text/html": [
       "408980"
      ],
      "text/latex": [
       "408980"
      ],
      "text/markdown": [
       "408980"
      ],
      "text/plain": [
       "[1] 408980"
      ]
     },
     "metadata": {},
     "output_type": "display_data"
    }
   ],
   "source": [
    "nrow(data)"
   ]
  },
  {
   "cell_type": "code",
   "execution_count": 87,
   "metadata": {
    "vscode": {
     "languageId": "r"
    }
   },
   "outputs": [
    {
     "data": {
      "text/html": [
       "<table class=\"dataframe\">\n",
       "<caption>A data.frame: 6 × 3</caption>\n",
       "<thead>\n",
       "\t<tr><th></th><th scope=col>prov</th><th scope=col>protests</th><th scope=col>iter</th></tr>\n",
       "\t<tr><th></th><th scope=col>&lt;chr&gt;</th><th scope=col>&lt;int&gt;</th><th scope=col>&lt;int&gt;</th></tr>\n",
       "</thead>\n",
       "<tbody>\n",
       "\t<tr><th scope=row>1</th><td>Alberta                  </td><td> 9</td><td>1</td></tr>\n",
       "\t<tr><th scope=row>2</th><td>British Columbia         </td><td>25</td><td>1</td></tr>\n",
       "\t<tr><th scope=row>3</th><td>Manitoba                 </td><td> 7</td><td>1</td></tr>\n",
       "\t<tr><th scope=row>4</th><td>New Brunswick            </td><td> 4</td><td>1</td></tr>\n",
       "\t<tr><th scope=row>5</th><td>Newfoundland and Labrador</td><td> 3</td><td>1</td></tr>\n",
       "\t<tr><th scope=row>6</th><td>Northwest Territories    </td><td> 0</td><td>1</td></tr>\n",
       "</tbody>\n",
       "</table>\n"
      ],
      "text/latex": [
       "A data.frame: 6 × 3\n",
       "\\begin{tabular}{r|lll}\n",
       "  & prov & protests & iter\\\\\n",
       "  & <chr> & <int> & <int>\\\\\n",
       "\\hline\n",
       "\t1 & Alberta                   &  9 & 1\\\\\n",
       "\t2 & British Columbia          & 25 & 1\\\\\n",
       "\t3 & Manitoba                  &  7 & 1\\\\\n",
       "\t4 & New Brunswick             &  4 & 1\\\\\n",
       "\t5 & Newfoundland and Labrador &  3 & 1\\\\\n",
       "\t6 & Northwest Territories     &  0 & 1\\\\\n",
       "\\end{tabular}\n"
      ],
      "text/markdown": [
       "\n",
       "A data.frame: 6 × 3\n",
       "\n",
       "| <!--/--> | prov &lt;chr&gt; | protests &lt;int&gt; | iter &lt;int&gt; |\n",
       "|---|---|---|---|\n",
       "| 1 | Alberta                   |  9 | 1 |\n",
       "| 2 | British Columbia          | 25 | 1 |\n",
       "| 3 | Manitoba                  |  7 | 1 |\n",
       "| 4 | New Brunswick             |  4 | 1 |\n",
       "| 5 | Newfoundland and Labrador |  3 | 1 |\n",
       "| 6 | Northwest Territories     |  0 | 1 |\n",
       "\n"
      ],
      "text/plain": [
       "  prov                      protests iter\n",
       "1 Alberta                    9       1   \n",
       "2 British Columbia          25       1   \n",
       "3 Manitoba                   7       1   \n",
       "4 New Brunswick              4       1   \n",
       "5 Newfoundland and Labrador  3       1   \n",
       "6 Northwest Territories      0       1   "
      ]
     },
     "metadata": {},
     "output_type": "display_data"
    }
   ],
   "source": [
    "iterations <- rep(1:8392, each=143)\n",
    "\n",
    "data$iter <- iterations[1:nrow(data)]\n",
    "\n",
    "data[, c(\"season\", \"retail\")] <- NULL\n",
    "\n",
    "head(data)"
   ]
  },
  {
   "cell_type": "code",
   "execution_count": 88,
   "metadata": {
    "vscode": {
     "languageId": "r"
    }
   },
   "outputs": [],
   "source": [
    "interval <- function(X, alpha=0.05) {\n",
    "    quantiles <- quantile(X, probs = c(alpha/2, 1/2, 1-(alpha/2)))\n",
    "    return(quantiles)\n",
    "}"
   ]
  },
  {
   "cell_type": "code",
   "execution_count": 89,
   "metadata": {
    "vscode": {
     "languageId": "r"
    }
   },
   "outputs": [],
   "source": [
    "interval_low <- function(X, alpha=0.05) {\n",
    "    quantiles <- quantile(X, probs = c(alpha/2, 1/2, 1-(alpha/2)))\n",
    "    return(as.numeric(quantiles[1]))\n",
    "}\n",
    "\n",
    "interval_high <- function(X, alpha=0.05) {\n",
    "    quantiles <- quantile(X, probs = c(alpha/2, 1/2, 1-(alpha/2)))\n",
    "    return(quantiles)\n",
    "    return(as.numeric(quantiles[2]))\n",
    "}"
   ]
  },
  {
   "cell_type": "code",
   "execution_count": 90,
   "metadata": {
    "vscode": {
     "languageId": "r"
    }
   },
   "outputs": [
    {
     "name": "stderr",
     "output_type": "stream",
     "text": [
      "\u001b[1m\u001b[22m`summarise()` has grouped output by 'prov'. You can override using the\n",
      "`.groups` argument.\n"
     ]
    }
   ],
   "source": [
    "total_protests <- data %>% group_by(prov, iter) %>% summarise(total = sum(protests))"
   ]
  },
  {
   "cell_type": "code",
   "execution_count": 91,
   "metadata": {
    "vscode": {
     "languageId": "r"
    }
   },
   "outputs": [],
   "source": [
    "intervals <- aggregate(total ~ prov, data=total_protests, FUN=interval)$total\n",
    "provs <- aggregate(total ~ prov, data=total_protests, FUN=interval)$prov"
   ]
  },
  {
   "cell_type": "code",
   "execution_count": 92,
   "metadata": {
    "vscode": {
     "languageId": "r"
    }
   },
   "outputs": [
    {
     "data": {
      "text/html": [
       "<table class=\"dataframe\">\n",
       "<caption>A data.frame: 13 × 4</caption>\n",
       "<thead>\n",
       "\t<tr><th scope=col>prov</th><th scope=col>2.5%</th><th scope=col>50%</th><th scope=col>97.5%</th></tr>\n",
       "\t<tr><th scope=col>&lt;chr&gt;</th><th scope=col>&lt;chr&gt;</th><th scope=col>&lt;chr&gt;</th><th scope=col>&lt;chr&gt;</th></tr>\n",
       "</thead>\n",
       "<tbody>\n",
       "\t<tr><td>Alberta                  </td><td>103    </td><td>116</td><td>131             </td></tr>\n",
       "\t<tr><td>British Columbia         </td><td>193    </td><td>218</td><td>245             </td></tr>\n",
       "\t<tr><td>Manitoba                 </td><td>63     </td><td>71 </td><td>80.5250000000001</td></tr>\n",
       "\t<tr><td>New Brunswick            </td><td>37     </td><td>42 </td><td>48              </td></tr>\n",
       "\t<tr><td>Newfoundland and Labrador</td><td>26     </td><td>30 </td><td>34              </td></tr>\n",
       "\t<tr><td>Northwest Territories    </td><td>0      </td><td>0  </td><td>2               </td></tr>\n",
       "\t<tr><td>Nova Scotia              </td><td>43     </td><td>48 </td><td>55              </td></tr>\n",
       "\t<tr><td>Nunavut                  </td><td>3      </td><td>5  </td><td>7               </td></tr>\n",
       "\t<tr><td>Ontario                  </td><td>668.475</td><td>755</td><td>849             </td></tr>\n",
       "\t<tr><td>Prince Edward Island     </td><td>11     </td><td>12 </td><td>15              </td></tr>\n",
       "\t<tr><td>Quebec                   </td><td>250    </td><td>282</td><td>317             </td></tr>\n",
       "\t<tr><td>Saskatchewan             </td><td>33     </td><td>38 </td><td>43              </td></tr>\n",
       "\t<tr><td>Yukon                    </td><td>11     </td><td>12 </td><td>15              </td></tr>\n",
       "</tbody>\n",
       "</table>\n"
      ],
      "text/latex": [
       "A data.frame: 13 × 4\n",
       "\\begin{tabular}{llll}\n",
       " prov & 2.5\\% & 50\\% & 97.5\\%\\\\\n",
       " <chr> & <chr> & <chr> & <chr>\\\\\n",
       "\\hline\n",
       "\t Alberta                   & 103     & 116 & 131             \\\\\n",
       "\t British Columbia          & 193     & 218 & 245             \\\\\n",
       "\t Manitoba                  & 63      & 71  & 80.5250000000001\\\\\n",
       "\t New Brunswick             & 37      & 42  & 48              \\\\\n",
       "\t Newfoundland and Labrador & 26      & 30  & 34              \\\\\n",
       "\t Northwest Territories     & 0       & 0   & 2               \\\\\n",
       "\t Nova Scotia               & 43      & 48  & 55              \\\\\n",
       "\t Nunavut                   & 3       & 5   & 7               \\\\\n",
       "\t Ontario                   & 668.475 & 755 & 849             \\\\\n",
       "\t Prince Edward Island      & 11      & 12  & 15              \\\\\n",
       "\t Quebec                    & 250     & 282 & 317             \\\\\n",
       "\t Saskatchewan              & 33      & 38  & 43              \\\\\n",
       "\t Yukon                     & 11      & 12  & 15              \\\\\n",
       "\\end{tabular}\n"
      ],
      "text/markdown": [
       "\n",
       "A data.frame: 13 × 4\n",
       "\n",
       "| prov &lt;chr&gt; | 2.5% &lt;chr&gt; | 50% &lt;chr&gt; | 97.5% &lt;chr&gt; |\n",
       "|---|---|---|---|\n",
       "| Alberta                   | 103     | 116 | 131              |\n",
       "| British Columbia          | 193     | 218 | 245              |\n",
       "| Manitoba                  | 63      | 71  | 80.5250000000001 |\n",
       "| New Brunswick             | 37      | 42  | 48               |\n",
       "| Newfoundland and Labrador | 26      | 30  | 34               |\n",
       "| Northwest Territories     | 0       | 0   | 2                |\n",
       "| Nova Scotia               | 43      | 48  | 55               |\n",
       "| Nunavut                   | 3       | 5   | 7                |\n",
       "| Ontario                   | 668.475 | 755 | 849              |\n",
       "| Prince Edward Island      | 11      | 12  | 15               |\n",
       "| Quebec                    | 250     | 282 | 317              |\n",
       "| Saskatchewan              | 33      | 38  | 43               |\n",
       "| Yukon                     | 11      | 12  | 15               |\n",
       "\n"
      ],
      "text/plain": [
       "   prov                      2.5%    50% 97.5%           \n",
       "1  Alberta                   103     116 131             \n",
       "2  British Columbia          193     218 245             \n",
       "3  Manitoba                  63      71  80.5250000000001\n",
       "4  New Brunswick             37      42  48              \n",
       "5  Newfoundland and Labrador 26      30  34              \n",
       "6  Northwest Territories     0       0   2               \n",
       "7  Nova Scotia               43      48  55              \n",
       "8  Nunavut                   3       5   7               \n",
       "9  Ontario                   668.475 755 849             \n",
       "10 Prince Edward Island      11      12  15              \n",
       "11 Quebec                    250     282 317             \n",
       "12 Saskatchewan              33      38  43              \n",
       "13 Yukon                     11      12  15              "
      ]
     },
     "metadata": {},
     "output_type": "display_data"
    }
   ],
   "source": [
    "results <- as.data.frame(cbind(prov=provs, intervals))\n",
    "results"
   ]
  },
  {
   "cell_type": "code",
   "execution_count": 93,
   "metadata": {
    "vscode": {
     "languageId": "r"
    }
   },
   "outputs": [
    {
     "data": {
      "text/html": [
       "<table class=\"dataframe\">\n",
       "<caption>A data.frame: 13 × 7</caption>\n",
       "<thead>\n",
       "\t<tr><th></th><th scope=col>prov</th><th scope=col>2023</th><th scope=col>2.5%</th><th scope=col>50%</th><th scope=col>97.5%</th><th scope=col>pred.effect</th><th scope=col>sig.effect</th></tr>\n",
       "\t<tr><th></th><th scope=col>&lt;chr&gt;</th><th scope=col>&lt;int&gt;</th><th scope=col>&lt;dbl&gt;</th><th scope=col>&lt;dbl&gt;</th><th scope=col>&lt;dbl&gt;</th><th scope=col>&lt;chr&gt;</th><th scope=col>&lt;chr&gt;</th></tr>\n",
       "</thead>\n",
       "<tbody>\n",
       "\t<tr><th scope=row>1</th><td>Alberta                  </td><td>139</td><td>103</td><td>116</td><td>131</td><td>dec.</td><td>Y</td></tr>\n",
       "\t<tr><th scope=row>2</th><td>British Columbia         </td><td>284</td><td>193</td><td>218</td><td>245</td><td>dec.</td><td>Y</td></tr>\n",
       "\t<tr><th scope=row>3</th><td>Manitoba                 </td><td>118</td><td> 63</td><td> 71</td><td> 81</td><td>dec.</td><td>Y</td></tr>\n",
       "\t<tr><th scope=row>4</th><td>New Brunswick            </td><td> 61</td><td> 37</td><td> 42</td><td> 48</td><td>dec.</td><td>Y</td></tr>\n",
       "\t<tr><th scope=row>5</th><td>Newfoundland and Labrador</td><td> 61</td><td> 26</td><td> 30</td><td> 34</td><td>dec.</td><td>Y</td></tr>\n",
       "\t<tr><th scope=row>6</th><td>Northwest Territories    </td><td>  6</td><td>  0</td><td>  0</td><td>  2</td><td>dec.</td><td>Y</td></tr>\n",
       "\t<tr><th scope=row>7</th><td>Nova Scotia              </td><td> 85</td><td> 43</td><td> 48</td><td> 55</td><td>dec.</td><td>Y</td></tr>\n",
       "\t<tr><th scope=row>8</th><td>Nunavut                  </td><td> 11</td><td>  3</td><td>  5</td><td>  7</td><td>dec.</td><td>Y</td></tr>\n",
       "\t<tr><th scope=row>9</th><td>Ontario                  </td><td>627</td><td>668</td><td>755</td><td>849</td><td>inc.</td><td>Y</td></tr>\n",
       "\t<tr><th scope=row>10</th><td>Prince Edward Island     </td><td> 29</td><td> 11</td><td> 12</td><td> 15</td><td>dec.</td><td>Y</td></tr>\n",
       "\t<tr><th scope=row>11</th><td>Quebec                   </td><td>270</td><td>250</td><td>282</td><td>317</td><td>inc.</td><td>N</td></tr>\n",
       "\t<tr><th scope=row>12</th><td>Saskatchewan             </td><td> 56</td><td> 33</td><td> 38</td><td> 43</td><td>dec.</td><td>Y</td></tr>\n",
       "\t<tr><th scope=row>13</th><td>Yukon                    </td><td> 18</td><td> 11</td><td> 12</td><td> 15</td><td>dec.</td><td>Y</td></tr>\n",
       "</tbody>\n",
       "</table>\n"
      ],
      "text/latex": [
       "A data.frame: 13 × 7\n",
       "\\begin{tabular}{r|lllllll}\n",
       "  & prov & 2023 & 2.5\\% & 50\\% & 97.5\\% & pred.effect & sig.effect\\\\\n",
       "  & <chr> & <int> & <dbl> & <dbl> & <dbl> & <chr> & <chr>\\\\\n",
       "\\hline\n",
       "\t1 & Alberta                   & 139 & 103 & 116 & 131 & dec. & Y\\\\\n",
       "\t2 & British Columbia          & 284 & 193 & 218 & 245 & dec. & Y\\\\\n",
       "\t3 & Manitoba                  & 118 &  63 &  71 &  81 & dec. & Y\\\\\n",
       "\t4 & New Brunswick             &  61 &  37 &  42 &  48 & dec. & Y\\\\\n",
       "\t5 & Newfoundland and Labrador &  61 &  26 &  30 &  34 & dec. & Y\\\\\n",
       "\t6 & Northwest Territories     &   6 &   0 &   0 &   2 & dec. & Y\\\\\n",
       "\t7 & Nova Scotia               &  85 &  43 &  48 &  55 & dec. & Y\\\\\n",
       "\t8 & Nunavut                   &  11 &   3 &   5 &   7 & dec. & Y\\\\\n",
       "\t9 & Ontario                   & 627 & 668 & 755 & 849 & inc. & Y\\\\\n",
       "\t10 & Prince Edward Island      &  29 &  11 &  12 &  15 & dec. & Y\\\\\n",
       "\t11 & Quebec                    & 270 & 250 & 282 & 317 & inc. & N\\\\\n",
       "\t12 & Saskatchewan              &  56 &  33 &  38 &  43 & dec. & Y\\\\\n",
       "\t13 & Yukon                     &  18 &  11 &  12 &  15 & dec. & Y\\\\\n",
       "\\end{tabular}\n"
      ],
      "text/markdown": [
       "\n",
       "A data.frame: 13 × 7\n",
       "\n",
       "| <!--/--> | prov &lt;chr&gt; | 2023 &lt;int&gt; | 2.5% &lt;dbl&gt; | 50% &lt;dbl&gt; | 97.5% &lt;dbl&gt; | pred.effect &lt;chr&gt; | sig.effect &lt;chr&gt; |\n",
       "|---|---|---|---|---|---|---|---|\n",
       "| 1 | Alberta                   | 139 | 103 | 116 | 131 | dec. | Y |\n",
       "| 2 | British Columbia          | 284 | 193 | 218 | 245 | dec. | Y |\n",
       "| 3 | Manitoba                  | 118 |  63 |  71 |  81 | dec. | Y |\n",
       "| 4 | New Brunswick             |  61 |  37 |  42 |  48 | dec. | Y |\n",
       "| 5 | Newfoundland and Labrador |  61 |  26 |  30 |  34 | dec. | Y |\n",
       "| 6 | Northwest Territories     |   6 |   0 |   0 |   2 | dec. | Y |\n",
       "| 7 | Nova Scotia               |  85 |  43 |  48 |  55 | dec. | Y |\n",
       "| 8 | Nunavut                   |  11 |   3 |   5 |   7 | dec. | Y |\n",
       "| 9 | Ontario                   | 627 | 668 | 755 | 849 | inc. | Y |\n",
       "| 10 | Prince Edward Island      |  29 |  11 |  12 |  15 | dec. | Y |\n",
       "| 11 | Quebec                    | 270 | 250 | 282 | 317 | inc. | N |\n",
       "| 12 | Saskatchewan              |  56 |  33 |  38 |  43 | dec. | Y |\n",
       "| 13 | Yukon                     |  18 |  11 |  12 |  15 | dec. | Y |\n",
       "\n"
      ],
      "text/plain": [
       "   prov                      2023 2.5% 50% 97.5% pred.effect sig.effect\n",
       "1  Alberta                   139  103  116 131   dec.        Y         \n",
       "2  British Columbia          284  193  218 245   dec.        Y         \n",
       "3  Manitoba                  118   63   71  81   dec.        Y         \n",
       "4  New Brunswick              61   37   42  48   dec.        Y         \n",
       "5  Newfoundland and Labrador  61   26   30  34   dec.        Y         \n",
       "6  Northwest Territories       6    0    0   2   dec.        Y         \n",
       "7  Nova Scotia                85   43   48  55   dec.        Y         \n",
       "8  Nunavut                    11    3    5   7   dec.        Y         \n",
       "9  Ontario                   627  668  755 849   inc.        Y         \n",
       "10 Prince Edward Island       29   11   12  15   dec.        Y         \n",
       "11 Quebec                    270  250  282 317   inc.        N         \n",
       "12 Saskatchewan               56   33   38  43   dec.        Y         \n",
       "13 Yukon                      18   11   12  15   dec.        Y         "
      ]
     },
     "metadata": {},
     "output_type": "display_data"
    }
   ],
   "source": [
    "init_data <- read.csv(\"data/merged_data.csv\") |> subset(year==2023)\n",
    "init_data <- init_data[, c(\"month\", \"GEO\", \"protests\")]\n",
    "\n",
    "init_tot <- aggregate(protests ~ GEO, data=init_data, sum)\n",
    "\n",
    "results <- cbind(\"2023\"=init_tot$protests, results)\n",
    "results <- subset(results, select=c(2,1,3,4,5))\n",
    "\n",
    "\n",
    "results[, \"50%\"] <- as.numeric(results[, \"50%\"])\n",
    "\n",
    "results$pred.effect <- ifelse(results$`50%` > results$\"2023\", \"inc.\", \"dec.\")\n",
    "\n",
    "results[, \"97.5%\"] <- as.numeric(results[, \"97.5%\"], type=\"integer\") |> round()\n",
    "results[, \"2.5%\"] <- as.numeric(results[, \"2.5%\"], type=\"integer\") |> round()\n",
    "\n",
    "results$sig.effect <- ifelse(results$`97.5%` > results$\"2023\" & results$`2.5%` < results$\"2023\", \"N\", \"Y\")\n",
    "\n",
    "results"
   ]
  },
  {
   "cell_type": "code",
   "execution_count": 94,
   "metadata": {
    "vscode": {
     "languageId": "r"
    }
   },
   "outputs": [],
   "source": [
    "library(xtable)"
   ]
  },
  {
   "cell_type": "code",
   "execution_count": 95,
   "metadata": {
    "vscode": {
     "languageId": "r"
    }
   },
   "outputs": [],
   "source": [
    "print(xtable(results, caption=\"95% Prediction Intervals for Total Yearly Protests by Province, 2030\", label=\"tab:total_protests\", digits=0), type=\"latex\", caption.placement=\"top\", file=\"total_protests.tex\")"
   ]
  }
 ],
 "metadata": {
  "kernelspec": {
   "display_name": "R",
   "language": "R",
   "name": "ir"
  },
  "language_info": {
   "codemirror_mode": "r",
   "file_extension": ".r",
   "mimetype": "text/x-r-source",
   "name": "R",
   "pygments_lexer": "r",
   "version": "4.3.3"
  }
 },
 "nbformat": 4,
 "nbformat_minor": 2
}
