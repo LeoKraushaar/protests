{
 "cells": [
  {
   "cell_type": "markdown",
   "metadata": {},
   "source": [
    "## Monte Carlo Results"
   ]
  },
  {
   "cell_type": "code",
   "execution_count": 52,
   "metadata": {
    "vscode": {
     "languageId": "r"
    }
   },
   "outputs": [],
   "source": [
    "setwd(\"/home/leoKraushaar/Documents/School/Year 3/Semester 2/STAT 413/Project/protests/\")\n",
    "library(dplyr)"
   ]
  },
  {
   "cell_type": "code",
   "execution_count": 53,
   "metadata": {
    "vscode": {
     "languageId": "r"
    }
   },
   "outputs": [
    {
     "data": {
      "text/html": [
       "<table class=\"dataframe\">\n",
       "<caption>A data.frame: 6 × 4</caption>\n",
       "<thead>\n",
       "\t<tr><th></th><th scope=col>prov</th><th scope=col>season</th><th scope=col>retail</th><th scope=col>protests</th></tr>\n",
       "\t<tr><th></th><th scope=col>&lt;chr&gt;</th><th scope=col>&lt;chr&gt;</th><th scope=col>&lt;dbl&gt;</th><th scope=col>&lt;int&gt;</th></tr>\n",
       "</thead>\n",
       "<tbody>\n",
       "\t<tr><th scope=row>1</th><td>Alberta                  </td><td>Spring</td><td>10574094</td><td> 9</td></tr>\n",
       "\t<tr><th scope=row>2</th><td>British Columbia         </td><td>Spring</td><td>11371951</td><td>16</td></tr>\n",
       "\t<tr><th scope=row>3</th><td>Manitoba                 </td><td>Spring</td><td> 3225536</td><td> 9</td></tr>\n",
       "\t<tr><th scope=row>4</th><td>New Brunswick            </td><td>Spring</td><td> 4129786</td><td> 3</td></tr>\n",
       "\t<tr><th scope=row>5</th><td>Newfoundland and Labrador</td><td>Spring</td><td> 3186605</td><td> 3</td></tr>\n",
       "\t<tr><th scope=row>6</th><td>Northwest Territories    </td><td>Spring</td><td> 2056920</td><td> 0</td></tr>\n",
       "</tbody>\n",
       "</table>\n"
      ],
      "text/latex": [
       "A data.frame: 6 × 4\n",
       "\\begin{tabular}{r|llll}\n",
       "  & prov & season & retail & protests\\\\\n",
       "  & <chr> & <chr> & <dbl> & <int>\\\\\n",
       "\\hline\n",
       "\t1 & Alberta                   & Spring & 10574094 &  9\\\\\n",
       "\t2 & British Columbia          & Spring & 11371951 & 16\\\\\n",
       "\t3 & Manitoba                  & Spring &  3225536 &  9\\\\\n",
       "\t4 & New Brunswick             & Spring &  4129786 &  3\\\\\n",
       "\t5 & Newfoundland and Labrador & Spring &  3186605 &  3\\\\\n",
       "\t6 & Northwest Territories     & Spring &  2056920 &  0\\\\\n",
       "\\end{tabular}\n"
      ],
      "text/markdown": [
       "\n",
       "A data.frame: 6 × 4\n",
       "\n",
       "| <!--/--> | prov &lt;chr&gt; | season &lt;chr&gt; | retail &lt;dbl&gt; | protests &lt;int&gt; |\n",
       "|---|---|---|---|---|\n",
       "| 1 | Alberta                   | Spring | 10574094 |  9 |\n",
       "| 2 | British Columbia          | Spring | 11371951 | 16 |\n",
       "| 3 | Manitoba                  | Spring |  3225536 |  9 |\n",
       "| 4 | New Brunswick             | Spring |  4129786 |  3 |\n",
       "| 5 | Newfoundland and Labrador | Spring |  3186605 |  3 |\n",
       "| 6 | Northwest Territories     | Spring |  2056920 |  0 |\n",
       "\n"
      ],
      "text/plain": [
       "  prov                      season retail   protests\n",
       "1 Alberta                   Spring 10574094  9      \n",
       "2 British Columbia          Spring 11371951 16      \n",
       "3 Manitoba                  Spring  3225536  9      \n",
       "4 New Brunswick             Spring  4129786  3      \n",
       "5 Newfoundland and Labrador Spring  3186605  3      \n",
       "6 Northwest Territories     Spring  2056920  0      "
      ]
     },
     "metadata": {},
     "output_type": "display_data"
    }
   ],
   "source": [
    "data <- read.csv(\"data/montecarlo/2030.csv\")[, -1]\n",
    "head(data)"
   ]
  },
  {
   "cell_type": "code",
   "execution_count": 54,
   "metadata": {
    "vscode": {
     "languageId": "r"
    }
   },
   "outputs": [
    {
     "data": {
      "text/html": [
       "8391"
      ],
      "text/latex": [
       "8391"
      ],
      "text/markdown": [
       "8391"
      ],
      "text/plain": [
       "[1] 8391"
      ]
     },
     "metadata": {},
     "output_type": "display_data"
    }
   ],
   "source": [
    "floor(nrow(data)/143)"
   ]
  },
  {
   "cell_type": "code",
   "execution_count": 55,
   "metadata": {
    "vscode": {
     "languageId": "r"
    }
   },
   "outputs": [
    {
     "data": {
      "text/html": [
       "1200000"
      ],
      "text/latex": [
       "1200000"
      ],
      "text/markdown": [
       "1200000"
      ],
      "text/plain": [
       "[1] 1200000"
      ]
     },
     "metadata": {},
     "output_type": "display_data"
    }
   ],
   "source": [
    "nrow(data)"
   ]
  },
  {
   "cell_type": "code",
   "execution_count": 56,
   "metadata": {
    "vscode": {
     "languageId": "r"
    }
   },
   "outputs": [
    {
     "data": {
      "text/html": [
       "<table class=\"dataframe\">\n",
       "<caption>A data.frame: 6 × 3</caption>\n",
       "<thead>\n",
       "\t<tr><th></th><th scope=col>prov</th><th scope=col>protests</th><th scope=col>iter</th></tr>\n",
       "\t<tr><th></th><th scope=col>&lt;chr&gt;</th><th scope=col>&lt;int&gt;</th><th scope=col>&lt;int&gt;</th></tr>\n",
       "</thead>\n",
       "<tbody>\n",
       "\t<tr><th scope=row>1</th><td>Alberta                  </td><td> 9</td><td>1</td></tr>\n",
       "\t<tr><th scope=row>2</th><td>British Columbia         </td><td>16</td><td>1</td></tr>\n",
       "\t<tr><th scope=row>3</th><td>Manitoba                 </td><td> 9</td><td>1</td></tr>\n",
       "\t<tr><th scope=row>4</th><td>New Brunswick            </td><td> 3</td><td>1</td></tr>\n",
       "\t<tr><th scope=row>5</th><td>Newfoundland and Labrador</td><td> 3</td><td>1</td></tr>\n",
       "\t<tr><th scope=row>6</th><td>Northwest Territories    </td><td> 0</td><td>1</td></tr>\n",
       "</tbody>\n",
       "</table>\n"
      ],
      "text/latex": [
       "A data.frame: 6 × 3\n",
       "\\begin{tabular}{r|lll}\n",
       "  & prov & protests & iter\\\\\n",
       "  & <chr> & <int> & <int>\\\\\n",
       "\\hline\n",
       "\t1 & Alberta                   &  9 & 1\\\\\n",
       "\t2 & British Columbia          & 16 & 1\\\\\n",
       "\t3 & Manitoba                  &  9 & 1\\\\\n",
       "\t4 & New Brunswick             &  3 & 1\\\\\n",
       "\t5 & Newfoundland and Labrador &  3 & 1\\\\\n",
       "\t6 & Northwest Territories     &  0 & 1\\\\\n",
       "\\end{tabular}\n"
      ],
      "text/markdown": [
       "\n",
       "A data.frame: 6 × 3\n",
       "\n",
       "| <!--/--> | prov &lt;chr&gt; | protests &lt;int&gt; | iter &lt;int&gt; |\n",
       "|---|---|---|---|\n",
       "| 1 | Alberta                   |  9 | 1 |\n",
       "| 2 | British Columbia          | 16 | 1 |\n",
       "| 3 | Manitoba                  |  9 | 1 |\n",
       "| 4 | New Brunswick             |  3 | 1 |\n",
       "| 5 | Newfoundland and Labrador |  3 | 1 |\n",
       "| 6 | Northwest Territories     |  0 | 1 |\n",
       "\n"
      ],
      "text/plain": [
       "  prov                      protests iter\n",
       "1 Alberta                    9       1   \n",
       "2 British Columbia          16       1   \n",
       "3 Manitoba                   9       1   \n",
       "4 New Brunswick              3       1   \n",
       "5 Newfoundland and Labrador  3       1   \n",
       "6 Northwest Territories      0       1   "
      ]
     },
     "metadata": {},
     "output_type": "display_data"
    }
   ],
   "source": [
    "iterations <- rep(1:8392, each=143)\n",
    "\n",
    "data$iter <- iterations[1:nrow(data)]\n",
    "\n",
    "data[, c(\"season\", \"retail\")] <- NULL\n",
    "\n",
    "head(data)"
   ]
  },
  {
   "cell_type": "code",
   "execution_count": 57,
   "metadata": {
    "vscode": {
     "languageId": "r"
    }
   },
   "outputs": [],
   "source": [
    "interval <- function(X, alpha=0.05) {\n",
    "    quantiles <- quantile(X, probs = c(alpha/2, 1/2, 1-(alpha/2)))\n",
    "    return(quantiles)\n",
    "}"
   ]
  },
  {
   "cell_type": "code",
   "execution_count": 58,
   "metadata": {
    "vscode": {
     "languageId": "r"
    }
   },
   "outputs": [],
   "source": [
    "interval_low <- function(X, alpha=0.05) {\n",
    "    quantiles <- quantile(X, probs = c(alpha/2, 1/2, 1-(alpha/2)))\n",
    "    return(as.numeric(quantiles[1]))\n",
    "}\n",
    "\n",
    "interval_high <- function(X, alpha=0.05) {\n",
    "    quantiles <- quantile(X, probs = c(alpha/2, 1/2, 1-(alpha/2)))\n",
    "    return(quantiles)\n",
    "    return(as.numeric(quantiles[2]))\n",
    "}"
   ]
  },
  {
   "cell_type": "code",
   "execution_count": 59,
   "metadata": {
    "vscode": {
     "languageId": "r"
    }
   },
   "outputs": [
    {
     "name": "stderr",
     "output_type": "stream",
     "text": [
      "\u001b[1m\u001b[22m`summarise()` has grouped output by 'prov'. You can override using the\n",
      "`.groups` argument.\n"
     ]
    },
    {
     "data": {
      "text/html": [
       "<table class=\"dataframe\">\n",
       "<caption>A grouped_df: 6 × 3</caption>\n",
       "<thead>\n",
       "\t<tr><th scope=col>prov</th><th scope=col>iter</th><th scope=col>total</th></tr>\n",
       "\t<tr><th scope=col>&lt;chr&gt;</th><th scope=col>&lt;int&gt;</th><th scope=col>&lt;int&gt;</th></tr>\n",
       "</thead>\n",
       "<tbody>\n",
       "\t<tr><td>Alberta</td><td>1</td><td>117</td></tr>\n",
       "\t<tr><td>Alberta</td><td>2</td><td>128</td></tr>\n",
       "\t<tr><td>Alberta</td><td>3</td><td>116</td></tr>\n",
       "\t<tr><td>Alberta</td><td>4</td><td>115</td></tr>\n",
       "\t<tr><td>Alberta</td><td>5</td><td>121</td></tr>\n",
       "\t<tr><td>Alberta</td><td>6</td><td>129</td></tr>\n",
       "</tbody>\n",
       "</table>\n"
      ],
      "text/latex": [
       "A grouped\\_df: 6 × 3\n",
       "\\begin{tabular}{lll}\n",
       " prov & iter & total\\\\\n",
       " <chr> & <int> & <int>\\\\\n",
       "\\hline\n",
       "\t Alberta & 1 & 117\\\\\n",
       "\t Alberta & 2 & 128\\\\\n",
       "\t Alberta & 3 & 116\\\\\n",
       "\t Alberta & 4 & 115\\\\\n",
       "\t Alberta & 5 & 121\\\\\n",
       "\t Alberta & 6 & 129\\\\\n",
       "\\end{tabular}\n"
      ],
      "text/markdown": [
       "\n",
       "A grouped_df: 6 × 3\n",
       "\n",
       "| prov &lt;chr&gt; | iter &lt;int&gt; | total &lt;int&gt; |\n",
       "|---|---|---|\n",
       "| Alberta | 1 | 117 |\n",
       "| Alberta | 2 | 128 |\n",
       "| Alberta | 3 | 116 |\n",
       "| Alberta | 4 | 115 |\n",
       "| Alberta | 5 | 121 |\n",
       "| Alberta | 6 | 129 |\n",
       "\n"
      ],
      "text/plain": [
       "  prov    iter total\n",
       "1 Alberta 1    117  \n",
       "2 Alberta 2    128  \n",
       "3 Alberta 3    116  \n",
       "4 Alberta 4    115  \n",
       "5 Alberta 5    121  \n",
       "6 Alberta 6    129  "
      ]
     },
     "metadata": {},
     "output_type": "display_data"
    }
   ],
   "source": [
    "total_protests <- data %>% group_by(prov, iter) %>% summarise(total = sum(protests))"
   ]
  },
  {
   "cell_type": "code",
   "execution_count": 60,
   "metadata": {
    "vscode": {
     "languageId": "r"
    }
   },
   "outputs": [],
   "source": [
    "intervals <- aggregate(total ~ prov, data=total_protests, FUN=interval)$total\n",
    "provs <- aggregate(total ~ prov, data=total_protests, FUN=interval)$prov"
   ]
  },
  {
   "cell_type": "code",
   "execution_count": 63,
   "metadata": {
    "vscode": {
     "languageId": "r"
    }
   },
   "outputs": [
    {
     "data": {
      "text/html": [
       "<table class=\"dataframe\">\n",
       "<caption>A data.frame: 13 × 4</caption>\n",
       "<thead>\n",
       "\t<tr><th scope=col>prov</th><th scope=col>2.5%</th><th scope=col>50%</th><th scope=col>97.5%</th></tr>\n",
       "\t<tr><th scope=col>&lt;chr&gt;</th><th scope=col>&lt;chr&gt;</th><th scope=col>&lt;chr&gt;</th><th scope=col>&lt;chr&gt;</th></tr>\n",
       "</thead>\n",
       "<tbody>\n",
       "\t<tr><td>Alberta                  </td><td>102</td><td>117</td><td>133</td></tr>\n",
       "\t<tr><td>British Columbia         </td><td>190</td><td>219</td><td>250</td></tr>\n",
       "\t<tr><td>Manitoba                 </td><td>62 </td><td>72 </td><td>82 </td></tr>\n",
       "\t<tr><td>New Brunswick            </td><td>37 </td><td>43 </td><td>49 </td></tr>\n",
       "\t<tr><td>Newfoundland and Labrador</td><td>25 </td><td>30 </td><td>35 </td></tr>\n",
       "\t<tr><td>Northwest Territories    </td><td>0  </td><td>1  </td><td>3  </td></tr>\n",
       "\t<tr><td>Nova Scotia              </td><td>42 </td><td>49 </td><td>55 </td></tr>\n",
       "\t<tr><td>Nunavut                  </td><td>2  </td><td>5  </td><td>7  </td></tr>\n",
       "\t<tr><td>Ontario                  </td><td>661</td><td>761</td><td>863</td></tr>\n",
       "\t<tr><td>Prince Edward Island     </td><td>11 </td><td>13 </td><td>15 </td></tr>\n",
       "\t<tr><td>Quebec                   </td><td>246</td><td>284</td><td>323</td></tr>\n",
       "\t<tr><td>Saskatchewan             </td><td>33 </td><td>38 </td><td>44 </td></tr>\n",
       "\t<tr><td>Yukon                    </td><td>11 </td><td>13 </td><td>15 </td></tr>\n",
       "</tbody>\n",
       "</table>\n"
      ],
      "text/latex": [
       "A data.frame: 13 × 4\n",
       "\\begin{tabular}{llll}\n",
       " prov & 2.5\\% & 50\\% & 97.5\\%\\\\\n",
       " <chr> & <chr> & <chr> & <chr>\\\\\n",
       "\\hline\n",
       "\t Alberta                   & 102 & 117 & 133\\\\\n",
       "\t British Columbia          & 190 & 219 & 250\\\\\n",
       "\t Manitoba                  & 62  & 72  & 82 \\\\\n",
       "\t New Brunswick             & 37  & 43  & 49 \\\\\n",
       "\t Newfoundland and Labrador & 25  & 30  & 35 \\\\\n",
       "\t Northwest Territories     & 0   & 1   & 3  \\\\\n",
       "\t Nova Scotia               & 42  & 49  & 55 \\\\\n",
       "\t Nunavut                   & 2   & 5   & 7  \\\\\n",
       "\t Ontario                   & 661 & 761 & 863\\\\\n",
       "\t Prince Edward Island      & 11  & 13  & 15 \\\\\n",
       "\t Quebec                    & 246 & 284 & 323\\\\\n",
       "\t Saskatchewan              & 33  & 38  & 44 \\\\\n",
       "\t Yukon                     & 11  & 13  & 15 \\\\\n",
       "\\end{tabular}\n"
      ],
      "text/markdown": [
       "\n",
       "A data.frame: 13 × 4\n",
       "\n",
       "| prov &lt;chr&gt; | 2.5% &lt;chr&gt; | 50% &lt;chr&gt; | 97.5% &lt;chr&gt; |\n",
       "|---|---|---|---|\n",
       "| Alberta                   | 102 | 117 | 133 |\n",
       "| British Columbia          | 190 | 219 | 250 |\n",
       "| Manitoba                  | 62  | 72  | 82  |\n",
       "| New Brunswick             | 37  | 43  | 49  |\n",
       "| Newfoundland and Labrador | 25  | 30  | 35  |\n",
       "| Northwest Territories     | 0   | 1   | 3   |\n",
       "| Nova Scotia               | 42  | 49  | 55  |\n",
       "| Nunavut                   | 2   | 5   | 7   |\n",
       "| Ontario                   | 661 | 761 | 863 |\n",
       "| Prince Edward Island      | 11  | 13  | 15  |\n",
       "| Quebec                    | 246 | 284 | 323 |\n",
       "| Saskatchewan              | 33  | 38  | 44  |\n",
       "| Yukon                     | 11  | 13  | 15  |\n",
       "\n"
      ],
      "text/plain": [
       "   prov                      2.5% 50% 97.5%\n",
       "1  Alberta                   102  117 133  \n",
       "2  British Columbia          190  219 250  \n",
       "3  Manitoba                  62   72  82   \n",
       "4  New Brunswick             37   43  49   \n",
       "5  Newfoundland and Labrador 25   30  35   \n",
       "6  Northwest Territories     0    1   3    \n",
       "7  Nova Scotia               42   49  55   \n",
       "8  Nunavut                   2    5   7    \n",
       "9  Ontario                   661  761 863  \n",
       "10 Prince Edward Island      11   13  15   \n",
       "11 Quebec                    246  284 323  \n",
       "12 Saskatchewan              33   38  44   \n",
       "13 Yukon                     11   13  15   "
      ]
     },
     "metadata": {},
     "output_type": "display_data"
    }
   ],
   "source": [
    "results <- as.data.frame(cbind(prov=provs, intervals))\n",
    "results"
   ]
  }
 ],
 "metadata": {
  "kernelspec": {
   "display_name": "R",
   "language": "R",
   "name": "ir"
  },
  "language_info": {
   "codemirror_mode": "r",
   "file_extension": ".r",
   "mimetype": "text/x-r-source",
   "name": "R",
   "pygments_lexer": "r",
   "version": "4.3.3"
  }
 },
 "nbformat": 4,
 "nbformat_minor": 2
}
