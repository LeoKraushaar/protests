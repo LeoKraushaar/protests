{
 "cells": [
  {
   "cell_type": "markdown",
   "metadata": {},
   "source": [
    "## Get the new oil data"
   ]
  },
  {
   "cell_type": "code",
   "execution_count": 1,
   "metadata": {
    "vscode": {
     "languageId": "r"
    }
   },
   "outputs": [],
   "source": [
    "setwd(\"/home/leoKraushaar/Documents/School/Year 3/Semester 2/STAT 413/Project/protests/\")"
   ]
  },
  {
   "cell_type": "code",
   "execution_count": 3,
   "metadata": {
    "vscode": {
     "languageId": "r"
    }
   },
   "outputs": [
    {
     "data": {
      "text/html": [
       "<table class=\"dataframe\">\n",
       "<caption>A data.frame: 6 × 10</caption>\n",
       "<thead>\n",
       "\t<tr><th></th><th scope=col>year</th><th scope=col>month</th><th scope=col>GEO</th><th scope=col>pop</th><th scope=col>protests</th><th scope=col>retail</th><th scope=col>oil</th><th scope=col>food</th><th scope=col>manufac</th><th scope=col>power</th></tr>\n",
       "\t<tr><th></th><th scope=col>&lt;int&gt;</th><th scope=col>&lt;chr&gt;</th><th scope=col>&lt;chr&gt;</th><th scope=col>&lt;int&gt;</th><th scope=col>&lt;int&gt;</th><th scope=col>&lt;dbl&gt;</th><th scope=col>&lt;int&gt;</th><th scope=col>&lt;int&gt;</th><th scope=col>&lt;int&gt;</th><th scope=col>&lt;int&gt;</th></tr>\n",
       "</thead>\n",
       "<tbody>\n",
       "\t<tr><th scope=row>1</th><td>2022</td><td>April</td><td>Alberta                  </td><td>4480956</td><td>17</td><td>7989056</td><td> 3983</td><td> 868863</td><td>9421575</td><td>6069621</td></tr>\n",
       "\t<tr><th scope=row>2</th><td>2022</td><td>April</td><td>British Columbia         </td><td>5310164</td><td>42</td><td>8959229</td><td>77433</td><td>1222442</td><td>5904432</td><td>5240902</td></tr>\n",
       "\t<tr><th scope=row>3</th><td>2022</td><td>April</td><td>Manitoba                 </td><td>1405197</td><td> 2</td><td>2083495</td><td> 6290</td><td> 194206</td><td>2000977</td><td>2168371</td></tr>\n",
       "\t<tr><th scope=row>4</th><td>2022</td><td>April</td><td>New Brunswick            </td><td> 801778</td><td> 5</td><td>1340707</td><td> 1818</td><td> 116742</td><td>2460804</td><td>1171958</td></tr>\n",
       "\t<tr><th scope=row>5</th><td>2022</td><td>April</td><td>Newfoundland and Labrador</td><td> 529249</td><td> 2</td><td> 920444</td><td>77160</td><td>  78292</td><td> 346772</td><td> 686123</td></tr>\n",
       "\t<tr><th scope=row>6</th><td>2022</td><td>April</td><td>Northwest Territories    </td><td>  44828</td><td> 0</td><td>  76390</td><td>    0</td><td>   5724</td><td>    584</td><td>  58889</td></tr>\n",
       "</tbody>\n",
       "</table>\n"
      ],
      "text/latex": [
       "A data.frame: 6 × 10\n",
       "\\begin{tabular}{r|llllllllll}\n",
       "  & year & month & GEO & pop & protests & retail & oil & food & manufac & power\\\\\n",
       "  & <int> & <chr> & <chr> & <int> & <int> & <dbl> & <int> & <int> & <int> & <int>\\\\\n",
       "\\hline\n",
       "\t1 & 2022 & April & Alberta                   & 4480956 & 17 & 7989056 &  3983 &  868863 & 9421575 & 6069621\\\\\n",
       "\t2 & 2022 & April & British Columbia          & 5310164 & 42 & 8959229 & 77433 & 1222442 & 5904432 & 5240902\\\\\n",
       "\t3 & 2022 & April & Manitoba                  & 1405197 &  2 & 2083495 &  6290 &  194206 & 2000977 & 2168371\\\\\n",
       "\t4 & 2022 & April & New Brunswick             &  801778 &  5 & 1340707 &  1818 &  116742 & 2460804 & 1171958\\\\\n",
       "\t5 & 2022 & April & Newfoundland and Labrador &  529249 &  2 &  920444 & 77160 &   78292 &  346772 &  686123\\\\\n",
       "\t6 & 2022 & April & Northwest Territories     &   44828 &  0 &   76390 &     0 &    5724 &     584 &   58889\\\\\n",
       "\\end{tabular}\n"
      ],
      "text/markdown": [
       "\n",
       "A data.frame: 6 × 10\n",
       "\n",
       "| <!--/--> | year &lt;int&gt; | month &lt;chr&gt; | GEO &lt;chr&gt; | pop &lt;int&gt; | protests &lt;int&gt; | retail &lt;dbl&gt; | oil &lt;int&gt; | food &lt;int&gt; | manufac &lt;int&gt; | power &lt;int&gt; |\n",
       "|---|---|---|---|---|---|---|---|---|---|---|\n",
       "| 1 | 2022 | April | Alberta                   | 4480956 | 17 | 7989056 |  3983 |  868863 | 9421575 | 6069621 |\n",
       "| 2 | 2022 | April | British Columbia          | 5310164 | 42 | 8959229 | 77433 | 1222442 | 5904432 | 5240902 |\n",
       "| 3 | 2022 | April | Manitoba                  | 1405197 |  2 | 2083495 |  6290 |  194206 | 2000977 | 2168371 |\n",
       "| 4 | 2022 | April | New Brunswick             |  801778 |  5 | 1340707 |  1818 |  116742 | 2460804 | 1171958 |\n",
       "| 5 | 2022 | April | Newfoundland and Labrador |  529249 |  2 |  920444 | 77160 |   78292 |  346772 |  686123 |\n",
       "| 6 | 2022 | April | Northwest Territories     |   44828 |  0 |   76390 |     0 |    5724 |     584 |   58889 |\n",
       "\n"
      ],
      "text/plain": [
       "  year month GEO                       pop     protests retail  oil   food   \n",
       "1 2022 April Alberta                   4480956 17       7989056  3983  868863\n",
       "2 2022 April British Columbia          5310164 42       8959229 77433 1222442\n",
       "3 2022 April Manitoba                  1405197  2       2083495  6290  194206\n",
       "4 2022 April New Brunswick              801778  5       1340707  1818  116742\n",
       "5 2022 April Newfoundland and Labrador  529249  2        920444 77160   78292\n",
       "6 2022 April Northwest Territories       44828  0         76390     0    5724\n",
       "  manufac power  \n",
       "1 9421575 6069621\n",
       "2 5904432 5240902\n",
       "3 2000977 2168371\n",
       "4 2460804 1171958\n",
       "5  346772  686123\n",
       "6     584   58889"
      ]
     },
     "metadata": {},
     "output_type": "display_data"
    }
   ],
   "source": [
    "data <- read.csv(\"data/merged_data.csv\")[-1]\n",
    "head(data)"
   ]
  },
  {
   "cell_type": "code",
   "execution_count": 5,
   "metadata": {
    "vscode": {
     "languageId": "r"
    }
   },
   "outputs": [
    {
     "data": {
      "text/html": [
       "<table class=\"dataframe\">\n",
       "<caption>A data.frame: 6 × 17</caption>\n",
       "<thead>\n",
       "\t<tr><th></th><th scope=col>REF_DATE</th><th scope=col>GEO</th><th scope=col>DGUID</th><th scope=col>Supply.and.disposition</th><th scope=col>Products</th><th scope=col>Unit.of.measure</th><th scope=col>UOM</th><th scope=col>UOM_ID</th><th scope=col>SCALAR_FACTOR</th><th scope=col>SCALAR_ID</th><th scope=col>VECTOR</th><th scope=col>COORDINATE</th><th scope=col>VALUE</th><th scope=col>STATUS</th><th scope=col>SYMBOL</th><th scope=col>TERMINATED</th><th scope=col>DECIMALS</th></tr>\n",
       "\t<tr><th></th><th scope=col>&lt;chr&gt;</th><th scope=col>&lt;chr&gt;</th><th scope=col>&lt;chr&gt;</th><th scope=col>&lt;chr&gt;</th><th scope=col>&lt;chr&gt;</th><th scope=col>&lt;chr&gt;</th><th scope=col>&lt;chr&gt;</th><th scope=col>&lt;int&gt;</th><th scope=col>&lt;chr&gt;</th><th scope=col>&lt;int&gt;</th><th scope=col>&lt;chr&gt;</th><th scope=col>&lt;chr&gt;</th><th scope=col>&lt;int&gt;</th><th scope=col>&lt;lgl&gt;</th><th scope=col>&lt;lgl&gt;</th><th scope=col>&lt;lgl&gt;</th><th scope=col>&lt;int&gt;</th></tr>\n",
       "</thead>\n",
       "<tbody>\n",
       "\t<tr><th scope=row>1</th><td>2022-01</td><td>Newfoundland and Labrador</td><td>2016A000210</td><td>Exports, disposition</td><td>Finished petroleum products</td><td>Cubic metres</td><td>Cubic metres</td><td>72</td><td>units</td><td>0</td><td>v1251227626</td><td>2.9.17.1</td><td>3518</td><td>NA</td><td>NA</td><td>NA</td><td>0</td></tr>\n",
       "\t<tr><th scope=row>2</th><td>2022-02</td><td>Newfoundland and Labrador</td><td>2016A000210</td><td>Exports, disposition</td><td>Finished petroleum products</td><td>Cubic metres</td><td>Cubic metres</td><td>72</td><td>units</td><td>0</td><td>v1251227626</td><td>2.9.17.1</td><td>3510</td><td>NA</td><td>NA</td><td>NA</td><td>0</td></tr>\n",
       "\t<tr><th scope=row>3</th><td>2022-03</td><td>Newfoundland and Labrador</td><td>2016A000210</td><td>Exports, disposition</td><td>Finished petroleum products</td><td>Cubic metres</td><td>Cubic metres</td><td>72</td><td>units</td><td>0</td><td>v1251227626</td><td>2.9.17.1</td><td>3454</td><td>NA</td><td>NA</td><td>NA</td><td>0</td></tr>\n",
       "\t<tr><th scope=row>4</th><td>2022-04</td><td>Newfoundland and Labrador</td><td>2016A000210</td><td>Exports, disposition</td><td>Finished petroleum products</td><td>Cubic metres</td><td>Cubic metres</td><td>72</td><td>units</td><td>0</td><td>v1251227626</td><td>2.9.17.1</td><td>   0</td><td>NA</td><td>NA</td><td>NA</td><td>0</td></tr>\n",
       "\t<tr><th scope=row>5</th><td>2022-05</td><td>Newfoundland and Labrador</td><td>2016A000210</td><td>Exports, disposition</td><td>Finished petroleum products</td><td>Cubic metres</td><td>Cubic metres</td><td>72</td><td>units</td><td>0</td><td>v1251227626</td><td>2.9.17.1</td><td>2513</td><td>NA</td><td>NA</td><td>NA</td><td>0</td></tr>\n",
       "\t<tr><th scope=row>6</th><td>2022-06</td><td>Newfoundland and Labrador</td><td>2016A000210</td><td>Exports, disposition</td><td>Finished petroleum products</td><td>Cubic metres</td><td>Cubic metres</td><td>72</td><td>units</td><td>0</td><td>v1251227626</td><td>2.9.17.1</td><td>3400</td><td>NA</td><td>NA</td><td>NA</td><td>0</td></tr>\n",
       "</tbody>\n",
       "</table>\n"
      ],
      "text/latex": [
       "A data.frame: 6 × 17\n",
       "\\begin{tabular}{r|lllllllllllllllll}\n",
       "  & REF\\_DATE & GEO & DGUID & Supply.and.disposition & Products & Unit.of.measure & UOM & UOM\\_ID & SCALAR\\_FACTOR & SCALAR\\_ID & VECTOR & COORDINATE & VALUE & STATUS & SYMBOL & TERMINATED & DECIMALS\\\\\n",
       "  & <chr> & <chr> & <chr> & <chr> & <chr> & <chr> & <chr> & <int> & <chr> & <int> & <chr> & <chr> & <int> & <lgl> & <lgl> & <lgl> & <int>\\\\\n",
       "\\hline\n",
       "\t1 & 2022-01 & Newfoundland and Labrador & 2016A000210 & Exports, disposition & Finished petroleum products & Cubic metres & Cubic metres & 72 & units & 0 & v1251227626 & 2.9.17.1 & 3518 & NA & NA & NA & 0\\\\\n",
       "\t2 & 2022-02 & Newfoundland and Labrador & 2016A000210 & Exports, disposition & Finished petroleum products & Cubic metres & Cubic metres & 72 & units & 0 & v1251227626 & 2.9.17.1 & 3510 & NA & NA & NA & 0\\\\\n",
       "\t3 & 2022-03 & Newfoundland and Labrador & 2016A000210 & Exports, disposition & Finished petroleum products & Cubic metres & Cubic metres & 72 & units & 0 & v1251227626 & 2.9.17.1 & 3454 & NA & NA & NA & 0\\\\\n",
       "\t4 & 2022-04 & Newfoundland and Labrador & 2016A000210 & Exports, disposition & Finished petroleum products & Cubic metres & Cubic metres & 72 & units & 0 & v1251227626 & 2.9.17.1 &    0 & NA & NA & NA & 0\\\\\n",
       "\t5 & 2022-05 & Newfoundland and Labrador & 2016A000210 & Exports, disposition & Finished petroleum products & Cubic metres & Cubic metres & 72 & units & 0 & v1251227626 & 2.9.17.1 & 2513 & NA & NA & NA & 0\\\\\n",
       "\t6 & 2022-06 & Newfoundland and Labrador & 2016A000210 & Exports, disposition & Finished petroleum products & Cubic metres & Cubic metres & 72 & units & 0 & v1251227626 & 2.9.17.1 & 3400 & NA & NA & NA & 0\\\\\n",
       "\\end{tabular}\n"
      ],
      "text/markdown": [
       "\n",
       "A data.frame: 6 × 17\n",
       "\n",
       "| <!--/--> | REF_DATE &lt;chr&gt; | GEO &lt;chr&gt; | DGUID &lt;chr&gt; | Supply.and.disposition &lt;chr&gt; | Products &lt;chr&gt; | Unit.of.measure &lt;chr&gt; | UOM &lt;chr&gt; | UOM_ID &lt;int&gt; | SCALAR_FACTOR &lt;chr&gt; | SCALAR_ID &lt;int&gt; | VECTOR &lt;chr&gt; | COORDINATE &lt;chr&gt; | VALUE &lt;int&gt; | STATUS &lt;lgl&gt; | SYMBOL &lt;lgl&gt; | TERMINATED &lt;lgl&gt; | DECIMALS &lt;int&gt; |\n",
       "|---|---|---|---|---|---|---|---|---|---|---|---|---|---|---|---|---|---|\n",
       "| 1 | 2022-01 | Newfoundland and Labrador | 2016A000210 | Exports, disposition | Finished petroleum products | Cubic metres | Cubic metres | 72 | units | 0 | v1251227626 | 2.9.17.1 | 3518 | NA | NA | NA | 0 |\n",
       "| 2 | 2022-02 | Newfoundland and Labrador | 2016A000210 | Exports, disposition | Finished petroleum products | Cubic metres | Cubic metres | 72 | units | 0 | v1251227626 | 2.9.17.1 | 3510 | NA | NA | NA | 0 |\n",
       "| 3 | 2022-03 | Newfoundland and Labrador | 2016A000210 | Exports, disposition | Finished petroleum products | Cubic metres | Cubic metres | 72 | units | 0 | v1251227626 | 2.9.17.1 | 3454 | NA | NA | NA | 0 |\n",
       "| 4 | 2022-04 | Newfoundland and Labrador | 2016A000210 | Exports, disposition | Finished petroleum products | Cubic metres | Cubic metres | 72 | units | 0 | v1251227626 | 2.9.17.1 |    0 | NA | NA | NA | 0 |\n",
       "| 5 | 2022-05 | Newfoundland and Labrador | 2016A000210 | Exports, disposition | Finished petroleum products | Cubic metres | Cubic metres | 72 | units | 0 | v1251227626 | 2.9.17.1 | 2513 | NA | NA | NA | 0 |\n",
       "| 6 | 2022-06 | Newfoundland and Labrador | 2016A000210 | Exports, disposition | Finished petroleum products | Cubic metres | Cubic metres | 72 | units | 0 | v1251227626 | 2.9.17.1 | 3400 | NA | NA | NA | 0 |\n",
       "\n"
      ],
      "text/plain": [
       "  REF_DATE GEO                       DGUID       Supply.and.disposition\n",
       "1 2022-01  Newfoundland and Labrador 2016A000210 Exports, disposition  \n",
       "2 2022-02  Newfoundland and Labrador 2016A000210 Exports, disposition  \n",
       "3 2022-03  Newfoundland and Labrador 2016A000210 Exports, disposition  \n",
       "4 2022-04  Newfoundland and Labrador 2016A000210 Exports, disposition  \n",
       "5 2022-05  Newfoundland and Labrador 2016A000210 Exports, disposition  \n",
       "6 2022-06  Newfoundland and Labrador 2016A000210 Exports, disposition  \n",
       "  Products                    Unit.of.measure UOM          UOM_ID SCALAR_FACTOR\n",
       "1 Finished petroleum products Cubic metres    Cubic metres 72     units        \n",
       "2 Finished petroleum products Cubic metres    Cubic metres 72     units        \n",
       "3 Finished petroleum products Cubic metres    Cubic metres 72     units        \n",
       "4 Finished petroleum products Cubic metres    Cubic metres 72     units        \n",
       "5 Finished petroleum products Cubic metres    Cubic metres 72     units        \n",
       "6 Finished petroleum products Cubic metres    Cubic metres 72     units        \n",
       "  SCALAR_ID VECTOR      COORDINATE VALUE STATUS SYMBOL TERMINATED DECIMALS\n",
       "1 0         v1251227626 2.9.17.1   3518  NA     NA     NA         0       \n",
       "2 0         v1251227626 2.9.17.1   3510  NA     NA     NA         0       \n",
       "3 0         v1251227626 2.9.17.1   3454  NA     NA     NA         0       \n",
       "4 0         v1251227626 2.9.17.1      0  NA     NA     NA         0       \n",
       "5 0         v1251227626 2.9.17.1   2513  NA     NA     NA         0       \n",
       "6 0         v1251227626 2.9.17.1   3400  NA     NA     NA         0       "
      ]
     },
     "metadata": {},
     "output_type": "display_data"
    }
   ],
   "source": [
    "oil2 <- read.csv(\"data/oildata/oil2.csv\")\n",
    "head(oil2)"
   ]
  }
 ],
 "metadata": {
  "kernelspec": {
   "display_name": "R",
   "language": "R",
   "name": "ir"
  },
  "language_info": {
   "codemirror_mode": "r",
   "file_extension": ".r",
   "mimetype": "text/x-r-source",
   "name": "R",
   "pygments_lexer": "r",
   "version": "4.3.3"
  }
 },
 "nbformat": 4,
 "nbformat_minor": 2
}
