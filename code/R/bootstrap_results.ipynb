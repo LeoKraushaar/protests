{
 "cells": [
  {
   "cell_type": "markdown",
   "metadata": {},
   "source": [
    "## Results of Bootstraps"
   ]
  },
  {
   "cell_type": "code",
   "execution_count": 2,
   "metadata": {
    "vscode": {
     "languageId": "r"
    }
   },
   "outputs": [],
   "source": [
    "setwd(\"/home/leoKraushaar/Documents/School/Year 3/Semester 2/STAT 413/Project/protests/\")"
   ]
  },
  {
   "cell_type": "code",
   "execution_count": 6,
   "metadata": {
    "vscode": {
     "languageId": "r"
    }
   },
   "outputs": [],
   "source": [
    "resamp_results <- read.csv(\"data/results/resamp_boot_results.csv\")[, -1]\n",
    "param_results <- read.csv(\"data/results/param_boot_results.csv\")[, -1]\n",
    "smooth_results <- read.csv(\"data/results/smooth_boot_results.csv\")[, -1]"
   ]
  },
  {
   "cell_type": "markdown",
   "metadata": {},
   "source": [
    "## Confidence intervals"
   ]
  },
  {
   "cell_type": "code",
   "execution_count": 15,
   "metadata": {
    "vscode": {
     "languageId": "r"
    }
   },
   "outputs": [
    {
     "name": "stderr",
     "output_type": "stream",
     "text": [
      "Warning message in cbind(parts$left, chars$ellip_h, parts$right, deparse.level = 0L):\n",
      "“number of rows of result is not a multiple of vector length (arg 2)”\n",
      "Warning message in cbind(parts$left, chars$ellip_h, parts$right, deparse.level = 0L):\n",
      "“number of rows of result is not a multiple of vector length (arg 2)”\n",
      "Warning message in cbind(parts$left, chars$ellip_h, parts$right, deparse.level = 0L):\n",
      "“number of rows of result is not a multiple of vector length (arg 2)”\n",
      "Warning message in cbind(parts$left, chars$ellip_h, parts$right, deparse.level = 0L):\n",
      "“number of rows of result is not a multiple of vector length (arg 2)”\n"
     ]
    },
    {
     "data": {
      "text/html": [
       "<table class=\"dataframe\">\n",
       "<caption>A data.frame: 0 × 25</caption>\n",
       "<thead>\n",
       "\t<tr><th scope=col>X.Intercept.</th><th scope=col>monthAugust</th><th scope=col>monthDecember</th><th scope=col>monthFebruary</th><th scope=col>monthJanuary</th><th scope=col>monthJuly</th><th scope=col>monthJune</th><th scope=col>monthMarch</th><th scope=col>monthMay</th><th scope=col>monthNovember</th><th scope=col>⋯</th><th scope=col>provNewfoundland.and.Labrador</th><th scope=col>provNorthwest.Territories</th><th scope=col>provNova.Scotia</th><th scope=col>provNunavut</th><th scope=col>provOntario</th><th scope=col>provPrince.Edward.Island</th><th scope=col>provQuebec</th><th scope=col>provSaskatchewan</th><th scope=col>provYukon</th><th scope=col>retail</th></tr>\n",
       "\t<tr><th scope=col>&lt;dbl&gt;</th><th scope=col>&lt;dbl&gt;</th><th scope=col>&lt;dbl&gt;</th><th scope=col>&lt;dbl&gt;</th><th scope=col>&lt;dbl&gt;</th><th scope=col>&lt;dbl&gt;</th><th scope=col>&lt;dbl&gt;</th><th scope=col>&lt;dbl&gt;</th><th scope=col>&lt;dbl&gt;</th><th scope=col>&lt;dbl&gt;</th><th scope=col>⋯</th><th scope=col>&lt;dbl&gt;</th><th scope=col>&lt;dbl&gt;</th><th scope=col>&lt;dbl&gt;</th><th scope=col>&lt;dbl&gt;</th><th scope=col>&lt;dbl&gt;</th><th scope=col>&lt;dbl&gt;</th><th scope=col>&lt;dbl&gt;</th><th scope=col>&lt;dbl&gt;</th><th scope=col>&lt;dbl&gt;</th><th scope=col>&lt;dbl&gt;</th></tr>\n",
       "</thead>\n",
       "<tbody>\n",
       "</tbody>\n",
       "</table>\n"
      ],
      "text/latex": [
       "A data.frame: 0 × 25\n",
       "\\begin{tabular}{lllllllllllllllllllll}\n",
       " X.Intercept. & monthAugust & monthDecember & monthFebruary & monthJanuary & monthJuly & monthJune & monthMarch & monthMay & monthNovember & ⋯ & provNewfoundland.and.Labrador & provNorthwest.Territories & provNova.Scotia & provNunavut & provOntario & provPrince.Edward.Island & provQuebec & provSaskatchewan & provYukon & retail\\\\\n",
       " <dbl> & <dbl> & <dbl> & <dbl> & <dbl> & <dbl> & <dbl> & <dbl> & <dbl> & <dbl> & ⋯ & <dbl> & <dbl> & <dbl> & <dbl> & <dbl> & <dbl> & <dbl> & <dbl> & <dbl> & <dbl>\\\\\n",
       "\\hline\n",
       "\\end{tabular}\n"
      ],
      "text/markdown": [
       "\n",
       "A data.frame: 0 × 25\n",
       "\n",
       "| X.Intercept. &lt;dbl&gt; | monthAugust &lt;dbl&gt; | monthDecember &lt;dbl&gt; | monthFebruary &lt;dbl&gt; | monthJanuary &lt;dbl&gt; | monthJuly &lt;dbl&gt; | monthJune &lt;dbl&gt; | monthMarch &lt;dbl&gt; | monthMay &lt;dbl&gt; | monthNovember &lt;dbl&gt; | ⋯ ⋯ | provNewfoundland.and.Labrador &lt;dbl&gt; | provNorthwest.Territories &lt;dbl&gt; | provNova.Scotia &lt;dbl&gt; | provNunavut &lt;dbl&gt; | provOntario &lt;dbl&gt; | provPrince.Edward.Island &lt;dbl&gt; | provQuebec &lt;dbl&gt; | provSaskatchewan &lt;dbl&gt; | provYukon &lt;dbl&gt; | retail &lt;dbl&gt; |\n",
       "|---|---|---|---|---|---|---|---|---|---|---|---|---|---|---|---|---|---|---|---|---|\n",
       "\n"
      ],
      "text/plain": [
       "     X.Intercept. monthAugust monthDecember monthFebruary monthJanuary\n",
       "     monthJuly monthJune monthMarch monthMay monthNovember ⋯\n",
       "     provNewfoundland.and.Labrador provNorthwest.Territories provNova.Scotia\n",
       "     provNunavut provOntario provPrince.Edward.Island provQuebec\n",
       "     provSaskatchewan provYukon retail"
      ]
     },
     "metadata": {},
     "output_type": "display_data"
    }
   ],
   "source": [
    "# Get rows with NA values\n",
    "na_rows <- resamp_results[apply(is.na(resamp_results), 1, any), ]\n",
    "na_rows"
   ]
  },
  {
   "cell_type": "code",
   "execution_count": 24,
   "metadata": {
    "vscode": {
     "languageId": "r"
    }
   },
   "outputs": [],
   "source": [
    "conf_cols <- c(\"X.Intercept.\", \"retail\")"
   ]
  },
  {
   "cell_type": "code",
   "execution_count": 26,
   "metadata": {
    "vscode": {
     "languageId": "r"
    }
   },
   "outputs": [],
   "source": [
    "resamp_conf <- resamp_results[, conf_cols]\n",
    "param_conf <- param_results[, conf_cols]\n",
    "smooth_conf <- smooth_results[, conf_cols]"
   ]
  },
  {
   "cell_type": "code",
   "execution_count": null,
   "metadata": {
    "vscode": {
     "languageId": "r"
    }
   },
   "outputs": [],
   "source": []
  }
 ],
 "metadata": {
  "kernelspec": {
   "display_name": "R",
   "language": "R",
   "name": "ir"
  },
  "language_info": {
   "codemirror_mode": "r",
   "file_extension": ".r",
   "mimetype": "text/x-r-source",
   "name": "R",
   "pygments_lexer": "r",
   "version": "4.2.3"
  }
 },
 "nbformat": 4,
 "nbformat_minor": 2
}
