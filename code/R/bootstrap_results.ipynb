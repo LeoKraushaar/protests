{
 "cells": [
  {
   "cell_type": "markdown",
   "metadata": {},
   "source": [
    "## Results of Bootstraps"
   ]
  },
  {
   "cell_type": "code",
   "execution_count": 99,
   "metadata": {
    "vscode": {
     "languageId": "r"
    }
   },
   "outputs": [],
   "source": [
    "library(dplyr)"
   ]
  },
  {
   "cell_type": "code",
   "execution_count": 100,
   "metadata": {
    "vscode": {
     "languageId": "r"
    }
   },
   "outputs": [],
   "source": [
    "setwd(\"/home/leoKraushaar/Documents/School/Year 3/Semester 2/STAT 413/Project/protests/\")"
   ]
  },
  {
   "cell_type": "code",
   "execution_count": 101,
   "metadata": {
    "vscode": {
     "languageId": "r"
    }
   },
   "outputs": [],
   "source": [
    "resamp_results <- read.csv(\"data/results/resamp_boot_results.csv\")[, -1]\n",
    "param_results <- read.csv(\"data/results/param_boot_results.csv\")[, -1]\n",
    "smooth_results <- read.csv(\"data/results/smooth_boot_results.csv\")[, -1]"
   ]
  },
  {
   "cell_type": "markdown",
   "metadata": {},
   "source": [
    "## Confidence intervals"
   ]
  },
  {
   "cell_type": "code",
   "execution_count": 102,
   "metadata": {
    "vscode": {
     "languageId": "r"
    }
   },
   "outputs": [],
   "source": [
    "interval <- function(X, alpha=0.05) {\n",
    "\n",
    "    quantiles <- quantile(X, probs = c(alpha/2, 1/2, 1-(alpha/2)))\n",
    "    return(quantiles)\n",
    "\n",
    "}"
   ]
  },
  {
   "cell_type": "code",
   "execution_count": 103,
   "metadata": {
    "vscode": {
     "languageId": "r"
    }
   },
   "outputs": [],
   "source": [
    "conf_cols <- c(\"X.Intercept.\", \"retail\")"
   ]
  },
  {
   "cell_type": "code",
   "execution_count": 104,
   "metadata": {
    "vscode": {
     "languageId": "r"
    }
   },
   "outputs": [],
   "source": [
    "resamp_conf <- resamp_results[, conf_cols]\n",
    "param_conf <- param_results[, conf_cols]\n",
    "smooth_conf <- smooth_results[, conf_cols]"
   ]
  },
  {
   "cell_type": "code",
   "execution_count": 105,
   "metadata": {
    "vscode": {
     "languageId": "r"
    }
   },
   "outputs": [
    {
     "data": {
      "text/html": [
       "<table class=\"dataframe\">\n",
       "<caption>A data.frame: 6 × 26</caption>\n",
       "<thead>\n",
       "\t<tr><th></th><th scope=col>X.Intercept.</th><th scope=col>monthAugust</th><th scope=col>monthDecember</th><th scope=col>monthFebruary</th><th scope=col>monthJanuary</th><th scope=col>monthJuly</th><th scope=col>monthJune</th><th scope=col>monthMarch</th><th scope=col>monthMay</th><th scope=col>monthNovember</th><th scope=col>⋯</th><th scope=col>provNorthwest.Territories</th><th scope=col>provNova.Scotia</th><th scope=col>provNunavut</th><th scope=col>provOntario</th><th scope=col>provPrince.Edward.Island</th><th scope=col>provQuebec</th><th scope=col>provSaskatchewan</th><th scope=col>provYukon</th><th scope=col>retail</th><th scope=col>type</th></tr>\n",
       "\t<tr><th></th><th scope=col>&lt;dbl&gt;</th><th scope=col>&lt;dbl&gt;</th><th scope=col>&lt;dbl&gt;</th><th scope=col>&lt;dbl&gt;</th><th scope=col>&lt;dbl&gt;</th><th scope=col>&lt;dbl&gt;</th><th scope=col>&lt;dbl&gt;</th><th scope=col>&lt;dbl&gt;</th><th scope=col>&lt;dbl&gt;</th><th scope=col>&lt;dbl&gt;</th><th scope=col>⋯</th><th scope=col>&lt;dbl&gt;</th><th scope=col>&lt;dbl&gt;</th><th scope=col>&lt;dbl&gt;</th><th scope=col>&lt;dbl&gt;</th><th scope=col>&lt;dbl&gt;</th><th scope=col>&lt;dbl&gt;</th><th scope=col>&lt;dbl&gt;</th><th scope=col>&lt;dbl&gt;</th><th scope=col>&lt;dbl&gt;</th><th scope=col>&lt;fct&gt;</th></tr>\n",
       "</thead>\n",
       "<tbody>\n",
       "\t<tr><th scope=row>1</th><td>3.419547</td><td>-0.7037457</td><td>-0.6483113</td><td>0.09734868</td><td>-0.28381661</td><td>-0.3234719</td><td>-0.3160214</td><td>-0.07238667</td><td>-0.07598219</td><td>-0.273993547</td><td>⋯</td><td>-4.816554</td><td>-2.270714</td><td>-4.556042</td><td>5.586982</td><td>-3.603132</td><td>2.234088</td><td>-2.230005</td><td>-4.051911</td><td>-1.759169</td><td>R</td></tr>\n",
       "\t<tr><th scope=row>2</th><td>3.684708</td><td>-0.4632654</td><td>-0.3630316</td><td>0.40620001</td><td>-0.41589185</td><td>-0.6241891</td><td>-0.2323643</td><td>-0.03852589</td><td> 0.12844123</td><td>-0.016290662</td><td>⋯</td><td>-5.342008</td><td>-2.706440</td><td>-5.167822</td><td>5.848509</td><td>-4.301684</td><td>2.302017</td><td>-2.822927</td><td>-4.161925</td><td>-1.998320</td><td>R</td></tr>\n",
       "\t<tr><th scope=row>3</th><td>4.063082</td><td>-0.8329432</td><td>-0.6244357</td><td>0.06845974</td><td>-0.53517764</td><td>-0.7537557</td><td>-0.4686015</td><td>-0.13721907</td><td>-0.06878941</td><td>-0.085642501</td><td>⋯</td><td>-6.938115</td><td>-2.913779</td><td>-5.907097</td><td>7.184226</td><td>-5.190024</td><td>2.831290</td><td>-3.193593</td><td>-5.034360</td><td>-2.615975</td><td>R</td></tr>\n",
       "\t<tr><th scope=row>4</th><td>3.913602</td><td>-0.5064475</td><td>-0.3399569</td><td>0.25306331</td><td>-0.24593976</td><td>-0.5368325</td><td>-0.1977150</td><td>-0.08544557</td><td> 0.28309304</td><td> 0.118474554</td><td>⋯</td><td>-6.105290</td><td>-3.111887</td><td>-5.921944</td><td>7.027420</td><td>-5.156367</td><td>2.627348</td><td>-3.391594</td><td>-5.108888</td><td>-2.504214</td><td>R</td></tr>\n",
       "\t<tr><th scope=row>5</th><td>3.332427</td><td>-0.9068816</td><td>-0.5865708</td><td>0.16179431</td><td>-0.01858884</td><td>-0.5287837</td><td>-0.3921006</td><td> 0.04936305</td><td>-0.25766438</td><td> 0.006255248</td><td>⋯</td><td>-5.062644</td><td>-2.111954</td><td>-4.348641</td><td>4.862257</td><td>-3.701271</td><td>1.892062</td><td>-2.084811</td><td>-3.869974</td><td>-1.485413</td><td>R</td></tr>\n",
       "\t<tr><th scope=row>6</th><td>3.237874</td><td>-0.6681563</td><td>-0.3577321</td><td>0.04013963</td><td>-0.22421392</td><td>-0.5389148</td><td>-0.4236108</td><td>-0.07100482</td><td>-0.11239253</td><td>-0.185383498</td><td>⋯</td><td>-4.373814</td><td>-1.618526</td><td>-3.596865</td><td>4.153077</td><td>-3.199920</td><td>1.672639</td><td>-1.821908</td><td>-3.304254</td><td>-1.201030</td><td>R</td></tr>\n",
       "</tbody>\n",
       "</table>\n"
      ],
      "text/latex": [
       "A data.frame: 6 × 26\n",
       "\\begin{tabular}{r|lllllllllllllllllllll}\n",
       "  & X.Intercept. & monthAugust & monthDecember & monthFebruary & monthJanuary & monthJuly & monthJune & monthMarch & monthMay & monthNovember & ⋯ & provNorthwest.Territories & provNova.Scotia & provNunavut & provOntario & provPrince.Edward.Island & provQuebec & provSaskatchewan & provYukon & retail & type\\\\\n",
       "  & <dbl> & <dbl> & <dbl> & <dbl> & <dbl> & <dbl> & <dbl> & <dbl> & <dbl> & <dbl> & ⋯ & <dbl> & <dbl> & <dbl> & <dbl> & <dbl> & <dbl> & <dbl> & <dbl> & <dbl> & <fct>\\\\\n",
       "\\hline\n",
       "\t1 & 3.419547 & -0.7037457 & -0.6483113 & 0.09734868 & -0.28381661 & -0.3234719 & -0.3160214 & -0.07238667 & -0.07598219 & -0.273993547 & ⋯ & -4.816554 & -2.270714 & -4.556042 & 5.586982 & -3.603132 & 2.234088 & -2.230005 & -4.051911 & -1.759169 & R\\\\\n",
       "\t2 & 3.684708 & -0.4632654 & -0.3630316 & 0.40620001 & -0.41589185 & -0.6241891 & -0.2323643 & -0.03852589 &  0.12844123 & -0.016290662 & ⋯ & -5.342008 & -2.706440 & -5.167822 & 5.848509 & -4.301684 & 2.302017 & -2.822927 & -4.161925 & -1.998320 & R\\\\\n",
       "\t3 & 4.063082 & -0.8329432 & -0.6244357 & 0.06845974 & -0.53517764 & -0.7537557 & -0.4686015 & -0.13721907 & -0.06878941 & -0.085642501 & ⋯ & -6.938115 & -2.913779 & -5.907097 & 7.184226 & -5.190024 & 2.831290 & -3.193593 & -5.034360 & -2.615975 & R\\\\\n",
       "\t4 & 3.913602 & -0.5064475 & -0.3399569 & 0.25306331 & -0.24593976 & -0.5368325 & -0.1977150 & -0.08544557 &  0.28309304 &  0.118474554 & ⋯ & -6.105290 & -3.111887 & -5.921944 & 7.027420 & -5.156367 & 2.627348 & -3.391594 & -5.108888 & -2.504214 & R\\\\\n",
       "\t5 & 3.332427 & -0.9068816 & -0.5865708 & 0.16179431 & -0.01858884 & -0.5287837 & -0.3921006 &  0.04936305 & -0.25766438 &  0.006255248 & ⋯ & -5.062644 & -2.111954 & -4.348641 & 4.862257 & -3.701271 & 1.892062 & -2.084811 & -3.869974 & -1.485413 & R\\\\\n",
       "\t6 & 3.237874 & -0.6681563 & -0.3577321 & 0.04013963 & -0.22421392 & -0.5389148 & -0.4236108 & -0.07100482 & -0.11239253 & -0.185383498 & ⋯ & -4.373814 & -1.618526 & -3.596865 & 4.153077 & -3.199920 & 1.672639 & -1.821908 & -3.304254 & -1.201030 & R\\\\\n",
       "\\end{tabular}\n"
      ],
      "text/markdown": [
       "\n",
       "A data.frame: 6 × 26\n",
       "\n",
       "| <!--/--> | X.Intercept. &lt;dbl&gt; | monthAugust &lt;dbl&gt; | monthDecember &lt;dbl&gt; | monthFebruary &lt;dbl&gt; | monthJanuary &lt;dbl&gt; | monthJuly &lt;dbl&gt; | monthJune &lt;dbl&gt; | monthMarch &lt;dbl&gt; | monthMay &lt;dbl&gt; | monthNovember &lt;dbl&gt; | ⋯ ⋯ | provNorthwest.Territories &lt;dbl&gt; | provNova.Scotia &lt;dbl&gt; | provNunavut &lt;dbl&gt; | provOntario &lt;dbl&gt; | provPrince.Edward.Island &lt;dbl&gt; | provQuebec &lt;dbl&gt; | provSaskatchewan &lt;dbl&gt; | provYukon &lt;dbl&gt; | retail &lt;dbl&gt; | type &lt;fct&gt; |\n",
       "|---|---|---|---|---|---|---|---|---|---|---|---|---|---|---|---|---|---|---|---|---|---|\n",
       "| 1 | 3.419547 | -0.7037457 | -0.6483113 | 0.09734868 | -0.28381661 | -0.3234719 | -0.3160214 | -0.07238667 | -0.07598219 | -0.273993547 | ⋯ | -4.816554 | -2.270714 | -4.556042 | 5.586982 | -3.603132 | 2.234088 | -2.230005 | -4.051911 | -1.759169 | R |\n",
       "| 2 | 3.684708 | -0.4632654 | -0.3630316 | 0.40620001 | -0.41589185 | -0.6241891 | -0.2323643 | -0.03852589 |  0.12844123 | -0.016290662 | ⋯ | -5.342008 | -2.706440 | -5.167822 | 5.848509 | -4.301684 | 2.302017 | -2.822927 | -4.161925 | -1.998320 | R |\n",
       "| 3 | 4.063082 | -0.8329432 | -0.6244357 | 0.06845974 | -0.53517764 | -0.7537557 | -0.4686015 | -0.13721907 | -0.06878941 | -0.085642501 | ⋯ | -6.938115 | -2.913779 | -5.907097 | 7.184226 | -5.190024 | 2.831290 | -3.193593 | -5.034360 | -2.615975 | R |\n",
       "| 4 | 3.913602 | -0.5064475 | -0.3399569 | 0.25306331 | -0.24593976 | -0.5368325 | -0.1977150 | -0.08544557 |  0.28309304 |  0.118474554 | ⋯ | -6.105290 | -3.111887 | -5.921944 | 7.027420 | -5.156367 | 2.627348 | -3.391594 | -5.108888 | -2.504214 | R |\n",
       "| 5 | 3.332427 | -0.9068816 | -0.5865708 | 0.16179431 | -0.01858884 | -0.5287837 | -0.3921006 |  0.04936305 | -0.25766438 |  0.006255248 | ⋯ | -5.062644 | -2.111954 | -4.348641 | 4.862257 | -3.701271 | 1.892062 | -2.084811 | -3.869974 | -1.485413 | R |\n",
       "| 6 | 3.237874 | -0.6681563 | -0.3577321 | 0.04013963 | -0.22421392 | -0.5389148 | -0.4236108 | -0.07100482 | -0.11239253 | -0.185383498 | ⋯ | -4.373814 | -1.618526 | -3.596865 | 4.153077 | -3.199920 | 1.672639 | -1.821908 | -3.304254 | -1.201030 | R |\n",
       "\n"
      ],
      "text/plain": [
       "  X.Intercept. monthAugust monthDecember monthFebruary monthJanuary monthJuly \n",
       "1 3.419547     -0.7037457  -0.6483113    0.09734868    -0.28381661  -0.3234719\n",
       "2 3.684708     -0.4632654  -0.3630316    0.40620001    -0.41589185  -0.6241891\n",
       "3 4.063082     -0.8329432  -0.6244357    0.06845974    -0.53517764  -0.7537557\n",
       "4 3.913602     -0.5064475  -0.3399569    0.25306331    -0.24593976  -0.5368325\n",
       "5 3.332427     -0.9068816  -0.5865708    0.16179431    -0.01858884  -0.5287837\n",
       "6 3.237874     -0.6681563  -0.3577321    0.04013963    -0.22421392  -0.5389148\n",
       "  monthJune  monthMarch  monthMay    monthNovember ⋯ provNorthwest.Territories\n",
       "1 -0.3160214 -0.07238667 -0.07598219 -0.273993547  ⋯ -4.816554                \n",
       "2 -0.2323643 -0.03852589  0.12844123 -0.016290662  ⋯ -5.342008                \n",
       "3 -0.4686015 -0.13721907 -0.06878941 -0.085642501  ⋯ -6.938115                \n",
       "4 -0.1977150 -0.08544557  0.28309304  0.118474554  ⋯ -6.105290                \n",
       "5 -0.3921006  0.04936305 -0.25766438  0.006255248  ⋯ -5.062644                \n",
       "6 -0.4236108 -0.07100482 -0.11239253 -0.185383498  ⋯ -4.373814                \n",
       "  provNova.Scotia provNunavut provOntario provPrince.Edward.Island provQuebec\n",
       "1 -2.270714       -4.556042   5.586982    -3.603132                2.234088  \n",
       "2 -2.706440       -5.167822   5.848509    -4.301684                2.302017  \n",
       "3 -2.913779       -5.907097   7.184226    -5.190024                2.831290  \n",
       "4 -3.111887       -5.921944   7.027420    -5.156367                2.627348  \n",
       "5 -2.111954       -4.348641   4.862257    -3.701271                1.892062  \n",
       "6 -1.618526       -3.596865   4.153077    -3.199920                1.672639  \n",
       "  provSaskatchewan provYukon retail    type\n",
       "1 -2.230005        -4.051911 -1.759169 R   \n",
       "2 -2.822927        -4.161925 -1.998320 R   \n",
       "3 -3.193593        -5.034360 -2.615975 R   \n",
       "4 -3.391594        -5.108888 -2.504214 R   \n",
       "5 -2.084811        -3.869974 -1.485413 R   \n",
       "6 -1.821908        -3.304254 -1.201030 R   "
      ]
     },
     "metadata": {},
     "output_type": "display_data"
    }
   ],
   "source": [
    "params <- rbind(resamp_results, param_results, smooth_results)\n",
    "type <- factor(rep(c(\"R\", \"P\", \"S\"), each=10000))\n",
    "\n",
    "results <- data.frame(params, type=type)\n",
    "head(results)"
   ]
  },
  {
   "cell_type": "code",
   "execution_count": 106,
   "metadata": {
    "vscode": {
     "languageId": "r"
    }
   },
   "outputs": [
    {
     "data": {
      "text/html": [
       "<style>\n",
       ".list-inline {list-style: none; margin:0; padding: 0}\n",
       ".list-inline>li {display: inline-block}\n",
       ".list-inline>li:not(:last-child)::after {content: \"\\00b7\"; padding: 0 .5ex}\n",
       "</style>\n",
       "<ol class=list-inline><li>'X.Intercept.'</li><li>'monthAugust'</li><li>'monthDecember'</li><li>'monthFebruary'</li><li>'monthJanuary'</li><li>'monthJuly'</li><li>'monthJune'</li><li>'monthMarch'</li><li>'monthMay'</li><li>'monthNovember'</li><li>'monthOctober'</li><li>'monthSeptember'</li><li>'provBritish.Columbia'</li><li>'provManitoba'</li><li>'provNew.Brunswick'</li><li>'provNewfoundland.and.Labrador'</li><li>'provNorthwest.Territories'</li><li>'provNova.Scotia'</li><li>'provNunavut'</li><li>'provOntario'</li><li>'provPrince.Edward.Island'</li><li>'provQuebec'</li><li>'provSaskatchewan'</li><li>'provYukon'</li><li>'retail'</li></ol>\n"
      ],
      "text/latex": [
       "\\begin{enumerate*}\n",
       "\\item 'X.Intercept.'\n",
       "\\item 'monthAugust'\n",
       "\\item 'monthDecember'\n",
       "\\item 'monthFebruary'\n",
       "\\item 'monthJanuary'\n",
       "\\item 'monthJuly'\n",
       "\\item 'monthJune'\n",
       "\\item 'monthMarch'\n",
       "\\item 'monthMay'\n",
       "\\item 'monthNovember'\n",
       "\\item 'monthOctober'\n",
       "\\item 'monthSeptember'\n",
       "\\item 'provBritish.Columbia'\n",
       "\\item 'provManitoba'\n",
       "\\item 'provNew.Brunswick'\n",
       "\\item 'provNewfoundland.and.Labrador'\n",
       "\\item 'provNorthwest.Territories'\n",
       "\\item 'provNova.Scotia'\n",
       "\\item 'provNunavut'\n",
       "\\item 'provOntario'\n",
       "\\item 'provPrince.Edward.Island'\n",
       "\\item 'provQuebec'\n",
       "\\item 'provSaskatchewan'\n",
       "\\item 'provYukon'\n",
       "\\item 'retail'\n",
       "\\end{enumerate*}\n"
      ],
      "text/markdown": [
       "1. 'X.Intercept.'\n",
       "2. 'monthAugust'\n",
       "3. 'monthDecember'\n",
       "4. 'monthFebruary'\n",
       "5. 'monthJanuary'\n",
       "6. 'monthJuly'\n",
       "7. 'monthJune'\n",
       "8. 'monthMarch'\n",
       "9. 'monthMay'\n",
       "10. 'monthNovember'\n",
       "11. 'monthOctober'\n",
       "12. 'monthSeptember'\n",
       "13. 'provBritish.Columbia'\n",
       "14. 'provManitoba'\n",
       "15. 'provNew.Brunswick'\n",
       "16. 'provNewfoundland.and.Labrador'\n",
       "17. 'provNorthwest.Territories'\n",
       "18. 'provNova.Scotia'\n",
       "19. 'provNunavut'\n",
       "20. 'provOntario'\n",
       "21. 'provPrince.Edward.Island'\n",
       "22. 'provQuebec'\n",
       "23. 'provSaskatchewan'\n",
       "24. 'provYukon'\n",
       "25. 'retail'\n",
       "\n",
       "\n"
      ],
      "text/plain": [
       " [1] \"X.Intercept.\"                  \"monthAugust\"                  \n",
       " [3] \"monthDecember\"                 \"monthFebruary\"                \n",
       " [5] \"monthJanuary\"                  \"monthJuly\"                    \n",
       " [7] \"monthJune\"                     \"monthMarch\"                   \n",
       " [9] \"monthMay\"                      \"monthNovember\"                \n",
       "[11] \"monthOctober\"                  \"monthSeptember\"               \n",
       "[13] \"provBritish.Columbia\"          \"provManitoba\"                 \n",
       "[15] \"provNew.Brunswick\"             \"provNewfoundland.and.Labrador\"\n",
       "[17] \"provNorthwest.Territories\"     \"provNova.Scotia\"              \n",
       "[19] \"provNunavut\"                   \"provOntario\"                  \n",
       "[21] \"provPrince.Edward.Island\"      \"provQuebec\"                   \n",
       "[23] \"provSaskatchewan\"              \"provYukon\"                    \n",
       "[25] \"retail\"                       "
      ]
     },
     "metadata": {},
     "output_type": "display_data"
    }
   ],
   "source": [
    "non_group <- colnames(results)[1:ncol(results)-1]\n",
    "non_group"
   ]
  },
  {
   "cell_type": "code",
   "execution_count": 107,
   "metadata": {
    "vscode": {
     "languageId": "r"
    }
   },
   "outputs": [],
   "source": [
    "split_data <- split(results, type)"
   ]
  },
  {
   "cell_type": "code",
   "execution_count": 108,
   "metadata": {
    "vscode": {
     "languageId": "r"
    }
   },
   "outputs": [],
   "source": [
    "alpha = 0.05\n",
    "\n",
    "R_intervals <- apply(X=split_data$R[1:ncol(results)-1], MARGIN = 2, FUN = function(X) interval(X, alpha))\n",
    "S_intervals <- apply(X=split_data$S[1:ncol(results)-1], MARGIN = 2, FUN = function(X) interval(X, alpha))\n",
    "P_intervals <- apply(X=split_data$P[1:ncol(results)-1], MARGIN = 2, FUN = function(X) interval(X, alpha))"
   ]
  },
  {
   "cell_type": "code",
   "execution_count": 109,
   "metadata": {
    "vscode": {
     "languageId": "r"
    }
   },
   "outputs": [
    {
     "data": {
      "text/html": [
       "<table class=\"dataframe\">\n",
       "<caption>A matrix: 6 × 25 of type dbl</caption>\n",
       "<thead>\n",
       "\t<tr><th></th><th scope=col>X.Intercept.</th><th scope=col>monthAugust</th><th scope=col>monthDecember</th><th scope=col>monthFebruary</th><th scope=col>monthJanuary</th><th scope=col>monthJuly</th><th scope=col>monthJune</th><th scope=col>monthMarch</th><th scope=col>monthMay</th><th scope=col>monthNovember</th><th scope=col>⋯</th><th scope=col>provNewfoundland.and.Labrador</th><th scope=col>provNorthwest.Territories</th><th scope=col>provNova.Scotia</th><th scope=col>provNunavut</th><th scope=col>provOntario</th><th scope=col>provPrince.Edward.Island</th><th scope=col>provQuebec</th><th scope=col>provSaskatchewan</th><th scope=col>provYukon</th><th scope=col>retail</th></tr>\n",
       "</thead>\n",
       "<tbody>\n",
       "\t<tr><th scope=row>2.5%</th><td>2.638309</td><td>-1.0229295</td><td>-1.0701652</td><td>-0.26108623</td><td>-0.64173662</td><td>-0.8658241</td><td>-0.61464556</td><td>-0.39428989</td><td>-0.29580267</td><td>-0.36906203</td><td>⋯</td><td>-5.0485390</td><td>-7.806216</td><td>-4.1767948</td><td>-7.282184</td><td>0.9579893</td><td>-6.303204</td><td>0.4876520</td><td>-4.2929951</td><td>-6.385641</td><td>-3.7019535</td></tr>\n",
       "\t<tr><th scope=row>50%</th><td>3.628191</td><td>-0.7056586</td><td>-0.6245194</td><td> 0.04049621</td><td>-0.33758821</td><td>-0.5557459</td><td>-0.34822169</td><td>-0.11072902</td><td>-0.03368485</td><td>-0.08142928</td><td>⋯</td><td>-3.0262273</td><td>-5.366742</td><td>-2.3706158</td><td>-4.965609</td><td>5.5160061</td><td>-4.074371</td><td>2.1695168</td><td>-2.5559863</td><td>-4.101573</td><td>-1.8132160</td></tr>\n",
       "\t<tr><th scope=row>97.5%</th><td>4.568404</td><td>-0.3978743</td><td>-0.2925250</td><td> 0.35553723</td><td>-0.02436095</td><td>-0.2321302</td><td>-0.08520719</td><td> 0.17876543</td><td> 0.24665471</td><td> 0.19893386</td><td>⋯</td><td>-0.8553648</td><td>-2.901829</td><td>-0.4351734</td><td>-2.525225</td><td>9.8078010</td><td>-1.722228</td><td>3.7928805</td><td>-0.7314359</td><td>-1.704820</td><td> 0.1771964</td></tr>\n",
       "\t<tr><th scope=row>2.5%</th><td>2.599840</td><td>-0.7392548</td><td>-0.6666652</td><td> 0.03079520</td><td>-0.34514988</td><td>-0.5876867</td><td>-0.40631433</td><td>-0.11841013</td><td>-0.06996519</td><td>-0.12405443</td><td>⋯</td><td>-2.4252815</td><td>-4.642832</td><td>-1.8351299</td><td>-4.267809</td><td>0.2485059</td><td>-3.424828</td><td>0.1761791</td><td>-2.0445672</td><td>-3.421056</td><td>-1.2413126</td></tr>\n",
       "\t<tr><th scope=row>50%</th><td>2.994796</td><td>-0.7183025</td><td>-0.6375412</td><td> 0.06271544</td><td>-0.31525530</td><td>-0.5663874</td><td>-0.38632408</td><td>-0.08585255</td><td>-0.05109097</td><td>-0.10487259</td><td>⋯</td><td>-1.5546172</td><td>-3.674053</td><td>-1.0631562</td><td>-3.293716</td><td>2.2608940</td><td>-2.472446</td><td>0.9418302</td><td>-1.3107676</td><td>-2.452821</td><td>-0.4002061</td></tr>\n",
       "\t<tr><th scope=row>97.5%</th><td>3.377717</td><td>-0.6879196</td><td>-0.6020680</td><td> 0.08196318</td><td>-0.29507778</td><td>-0.5357578</td><td>-0.34639462</td><td>-0.06748073</td><td>-0.01771143</td><td>-0.06829058</td><td>⋯</td><td>-0.6543936</td><td>-2.666367</td><td>-0.2555632</td><td>-2.283702</td><td>4.1918577</td><td>-1.488201</td><td>1.6765313</td><td>-0.5490652</td><td>-1.443305</td><td> 0.4770314</td></tr>\n",
       "</tbody>\n",
       "</table>\n"
      ],
      "text/latex": [
       "A matrix: 6 × 25 of type dbl\n",
       "\\begin{tabular}{r|lllllllllllllllllllll}\n",
       "  & X.Intercept. & monthAugust & monthDecember & monthFebruary & monthJanuary & monthJuly & monthJune & monthMarch & monthMay & monthNovember & ⋯ & provNewfoundland.and.Labrador & provNorthwest.Territories & provNova.Scotia & provNunavut & provOntario & provPrince.Edward.Island & provQuebec & provSaskatchewan & provYukon & retail\\\\\n",
       "\\hline\n",
       "\t2.5\\% & 2.638309 & -1.0229295 & -1.0701652 & -0.26108623 & -0.64173662 & -0.8658241 & -0.61464556 & -0.39428989 & -0.29580267 & -0.36906203 & ⋯ & -5.0485390 & -7.806216 & -4.1767948 & -7.282184 & 0.9579893 & -6.303204 & 0.4876520 & -4.2929951 & -6.385641 & -3.7019535\\\\\n",
       "\t50\\% & 3.628191 & -0.7056586 & -0.6245194 &  0.04049621 & -0.33758821 & -0.5557459 & -0.34822169 & -0.11072902 & -0.03368485 & -0.08142928 & ⋯ & -3.0262273 & -5.366742 & -2.3706158 & -4.965609 & 5.5160061 & -4.074371 & 2.1695168 & -2.5559863 & -4.101573 & -1.8132160\\\\\n",
       "\t97.5\\% & 4.568404 & -0.3978743 & -0.2925250 &  0.35553723 & -0.02436095 & -0.2321302 & -0.08520719 &  0.17876543 &  0.24665471 &  0.19893386 & ⋯ & -0.8553648 & -2.901829 & -0.4351734 & -2.525225 & 9.8078010 & -1.722228 & 3.7928805 & -0.7314359 & -1.704820 &  0.1771964\\\\\n",
       "\t2.5\\% & 2.599840 & -0.7392548 & -0.6666652 &  0.03079520 & -0.34514988 & -0.5876867 & -0.40631433 & -0.11841013 & -0.06996519 & -0.12405443 & ⋯ & -2.4252815 & -4.642832 & -1.8351299 & -4.267809 & 0.2485059 & -3.424828 & 0.1761791 & -2.0445672 & -3.421056 & -1.2413126\\\\\n",
       "\t50\\% & 2.994796 & -0.7183025 & -0.6375412 &  0.06271544 & -0.31525530 & -0.5663874 & -0.38632408 & -0.08585255 & -0.05109097 & -0.10487259 & ⋯ & -1.5546172 & -3.674053 & -1.0631562 & -3.293716 & 2.2608940 & -2.472446 & 0.9418302 & -1.3107676 & -2.452821 & -0.4002061\\\\\n",
       "\t97.5\\% & 3.377717 & -0.6879196 & -0.6020680 &  0.08196318 & -0.29507778 & -0.5357578 & -0.34639462 & -0.06748073 & -0.01771143 & -0.06829058 & ⋯ & -0.6543936 & -2.666367 & -0.2555632 & -2.283702 & 4.1918577 & -1.488201 & 1.6765313 & -0.5490652 & -1.443305 &  0.4770314\\\\\n",
       "\\end{tabular}\n"
      ],
      "text/markdown": [
       "\n",
       "A matrix: 6 × 25 of type dbl\n",
       "\n",
       "| <!--/--> | X.Intercept. | monthAugust | monthDecember | monthFebruary | monthJanuary | monthJuly | monthJune | monthMarch | monthMay | monthNovember | ⋯ | provNewfoundland.and.Labrador | provNorthwest.Territories | provNova.Scotia | provNunavut | provOntario | provPrince.Edward.Island | provQuebec | provSaskatchewan | provYukon | retail |\n",
       "|---|---|---|---|---|---|---|---|---|---|---|---|---|---|---|---|---|---|---|---|---|---|\n",
       "| 2.5% | 2.638309 | -1.0229295 | -1.0701652 | -0.26108623 | -0.64173662 | -0.8658241 | -0.61464556 | -0.39428989 | -0.29580267 | -0.36906203 | ⋯ | -5.0485390 | -7.806216 | -4.1767948 | -7.282184 | 0.9579893 | -6.303204 | 0.4876520 | -4.2929951 | -6.385641 | -3.7019535 |\n",
       "| 50% | 3.628191 | -0.7056586 | -0.6245194 |  0.04049621 | -0.33758821 | -0.5557459 | -0.34822169 | -0.11072902 | -0.03368485 | -0.08142928 | ⋯ | -3.0262273 | -5.366742 | -2.3706158 | -4.965609 | 5.5160061 | -4.074371 | 2.1695168 | -2.5559863 | -4.101573 | -1.8132160 |\n",
       "| 97.5% | 4.568404 | -0.3978743 | -0.2925250 |  0.35553723 | -0.02436095 | -0.2321302 | -0.08520719 |  0.17876543 |  0.24665471 |  0.19893386 | ⋯ | -0.8553648 | -2.901829 | -0.4351734 | -2.525225 | 9.8078010 | -1.722228 | 3.7928805 | -0.7314359 | -1.704820 |  0.1771964 |\n",
       "| 2.5% | 2.599840 | -0.7392548 | -0.6666652 |  0.03079520 | -0.34514988 | -0.5876867 | -0.40631433 | -0.11841013 | -0.06996519 | -0.12405443 | ⋯ | -2.4252815 | -4.642832 | -1.8351299 | -4.267809 | 0.2485059 | -3.424828 | 0.1761791 | -2.0445672 | -3.421056 | -1.2413126 |\n",
       "| 50% | 2.994796 | -0.7183025 | -0.6375412 |  0.06271544 | -0.31525530 | -0.5663874 | -0.38632408 | -0.08585255 | -0.05109097 | -0.10487259 | ⋯ | -1.5546172 | -3.674053 | -1.0631562 | -3.293716 | 2.2608940 | -2.472446 | 0.9418302 | -1.3107676 | -2.452821 | -0.4002061 |\n",
       "| 97.5% | 3.377717 | -0.6879196 | -0.6020680 |  0.08196318 | -0.29507778 | -0.5357578 | -0.34639462 | -0.06748073 | -0.01771143 | -0.06829058 | ⋯ | -0.6543936 | -2.666367 | -0.2555632 | -2.283702 | 4.1918577 | -1.488201 | 1.6765313 | -0.5490652 | -1.443305 |  0.4770314 |\n",
       "\n"
      ],
      "text/plain": [
       "      X.Intercept. monthAugust monthDecember monthFebruary monthJanuary\n",
       "2.5%  2.638309     -1.0229295  -1.0701652    -0.26108623   -0.64173662 \n",
       "50%   3.628191     -0.7056586  -0.6245194     0.04049621   -0.33758821 \n",
       "97.5% 4.568404     -0.3978743  -0.2925250     0.35553723   -0.02436095 \n",
       "2.5%  2.599840     -0.7392548  -0.6666652     0.03079520   -0.34514988 \n",
       "50%   2.994796     -0.7183025  -0.6375412     0.06271544   -0.31525530 \n",
       "97.5% 3.377717     -0.6879196  -0.6020680     0.08196318   -0.29507778 \n",
       "      monthJuly  monthJune   monthMarch  monthMay    monthNovember ⋯\n",
       "2.5%  -0.8658241 -0.61464556 -0.39428989 -0.29580267 -0.36906203   ⋯\n",
       "50%   -0.5557459 -0.34822169 -0.11072902 -0.03368485 -0.08142928   ⋯\n",
       "97.5% -0.2321302 -0.08520719  0.17876543  0.24665471  0.19893386   ⋯\n",
       "2.5%  -0.5876867 -0.40631433 -0.11841013 -0.06996519 -0.12405443   ⋯\n",
       "50%   -0.5663874 -0.38632408 -0.08585255 -0.05109097 -0.10487259   ⋯\n",
       "97.5% -0.5357578 -0.34639462 -0.06748073 -0.01771143 -0.06829058   ⋯\n",
       "      provNewfoundland.and.Labrador provNorthwest.Territories provNova.Scotia\n",
       "2.5%  -5.0485390                    -7.806216                 -4.1767948     \n",
       "50%   -3.0262273                    -5.366742                 -2.3706158     \n",
       "97.5% -0.8553648                    -2.901829                 -0.4351734     \n",
       "2.5%  -2.4252815                    -4.642832                 -1.8351299     \n",
       "50%   -1.5546172                    -3.674053                 -1.0631562     \n",
       "97.5% -0.6543936                    -2.666367                 -0.2555632     \n",
       "      provNunavut provOntario provPrince.Edward.Island provQuebec\n",
       "2.5%  -7.282184   0.9579893   -6.303204                0.4876520 \n",
       "50%   -4.965609   5.5160061   -4.074371                2.1695168 \n",
       "97.5% -2.525225   9.8078010   -1.722228                3.7928805 \n",
       "2.5%  -4.267809   0.2485059   -3.424828                0.1761791 \n",
       "50%   -3.293716   2.2608940   -2.472446                0.9418302 \n",
       "97.5% -2.283702   4.1918577   -1.488201                1.6765313 \n",
       "      provSaskatchewan provYukon retail    \n",
       "2.5%  -4.2929951       -6.385641 -3.7019535\n",
       "50%   -2.5559863       -4.101573 -1.8132160\n",
       "97.5% -0.7314359       -1.704820  0.1771964\n",
       "2.5%  -2.0445672       -3.421056 -1.2413126\n",
       "50%   -1.3107676       -2.452821 -0.4002061\n",
       "97.5% -0.5490652       -1.443305  0.4770314"
      ]
     },
     "metadata": {},
     "output_type": "display_data"
    }
   ],
   "source": [
    "rbind(R_intervals, S_intervals)"
   ]
  },
  {
   "cell_type": "code",
   "execution_count": null,
   "metadata": {
    "vscode": {
     "languageId": "r"
    }
   },
   "outputs": [],
   "source": []
  },
  {
   "cell_type": "code",
   "execution_count": null,
   "metadata": {
    "vscode": {
     "languageId": "r"
    }
   },
   "outputs": [],
   "source": []
  },
  {
   "cell_type": "code",
   "execution_count": 120,
   "metadata": {
    "vscode": {
     "languageId": "r"
    }
   },
   "outputs": [],
   "source": [
    "intervals <- data.frame(\n",
    "                prob_lower = rep(c(\"2.5%\", \"50%\", \"97.5%\"), length=9),\n",
    "                method=rep(c(\"R\", \"S\", \"P\"), each=3),\n",
    "                rbind(R_intervals, S_intervals, P_intervals)\n",
    "                )\n",
    "\n",
    "rownames(intervals) <- NULL"
   ]
  },
  {
   "cell_type": "code",
   "execution_count": 121,
   "metadata": {
    "vscode": {
     "languageId": "r"
    }
   },
   "outputs": [
    {
     "data": {
      "text/html": [
       "<table class=\"dataframe\">\n",
       "<caption>A data.frame: 9 × 27</caption>\n",
       "<thead>\n",
       "\t<tr><th scope=col>prob_lower</th><th scope=col>method</th><th scope=col>X.Intercept.</th><th scope=col>monthAugust</th><th scope=col>monthDecember</th><th scope=col>monthFebruary</th><th scope=col>monthJanuary</th><th scope=col>monthJuly</th><th scope=col>monthJune</th><th scope=col>monthMarch</th><th scope=col>⋯</th><th scope=col>provNewfoundland.and.Labrador</th><th scope=col>provNorthwest.Territories</th><th scope=col>provNova.Scotia</th><th scope=col>provNunavut</th><th scope=col>provOntario</th><th scope=col>provPrince.Edward.Island</th><th scope=col>provQuebec</th><th scope=col>provSaskatchewan</th><th scope=col>provYukon</th><th scope=col>retail</th></tr>\n",
       "\t<tr><th scope=col>&lt;chr&gt;</th><th scope=col>&lt;chr&gt;</th><th scope=col>&lt;dbl&gt;</th><th scope=col>&lt;dbl&gt;</th><th scope=col>&lt;dbl&gt;</th><th scope=col>&lt;dbl&gt;</th><th scope=col>&lt;dbl&gt;</th><th scope=col>&lt;dbl&gt;</th><th scope=col>&lt;dbl&gt;</th><th scope=col>&lt;dbl&gt;</th><th scope=col>⋯</th><th scope=col>&lt;dbl&gt;</th><th scope=col>&lt;dbl&gt;</th><th scope=col>&lt;dbl&gt;</th><th scope=col>&lt;dbl&gt;</th><th scope=col>&lt;dbl&gt;</th><th scope=col>&lt;dbl&gt;</th><th scope=col>&lt;dbl&gt;</th><th scope=col>&lt;dbl&gt;</th><th scope=col>&lt;dbl&gt;</th><th scope=col>&lt;dbl&gt;</th></tr>\n",
       "</thead>\n",
       "<tbody>\n",
       "\t<tr><td>2.5% </td><td>R</td><td>2.638309</td><td>-1.0229295</td><td>-1.0701652</td><td>-0.26108623</td><td>-0.64173662</td><td>-0.8658241</td><td>-0.61464556</td><td>-0.39428989</td><td>⋯</td><td>-5.0485390</td><td>-7.806216</td><td>-4.1767948</td><td>-7.282184</td><td>0.9579893</td><td>-6.303204</td><td>0.4876520</td><td>-4.2929951</td><td>-6.385641</td><td>-3.7019535</td></tr>\n",
       "\t<tr><td>50%  </td><td>R</td><td>3.628191</td><td>-0.7056586</td><td>-0.6245194</td><td> 0.04049621</td><td>-0.33758821</td><td>-0.5557459</td><td>-0.34822169</td><td>-0.11072902</td><td>⋯</td><td>-3.0262273</td><td>-5.366742</td><td>-2.3706158</td><td>-4.965609</td><td>5.5160061</td><td>-4.074371</td><td>2.1695168</td><td>-2.5559863</td><td>-4.101573</td><td>-1.8132160</td></tr>\n",
       "\t<tr><td>97.5%</td><td>R</td><td>4.568404</td><td>-0.3978743</td><td>-0.2925250</td><td> 0.35553723</td><td>-0.02436095</td><td>-0.2321302</td><td>-0.08520719</td><td> 0.17876543</td><td>⋯</td><td>-0.8553648</td><td>-2.901829</td><td>-0.4351734</td><td>-2.525225</td><td>9.8078010</td><td>-1.722228</td><td>3.7928805</td><td>-0.7314359</td><td>-1.704820</td><td> 0.1771964</td></tr>\n",
       "\t<tr><td>2.5% </td><td>S</td><td>2.599840</td><td>-0.7392548</td><td>-0.6666652</td><td> 0.03079520</td><td>-0.34514988</td><td>-0.5876867</td><td>-0.40631433</td><td>-0.11841013</td><td>⋯</td><td>-2.4252815</td><td>-4.642832</td><td>-1.8351299</td><td>-4.267809</td><td>0.2485059</td><td>-3.424828</td><td>0.1761791</td><td>-2.0445672</td><td>-3.421056</td><td>-1.2413126</td></tr>\n",
       "\t<tr><td>50%  </td><td>S</td><td>2.994796</td><td>-0.7183025</td><td>-0.6375412</td><td> 0.06271544</td><td>-0.31525530</td><td>-0.5663874</td><td>-0.38632408</td><td>-0.08585255</td><td>⋯</td><td>-1.5546172</td><td>-3.674053</td><td>-1.0631562</td><td>-3.293716</td><td>2.2608940</td><td>-2.472446</td><td>0.9418302</td><td>-1.3107676</td><td>-2.452821</td><td>-0.4002061</td></tr>\n",
       "\t<tr><td>97.5%</td><td>S</td><td>3.377717</td><td>-0.6879196</td><td>-0.6020680</td><td> 0.08196318</td><td>-0.29507778</td><td>-0.5357578</td><td>-0.34639462</td><td>-0.06748073</td><td>⋯</td><td>-0.6543936</td><td>-2.666367</td><td>-0.2555632</td><td>-2.283702</td><td>4.1918577</td><td>-1.488201</td><td>1.6765313</td><td>-0.5490652</td><td>-1.443305</td><td> 0.4770314</td></tr>\n",
       "\t<tr><td>2.5% </td><td>P</td><td>3.544242</td><td>-0.7731109</td><td>-0.7136395</td><td> 0.01013993</td><td>-0.37765418</td><td>-0.6142526</td><td>-0.40771169</td><td>-0.14845004</td><td>⋯</td><td>-3.3563613</td><td>-5.862642</td><td>-2.6515771</td><td>-5.565897</td><td>5.1580648</td><td>-4.577444</td><td>2.0409146</td><td>-2.8284224</td><td>-4.593393</td><td>-2.0999963</td></tr>\n",
       "\t<tr><td>50%  </td><td>P</td><td>3.650856</td><td>-0.7100712</td><td>-0.6341851</td><td> 0.04883353</td><td>-0.33188344</td><td>-0.5577477</td><td>-0.35421006</td><td>-0.10734762</td><td>⋯</td><td>-3.1089254</td><td>-5.223697</td><td>-2.4361414</td><td>-4.998834</td><td>5.6728211</td><td>-4.206930</td><td>2.2361975</td><td>-2.6183470</td><td>-4.224613</td><td>-1.8779335</td></tr>\n",
       "\t<tr><td>97.5%</td><td>P</td><td>3.757613</td><td>-0.6486280</td><td>-0.5573118</td><td> 0.08658984</td><td>-0.28444406</td><td>-0.5030369</td><td>-0.30230038</td><td>-0.06556112</td><td>⋯</td><td>-2.8539180</td><td>-4.720743</td><td>-2.2242638</td><td>-4.549851</td><td>6.1869472</td><td>-3.871733</td><td>2.4322074</td><td>-2.4066814</td><td>-3.887201</td><td>-1.6554507</td></tr>\n",
       "</tbody>\n",
       "</table>\n"
      ],
      "text/latex": [
       "A data.frame: 9 × 27\n",
       "\\begin{tabular}{lllllllllllllllllllll}\n",
       " prob\\_lower & method & X.Intercept. & monthAugust & monthDecember & monthFebruary & monthJanuary & monthJuly & monthJune & monthMarch & ⋯ & provNewfoundland.and.Labrador & provNorthwest.Territories & provNova.Scotia & provNunavut & provOntario & provPrince.Edward.Island & provQuebec & provSaskatchewan & provYukon & retail\\\\\n",
       " <chr> & <chr> & <dbl> & <dbl> & <dbl> & <dbl> & <dbl> & <dbl> & <dbl> & <dbl> & ⋯ & <dbl> & <dbl> & <dbl> & <dbl> & <dbl> & <dbl> & <dbl> & <dbl> & <dbl> & <dbl>\\\\\n",
       "\\hline\n",
       "\t 2.5\\%  & R & 2.638309 & -1.0229295 & -1.0701652 & -0.26108623 & -0.64173662 & -0.8658241 & -0.61464556 & -0.39428989 & ⋯ & -5.0485390 & -7.806216 & -4.1767948 & -7.282184 & 0.9579893 & -6.303204 & 0.4876520 & -4.2929951 & -6.385641 & -3.7019535\\\\\n",
       "\t 50\\%   & R & 3.628191 & -0.7056586 & -0.6245194 &  0.04049621 & -0.33758821 & -0.5557459 & -0.34822169 & -0.11072902 & ⋯ & -3.0262273 & -5.366742 & -2.3706158 & -4.965609 & 5.5160061 & -4.074371 & 2.1695168 & -2.5559863 & -4.101573 & -1.8132160\\\\\n",
       "\t 97.5\\% & R & 4.568404 & -0.3978743 & -0.2925250 &  0.35553723 & -0.02436095 & -0.2321302 & -0.08520719 &  0.17876543 & ⋯ & -0.8553648 & -2.901829 & -0.4351734 & -2.525225 & 9.8078010 & -1.722228 & 3.7928805 & -0.7314359 & -1.704820 &  0.1771964\\\\\n",
       "\t 2.5\\%  & S & 2.599840 & -0.7392548 & -0.6666652 &  0.03079520 & -0.34514988 & -0.5876867 & -0.40631433 & -0.11841013 & ⋯ & -2.4252815 & -4.642832 & -1.8351299 & -4.267809 & 0.2485059 & -3.424828 & 0.1761791 & -2.0445672 & -3.421056 & -1.2413126\\\\\n",
       "\t 50\\%   & S & 2.994796 & -0.7183025 & -0.6375412 &  0.06271544 & -0.31525530 & -0.5663874 & -0.38632408 & -0.08585255 & ⋯ & -1.5546172 & -3.674053 & -1.0631562 & -3.293716 & 2.2608940 & -2.472446 & 0.9418302 & -1.3107676 & -2.452821 & -0.4002061\\\\\n",
       "\t 97.5\\% & S & 3.377717 & -0.6879196 & -0.6020680 &  0.08196318 & -0.29507778 & -0.5357578 & -0.34639462 & -0.06748073 & ⋯ & -0.6543936 & -2.666367 & -0.2555632 & -2.283702 & 4.1918577 & -1.488201 & 1.6765313 & -0.5490652 & -1.443305 &  0.4770314\\\\\n",
       "\t 2.5\\%  & P & 3.544242 & -0.7731109 & -0.7136395 &  0.01013993 & -0.37765418 & -0.6142526 & -0.40771169 & -0.14845004 & ⋯ & -3.3563613 & -5.862642 & -2.6515771 & -5.565897 & 5.1580648 & -4.577444 & 2.0409146 & -2.8284224 & -4.593393 & -2.0999963\\\\\n",
       "\t 50\\%   & P & 3.650856 & -0.7100712 & -0.6341851 &  0.04883353 & -0.33188344 & -0.5577477 & -0.35421006 & -0.10734762 & ⋯ & -3.1089254 & -5.223697 & -2.4361414 & -4.998834 & 5.6728211 & -4.206930 & 2.2361975 & -2.6183470 & -4.224613 & -1.8779335\\\\\n",
       "\t 97.5\\% & P & 3.757613 & -0.6486280 & -0.5573118 &  0.08658984 & -0.28444406 & -0.5030369 & -0.30230038 & -0.06556112 & ⋯ & -2.8539180 & -4.720743 & -2.2242638 & -4.549851 & 6.1869472 & -3.871733 & 2.4322074 & -2.4066814 & -3.887201 & -1.6554507\\\\\n",
       "\\end{tabular}\n"
      ],
      "text/markdown": [
       "\n",
       "A data.frame: 9 × 27\n",
       "\n",
       "| prob_lower &lt;chr&gt; | method &lt;chr&gt; | X.Intercept. &lt;dbl&gt; | monthAugust &lt;dbl&gt; | monthDecember &lt;dbl&gt; | monthFebruary &lt;dbl&gt; | monthJanuary &lt;dbl&gt; | monthJuly &lt;dbl&gt; | monthJune &lt;dbl&gt; | monthMarch &lt;dbl&gt; | ⋯ ⋯ | provNewfoundland.and.Labrador &lt;dbl&gt; | provNorthwest.Territories &lt;dbl&gt; | provNova.Scotia &lt;dbl&gt; | provNunavut &lt;dbl&gt; | provOntario &lt;dbl&gt; | provPrince.Edward.Island &lt;dbl&gt; | provQuebec &lt;dbl&gt; | provSaskatchewan &lt;dbl&gt; | provYukon &lt;dbl&gt; | retail &lt;dbl&gt; |\n",
       "|---|---|---|---|---|---|---|---|---|---|---|---|---|---|---|---|---|---|---|---|---|\n",
       "| 2.5%  | R | 2.638309 | -1.0229295 | -1.0701652 | -0.26108623 | -0.64173662 | -0.8658241 | -0.61464556 | -0.39428989 | ⋯ | -5.0485390 | -7.806216 | -4.1767948 | -7.282184 | 0.9579893 | -6.303204 | 0.4876520 | -4.2929951 | -6.385641 | -3.7019535 |\n",
       "| 50%   | R | 3.628191 | -0.7056586 | -0.6245194 |  0.04049621 | -0.33758821 | -0.5557459 | -0.34822169 | -0.11072902 | ⋯ | -3.0262273 | -5.366742 | -2.3706158 | -4.965609 | 5.5160061 | -4.074371 | 2.1695168 | -2.5559863 | -4.101573 | -1.8132160 |\n",
       "| 97.5% | R | 4.568404 | -0.3978743 | -0.2925250 |  0.35553723 | -0.02436095 | -0.2321302 | -0.08520719 |  0.17876543 | ⋯ | -0.8553648 | -2.901829 | -0.4351734 | -2.525225 | 9.8078010 | -1.722228 | 3.7928805 | -0.7314359 | -1.704820 |  0.1771964 |\n",
       "| 2.5%  | S | 2.599840 | -0.7392548 | -0.6666652 |  0.03079520 | -0.34514988 | -0.5876867 | -0.40631433 | -0.11841013 | ⋯ | -2.4252815 | -4.642832 | -1.8351299 | -4.267809 | 0.2485059 | -3.424828 | 0.1761791 | -2.0445672 | -3.421056 | -1.2413126 |\n",
       "| 50%   | S | 2.994796 | -0.7183025 | -0.6375412 |  0.06271544 | -0.31525530 | -0.5663874 | -0.38632408 | -0.08585255 | ⋯ | -1.5546172 | -3.674053 | -1.0631562 | -3.293716 | 2.2608940 | -2.472446 | 0.9418302 | -1.3107676 | -2.452821 | -0.4002061 |\n",
       "| 97.5% | S | 3.377717 | -0.6879196 | -0.6020680 |  0.08196318 | -0.29507778 | -0.5357578 | -0.34639462 | -0.06748073 | ⋯ | -0.6543936 | -2.666367 | -0.2555632 | -2.283702 | 4.1918577 | -1.488201 | 1.6765313 | -0.5490652 | -1.443305 |  0.4770314 |\n",
       "| 2.5%  | P | 3.544242 | -0.7731109 | -0.7136395 |  0.01013993 | -0.37765418 | -0.6142526 | -0.40771169 | -0.14845004 | ⋯ | -3.3563613 | -5.862642 | -2.6515771 | -5.565897 | 5.1580648 | -4.577444 | 2.0409146 | -2.8284224 | -4.593393 | -2.0999963 |\n",
       "| 50%   | P | 3.650856 | -0.7100712 | -0.6341851 |  0.04883353 | -0.33188344 | -0.5577477 | -0.35421006 | -0.10734762 | ⋯ | -3.1089254 | -5.223697 | -2.4361414 | -4.998834 | 5.6728211 | -4.206930 | 2.2361975 | -2.6183470 | -4.224613 | -1.8779335 |\n",
       "| 97.5% | P | 3.757613 | -0.6486280 | -0.5573118 |  0.08658984 | -0.28444406 | -0.5030369 | -0.30230038 | -0.06556112 | ⋯ | -2.8539180 | -4.720743 | -2.2242638 | -4.549851 | 6.1869472 | -3.871733 | 2.4322074 | -2.4066814 | -3.887201 | -1.6554507 |\n",
       "\n"
      ],
      "text/plain": [
       "  prob_lower method X.Intercept. monthAugust monthDecember monthFebruary\n",
       "1 2.5%       R      2.638309     -1.0229295  -1.0701652    -0.26108623  \n",
       "2 50%        R      3.628191     -0.7056586  -0.6245194     0.04049621  \n",
       "3 97.5%      R      4.568404     -0.3978743  -0.2925250     0.35553723  \n",
       "4 2.5%       S      2.599840     -0.7392548  -0.6666652     0.03079520  \n",
       "5 50%        S      2.994796     -0.7183025  -0.6375412     0.06271544  \n",
       "6 97.5%      S      3.377717     -0.6879196  -0.6020680     0.08196318  \n",
       "7 2.5%       P      3.544242     -0.7731109  -0.7136395     0.01013993  \n",
       "8 50%        P      3.650856     -0.7100712  -0.6341851     0.04883353  \n",
       "9 97.5%      P      3.757613     -0.6486280  -0.5573118     0.08658984  \n",
       "  monthJanuary monthJuly  monthJune   monthMarch  ⋯\n",
       "1 -0.64173662  -0.8658241 -0.61464556 -0.39428989 ⋯\n",
       "2 -0.33758821  -0.5557459 -0.34822169 -0.11072902 ⋯\n",
       "3 -0.02436095  -0.2321302 -0.08520719  0.17876543 ⋯\n",
       "4 -0.34514988  -0.5876867 -0.40631433 -0.11841013 ⋯\n",
       "5 -0.31525530  -0.5663874 -0.38632408 -0.08585255 ⋯\n",
       "6 -0.29507778  -0.5357578 -0.34639462 -0.06748073 ⋯\n",
       "7 -0.37765418  -0.6142526 -0.40771169 -0.14845004 ⋯\n",
       "8 -0.33188344  -0.5577477 -0.35421006 -0.10734762 ⋯\n",
       "9 -0.28444406  -0.5030369 -0.30230038 -0.06556112 ⋯\n",
       "  provNewfoundland.and.Labrador provNorthwest.Territories provNova.Scotia\n",
       "1 -5.0485390                    -7.806216                 -4.1767948     \n",
       "2 -3.0262273                    -5.366742                 -2.3706158     \n",
       "3 -0.8553648                    -2.901829                 -0.4351734     \n",
       "4 -2.4252815                    -4.642832                 -1.8351299     \n",
       "5 -1.5546172                    -3.674053                 -1.0631562     \n",
       "6 -0.6543936                    -2.666367                 -0.2555632     \n",
       "7 -3.3563613                    -5.862642                 -2.6515771     \n",
       "8 -3.1089254                    -5.223697                 -2.4361414     \n",
       "9 -2.8539180                    -4.720743                 -2.2242638     \n",
       "  provNunavut provOntario provPrince.Edward.Island provQuebec provSaskatchewan\n",
       "1 -7.282184   0.9579893   -6.303204                0.4876520  -4.2929951      \n",
       "2 -4.965609   5.5160061   -4.074371                2.1695168  -2.5559863      \n",
       "3 -2.525225   9.8078010   -1.722228                3.7928805  -0.7314359      \n",
       "4 -4.267809   0.2485059   -3.424828                0.1761791  -2.0445672      \n",
       "5 -3.293716   2.2608940   -2.472446                0.9418302  -1.3107676      \n",
       "6 -2.283702   4.1918577   -1.488201                1.6765313  -0.5490652      \n",
       "7 -5.565897   5.1580648   -4.577444                2.0409146  -2.8284224      \n",
       "8 -4.998834   5.6728211   -4.206930                2.2361975  -2.6183470      \n",
       "9 -4.549851   6.1869472   -3.871733                2.4322074  -2.4066814      \n",
       "  provYukon retail    \n",
       "1 -6.385641 -3.7019535\n",
       "2 -4.101573 -1.8132160\n",
       "3 -1.704820  0.1771964\n",
       "4 -3.421056 -1.2413126\n",
       "5 -2.452821 -0.4002061\n",
       "6 -1.443305  0.4770314\n",
       "7 -4.593393 -2.0999963\n",
       "8 -4.224613 -1.8779335\n",
       "9 -3.887201 -1.6554507"
      ]
     },
     "metadata": {},
     "output_type": "display_data"
    }
   ],
   "source": [
    "intervals"
   ]
  }
 ],
 "metadata": {
  "kernelspec": {
   "display_name": "R",
   "language": "R",
   "name": "ir"
  },
  "language_info": {
   "codemirror_mode": "r",
   "file_extension": ".r",
   "mimetype": "text/x-r-source",
   "name": "R",
   "pygments_lexer": "r",
   "version": "4.3.3"
  }
 },
 "nbformat": 4,
 "nbformat_minor": 2
}
