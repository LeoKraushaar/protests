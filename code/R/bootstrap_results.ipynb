{
 "cells": [
  {
   "cell_type": "markdown",
   "metadata": {},
   "source": [
    "## Results of Bootstraps"
   ]
  },
  {
   "cell_type": "code",
   "execution_count": 20,
   "metadata": {
    "vscode": {
     "languageId": "r"
    }
   },
   "outputs": [],
   "source": [
    "setwd(\"/home/leoKraushaar/Documents/School/Year 3/Semester 2/STAT 413/Project/protests/\")"
   ]
  },
  {
   "cell_type": "code",
   "execution_count": 21,
   "metadata": {
    "vscode": {
     "languageId": "r"
    }
   },
   "outputs": [],
   "source": [
    "resamp_results <- read.csv(\"data/results/resamp_boot_results.csv\")[, -1]\n",
    "param_results <- read.csv(\"data/results/param_boot_results.csv\")[, -1]\n",
    "smooth_results <- read.csv(\"data/results/smooth_boot_results.csv\")[, -1]"
   ]
  },
  {
   "cell_type": "markdown",
   "metadata": {},
   "source": [
    "## Confidence intervals"
   ]
  },
  {
   "cell_type": "code",
   "execution_count": 22,
   "metadata": {
    "vscode": {
     "languageId": "r"
    }
   },
   "outputs": [
    {
     "name": "stderr",
     "output_type": "stream",
     "text": [
      "Warning message in cbind(parts$left, chars$ellip_h, parts$right, deparse.level = 0L):\n",
      "“number of rows of result is not a multiple of vector length (arg 2)”\n",
      "Warning message in cbind(parts$left, chars$ellip_h, parts$right, deparse.level = 0L):\n",
      "“number of rows of result is not a multiple of vector length (arg 2)”\n",
      "Warning message in cbind(parts$left, chars$ellip_h, parts$right, deparse.level = 0L):\n",
      "“number of rows of result is not a multiple of vector length (arg 2)”\n",
      "Warning message in cbind(parts$left, chars$ellip_h, parts$right, deparse.level = 0L):\n",
      "“number of rows of result is not a multiple of vector length (arg 2)”\n"
     ]
    },
    {
     "data": {
      "text/html": [
       "<table class=\"dataframe\">\n",
       "<caption>A data.frame: 0 × 25</caption>\n",
       "<thead>\n",
       "\t<tr><th scope=col>X.Intercept.</th><th scope=col>monthAugust</th><th scope=col>monthDecember</th><th scope=col>monthFebruary</th><th scope=col>monthJanuary</th><th scope=col>monthJuly</th><th scope=col>monthJune</th><th scope=col>monthMarch</th><th scope=col>monthMay</th><th scope=col>monthNovember</th><th scope=col>⋯</th><th scope=col>provNewfoundland.and.Labrador</th><th scope=col>provNorthwest.Territories</th><th scope=col>provNova.Scotia</th><th scope=col>provNunavut</th><th scope=col>provOntario</th><th scope=col>provPrince.Edward.Island</th><th scope=col>provQuebec</th><th scope=col>provSaskatchewan</th><th scope=col>provYukon</th><th scope=col>retail</th></tr>\n",
       "\t<tr><th scope=col>&lt;dbl&gt;</th><th scope=col>&lt;dbl&gt;</th><th scope=col>&lt;dbl&gt;</th><th scope=col>&lt;dbl&gt;</th><th scope=col>&lt;dbl&gt;</th><th scope=col>&lt;dbl&gt;</th><th scope=col>&lt;dbl&gt;</th><th scope=col>&lt;dbl&gt;</th><th scope=col>&lt;dbl&gt;</th><th scope=col>&lt;dbl&gt;</th><th scope=col>⋯</th><th scope=col>&lt;dbl&gt;</th><th scope=col>&lt;dbl&gt;</th><th scope=col>&lt;dbl&gt;</th><th scope=col>&lt;dbl&gt;</th><th scope=col>&lt;dbl&gt;</th><th scope=col>&lt;dbl&gt;</th><th scope=col>&lt;dbl&gt;</th><th scope=col>&lt;dbl&gt;</th><th scope=col>&lt;dbl&gt;</th><th scope=col>&lt;dbl&gt;</th></tr>\n",
       "</thead>\n",
       "<tbody>\n",
       "</tbody>\n",
       "</table>\n"
      ],
      "text/latex": [
       "A data.frame: 0 × 25\n",
       "\\begin{tabular}{lllllllllllllllllllll}\n",
       " X.Intercept. & monthAugust & monthDecember & monthFebruary & monthJanuary & monthJuly & monthJune & monthMarch & monthMay & monthNovember & ⋯ & provNewfoundland.and.Labrador & provNorthwest.Territories & provNova.Scotia & provNunavut & provOntario & provPrince.Edward.Island & provQuebec & provSaskatchewan & provYukon & retail\\\\\n",
       " <dbl> & <dbl> & <dbl> & <dbl> & <dbl> & <dbl> & <dbl> & <dbl> & <dbl> & <dbl> & ⋯ & <dbl> & <dbl> & <dbl> & <dbl> & <dbl> & <dbl> & <dbl> & <dbl> & <dbl> & <dbl>\\\\\n",
       "\\hline\n",
       "\\end{tabular}\n"
      ],
      "text/markdown": [
       "\n",
       "A data.frame: 0 × 25\n",
       "\n",
       "| X.Intercept. &lt;dbl&gt; | monthAugust &lt;dbl&gt; | monthDecember &lt;dbl&gt; | monthFebruary &lt;dbl&gt; | monthJanuary &lt;dbl&gt; | monthJuly &lt;dbl&gt; | monthJune &lt;dbl&gt; | monthMarch &lt;dbl&gt; | monthMay &lt;dbl&gt; | monthNovember &lt;dbl&gt; | ⋯ ⋯ | provNewfoundland.and.Labrador &lt;dbl&gt; | provNorthwest.Territories &lt;dbl&gt; | provNova.Scotia &lt;dbl&gt; | provNunavut &lt;dbl&gt; | provOntario &lt;dbl&gt; | provPrince.Edward.Island &lt;dbl&gt; | provQuebec &lt;dbl&gt; | provSaskatchewan &lt;dbl&gt; | provYukon &lt;dbl&gt; | retail &lt;dbl&gt; |\n",
       "|---|---|---|---|---|---|---|---|---|---|---|---|---|---|---|---|---|---|---|---|---|\n",
       "\n"
      ],
      "text/plain": [
       "     X.Intercept. monthAugust monthDecember monthFebruary monthJanuary\n",
       "     monthJuly monthJune monthMarch monthMay monthNovember ⋯\n",
       "     provNewfoundland.and.Labrador provNorthwest.Territories provNova.Scotia\n",
       "     provNunavut provOntario provPrince.Edward.Island provQuebec\n",
       "     provSaskatchewan provYukon retail"
      ]
     },
     "metadata": {},
     "output_type": "display_data"
    }
   ],
   "source": [
    "# Get rows with NA values\n",
    "na_rows <- resamp_results[apply(is.na(resamp_results), 1, any), ]\n",
    "na_rows"
   ]
  },
  {
   "cell_type": "code",
   "execution_count": 23,
   "metadata": {
    "vscode": {
     "languageId": "r"
    }
   },
   "outputs": [],
   "source": [
    "conf_cols <- c(\"X.Intercept.\", \"retail\")"
   ]
  },
  {
   "cell_type": "code",
   "execution_count": 24,
   "metadata": {
    "vscode": {
     "languageId": "r"
    }
   },
   "outputs": [],
   "source": [
    "resamp_conf <- resamp_results[, conf_cols]\n",
    "param_conf <- param_results[, conf_cols]\n",
    "smooth_conf <- smooth_results[, conf_cols]"
   ]
  },
  {
   "cell_type": "code",
   "execution_count": 25,
   "metadata": {
    "vscode": {
     "languageId": "r"
    }
   },
   "outputs": [
    {
     "data": {
      "text/html": [
       "<table class=\"dataframe\">\n",
       "<caption>A data.frame: 6 × 26</caption>\n",
       "<thead>\n",
       "\t<tr><th></th><th scope=col>X.Intercept.</th><th scope=col>monthAugust</th><th scope=col>monthDecember</th><th scope=col>monthFebruary</th><th scope=col>monthJanuary</th><th scope=col>monthJuly</th><th scope=col>monthJune</th><th scope=col>monthMarch</th><th scope=col>monthMay</th><th scope=col>monthNovember</th><th scope=col>⋯</th><th scope=col>provNorthwest.Territories</th><th scope=col>provNova.Scotia</th><th scope=col>provNunavut</th><th scope=col>provOntario</th><th scope=col>provPrince.Edward.Island</th><th scope=col>provQuebec</th><th scope=col>provSaskatchewan</th><th scope=col>provYukon</th><th scope=col>retail</th><th scope=col>type</th></tr>\n",
       "\t<tr><th></th><th scope=col>&lt;dbl&gt;</th><th scope=col>&lt;dbl&gt;</th><th scope=col>&lt;dbl&gt;</th><th scope=col>&lt;dbl&gt;</th><th scope=col>&lt;dbl&gt;</th><th scope=col>&lt;dbl&gt;</th><th scope=col>&lt;dbl&gt;</th><th scope=col>&lt;dbl&gt;</th><th scope=col>&lt;dbl&gt;</th><th scope=col>&lt;dbl&gt;</th><th scope=col>⋯</th><th scope=col>&lt;dbl&gt;</th><th scope=col>&lt;dbl&gt;</th><th scope=col>&lt;dbl&gt;</th><th scope=col>&lt;dbl&gt;</th><th scope=col>&lt;dbl&gt;</th><th scope=col>&lt;dbl&gt;</th><th scope=col>&lt;dbl&gt;</th><th scope=col>&lt;dbl&gt;</th><th scope=col>&lt;dbl&gt;</th><th scope=col>&lt;chr&gt;</th></tr>\n",
       "</thead>\n",
       "<tbody>\n",
       "\t<tr><th scope=row>1</th><td>4.663785</td><td>-0.7037457</td><td>-0.6483113</td><td>0.09734868</td><td>-0.28381661</td><td>-0.3234719</td><td>-0.3160214</td><td>-0.07238667</td><td>-0.07598219</td><td>-0.273993547</td><td>⋯</td><td>-4.816554</td><td>-2.270714</td><td>-4.556042</td><td>5.586982</td><td>-3.603132</td><td>2.234088</td><td>-2.230005</td><td>-4.051911</td><td>-2.472176e-07</td><td>R</td></tr>\n",
       "\t<tr><th scope=row>2</th><td>5.098095</td><td>-0.4632654</td><td>-0.3630316</td><td>0.40620001</td><td>-0.41589185</td><td>-0.6241891</td><td>-0.2323643</td><td>-0.03852589</td><td> 0.12844123</td><td>-0.016290662</td><td>⋯</td><td>-5.342008</td><td>-2.706440</td><td>-5.167822</td><td>5.848509</td><td>-4.301684</td><td>2.302017</td><td>-2.822927</td><td>-4.161925</td><td>-2.808257e-07</td><td>R</td></tr>\n",
       "\t<tr><th scope=row>3</th><td>5.913329</td><td>-0.8329432</td><td>-0.6244357</td><td>0.06845974</td><td>-0.53517764</td><td>-0.7537557</td><td>-0.4686015</td><td>-0.13721907</td><td>-0.06878941</td><td>-0.085642501</td><td>⋯</td><td>-6.938115</td><td>-2.913779</td><td>-5.907097</td><td>7.184226</td><td>-5.190024</td><td>2.831290</td><td>-3.193593</td><td>-5.034360</td><td>-3.676253e-07</td><td>R</td></tr>\n",
       "\t<tr><th scope=row>4</th><td>5.684801</td><td>-0.5064475</td><td>-0.3399569</td><td>0.25306331</td><td>-0.24593976</td><td>-0.5368325</td><td>-0.1977150</td><td>-0.08544557</td><td> 0.28309304</td><td> 0.118474554</td><td>⋯</td><td>-6.105290</td><td>-3.111887</td><td>-5.921944</td><td>7.027420</td><td>-5.156367</td><td>2.627348</td><td>-3.391594</td><td>-5.108888</td><td>-3.519195e-07</td><td>R</td></tr>\n",
       "\t<tr><th scope=row>5</th><td>4.383041</td><td>-0.9068816</td><td>-0.5865708</td><td>0.16179431</td><td>-0.01858884</td><td>-0.5287837</td><td>-0.3921006</td><td> 0.04936305</td><td>-0.25766438</td><td> 0.006255248</td><td>⋯</td><td>-5.062644</td><td>-2.111954</td><td>-4.348641</td><td>4.862257</td><td>-3.701271</td><td>1.892062</td><td>-2.084811</td><td>-3.869974</td><td>-2.087464e-07</td><td>R</td></tr>\n",
       "\t<tr><th scope=row>6</th><td>4.087348</td><td>-0.6681563</td><td>-0.3577321</td><td>0.04013963</td><td>-0.22421392</td><td>-0.5389148</td><td>-0.4236108</td><td>-0.07100482</td><td>-0.11239253</td><td>-0.185383498</td><td>⋯</td><td>-4.373814</td><td>-1.618526</td><td>-3.596865</td><td>4.153077</td><td>-3.199920</td><td>1.672639</td><td>-1.821908</td><td>-3.304254</td><td>-1.687819e-07</td><td>R</td></tr>\n",
       "</tbody>\n",
       "</table>\n"
      ],
      "text/latex": [
       "A data.frame: 6 × 26\n",
       "\\begin{tabular}{r|lllllllllllllllllllll}\n",
       "  & X.Intercept. & monthAugust & monthDecember & monthFebruary & monthJanuary & monthJuly & monthJune & monthMarch & monthMay & monthNovember & ⋯ & provNorthwest.Territories & provNova.Scotia & provNunavut & provOntario & provPrince.Edward.Island & provQuebec & provSaskatchewan & provYukon & retail & type\\\\\n",
       "  & <dbl> & <dbl> & <dbl> & <dbl> & <dbl> & <dbl> & <dbl> & <dbl> & <dbl> & <dbl> & ⋯ & <dbl> & <dbl> & <dbl> & <dbl> & <dbl> & <dbl> & <dbl> & <dbl> & <dbl> & <chr>\\\\\n",
       "\\hline\n",
       "\t1 & 4.663785 & -0.7037457 & -0.6483113 & 0.09734868 & -0.28381661 & -0.3234719 & -0.3160214 & -0.07238667 & -0.07598219 & -0.273993547 & ⋯ & -4.816554 & -2.270714 & -4.556042 & 5.586982 & -3.603132 & 2.234088 & -2.230005 & -4.051911 & -2.472176e-07 & R\\\\\n",
       "\t2 & 5.098095 & -0.4632654 & -0.3630316 & 0.40620001 & -0.41589185 & -0.6241891 & -0.2323643 & -0.03852589 &  0.12844123 & -0.016290662 & ⋯ & -5.342008 & -2.706440 & -5.167822 & 5.848509 & -4.301684 & 2.302017 & -2.822927 & -4.161925 & -2.808257e-07 & R\\\\\n",
       "\t3 & 5.913329 & -0.8329432 & -0.6244357 & 0.06845974 & -0.53517764 & -0.7537557 & -0.4686015 & -0.13721907 & -0.06878941 & -0.085642501 & ⋯ & -6.938115 & -2.913779 & -5.907097 & 7.184226 & -5.190024 & 2.831290 & -3.193593 & -5.034360 & -3.676253e-07 & R\\\\\n",
       "\t4 & 5.684801 & -0.5064475 & -0.3399569 & 0.25306331 & -0.24593976 & -0.5368325 & -0.1977150 & -0.08544557 &  0.28309304 &  0.118474554 & ⋯ & -6.105290 & -3.111887 & -5.921944 & 7.027420 & -5.156367 & 2.627348 & -3.391594 & -5.108888 & -3.519195e-07 & R\\\\\n",
       "\t5 & 4.383041 & -0.9068816 & -0.5865708 & 0.16179431 & -0.01858884 & -0.5287837 & -0.3921006 &  0.04936305 & -0.25766438 &  0.006255248 & ⋯ & -5.062644 & -2.111954 & -4.348641 & 4.862257 & -3.701271 & 1.892062 & -2.084811 & -3.869974 & -2.087464e-07 & R\\\\\n",
       "\t6 & 4.087348 & -0.6681563 & -0.3577321 & 0.04013963 & -0.22421392 & -0.5389148 & -0.4236108 & -0.07100482 & -0.11239253 & -0.185383498 & ⋯ & -4.373814 & -1.618526 & -3.596865 & 4.153077 & -3.199920 & 1.672639 & -1.821908 & -3.304254 & -1.687819e-07 & R\\\\\n",
       "\\end{tabular}\n"
      ],
      "text/markdown": [
       "\n",
       "A data.frame: 6 × 26\n",
       "\n",
       "| <!--/--> | X.Intercept. &lt;dbl&gt; | monthAugust &lt;dbl&gt; | monthDecember &lt;dbl&gt; | monthFebruary &lt;dbl&gt; | monthJanuary &lt;dbl&gt; | monthJuly &lt;dbl&gt; | monthJune &lt;dbl&gt; | monthMarch &lt;dbl&gt; | monthMay &lt;dbl&gt; | monthNovember &lt;dbl&gt; | ⋯ ⋯ | provNorthwest.Territories &lt;dbl&gt; | provNova.Scotia &lt;dbl&gt; | provNunavut &lt;dbl&gt; | provOntario &lt;dbl&gt; | provPrince.Edward.Island &lt;dbl&gt; | provQuebec &lt;dbl&gt; | provSaskatchewan &lt;dbl&gt; | provYukon &lt;dbl&gt; | retail &lt;dbl&gt; | type &lt;chr&gt; |\n",
       "|---|---|---|---|---|---|---|---|---|---|---|---|---|---|---|---|---|---|---|---|---|---|\n",
       "| 1 | 4.663785 | -0.7037457 | -0.6483113 | 0.09734868 | -0.28381661 | -0.3234719 | -0.3160214 | -0.07238667 | -0.07598219 | -0.273993547 | ⋯ | -4.816554 | -2.270714 | -4.556042 | 5.586982 | -3.603132 | 2.234088 | -2.230005 | -4.051911 | -2.472176e-07 | R |\n",
       "| 2 | 5.098095 | -0.4632654 | -0.3630316 | 0.40620001 | -0.41589185 | -0.6241891 | -0.2323643 | -0.03852589 |  0.12844123 | -0.016290662 | ⋯ | -5.342008 | -2.706440 | -5.167822 | 5.848509 | -4.301684 | 2.302017 | -2.822927 | -4.161925 | -2.808257e-07 | R |\n",
       "| 3 | 5.913329 | -0.8329432 | -0.6244357 | 0.06845974 | -0.53517764 | -0.7537557 | -0.4686015 | -0.13721907 | -0.06878941 | -0.085642501 | ⋯ | -6.938115 | -2.913779 | -5.907097 | 7.184226 | -5.190024 | 2.831290 | -3.193593 | -5.034360 | -3.676253e-07 | R |\n",
       "| 4 | 5.684801 | -0.5064475 | -0.3399569 | 0.25306331 | -0.24593976 | -0.5368325 | -0.1977150 | -0.08544557 |  0.28309304 |  0.118474554 | ⋯ | -6.105290 | -3.111887 | -5.921944 | 7.027420 | -5.156367 | 2.627348 | -3.391594 | -5.108888 | -3.519195e-07 | R |\n",
       "| 5 | 4.383041 | -0.9068816 | -0.5865708 | 0.16179431 | -0.01858884 | -0.5287837 | -0.3921006 |  0.04936305 | -0.25766438 |  0.006255248 | ⋯ | -5.062644 | -2.111954 | -4.348641 | 4.862257 | -3.701271 | 1.892062 | -2.084811 | -3.869974 | -2.087464e-07 | R |\n",
       "| 6 | 4.087348 | -0.6681563 | -0.3577321 | 0.04013963 | -0.22421392 | -0.5389148 | -0.4236108 | -0.07100482 | -0.11239253 | -0.185383498 | ⋯ | -4.373814 | -1.618526 | -3.596865 | 4.153077 | -3.199920 | 1.672639 | -1.821908 | -3.304254 | -1.687819e-07 | R |\n",
       "\n"
      ],
      "text/plain": [
       "  X.Intercept. monthAugust monthDecember monthFebruary monthJanuary monthJuly \n",
       "1 4.663785     -0.7037457  -0.6483113    0.09734868    -0.28381661  -0.3234719\n",
       "2 5.098095     -0.4632654  -0.3630316    0.40620001    -0.41589185  -0.6241891\n",
       "3 5.913329     -0.8329432  -0.6244357    0.06845974    -0.53517764  -0.7537557\n",
       "4 5.684801     -0.5064475  -0.3399569    0.25306331    -0.24593976  -0.5368325\n",
       "5 4.383041     -0.9068816  -0.5865708    0.16179431    -0.01858884  -0.5287837\n",
       "6 4.087348     -0.6681563  -0.3577321    0.04013963    -0.22421392  -0.5389148\n",
       "  monthJune  monthMarch  monthMay    monthNovember ⋯ provNorthwest.Territories\n",
       "1 -0.3160214 -0.07238667 -0.07598219 -0.273993547  ⋯ -4.816554                \n",
       "2 -0.2323643 -0.03852589  0.12844123 -0.016290662  ⋯ -5.342008                \n",
       "3 -0.4686015 -0.13721907 -0.06878941 -0.085642501  ⋯ -6.938115                \n",
       "4 -0.1977150 -0.08544557  0.28309304  0.118474554  ⋯ -6.105290                \n",
       "5 -0.3921006  0.04936305 -0.25766438  0.006255248  ⋯ -5.062644                \n",
       "6 -0.4236108 -0.07100482 -0.11239253 -0.185383498  ⋯ -4.373814                \n",
       "  provNova.Scotia provNunavut provOntario provPrince.Edward.Island provQuebec\n",
       "1 -2.270714       -4.556042   5.586982    -3.603132                2.234088  \n",
       "2 -2.706440       -5.167822   5.848509    -4.301684                2.302017  \n",
       "3 -2.913779       -5.907097   7.184226    -5.190024                2.831290  \n",
       "4 -3.111887       -5.921944   7.027420    -5.156367                2.627348  \n",
       "5 -2.111954       -4.348641   4.862257    -3.701271                1.892062  \n",
       "6 -1.618526       -3.596865   4.153077    -3.199920                1.672639  \n",
       "  provSaskatchewan provYukon retail        type\n",
       "1 -2.230005        -4.051911 -2.472176e-07 R   \n",
       "2 -2.822927        -4.161925 -2.808257e-07 R   \n",
       "3 -3.193593        -5.034360 -3.676253e-07 R   \n",
       "4 -3.391594        -5.108888 -3.519195e-07 R   \n",
       "5 -2.084811        -3.869974 -2.087464e-07 R   \n",
       "6 -1.821908        -3.304254 -1.687819e-07 R   "
      ]
     },
     "metadata": {},
     "output_type": "display_data"
    }
   ],
   "source": [
    "params <- rbind(resamp_results, param_results, smooth_results)\n",
    "type <- rep(c(\"R\", \"P\", \"S\"), each=5000)\n",
    "\n",
    "results <- data.frame(params, type=type)\n",
    "head(results)"
   ]
  },
  {
   "cell_type": "code",
   "execution_count": 31,
   "metadata": {
    "vscode": {
     "languageId": "r"
    }
   },
   "outputs": [
    {
     "data": {
      "text/html": [
       "<table class=\"dataframe\">\n",
       "<caption>A data.frame: 3 × 26</caption>\n",
       "<thead>\n",
       "\t<tr><th scope=col>type</th><th scope=col>X.Intercept.</th><th scope=col>monthAugust</th><th scope=col>monthDecember</th><th scope=col>monthFebruary</th><th scope=col>monthJanuary</th><th scope=col>monthJuly</th><th scope=col>monthJune</th><th scope=col>monthMarch</th><th scope=col>monthMay</th><th scope=col>⋯</th><th scope=col>provNewfoundland.and.Labrador</th><th scope=col>provNorthwest.Territories</th><th scope=col>provNova.Scotia</th><th scope=col>provNunavut</th><th scope=col>provOntario</th><th scope=col>provPrince.Edward.Island</th><th scope=col>provQuebec</th><th scope=col>provSaskatchewan</th><th scope=col>provYukon</th><th scope=col>retail</th></tr>\n",
       "\t<tr><th scope=col>&lt;chr&gt;</th><th scope=col>&lt;dbl&gt;</th><th scope=col>&lt;dbl&gt;</th><th scope=col>&lt;dbl&gt;</th><th scope=col>&lt;dbl&gt;</th><th scope=col>&lt;dbl&gt;</th><th scope=col>&lt;dbl&gt;</th><th scope=col>&lt;dbl&gt;</th><th scope=col>&lt;dbl&gt;</th><th scope=col>&lt;dbl&gt;</th><th scope=col>⋯</th><th scope=col>&lt;dbl&gt;</th><th scope=col>&lt;dbl&gt;</th><th scope=col>&lt;dbl&gt;</th><th scope=col>&lt;dbl&gt;</th><th scope=col>&lt;dbl&gt;</th><th scope=col>&lt;dbl&gt;</th><th scope=col>&lt;dbl&gt;</th><th scope=col>&lt;dbl&gt;</th><th scope=col>&lt;dbl&gt;</th><th scope=col>&lt;dbl&gt;</th></tr>\n",
       "</thead>\n",
       "<tbody>\n",
       "\t<tr><td>P</td><td>4.979295</td><td>-0.7103804</td><td>-0.6339690</td><td>0.04888983</td><td>-0.3310804</td><td>-0.5577839</td><td>-0.3539471</td><td>-0.10717688</td><td>-0.03136297</td><td>⋯</td><td>-3.111314</td><td>-5.245054</td><td>-2.435399</td><td>-5.015855</td><td>5.673655</td><td>-4.210329</td><td>2.235469</td><td>-2.617830</td><td>-4.231291</td><td>-2.639782e-07</td></tr>\n",
       "\t<tr><td>R</td><td>4.911084</td><td>-0.7081126</td><td>-0.6465070</td><td>0.04504233</td><td>-0.3342556</td><td>-0.5598294</td><td>-0.3477375</td><td>-0.11008445</td><td>-0.03129649</td><td>⋯</td><td>-3.015510</td><td>-5.381608</td><td>-2.365909</td><td>-4.970943</td><td>5.510958</td><td>-4.081374</td><td>2.167349</td><td>-2.547244</td><td>-4.092942</td><td>-2.546658e-07</td></tr>\n",
       "\t<tr><td>S</td><td>3.261447</td><td>-0.7165806</td><td>-0.6360265</td><td>0.06041888</td><td>-0.3173315</td><td>-0.5646425</td><td>-0.3832744</td><td>-0.08854457</td><td>-0.04893574</td><td>⋯</td><td>-1.540510</td><td>-3.657703</td><td>-1.049685</td><td>-3.276484</td><td>2.228250</td><td>-2.455294</td><td>0.929432</td><td>-1.297500</td><td>-2.436677</td><td>-5.427227e-08</td></tr>\n",
       "</tbody>\n",
       "</table>\n"
      ],
      "text/latex": [
       "A data.frame: 3 × 26\n",
       "\\begin{tabular}{lllllllllllllllllllll}\n",
       " type & X.Intercept. & monthAugust & monthDecember & monthFebruary & monthJanuary & monthJuly & monthJune & monthMarch & monthMay & ⋯ & provNewfoundland.and.Labrador & provNorthwest.Territories & provNova.Scotia & provNunavut & provOntario & provPrince.Edward.Island & provQuebec & provSaskatchewan & provYukon & retail\\\\\n",
       " <chr> & <dbl> & <dbl> & <dbl> & <dbl> & <dbl> & <dbl> & <dbl> & <dbl> & <dbl> & ⋯ & <dbl> & <dbl> & <dbl> & <dbl> & <dbl> & <dbl> & <dbl> & <dbl> & <dbl> & <dbl>\\\\\n",
       "\\hline\n",
       "\t P & 4.979295 & -0.7103804 & -0.6339690 & 0.04888983 & -0.3310804 & -0.5577839 & -0.3539471 & -0.10717688 & -0.03136297 & ⋯ & -3.111314 & -5.245054 & -2.435399 & -5.015855 & 5.673655 & -4.210329 & 2.235469 & -2.617830 & -4.231291 & -2.639782e-07\\\\\n",
       "\t R & 4.911084 & -0.7081126 & -0.6465070 & 0.04504233 & -0.3342556 & -0.5598294 & -0.3477375 & -0.11008445 & -0.03129649 & ⋯ & -3.015510 & -5.381608 & -2.365909 & -4.970943 & 5.510958 & -4.081374 & 2.167349 & -2.547244 & -4.092942 & -2.546658e-07\\\\\n",
       "\t S & 3.261447 & -0.7165806 & -0.6360265 & 0.06041888 & -0.3173315 & -0.5646425 & -0.3832744 & -0.08854457 & -0.04893574 & ⋯ & -1.540510 & -3.657703 & -1.049685 & -3.276484 & 2.228250 & -2.455294 & 0.929432 & -1.297500 & -2.436677 & -5.427227e-08\\\\\n",
       "\\end{tabular}\n"
      ],
      "text/markdown": [
       "\n",
       "A data.frame: 3 × 26\n",
       "\n",
       "| type &lt;chr&gt; | X.Intercept. &lt;dbl&gt; | monthAugust &lt;dbl&gt; | monthDecember &lt;dbl&gt; | monthFebruary &lt;dbl&gt; | monthJanuary &lt;dbl&gt; | monthJuly &lt;dbl&gt; | monthJune &lt;dbl&gt; | monthMarch &lt;dbl&gt; | monthMay &lt;dbl&gt; | ⋯ ⋯ | provNewfoundland.and.Labrador &lt;dbl&gt; | provNorthwest.Territories &lt;dbl&gt; | provNova.Scotia &lt;dbl&gt; | provNunavut &lt;dbl&gt; | provOntario &lt;dbl&gt; | provPrince.Edward.Island &lt;dbl&gt; | provQuebec &lt;dbl&gt; | provSaskatchewan &lt;dbl&gt; | provYukon &lt;dbl&gt; | retail &lt;dbl&gt; |\n",
       "|---|---|---|---|---|---|---|---|---|---|---|---|---|---|---|---|---|---|---|---|---|\n",
       "| P | 4.979295 | -0.7103804 | -0.6339690 | 0.04888983 | -0.3310804 | -0.5577839 | -0.3539471 | -0.10717688 | -0.03136297 | ⋯ | -3.111314 | -5.245054 | -2.435399 | -5.015855 | 5.673655 | -4.210329 | 2.235469 | -2.617830 | -4.231291 | -2.639782e-07 |\n",
       "| R | 4.911084 | -0.7081126 | -0.6465070 | 0.04504233 | -0.3342556 | -0.5598294 | -0.3477375 | -0.11008445 | -0.03129649 | ⋯ | -3.015510 | -5.381608 | -2.365909 | -4.970943 | 5.510958 | -4.081374 | 2.167349 | -2.547244 | -4.092942 | -2.546658e-07 |\n",
       "| S | 3.261447 | -0.7165806 | -0.6360265 | 0.06041888 | -0.3173315 | -0.5646425 | -0.3832744 | -0.08854457 | -0.04893574 | ⋯ | -1.540510 | -3.657703 | -1.049685 | -3.276484 | 2.228250 | -2.455294 | 0.929432 | -1.297500 | -2.436677 | -5.427227e-08 |\n",
       "\n"
      ],
      "text/plain": [
       "  type X.Intercept. monthAugust monthDecember monthFebruary monthJanuary\n",
       "1 P    4.979295     -0.7103804  -0.6339690    0.04888983    -0.3310804  \n",
       "2 R    4.911084     -0.7081126  -0.6465070    0.04504233    -0.3342556  \n",
       "3 S    3.261447     -0.7165806  -0.6360265    0.06041888    -0.3173315  \n",
       "  monthJuly  monthJune  monthMarch  monthMay    ⋯ provNewfoundland.and.Labrador\n",
       "1 -0.5577839 -0.3539471 -0.10717688 -0.03136297 ⋯ -3.111314                    \n",
       "2 -0.5598294 -0.3477375 -0.11008445 -0.03129649 ⋯ -3.015510                    \n",
       "3 -0.5646425 -0.3832744 -0.08854457 -0.04893574 ⋯ -1.540510                    \n",
       "  provNorthwest.Territories provNova.Scotia provNunavut provOntario\n",
       "1 -5.245054                 -2.435399       -5.015855   5.673655   \n",
       "2 -5.381608                 -2.365909       -4.970943   5.510958   \n",
       "3 -3.657703                 -1.049685       -3.276484   2.228250   \n",
       "  provPrince.Edward.Island provQuebec provSaskatchewan provYukon retail       \n",
       "1 -4.210329                2.235469   -2.617830        -4.231291 -2.639782e-07\n",
       "2 -4.081374                2.167349   -2.547244        -4.092942 -2.546658e-07\n",
       "3 -2.455294                0.929432   -1.297500        -2.436677 -5.427227e-08"
      ]
     },
     "metadata": {},
     "output_type": "display_data"
    }
   ],
   "source": [
    "mean_results <- aggregate(. ~ type, results, mean)\n",
    "sd_results <- aggregate(. ~ type, results, sd)\n",
    "\n",
    "# cbind(mean_results, sd_results)\n",
    "mean_results"
   ]
  }
 ],
 "metadata": {
  "kernelspec": {
   "display_name": "R",
   "language": "R",
   "name": "ir"
  },
  "language_info": {
   "codemirror_mode": "r",
   "file_extension": ".r",
   "mimetype": "text/x-r-source",
   "name": "R",
   "pygments_lexer": "r",
   "version": "4.2.3"
  }
 },
 "nbformat": 4,
 "nbformat_minor": 2
}
