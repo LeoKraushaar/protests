{
 "cells": [
  {
   "cell_type": "markdown",
   "metadata": {},
   "source": [
    "## Results of Bootstraps"
   ]
  },
  {
   "cell_type": "code",
   "execution_count": 167,
   "metadata": {
    "vscode": {
     "languageId": "r"
    }
   },
   "outputs": [],
   "source": [
    "library(dplyr)"
   ]
  },
  {
   "cell_type": "code",
   "execution_count": 168,
   "metadata": {
    "vscode": {
     "languageId": "r"
    }
   },
   "outputs": [],
   "source": [
    "setwd(\"/home/leoKraushaar/Documents/School/Year 3/Semester 2/STAT 413/Project/protests/\")"
   ]
  },
  {
   "cell_type": "code",
   "execution_count": 169,
   "metadata": {
    "vscode": {
     "languageId": "r"
    }
   },
   "outputs": [],
   "source": [
    "resamp_results <- read.csv(\"data/results/resamp_boot_results.csv\")[, -1]\n",
    "param_results <- read.csv(\"data/results/param_boot_results.csv\")[, -1]\n",
    "smooth_results <- read.csv(\"data/results/smooth_boot_results.csv\")[, -1]"
   ]
  },
  {
   "cell_type": "markdown",
   "metadata": {},
   "source": [
    "## Confidence intervals"
   ]
  },
  {
   "cell_type": "code",
   "execution_count": 170,
   "metadata": {
    "vscode": {
     "languageId": "r"
    }
   },
   "outputs": [],
   "source": [
    "interval <- function(X, alpha=0.05) {\n",
    "    quantiles <- quantile(X, probs = c(alpha/2, 1/2, 1-(alpha/2)))\n",
    "    return(quantiles)\n",
    "}"
   ]
  },
  {
   "cell_type": "code",
   "execution_count": 171,
   "metadata": {
    "vscode": {
     "languageId": "r"
    }
   },
   "outputs": [],
   "source": [
    "mean_and_sd <- function(X) {\n",
    "    return(c(mean(X), sd(X)))\n",
    "}"
   ]
  },
  {
   "cell_type": "code",
   "execution_count": 172,
   "metadata": {
    "vscode": {
     "languageId": "r"
    }
   },
   "outputs": [
    {
     "data": {
      "text/html": [
       "<table class=\"dataframe\">\n",
       "<caption>A data.frame: 6 × 26</caption>\n",
       "<thead>\n",
       "\t<tr><th></th><th scope=col>type</th><th scope=col>X.Intercept.</th><th scope=col>monthAugust</th><th scope=col>monthDecember</th><th scope=col>monthFebruary</th><th scope=col>monthJanuary</th><th scope=col>monthJuly</th><th scope=col>monthJune</th><th scope=col>monthMarch</th><th scope=col>monthMay</th><th scope=col>⋯</th><th scope=col>provNewfoundland.and.Labrador</th><th scope=col>provNorthwest.Territories</th><th scope=col>provNova.Scotia</th><th scope=col>provNunavut</th><th scope=col>provOntario</th><th scope=col>provPrince.Edward.Island</th><th scope=col>provQuebec</th><th scope=col>provSaskatchewan</th><th scope=col>provYukon</th><th scope=col>retail</th></tr>\n",
       "\t<tr><th></th><th scope=col>&lt;fct&gt;</th><th scope=col>&lt;dbl&gt;</th><th scope=col>&lt;dbl&gt;</th><th scope=col>&lt;dbl&gt;</th><th scope=col>&lt;dbl&gt;</th><th scope=col>&lt;dbl&gt;</th><th scope=col>&lt;dbl&gt;</th><th scope=col>&lt;dbl&gt;</th><th scope=col>&lt;dbl&gt;</th><th scope=col>&lt;dbl&gt;</th><th scope=col>⋯</th><th scope=col>&lt;dbl&gt;</th><th scope=col>&lt;dbl&gt;</th><th scope=col>&lt;dbl&gt;</th><th scope=col>&lt;dbl&gt;</th><th scope=col>&lt;dbl&gt;</th><th scope=col>&lt;dbl&gt;</th><th scope=col>&lt;dbl&gt;</th><th scope=col>&lt;dbl&gt;</th><th scope=col>&lt;dbl&gt;</th><th scope=col>&lt;dbl&gt;</th></tr>\n",
       "</thead>\n",
       "<tbody>\n",
       "\t<tr><th scope=row>1</th><td>R</td><td>3.419547</td><td>-0.7037457</td><td>-0.6483113</td><td>0.09734868</td><td>-0.28381661</td><td>-0.3234719</td><td>-0.3160214</td><td>-0.07238667</td><td>-0.07598219</td><td>⋯</td><td>-2.901397</td><td>-4.816554</td><td>-2.270714</td><td>-4.556042</td><td>5.586982</td><td>-3.603132</td><td>2.234088</td><td>-2.230005</td><td>-4.051911</td><td>-1.759169</td></tr>\n",
       "\t<tr><th scope=row>2</th><td>R</td><td>3.684708</td><td>-0.4632654</td><td>-0.3630316</td><td>0.40620001</td><td>-0.41589185</td><td>-0.6241891</td><td>-0.2323643</td><td>-0.03852589</td><td> 0.12844123</td><td>⋯</td><td>-3.448932</td><td>-5.342008</td><td>-2.706440</td><td>-5.167822</td><td>5.848509</td><td>-4.301684</td><td>2.302017</td><td>-2.822927</td><td>-4.161925</td><td>-1.998320</td></tr>\n",
       "\t<tr><th scope=row>3</th><td>R</td><td>4.063082</td><td>-0.8329432</td><td>-0.6244357</td><td>0.06845974</td><td>-0.53517764</td><td>-0.7537557</td><td>-0.4686015</td><td>-0.13721907</td><td>-0.06878941</td><td>⋯</td><td>-3.809071</td><td>-6.938115</td><td>-2.913779</td><td>-5.907097</td><td>7.184226</td><td>-5.190024</td><td>2.831290</td><td>-3.193593</td><td>-5.034360</td><td>-2.615975</td></tr>\n",
       "\t<tr><th scope=row>4</th><td>R</td><td>3.913602</td><td>-0.5064475</td><td>-0.3399569</td><td>0.25306331</td><td>-0.24593976</td><td>-0.5368325</td><td>-0.1977150</td><td>-0.08544557</td><td> 0.28309304</td><td>⋯</td><td>-3.625847</td><td>-6.105290</td><td>-3.111887</td><td>-5.921944</td><td>7.027420</td><td>-5.156367</td><td>2.627348</td><td>-3.391594</td><td>-5.108888</td><td>-2.504214</td></tr>\n",
       "\t<tr><th scope=row>5</th><td>R</td><td>3.332427</td><td>-0.9068816</td><td>-0.5865708</td><td>0.16179431</td><td>-0.01858884</td><td>-0.5287837</td><td>-0.3921006</td><td> 0.04936305</td><td>-0.25766438</td><td>⋯</td><td>-2.615974</td><td>-5.062644</td><td>-2.111954</td><td>-4.348641</td><td>4.862257</td><td>-3.701271</td><td>1.892062</td><td>-2.084811</td><td>-3.869974</td><td>-1.485413</td></tr>\n",
       "\t<tr><th scope=row>6</th><td>R</td><td>3.237874</td><td>-0.6681563</td><td>-0.3577321</td><td>0.04013963</td><td>-0.22421392</td><td>-0.5389148</td><td>-0.4236108</td><td>-0.07100482</td><td>-0.11239253</td><td>⋯</td><td>-2.237842</td><td>-4.373814</td><td>-1.618526</td><td>-3.596865</td><td>4.153077</td><td>-3.199920</td><td>1.672639</td><td>-1.821908</td><td>-3.304254</td><td>-1.201030</td></tr>\n",
       "</tbody>\n",
       "</table>\n"
      ],
      "text/latex": [
       "A data.frame: 6 × 26\n",
       "\\begin{tabular}{r|lllllllllllllllllllll}\n",
       "  & type & X.Intercept. & monthAugust & monthDecember & monthFebruary & monthJanuary & monthJuly & monthJune & monthMarch & monthMay & ⋯ & provNewfoundland.and.Labrador & provNorthwest.Territories & provNova.Scotia & provNunavut & provOntario & provPrince.Edward.Island & provQuebec & provSaskatchewan & provYukon & retail\\\\\n",
       "  & <fct> & <dbl> & <dbl> & <dbl> & <dbl> & <dbl> & <dbl> & <dbl> & <dbl> & <dbl> & ⋯ & <dbl> & <dbl> & <dbl> & <dbl> & <dbl> & <dbl> & <dbl> & <dbl> & <dbl> & <dbl>\\\\\n",
       "\\hline\n",
       "\t1 & R & 3.419547 & -0.7037457 & -0.6483113 & 0.09734868 & -0.28381661 & -0.3234719 & -0.3160214 & -0.07238667 & -0.07598219 & ⋯ & -2.901397 & -4.816554 & -2.270714 & -4.556042 & 5.586982 & -3.603132 & 2.234088 & -2.230005 & -4.051911 & -1.759169\\\\\n",
       "\t2 & R & 3.684708 & -0.4632654 & -0.3630316 & 0.40620001 & -0.41589185 & -0.6241891 & -0.2323643 & -0.03852589 &  0.12844123 & ⋯ & -3.448932 & -5.342008 & -2.706440 & -5.167822 & 5.848509 & -4.301684 & 2.302017 & -2.822927 & -4.161925 & -1.998320\\\\\n",
       "\t3 & R & 4.063082 & -0.8329432 & -0.6244357 & 0.06845974 & -0.53517764 & -0.7537557 & -0.4686015 & -0.13721907 & -0.06878941 & ⋯ & -3.809071 & -6.938115 & -2.913779 & -5.907097 & 7.184226 & -5.190024 & 2.831290 & -3.193593 & -5.034360 & -2.615975\\\\\n",
       "\t4 & R & 3.913602 & -0.5064475 & -0.3399569 & 0.25306331 & -0.24593976 & -0.5368325 & -0.1977150 & -0.08544557 &  0.28309304 & ⋯ & -3.625847 & -6.105290 & -3.111887 & -5.921944 & 7.027420 & -5.156367 & 2.627348 & -3.391594 & -5.108888 & -2.504214\\\\\n",
       "\t5 & R & 3.332427 & -0.9068816 & -0.5865708 & 0.16179431 & -0.01858884 & -0.5287837 & -0.3921006 &  0.04936305 & -0.25766438 & ⋯ & -2.615974 & -5.062644 & -2.111954 & -4.348641 & 4.862257 & -3.701271 & 1.892062 & -2.084811 & -3.869974 & -1.485413\\\\\n",
       "\t6 & R & 3.237874 & -0.6681563 & -0.3577321 & 0.04013963 & -0.22421392 & -0.5389148 & -0.4236108 & -0.07100482 & -0.11239253 & ⋯ & -2.237842 & -4.373814 & -1.618526 & -3.596865 & 4.153077 & -3.199920 & 1.672639 & -1.821908 & -3.304254 & -1.201030\\\\\n",
       "\\end{tabular}\n"
      ],
      "text/markdown": [
       "\n",
       "A data.frame: 6 × 26\n",
       "\n",
       "| <!--/--> | type &lt;fct&gt; | X.Intercept. &lt;dbl&gt; | monthAugust &lt;dbl&gt; | monthDecember &lt;dbl&gt; | monthFebruary &lt;dbl&gt; | monthJanuary &lt;dbl&gt; | monthJuly &lt;dbl&gt; | monthJune &lt;dbl&gt; | monthMarch &lt;dbl&gt; | monthMay &lt;dbl&gt; | ⋯ ⋯ | provNewfoundland.and.Labrador &lt;dbl&gt; | provNorthwest.Territories &lt;dbl&gt; | provNova.Scotia &lt;dbl&gt; | provNunavut &lt;dbl&gt; | provOntario &lt;dbl&gt; | provPrince.Edward.Island &lt;dbl&gt; | provQuebec &lt;dbl&gt; | provSaskatchewan &lt;dbl&gt; | provYukon &lt;dbl&gt; | retail &lt;dbl&gt; |\n",
       "|---|---|---|---|---|---|---|---|---|---|---|---|---|---|---|---|---|---|---|---|---|---|\n",
       "| 1 | R | 3.419547 | -0.7037457 | -0.6483113 | 0.09734868 | -0.28381661 | -0.3234719 | -0.3160214 | -0.07238667 | -0.07598219 | ⋯ | -2.901397 | -4.816554 | -2.270714 | -4.556042 | 5.586982 | -3.603132 | 2.234088 | -2.230005 | -4.051911 | -1.759169 |\n",
       "| 2 | R | 3.684708 | -0.4632654 | -0.3630316 | 0.40620001 | -0.41589185 | -0.6241891 | -0.2323643 | -0.03852589 |  0.12844123 | ⋯ | -3.448932 | -5.342008 | -2.706440 | -5.167822 | 5.848509 | -4.301684 | 2.302017 | -2.822927 | -4.161925 | -1.998320 |\n",
       "| 3 | R | 4.063082 | -0.8329432 | -0.6244357 | 0.06845974 | -0.53517764 | -0.7537557 | -0.4686015 | -0.13721907 | -0.06878941 | ⋯ | -3.809071 | -6.938115 | -2.913779 | -5.907097 | 7.184226 | -5.190024 | 2.831290 | -3.193593 | -5.034360 | -2.615975 |\n",
       "| 4 | R | 3.913602 | -0.5064475 | -0.3399569 | 0.25306331 | -0.24593976 | -0.5368325 | -0.1977150 | -0.08544557 |  0.28309304 | ⋯ | -3.625847 | -6.105290 | -3.111887 | -5.921944 | 7.027420 | -5.156367 | 2.627348 | -3.391594 | -5.108888 | -2.504214 |\n",
       "| 5 | R | 3.332427 | -0.9068816 | -0.5865708 | 0.16179431 | -0.01858884 | -0.5287837 | -0.3921006 |  0.04936305 | -0.25766438 | ⋯ | -2.615974 | -5.062644 | -2.111954 | -4.348641 | 4.862257 | -3.701271 | 1.892062 | -2.084811 | -3.869974 | -1.485413 |\n",
       "| 6 | R | 3.237874 | -0.6681563 | -0.3577321 | 0.04013963 | -0.22421392 | -0.5389148 | -0.4236108 | -0.07100482 | -0.11239253 | ⋯ | -2.237842 | -4.373814 | -1.618526 | -3.596865 | 4.153077 | -3.199920 | 1.672639 | -1.821908 | -3.304254 | -1.201030 |\n",
       "\n"
      ],
      "text/plain": [
       "  type X.Intercept. monthAugust monthDecember monthFebruary monthJanuary\n",
       "1 R    3.419547     -0.7037457  -0.6483113    0.09734868    -0.28381661 \n",
       "2 R    3.684708     -0.4632654  -0.3630316    0.40620001    -0.41589185 \n",
       "3 R    4.063082     -0.8329432  -0.6244357    0.06845974    -0.53517764 \n",
       "4 R    3.913602     -0.5064475  -0.3399569    0.25306331    -0.24593976 \n",
       "5 R    3.332427     -0.9068816  -0.5865708    0.16179431    -0.01858884 \n",
       "6 R    3.237874     -0.6681563  -0.3577321    0.04013963    -0.22421392 \n",
       "  monthJuly  monthJune  monthMarch  monthMay    ⋯ provNewfoundland.and.Labrador\n",
       "1 -0.3234719 -0.3160214 -0.07238667 -0.07598219 ⋯ -2.901397                    \n",
       "2 -0.6241891 -0.2323643 -0.03852589  0.12844123 ⋯ -3.448932                    \n",
       "3 -0.7537557 -0.4686015 -0.13721907 -0.06878941 ⋯ -3.809071                    \n",
       "4 -0.5368325 -0.1977150 -0.08544557  0.28309304 ⋯ -3.625847                    \n",
       "5 -0.5287837 -0.3921006  0.04936305 -0.25766438 ⋯ -2.615974                    \n",
       "6 -0.5389148 -0.4236108 -0.07100482 -0.11239253 ⋯ -2.237842                    \n",
       "  provNorthwest.Territories provNova.Scotia provNunavut provOntario\n",
       "1 -4.816554                 -2.270714       -4.556042   5.586982   \n",
       "2 -5.342008                 -2.706440       -5.167822   5.848509   \n",
       "3 -6.938115                 -2.913779       -5.907097   7.184226   \n",
       "4 -6.105290                 -3.111887       -5.921944   7.027420   \n",
       "5 -5.062644                 -2.111954       -4.348641   4.862257   \n",
       "6 -4.373814                 -1.618526       -3.596865   4.153077   \n",
       "  provPrince.Edward.Island provQuebec provSaskatchewan provYukon retail   \n",
       "1 -3.603132                2.234088   -2.230005        -4.051911 -1.759169\n",
       "2 -4.301684                2.302017   -2.822927        -4.161925 -1.998320\n",
       "3 -5.190024                2.831290   -3.193593        -5.034360 -2.615975\n",
       "4 -5.156367                2.627348   -3.391594        -5.108888 -2.504214\n",
       "5 -3.701271                1.892062   -2.084811        -3.869974 -1.485413\n",
       "6 -3.199920                1.672639   -1.821908        -3.304254 -1.201030"
      ]
     },
     "metadata": {},
     "output_type": "display_data"
    }
   ],
   "source": [
    "params <- rbind(resamp_results, param_results, smooth_results)\n",
    "type <- factor(rep(c(\"R\", \"P\", \"S\"), each=10000))\n",
    "\n",
    "results <- data.frame(type, params)\n",
    "head(results)"
   ]
  },
  {
   "cell_type": "code",
   "execution_count": 173,
   "metadata": {
    "vscode": {
     "languageId": "r"
    }
   },
   "outputs": [],
   "source": [
    "month_indices <- grepl(\"month\", colnames(results))\n",
    "month_labels <- colnames(results)[month_indices]\n",
    "month_labels <- sapply(month_labels, function(x) substr(x, 6, 8))\n",
    "\n",
    "prov_indices <- grepl(\"prov\", colnames(results))\n",
    "prov_labels <- colnames(results)[prov_indices]\n",
    "matches <- gregexpr(\"[A-Z]\", prov_labels)\n",
    "capital_letters <- regmatches(prov_labels, matches)\n",
    "combined_letters <- sapply(capital_letters, function(x) paste(x, collapse = \"\"))"
   ]
  },
  {
   "cell_type": "code",
   "execution_count": 174,
   "metadata": {
    "vscode": {
     "languageId": "r"
    }
   },
   "outputs": [],
   "source": [
    "new_names <- colnames(results)[c(1, 2, 3:ncol(results))]\n",
    "\n",
    "new_names[month_indices] <- month_labels\n",
    "new_names[prov_indices] <- combined_letters\n",
    "new_names[2] <- \"intercept\"\n",
    "\n",
    "colnames(results) <- new_names"
   ]
  },
  {
   "cell_type": "code",
   "execution_count": 175,
   "metadata": {
    "vscode": {
     "languageId": "r"
    }
   },
   "outputs": [],
   "source": [
    "split_data <- split(results, type)"
   ]
  },
  {
   "cell_type": "markdown",
   "metadata": {},
   "source": [
    "## Resampling Results"
   ]
  },
  {
   "cell_type": "code",
   "execution_count": 176,
   "metadata": {
    "vscode": {
     "languageId": "r"
    }
   },
   "outputs": [
    {
     "data": {
      "text/html": [
       "<table class=\"dataframe\">\n",
       "<caption>A data.frame: 6 × 26</caption>\n",
       "<thead>\n",
       "\t<tr><th></th><th scope=col>type</th><th scope=col>intercept</th><th scope=col>Aug</th><th scope=col>Dec</th><th scope=col>Feb</th><th scope=col>Jan</th><th scope=col>Jul</th><th scope=col>Jun</th><th scope=col>Mar</th><th scope=col>May</th><th scope=col>⋯</th><th scope=col>NL</th><th scope=col>NT</th><th scope=col>NS</th><th scope=col>N</th><th scope=col>O</th><th scope=col>PEI</th><th scope=col>Q</th><th scope=col>S</th><th scope=col>Y</th><th scope=col>retail</th></tr>\n",
       "\t<tr><th></th><th scope=col>&lt;fct&gt;</th><th scope=col>&lt;dbl&gt;</th><th scope=col>&lt;dbl&gt;</th><th scope=col>&lt;dbl&gt;</th><th scope=col>&lt;dbl&gt;</th><th scope=col>&lt;dbl&gt;</th><th scope=col>&lt;dbl&gt;</th><th scope=col>&lt;dbl&gt;</th><th scope=col>&lt;dbl&gt;</th><th scope=col>&lt;dbl&gt;</th><th scope=col>⋯</th><th scope=col>&lt;dbl&gt;</th><th scope=col>&lt;dbl&gt;</th><th scope=col>&lt;dbl&gt;</th><th scope=col>&lt;dbl&gt;</th><th scope=col>&lt;dbl&gt;</th><th scope=col>&lt;dbl&gt;</th><th scope=col>&lt;dbl&gt;</th><th scope=col>&lt;dbl&gt;</th><th scope=col>&lt;dbl&gt;</th><th scope=col>&lt;dbl&gt;</th></tr>\n",
       "</thead>\n",
       "<tbody>\n",
       "\t<tr><th scope=row>1</th><td>R</td><td>3.419547</td><td>-0.7037457</td><td>-0.6483113</td><td>0.09734868</td><td>-0.28381661</td><td>-0.3234719</td><td>-0.3160214</td><td>-0.07238667</td><td>-0.07598219</td><td>⋯</td><td>-2.901397</td><td>-4.816554</td><td>-2.270714</td><td>-4.556042</td><td>5.586982</td><td>-3.603132</td><td>2.234088</td><td>-2.230005</td><td>-4.051911</td><td>-1.759169</td></tr>\n",
       "\t<tr><th scope=row>2</th><td>R</td><td>3.684708</td><td>-0.4632654</td><td>-0.3630316</td><td>0.40620001</td><td>-0.41589185</td><td>-0.6241891</td><td>-0.2323643</td><td>-0.03852589</td><td> 0.12844123</td><td>⋯</td><td>-3.448932</td><td>-5.342008</td><td>-2.706440</td><td>-5.167822</td><td>5.848509</td><td>-4.301684</td><td>2.302017</td><td>-2.822927</td><td>-4.161925</td><td>-1.998320</td></tr>\n",
       "\t<tr><th scope=row>3</th><td>R</td><td>4.063082</td><td>-0.8329432</td><td>-0.6244357</td><td>0.06845974</td><td>-0.53517764</td><td>-0.7537557</td><td>-0.4686015</td><td>-0.13721907</td><td>-0.06878941</td><td>⋯</td><td>-3.809071</td><td>-6.938115</td><td>-2.913779</td><td>-5.907097</td><td>7.184226</td><td>-5.190024</td><td>2.831290</td><td>-3.193593</td><td>-5.034360</td><td>-2.615975</td></tr>\n",
       "\t<tr><th scope=row>4</th><td>R</td><td>3.913602</td><td>-0.5064475</td><td>-0.3399569</td><td>0.25306331</td><td>-0.24593976</td><td>-0.5368325</td><td>-0.1977150</td><td>-0.08544557</td><td> 0.28309304</td><td>⋯</td><td>-3.625847</td><td>-6.105290</td><td>-3.111887</td><td>-5.921944</td><td>7.027420</td><td>-5.156367</td><td>2.627348</td><td>-3.391594</td><td>-5.108888</td><td>-2.504214</td></tr>\n",
       "\t<tr><th scope=row>5</th><td>R</td><td>3.332427</td><td>-0.9068816</td><td>-0.5865708</td><td>0.16179431</td><td>-0.01858884</td><td>-0.5287837</td><td>-0.3921006</td><td> 0.04936305</td><td>-0.25766438</td><td>⋯</td><td>-2.615974</td><td>-5.062644</td><td>-2.111954</td><td>-4.348641</td><td>4.862257</td><td>-3.701271</td><td>1.892062</td><td>-2.084811</td><td>-3.869974</td><td>-1.485413</td></tr>\n",
       "\t<tr><th scope=row>6</th><td>R</td><td>3.237874</td><td>-0.6681563</td><td>-0.3577321</td><td>0.04013963</td><td>-0.22421392</td><td>-0.5389148</td><td>-0.4236108</td><td>-0.07100482</td><td>-0.11239253</td><td>⋯</td><td>-2.237842</td><td>-4.373814</td><td>-1.618526</td><td>-3.596865</td><td>4.153077</td><td>-3.199920</td><td>1.672639</td><td>-1.821908</td><td>-3.304254</td><td>-1.201030</td></tr>\n",
       "</tbody>\n",
       "</table>\n"
      ],
      "text/latex": [
       "A data.frame: 6 × 26\n",
       "\\begin{tabular}{r|lllllllllllllllllllll}\n",
       "  & type & intercept & Aug & Dec & Feb & Jan & Jul & Jun & Mar & May & ⋯ & NL & NT & NS & N & O & PEI & Q & S & Y & retail\\\\\n",
       "  & <fct> & <dbl> & <dbl> & <dbl> & <dbl> & <dbl> & <dbl> & <dbl> & <dbl> & <dbl> & ⋯ & <dbl> & <dbl> & <dbl> & <dbl> & <dbl> & <dbl> & <dbl> & <dbl> & <dbl> & <dbl>\\\\\n",
       "\\hline\n",
       "\t1 & R & 3.419547 & -0.7037457 & -0.6483113 & 0.09734868 & -0.28381661 & -0.3234719 & -0.3160214 & -0.07238667 & -0.07598219 & ⋯ & -2.901397 & -4.816554 & -2.270714 & -4.556042 & 5.586982 & -3.603132 & 2.234088 & -2.230005 & -4.051911 & -1.759169\\\\\n",
       "\t2 & R & 3.684708 & -0.4632654 & -0.3630316 & 0.40620001 & -0.41589185 & -0.6241891 & -0.2323643 & -0.03852589 &  0.12844123 & ⋯ & -3.448932 & -5.342008 & -2.706440 & -5.167822 & 5.848509 & -4.301684 & 2.302017 & -2.822927 & -4.161925 & -1.998320\\\\\n",
       "\t3 & R & 4.063082 & -0.8329432 & -0.6244357 & 0.06845974 & -0.53517764 & -0.7537557 & -0.4686015 & -0.13721907 & -0.06878941 & ⋯ & -3.809071 & -6.938115 & -2.913779 & -5.907097 & 7.184226 & -5.190024 & 2.831290 & -3.193593 & -5.034360 & -2.615975\\\\\n",
       "\t4 & R & 3.913602 & -0.5064475 & -0.3399569 & 0.25306331 & -0.24593976 & -0.5368325 & -0.1977150 & -0.08544557 &  0.28309304 & ⋯ & -3.625847 & -6.105290 & -3.111887 & -5.921944 & 7.027420 & -5.156367 & 2.627348 & -3.391594 & -5.108888 & -2.504214\\\\\n",
       "\t5 & R & 3.332427 & -0.9068816 & -0.5865708 & 0.16179431 & -0.01858884 & -0.5287837 & -0.3921006 &  0.04936305 & -0.25766438 & ⋯ & -2.615974 & -5.062644 & -2.111954 & -4.348641 & 4.862257 & -3.701271 & 1.892062 & -2.084811 & -3.869974 & -1.485413\\\\\n",
       "\t6 & R & 3.237874 & -0.6681563 & -0.3577321 & 0.04013963 & -0.22421392 & -0.5389148 & -0.4236108 & -0.07100482 & -0.11239253 & ⋯ & -2.237842 & -4.373814 & -1.618526 & -3.596865 & 4.153077 & -3.199920 & 1.672639 & -1.821908 & -3.304254 & -1.201030\\\\\n",
       "\\end{tabular}\n"
      ],
      "text/markdown": [
       "\n",
       "A data.frame: 6 × 26\n",
       "\n",
       "| <!--/--> | type &lt;fct&gt; | intercept &lt;dbl&gt; | Aug &lt;dbl&gt; | Dec &lt;dbl&gt; | Feb &lt;dbl&gt; | Jan &lt;dbl&gt; | Jul &lt;dbl&gt; | Jun &lt;dbl&gt; | Mar &lt;dbl&gt; | May &lt;dbl&gt; | ⋯ ⋯ | NL &lt;dbl&gt; | NT &lt;dbl&gt; | NS &lt;dbl&gt; | N &lt;dbl&gt; | O &lt;dbl&gt; | PEI &lt;dbl&gt; | Q &lt;dbl&gt; | S &lt;dbl&gt; | Y &lt;dbl&gt; | retail &lt;dbl&gt; |\n",
       "|---|---|---|---|---|---|---|---|---|---|---|---|---|---|---|---|---|---|---|---|---|---|\n",
       "| 1 | R | 3.419547 | -0.7037457 | -0.6483113 | 0.09734868 | -0.28381661 | -0.3234719 | -0.3160214 | -0.07238667 | -0.07598219 | ⋯ | -2.901397 | -4.816554 | -2.270714 | -4.556042 | 5.586982 | -3.603132 | 2.234088 | -2.230005 | -4.051911 | -1.759169 |\n",
       "| 2 | R | 3.684708 | -0.4632654 | -0.3630316 | 0.40620001 | -0.41589185 | -0.6241891 | -0.2323643 | -0.03852589 |  0.12844123 | ⋯ | -3.448932 | -5.342008 | -2.706440 | -5.167822 | 5.848509 | -4.301684 | 2.302017 | -2.822927 | -4.161925 | -1.998320 |\n",
       "| 3 | R | 4.063082 | -0.8329432 | -0.6244357 | 0.06845974 | -0.53517764 | -0.7537557 | -0.4686015 | -0.13721907 | -0.06878941 | ⋯ | -3.809071 | -6.938115 | -2.913779 | -5.907097 | 7.184226 | -5.190024 | 2.831290 | -3.193593 | -5.034360 | -2.615975 |\n",
       "| 4 | R | 3.913602 | -0.5064475 | -0.3399569 | 0.25306331 | -0.24593976 | -0.5368325 | -0.1977150 | -0.08544557 |  0.28309304 | ⋯ | -3.625847 | -6.105290 | -3.111887 | -5.921944 | 7.027420 | -5.156367 | 2.627348 | -3.391594 | -5.108888 | -2.504214 |\n",
       "| 5 | R | 3.332427 | -0.9068816 | -0.5865708 | 0.16179431 | -0.01858884 | -0.5287837 | -0.3921006 |  0.04936305 | -0.25766438 | ⋯ | -2.615974 | -5.062644 | -2.111954 | -4.348641 | 4.862257 | -3.701271 | 1.892062 | -2.084811 | -3.869974 | -1.485413 |\n",
       "| 6 | R | 3.237874 | -0.6681563 | -0.3577321 | 0.04013963 | -0.22421392 | -0.5389148 | -0.4236108 | -0.07100482 | -0.11239253 | ⋯ | -2.237842 | -4.373814 | -1.618526 | -3.596865 | 4.153077 | -3.199920 | 1.672639 | -1.821908 | -3.304254 | -1.201030 |\n",
       "\n"
      ],
      "text/plain": [
       "  type intercept Aug        Dec        Feb        Jan         Jul       \n",
       "1 R    3.419547  -0.7037457 -0.6483113 0.09734868 -0.28381661 -0.3234719\n",
       "2 R    3.684708  -0.4632654 -0.3630316 0.40620001 -0.41589185 -0.6241891\n",
       "3 R    4.063082  -0.8329432 -0.6244357 0.06845974 -0.53517764 -0.7537557\n",
       "4 R    3.913602  -0.5064475 -0.3399569 0.25306331 -0.24593976 -0.5368325\n",
       "5 R    3.332427  -0.9068816 -0.5865708 0.16179431 -0.01858884 -0.5287837\n",
       "6 R    3.237874  -0.6681563 -0.3577321 0.04013963 -0.22421392 -0.5389148\n",
       "  Jun        Mar         May         ⋯ NL        NT        NS        N        \n",
       "1 -0.3160214 -0.07238667 -0.07598219 ⋯ -2.901397 -4.816554 -2.270714 -4.556042\n",
       "2 -0.2323643 -0.03852589  0.12844123 ⋯ -3.448932 -5.342008 -2.706440 -5.167822\n",
       "3 -0.4686015 -0.13721907 -0.06878941 ⋯ -3.809071 -6.938115 -2.913779 -5.907097\n",
       "4 -0.1977150 -0.08544557  0.28309304 ⋯ -3.625847 -6.105290 -3.111887 -5.921944\n",
       "5 -0.3921006  0.04936305 -0.25766438 ⋯ -2.615974 -5.062644 -2.111954 -4.348641\n",
       "6 -0.4236108 -0.07100482 -0.11239253 ⋯ -2.237842 -4.373814 -1.618526 -3.596865\n",
       "  O        PEI       Q        S         Y         retail   \n",
       "1 5.586982 -3.603132 2.234088 -2.230005 -4.051911 -1.759169\n",
       "2 5.848509 -4.301684 2.302017 -2.822927 -4.161925 -1.998320\n",
       "3 7.184226 -5.190024 2.831290 -3.193593 -5.034360 -2.615975\n",
       "4 7.027420 -5.156367 2.627348 -3.391594 -5.108888 -2.504214\n",
       "5 4.862257 -3.701271 1.892062 -2.084811 -3.869974 -1.485413\n",
       "6 4.153077 -3.199920 1.672639 -1.821908 -3.304254 -1.201030"
      ]
     },
     "metadata": {},
     "output_type": "display_data"
    }
   ],
   "source": [
    "R_data <- split_data$R\n",
    "\n",
    "head(R_data)"
   ]
  },
  {
   "cell_type": "code",
   "execution_count": 180,
   "metadata": {
    "vscode": {
     "languageId": "r"
    }
   },
   "outputs": [
    {
     "data": {
      "text/html": [
       "<style>\n",
       ".list-inline {list-style: none; margin:0; padding: 0}\n",
       ".list-inline>li {display: inline-block}\n",
       ".list-inline>li:not(:last-child)::after {content: \"\\00b7\"; padding: 0 .5ex}\n",
       "</style>\n",
       "<ol class=list-inline><li>'alpha'</li><li>'capital_letters'</li><li>'combined_letters'</li><li>'conf_cols'</li><li>'info'</li><li>'interval'</li><li>'intervals'</li><li>'matches'</li><li>'mean_and_sd'</li><li>'month_indices'</li><li>'month_labels'</li><li>'new_names'</li><li>'P_intervals'</li><li>'param_results'</li><li>'params'</li><li>'prov_indices'</li><li>'prov_labels'</li><li>'R_data'</li><li>'R_info'</li><li>'R_intervals'</li><li>'R_mean_and_sd'</li><li>'R_results'</li><li>'resamp_results'</li><li>'results'</li><li>'S_intervals'</li><li>'smooth_results'</li><li>'split_data'</li><li>'summary_data'</li><li>'summary_df'</li><li>'type'</li></ol>\n"
      ],
      "text/latex": [
       "\\begin{enumerate*}\n",
       "\\item 'alpha'\n",
       "\\item 'capital\\_letters'\n",
       "\\item 'combined\\_letters'\n",
       "\\item 'conf\\_cols'\n",
       "\\item 'info'\n",
       "\\item 'interval'\n",
       "\\item 'intervals'\n",
       "\\item 'matches'\n",
       "\\item 'mean\\_and\\_sd'\n",
       "\\item 'month\\_indices'\n",
       "\\item 'month\\_labels'\n",
       "\\item 'new\\_names'\n",
       "\\item 'P\\_intervals'\n",
       "\\item 'param\\_results'\n",
       "\\item 'params'\n",
       "\\item 'prov\\_indices'\n",
       "\\item 'prov\\_labels'\n",
       "\\item 'R\\_data'\n",
       "\\item 'R\\_info'\n",
       "\\item 'R\\_intervals'\n",
       "\\item 'R\\_mean\\_and\\_sd'\n",
       "\\item 'R\\_results'\n",
       "\\item 'resamp\\_results'\n",
       "\\item 'results'\n",
       "\\item 'S\\_intervals'\n",
       "\\item 'smooth\\_results'\n",
       "\\item 'split\\_data'\n",
       "\\item 'summary\\_data'\n",
       "\\item 'summary\\_df'\n",
       "\\item 'type'\n",
       "\\end{enumerate*}\n"
      ],
      "text/markdown": [
       "1. 'alpha'\n",
       "2. 'capital_letters'\n",
       "3. 'combined_letters'\n",
       "4. 'conf_cols'\n",
       "5. 'info'\n",
       "6. 'interval'\n",
       "7. 'intervals'\n",
       "8. 'matches'\n",
       "9. 'mean_and_sd'\n",
       "10. 'month_indices'\n",
       "11. 'month_labels'\n",
       "12. 'new_names'\n",
       "13. 'P_intervals'\n",
       "14. 'param_results'\n",
       "15. 'params'\n",
       "16. 'prov_indices'\n",
       "17. 'prov_labels'\n",
       "18. 'R_data'\n",
       "19. 'R_info'\n",
       "20. 'R_intervals'\n",
       "21. 'R_mean_and_sd'\n",
       "22. 'R_results'\n",
       "23. 'resamp_results'\n",
       "24. 'results'\n",
       "25. 'S_intervals'\n",
       "26. 'smooth_results'\n",
       "27. 'split_data'\n",
       "28. 'summary_data'\n",
       "29. 'summary_df'\n",
       "30. 'type'\n",
       "\n",
       "\n"
      ],
      "text/plain": [
       " [1] \"alpha\"            \"capital_letters\"  \"combined_letters\" \"conf_cols\"       \n",
       " [5] \"info\"             \"interval\"         \"intervals\"        \"matches\"         \n",
       " [9] \"mean_and_sd\"      \"month_indices\"    \"month_labels\"     \"new_names\"       \n",
       "[13] \"P_intervals\"      \"param_results\"    \"params\"           \"prov_indices\"    \n",
       "[17] \"prov_labels\"      \"R_data\"           \"R_info\"           \"R_intervals\"     \n",
       "[21] \"R_mean_and_sd\"    \"R_results\"        \"resamp_results\"   \"results\"         \n",
       "[25] \"S_intervals\"      \"smooth_results\"   \"split_data\"       \"summary_data\"    \n",
       "[29] \"summary_df\"       \"type\"            "
      ]
     },
     "metadata": {},
     "output_type": "display_data"
    }
   ],
   "source": [
    "ls()\n"
   ]
  },
  {
   "cell_type": "code",
   "execution_count": 195,
   "metadata": {
    "vscode": {
     "languageId": "r"
    }
   },
   "outputs": [
    {
     "data": {
      "text/html": [
       "<table class=\"dataframe\">\n",
       "<caption>A matrix: 2 × 25 of type dbl</caption>\n",
       "<thead>\n",
       "\t<tr><th scope=col>intercept</th><th scope=col>Aug</th><th scope=col>Dec</th><th scope=col>Feb</th><th scope=col>Jan</th><th scope=col>Jul</th><th scope=col>Jun</th><th scope=col>Mar</th><th scope=col>May</th><th scope=col>Nov</th><th scope=col>⋯</th><th scope=col>NL</th><th scope=col>NT</th><th scope=col>NS</th><th scope=col>N</th><th scope=col>O</th><th scope=col>PEI</th><th scope=col>Q</th><th scope=col>S</th><th scope=col>Y</th><th scope=col>retail</th></tr>\n",
       "</thead>\n",
       "<tbody>\n",
       "\t<tr><td>3.6242071</td><td>-0.7068350</td><td>-0.6449799</td><td>0.0417988</td><td>-0.3352845</td><td>-0.5554394</td><td>-0.3482540</td><td>-0.1093863</td><td>-0.0307977</td><td>-0.0809847</td><td>⋯</td><td>-3.006631</td><td>-5.370631</td><td>-2.3564935</td><td>-4.953700</td><td>5.493497</td><td>-4.068791</td><td>2.1628734</td><td>-2.5390015</td><td>-4.083418</td><td>-1.8042960</td></tr>\n",
       "\t<tr><td>0.4857805</td><td> 0.1586407</td><td> 0.3641983</td><td>0.1568303</td><td> 0.1577100</td><td> 0.1611718</td><td> 0.1340011</td><td> 0.1468156</td><td> 0.1374096</td><td> 0.1438390</td><td>⋯</td><td> 1.054160</td><td> 1.327954</td><td> 0.9365399</td><td> 1.198353</td><td>2.234690</td><td> 1.158022</td><td>0.8333129</td><td> 0.8964454</td><td> 1.179826</td><td> 0.9799927</td></tr>\n",
       "</tbody>\n",
       "</table>\n"
      ],
      "text/latex": [
       "A matrix: 2 × 25 of type dbl\n",
       "\\begin{tabular}{lllllllllllllllllllll}\n",
       " intercept & Aug & Dec & Feb & Jan & Jul & Jun & Mar & May & Nov & ⋯ & NL & NT & NS & N & O & PEI & Q & S & Y & retail\\\\\n",
       "\\hline\n",
       "\t 3.6242071 & -0.7068350 & -0.6449799 & 0.0417988 & -0.3352845 & -0.5554394 & -0.3482540 & -0.1093863 & -0.0307977 & -0.0809847 & ⋯ & -3.006631 & -5.370631 & -2.3564935 & -4.953700 & 5.493497 & -4.068791 & 2.1628734 & -2.5390015 & -4.083418 & -1.8042960\\\\\n",
       "\t 0.4857805 &  0.1586407 &  0.3641983 & 0.1568303 &  0.1577100 &  0.1611718 &  0.1340011 &  0.1468156 &  0.1374096 &  0.1438390 & ⋯ &  1.054160 &  1.327954 &  0.9365399 &  1.198353 & 2.234690 &  1.158022 & 0.8333129 &  0.8964454 &  1.179826 &  0.9799927\\\\\n",
       "\\end{tabular}\n"
      ],
      "text/markdown": [
       "\n",
       "A matrix: 2 × 25 of type dbl\n",
       "\n",
       "| intercept | Aug | Dec | Feb | Jan | Jul | Jun | Mar | May | Nov | ⋯ | NL | NT | NS | N | O | PEI | Q | S | Y | retail |\n",
       "|---|---|---|---|---|---|---|---|---|---|---|---|---|---|---|---|---|---|---|---|---|\n",
       "| 3.6242071 | -0.7068350 | -0.6449799 | 0.0417988 | -0.3352845 | -0.5554394 | -0.3482540 | -0.1093863 | -0.0307977 | -0.0809847 | ⋯ | -3.006631 | -5.370631 | -2.3564935 | -4.953700 | 5.493497 | -4.068791 | 2.1628734 | -2.5390015 | -4.083418 | -1.8042960 |\n",
       "| 0.4857805 |  0.1586407 |  0.3641983 | 0.1568303 |  0.1577100 |  0.1611718 |  0.1340011 |  0.1468156 |  0.1374096 |  0.1438390 | ⋯ |  1.054160 |  1.327954 |  0.9365399 |  1.198353 | 2.234690 |  1.158022 | 0.8333129 |  0.8964454 |  1.179826 |  0.9799927 |\n",
       "\n"
      ],
      "text/plain": [
       "     intercept Aug        Dec        Feb       Jan        Jul        Jun       \n",
       "[1,] 3.6242071 -0.7068350 -0.6449799 0.0417988 -0.3352845 -0.5554394 -0.3482540\n",
       "[2,] 0.4857805  0.1586407  0.3641983 0.1568303  0.1577100  0.1611718  0.1340011\n",
       "     Mar        May        Nov        ⋯ NL        NT        NS        \n",
       "[1,] -0.1093863 -0.0307977 -0.0809847 ⋯ -3.006631 -5.370631 -2.3564935\n",
       "[2,]  0.1468156  0.1374096  0.1438390 ⋯  1.054160  1.327954  0.9365399\n",
       "     N         O        PEI       Q         S          Y         retail    \n",
       "[1,] -4.953700 5.493497 -4.068791 2.1628734 -2.5390015 -4.083418 -1.8042960\n",
       "[2,]  1.198353 2.234690  1.158022 0.8333129  0.8964454  1.179826  0.9799927"
      ]
     },
     "metadata": {},
     "output_type": "display_data"
    }
   ],
   "source": [
    "apply(X=R_data[2:ncol(R_data)], MARGIN = 2, FUN = function(x) mean_and_sd(x))"
   ]
  },
  {
   "cell_type": "code",
   "execution_count": 193,
   "metadata": {
    "vscode": {
     "languageId": "r"
    }
   },
   "outputs": [
    {
     "data": {
      "text/html": [
       "<table class=\"dataframe\">\n",
       "<caption>A matrix: 3 × 25 of type dbl</caption>\n",
       "<thead>\n",
       "\t<tr><th></th><th scope=col>intercept</th><th scope=col>Aug</th><th scope=col>Dec</th><th scope=col>Feb</th><th scope=col>Jan</th><th scope=col>Jul</th><th scope=col>Jun</th><th scope=col>Mar</th><th scope=col>May</th><th scope=col>Nov</th><th scope=col>⋯</th><th scope=col>NL</th><th scope=col>NT</th><th scope=col>NS</th><th scope=col>N</th><th scope=col>O</th><th scope=col>PEI</th><th scope=col>Q</th><th scope=col>S</th><th scope=col>Y</th><th scope=col>retail</th></tr>\n",
       "</thead>\n",
       "<tbody>\n",
       "\t<tr><th scope=row>2.5%</th><td>2.638309</td><td>-1.0229295</td><td>-1.0701652</td><td>-0.26108623</td><td>-0.64173662</td><td>-0.8658241</td><td>-0.61464556</td><td>-0.3942899</td><td>-0.29580267</td><td>-0.36906203</td><td>⋯</td><td>-5.0485390</td><td>-7.806216</td><td>-4.1767948</td><td>-7.282184</td><td>0.9579893</td><td>-6.303204</td><td>0.487652</td><td>-4.2929951</td><td>-6.385641</td><td>-3.7019535</td></tr>\n",
       "\t<tr><th scope=row>50%</th><td>3.628191</td><td>-0.7056586</td><td>-0.6245194</td><td> 0.04049621</td><td>-0.33758821</td><td>-0.5557459</td><td>-0.34822169</td><td>-0.1107290</td><td>-0.03368485</td><td>-0.08142928</td><td>⋯</td><td>-3.0262273</td><td>-5.366742</td><td>-2.3706158</td><td>-4.965609</td><td>5.5160061</td><td>-4.074371</td><td>2.169517</td><td>-2.5559863</td><td>-4.101573</td><td>-1.8132160</td></tr>\n",
       "\t<tr><th scope=row>97.5%</th><td>4.568404</td><td>-0.3978743</td><td>-0.2925250</td><td> 0.35553723</td><td>-0.02436095</td><td>-0.2321302</td><td>-0.08520719</td><td> 0.1787654</td><td> 0.24665471</td><td> 0.19893386</td><td>⋯</td><td>-0.8553648</td><td>-2.901829</td><td>-0.4351734</td><td>-2.525225</td><td>9.8078010</td><td>-1.722228</td><td>3.792880</td><td>-0.7314359</td><td>-1.704820</td><td> 0.1771964</td></tr>\n",
       "</tbody>\n",
       "</table>\n"
      ],
      "text/latex": [
       "A matrix: 3 × 25 of type dbl\n",
       "\\begin{tabular}{r|lllllllllllllllllllll}\n",
       "  & intercept & Aug & Dec & Feb & Jan & Jul & Jun & Mar & May & Nov & ⋯ & NL & NT & NS & N & O & PEI & Q & S & Y & retail\\\\\n",
       "\\hline\n",
       "\t2.5\\% & 2.638309 & -1.0229295 & -1.0701652 & -0.26108623 & -0.64173662 & -0.8658241 & -0.61464556 & -0.3942899 & -0.29580267 & -0.36906203 & ⋯ & -5.0485390 & -7.806216 & -4.1767948 & -7.282184 & 0.9579893 & -6.303204 & 0.487652 & -4.2929951 & -6.385641 & -3.7019535\\\\\n",
       "\t50\\% & 3.628191 & -0.7056586 & -0.6245194 &  0.04049621 & -0.33758821 & -0.5557459 & -0.34822169 & -0.1107290 & -0.03368485 & -0.08142928 & ⋯ & -3.0262273 & -5.366742 & -2.3706158 & -4.965609 & 5.5160061 & -4.074371 & 2.169517 & -2.5559863 & -4.101573 & -1.8132160\\\\\n",
       "\t97.5\\% & 4.568404 & -0.3978743 & -0.2925250 &  0.35553723 & -0.02436095 & -0.2321302 & -0.08520719 &  0.1787654 &  0.24665471 &  0.19893386 & ⋯ & -0.8553648 & -2.901829 & -0.4351734 & -2.525225 & 9.8078010 & -1.722228 & 3.792880 & -0.7314359 & -1.704820 &  0.1771964\\\\\n",
       "\\end{tabular}\n"
      ],
      "text/markdown": [
       "\n",
       "A matrix: 3 × 25 of type dbl\n",
       "\n",
       "| <!--/--> | intercept | Aug | Dec | Feb | Jan | Jul | Jun | Mar | May | Nov | ⋯ | NL | NT | NS | N | O | PEI | Q | S | Y | retail |\n",
       "|---|---|---|---|---|---|---|---|---|---|---|---|---|---|---|---|---|---|---|---|---|---|\n",
       "| 2.5% | 2.638309 | -1.0229295 | -1.0701652 | -0.26108623 | -0.64173662 | -0.8658241 | -0.61464556 | -0.3942899 | -0.29580267 | -0.36906203 | ⋯ | -5.0485390 | -7.806216 | -4.1767948 | -7.282184 | 0.9579893 | -6.303204 | 0.487652 | -4.2929951 | -6.385641 | -3.7019535 |\n",
       "| 50% | 3.628191 | -0.7056586 | -0.6245194 |  0.04049621 | -0.33758821 | -0.5557459 | -0.34822169 | -0.1107290 | -0.03368485 | -0.08142928 | ⋯ | -3.0262273 | -5.366742 | -2.3706158 | -4.965609 | 5.5160061 | -4.074371 | 2.169517 | -2.5559863 | -4.101573 | -1.8132160 |\n",
       "| 97.5% | 4.568404 | -0.3978743 | -0.2925250 |  0.35553723 | -0.02436095 | -0.2321302 | -0.08520719 |  0.1787654 |  0.24665471 |  0.19893386 | ⋯ | -0.8553648 | -2.901829 | -0.4351734 | -2.525225 | 9.8078010 | -1.722228 | 3.792880 | -0.7314359 | -1.704820 |  0.1771964 |\n",
       "\n"
      ],
      "text/plain": [
       "      intercept Aug        Dec        Feb         Jan         Jul       \n",
       "2.5%  2.638309  -1.0229295 -1.0701652 -0.26108623 -0.64173662 -0.8658241\n",
       "50%   3.628191  -0.7056586 -0.6245194  0.04049621 -0.33758821 -0.5557459\n",
       "97.5% 4.568404  -0.3978743 -0.2925250  0.35553723 -0.02436095 -0.2321302\n",
       "      Jun         Mar        May         Nov         ⋯ NL         NT       \n",
       "2.5%  -0.61464556 -0.3942899 -0.29580267 -0.36906203 ⋯ -5.0485390 -7.806216\n",
       "50%   -0.34822169 -0.1107290 -0.03368485 -0.08142928 ⋯ -3.0262273 -5.366742\n",
       "97.5% -0.08520719  0.1787654  0.24665471  0.19893386 ⋯ -0.8553648 -2.901829\n",
       "      NS         N         O         PEI       Q        S          Y        \n",
       "2.5%  -4.1767948 -7.282184 0.9579893 -6.303204 0.487652 -4.2929951 -6.385641\n",
       "50%   -2.3706158 -4.965609 5.5160061 -4.074371 2.169517 -2.5559863 -4.101573\n",
       "97.5% -0.4351734 -2.525225 9.8078010 -1.722228 3.792880 -0.7314359 -1.704820\n",
       "      retail    \n",
       "2.5%  -3.7019535\n",
       "50%   -1.8132160\n",
       "97.5%  0.1771964"
      ]
     },
     "metadata": {},
     "output_type": "display_data"
    }
   ],
   "source": [
    "apply(X=R_data[2:ncol(R_data)], MARGIN = 2, FUN = function(x) interval(x, alpha))"
   ]
  },
  {
   "cell_type": "code",
   "execution_count": 233,
   "metadata": {
    "vscode": {
     "languageId": "r"
    }
   },
   "outputs": [
    {
     "data": {
      "text/html": [
       "<table class=\"dataframe\">\n",
       "<caption>A matrix: 6 × 5 of type dbl</caption>\n",
       "<thead>\n",
       "\t<tr><th></th><th scope=col>mean</th><th scope=col>sd</th><th scope=col>2.5%</th><th scope=col>50%</th><th scope=col>97.5%</th></tr>\n",
       "</thead>\n",
       "<tbody>\n",
       "\t<tr><th scope=row>intercept</th><td> 3.6242071</td><td>0.4857805</td><td> 2.6383094</td><td> 3.62819100</td><td> 4.56840414</td></tr>\n",
       "\t<tr><th scope=row>Aug</th><td>-0.7068350</td><td>0.1586407</td><td>-1.0229295</td><td>-0.70565856</td><td>-0.39787433</td></tr>\n",
       "\t<tr><th scope=row>Dec</th><td>-0.6449799</td><td>0.3641983</td><td>-1.0701652</td><td>-0.62451936</td><td>-0.29252499</td></tr>\n",
       "\t<tr><th scope=row>Feb</th><td> 0.0417988</td><td>0.1568303</td><td>-0.2610862</td><td> 0.04049621</td><td> 0.35553723</td></tr>\n",
       "\t<tr><th scope=row>Jan</th><td>-0.3352845</td><td>0.1577100</td><td>-0.6417366</td><td>-0.33758821</td><td>-0.02436095</td></tr>\n",
       "\t<tr><th scope=row>Jul</th><td>-0.5554394</td><td>0.1611718</td><td>-0.8658241</td><td>-0.55574586</td><td>-0.23213021</td></tr>\n",
       "</tbody>\n",
       "</table>\n"
      ],
      "text/latex": [
       "A matrix: 6 × 5 of type dbl\n",
       "\\begin{tabular}{r|lllll}\n",
       "  & mean & sd & 2.5\\% & 50\\% & 97.5\\%\\\\\n",
       "\\hline\n",
       "\tintercept &  3.6242071 & 0.4857805 &  2.6383094 &  3.62819100 &  4.56840414\\\\\n",
       "\tAug & -0.7068350 & 0.1586407 & -1.0229295 & -0.70565856 & -0.39787433\\\\\n",
       "\tDec & -0.6449799 & 0.3641983 & -1.0701652 & -0.62451936 & -0.29252499\\\\\n",
       "\tFeb &  0.0417988 & 0.1568303 & -0.2610862 &  0.04049621 &  0.35553723\\\\\n",
       "\tJan & -0.3352845 & 0.1577100 & -0.6417366 & -0.33758821 & -0.02436095\\\\\n",
       "\tJul & -0.5554394 & 0.1611718 & -0.8658241 & -0.55574586 & -0.23213021\\\\\n",
       "\\end{tabular}\n"
      ],
      "text/markdown": [
       "\n",
       "A matrix: 6 × 5 of type dbl\n",
       "\n",
       "| <!--/--> | mean | sd | 2.5% | 50% | 97.5% |\n",
       "|---|---|---|---|---|---|\n",
       "| intercept |  3.6242071 | 0.4857805 |  2.6383094 |  3.62819100 |  4.56840414 |\n",
       "| Aug | -0.7068350 | 0.1586407 | -1.0229295 | -0.70565856 | -0.39787433 |\n",
       "| Dec | -0.6449799 | 0.3641983 | -1.0701652 | -0.62451936 | -0.29252499 |\n",
       "| Feb |  0.0417988 | 0.1568303 | -0.2610862 |  0.04049621 |  0.35553723 |\n",
       "| Jan | -0.3352845 | 0.1577100 | -0.6417366 | -0.33758821 | -0.02436095 |\n",
       "| Jul | -0.5554394 | 0.1611718 | -0.8658241 | -0.55574586 | -0.23213021 |\n",
       "\n"
      ],
      "text/plain": [
       "          mean       sd        2.5%       50%         97.5%      \n",
       "intercept  3.6242071 0.4857805  2.6383094  3.62819100  4.56840414\n",
       "Aug       -0.7068350 0.1586407 -1.0229295 -0.70565856 -0.39787433\n",
       "Dec       -0.6449799 0.3641983 -1.0701652 -0.62451936 -0.29252499\n",
       "Feb        0.0417988 0.1568303 -0.2610862  0.04049621  0.35553723\n",
       "Jan       -0.3352845 0.1577100 -0.6417366 -0.33758821 -0.02436095\n",
       "Jul       -0.5554394 0.1611718 -0.8658241 -0.55574586 -0.23213021"
      ]
     },
     "metadata": {},
     "output_type": "display_data"
    },
    {
     "data": {
      "text/html": [
       "<table class=\"dataframe\">\n",
       "<caption>A data.frame: 25 × 6</caption>\n",
       "<thead>\n",
       "\t<tr><th></th><th scope=col>mean</th><th scope=col>sd</th><th scope=col>2.5%</th><th scope=col>50%</th><th scope=col>97.5%</th><th scope=col>contains</th></tr>\n",
       "\t<tr><th></th><th scope=col>&lt;dbl&gt;</th><th scope=col>&lt;dbl&gt;</th><th scope=col>&lt;dbl&gt;</th><th scope=col>&lt;dbl&gt;</th><th scope=col>&lt;dbl&gt;</th><th scope=col>&lt;lgl&gt;</th></tr>\n",
       "</thead>\n",
       "<tbody>\n",
       "\t<tr><th scope=row>intercept</th><td> 3.62420713</td><td>0.4857805</td><td> 2.6383094</td><td> 3.62819100</td><td> 4.56840414</td><td>FALSE</td></tr>\n",
       "\t<tr><th scope=row>Aug</th><td>-0.70683499</td><td>0.1586407</td><td>-1.0229295</td><td>-0.70565856</td><td>-0.39787433</td><td>FALSE</td></tr>\n",
       "\t<tr><th scope=row>Dec</th><td>-0.64497991</td><td>0.3641983</td><td>-1.0701652</td><td>-0.62451936</td><td>-0.29252499</td><td>FALSE</td></tr>\n",
       "\t<tr><th scope=row>Feb</th><td> 0.04179880</td><td>0.1568303</td><td>-0.2610862</td><td> 0.04049621</td><td> 0.35553723</td><td> TRUE</td></tr>\n",
       "\t<tr><th scope=row>Jan</th><td>-0.33528446</td><td>0.1577100</td><td>-0.6417366</td><td>-0.33758821</td><td>-0.02436095</td><td>FALSE</td></tr>\n",
       "\t<tr><th scope=row>Jul</th><td>-0.55543942</td><td>0.1611718</td><td>-0.8658241</td><td>-0.55574586</td><td>-0.23213021</td><td>FALSE</td></tr>\n",
       "\t<tr><th scope=row>Jun</th><td>-0.34825401</td><td>0.1340011</td><td>-0.6146456</td><td>-0.34822169</td><td>-0.08520719</td><td>FALSE</td></tr>\n",
       "\t<tr><th scope=row>Mar</th><td>-0.10938629</td><td>0.1468156</td><td>-0.3942899</td><td>-0.11072902</td><td> 0.17876543</td><td> TRUE</td></tr>\n",
       "\t<tr><th scope=row>May</th><td>-0.03079770</td><td>0.1374096</td><td>-0.2958027</td><td>-0.03368485</td><td> 0.24665471</td><td> TRUE</td></tr>\n",
       "\t<tr><th scope=row>Nov</th><td>-0.08098470</td><td>0.1438390</td><td>-0.3690620</td><td>-0.08142928</td><td> 0.19893386</td><td> TRUE</td></tr>\n",
       "\t<tr><th scope=row>Oct</th><td> 0.03569390</td><td>0.1400396</td><td>-0.2288119</td><td> 0.03361579</td><td> 0.31545848</td><td> TRUE</td></tr>\n",
       "\t<tr><th scope=row>Sep</th><td> 0.09911899</td><td>0.1322372</td><td>-0.1545374</td><td> 0.09893903</td><td> 0.36371849</td><td> TRUE</td></tr>\n",
       "\t<tr><th scope=row>BC</th><td> 0.82092721</td><td>0.1340432</td><td> 0.5470198</td><td> 0.82231086</td><td> 1.08326403</td><td>FALSE</td></tr>\n",
       "\t<tr><th scope=row>M</th><td>-1.87359706</td><td>0.8719669</td><td>-3.5615482</td><td>-1.88617958</td><td>-0.10764054</td><td>FALSE</td></tr>\n",
       "\t<tr><th scope=row>NB</th><td>-2.57916933</td><td>0.9913373</td><td>-4.4912876</td><td>-2.58850517</td><td>-0.56720874</td><td>FALSE</td></tr>\n",
       "\t<tr><th scope=row>NL</th><td>-3.00663139</td><td>1.0541597</td><td>-5.0485390</td><td>-3.02622725</td><td>-0.85536483</td><td>FALSE</td></tr>\n",
       "\t<tr><th scope=row>NT</th><td>-5.37063144</td><td>1.3279538</td><td>-7.8062159</td><td>-5.36674249</td><td>-2.90182949</td><td>FALSE</td></tr>\n",
       "\t<tr><th scope=row>NS</th><td>-2.35649345</td><td>0.9365399</td><td>-4.1767948</td><td>-2.37061581</td><td>-0.43517337</td><td>FALSE</td></tr>\n",
       "\t<tr><th scope=row>N</th><td>-4.95370014</td><td>1.1983530</td><td>-7.2821841</td><td>-4.96560851</td><td>-2.52522526</td><td>FALSE</td></tr>\n",
       "\t<tr><th scope=row>O</th><td> 5.49349730</td><td>2.2346902</td><td> 0.9579893</td><td> 5.51600613</td><td> 9.80780104</td><td>FALSE</td></tr>\n",
       "\t<tr><th scope=row>PEI</th><td>-4.06879117</td><td>1.1580220</td><td>-6.3032044</td><td>-4.07437088</td><td>-1.72222783</td><td>FALSE</td></tr>\n",
       "\t<tr><th scope=row>Q</th><td> 2.16287344</td><td>0.8333129</td><td> 0.4876520</td><td> 2.16951676</td><td> 3.79288046</td><td>FALSE</td></tr>\n",
       "\t<tr><th scope=row>S</th><td>-2.53900149</td><td>0.8964454</td><td>-4.2929951</td><td>-2.55598626</td><td>-0.73143592</td><td>FALSE</td></tr>\n",
       "\t<tr><th scope=row>Y</th><td>-4.08341827</td><td>1.1798255</td><td>-6.3856405</td><td>-4.10157254</td><td>-1.70482017</td><td>FALSE</td></tr>\n",
       "\t<tr><th scope=row>retail</th><td>-1.80429604</td><td>0.9799927</td><td>-3.7019535</td><td>-1.81321595</td><td> 0.17719643</td><td> TRUE</td></tr>\n",
       "</tbody>\n",
       "</table>\n"
      ],
      "text/latex": [
       "A data.frame: 25 × 6\n",
       "\\begin{tabular}{r|llllll}\n",
       "  & mean & sd & 2.5\\% & 50\\% & 97.5\\% & contains\\\\\n",
       "  & <dbl> & <dbl> & <dbl> & <dbl> & <dbl> & <lgl>\\\\\n",
       "\\hline\n",
       "\tintercept &  3.62420713 & 0.4857805 &  2.6383094 &  3.62819100 &  4.56840414 & FALSE\\\\\n",
       "\tAug & -0.70683499 & 0.1586407 & -1.0229295 & -0.70565856 & -0.39787433 & FALSE\\\\\n",
       "\tDec & -0.64497991 & 0.3641983 & -1.0701652 & -0.62451936 & -0.29252499 & FALSE\\\\\n",
       "\tFeb &  0.04179880 & 0.1568303 & -0.2610862 &  0.04049621 &  0.35553723 &  TRUE\\\\\n",
       "\tJan & -0.33528446 & 0.1577100 & -0.6417366 & -0.33758821 & -0.02436095 & FALSE\\\\\n",
       "\tJul & -0.55543942 & 0.1611718 & -0.8658241 & -0.55574586 & -0.23213021 & FALSE\\\\\n",
       "\tJun & -0.34825401 & 0.1340011 & -0.6146456 & -0.34822169 & -0.08520719 & FALSE\\\\\n",
       "\tMar & -0.10938629 & 0.1468156 & -0.3942899 & -0.11072902 &  0.17876543 &  TRUE\\\\\n",
       "\tMay & -0.03079770 & 0.1374096 & -0.2958027 & -0.03368485 &  0.24665471 &  TRUE\\\\\n",
       "\tNov & -0.08098470 & 0.1438390 & -0.3690620 & -0.08142928 &  0.19893386 &  TRUE\\\\\n",
       "\tOct &  0.03569390 & 0.1400396 & -0.2288119 &  0.03361579 &  0.31545848 &  TRUE\\\\\n",
       "\tSep &  0.09911899 & 0.1322372 & -0.1545374 &  0.09893903 &  0.36371849 &  TRUE\\\\\n",
       "\tBC &  0.82092721 & 0.1340432 &  0.5470198 &  0.82231086 &  1.08326403 & FALSE\\\\\n",
       "\tM & -1.87359706 & 0.8719669 & -3.5615482 & -1.88617958 & -0.10764054 & FALSE\\\\\n",
       "\tNB & -2.57916933 & 0.9913373 & -4.4912876 & -2.58850517 & -0.56720874 & FALSE\\\\\n",
       "\tNL & -3.00663139 & 1.0541597 & -5.0485390 & -3.02622725 & -0.85536483 & FALSE\\\\\n",
       "\tNT & -5.37063144 & 1.3279538 & -7.8062159 & -5.36674249 & -2.90182949 & FALSE\\\\\n",
       "\tNS & -2.35649345 & 0.9365399 & -4.1767948 & -2.37061581 & -0.43517337 & FALSE\\\\\n",
       "\tN & -4.95370014 & 1.1983530 & -7.2821841 & -4.96560851 & -2.52522526 & FALSE\\\\\n",
       "\tO &  5.49349730 & 2.2346902 &  0.9579893 &  5.51600613 &  9.80780104 & FALSE\\\\\n",
       "\tPEI & -4.06879117 & 1.1580220 & -6.3032044 & -4.07437088 & -1.72222783 & FALSE\\\\\n",
       "\tQ &  2.16287344 & 0.8333129 &  0.4876520 &  2.16951676 &  3.79288046 & FALSE\\\\\n",
       "\tS & -2.53900149 & 0.8964454 & -4.2929951 & -2.55598626 & -0.73143592 & FALSE\\\\\n",
       "\tY & -4.08341827 & 1.1798255 & -6.3856405 & -4.10157254 & -1.70482017 & FALSE\\\\\n",
       "\tretail & -1.80429604 & 0.9799927 & -3.7019535 & -1.81321595 &  0.17719643 &  TRUE\\\\\n",
       "\\end{tabular}\n"
      ],
      "text/markdown": [
       "\n",
       "A data.frame: 25 × 6\n",
       "\n",
       "| <!--/--> | mean &lt;dbl&gt; | sd &lt;dbl&gt; | 2.5% &lt;dbl&gt; | 50% &lt;dbl&gt; | 97.5% &lt;dbl&gt; | contains &lt;lgl&gt; |\n",
       "|---|---|---|---|---|---|---|\n",
       "| intercept |  3.62420713 | 0.4857805 |  2.6383094 |  3.62819100 |  4.56840414 | FALSE |\n",
       "| Aug | -0.70683499 | 0.1586407 | -1.0229295 | -0.70565856 | -0.39787433 | FALSE |\n",
       "| Dec | -0.64497991 | 0.3641983 | -1.0701652 | -0.62451936 | -0.29252499 | FALSE |\n",
       "| Feb |  0.04179880 | 0.1568303 | -0.2610862 |  0.04049621 |  0.35553723 |  TRUE |\n",
       "| Jan | -0.33528446 | 0.1577100 | -0.6417366 | -0.33758821 | -0.02436095 | FALSE |\n",
       "| Jul | -0.55543942 | 0.1611718 | -0.8658241 | -0.55574586 | -0.23213021 | FALSE |\n",
       "| Jun | -0.34825401 | 0.1340011 | -0.6146456 | -0.34822169 | -0.08520719 | FALSE |\n",
       "| Mar | -0.10938629 | 0.1468156 | -0.3942899 | -0.11072902 |  0.17876543 |  TRUE |\n",
       "| May | -0.03079770 | 0.1374096 | -0.2958027 | -0.03368485 |  0.24665471 |  TRUE |\n",
       "| Nov | -0.08098470 | 0.1438390 | -0.3690620 | -0.08142928 |  0.19893386 |  TRUE |\n",
       "| Oct |  0.03569390 | 0.1400396 | -0.2288119 |  0.03361579 |  0.31545848 |  TRUE |\n",
       "| Sep |  0.09911899 | 0.1322372 | -0.1545374 |  0.09893903 |  0.36371849 |  TRUE |\n",
       "| BC |  0.82092721 | 0.1340432 |  0.5470198 |  0.82231086 |  1.08326403 | FALSE |\n",
       "| M | -1.87359706 | 0.8719669 | -3.5615482 | -1.88617958 | -0.10764054 | FALSE |\n",
       "| NB | -2.57916933 | 0.9913373 | -4.4912876 | -2.58850517 | -0.56720874 | FALSE |\n",
       "| NL | -3.00663139 | 1.0541597 | -5.0485390 | -3.02622725 | -0.85536483 | FALSE |\n",
       "| NT | -5.37063144 | 1.3279538 | -7.8062159 | -5.36674249 | -2.90182949 | FALSE |\n",
       "| NS | -2.35649345 | 0.9365399 | -4.1767948 | -2.37061581 | -0.43517337 | FALSE |\n",
       "| N | -4.95370014 | 1.1983530 | -7.2821841 | -4.96560851 | -2.52522526 | FALSE |\n",
       "| O |  5.49349730 | 2.2346902 |  0.9579893 |  5.51600613 |  9.80780104 | FALSE |\n",
       "| PEI | -4.06879117 | 1.1580220 | -6.3032044 | -4.07437088 | -1.72222783 | FALSE |\n",
       "| Q |  2.16287344 | 0.8333129 |  0.4876520 |  2.16951676 |  3.79288046 | FALSE |\n",
       "| S | -2.53900149 | 0.8964454 | -4.2929951 | -2.55598626 | -0.73143592 | FALSE |\n",
       "| Y | -4.08341827 | 1.1798255 | -6.3856405 | -4.10157254 | -1.70482017 | FALSE |\n",
       "| retail | -1.80429604 | 0.9799927 | -3.7019535 | -1.81321595 |  0.17719643 |  TRUE |\n",
       "\n"
      ],
      "text/plain": [
       "          mean        sd        2.5%       50%         97.5%       contains\n",
       "intercept  3.62420713 0.4857805  2.6383094  3.62819100  4.56840414 FALSE   \n",
       "Aug       -0.70683499 0.1586407 -1.0229295 -0.70565856 -0.39787433 FALSE   \n",
       "Dec       -0.64497991 0.3641983 -1.0701652 -0.62451936 -0.29252499 FALSE   \n",
       "Feb        0.04179880 0.1568303 -0.2610862  0.04049621  0.35553723  TRUE   \n",
       "Jan       -0.33528446 0.1577100 -0.6417366 -0.33758821 -0.02436095 FALSE   \n",
       "Jul       -0.55543942 0.1611718 -0.8658241 -0.55574586 -0.23213021 FALSE   \n",
       "Jun       -0.34825401 0.1340011 -0.6146456 -0.34822169 -0.08520719 FALSE   \n",
       "Mar       -0.10938629 0.1468156 -0.3942899 -0.11072902  0.17876543  TRUE   \n",
       "May       -0.03079770 0.1374096 -0.2958027 -0.03368485  0.24665471  TRUE   \n",
       "Nov       -0.08098470 0.1438390 -0.3690620 -0.08142928  0.19893386  TRUE   \n",
       "Oct        0.03569390 0.1400396 -0.2288119  0.03361579  0.31545848  TRUE   \n",
       "Sep        0.09911899 0.1322372 -0.1545374  0.09893903  0.36371849  TRUE   \n",
       "BC         0.82092721 0.1340432  0.5470198  0.82231086  1.08326403 FALSE   \n",
       "M         -1.87359706 0.8719669 -3.5615482 -1.88617958 -0.10764054 FALSE   \n",
       "NB        -2.57916933 0.9913373 -4.4912876 -2.58850517 -0.56720874 FALSE   \n",
       "NL        -3.00663139 1.0541597 -5.0485390 -3.02622725 -0.85536483 FALSE   \n",
       "NT        -5.37063144 1.3279538 -7.8062159 -5.36674249 -2.90182949 FALSE   \n",
       "NS        -2.35649345 0.9365399 -4.1767948 -2.37061581 -0.43517337 FALSE   \n",
       "N         -4.95370014 1.1983530 -7.2821841 -4.96560851 -2.52522526 FALSE   \n",
       "O          5.49349730 2.2346902  0.9579893  5.51600613  9.80780104 FALSE   \n",
       "PEI       -4.06879117 1.1580220 -6.3032044 -4.07437088 -1.72222783 FALSE   \n",
       "Q          2.16287344 0.8333129  0.4876520  2.16951676  3.79288046 FALSE   \n",
       "S         -2.53900149 0.8964454 -4.2929951 -2.55598626 -0.73143592 FALSE   \n",
       "Y         -4.08341827 1.1798255 -6.3856405 -4.10157254 -1.70482017 FALSE   \n",
       "retail    -1.80429604 0.9799927 -3.7019535 -1.81321595  0.17719643  TRUE   "
      ]
     },
     "metadata": {},
     "output_type": "display_data"
    }
   ],
   "source": [
    "alpha = 0.05\n",
    "\n",
    "R_mean_and_sd <- apply(X=R_data[2:ncol(R_data)], MARGIN = 2, FUN = function(x) mean_and_sd(x))\n",
    "R_intervals <- apply(X=R_data[2:ncol(R_data)], MARGIN = 2, FUN = function(x) interval(x, alpha))\n",
    "\n",
    "R_results <- rbind(R_mean_and_sd,\n",
    "                   R_intervals)\n",
    "\n",
    "rownames(R_results)[1:2] <- c(\"mean\", \"sd\")\n",
    "\n",
    "R_results <- t(R_results)\n",
    "head(R_results)\n",
    "\n",
    "contains <- sapply(1:nrow(R_results), function(i) {\n",
    "    (R_results[i, \"2.5%\"] <= 0) & (R_results[i, \"97.5%\"] >= 0)\n",
    "})\n",
    "\n",
    "R_results <- as.data.frame(R_results)\n",
    "R_results$contains <- contains\n",
    "\n",
    "R_results"
   ]
  },
  {
   "cell_type": "markdown",
   "metadata": {},
   "source": []
  },
  {
   "cell_type": "markdown",
   "metadata": {},
   "source": []
  },
  {
   "cell_type": "code",
   "execution_count": 178,
   "metadata": {
    "vscode": {
     "languageId": "r"
    }
   },
   "outputs": [
    {
     "ename": "ERROR",
     "evalue": "Error in (1 - h) * qs[i]: non-numeric argument to binary operator\n",
     "output_type": "error",
     "traceback": [
      "Error in (1 - h) * qs[i]: non-numeric argument to binary operator\nTraceback:\n",
      "1. apply(X = split_data$R[1:ncol(results) - 1], MARGIN = 2, FUN = function(X) interval(X, \n .     alpha))",
      "2. FUN(newX[, i], ...)",
      "3. interval(X, alpha)   # at line 3 of file <text>",
      "4. quantile(X, probs = c(alpha/2, 1/2, 1 - (alpha/2)))   # at line 2 of file <text>",
      "5. quantile.default(X, probs = c(alpha/2, 1/2, 1 - (alpha/2)))"
     ]
    }
   ],
   "source": [
    "\n",
    "\n",
    "R_intervals <- apply(X=split_data$R[1:ncol(results)-1], MARGIN = 2, FUN = function(X) interval(X, alpha))\n",
    "S_intervals <- apply(X=split_data$S[1:ncol(results)-1], MARGIN = 2, FUN = function(X) interval(X, alpha))\n",
    "P_intervals <- apply(X=split_data$P[1:ncol(results)-1], MARGIN = 2, FUN = function(X) interval(X, alpha))"
   ]
  },
  {
   "cell_type": "code",
   "execution_count": null,
   "metadata": {
    "vscode": {
     "languageId": "r"
    }
   },
   "outputs": [
    {
     "data": {
      "text/html": [
       "<table class=\"dataframe\">\n",
       "<caption>A matrix: 6 × 25 of type dbl</caption>\n",
       "<thead>\n",
       "\t<tr><th></th><th scope=col>X.Intercept.</th><th scope=col>monthAugust</th><th scope=col>monthDecember</th><th scope=col>monthFebruary</th><th scope=col>monthJanuary</th><th scope=col>monthJuly</th><th scope=col>monthJune</th><th scope=col>monthMarch</th><th scope=col>monthMay</th><th scope=col>monthNovember</th><th scope=col>⋯</th><th scope=col>provNewfoundland.and.Labrador</th><th scope=col>provNorthwest.Territories</th><th scope=col>provNova.Scotia</th><th scope=col>provNunavut</th><th scope=col>provOntario</th><th scope=col>provPrince.Edward.Island</th><th scope=col>provQuebec</th><th scope=col>provSaskatchewan</th><th scope=col>provYukon</th><th scope=col>retail</th></tr>\n",
       "</thead>\n",
       "<tbody>\n",
       "\t<tr><th scope=row>2.5%</th><td>2.638309</td><td>-1.0229295</td><td>-1.0701652</td><td>-0.26108623</td><td>-0.64173662</td><td>-0.8658241</td><td>-0.61464556</td><td>-0.39428989</td><td>-0.29580267</td><td>-0.36906203</td><td>⋯</td><td>-5.0485390</td><td>-7.806216</td><td>-4.1767948</td><td>-7.282184</td><td>0.9579893</td><td>-6.303204</td><td>0.4876520</td><td>-4.2929951</td><td>-6.385641</td><td>-3.7019535</td></tr>\n",
       "\t<tr><th scope=row>50%</th><td>3.628191</td><td>-0.7056586</td><td>-0.6245194</td><td> 0.04049621</td><td>-0.33758821</td><td>-0.5557459</td><td>-0.34822169</td><td>-0.11072902</td><td>-0.03368485</td><td>-0.08142928</td><td>⋯</td><td>-3.0262273</td><td>-5.366742</td><td>-2.3706158</td><td>-4.965609</td><td>5.5160061</td><td>-4.074371</td><td>2.1695168</td><td>-2.5559863</td><td>-4.101573</td><td>-1.8132160</td></tr>\n",
       "\t<tr><th scope=row>97.5%</th><td>4.568404</td><td>-0.3978743</td><td>-0.2925250</td><td> 0.35553723</td><td>-0.02436095</td><td>-0.2321302</td><td>-0.08520719</td><td> 0.17876543</td><td> 0.24665471</td><td> 0.19893386</td><td>⋯</td><td>-0.8553648</td><td>-2.901829</td><td>-0.4351734</td><td>-2.525225</td><td>9.8078010</td><td>-1.722228</td><td>3.7928805</td><td>-0.7314359</td><td>-1.704820</td><td> 0.1771964</td></tr>\n",
       "\t<tr><th scope=row>2.5%</th><td>2.599840</td><td>-0.7392548</td><td>-0.6666652</td><td> 0.03079520</td><td>-0.34514988</td><td>-0.5876867</td><td>-0.40631433</td><td>-0.11841013</td><td>-0.06996519</td><td>-0.12405443</td><td>⋯</td><td>-2.4252815</td><td>-4.642832</td><td>-1.8351299</td><td>-4.267809</td><td>0.2485059</td><td>-3.424828</td><td>0.1761791</td><td>-2.0445672</td><td>-3.421056</td><td>-1.2413126</td></tr>\n",
       "\t<tr><th scope=row>50%</th><td>2.994796</td><td>-0.7183025</td><td>-0.6375412</td><td> 0.06271544</td><td>-0.31525530</td><td>-0.5663874</td><td>-0.38632408</td><td>-0.08585255</td><td>-0.05109097</td><td>-0.10487259</td><td>⋯</td><td>-1.5546172</td><td>-3.674053</td><td>-1.0631562</td><td>-3.293716</td><td>2.2608940</td><td>-2.472446</td><td>0.9418302</td><td>-1.3107676</td><td>-2.452821</td><td>-0.4002061</td></tr>\n",
       "\t<tr><th scope=row>97.5%</th><td>3.377717</td><td>-0.6879196</td><td>-0.6020680</td><td> 0.08196318</td><td>-0.29507778</td><td>-0.5357578</td><td>-0.34639462</td><td>-0.06748073</td><td>-0.01771143</td><td>-0.06829058</td><td>⋯</td><td>-0.6543936</td><td>-2.666367</td><td>-0.2555632</td><td>-2.283702</td><td>4.1918577</td><td>-1.488201</td><td>1.6765313</td><td>-0.5490652</td><td>-1.443305</td><td> 0.4770314</td></tr>\n",
       "</tbody>\n",
       "</table>\n"
      ],
      "text/latex": [
       "A matrix: 6 × 25 of type dbl\n",
       "\\begin{tabular}{r|lllllllllllllllllllll}\n",
       "  & X.Intercept. & monthAugust & monthDecember & monthFebruary & monthJanuary & monthJuly & monthJune & monthMarch & monthMay & monthNovember & ⋯ & provNewfoundland.and.Labrador & provNorthwest.Territories & provNova.Scotia & provNunavut & provOntario & provPrince.Edward.Island & provQuebec & provSaskatchewan & provYukon & retail\\\\\n",
       "\\hline\n",
       "\t2.5\\% & 2.638309 & -1.0229295 & -1.0701652 & -0.26108623 & -0.64173662 & -0.8658241 & -0.61464556 & -0.39428989 & -0.29580267 & -0.36906203 & ⋯ & -5.0485390 & -7.806216 & -4.1767948 & -7.282184 & 0.9579893 & -6.303204 & 0.4876520 & -4.2929951 & -6.385641 & -3.7019535\\\\\n",
       "\t50\\% & 3.628191 & -0.7056586 & -0.6245194 &  0.04049621 & -0.33758821 & -0.5557459 & -0.34822169 & -0.11072902 & -0.03368485 & -0.08142928 & ⋯ & -3.0262273 & -5.366742 & -2.3706158 & -4.965609 & 5.5160061 & -4.074371 & 2.1695168 & -2.5559863 & -4.101573 & -1.8132160\\\\\n",
       "\t97.5\\% & 4.568404 & -0.3978743 & -0.2925250 &  0.35553723 & -0.02436095 & -0.2321302 & -0.08520719 &  0.17876543 &  0.24665471 &  0.19893386 & ⋯ & -0.8553648 & -2.901829 & -0.4351734 & -2.525225 & 9.8078010 & -1.722228 & 3.7928805 & -0.7314359 & -1.704820 &  0.1771964\\\\\n",
       "\t2.5\\% & 2.599840 & -0.7392548 & -0.6666652 &  0.03079520 & -0.34514988 & -0.5876867 & -0.40631433 & -0.11841013 & -0.06996519 & -0.12405443 & ⋯ & -2.4252815 & -4.642832 & -1.8351299 & -4.267809 & 0.2485059 & -3.424828 & 0.1761791 & -2.0445672 & -3.421056 & -1.2413126\\\\\n",
       "\t50\\% & 2.994796 & -0.7183025 & -0.6375412 &  0.06271544 & -0.31525530 & -0.5663874 & -0.38632408 & -0.08585255 & -0.05109097 & -0.10487259 & ⋯ & -1.5546172 & -3.674053 & -1.0631562 & -3.293716 & 2.2608940 & -2.472446 & 0.9418302 & -1.3107676 & -2.452821 & -0.4002061\\\\\n",
       "\t97.5\\% & 3.377717 & -0.6879196 & -0.6020680 &  0.08196318 & -0.29507778 & -0.5357578 & -0.34639462 & -0.06748073 & -0.01771143 & -0.06829058 & ⋯ & -0.6543936 & -2.666367 & -0.2555632 & -2.283702 & 4.1918577 & -1.488201 & 1.6765313 & -0.5490652 & -1.443305 &  0.4770314\\\\\n",
       "\\end{tabular}\n"
      ],
      "text/markdown": [
       "\n",
       "A matrix: 6 × 25 of type dbl\n",
       "\n",
       "| <!--/--> | X.Intercept. | monthAugust | monthDecember | monthFebruary | monthJanuary | monthJuly | monthJune | monthMarch | monthMay | monthNovember | ⋯ | provNewfoundland.and.Labrador | provNorthwest.Territories | provNova.Scotia | provNunavut | provOntario | provPrince.Edward.Island | provQuebec | provSaskatchewan | provYukon | retail |\n",
       "|---|---|---|---|---|---|---|---|---|---|---|---|---|---|---|---|---|---|---|---|---|---|\n",
       "| 2.5% | 2.638309 | -1.0229295 | -1.0701652 | -0.26108623 | -0.64173662 | -0.8658241 | -0.61464556 | -0.39428989 | -0.29580267 | -0.36906203 | ⋯ | -5.0485390 | -7.806216 | -4.1767948 | -7.282184 | 0.9579893 | -6.303204 | 0.4876520 | -4.2929951 | -6.385641 | -3.7019535 |\n",
       "| 50% | 3.628191 | -0.7056586 | -0.6245194 |  0.04049621 | -0.33758821 | -0.5557459 | -0.34822169 | -0.11072902 | -0.03368485 | -0.08142928 | ⋯ | -3.0262273 | -5.366742 | -2.3706158 | -4.965609 | 5.5160061 | -4.074371 | 2.1695168 | -2.5559863 | -4.101573 | -1.8132160 |\n",
       "| 97.5% | 4.568404 | -0.3978743 | -0.2925250 |  0.35553723 | -0.02436095 | -0.2321302 | -0.08520719 |  0.17876543 |  0.24665471 |  0.19893386 | ⋯ | -0.8553648 | -2.901829 | -0.4351734 | -2.525225 | 9.8078010 | -1.722228 | 3.7928805 | -0.7314359 | -1.704820 |  0.1771964 |\n",
       "| 2.5% | 2.599840 | -0.7392548 | -0.6666652 |  0.03079520 | -0.34514988 | -0.5876867 | -0.40631433 | -0.11841013 | -0.06996519 | -0.12405443 | ⋯ | -2.4252815 | -4.642832 | -1.8351299 | -4.267809 | 0.2485059 | -3.424828 | 0.1761791 | -2.0445672 | -3.421056 | -1.2413126 |\n",
       "| 50% | 2.994796 | -0.7183025 | -0.6375412 |  0.06271544 | -0.31525530 | -0.5663874 | -0.38632408 | -0.08585255 | -0.05109097 | -0.10487259 | ⋯ | -1.5546172 | -3.674053 | -1.0631562 | -3.293716 | 2.2608940 | -2.472446 | 0.9418302 | -1.3107676 | -2.452821 | -0.4002061 |\n",
       "| 97.5% | 3.377717 | -0.6879196 | -0.6020680 |  0.08196318 | -0.29507778 | -0.5357578 | -0.34639462 | -0.06748073 | -0.01771143 | -0.06829058 | ⋯ | -0.6543936 | -2.666367 | -0.2555632 | -2.283702 | 4.1918577 | -1.488201 | 1.6765313 | -0.5490652 | -1.443305 |  0.4770314 |\n",
       "\n"
      ],
      "text/plain": [
       "      X.Intercept. monthAugust monthDecember monthFebruary monthJanuary\n",
       "2.5%  2.638309     -1.0229295  -1.0701652    -0.26108623   -0.64173662 \n",
       "50%   3.628191     -0.7056586  -0.6245194     0.04049621   -0.33758821 \n",
       "97.5% 4.568404     -0.3978743  -0.2925250     0.35553723   -0.02436095 \n",
       "2.5%  2.599840     -0.7392548  -0.6666652     0.03079520   -0.34514988 \n",
       "50%   2.994796     -0.7183025  -0.6375412     0.06271544   -0.31525530 \n",
       "97.5% 3.377717     -0.6879196  -0.6020680     0.08196318   -0.29507778 \n",
       "      monthJuly  monthJune   monthMarch  monthMay    monthNovember ⋯\n",
       "2.5%  -0.8658241 -0.61464556 -0.39428989 -0.29580267 -0.36906203   ⋯\n",
       "50%   -0.5557459 -0.34822169 -0.11072902 -0.03368485 -0.08142928   ⋯\n",
       "97.5% -0.2321302 -0.08520719  0.17876543  0.24665471  0.19893386   ⋯\n",
       "2.5%  -0.5876867 -0.40631433 -0.11841013 -0.06996519 -0.12405443   ⋯\n",
       "50%   -0.5663874 -0.38632408 -0.08585255 -0.05109097 -0.10487259   ⋯\n",
       "97.5% -0.5357578 -0.34639462 -0.06748073 -0.01771143 -0.06829058   ⋯\n",
       "      provNewfoundland.and.Labrador provNorthwest.Territories provNova.Scotia\n",
       "2.5%  -5.0485390                    -7.806216                 -4.1767948     \n",
       "50%   -3.0262273                    -5.366742                 -2.3706158     \n",
       "97.5% -0.8553648                    -2.901829                 -0.4351734     \n",
       "2.5%  -2.4252815                    -4.642832                 -1.8351299     \n",
       "50%   -1.5546172                    -3.674053                 -1.0631562     \n",
       "97.5% -0.6543936                    -2.666367                 -0.2555632     \n",
       "      provNunavut provOntario provPrince.Edward.Island provQuebec\n",
       "2.5%  -7.282184   0.9579893   -6.303204                0.4876520 \n",
       "50%   -4.965609   5.5160061   -4.074371                2.1695168 \n",
       "97.5% -2.525225   9.8078010   -1.722228                3.7928805 \n",
       "2.5%  -4.267809   0.2485059   -3.424828                0.1761791 \n",
       "50%   -3.293716   2.2608940   -2.472446                0.9418302 \n",
       "97.5% -2.283702   4.1918577   -1.488201                1.6765313 \n",
       "      provSaskatchewan provYukon retail    \n",
       "2.5%  -4.2929951       -6.385641 -3.7019535\n",
       "50%   -2.5559863       -4.101573 -1.8132160\n",
       "97.5% -0.7314359       -1.704820  0.1771964\n",
       "2.5%  -2.0445672       -3.421056 -1.2413126\n",
       "50%   -1.3107676       -2.452821 -0.4002061\n",
       "97.5% -0.5490652       -1.443305  0.4770314"
      ]
     },
     "metadata": {},
     "output_type": "display_data"
    }
   ],
   "source": [
    "rbind(R_intervals, S_intervals)"
   ]
  },
  {
   "cell_type": "code",
   "execution_count": null,
   "metadata": {
    "vscode": {
     "languageId": "r"
    }
   },
   "outputs": [],
   "source": [
    "intervals <- data.frame(\n",
    "                prob_lower = rep(c(\"2.5%\", \"50%\", \"97.5%\"), length=9),\n",
    "                method=rep(c(\"R\", \"S\", \"P\"), each=3),\n",
    "                rbind(R_intervals, S_intervals, P_intervals)\n",
    "                )\n",
    "\n",
    "rownames(intervals) <- NULL"
   ]
  },
  {
   "cell_type": "code",
   "execution_count": null,
   "metadata": {
    "vscode": {
     "languageId": "r"
    }
   },
   "outputs": [
    {
     "data": {
      "text/html": [
       "<table class=\"dataframe\">\n",
       "<caption>A data.frame: 9 × 27</caption>\n",
       "<thead>\n",
       "\t<tr><th scope=col>prob_lower</th><th scope=col>method</th><th scope=col>X.Intercept.</th><th scope=col>monthAugust</th><th scope=col>monthDecember</th><th scope=col>monthFebruary</th><th scope=col>monthJanuary</th><th scope=col>monthJuly</th><th scope=col>monthJune</th><th scope=col>monthMarch</th><th scope=col>⋯</th><th scope=col>provNewfoundland.and.Labrador</th><th scope=col>provNorthwest.Territories</th><th scope=col>provNova.Scotia</th><th scope=col>provNunavut</th><th scope=col>provOntario</th><th scope=col>provPrince.Edward.Island</th><th scope=col>provQuebec</th><th scope=col>provSaskatchewan</th><th scope=col>provYukon</th><th scope=col>retail</th></tr>\n",
       "\t<tr><th scope=col>&lt;chr&gt;</th><th scope=col>&lt;chr&gt;</th><th scope=col>&lt;dbl&gt;</th><th scope=col>&lt;dbl&gt;</th><th scope=col>&lt;dbl&gt;</th><th scope=col>&lt;dbl&gt;</th><th scope=col>&lt;dbl&gt;</th><th scope=col>&lt;dbl&gt;</th><th scope=col>&lt;dbl&gt;</th><th scope=col>&lt;dbl&gt;</th><th scope=col>⋯</th><th scope=col>&lt;dbl&gt;</th><th scope=col>&lt;dbl&gt;</th><th scope=col>&lt;dbl&gt;</th><th scope=col>&lt;dbl&gt;</th><th scope=col>&lt;dbl&gt;</th><th scope=col>&lt;dbl&gt;</th><th scope=col>&lt;dbl&gt;</th><th scope=col>&lt;dbl&gt;</th><th scope=col>&lt;dbl&gt;</th><th scope=col>&lt;dbl&gt;</th></tr>\n",
       "</thead>\n",
       "<tbody>\n",
       "\t<tr><td>2.5% </td><td>R</td><td>2.638309</td><td>-1.0229295</td><td>-1.0701652</td><td>-0.26108623</td><td>-0.64173662</td><td>-0.8658241</td><td>-0.61464556</td><td>-0.39428989</td><td>⋯</td><td>-5.0485390</td><td>-7.806216</td><td>-4.1767948</td><td>-7.282184</td><td>0.9579893</td><td>-6.303204</td><td>0.4876520</td><td>-4.2929951</td><td>-6.385641</td><td>-3.7019535</td></tr>\n",
       "\t<tr><td>50%  </td><td>R</td><td>3.628191</td><td>-0.7056586</td><td>-0.6245194</td><td> 0.04049621</td><td>-0.33758821</td><td>-0.5557459</td><td>-0.34822169</td><td>-0.11072902</td><td>⋯</td><td>-3.0262273</td><td>-5.366742</td><td>-2.3706158</td><td>-4.965609</td><td>5.5160061</td><td>-4.074371</td><td>2.1695168</td><td>-2.5559863</td><td>-4.101573</td><td>-1.8132160</td></tr>\n",
       "\t<tr><td>97.5%</td><td>R</td><td>4.568404</td><td>-0.3978743</td><td>-0.2925250</td><td> 0.35553723</td><td>-0.02436095</td><td>-0.2321302</td><td>-0.08520719</td><td> 0.17876543</td><td>⋯</td><td>-0.8553648</td><td>-2.901829</td><td>-0.4351734</td><td>-2.525225</td><td>9.8078010</td><td>-1.722228</td><td>3.7928805</td><td>-0.7314359</td><td>-1.704820</td><td> 0.1771964</td></tr>\n",
       "\t<tr><td>2.5% </td><td>S</td><td>2.599840</td><td>-0.7392548</td><td>-0.6666652</td><td> 0.03079520</td><td>-0.34514988</td><td>-0.5876867</td><td>-0.40631433</td><td>-0.11841013</td><td>⋯</td><td>-2.4252815</td><td>-4.642832</td><td>-1.8351299</td><td>-4.267809</td><td>0.2485059</td><td>-3.424828</td><td>0.1761791</td><td>-2.0445672</td><td>-3.421056</td><td>-1.2413126</td></tr>\n",
       "\t<tr><td>50%  </td><td>S</td><td>2.994796</td><td>-0.7183025</td><td>-0.6375412</td><td> 0.06271544</td><td>-0.31525530</td><td>-0.5663874</td><td>-0.38632408</td><td>-0.08585255</td><td>⋯</td><td>-1.5546172</td><td>-3.674053</td><td>-1.0631562</td><td>-3.293716</td><td>2.2608940</td><td>-2.472446</td><td>0.9418302</td><td>-1.3107676</td><td>-2.452821</td><td>-0.4002061</td></tr>\n",
       "\t<tr><td>97.5%</td><td>S</td><td>3.377717</td><td>-0.6879196</td><td>-0.6020680</td><td> 0.08196318</td><td>-0.29507778</td><td>-0.5357578</td><td>-0.34639462</td><td>-0.06748073</td><td>⋯</td><td>-0.6543936</td><td>-2.666367</td><td>-0.2555632</td><td>-2.283702</td><td>4.1918577</td><td>-1.488201</td><td>1.6765313</td><td>-0.5490652</td><td>-1.443305</td><td> 0.4770314</td></tr>\n",
       "\t<tr><td>2.5% </td><td>P</td><td>3.544242</td><td>-0.7731109</td><td>-0.7136395</td><td> 0.01013993</td><td>-0.37765418</td><td>-0.6142526</td><td>-0.40771169</td><td>-0.14845004</td><td>⋯</td><td>-3.3563613</td><td>-5.862642</td><td>-2.6515771</td><td>-5.565897</td><td>5.1580648</td><td>-4.577444</td><td>2.0409146</td><td>-2.8284224</td><td>-4.593393</td><td>-2.0999963</td></tr>\n",
       "\t<tr><td>50%  </td><td>P</td><td>3.650856</td><td>-0.7100712</td><td>-0.6341851</td><td> 0.04883353</td><td>-0.33188344</td><td>-0.5577477</td><td>-0.35421006</td><td>-0.10734762</td><td>⋯</td><td>-3.1089254</td><td>-5.223697</td><td>-2.4361414</td><td>-4.998834</td><td>5.6728211</td><td>-4.206930</td><td>2.2361975</td><td>-2.6183470</td><td>-4.224613</td><td>-1.8779335</td></tr>\n",
       "\t<tr><td>97.5%</td><td>P</td><td>3.757613</td><td>-0.6486280</td><td>-0.5573118</td><td> 0.08658984</td><td>-0.28444406</td><td>-0.5030369</td><td>-0.30230038</td><td>-0.06556112</td><td>⋯</td><td>-2.8539180</td><td>-4.720743</td><td>-2.2242638</td><td>-4.549851</td><td>6.1869472</td><td>-3.871733</td><td>2.4322074</td><td>-2.4066814</td><td>-3.887201</td><td>-1.6554507</td></tr>\n",
       "</tbody>\n",
       "</table>\n"
      ],
      "text/latex": [
       "A data.frame: 9 × 27\n",
       "\\begin{tabular}{lllllllllllllllllllll}\n",
       " prob\\_lower & method & X.Intercept. & monthAugust & monthDecember & monthFebruary & monthJanuary & monthJuly & monthJune & monthMarch & ⋯ & provNewfoundland.and.Labrador & provNorthwest.Territories & provNova.Scotia & provNunavut & provOntario & provPrince.Edward.Island & provQuebec & provSaskatchewan & provYukon & retail\\\\\n",
       " <chr> & <chr> & <dbl> & <dbl> & <dbl> & <dbl> & <dbl> & <dbl> & <dbl> & <dbl> & ⋯ & <dbl> & <dbl> & <dbl> & <dbl> & <dbl> & <dbl> & <dbl> & <dbl> & <dbl> & <dbl>\\\\\n",
       "\\hline\n",
       "\t 2.5\\%  & R & 2.638309 & -1.0229295 & -1.0701652 & -0.26108623 & -0.64173662 & -0.8658241 & -0.61464556 & -0.39428989 & ⋯ & -5.0485390 & -7.806216 & -4.1767948 & -7.282184 & 0.9579893 & -6.303204 & 0.4876520 & -4.2929951 & -6.385641 & -3.7019535\\\\\n",
       "\t 50\\%   & R & 3.628191 & -0.7056586 & -0.6245194 &  0.04049621 & -0.33758821 & -0.5557459 & -0.34822169 & -0.11072902 & ⋯ & -3.0262273 & -5.366742 & -2.3706158 & -4.965609 & 5.5160061 & -4.074371 & 2.1695168 & -2.5559863 & -4.101573 & -1.8132160\\\\\n",
       "\t 97.5\\% & R & 4.568404 & -0.3978743 & -0.2925250 &  0.35553723 & -0.02436095 & -0.2321302 & -0.08520719 &  0.17876543 & ⋯ & -0.8553648 & -2.901829 & -0.4351734 & -2.525225 & 9.8078010 & -1.722228 & 3.7928805 & -0.7314359 & -1.704820 &  0.1771964\\\\\n",
       "\t 2.5\\%  & S & 2.599840 & -0.7392548 & -0.6666652 &  0.03079520 & -0.34514988 & -0.5876867 & -0.40631433 & -0.11841013 & ⋯ & -2.4252815 & -4.642832 & -1.8351299 & -4.267809 & 0.2485059 & -3.424828 & 0.1761791 & -2.0445672 & -3.421056 & -1.2413126\\\\\n",
       "\t 50\\%   & S & 2.994796 & -0.7183025 & -0.6375412 &  0.06271544 & -0.31525530 & -0.5663874 & -0.38632408 & -0.08585255 & ⋯ & -1.5546172 & -3.674053 & -1.0631562 & -3.293716 & 2.2608940 & -2.472446 & 0.9418302 & -1.3107676 & -2.452821 & -0.4002061\\\\\n",
       "\t 97.5\\% & S & 3.377717 & -0.6879196 & -0.6020680 &  0.08196318 & -0.29507778 & -0.5357578 & -0.34639462 & -0.06748073 & ⋯ & -0.6543936 & -2.666367 & -0.2555632 & -2.283702 & 4.1918577 & -1.488201 & 1.6765313 & -0.5490652 & -1.443305 &  0.4770314\\\\\n",
       "\t 2.5\\%  & P & 3.544242 & -0.7731109 & -0.7136395 &  0.01013993 & -0.37765418 & -0.6142526 & -0.40771169 & -0.14845004 & ⋯ & -3.3563613 & -5.862642 & -2.6515771 & -5.565897 & 5.1580648 & -4.577444 & 2.0409146 & -2.8284224 & -4.593393 & -2.0999963\\\\\n",
       "\t 50\\%   & P & 3.650856 & -0.7100712 & -0.6341851 &  0.04883353 & -0.33188344 & -0.5577477 & -0.35421006 & -0.10734762 & ⋯ & -3.1089254 & -5.223697 & -2.4361414 & -4.998834 & 5.6728211 & -4.206930 & 2.2361975 & -2.6183470 & -4.224613 & -1.8779335\\\\\n",
       "\t 97.5\\% & P & 3.757613 & -0.6486280 & -0.5573118 &  0.08658984 & -0.28444406 & -0.5030369 & -0.30230038 & -0.06556112 & ⋯ & -2.8539180 & -4.720743 & -2.2242638 & -4.549851 & 6.1869472 & -3.871733 & 2.4322074 & -2.4066814 & -3.887201 & -1.6554507\\\\\n",
       "\\end{tabular}\n"
      ],
      "text/markdown": [
       "\n",
       "A data.frame: 9 × 27\n",
       "\n",
       "| prob_lower &lt;chr&gt; | method &lt;chr&gt; | X.Intercept. &lt;dbl&gt; | monthAugust &lt;dbl&gt; | monthDecember &lt;dbl&gt; | monthFebruary &lt;dbl&gt; | monthJanuary &lt;dbl&gt; | monthJuly &lt;dbl&gt; | monthJune &lt;dbl&gt; | monthMarch &lt;dbl&gt; | ⋯ ⋯ | provNewfoundland.and.Labrador &lt;dbl&gt; | provNorthwest.Territories &lt;dbl&gt; | provNova.Scotia &lt;dbl&gt; | provNunavut &lt;dbl&gt; | provOntario &lt;dbl&gt; | provPrince.Edward.Island &lt;dbl&gt; | provQuebec &lt;dbl&gt; | provSaskatchewan &lt;dbl&gt; | provYukon &lt;dbl&gt; | retail &lt;dbl&gt; |\n",
       "|---|---|---|---|---|---|---|---|---|---|---|---|---|---|---|---|---|---|---|---|---|\n",
       "| 2.5%  | R | 2.638309 | -1.0229295 | -1.0701652 | -0.26108623 | -0.64173662 | -0.8658241 | -0.61464556 | -0.39428989 | ⋯ | -5.0485390 | -7.806216 | -4.1767948 | -7.282184 | 0.9579893 | -6.303204 | 0.4876520 | -4.2929951 | -6.385641 | -3.7019535 |\n",
       "| 50%   | R | 3.628191 | -0.7056586 | -0.6245194 |  0.04049621 | -0.33758821 | -0.5557459 | -0.34822169 | -0.11072902 | ⋯ | -3.0262273 | -5.366742 | -2.3706158 | -4.965609 | 5.5160061 | -4.074371 | 2.1695168 | -2.5559863 | -4.101573 | -1.8132160 |\n",
       "| 97.5% | R | 4.568404 | -0.3978743 | -0.2925250 |  0.35553723 | -0.02436095 | -0.2321302 | -0.08520719 |  0.17876543 | ⋯ | -0.8553648 | -2.901829 | -0.4351734 | -2.525225 | 9.8078010 | -1.722228 | 3.7928805 | -0.7314359 | -1.704820 |  0.1771964 |\n",
       "| 2.5%  | S | 2.599840 | -0.7392548 | -0.6666652 |  0.03079520 | -0.34514988 | -0.5876867 | -0.40631433 | -0.11841013 | ⋯ | -2.4252815 | -4.642832 | -1.8351299 | -4.267809 | 0.2485059 | -3.424828 | 0.1761791 | -2.0445672 | -3.421056 | -1.2413126 |\n",
       "| 50%   | S | 2.994796 | -0.7183025 | -0.6375412 |  0.06271544 | -0.31525530 | -0.5663874 | -0.38632408 | -0.08585255 | ⋯ | -1.5546172 | -3.674053 | -1.0631562 | -3.293716 | 2.2608940 | -2.472446 | 0.9418302 | -1.3107676 | -2.452821 | -0.4002061 |\n",
       "| 97.5% | S | 3.377717 | -0.6879196 | -0.6020680 |  0.08196318 | -0.29507778 | -0.5357578 | -0.34639462 | -0.06748073 | ⋯ | -0.6543936 | -2.666367 | -0.2555632 | -2.283702 | 4.1918577 | -1.488201 | 1.6765313 | -0.5490652 | -1.443305 |  0.4770314 |\n",
       "| 2.5%  | P | 3.544242 | -0.7731109 | -0.7136395 |  0.01013993 | -0.37765418 | -0.6142526 | -0.40771169 | -0.14845004 | ⋯ | -3.3563613 | -5.862642 | -2.6515771 | -5.565897 | 5.1580648 | -4.577444 | 2.0409146 | -2.8284224 | -4.593393 | -2.0999963 |\n",
       "| 50%   | P | 3.650856 | -0.7100712 | -0.6341851 |  0.04883353 | -0.33188344 | -0.5577477 | -0.35421006 | -0.10734762 | ⋯ | -3.1089254 | -5.223697 | -2.4361414 | -4.998834 | 5.6728211 | -4.206930 | 2.2361975 | -2.6183470 | -4.224613 | -1.8779335 |\n",
       "| 97.5% | P | 3.757613 | -0.6486280 | -0.5573118 |  0.08658984 | -0.28444406 | -0.5030369 | -0.30230038 | -0.06556112 | ⋯ | -2.8539180 | -4.720743 | -2.2242638 | -4.549851 | 6.1869472 | -3.871733 | 2.4322074 | -2.4066814 | -3.887201 | -1.6554507 |\n",
       "\n"
      ],
      "text/plain": [
       "  prob_lower method X.Intercept. monthAugust monthDecember monthFebruary\n",
       "1 2.5%       R      2.638309     -1.0229295  -1.0701652    -0.26108623  \n",
       "2 50%        R      3.628191     -0.7056586  -0.6245194     0.04049621  \n",
       "3 97.5%      R      4.568404     -0.3978743  -0.2925250     0.35553723  \n",
       "4 2.5%       S      2.599840     -0.7392548  -0.6666652     0.03079520  \n",
       "5 50%        S      2.994796     -0.7183025  -0.6375412     0.06271544  \n",
       "6 97.5%      S      3.377717     -0.6879196  -0.6020680     0.08196318  \n",
       "7 2.5%       P      3.544242     -0.7731109  -0.7136395     0.01013993  \n",
       "8 50%        P      3.650856     -0.7100712  -0.6341851     0.04883353  \n",
       "9 97.5%      P      3.757613     -0.6486280  -0.5573118     0.08658984  \n",
       "  monthJanuary monthJuly  monthJune   monthMarch  ⋯\n",
       "1 -0.64173662  -0.8658241 -0.61464556 -0.39428989 ⋯\n",
       "2 -0.33758821  -0.5557459 -0.34822169 -0.11072902 ⋯\n",
       "3 -0.02436095  -0.2321302 -0.08520719  0.17876543 ⋯\n",
       "4 -0.34514988  -0.5876867 -0.40631433 -0.11841013 ⋯\n",
       "5 -0.31525530  -0.5663874 -0.38632408 -0.08585255 ⋯\n",
       "6 -0.29507778  -0.5357578 -0.34639462 -0.06748073 ⋯\n",
       "7 -0.37765418  -0.6142526 -0.40771169 -0.14845004 ⋯\n",
       "8 -0.33188344  -0.5577477 -0.35421006 -0.10734762 ⋯\n",
       "9 -0.28444406  -0.5030369 -0.30230038 -0.06556112 ⋯\n",
       "  provNewfoundland.and.Labrador provNorthwest.Territories provNova.Scotia\n",
       "1 -5.0485390                    -7.806216                 -4.1767948     \n",
       "2 -3.0262273                    -5.366742                 -2.3706158     \n",
       "3 -0.8553648                    -2.901829                 -0.4351734     \n",
       "4 -2.4252815                    -4.642832                 -1.8351299     \n",
       "5 -1.5546172                    -3.674053                 -1.0631562     \n",
       "6 -0.6543936                    -2.666367                 -0.2555632     \n",
       "7 -3.3563613                    -5.862642                 -2.6515771     \n",
       "8 -3.1089254                    -5.223697                 -2.4361414     \n",
       "9 -2.8539180                    -4.720743                 -2.2242638     \n",
       "  provNunavut provOntario provPrince.Edward.Island provQuebec provSaskatchewan\n",
       "1 -7.282184   0.9579893   -6.303204                0.4876520  -4.2929951      \n",
       "2 -4.965609   5.5160061   -4.074371                2.1695168  -2.5559863      \n",
       "3 -2.525225   9.8078010   -1.722228                3.7928805  -0.7314359      \n",
       "4 -4.267809   0.2485059   -3.424828                0.1761791  -2.0445672      \n",
       "5 -3.293716   2.2608940   -2.472446                0.9418302  -1.3107676      \n",
       "6 -2.283702   4.1918577   -1.488201                1.6765313  -0.5490652      \n",
       "7 -5.565897   5.1580648   -4.577444                2.0409146  -2.8284224      \n",
       "8 -4.998834   5.6728211   -4.206930                2.2361975  -2.6183470      \n",
       "9 -4.549851   6.1869472   -3.871733                2.4322074  -2.4066814      \n",
       "  provYukon retail    \n",
       "1 -6.385641 -3.7019535\n",
       "2 -4.101573 -1.8132160\n",
       "3 -1.704820  0.1771964\n",
       "4 -3.421056 -1.2413126\n",
       "5 -2.452821 -0.4002061\n",
       "6 -1.443305  0.4770314\n",
       "7 -4.593393 -2.0999963\n",
       "8 -4.224613 -1.8779335\n",
       "9 -3.887201 -1.6554507"
      ]
     },
     "metadata": {},
     "output_type": "display_data"
    }
   ],
   "source": [
    "intervals"
   ]
  }
 ],
 "metadata": {
  "kernelspec": {
   "display_name": "R",
   "language": "R",
   "name": "ir"
  },
  "language_info": {
   "codemirror_mode": "r",
   "file_extension": ".r",
   "mimetype": "text/x-r-source",
   "name": "R",
   "pygments_lexer": "r",
   "version": "4.3.3"
  }
 },
 "nbformat": 4,
 "nbformat_minor": 2
}
