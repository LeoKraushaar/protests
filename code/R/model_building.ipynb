{
 "cells": [
  {
   "cell_type": "markdown",
   "metadata": {},
   "source": [
    "## Model Building"
   ]
  },
  {
   "cell_type": "code",
   "execution_count": 351,
   "metadata": {
    "vscode": {
     "languageId": "r"
    }
   },
   "outputs": [],
   "source": [
    "library(MASS)\n",
    "library(dplyr)"
   ]
  },
  {
   "cell_type": "code",
   "execution_count": 352,
   "metadata": {
    "vscode": {
     "languageId": "r"
    }
   },
   "outputs": [],
   "source": [
    "setwd(\"/home/leoKraushaar/Documents/School/Year 3/Semester 2/STAT 413/Project/protests/\")\n",
    "set.seed(42)"
   ]
  },
  {
   "cell_type": "code",
   "execution_count": 353,
   "metadata": {
    "vscode": {
     "languageId": "r"
    }
   },
   "outputs": [],
   "source": [
    "B <- 1e4\n",
    "init_data <- read.csv(\"data/merged_data.csv\")[, -1]"
   ]
  },
  {
   "cell_type": "code",
   "execution_count": 354,
   "metadata": {
    "vscode": {
     "languageId": "r"
    }
   },
   "outputs": [],
   "source": [
    "no_na <- init_data[!is.na(init_data$food), ]"
   ]
  },
  {
   "cell_type": "code",
   "execution_count": null,
   "metadata": {
    "vscode": {
     "languageId": "r"
    }
   },
   "outputs": [],
   "source": []
  },
  {
   "cell_type": "code",
   "execution_count": 355,
   "metadata": {
    "vscode": {
     "languageId": "r"
    }
   },
   "outputs": [
    {
     "name": "stderr",
     "output_type": "stream",
     "text": [
      "Warning message in mean.default(X[[i]], ...):\n",
      "“argument is not numeric or logical: returning NA”\n",
      "Warning message in mean.default(X[[i]], ...):\n",
      "“argument is not numeric or logical: returning NA”\n",
      "Warning message in mean.default(X[[i]], ...):\n",
      "“argument is not numeric or logical: returning NA”\n",
      "Warning message in mean.default(X[[i]], ...):\n",
      "“argument is not numeric or logical: returning NA”\n",
      "Warning message in mean.default(X[[i]], ...):\n",
      "“argument is not numeric or logical: returning NA”\n",
      "Warning message in mean.default(X[[i]], ...):\n",
      "“argument is not numeric or logical: returning NA”\n",
      "Warning message in mean.default(X[[i]], ...):\n",
      "“argument is not numeric or logical: returning NA”\n",
      "Warning message in mean.default(X[[i]], ...):\n",
      "“argument is not numeric or logical: returning NA”\n",
      "Warning message in mean.default(X[[i]], ...):\n",
      "“argument is not numeric or logical: returning NA”\n",
      "Warning message in mean.default(X[[i]], ...):\n",
      "“argument is not numeric or logical: returning NA”\n",
      "Warning message in mean.default(X[[i]], ...):\n",
      "“argument is not numeric or logical: returning NA”\n",
      "Warning message in mean.default(X[[i]], ...):\n",
      "“argument is not numeric or logical: returning NA”\n",
      "Warning message in mean.default(X[[i]], ...):\n",
      "“argument is not numeric or logical: returning NA”\n",
      "Warning message in mean.default(X[[i]], ...):\n",
      "“argument is not numeric or logical: returning NA”\n",
      "Warning message in mean.default(X[[i]], ...):\n",
      "“argument is not numeric or logical: returning NA”\n",
      "Warning message in mean.default(X[[i]], ...):\n",
      "“argument is not numeric or logical: returning NA”\n",
      "Warning message in mean.default(X[[i]], ...):\n",
      "“argument is not numeric or logical: returning NA”\n",
      "Warning message in mean.default(X[[i]], ...):\n",
      "“argument is not numeric or logical: returning NA”\n",
      "Warning message in mean.default(X[[i]], ...):\n",
      "“argument is not numeric or logical: returning NA”\n",
      "Warning message in mean.default(X[[i]], ...):\n",
      "“argument is not numeric or logical: returning NA”\n",
      "Warning message in mean.default(X[[i]], ...):\n",
      "“argument is not numeric or logical: returning NA”\n",
      "Warning message in mean.default(X[[i]], ...):\n",
      "“argument is not numeric or logical: returning NA”\n",
      "Warning message in mean.default(X[[i]], ...):\n",
      "“argument is not numeric or logical: returning NA”\n",
      "Warning message in mean.default(X[[i]], ...):\n",
      "“argument is not numeric or logical: returning NA”\n",
      "Warning message in mean.default(X[[i]], ...):\n",
      "“argument is not numeric or logical: returning NA”\n",
      "Warning message in mean.default(X[[i]], ...):\n",
      "“argument is not numeric or logical: returning NA”\n"
     ]
    },
    {
     "data": {
      "text/html": [
       "<table class=\"dataframe\">\n",
       "<caption>A data.frame: 13 × 11</caption>\n",
       "<thead>\n",
       "\t<tr><th scope=col>GEO</th><th scope=col>year</th><th scope=col>month</th><th scope=col>GEO</th><th scope=col>pop</th><th scope=col>protests</th><th scope=col>retail</th><th scope=col>oil</th><th scope=col>food</th><th scope=col>manufac</th><th scope=col>power</th></tr>\n",
       "\t<tr><th scope=col>&lt;chr&gt;</th><th scope=col>&lt;dbl&gt;</th><th scope=col>&lt;dbl&gt;</th><th scope=col>&lt;dbl&gt;</th><th scope=col>&lt;dbl&gt;</th><th scope=col>&lt;dbl&gt;</th><th scope=col>&lt;dbl&gt;</th><th scope=col>&lt;dbl&gt;</th><th scope=col>&lt;dbl&gt;</th><th scope=col>&lt;dbl&gt;</th><th scope=col>&lt;dbl&gt;</th></tr>\n",
       "</thead>\n",
       "<tbody>\n",
       "\t<tr><td>Alberta                  </td><td>2022.478</td><td>NA</td><td>NA</td><td> 4581995.96</td><td>14.3043478</td><td> 8319656.33</td><td>  4387.21739</td><td> 937175.348</td><td> 8873660.609</td><td> 6489172.70</td></tr>\n",
       "\t<tr><td>British Columbia         </td><td>2022.478</td><td>NA</td><td>NA</td><td> 5412289.48</td><td>26.0869565</td><td> 9024311.55</td><td>125095.47826</td><td>1283290.174</td><td> 5574813.261</td><td> 5400146.30</td></tr>\n",
       "\t<tr><td>Manitoba                 </td><td>2022.478</td><td>NA</td><td>NA</td><td> 1428427.30</td><td> 9.8695652</td><td> 2222732.99</td><td>  5152.78261</td><td> 204188.652</td><td> 2155307.435</td><td> 2218550.35</td></tr>\n",
       "\t<tr><td>New Brunswick            </td><td>2022.478</td><td>NA</td><td>NA</td><td>  818066.17</td><td> 6.1739130</td><td> 1402415.30</td><td> 17352.04348</td><td> 120912.783</td><td> 2128030.522</td><td> 1113762.87</td></tr>\n",
       "\t<tr><td>Newfoundland and Labrador</td><td>2022.478</td><td>NA</td><td>NA</td><td>  533920.65</td><td> 4.4347826</td><td>  943038.57</td><td> 97493.08696</td><td>  81424.174</td><td>  301443.391</td><td>  855166.30</td></tr>\n",
       "\t<tr><td>Northwest Territories    </td><td>2022.455</td><td>NA</td><td>NA</td><td>   44745.64</td><td> 0.5909091</td><td>   76230.69</td><td>  2921.18182</td><td>   5954.455</td><td>          NA</td><td>   57258.77</td></tr>\n",
       "\t<tr><td>Nova Scotia              </td><td>2022.478</td><td>NA</td><td>NA</td><td> 1036178.35</td><td> 7.0000000</td><td> 1740475.88</td><td> 55095.26087</td><td> 172000.870</td><td>  897782.957</td><td>  910680.09</td></tr>\n",
       "\t<tr><td>Nunavut                  </td><td>2022.500</td><td>NA</td><td>NA</td><td>   40512.44</td><td> 0.7777778</td><td>   49825.21</td><td>  7139.61111</td><td>   2590.722</td><td>          NA</td><td>   16072.83</td></tr>\n",
       "\t<tr><td>Ontario                  </td><td>2022.478</td><td>NA</td><td>NA</td><td>15319924.43</td><td>52.4782609</td><td>24677464.61</td><td>164802.30435</td><td>2846003.000</td><td>31496569.304</td><td>11844421.22</td></tr>\n",
       "\t<tr><td>Prince Edward Island     </td><td>2022.478</td><td>NA</td><td>NA</td><td>  169408.74</td><td> 1.8695652</td><td>  288725.24</td><td>     0.00000</td><td>  33564.217</td><td>  265641.696</td><td>  134760.43</td></tr>\n",
       "\t<tr><td>Quebec                   </td><td>2022.478</td><td>NA</td><td>NA</td><td> 8747738.78</td><td>25.3043478</td><td>14493981.46</td><td>303171.04348</td><td>1414522.130</td><td>17754253.304</td><td>17551142.87</td></tr>\n",
       "\t<tr><td>Saskatchewan             </td><td>2022.478</td><td>NA</td><td>NA</td><td> 1190555.57</td><td> 5.3913043</td><td> 2095939.48</td><td>  1592.60870</td><td> 189286.652</td><td> 2077086.087</td><td> 2085938.00</td></tr>\n",
       "\t<tr><td>Yukon                    </td><td>2022.455</td><td>NA</td><td>NA</td><td>   44153.91</td><td> 2.0000000</td><td>   93766.69</td><td>    47.90909</td><td>   8144.864</td><td>    3491.636</td><td>   46243.50</td></tr>\n",
       "</tbody>\n",
       "</table>\n"
      ],
      "text/latex": [
       "A data.frame: 13 × 11\n",
       "\\begin{tabular}{lllllllllll}\n",
       " GEO & year & month & GEO & pop & protests & retail & oil & food & manufac & power\\\\\n",
       " <chr> & <dbl> & <dbl> & <dbl> & <dbl> & <dbl> & <dbl> & <dbl> & <dbl> & <dbl> & <dbl>\\\\\n",
       "\\hline\n",
       "\t Alberta                   & 2022.478 & NA & NA &  4581995.96 & 14.3043478 &  8319656.33 &   4387.21739 &  937175.348 &  8873660.609 &  6489172.70\\\\\n",
       "\t British Columbia          & 2022.478 & NA & NA &  5412289.48 & 26.0869565 &  9024311.55 & 125095.47826 & 1283290.174 &  5574813.261 &  5400146.30\\\\\n",
       "\t Manitoba                  & 2022.478 & NA & NA &  1428427.30 &  9.8695652 &  2222732.99 &   5152.78261 &  204188.652 &  2155307.435 &  2218550.35\\\\\n",
       "\t New Brunswick             & 2022.478 & NA & NA &   818066.17 &  6.1739130 &  1402415.30 &  17352.04348 &  120912.783 &  2128030.522 &  1113762.87\\\\\n",
       "\t Newfoundland and Labrador & 2022.478 & NA & NA &   533920.65 &  4.4347826 &   943038.57 &  97493.08696 &   81424.174 &   301443.391 &   855166.30\\\\\n",
       "\t Northwest Territories     & 2022.455 & NA & NA &    44745.64 &  0.5909091 &    76230.69 &   2921.18182 &    5954.455 &           NA &    57258.77\\\\\n",
       "\t Nova Scotia               & 2022.478 & NA & NA &  1036178.35 &  7.0000000 &  1740475.88 &  55095.26087 &  172000.870 &   897782.957 &   910680.09\\\\\n",
       "\t Nunavut                   & 2022.500 & NA & NA &    40512.44 &  0.7777778 &    49825.21 &   7139.61111 &    2590.722 &           NA &    16072.83\\\\\n",
       "\t Ontario                   & 2022.478 & NA & NA & 15319924.43 & 52.4782609 & 24677464.61 & 164802.30435 & 2846003.000 & 31496569.304 & 11844421.22\\\\\n",
       "\t Prince Edward Island      & 2022.478 & NA & NA &   169408.74 &  1.8695652 &   288725.24 &      0.00000 &   33564.217 &   265641.696 &   134760.43\\\\\n",
       "\t Quebec                    & 2022.478 & NA & NA &  8747738.78 & 25.3043478 & 14493981.46 & 303171.04348 & 1414522.130 & 17754253.304 & 17551142.87\\\\\n",
       "\t Saskatchewan              & 2022.478 & NA & NA &  1190555.57 &  5.3913043 &  2095939.48 &   1592.60870 &  189286.652 &  2077086.087 &  2085938.00\\\\\n",
       "\t Yukon                     & 2022.455 & NA & NA &    44153.91 &  2.0000000 &    93766.69 &     47.90909 &    8144.864 &     3491.636 &    46243.50\\\\\n",
       "\\end{tabular}\n"
      ],
      "text/markdown": [
       "\n",
       "A data.frame: 13 × 11\n",
       "\n",
       "| GEO &lt;chr&gt; | year &lt;dbl&gt; | month &lt;dbl&gt; | GEO &lt;dbl&gt; | pop &lt;dbl&gt; | protests &lt;dbl&gt; | retail &lt;dbl&gt; | oil &lt;dbl&gt; | food &lt;dbl&gt; | manufac &lt;dbl&gt; | power &lt;dbl&gt; |\n",
       "|---|---|---|---|---|---|---|---|---|---|---|\n",
       "| Alberta                   | 2022.478 | NA | NA |  4581995.96 | 14.3043478 |  8319656.33 |   4387.21739 |  937175.348 |  8873660.609 |  6489172.70 |\n",
       "| British Columbia          | 2022.478 | NA | NA |  5412289.48 | 26.0869565 |  9024311.55 | 125095.47826 | 1283290.174 |  5574813.261 |  5400146.30 |\n",
       "| Manitoba                  | 2022.478 | NA | NA |  1428427.30 |  9.8695652 |  2222732.99 |   5152.78261 |  204188.652 |  2155307.435 |  2218550.35 |\n",
       "| New Brunswick             | 2022.478 | NA | NA |   818066.17 |  6.1739130 |  1402415.30 |  17352.04348 |  120912.783 |  2128030.522 |  1113762.87 |\n",
       "| Newfoundland and Labrador | 2022.478 | NA | NA |   533920.65 |  4.4347826 |   943038.57 |  97493.08696 |   81424.174 |   301443.391 |   855166.30 |\n",
       "| Northwest Territories     | 2022.455 | NA | NA |    44745.64 |  0.5909091 |    76230.69 |   2921.18182 |    5954.455 |           NA |    57258.77 |\n",
       "| Nova Scotia               | 2022.478 | NA | NA |  1036178.35 |  7.0000000 |  1740475.88 |  55095.26087 |  172000.870 |   897782.957 |   910680.09 |\n",
       "| Nunavut                   | 2022.500 | NA | NA |    40512.44 |  0.7777778 |    49825.21 |   7139.61111 |    2590.722 |           NA |    16072.83 |\n",
       "| Ontario                   | 2022.478 | NA | NA | 15319924.43 | 52.4782609 | 24677464.61 | 164802.30435 | 2846003.000 | 31496569.304 | 11844421.22 |\n",
       "| Prince Edward Island      | 2022.478 | NA | NA |   169408.74 |  1.8695652 |   288725.24 |      0.00000 |   33564.217 |   265641.696 |   134760.43 |\n",
       "| Quebec                    | 2022.478 | NA | NA |  8747738.78 | 25.3043478 | 14493981.46 | 303171.04348 | 1414522.130 | 17754253.304 | 17551142.87 |\n",
       "| Saskatchewan              | 2022.478 | NA | NA |  1190555.57 |  5.3913043 |  2095939.48 |   1592.60870 |  189286.652 |  2077086.087 |  2085938.00 |\n",
       "| Yukon                     | 2022.455 | NA | NA |    44153.91 |  2.0000000 |    93766.69 |     47.90909 |    8144.864 |     3491.636 |    46243.50 |\n",
       "\n"
      ],
      "text/plain": [
       "   GEO                       year     month GEO pop         protests  \n",
       "1  Alberta                   2022.478 NA    NA   4581995.96 14.3043478\n",
       "2  British Columbia          2022.478 NA    NA   5412289.48 26.0869565\n",
       "3  Manitoba                  2022.478 NA    NA   1428427.30  9.8695652\n",
       "4  New Brunswick             2022.478 NA    NA    818066.17  6.1739130\n",
       "5  Newfoundland and Labrador 2022.478 NA    NA    533920.65  4.4347826\n",
       "6  Northwest Territories     2022.455 NA    NA     44745.64  0.5909091\n",
       "7  Nova Scotia               2022.478 NA    NA   1036178.35  7.0000000\n",
       "8  Nunavut                   2022.500 NA    NA     40512.44  0.7777778\n",
       "9  Ontario                   2022.478 NA    NA  15319924.43 52.4782609\n",
       "10 Prince Edward Island      2022.478 NA    NA    169408.74  1.8695652\n",
       "11 Quebec                    2022.478 NA    NA   8747738.78 25.3043478\n",
       "12 Saskatchewan              2022.478 NA    NA   1190555.57  5.3913043\n",
       "13 Yukon                     2022.455 NA    NA     44153.91  2.0000000\n",
       "   retail      oil          food        manufac      power      \n",
       "1   8319656.33   4387.21739  937175.348  8873660.609  6489172.70\n",
       "2   9024311.55 125095.47826 1283290.174  5574813.261  5400146.30\n",
       "3   2222732.99   5152.78261  204188.652  2155307.435  2218550.35\n",
       "4   1402415.30  17352.04348  120912.783  2128030.522  1113762.87\n",
       "5    943038.57  97493.08696   81424.174   301443.391   855166.30\n",
       "6     76230.69   2921.18182    5954.455           NA    57258.77\n",
       "7   1740475.88  55095.26087  172000.870   897782.957   910680.09\n",
       "8     49825.21   7139.61111    2590.722           NA    16072.83\n",
       "9  24677464.61 164802.30435 2846003.000 31496569.304 11844421.22\n",
       "10   288725.24      0.00000   33564.217   265641.696   134760.43\n",
       "11 14493981.46 303171.04348 1414522.130 17754253.304 17551142.87\n",
       "12  2095939.48   1592.60870  189286.652  2077086.087  2085938.00\n",
       "13    93766.69     47.90909    8144.864     3491.636    46243.50"
      ]
     },
     "metadata": {},
     "output_type": "display_data"
    }
   ],
   "source": [
    "means <- aggregate(no_na, by=list(GEO=no_na$GEO), mean)\n",
    "means"
   ]
  },
  {
   "cell_type": "code",
   "execution_count": 357,
   "metadata": {
    "vscode": {
     "languageId": "r"
    }
   },
   "outputs": [],
   "source": [
    "replaceFood <- function(food, prov, means) {\n",
    "\n",
    "    if (is.na(food)) {\n",
    "        new_val <- means[means$GEO == prov, \"food\"]\n",
    "        return(as.numeric(new_val))\n",
    "    } else {\n",
    "        return(as.numeric(food))\n",
    "    }\n",
    "}"
   ]
  },
  {
   "cell_type": "code",
   "execution_count": 358,
   "metadata": {
    "vscode": {
     "languageId": "r"
    }
   },
   "outputs": [],
   "source": [
    "init_data$food <- apply(init_data, MARGIN = 1, function(row) {replaceFood(row[\"food\"], row[\"GEO\"], means)})"
   ]
  },
  {
   "cell_type": "code",
   "execution_count": 359,
   "metadata": {
    "vscode": {
     "languageId": "r"
    }
   },
   "outputs": [
    {
     "data": {
      "text/html": [
       "<table class=\"dataframe\">\n",
       "<caption>A data.frame: 299 × 9</caption>\n",
       "<thead>\n",
       "\t<tr><th scope=col>year</th><th scope=col>month</th><th scope=col>GEO</th><th scope=col>pop</th><th scope=col>protests</th><th scope=col>retail</th><th scope=col>oil</th><th scope=col>food</th><th scope=col>power</th></tr>\n",
       "\t<tr><th scope=col>&lt;int&gt;</th><th scope=col>&lt;chr&gt;</th><th scope=col>&lt;chr&gt;</th><th scope=col>&lt;int&gt;</th><th scope=col>&lt;int&gt;</th><th scope=col>&lt;dbl&gt;</th><th scope=col>&lt;int&gt;</th><th scope=col>&lt;dbl&gt;</th><th scope=col>&lt;int&gt;</th></tr>\n",
       "</thead>\n",
       "<tbody>\n",
       "\t<tr><td>2022</td><td>April   </td><td>Alberta                  </td><td> 4480956</td><td>17</td><td> 7989056</td><td>  3983</td><td> 868863</td><td> 6069621</td></tr>\n",
       "\t<tr><td>2022</td><td>April   </td><td>British Columbia         </td><td> 5310164</td><td>42</td><td> 8959229</td><td> 77433</td><td>1222442</td><td> 5240902</td></tr>\n",
       "\t<tr><td>2022</td><td>April   </td><td>Manitoba                 </td><td> 1405197</td><td> 2</td><td> 2083495</td><td>  6290</td><td> 194206</td><td> 2168371</td></tr>\n",
       "\t<tr><td>2022</td><td>April   </td><td>New Brunswick            </td><td>  801778</td><td> 5</td><td> 1340707</td><td>  1818</td><td> 116742</td><td> 1171958</td></tr>\n",
       "\t<tr><td>2022</td><td>April   </td><td>Newfoundland and Labrador</td><td>  529249</td><td> 2</td><td>  920444</td><td> 77160</td><td>  78292</td><td>  686123</td></tr>\n",
       "\t<tr><td>2022</td><td>April   </td><td>Northwest Territories    </td><td>   44828</td><td> 0</td><td>   76390</td><td>     0</td><td>   5724</td><td>   58889</td></tr>\n",
       "\t<tr><td>2022</td><td>April   </td><td>Nova Scotia              </td><td> 1014827</td><td> 2</td><td> 1689162</td><td> 47821</td><td> 164055</td><td>  899107</td></tr>\n",
       "\t<tr><td>2022</td><td>April   </td><td>Nunavut                  </td><td>   40489</td><td> 0</td><td>   48635</td><td>     0</td><td>   1861</td><td>   16071</td></tr>\n",
       "\t<tr><td>2022</td><td>April   </td><td>Ontario                  </td><td>15046211</td><td>46</td><td>24616762</td><td>267687</td><td>2682207</td><td>10717875</td></tr>\n",
       "\t<tr><td>2022</td><td>April   </td><td>Prince Edward Island     </td><td>  165524</td><td> 0</td><td>  269014</td><td>     0</td><td>  30470</td><td>  129091</td></tr>\n",
       "\t<tr><td>2022</td><td>April   </td><td>Quebec                   </td><td> 8627524</td><td>26</td><td>13896378</td><td>228362</td><td>1314059</td><td>17514950</td></tr>\n",
       "\t<tr><td>2022</td><td>April   </td><td>Saskatchewan             </td><td> 1173366</td><td> 5</td><td> 2048833</td><td>  1285</td><td> 178681</td><td> 1869556</td></tr>\n",
       "\t<tr><td>2022</td><td>April   </td><td>Yukon                    </td><td>   43454</td><td> 2</td><td>   88900</td><td>     0</td><td>   7819</td><td>   43778</td></tr>\n",
       "\t<tr><td>2022</td><td>August  </td><td>Alberta                  </td><td> 4510891</td><td> 6</td><td> 8312320</td><td>  4388</td><td> 906253</td><td> 6783590</td></tr>\n",
       "\t<tr><td>2022</td><td>August  </td><td>British Columbia         </td><td> 5356284</td><td>19</td><td> 9144939</td><td>151630</td><td>1233372</td><td> 4870866</td></tr>\n",
       "\t<tr><td>2022</td><td>August  </td><td>Manitoba                 </td><td> 1413409</td><td> 6</td><td> 2231006</td><td>  4489</td><td> 198691</td><td> 2054341</td></tr>\n",
       "\t<tr><td>2022</td><td>August  </td><td>New Brunswick            </td><td>  809568</td><td> 4</td><td> 1368487</td><td>  2311</td><td> 116593</td><td>  997796</td></tr>\n",
       "\t<tr><td>2022</td><td>August  </td><td>Newfoundland and Labrador</td><td>  531583</td><td> 5</td><td>  958844</td><td>150263</td><td>  78940</td><td>  684606</td></tr>\n",
       "\t<tr><td>2022</td><td>August  </td><td>Northwest Territories    </td><td>   44685</td><td> 0</td><td>   75755</td><td> 36714</td><td>   5832</td><td>   51834</td></tr>\n",
       "\t<tr><td>2022</td><td>August  </td><td>Nova Scotia              </td><td> 1025445</td><td> 8</td><td> 1714108</td><td> 57149</td><td> 166828</td><td>  847062</td></tr>\n",
       "\t<tr><td>2022</td><td>August  </td><td>Nunavut                  </td><td>   40485</td><td> 0</td><td>   48163</td><td>     0</td><td>   2375</td><td>   14405</td></tr>\n",
       "\t<tr><td>2022</td><td>August  </td><td>Ontario                  </td><td>15145006</td><td>28</td><td>24320748</td><td>256796</td><td>2754474</td><td>12987686</td></tr>\n",
       "\t<tr><td>2022</td><td>August  </td><td>Prince Edward Island     </td><td>  167188</td><td> 1</td><td>  281978</td><td>     0</td><td>  33239</td><td>  115815</td></tr>\n",
       "\t<tr><td>2022</td><td>August  </td><td>Quebec                   </td><td> 8672185</td><td> 8</td><td>14351635</td><td>358902</td><td>1395697</td><td>15068395</td></tr>\n",
       "\t<tr><td>2022</td><td>August  </td><td>Saskatchewan             </td><td> 1178422</td><td> 4</td><td> 2110437</td><td>  1606</td><td> 181882</td><td> 2063730</td></tr>\n",
       "\t<tr><td>2022</td><td>August  </td><td>Yukon                    </td><td>   43905</td><td> 0</td><td>   92845</td><td>     0</td><td>   7493</td><td>   38095</td></tr>\n",
       "\t<tr><td>2022</td><td>December</td><td>Alberta                  </td><td> 4561350</td><td> 4</td><td> 8431294</td><td>  2616</td><td> 937555</td><td> 7146188</td></tr>\n",
       "\t<tr><td>2022</td><td>December</td><td>British Columbia         </td><td> 5403528</td><td>16</td><td> 8960346</td><td>167172</td><td>1285432</td><td> 6876391</td></tr>\n",
       "\t<tr><td>2022</td><td>December</td><td>Manitoba                 </td><td> 1423596</td><td> 8</td><td> 2275146</td><td>  3608</td><td> 208406</td><td> 2876953</td></tr>\n",
       "\t<tr><td>2022</td><td>December</td><td>New Brunswick            </td><td>  817766</td><td> 7</td><td> 1376248</td><td>  1233</td><td> 121964</td><td> 1415122</td></tr>\n",
       "\t<tr><td>⋮</td><td>⋮</td><td>⋮</td><td>⋮</td><td>⋮</td><td>⋮</td><td>⋮</td><td>⋮</td><td>⋮</td></tr>\n",
       "\t<tr><td>2023</td><td>November </td><td>Prince Edward Island     </td><td>  175853</td><td> 2</td><td>  306554.00</td><td>     0</td><td>  36342</td><td>  139348</td></tr>\n",
       "\t<tr><td>2023</td><td>November </td><td>Quebec                   </td><td> 8948540</td><td>43</td><td>14861184.00</td><td>311386</td><td>1550373</td><td>18782951</td></tr>\n",
       "\t<tr><td>2023</td><td>November </td><td>Saskatchewan             </td><td> 1218976</td><td> 5</td><td> 2118073.00</td><td>  1314</td><td> 203970</td><td> 2199838</td></tr>\n",
       "\t<tr><td>2023</td><td>November </td><td>Yukon                    </td><td>   45148</td><td> 4</td><td>   97695.00</td><td>     0</td><td>   9460</td><td>   63017</td></tr>\n",
       "\t<tr><td>2023</td><td>October  </td><td>Alberta                  </td><td> 4756408</td><td>17</td><td> 8524706.00</td><td>  2004</td><td>1020938</td><td> 6576535</td></tr>\n",
       "\t<tr><td>2023</td><td>October  </td><td>British Columbia         </td><td> 5581127</td><td>31</td><td> 9116046.00</td><td>144566</td><td>1360250</td><td> 5481719</td></tr>\n",
       "\t<tr><td>2023</td><td>October  </td><td>Manitoba                 </td><td> 1465440</td><td>14</td><td> 2263706.00</td><td>  4114</td><td> 214117</td><td> 1883566</td></tr>\n",
       "\t<tr><td>2023</td><td>October  </td><td>New Brunswick            </td><td>  842725</td><td> 4</td><td> 1470290.00</td><td>  1137</td><td> 129902</td><td>  982231</td></tr>\n",
       "\t<tr><td>2023</td><td>October  </td><td>Newfoundland and Labrador</td><td>  540418</td><td> 7</td><td>  953907.00</td><td>     0</td><td>  86490</td><td>  817346</td></tr>\n",
       "\t<tr><td>2023</td><td>October  </td><td>Northwest Territories    </td><td>   44760</td><td> 0</td><td>   83353.50</td><td>     0</td><td>   6509</td><td>   47285</td></tr>\n",
       "\t<tr><td>2023</td><td>October  </td><td>Nova Scotia              </td><td> 1066416</td><td> 8</td><td> 1774644.00</td><td> 63643</td><td> 180974</td><td>  825066</td></tr>\n",
       "\t<tr><td>2023</td><td>October  </td><td>Nunavut                  </td><td>   40817</td><td> 0</td><td>   54694.50</td><td>     0</td><td>   3715</td><td>   16165</td></tr>\n",
       "\t<tr><td>2023</td><td>October  </td><td>Ontario                  </td><td>15801768</td><td>91</td><td>24940255.00</td><td>110879</td><td>3042934</td><td>11422274</td></tr>\n",
       "\t<tr><td>2023</td><td>October  </td><td>Prince Edward Island     </td><td>  175853</td><td> 4</td><td>  302505.00</td><td>     0</td><td>  35466</td><td>  118057</td></tr>\n",
       "\t<tr><td>2023</td><td>October  </td><td>Quebec                   </td><td> 8948540</td><td>36</td><td>15090182.50</td><td>267734</td><td>1534894</td><td>15244058</td></tr>\n",
       "\t<tr><td>2023</td><td>October  </td><td>Saskatchewan             </td><td> 1218976</td><td>14</td><td> 2180903.50</td><td>  1628</td><td> 198505</td><td> 1979795</td></tr>\n",
       "\t<tr><td>2023</td><td>October  </td><td>Yukon                    </td><td>   45148</td><td> 3</td><td>   94912.00</td><td>     0</td><td>   9268</td><td>   50892</td></tr>\n",
       "\t<tr><td>2023</td><td>September</td><td>Alberta                  </td><td> 4695290</td><td>19</td><td> 8548094.33</td><td>  2956</td><td>1004084</td><td> 6298895</td></tr>\n",
       "\t<tr><td>2023</td><td>September</td><td>British Columbia         </td><td> 5519013</td><td>40</td><td> 9073433.00</td><td>127585</td><td>1351233</td><td> 4957719</td></tr>\n",
       "\t<tr><td>2023</td><td>September</td><td>Manitoba                 </td><td> 1454902</td><td>20</td><td> 2255683.67</td><td>  5158</td><td> 212430</td><td> 1744014</td></tr>\n",
       "\t<tr><td>2023</td><td>September</td><td>New Brunswick            </td><td>  834691</td><td>12</td><td> 1444919.67</td><td> 24572</td><td> 124672</td><td>  905474</td></tr>\n",
       "\t<tr><td>2023</td><td>September</td><td>Newfoundland and Labrador</td><td>  538605</td><td> 6</td><td>  943546.33</td><td>123003</td><td>  84021</td><td>  718676</td></tr>\n",
       "\t<tr><td>2023</td><td>September</td><td>Northwest Territories    </td><td>   44972</td><td> 0</td><td>   68868.67</td><td> 24660</td><td>   5178</td><td>   48440</td></tr>\n",
       "\t<tr><td>2023</td><td>September</td><td>Nova Scotia              </td><td> 1058694</td><td>13</td><td> 1772434.00</td><td> 42237</td><td> 178627</td><td>  773087</td></tr>\n",
       "\t<tr><td>2023</td><td>September</td><td>Nunavut                  </td><td>   40673</td><td> 0</td><td>   54499.00</td><td>     0</td><td>   3058</td><td>   14630</td></tr>\n",
       "\t<tr><td>2023</td><td>September</td><td>Ontario                  </td><td>15608369</td><td>73</td><td>24758223.67</td><td>149100</td><td>3009578</td><td>11407506</td></tr>\n",
       "\t<tr><td>2023</td><td>September</td><td>Prince Edward Island     </td><td>  173787</td><td> 4</td><td>  304682.00</td><td>     0</td><td>  35896</td><td>  117725</td></tr>\n",
       "\t<tr><td>2023</td><td>September</td><td>Quebec                   </td><td> 8874683</td><td>22</td><td>14978844.33</td><td>327837</td><td>1528758</td><td>14563138</td></tr>\n",
       "\t<tr><td>2023</td><td>September</td><td>Saskatchewan             </td><td> 1209107</td><td> 7</td><td> 2151378.33</td><td>  1250</td><td> 196160</td><td> 1892052</td></tr>\n",
       "\t<tr><td>2023</td><td>September</td><td>Yukon                    </td><td>   44975</td><td> 3</td><td>   97186.67</td><td>     0</td><td>   9221</td><td>   37029</td></tr>\n",
       "</tbody>\n",
       "</table>\n"
      ],
      "text/latex": [
       "A data.frame: 299 × 9\n",
       "\\begin{tabular}{lllllllll}\n",
       " year & month & GEO & pop & protests & retail & oil & food & power\\\\\n",
       " <int> & <chr> & <chr> & <int> & <int> & <dbl> & <int> & <dbl> & <int>\\\\\n",
       "\\hline\n",
       "\t 2022 & April    & Alberta                   &  4480956 & 17 &  7989056 &   3983 &  868863 &  6069621\\\\\n",
       "\t 2022 & April    & British Columbia          &  5310164 & 42 &  8959229 &  77433 & 1222442 &  5240902\\\\\n",
       "\t 2022 & April    & Manitoba                  &  1405197 &  2 &  2083495 &   6290 &  194206 &  2168371\\\\\n",
       "\t 2022 & April    & New Brunswick             &   801778 &  5 &  1340707 &   1818 &  116742 &  1171958\\\\\n",
       "\t 2022 & April    & Newfoundland and Labrador &   529249 &  2 &   920444 &  77160 &   78292 &   686123\\\\\n",
       "\t 2022 & April    & Northwest Territories     &    44828 &  0 &    76390 &      0 &    5724 &    58889\\\\\n",
       "\t 2022 & April    & Nova Scotia               &  1014827 &  2 &  1689162 &  47821 &  164055 &   899107\\\\\n",
       "\t 2022 & April    & Nunavut                   &    40489 &  0 &    48635 &      0 &    1861 &    16071\\\\\n",
       "\t 2022 & April    & Ontario                   & 15046211 & 46 & 24616762 & 267687 & 2682207 & 10717875\\\\\n",
       "\t 2022 & April    & Prince Edward Island      &   165524 &  0 &   269014 &      0 &   30470 &   129091\\\\\n",
       "\t 2022 & April    & Quebec                    &  8627524 & 26 & 13896378 & 228362 & 1314059 & 17514950\\\\\n",
       "\t 2022 & April    & Saskatchewan              &  1173366 &  5 &  2048833 &   1285 &  178681 &  1869556\\\\\n",
       "\t 2022 & April    & Yukon                     &    43454 &  2 &    88900 &      0 &    7819 &    43778\\\\\n",
       "\t 2022 & August   & Alberta                   &  4510891 &  6 &  8312320 &   4388 &  906253 &  6783590\\\\\n",
       "\t 2022 & August   & British Columbia          &  5356284 & 19 &  9144939 & 151630 & 1233372 &  4870866\\\\\n",
       "\t 2022 & August   & Manitoba                  &  1413409 &  6 &  2231006 &   4489 &  198691 &  2054341\\\\\n",
       "\t 2022 & August   & New Brunswick             &   809568 &  4 &  1368487 &   2311 &  116593 &   997796\\\\\n",
       "\t 2022 & August   & Newfoundland and Labrador &   531583 &  5 &   958844 & 150263 &   78940 &   684606\\\\\n",
       "\t 2022 & August   & Northwest Territories     &    44685 &  0 &    75755 &  36714 &    5832 &    51834\\\\\n",
       "\t 2022 & August   & Nova Scotia               &  1025445 &  8 &  1714108 &  57149 &  166828 &   847062\\\\\n",
       "\t 2022 & August   & Nunavut                   &    40485 &  0 &    48163 &      0 &    2375 &    14405\\\\\n",
       "\t 2022 & August   & Ontario                   & 15145006 & 28 & 24320748 & 256796 & 2754474 & 12987686\\\\\n",
       "\t 2022 & August   & Prince Edward Island      &   167188 &  1 &   281978 &      0 &   33239 &   115815\\\\\n",
       "\t 2022 & August   & Quebec                    &  8672185 &  8 & 14351635 & 358902 & 1395697 & 15068395\\\\\n",
       "\t 2022 & August   & Saskatchewan              &  1178422 &  4 &  2110437 &   1606 &  181882 &  2063730\\\\\n",
       "\t 2022 & August   & Yukon                     &    43905 &  0 &    92845 &      0 &    7493 &    38095\\\\\n",
       "\t 2022 & December & Alberta                   &  4561350 &  4 &  8431294 &   2616 &  937555 &  7146188\\\\\n",
       "\t 2022 & December & British Columbia          &  5403528 & 16 &  8960346 & 167172 & 1285432 &  6876391\\\\\n",
       "\t 2022 & December & Manitoba                  &  1423596 &  8 &  2275146 &   3608 &  208406 &  2876953\\\\\n",
       "\t 2022 & December & New Brunswick             &   817766 &  7 &  1376248 &   1233 &  121964 &  1415122\\\\\n",
       "\t ⋮ & ⋮ & ⋮ & ⋮ & ⋮ & ⋮ & ⋮ & ⋮ & ⋮\\\\\n",
       "\t 2023 & November  & Prince Edward Island      &   175853 &  2 &   306554.00 &      0 &   36342 &   139348\\\\\n",
       "\t 2023 & November  & Quebec                    &  8948540 & 43 & 14861184.00 & 311386 & 1550373 & 18782951\\\\\n",
       "\t 2023 & November  & Saskatchewan              &  1218976 &  5 &  2118073.00 &   1314 &  203970 &  2199838\\\\\n",
       "\t 2023 & November  & Yukon                     &    45148 &  4 &    97695.00 &      0 &    9460 &    63017\\\\\n",
       "\t 2023 & October   & Alberta                   &  4756408 & 17 &  8524706.00 &   2004 & 1020938 &  6576535\\\\\n",
       "\t 2023 & October   & British Columbia          &  5581127 & 31 &  9116046.00 & 144566 & 1360250 &  5481719\\\\\n",
       "\t 2023 & October   & Manitoba                  &  1465440 & 14 &  2263706.00 &   4114 &  214117 &  1883566\\\\\n",
       "\t 2023 & October   & New Brunswick             &   842725 &  4 &  1470290.00 &   1137 &  129902 &   982231\\\\\n",
       "\t 2023 & October   & Newfoundland and Labrador &   540418 &  7 &   953907.00 &      0 &   86490 &   817346\\\\\n",
       "\t 2023 & October   & Northwest Territories     &    44760 &  0 &    83353.50 &      0 &    6509 &    47285\\\\\n",
       "\t 2023 & October   & Nova Scotia               &  1066416 &  8 &  1774644.00 &  63643 &  180974 &   825066\\\\\n",
       "\t 2023 & October   & Nunavut                   &    40817 &  0 &    54694.50 &      0 &    3715 &    16165\\\\\n",
       "\t 2023 & October   & Ontario                   & 15801768 & 91 & 24940255.00 & 110879 & 3042934 & 11422274\\\\\n",
       "\t 2023 & October   & Prince Edward Island      &   175853 &  4 &   302505.00 &      0 &   35466 &   118057\\\\\n",
       "\t 2023 & October   & Quebec                    &  8948540 & 36 & 15090182.50 & 267734 & 1534894 & 15244058\\\\\n",
       "\t 2023 & October   & Saskatchewan              &  1218976 & 14 &  2180903.50 &   1628 &  198505 &  1979795\\\\\n",
       "\t 2023 & October   & Yukon                     &    45148 &  3 &    94912.00 &      0 &    9268 &    50892\\\\\n",
       "\t 2023 & September & Alberta                   &  4695290 & 19 &  8548094.33 &   2956 & 1004084 &  6298895\\\\\n",
       "\t 2023 & September & British Columbia          &  5519013 & 40 &  9073433.00 & 127585 & 1351233 &  4957719\\\\\n",
       "\t 2023 & September & Manitoba                  &  1454902 & 20 &  2255683.67 &   5158 &  212430 &  1744014\\\\\n",
       "\t 2023 & September & New Brunswick             &   834691 & 12 &  1444919.67 &  24572 &  124672 &   905474\\\\\n",
       "\t 2023 & September & Newfoundland and Labrador &   538605 &  6 &   943546.33 & 123003 &   84021 &   718676\\\\\n",
       "\t 2023 & September & Northwest Territories     &    44972 &  0 &    68868.67 &  24660 &    5178 &    48440\\\\\n",
       "\t 2023 & September & Nova Scotia               &  1058694 & 13 &  1772434.00 &  42237 &  178627 &   773087\\\\\n",
       "\t 2023 & September & Nunavut                   &    40673 &  0 &    54499.00 &      0 &    3058 &    14630\\\\\n",
       "\t 2023 & September & Ontario                   & 15608369 & 73 & 24758223.67 & 149100 & 3009578 & 11407506\\\\\n",
       "\t 2023 & September & Prince Edward Island      &   173787 &  4 &   304682.00 &      0 &   35896 &   117725\\\\\n",
       "\t 2023 & September & Quebec                    &  8874683 & 22 & 14978844.33 & 327837 & 1528758 & 14563138\\\\\n",
       "\t 2023 & September & Saskatchewan              &  1209107 &  7 &  2151378.33 &   1250 &  196160 &  1892052\\\\\n",
       "\t 2023 & September & Yukon                     &    44975 &  3 &    97186.67 &      0 &    9221 &    37029\\\\\n",
       "\\end{tabular}\n"
      ],
      "text/markdown": [
       "\n",
       "A data.frame: 299 × 9\n",
       "\n",
       "| year &lt;int&gt; | month &lt;chr&gt; | GEO &lt;chr&gt; | pop &lt;int&gt; | protests &lt;int&gt; | retail &lt;dbl&gt; | oil &lt;int&gt; | food &lt;dbl&gt; | power &lt;int&gt; |\n",
       "|---|---|---|---|---|---|---|---|---|\n",
       "| 2022 | April    | Alberta                   |  4480956 | 17 |  7989056 |   3983 |  868863 |  6069621 |\n",
       "| 2022 | April    | British Columbia          |  5310164 | 42 |  8959229 |  77433 | 1222442 |  5240902 |\n",
       "| 2022 | April    | Manitoba                  |  1405197 |  2 |  2083495 |   6290 |  194206 |  2168371 |\n",
       "| 2022 | April    | New Brunswick             |   801778 |  5 |  1340707 |   1818 |  116742 |  1171958 |\n",
       "| 2022 | April    | Newfoundland and Labrador |   529249 |  2 |   920444 |  77160 |   78292 |   686123 |\n",
       "| 2022 | April    | Northwest Territories     |    44828 |  0 |    76390 |      0 |    5724 |    58889 |\n",
       "| 2022 | April    | Nova Scotia               |  1014827 |  2 |  1689162 |  47821 |  164055 |   899107 |\n",
       "| 2022 | April    | Nunavut                   |    40489 |  0 |    48635 |      0 |    1861 |    16071 |\n",
       "| 2022 | April    | Ontario                   | 15046211 | 46 | 24616762 | 267687 | 2682207 | 10717875 |\n",
       "| 2022 | April    | Prince Edward Island      |   165524 |  0 |   269014 |      0 |   30470 |   129091 |\n",
       "| 2022 | April    | Quebec                    |  8627524 | 26 | 13896378 | 228362 | 1314059 | 17514950 |\n",
       "| 2022 | April    | Saskatchewan              |  1173366 |  5 |  2048833 |   1285 |  178681 |  1869556 |\n",
       "| 2022 | April    | Yukon                     |    43454 |  2 |    88900 |      0 |    7819 |    43778 |\n",
       "| 2022 | August   | Alberta                   |  4510891 |  6 |  8312320 |   4388 |  906253 |  6783590 |\n",
       "| 2022 | August   | British Columbia          |  5356284 | 19 |  9144939 | 151630 | 1233372 |  4870866 |\n",
       "| 2022 | August   | Manitoba                  |  1413409 |  6 |  2231006 |   4489 |  198691 |  2054341 |\n",
       "| 2022 | August   | New Brunswick             |   809568 |  4 |  1368487 |   2311 |  116593 |   997796 |\n",
       "| 2022 | August   | Newfoundland and Labrador |   531583 |  5 |   958844 | 150263 |   78940 |   684606 |\n",
       "| 2022 | August   | Northwest Territories     |    44685 |  0 |    75755 |  36714 |    5832 |    51834 |\n",
       "| 2022 | August   | Nova Scotia               |  1025445 |  8 |  1714108 |  57149 |  166828 |   847062 |\n",
       "| 2022 | August   | Nunavut                   |    40485 |  0 |    48163 |      0 |    2375 |    14405 |\n",
       "| 2022 | August   | Ontario                   | 15145006 | 28 | 24320748 | 256796 | 2754474 | 12987686 |\n",
       "| 2022 | August   | Prince Edward Island      |   167188 |  1 |   281978 |      0 |   33239 |   115815 |\n",
       "| 2022 | August   | Quebec                    |  8672185 |  8 | 14351635 | 358902 | 1395697 | 15068395 |\n",
       "| 2022 | August   | Saskatchewan              |  1178422 |  4 |  2110437 |   1606 |  181882 |  2063730 |\n",
       "| 2022 | August   | Yukon                     |    43905 |  0 |    92845 |      0 |    7493 |    38095 |\n",
       "| 2022 | December | Alberta                   |  4561350 |  4 |  8431294 |   2616 |  937555 |  7146188 |\n",
       "| 2022 | December | British Columbia          |  5403528 | 16 |  8960346 | 167172 | 1285432 |  6876391 |\n",
       "| 2022 | December | Manitoba                  |  1423596 |  8 |  2275146 |   3608 |  208406 |  2876953 |\n",
       "| 2022 | December | New Brunswick             |   817766 |  7 |  1376248 |   1233 |  121964 |  1415122 |\n",
       "| ⋮ | ⋮ | ⋮ | ⋮ | ⋮ | ⋮ | ⋮ | ⋮ | ⋮ |\n",
       "| 2023 | November  | Prince Edward Island      |   175853 |  2 |   306554.00 |      0 |   36342 |   139348 |\n",
       "| 2023 | November  | Quebec                    |  8948540 | 43 | 14861184.00 | 311386 | 1550373 | 18782951 |\n",
       "| 2023 | November  | Saskatchewan              |  1218976 |  5 |  2118073.00 |   1314 |  203970 |  2199838 |\n",
       "| 2023 | November  | Yukon                     |    45148 |  4 |    97695.00 |      0 |    9460 |    63017 |\n",
       "| 2023 | October   | Alberta                   |  4756408 | 17 |  8524706.00 |   2004 | 1020938 |  6576535 |\n",
       "| 2023 | October   | British Columbia          |  5581127 | 31 |  9116046.00 | 144566 | 1360250 |  5481719 |\n",
       "| 2023 | October   | Manitoba                  |  1465440 | 14 |  2263706.00 |   4114 |  214117 |  1883566 |\n",
       "| 2023 | October   | New Brunswick             |   842725 |  4 |  1470290.00 |   1137 |  129902 |   982231 |\n",
       "| 2023 | October   | Newfoundland and Labrador |   540418 |  7 |   953907.00 |      0 |   86490 |   817346 |\n",
       "| 2023 | October   | Northwest Territories     |    44760 |  0 |    83353.50 |      0 |    6509 |    47285 |\n",
       "| 2023 | October   | Nova Scotia               |  1066416 |  8 |  1774644.00 |  63643 |  180974 |   825066 |\n",
       "| 2023 | October   | Nunavut                   |    40817 |  0 |    54694.50 |      0 |    3715 |    16165 |\n",
       "| 2023 | October   | Ontario                   | 15801768 | 91 | 24940255.00 | 110879 | 3042934 | 11422274 |\n",
       "| 2023 | October   | Prince Edward Island      |   175853 |  4 |   302505.00 |      0 |   35466 |   118057 |\n",
       "| 2023 | October   | Quebec                    |  8948540 | 36 | 15090182.50 | 267734 | 1534894 | 15244058 |\n",
       "| 2023 | October   | Saskatchewan              |  1218976 | 14 |  2180903.50 |   1628 |  198505 |  1979795 |\n",
       "| 2023 | October   | Yukon                     |    45148 |  3 |    94912.00 |      0 |    9268 |    50892 |\n",
       "| 2023 | September | Alberta                   |  4695290 | 19 |  8548094.33 |   2956 | 1004084 |  6298895 |\n",
       "| 2023 | September | British Columbia          |  5519013 | 40 |  9073433.00 | 127585 | 1351233 |  4957719 |\n",
       "| 2023 | September | Manitoba                  |  1454902 | 20 |  2255683.67 |   5158 |  212430 |  1744014 |\n",
       "| 2023 | September | New Brunswick             |   834691 | 12 |  1444919.67 |  24572 |  124672 |   905474 |\n",
       "| 2023 | September | Newfoundland and Labrador |   538605 |  6 |   943546.33 | 123003 |   84021 |   718676 |\n",
       "| 2023 | September | Northwest Territories     |    44972 |  0 |    68868.67 |  24660 |    5178 |    48440 |\n",
       "| 2023 | September | Nova Scotia               |  1058694 | 13 |  1772434.00 |  42237 |  178627 |   773087 |\n",
       "| 2023 | September | Nunavut                   |    40673 |  0 |    54499.00 |      0 |    3058 |    14630 |\n",
       "| 2023 | September | Ontario                   | 15608369 | 73 | 24758223.67 | 149100 | 3009578 | 11407506 |\n",
       "| 2023 | September | Prince Edward Island      |   173787 |  4 |   304682.00 |      0 |   35896 |   117725 |\n",
       "| 2023 | September | Quebec                    |  8874683 | 22 | 14978844.33 | 327837 | 1528758 | 14563138 |\n",
       "| 2023 | September | Saskatchewan              |  1209107 |  7 |  2151378.33 |   1250 |  196160 |  1892052 |\n",
       "| 2023 | September | Yukon                     |    44975 |  3 |    97186.67 |      0 |    9221 |    37029 |\n",
       "\n"
      ],
      "text/plain": [
       "    year month     GEO                       pop      protests retail     \n",
       "1   2022 April     Alberta                    4480956 17        7989056   \n",
       "2   2022 April     British Columbia           5310164 42        8959229   \n",
       "3   2022 April     Manitoba                   1405197  2        2083495   \n",
       "4   2022 April     New Brunswick               801778  5        1340707   \n",
       "5   2022 April     Newfoundland and Labrador   529249  2         920444   \n",
       "6   2022 April     Northwest Territories        44828  0          76390   \n",
       "7   2022 April     Nova Scotia                1014827  2        1689162   \n",
       "8   2022 April     Nunavut                      40489  0          48635   \n",
       "9   2022 April     Ontario                   15046211 46       24616762   \n",
       "10  2022 April     Prince Edward Island        165524  0         269014   \n",
       "11  2022 April     Quebec                     8627524 26       13896378   \n",
       "12  2022 April     Saskatchewan               1173366  5        2048833   \n",
       "13  2022 April     Yukon                        43454  2          88900   \n",
       "14  2022 August    Alberta                    4510891  6        8312320   \n",
       "15  2022 August    British Columbia           5356284 19        9144939   \n",
       "16  2022 August    Manitoba                   1413409  6        2231006   \n",
       "17  2022 August    New Brunswick               809568  4        1368487   \n",
       "18  2022 August    Newfoundland and Labrador   531583  5         958844   \n",
       "19  2022 August    Northwest Territories        44685  0          75755   \n",
       "20  2022 August    Nova Scotia                1025445  8        1714108   \n",
       "21  2022 August    Nunavut                      40485  0          48163   \n",
       "22  2022 August    Ontario                   15145006 28       24320748   \n",
       "23  2022 August    Prince Edward Island        167188  1         281978   \n",
       "24  2022 August    Quebec                     8672185  8       14351635   \n",
       "25  2022 August    Saskatchewan               1178422  4        2110437   \n",
       "26  2022 August    Yukon                        43905  0          92845   \n",
       "27  2022 December  Alberta                    4561350  4        8431294   \n",
       "28  2022 December  British Columbia           5403528 16        8960346   \n",
       "29  2022 December  Manitoba                   1423596  8        2275146   \n",
       "30  2022 December  New Brunswick               817766  7        1376248   \n",
       "⋮   ⋮    ⋮         ⋮                         ⋮        ⋮        ⋮          \n",
       "270 2023 November  Prince Edward Island        175853  2         306554.00\n",
       "271 2023 November  Quebec                     8948540 43       14861184.00\n",
       "272 2023 November  Saskatchewan               1218976  5        2118073.00\n",
       "273 2023 November  Yukon                        45148  4          97695.00\n",
       "274 2023 October   Alberta                    4756408 17        8524706.00\n",
       "275 2023 October   British Columbia           5581127 31        9116046.00\n",
       "276 2023 October   Manitoba                   1465440 14        2263706.00\n",
       "277 2023 October   New Brunswick               842725  4        1470290.00\n",
       "278 2023 October   Newfoundland and Labrador   540418  7         953907.00\n",
       "279 2023 October   Northwest Territories        44760  0          83353.50\n",
       "280 2023 October   Nova Scotia                1066416  8        1774644.00\n",
       "281 2023 October   Nunavut                      40817  0          54694.50\n",
       "282 2023 October   Ontario                   15801768 91       24940255.00\n",
       "283 2023 October   Prince Edward Island        175853  4         302505.00\n",
       "284 2023 October   Quebec                     8948540 36       15090182.50\n",
       "285 2023 October   Saskatchewan               1218976 14        2180903.50\n",
       "286 2023 October   Yukon                        45148  3          94912.00\n",
       "287 2023 September Alberta                    4695290 19        8548094.33\n",
       "288 2023 September British Columbia           5519013 40        9073433.00\n",
       "289 2023 September Manitoba                   1454902 20        2255683.67\n",
       "290 2023 September New Brunswick               834691 12        1444919.67\n",
       "291 2023 September Newfoundland and Labrador   538605  6         943546.33\n",
       "292 2023 September Northwest Territories        44972  0          68868.67\n",
       "293 2023 September Nova Scotia                1058694 13        1772434.00\n",
       "294 2023 September Nunavut                      40673  0          54499.00\n",
       "295 2023 September Ontario                   15608369 73       24758223.67\n",
       "296 2023 September Prince Edward Island        173787  4         304682.00\n",
       "297 2023 September Quebec                     8874683 22       14978844.33\n",
       "298 2023 September Saskatchewan               1209107  7        2151378.33\n",
       "299 2023 September Yukon                        44975  3          97186.67\n",
       "    oil    food    power   \n",
       "1     3983  868863  6069621\n",
       "2    77433 1222442  5240902\n",
       "3     6290  194206  2168371\n",
       "4     1818  116742  1171958\n",
       "5    77160   78292   686123\n",
       "6        0    5724    58889\n",
       "7    47821  164055   899107\n",
       "8        0    1861    16071\n",
       "9   267687 2682207 10717875\n",
       "10       0   30470   129091\n",
       "11  228362 1314059 17514950\n",
       "12    1285  178681  1869556\n",
       "13       0    7819    43778\n",
       "14    4388  906253  6783590\n",
       "15  151630 1233372  4870866\n",
       "16    4489  198691  2054341\n",
       "17    2311  116593   997796\n",
       "18  150263   78940   684606\n",
       "19   36714    5832    51834\n",
       "20   57149  166828   847062\n",
       "21       0    2375    14405\n",
       "22  256796 2754474 12987686\n",
       "23       0   33239   115815\n",
       "24  358902 1395697 15068395\n",
       "25    1606  181882  2063730\n",
       "26       0    7493    38095\n",
       "27    2616  937555  7146188\n",
       "28  167172 1285432  6876391\n",
       "29    3608  208406  2876953\n",
       "30    1233  121964  1415122\n",
       "⋮   ⋮      ⋮       ⋮       \n",
       "270      0   36342   139348\n",
       "271 311386 1550373 18782951\n",
       "272   1314  203970  2199838\n",
       "273      0    9460    63017\n",
       "274   2004 1020938  6576535\n",
       "275 144566 1360250  5481719\n",
       "276   4114  214117  1883566\n",
       "277   1137  129902   982231\n",
       "278      0   86490   817346\n",
       "279      0    6509    47285\n",
       "280  63643  180974   825066\n",
       "281      0    3715    16165\n",
       "282 110879 3042934 11422274\n",
       "283      0   35466   118057\n",
       "284 267734 1534894 15244058\n",
       "285   1628  198505  1979795\n",
       "286      0    9268    50892\n",
       "287   2956 1004084  6298895\n",
       "288 127585 1351233  4957719\n",
       "289   5158  212430  1744014\n",
       "290  24572  124672   905474\n",
       "291 123003   84021   718676\n",
       "292  24660    5178    48440\n",
       "293  42237  178627   773087\n",
       "294      0    3058    14630\n",
       "295 149100 3009578 11407506\n",
       "296      0   35896   117725\n",
       "297 327837 1528758 14563138\n",
       "298   1250  196160  1892052\n",
       "299      0    9221    37029"
      ]
     },
     "metadata": {},
     "output_type": "display_data"
    }
   ],
   "source": [
    "\n",
    "\n",
    "init_data$manufac <- NULL\n",
    "\n",
    "# init_data <- init_data[, 1:5]\n",
    "\n",
    "init_data"
   ]
  },
  {
   "cell_type": "code",
   "execution_count": 360,
   "metadata": {
    "vscode": {
     "languageId": "r"
    }
   },
   "outputs": [],
   "source": [
    "newMonth <- function(x) {\n",
    "    if (x %in% c(\"December\", \"January\", \"February\")) {\n",
    "        return(\"Winter\")\n",
    "    } else if (x %in% c(\"March\", \"April\", \"May\")) {\n",
    "        return(\"Spring\")\n",
    "    } else if (x %in% c(\"June\", \"July\", \"August\")) {\n",
    "        return(\"Summer\")\n",
    "    } else {\n",
    "        return(\"Fall\")\n",
    "    }\n",
    "}\n",
    "\n",
    "newProv <- function(x) {\n",
    "    if (x %in% c(\"Yukon\", \"Nunavut\", \"Northwest Territories\")) {\n",
    "        return(\"Northern\")\n",
    "    } else {\n",
    "        return(x)\n",
    "    }\n",
    "}"
   ]
  },
  {
   "cell_type": "code",
   "execution_count": 361,
   "metadata": {
    "vscode": {
     "languageId": "r"
    }
   },
   "outputs": [
    {
     "data": {
      "text/html": [
       "<table class=\"dataframe\">\n",
       "<caption>A data.frame: 6 × 9</caption>\n",
       "<thead>\n",
       "\t<tr><th></th><th scope=col>year</th><th scope=col>month</th><th scope=col>GEO</th><th scope=col>pop</th><th scope=col>protests</th><th scope=col>retail</th><th scope=col>oil</th><th scope=col>food</th><th scope=col>power</th></tr>\n",
       "\t<tr><th></th><th scope=col>&lt;int&gt;</th><th scope=col>&lt;chr&gt;</th><th scope=col>&lt;chr&gt;</th><th scope=col>&lt;int&gt;</th><th scope=col>&lt;int&gt;</th><th scope=col>&lt;dbl&gt;</th><th scope=col>&lt;int&gt;</th><th scope=col>&lt;dbl&gt;</th><th scope=col>&lt;int&gt;</th></tr>\n",
       "</thead>\n",
       "<tbody>\n",
       "\t<tr><th scope=row>1</th><td>2022</td><td>Spring</td><td>Alberta                  </td><td>4480956</td><td>17</td><td>7989056</td><td> 3983</td><td> 868863</td><td>6069621</td></tr>\n",
       "\t<tr><th scope=row>2</th><td>2022</td><td>Spring</td><td>British Columbia         </td><td>5310164</td><td>42</td><td>8959229</td><td>77433</td><td>1222442</td><td>5240902</td></tr>\n",
       "\t<tr><th scope=row>3</th><td>2022</td><td>Spring</td><td>Manitoba                 </td><td>1405197</td><td> 2</td><td>2083495</td><td> 6290</td><td> 194206</td><td>2168371</td></tr>\n",
       "\t<tr><th scope=row>4</th><td>2022</td><td>Spring</td><td>New Brunswick            </td><td> 801778</td><td> 5</td><td>1340707</td><td> 1818</td><td> 116742</td><td>1171958</td></tr>\n",
       "\t<tr><th scope=row>5</th><td>2022</td><td>Spring</td><td>Newfoundland and Labrador</td><td> 529249</td><td> 2</td><td> 920444</td><td>77160</td><td>  78292</td><td> 686123</td></tr>\n",
       "\t<tr><th scope=row>6</th><td>2022</td><td>Spring</td><td>Northwest Territories    </td><td>  44828</td><td> 0</td><td>  76390</td><td>    0</td><td>   5724</td><td>  58889</td></tr>\n",
       "</tbody>\n",
       "</table>\n"
      ],
      "text/latex": [
       "A data.frame: 6 × 9\n",
       "\\begin{tabular}{r|lllllllll}\n",
       "  & year & month & GEO & pop & protests & retail & oil & food & power\\\\\n",
       "  & <int> & <chr> & <chr> & <int> & <int> & <dbl> & <int> & <dbl> & <int>\\\\\n",
       "\\hline\n",
       "\t1 & 2022 & Spring & Alberta                   & 4480956 & 17 & 7989056 &  3983 &  868863 & 6069621\\\\\n",
       "\t2 & 2022 & Spring & British Columbia          & 5310164 & 42 & 8959229 & 77433 & 1222442 & 5240902\\\\\n",
       "\t3 & 2022 & Spring & Manitoba                  & 1405197 &  2 & 2083495 &  6290 &  194206 & 2168371\\\\\n",
       "\t4 & 2022 & Spring & New Brunswick             &  801778 &  5 & 1340707 &  1818 &  116742 & 1171958\\\\\n",
       "\t5 & 2022 & Spring & Newfoundland and Labrador &  529249 &  2 &  920444 & 77160 &   78292 &  686123\\\\\n",
       "\t6 & 2022 & Spring & Northwest Territories     &   44828 &  0 &   76390 &     0 &    5724 &   58889\\\\\n",
       "\\end{tabular}\n"
      ],
      "text/markdown": [
       "\n",
       "A data.frame: 6 × 9\n",
       "\n",
       "| <!--/--> | year &lt;int&gt; | month &lt;chr&gt; | GEO &lt;chr&gt; | pop &lt;int&gt; | protests &lt;int&gt; | retail &lt;dbl&gt; | oil &lt;int&gt; | food &lt;dbl&gt; | power &lt;int&gt; |\n",
       "|---|---|---|---|---|---|---|---|---|---|\n",
       "| 1 | 2022 | Spring | Alberta                   | 4480956 | 17 | 7989056 |  3983 |  868863 | 6069621 |\n",
       "| 2 | 2022 | Spring | British Columbia          | 5310164 | 42 | 8959229 | 77433 | 1222442 | 5240902 |\n",
       "| 3 | 2022 | Spring | Manitoba                  | 1405197 |  2 | 2083495 |  6290 |  194206 | 2168371 |\n",
       "| 4 | 2022 | Spring | New Brunswick             |  801778 |  5 | 1340707 |  1818 |  116742 | 1171958 |\n",
       "| 5 | 2022 | Spring | Newfoundland and Labrador |  529249 |  2 |  920444 | 77160 |   78292 |  686123 |\n",
       "| 6 | 2022 | Spring | Northwest Territories     |   44828 |  0 |   76390 |     0 |    5724 |   58889 |\n",
       "\n"
      ],
      "text/plain": [
       "  year month  GEO                       pop     protests retail  oil   food   \n",
       "1 2022 Spring Alberta                   4480956 17       7989056  3983  868863\n",
       "2 2022 Spring British Columbia          5310164 42       8959229 77433 1222442\n",
       "3 2022 Spring Manitoba                  1405197  2       2083495  6290  194206\n",
       "4 2022 Spring New Brunswick              801778  5       1340707  1818  116742\n",
       "5 2022 Spring Newfoundland and Labrador  529249  2        920444 77160   78292\n",
       "6 2022 Spring Northwest Territories       44828  0         76390     0    5724\n",
       "  power  \n",
       "1 6069621\n",
       "2 5240902\n",
       "3 2168371\n",
       "4 1171958\n",
       "5  686123\n",
       "6   58889"
      ]
     },
     "metadata": {},
     "output_type": "display_data"
    }
   ],
   "source": [
    "init_data$month <- sapply(init_data$month, newMonth)\n",
    "\n",
    "head(init_data)"
   ]
  },
  {
   "cell_type": "code",
   "execution_count": 362,
   "metadata": {
    "vscode": {
     "languageId": "r"
    }
   },
   "outputs": [],
   "source": [
    "standardize <- function(x, mu, std) {\n",
    "    return((x-mu)/std)\n",
    "}"
   ]
  },
  {
   "cell_type": "code",
   "execution_count": 363,
   "metadata": {
    "vscode": {
     "languageId": "r"
    }
   },
   "outputs": [
    {
     "data": {
      "text/html": [
       "<table class=\"dataframe\">\n",
       "<caption>A data.frame: 6 × 9</caption>\n",
       "<thead>\n",
       "\t<tr><th></th><th scope=col>year</th><th scope=col>month</th><th scope=col>prov</th><th scope=col>pop</th><th scope=col>protests</th><th scope=col>retail</th><th scope=col>oil</th><th scope=col>food</th><th scope=col>power</th></tr>\n",
       "\t<tr><th></th><th scope=col>&lt;int&gt;</th><th scope=col>&lt;chr&gt;</th><th scope=col>&lt;chr&gt;</th><th scope=col>&lt;int&gt;</th><th scope=col>&lt;int&gt;</th><th scope=col>&lt;dbl&gt;</th><th scope=col>&lt;int&gt;</th><th scope=col>&lt;dbl&gt;</th><th scope=col>&lt;int&gt;</th></tr>\n",
       "</thead>\n",
       "<tbody>\n",
       "\t<tr><th scope=row>1</th><td>2022</td><td>Spring</td><td>Alberta                  </td><td>4480956</td><td>17</td><td>7989056</td><td> 3983</td><td> 868863</td><td>6069621</td></tr>\n",
       "\t<tr><th scope=row>2</th><td>2022</td><td>Spring</td><td>British Columbia         </td><td>5310164</td><td>42</td><td>8959229</td><td>77433</td><td>1222442</td><td>5240902</td></tr>\n",
       "\t<tr><th scope=row>3</th><td>2022</td><td>Spring</td><td>Manitoba                 </td><td>1405197</td><td> 2</td><td>2083495</td><td> 6290</td><td> 194206</td><td>2168371</td></tr>\n",
       "\t<tr><th scope=row>4</th><td>2022</td><td>Spring</td><td>New Brunswick            </td><td> 801778</td><td> 5</td><td>1340707</td><td> 1818</td><td> 116742</td><td>1171958</td></tr>\n",
       "\t<tr><th scope=row>5</th><td>2022</td><td>Spring</td><td>Newfoundland and Labrador</td><td> 529249</td><td> 2</td><td> 920444</td><td>77160</td><td>  78292</td><td> 686123</td></tr>\n",
       "\t<tr><th scope=row>6</th><td>2022</td><td>Spring</td><td>Northwest Territories    </td><td>  44828</td><td> 0</td><td>  76390</td><td>    0</td><td>   5724</td><td>  58889</td></tr>\n",
       "</tbody>\n",
       "</table>\n"
      ],
      "text/latex": [
       "A data.frame: 6 × 9\n",
       "\\begin{tabular}{r|lllllllll}\n",
       "  & year & month & prov & pop & protests & retail & oil & food & power\\\\\n",
       "  & <int> & <chr> & <chr> & <int> & <int> & <dbl> & <int> & <dbl> & <int>\\\\\n",
       "\\hline\n",
       "\t1 & 2022 & Spring & Alberta                   & 4480956 & 17 & 7989056 &  3983 &  868863 & 6069621\\\\\n",
       "\t2 & 2022 & Spring & British Columbia          & 5310164 & 42 & 8959229 & 77433 & 1222442 & 5240902\\\\\n",
       "\t3 & 2022 & Spring & Manitoba                  & 1405197 &  2 & 2083495 &  6290 &  194206 & 2168371\\\\\n",
       "\t4 & 2022 & Spring & New Brunswick             &  801778 &  5 & 1340707 &  1818 &  116742 & 1171958\\\\\n",
       "\t5 & 2022 & Spring & Newfoundland and Labrador &  529249 &  2 &  920444 & 77160 &   78292 &  686123\\\\\n",
       "\t6 & 2022 & Spring & Northwest Territories     &   44828 &  0 &   76390 &     0 &    5724 &   58889\\\\\n",
       "\\end{tabular}\n"
      ],
      "text/markdown": [
       "\n",
       "A data.frame: 6 × 9\n",
       "\n",
       "| <!--/--> | year &lt;int&gt; | month &lt;chr&gt; | prov &lt;chr&gt; | pop &lt;int&gt; | protests &lt;int&gt; | retail &lt;dbl&gt; | oil &lt;int&gt; | food &lt;dbl&gt; | power &lt;int&gt; |\n",
       "|---|---|---|---|---|---|---|---|---|---|\n",
       "| 1 | 2022 | Spring | Alberta                   | 4480956 | 17 | 7989056 |  3983 |  868863 | 6069621 |\n",
       "| 2 | 2022 | Spring | British Columbia          | 5310164 | 42 | 8959229 | 77433 | 1222442 | 5240902 |\n",
       "| 3 | 2022 | Spring | Manitoba                  | 1405197 |  2 | 2083495 |  6290 |  194206 | 2168371 |\n",
       "| 4 | 2022 | Spring | New Brunswick             |  801778 |  5 | 1340707 |  1818 |  116742 | 1171958 |\n",
       "| 5 | 2022 | Spring | Newfoundland and Labrador |  529249 |  2 |  920444 | 77160 |   78292 |  686123 |\n",
       "| 6 | 2022 | Spring | Northwest Territories     |   44828 |  0 |   76390 |     0 |    5724 |   58889 |\n",
       "\n"
      ],
      "text/plain": [
       "  year month  prov                      pop     protests retail  oil   food   \n",
       "1 2022 Spring Alberta                   4480956 17       7989056  3983  868863\n",
       "2 2022 Spring British Columbia          5310164 42       8959229 77433 1222442\n",
       "3 2022 Spring Manitoba                  1405197  2       2083495  6290  194206\n",
       "4 2022 Spring New Brunswick              801778  5       1340707  1818  116742\n",
       "5 2022 Spring Newfoundland and Labrador  529249  2        920444 77160   78292\n",
       "6 2022 Spring Northwest Territories       44828  0         76390     0    5724\n",
       "  power  \n",
       "1 6069621\n",
       "2 5240902\n",
       "3 2168371\n",
       "4 1171958\n",
       "5  686123\n",
       "6   58889"
      ]
     },
     "metadata": {},
     "output_type": "display_data"
    }
   ],
   "source": [
    "colnames(init_data)[colnames(init_data) == \"GEO\"] <- \"prov\"\n",
    "head(init_data)"
   ]
  },
  {
   "cell_type": "code",
   "execution_count": 364,
   "metadata": {
    "vscode": {
     "languageId": "r"
    }
   },
   "outputs": [],
   "source": [
    "init_data$prov  <- as.factor(init_data$prov)\n",
    "init_data$month <- as.factor(init_data$month)\n",
    "init_data$year <- as.factor(init_data$year)"
   ]
  },
  {
   "cell_type": "code",
   "execution_count": 365,
   "metadata": {
    "vscode": {
     "languageId": "r"
    }
   },
   "outputs": [
    {
     "data": {
      "text/html": [
       "<table class=\"dataframe\">\n",
       "<caption>A data.frame: 6 × 9</caption>\n",
       "<thead>\n",
       "\t<tr><th></th><th scope=col>year</th><th scope=col>month</th><th scope=col>prov</th><th scope=col>pop</th><th scope=col>protests</th><th scope=col>retail</th><th scope=col>oil</th><th scope=col>food</th><th scope=col>power</th></tr>\n",
       "\t<tr><th></th><th scope=col>&lt;fct&gt;</th><th scope=col>&lt;fct&gt;</th><th scope=col>&lt;fct&gt;</th><th scope=col>&lt;int&gt;</th><th scope=col>&lt;int&gt;</th><th scope=col>&lt;dbl&gt;</th><th scope=col>&lt;int&gt;</th><th scope=col>&lt;dbl&gt;</th><th scope=col>&lt;int&gt;</th></tr>\n",
       "</thead>\n",
       "<tbody>\n",
       "\t<tr><th scope=row>1</th><td>2022</td><td>Spring</td><td>Alberta                  </td><td>4480956</td><td>17</td><td>7989056</td><td> 3983</td><td> 868863</td><td>6069621</td></tr>\n",
       "\t<tr><th scope=row>2</th><td>2022</td><td>Spring</td><td>British Columbia         </td><td>5310164</td><td>42</td><td>8959229</td><td>77433</td><td>1222442</td><td>5240902</td></tr>\n",
       "\t<tr><th scope=row>3</th><td>2022</td><td>Spring</td><td>Manitoba                 </td><td>1405197</td><td> 2</td><td>2083495</td><td> 6290</td><td> 194206</td><td>2168371</td></tr>\n",
       "\t<tr><th scope=row>4</th><td>2022</td><td>Spring</td><td>New Brunswick            </td><td> 801778</td><td> 5</td><td>1340707</td><td> 1818</td><td> 116742</td><td>1171958</td></tr>\n",
       "\t<tr><th scope=row>5</th><td>2022</td><td>Spring</td><td>Newfoundland and Labrador</td><td> 529249</td><td> 2</td><td> 920444</td><td>77160</td><td>  78292</td><td> 686123</td></tr>\n",
       "\t<tr><th scope=row>6</th><td>2022</td><td>Spring</td><td>Northwest Territories    </td><td>  44828</td><td> 0</td><td>  76390</td><td>    0</td><td>   5724</td><td>  58889</td></tr>\n",
       "</tbody>\n",
       "</table>\n"
      ],
      "text/latex": [
       "A data.frame: 6 × 9\n",
       "\\begin{tabular}{r|lllllllll}\n",
       "  & year & month & prov & pop & protests & retail & oil & food & power\\\\\n",
       "  & <fct> & <fct> & <fct> & <int> & <int> & <dbl> & <int> & <dbl> & <int>\\\\\n",
       "\\hline\n",
       "\t1 & 2022 & Spring & Alberta                   & 4480956 & 17 & 7989056 &  3983 &  868863 & 6069621\\\\\n",
       "\t2 & 2022 & Spring & British Columbia          & 5310164 & 42 & 8959229 & 77433 & 1222442 & 5240902\\\\\n",
       "\t3 & 2022 & Spring & Manitoba                  & 1405197 &  2 & 2083495 &  6290 &  194206 & 2168371\\\\\n",
       "\t4 & 2022 & Spring & New Brunswick             &  801778 &  5 & 1340707 &  1818 &  116742 & 1171958\\\\\n",
       "\t5 & 2022 & Spring & Newfoundland and Labrador &  529249 &  2 &  920444 & 77160 &   78292 &  686123\\\\\n",
       "\t6 & 2022 & Spring & Northwest Territories     &   44828 &  0 &   76390 &     0 &    5724 &   58889\\\\\n",
       "\\end{tabular}\n"
      ],
      "text/markdown": [
       "\n",
       "A data.frame: 6 × 9\n",
       "\n",
       "| <!--/--> | year &lt;fct&gt; | month &lt;fct&gt; | prov &lt;fct&gt; | pop &lt;int&gt; | protests &lt;int&gt; | retail &lt;dbl&gt; | oil &lt;int&gt; | food &lt;dbl&gt; | power &lt;int&gt; |\n",
       "|---|---|---|---|---|---|---|---|---|---|\n",
       "| 1 | 2022 | Spring | Alberta                   | 4480956 | 17 | 7989056 |  3983 |  868863 | 6069621 |\n",
       "| 2 | 2022 | Spring | British Columbia          | 5310164 | 42 | 8959229 | 77433 | 1222442 | 5240902 |\n",
       "| 3 | 2022 | Spring | Manitoba                  | 1405197 |  2 | 2083495 |  6290 |  194206 | 2168371 |\n",
       "| 4 | 2022 | Spring | New Brunswick             |  801778 |  5 | 1340707 |  1818 |  116742 | 1171958 |\n",
       "| 5 | 2022 | Spring | Newfoundland and Labrador |  529249 |  2 |  920444 | 77160 |   78292 |  686123 |\n",
       "| 6 | 2022 | Spring | Northwest Territories     |   44828 |  0 |   76390 |     0 |    5724 |   58889 |\n",
       "\n"
      ],
      "text/plain": [
       "  year month  prov                      pop     protests retail  oil   food   \n",
       "1 2022 Spring Alberta                   4480956 17       7989056  3983  868863\n",
       "2 2022 Spring British Columbia          5310164 42       8959229 77433 1222442\n",
       "3 2022 Spring Manitoba                  1405197  2       2083495  6290  194206\n",
       "4 2022 Spring New Brunswick              801778  5       1340707  1818  116742\n",
       "5 2022 Spring Newfoundland and Labrador  529249  2        920444 77160   78292\n",
       "6 2022 Spring Northwest Territories       44828  0         76390     0    5724\n",
       "  power  \n",
       "1 6069621\n",
       "2 5240902\n",
       "3 2168371\n",
       "4 1171958\n",
       "5  686123\n",
       "6   58889"
      ]
     },
     "metadata": {},
     "output_type": "display_data"
    }
   ],
   "source": [
    "head(init_data)"
   ]
  },
  {
   "cell_type": "markdown",
   "metadata": {},
   "source": [
    "## Fitting the Model"
   ]
  },
  {
   "cell_type": "code",
   "execution_count": 366,
   "metadata": {
    "vscode": {
     "languageId": "r"
    }
   },
   "outputs": [],
   "source": [
    "init_data$pop <- sapply(init_data$pop, function(x) {standardize(x, mean(init_data$pop), sd(init_data$pop))})\n",
    "init_data$retail <- sapply(init_data$retail, function(x) {standardize(x, mean(init_data$retail), sd(init_data$retail))})\n",
    "init_data$power <- sapply(init_data$power, function(x) {standardize(x, mean(init_data$power), sd(init_data$power))})\n",
    "init_data$oil <- sapply(init_data$oil, function(x) {standardize(x, mean(init_data$oil), sd(init_data$oil))})\n",
    "init_data$food <- sapply(init_data$food, function(x) {standardize(x, mean(init_data$food), sd(init_data$food))})"
   ]
  },
  {
   "cell_type": "code",
   "execution_count": 367,
   "metadata": {
    "vscode": {
     "languageId": "r"
    }
   },
   "outputs": [
    {
     "data": {
      "text/html": [
       "<table class=\"dataframe\">\n",
       "<caption>A data.frame: 299 × 9</caption>\n",
       "<thead>\n",
       "\t<tr><th scope=col>year</th><th scope=col>month</th><th scope=col>prov</th><th scope=col>pop</th><th scope=col>protests</th><th scope=col>retail</th><th scope=col>oil</th><th scope=col>food</th><th scope=col>power</th></tr>\n",
       "\t<tr><th scope=col>&lt;fct&gt;</th><th scope=col>&lt;fct&gt;</th><th scope=col>&lt;fct&gt;</th><th scope=col>&lt;dbl&gt;</th><th scope=col>&lt;int&gt;</th><th scope=col>&lt;dbl&gt;</th><th scope=col>&lt;dbl&gt;</th><th scope=col>&lt;dbl&gt;</th><th scope=col>&lt;dbl&gt;</th></tr>\n",
       "</thead>\n",
       "<tbody>\n",
       "\t<tr><td>2022</td><td>Spring</td><td>Alberta                  </td><td> 0.3320973</td><td>17</td><td> 0.4154217</td><td>-0.58844881</td><td> 0.3739484</td><td> 0.4393113</td></tr>\n",
       "\t<tr><td>2022</td><td>Spring</td><td>British Columbia         </td><td> 0.5216659</td><td>42</td><td> 0.5517610</td><td> 0.17683553</td><td> 0.8040771</td><td> 0.2824956</td></tr>\n",
       "\t<tr><td>2022</td><td>Spring</td><td>Manitoba                 </td><td>-0.3710644</td><td> 2</td><td>-0.4144921</td><td>-0.56441190</td><td>-0.4467717</td><td>-0.2989093</td></tr>\n",
       "\t<tr><td>2022</td><td>Spring</td><td>New Brunswick            </td><td>-0.5090145</td><td> 5</td><td>-0.5188768</td><td>-0.61100621</td><td>-0.5410066</td><td>-0.4874573</td></tr>\n",
       "\t<tr><td>2022</td><td>Spring</td><td>Newfoundland and Labrador</td><td>-0.5713185</td><td> 2</td><td>-0.5779367</td><td> 0.17399111</td><td>-0.5877810</td><td>-0.5793902</td></tr>\n",
       "\t<tr><td>2022</td><td>Spring</td><td>Northwest Territories    </td><td>-0.6820639</td><td> 0</td><td>-0.6965524</td><td>-0.62994817</td><td>-0.6760600</td><td>-0.6980796</td></tr>\n",
       "\t<tr><td>2022</td><td>Spring</td><td>Nova Scotia              </td><td>-0.4603085</td><td> 2</td><td>-0.4699081</td><td>-0.13169544</td><td>-0.4834504</td><td>-0.5390880</td></tr>\n",
       "\t<tr><td>2022</td><td>Spring</td><td>Nunavut                  </td><td>-0.6830559</td><td> 0</td><td>-0.7004528</td><td>-0.62994817</td><td>-0.6807593</td><td>-0.7061819</td></tr>\n",
       "\t<tr><td>2022</td><td>Spring</td><td>Ontario                  </td><td> 2.7474632</td><td>46</td><td> 2.7521281</td><td> 2.15911473</td><td> 2.5798809</td><td> 1.3188851</td></tr>\n",
       "\t<tr><td>2022</td><td>Spring</td><td>Prince Edward Island     </td><td>-0.6544711</td><td> 0</td><td>-0.6694827</td><td>-0.62994817</td><td>-0.6459565</td><td>-0.6847955</td></tr>\n",
       "\t<tr><td>2022</td><td>Spring</td><td>Quebec                   </td><td> 1.2800611</td><td>26</td><td> 1.2455829</td><td> 1.74938285</td><td> 0.9155292</td><td> 2.6050731</td></tr>\n",
       "\t<tr><td>2022</td><td>Spring</td><td>Saskatchewan             </td><td>-0.4240643</td><td> 5</td><td>-0.4193632</td><td>-0.61655960</td><td>-0.4656579</td><td>-0.3554531</td></tr>\n",
       "\t<tr><td>2022</td><td>Spring</td><td>Yukon                    </td><td>-0.6823780</td><td> 2</td><td>-0.6947943</td><td>-0.62994817</td><td>-0.6735114</td><td>-0.7009390</td></tr>\n",
       "\t<tr><td>2022</td><td>Summer</td><td>Alberta                  </td><td> 0.3389409</td><td> 6</td><td> 0.4608503</td><td>-0.58422907</td><td> 0.4194333</td><td> 0.5744133</td></tr>\n",
       "\t<tr><td>2022</td><td>Summer</td><td>British Columbia         </td><td> 0.5322096</td><td>19</td><td> 0.5778590</td><td> 0.94990295</td><td> 0.8173735</td><td> 0.2124749</td></tr>\n",
       "\t<tr><td>2022</td><td>Summer</td><td>Manitoba                 </td><td>-0.3691871</td><td> 6</td><td>-0.3937623</td><td>-0.58317674</td><td>-0.4413157</td><td>-0.3204868</td></tr>\n",
       "\t<tr><td>2022</td><td>Summer</td><td>New Brunswick            </td><td>-0.5072336</td><td> 4</td><td>-0.5149728</td><td>-0.60586958</td><td>-0.5411879</td><td>-0.5204134</td></tr>\n",
       "\t<tr><td>2022</td><td>Summer</td><td>Newfoundland and Labrador</td><td>-0.5707849</td><td> 5</td><td>-0.5725403</td><td> 0.93566002</td><td>-0.5869928</td><td>-0.5796773</td></tr>\n",
       "\t<tr><td>2022</td><td>Summer</td><td>Northwest Territories    </td><td>-0.6820966</td><td> 0</td><td>-0.6966416</td><td>-0.24742061</td><td>-0.6759286</td><td>-0.6994146</td></tr>\n",
       "\t<tr><td>2022</td><td>Summer</td><td>Nova Scotia              </td><td>-0.4578811</td><td> 8</td><td>-0.4664024</td><td>-0.03450589</td><td>-0.4800770</td><td>-0.5489363</td></tr>\n",
       "\t<tr><td>2022</td><td>Summer</td><td>Nunavut                  </td><td>-0.6830568</td><td> 0</td><td>-0.7005191</td><td>-0.62994817</td><td>-0.6801341</td><td>-0.7064972</td></tr>\n",
       "\t<tr><td>2022</td><td>Summer</td><td>Ontario                  </td><td> 2.7700491</td><td>28</td><td> 2.7105290</td><td> 2.04564010</td><td> 2.6677937</td><td> 1.7483939</td></tr>\n",
       "\t<tr><td>2022</td><td>Summer</td><td>Prince Edward Island     </td><td>-0.6540907</td><td> 1</td><td>-0.6676609</td><td>-0.62994817</td><td>-0.6425880</td><td>-0.6873077</td></tr>\n",
       "\t<tr><td>2022</td><td>Summer</td><td>Quebec                   </td><td> 1.2902712</td><td> 8</td><td> 1.3095606</td><td> 3.10949473</td><td> 1.0148418</td><td> 2.1421196</td></tr>\n",
       "\t<tr><td>2022</td><td>Summer</td><td>Saskatchewan             </td><td>-0.4229084</td><td> 4</td><td>-0.4107059</td><td>-0.61321506</td><td>-0.4617638</td><td>-0.3187102</td></tr>\n",
       "\t<tr><td>2022</td><td>Summer</td><td>Yukon                    </td><td>-0.6822749</td><td> 0</td><td>-0.6942399</td><td>-0.62994817</td><td>-0.6739080</td><td>-0.7020144</td></tr>\n",
       "\t<tr><td>2022</td><td>Winter</td><td>Alberta                  </td><td> 0.3504765</td><td> 4</td><td> 0.4775698</td><td>-0.60269175</td><td> 0.4575122</td><td> 0.6430265</td></tr>\n",
       "\t<tr><td>2022</td><td>Winter</td><td>British Columbia         </td><td> 0.5430103</td><td>16</td><td> 0.5519179</td><td> 1.11183691</td><td> 0.8807044</td><td> 0.5919738</td></tr>\n",
       "\t<tr><td>2022</td><td>Winter</td><td>Manitoba                 </td><td>-0.3668582</td><td> 8</td><td>-0.3875592</td><td>-0.59235598</td><td>-0.4294974</td><td>-0.1648267</td></tr>\n",
       "\t<tr><td>2022</td><td>Winter</td><td>New Brunswick            </td><td>-0.5053594</td><td> 7</td><td>-0.5138822</td><td>-0.61710139</td><td>-0.5346541</td><td>-0.4414441</td></tr>\n",
       "\t<tr><td>⋮</td><td>⋮</td><td>⋮</td><td>⋮</td><td>⋮</td><td>⋮</td><td>⋮</td><td>⋮</td><td>⋮</td></tr>\n",
       "\t<tr><td>2023</td><td>Fall</td><td>Prince Edward Island     </td><td>-0.6521098</td><td> 2</td><td>-0.6642072</td><td>-0.62994817</td><td>-0.6388132</td><td>-0.6828546</td></tr>\n",
       "\t<tr><td>2023</td><td>Fall</td><td>Quebec                   </td><td> 1.3534499</td><td>43</td><td> 1.3811680</td><td> 2.61441984</td><td> 1.2030051</td><td> 2.8450128</td></tr>\n",
       "\t<tr><td>2023</td><td>Fall</td><td>Saskatchewan             </td><td>-0.4136372</td><td> 5</td><td>-0.4096328</td><td>-0.61625744</td><td>-0.4348938</td><td>-0.2929549</td></tr>\n",
       "\t<tr><td>2023</td><td>Fall</td><td>Yukon                    </td><td>-0.6819908</td><td> 4</td><td>-0.6935584</td><td>-0.62994817</td><td>-0.6715152</td><td>-0.6972985</td></tr>\n",
       "\t<tr><td>2023</td><td>Fall</td><td>Alberta                  </td><td> 0.3950695</td><td>17</td><td> 0.4906971</td><td>-0.60906825</td><td> 0.5589476</td><td> 0.5352330</td></tr>\n",
       "\t<tr><td>2023</td><td>Fall</td><td>British Columbia         </td><td> 0.5836119</td><td>31</td><td> 0.5737986</td><td> 0.87630229</td><td> 0.9717205</td><td> 0.3280646</td></tr>\n",
       "\t<tr><td>2023</td><td>Fall</td><td>Manitoba                 </td><td>-0.3572920</td><td>14</td><td>-0.3891669</td><td>-0.58708391</td><td>-0.4225500</td><td>-0.3528020</td></tr>\n",
       "\t<tr><td>2023</td><td>Fall</td><td>New Brunswick            </td><td>-0.4996534</td><td> 4</td><td>-0.5006664</td><td>-0.61810163</td><td>-0.5249975</td><td>-0.5233587</td></tr>\n",
       "\t<tr><td>2023</td><td>Fall</td><td>Newfoundland and Labrador</td><td>-0.5687651</td><td> 7</td><td>-0.5732341</td><td>-0.62994817</td><td>-0.5778082</td><td>-0.5545593</td></tr>\n",
       "\t<tr><td>2023</td><td>Fall</td><td>Northwest Territories    </td><td>-0.6820795</td><td> 0</td><td>-0.6955738</td><td>-0.62994817</td><td>-0.6751050</td><td>-0.7002754</td></tr>\n",
       "\t<tr><td>2023</td><td>Fall</td><td>Nova Scotia              </td><td>-0.4485145</td><td> 8</td><td>-0.4578952</td><td> 0.03315587</td><td>-0.4628684</td><td>-0.5530985</td></tr>\n",
       "\t<tr><td>2023</td><td>Fall</td><td>Nunavut                  </td><td>-0.6829809</td><td> 0</td><td>-0.6996013</td><td>-0.62994817</td><td>-0.6785039</td><td>-0.7061642</td></tr>\n",
       "\t<tr><td>2023</td><td>Fall</td><td>Ontario                  </td><td> 2.9201942</td><td>91</td><td> 2.7975889</td><td> 0.52531341</td><td> 3.0187052</td><td> 1.4521762</td></tr>\n",
       "\t<tr><td>2023</td><td>Fall</td><td>Prince Edward Island     </td><td>-0.6521098</td><td> 4</td><td>-0.6647762</td><td>-0.62994817</td><td>-0.6398789</td><td>-0.6868835</td></tr>\n",
       "\t<tr><td>2023</td><td>Fall</td><td>Quebec                   </td><td> 1.3534499</td><td>36</td><td> 1.4133494</td><td> 2.15960443</td><td> 1.1841749</td><td> 2.1753597</td></tr>\n",
       "\t<tr><td>2023</td><td>Fall</td><td>Saskatchewan             </td><td>-0.4136372</td><td>14</td><td>-0.4008032</td><td>-0.61298584</td><td>-0.4415420</td><td>-0.3345929</td></tr>\n",
       "\t<tr><td>2023</td><td>Fall</td><td>Yukon                    </td><td>-0.6819908</td><td> 3</td><td>-0.6939495</td><td>-0.62994817</td><td>-0.6717487</td><td>-0.6995929</td></tr>\n",
       "\t<tr><td>2023</td><td>Fall</td><td>Alberta                  </td><td> 0.3810971</td><td>19</td><td> 0.4939838</td><td>-0.59914925</td><td> 0.5384447</td><td> 0.4826961</td></tr>\n",
       "\t<tr><td>2023</td><td>Fall</td><td>British Columbia         </td><td> 0.5694118</td><td>40</td><td> 0.5678102</td><td> 0.69937522</td><td> 0.9607513</td><td> 0.2289098</td></tr>\n",
       "\t<tr><td>2023</td><td>Fall</td><td>Manitoba                 </td><td>-0.3597012</td><td>20</td><td>-0.3902943</td><td>-0.57620635</td><td>-0.4246022</td><td>-0.3792090</td></tr>\n",
       "\t<tr><td>2023</td><td>Fall</td><td>New Brunswick            </td><td>-0.5014901</td><td>12</td><td>-0.5042317</td><td>-0.37392956</td><td>-0.5313598</td><td>-0.5378831</td></tr>\n",
       "\t<tr><td>2023</td><td>Fall</td><td>Newfoundland and Labrador</td><td>-0.5691796</td><td> 6</td><td>-0.5746901</td><td> 0.65163481</td><td>-0.5808117</td><td>-0.5732303</td></tr>\n",
       "\t<tr><td>2023</td><td>Fall</td><td>Northwest Territories    </td><td>-0.6820310</td><td> 0</td><td>-0.6976094</td><td>-0.37301267</td><td>-0.6767242</td><td>-0.7000569</td></tr>\n",
       "\t<tr><td>2023</td><td>Fall</td><td>Nova Scotia              </td><td>-0.4502799</td><td>13</td><td>-0.4582058</td><td>-0.18987581</td><td>-0.4657235</td><td>-0.5629343</td></tr>\n",
       "\t<tr><td>2023</td><td>Fall</td><td>Nunavut                  </td><td>-0.6830138</td><td> 0</td><td>-0.6996287</td><td>-0.62994817</td><td>-0.6793032</td><td>-0.7064546</td></tr>\n",
       "\t<tr><td>2023</td><td>Fall</td><td>Ontario                  </td><td> 2.8759804</td><td>73</td><td> 2.7720079</td><td> 0.92354258</td><td> 2.9781276</td><td> 1.4493817</td></tr>\n",
       "\t<tr><td>2023</td><td>Fall</td><td>Prince Edward Island     </td><td>-0.6525821</td><td> 4</td><td>-0.6644703</td><td>-0.62994817</td><td>-0.6393558</td><td>-0.6869463</td></tr>\n",
       "\t<tr><td>2023</td><td>Fall</td><td>Quebec                   </td><td> 1.3365651</td><td>22</td><td> 1.3977029</td><td> 2.78582478</td><td> 1.1767105</td><td> 2.0465115</td></tr>\n",
       "\t<tr><td>2023</td><td>Fall</td><td>Saskatchewan             </td><td>-0.4158934</td><td> 7</td><td>-0.4049524</td><td>-0.61692427</td><td>-0.4443947</td><td>-0.3511963</td></tr>\n",
       "\t<tr><td>2023</td><td>Fall</td><td>Yukon                    </td><td>-0.6820303</td><td> 3</td><td>-0.6936298</td><td>-0.62994817</td><td>-0.6718059</td><td>-0.7022161</td></tr>\n",
       "</tbody>\n",
       "</table>\n"
      ],
      "text/latex": [
       "A data.frame: 299 × 9\n",
       "\\begin{tabular}{lllllllll}\n",
       " year & month & prov & pop & protests & retail & oil & food & power\\\\\n",
       " <fct> & <fct> & <fct> & <dbl> & <int> & <dbl> & <dbl> & <dbl> & <dbl>\\\\\n",
       "\\hline\n",
       "\t 2022 & Spring & Alberta                   &  0.3320973 & 17 &  0.4154217 & -0.58844881 &  0.3739484 &  0.4393113\\\\\n",
       "\t 2022 & Spring & British Columbia          &  0.5216659 & 42 &  0.5517610 &  0.17683553 &  0.8040771 &  0.2824956\\\\\n",
       "\t 2022 & Spring & Manitoba                  & -0.3710644 &  2 & -0.4144921 & -0.56441190 & -0.4467717 & -0.2989093\\\\\n",
       "\t 2022 & Spring & New Brunswick             & -0.5090145 &  5 & -0.5188768 & -0.61100621 & -0.5410066 & -0.4874573\\\\\n",
       "\t 2022 & Spring & Newfoundland and Labrador & -0.5713185 &  2 & -0.5779367 &  0.17399111 & -0.5877810 & -0.5793902\\\\\n",
       "\t 2022 & Spring & Northwest Territories     & -0.6820639 &  0 & -0.6965524 & -0.62994817 & -0.6760600 & -0.6980796\\\\\n",
       "\t 2022 & Spring & Nova Scotia               & -0.4603085 &  2 & -0.4699081 & -0.13169544 & -0.4834504 & -0.5390880\\\\\n",
       "\t 2022 & Spring & Nunavut                   & -0.6830559 &  0 & -0.7004528 & -0.62994817 & -0.6807593 & -0.7061819\\\\\n",
       "\t 2022 & Spring & Ontario                   &  2.7474632 & 46 &  2.7521281 &  2.15911473 &  2.5798809 &  1.3188851\\\\\n",
       "\t 2022 & Spring & Prince Edward Island      & -0.6544711 &  0 & -0.6694827 & -0.62994817 & -0.6459565 & -0.6847955\\\\\n",
       "\t 2022 & Spring & Quebec                    &  1.2800611 & 26 &  1.2455829 &  1.74938285 &  0.9155292 &  2.6050731\\\\\n",
       "\t 2022 & Spring & Saskatchewan              & -0.4240643 &  5 & -0.4193632 & -0.61655960 & -0.4656579 & -0.3554531\\\\\n",
       "\t 2022 & Spring & Yukon                     & -0.6823780 &  2 & -0.6947943 & -0.62994817 & -0.6735114 & -0.7009390\\\\\n",
       "\t 2022 & Summer & Alberta                   &  0.3389409 &  6 &  0.4608503 & -0.58422907 &  0.4194333 &  0.5744133\\\\\n",
       "\t 2022 & Summer & British Columbia          &  0.5322096 & 19 &  0.5778590 &  0.94990295 &  0.8173735 &  0.2124749\\\\\n",
       "\t 2022 & Summer & Manitoba                  & -0.3691871 &  6 & -0.3937623 & -0.58317674 & -0.4413157 & -0.3204868\\\\\n",
       "\t 2022 & Summer & New Brunswick             & -0.5072336 &  4 & -0.5149728 & -0.60586958 & -0.5411879 & -0.5204134\\\\\n",
       "\t 2022 & Summer & Newfoundland and Labrador & -0.5707849 &  5 & -0.5725403 &  0.93566002 & -0.5869928 & -0.5796773\\\\\n",
       "\t 2022 & Summer & Northwest Territories     & -0.6820966 &  0 & -0.6966416 & -0.24742061 & -0.6759286 & -0.6994146\\\\\n",
       "\t 2022 & Summer & Nova Scotia               & -0.4578811 &  8 & -0.4664024 & -0.03450589 & -0.4800770 & -0.5489363\\\\\n",
       "\t 2022 & Summer & Nunavut                   & -0.6830568 &  0 & -0.7005191 & -0.62994817 & -0.6801341 & -0.7064972\\\\\n",
       "\t 2022 & Summer & Ontario                   &  2.7700491 & 28 &  2.7105290 &  2.04564010 &  2.6677937 &  1.7483939\\\\\n",
       "\t 2022 & Summer & Prince Edward Island      & -0.6540907 &  1 & -0.6676609 & -0.62994817 & -0.6425880 & -0.6873077\\\\\n",
       "\t 2022 & Summer & Quebec                    &  1.2902712 &  8 &  1.3095606 &  3.10949473 &  1.0148418 &  2.1421196\\\\\n",
       "\t 2022 & Summer & Saskatchewan              & -0.4229084 &  4 & -0.4107059 & -0.61321506 & -0.4617638 & -0.3187102\\\\\n",
       "\t 2022 & Summer & Yukon                     & -0.6822749 &  0 & -0.6942399 & -0.62994817 & -0.6739080 & -0.7020144\\\\\n",
       "\t 2022 & Winter & Alberta                   &  0.3504765 &  4 &  0.4775698 & -0.60269175 &  0.4575122 &  0.6430265\\\\\n",
       "\t 2022 & Winter & British Columbia          &  0.5430103 & 16 &  0.5519179 &  1.11183691 &  0.8807044 &  0.5919738\\\\\n",
       "\t 2022 & Winter & Manitoba                  & -0.3668582 &  8 & -0.3875592 & -0.59235598 & -0.4294974 & -0.1648267\\\\\n",
       "\t 2022 & Winter & New Brunswick             & -0.5053594 &  7 & -0.5138822 & -0.61710139 & -0.5346541 & -0.4414441\\\\\n",
       "\t ⋮ & ⋮ & ⋮ & ⋮ & ⋮ & ⋮ & ⋮ & ⋮ & ⋮\\\\\n",
       "\t 2023 & Fall & Prince Edward Island      & -0.6521098 &  2 & -0.6642072 & -0.62994817 & -0.6388132 & -0.6828546\\\\\n",
       "\t 2023 & Fall & Quebec                    &  1.3534499 & 43 &  1.3811680 &  2.61441984 &  1.2030051 &  2.8450128\\\\\n",
       "\t 2023 & Fall & Saskatchewan              & -0.4136372 &  5 & -0.4096328 & -0.61625744 & -0.4348938 & -0.2929549\\\\\n",
       "\t 2023 & Fall & Yukon                     & -0.6819908 &  4 & -0.6935584 & -0.62994817 & -0.6715152 & -0.6972985\\\\\n",
       "\t 2023 & Fall & Alberta                   &  0.3950695 & 17 &  0.4906971 & -0.60906825 &  0.5589476 &  0.5352330\\\\\n",
       "\t 2023 & Fall & British Columbia          &  0.5836119 & 31 &  0.5737986 &  0.87630229 &  0.9717205 &  0.3280646\\\\\n",
       "\t 2023 & Fall & Manitoba                  & -0.3572920 & 14 & -0.3891669 & -0.58708391 & -0.4225500 & -0.3528020\\\\\n",
       "\t 2023 & Fall & New Brunswick             & -0.4996534 &  4 & -0.5006664 & -0.61810163 & -0.5249975 & -0.5233587\\\\\n",
       "\t 2023 & Fall & Newfoundland and Labrador & -0.5687651 &  7 & -0.5732341 & -0.62994817 & -0.5778082 & -0.5545593\\\\\n",
       "\t 2023 & Fall & Northwest Territories     & -0.6820795 &  0 & -0.6955738 & -0.62994817 & -0.6751050 & -0.7002754\\\\\n",
       "\t 2023 & Fall & Nova Scotia               & -0.4485145 &  8 & -0.4578952 &  0.03315587 & -0.4628684 & -0.5530985\\\\\n",
       "\t 2023 & Fall & Nunavut                   & -0.6829809 &  0 & -0.6996013 & -0.62994817 & -0.6785039 & -0.7061642\\\\\n",
       "\t 2023 & Fall & Ontario                   &  2.9201942 & 91 &  2.7975889 &  0.52531341 &  3.0187052 &  1.4521762\\\\\n",
       "\t 2023 & Fall & Prince Edward Island      & -0.6521098 &  4 & -0.6647762 & -0.62994817 & -0.6398789 & -0.6868835\\\\\n",
       "\t 2023 & Fall & Quebec                    &  1.3534499 & 36 &  1.4133494 &  2.15960443 &  1.1841749 &  2.1753597\\\\\n",
       "\t 2023 & Fall & Saskatchewan              & -0.4136372 & 14 & -0.4008032 & -0.61298584 & -0.4415420 & -0.3345929\\\\\n",
       "\t 2023 & Fall & Yukon                     & -0.6819908 &  3 & -0.6939495 & -0.62994817 & -0.6717487 & -0.6995929\\\\\n",
       "\t 2023 & Fall & Alberta                   &  0.3810971 & 19 &  0.4939838 & -0.59914925 &  0.5384447 &  0.4826961\\\\\n",
       "\t 2023 & Fall & British Columbia          &  0.5694118 & 40 &  0.5678102 &  0.69937522 &  0.9607513 &  0.2289098\\\\\n",
       "\t 2023 & Fall & Manitoba                  & -0.3597012 & 20 & -0.3902943 & -0.57620635 & -0.4246022 & -0.3792090\\\\\n",
       "\t 2023 & Fall & New Brunswick             & -0.5014901 & 12 & -0.5042317 & -0.37392956 & -0.5313598 & -0.5378831\\\\\n",
       "\t 2023 & Fall & Newfoundland and Labrador & -0.5691796 &  6 & -0.5746901 &  0.65163481 & -0.5808117 & -0.5732303\\\\\n",
       "\t 2023 & Fall & Northwest Territories     & -0.6820310 &  0 & -0.6976094 & -0.37301267 & -0.6767242 & -0.7000569\\\\\n",
       "\t 2023 & Fall & Nova Scotia               & -0.4502799 & 13 & -0.4582058 & -0.18987581 & -0.4657235 & -0.5629343\\\\\n",
       "\t 2023 & Fall & Nunavut                   & -0.6830138 &  0 & -0.6996287 & -0.62994817 & -0.6793032 & -0.7064546\\\\\n",
       "\t 2023 & Fall & Ontario                   &  2.8759804 & 73 &  2.7720079 &  0.92354258 &  2.9781276 &  1.4493817\\\\\n",
       "\t 2023 & Fall & Prince Edward Island      & -0.6525821 &  4 & -0.6644703 & -0.62994817 & -0.6393558 & -0.6869463\\\\\n",
       "\t 2023 & Fall & Quebec                    &  1.3365651 & 22 &  1.3977029 &  2.78582478 &  1.1767105 &  2.0465115\\\\\n",
       "\t 2023 & Fall & Saskatchewan              & -0.4158934 &  7 & -0.4049524 & -0.61692427 & -0.4443947 & -0.3511963\\\\\n",
       "\t 2023 & Fall & Yukon                     & -0.6820303 &  3 & -0.6936298 & -0.62994817 & -0.6718059 & -0.7022161\\\\\n",
       "\\end{tabular}\n"
      ],
      "text/markdown": [
       "\n",
       "A data.frame: 299 × 9\n",
       "\n",
       "| year &lt;fct&gt; | month &lt;fct&gt; | prov &lt;fct&gt; | pop &lt;dbl&gt; | protests &lt;int&gt; | retail &lt;dbl&gt; | oil &lt;dbl&gt; | food &lt;dbl&gt; | power &lt;dbl&gt; |\n",
       "|---|---|---|---|---|---|---|---|---|\n",
       "| 2022 | Spring | Alberta                   |  0.3320973 | 17 |  0.4154217 | -0.58844881 |  0.3739484 |  0.4393113 |\n",
       "| 2022 | Spring | British Columbia          |  0.5216659 | 42 |  0.5517610 |  0.17683553 |  0.8040771 |  0.2824956 |\n",
       "| 2022 | Spring | Manitoba                  | -0.3710644 |  2 | -0.4144921 | -0.56441190 | -0.4467717 | -0.2989093 |\n",
       "| 2022 | Spring | New Brunswick             | -0.5090145 |  5 | -0.5188768 | -0.61100621 | -0.5410066 | -0.4874573 |\n",
       "| 2022 | Spring | Newfoundland and Labrador | -0.5713185 |  2 | -0.5779367 |  0.17399111 | -0.5877810 | -0.5793902 |\n",
       "| 2022 | Spring | Northwest Territories     | -0.6820639 |  0 | -0.6965524 | -0.62994817 | -0.6760600 | -0.6980796 |\n",
       "| 2022 | Spring | Nova Scotia               | -0.4603085 |  2 | -0.4699081 | -0.13169544 | -0.4834504 | -0.5390880 |\n",
       "| 2022 | Spring | Nunavut                   | -0.6830559 |  0 | -0.7004528 | -0.62994817 | -0.6807593 | -0.7061819 |\n",
       "| 2022 | Spring | Ontario                   |  2.7474632 | 46 |  2.7521281 |  2.15911473 |  2.5798809 |  1.3188851 |\n",
       "| 2022 | Spring | Prince Edward Island      | -0.6544711 |  0 | -0.6694827 | -0.62994817 | -0.6459565 | -0.6847955 |\n",
       "| 2022 | Spring | Quebec                    |  1.2800611 | 26 |  1.2455829 |  1.74938285 |  0.9155292 |  2.6050731 |\n",
       "| 2022 | Spring | Saskatchewan              | -0.4240643 |  5 | -0.4193632 | -0.61655960 | -0.4656579 | -0.3554531 |\n",
       "| 2022 | Spring | Yukon                     | -0.6823780 |  2 | -0.6947943 | -0.62994817 | -0.6735114 | -0.7009390 |\n",
       "| 2022 | Summer | Alberta                   |  0.3389409 |  6 |  0.4608503 | -0.58422907 |  0.4194333 |  0.5744133 |\n",
       "| 2022 | Summer | British Columbia          |  0.5322096 | 19 |  0.5778590 |  0.94990295 |  0.8173735 |  0.2124749 |\n",
       "| 2022 | Summer | Manitoba                  | -0.3691871 |  6 | -0.3937623 | -0.58317674 | -0.4413157 | -0.3204868 |\n",
       "| 2022 | Summer | New Brunswick             | -0.5072336 |  4 | -0.5149728 | -0.60586958 | -0.5411879 | -0.5204134 |\n",
       "| 2022 | Summer | Newfoundland and Labrador | -0.5707849 |  5 | -0.5725403 |  0.93566002 | -0.5869928 | -0.5796773 |\n",
       "| 2022 | Summer | Northwest Territories     | -0.6820966 |  0 | -0.6966416 | -0.24742061 | -0.6759286 | -0.6994146 |\n",
       "| 2022 | Summer | Nova Scotia               | -0.4578811 |  8 | -0.4664024 | -0.03450589 | -0.4800770 | -0.5489363 |\n",
       "| 2022 | Summer | Nunavut                   | -0.6830568 |  0 | -0.7005191 | -0.62994817 | -0.6801341 | -0.7064972 |\n",
       "| 2022 | Summer | Ontario                   |  2.7700491 | 28 |  2.7105290 |  2.04564010 |  2.6677937 |  1.7483939 |\n",
       "| 2022 | Summer | Prince Edward Island      | -0.6540907 |  1 | -0.6676609 | -0.62994817 | -0.6425880 | -0.6873077 |\n",
       "| 2022 | Summer | Quebec                    |  1.2902712 |  8 |  1.3095606 |  3.10949473 |  1.0148418 |  2.1421196 |\n",
       "| 2022 | Summer | Saskatchewan              | -0.4229084 |  4 | -0.4107059 | -0.61321506 | -0.4617638 | -0.3187102 |\n",
       "| 2022 | Summer | Yukon                     | -0.6822749 |  0 | -0.6942399 | -0.62994817 | -0.6739080 | -0.7020144 |\n",
       "| 2022 | Winter | Alberta                   |  0.3504765 |  4 |  0.4775698 | -0.60269175 |  0.4575122 |  0.6430265 |\n",
       "| 2022 | Winter | British Columbia          |  0.5430103 | 16 |  0.5519179 |  1.11183691 |  0.8807044 |  0.5919738 |\n",
       "| 2022 | Winter | Manitoba                  | -0.3668582 |  8 | -0.3875592 | -0.59235598 | -0.4294974 | -0.1648267 |\n",
       "| 2022 | Winter | New Brunswick             | -0.5053594 |  7 | -0.5138822 | -0.61710139 | -0.5346541 | -0.4414441 |\n",
       "| ⋮ | ⋮ | ⋮ | ⋮ | ⋮ | ⋮ | ⋮ | ⋮ | ⋮ |\n",
       "| 2023 | Fall | Prince Edward Island      | -0.6521098 |  2 | -0.6642072 | -0.62994817 | -0.6388132 | -0.6828546 |\n",
       "| 2023 | Fall | Quebec                    |  1.3534499 | 43 |  1.3811680 |  2.61441984 |  1.2030051 |  2.8450128 |\n",
       "| 2023 | Fall | Saskatchewan              | -0.4136372 |  5 | -0.4096328 | -0.61625744 | -0.4348938 | -0.2929549 |\n",
       "| 2023 | Fall | Yukon                     | -0.6819908 |  4 | -0.6935584 | -0.62994817 | -0.6715152 | -0.6972985 |\n",
       "| 2023 | Fall | Alberta                   |  0.3950695 | 17 |  0.4906971 | -0.60906825 |  0.5589476 |  0.5352330 |\n",
       "| 2023 | Fall | British Columbia          |  0.5836119 | 31 |  0.5737986 |  0.87630229 |  0.9717205 |  0.3280646 |\n",
       "| 2023 | Fall | Manitoba                  | -0.3572920 | 14 | -0.3891669 | -0.58708391 | -0.4225500 | -0.3528020 |\n",
       "| 2023 | Fall | New Brunswick             | -0.4996534 |  4 | -0.5006664 | -0.61810163 | -0.5249975 | -0.5233587 |\n",
       "| 2023 | Fall | Newfoundland and Labrador | -0.5687651 |  7 | -0.5732341 | -0.62994817 | -0.5778082 | -0.5545593 |\n",
       "| 2023 | Fall | Northwest Territories     | -0.6820795 |  0 | -0.6955738 | -0.62994817 | -0.6751050 | -0.7002754 |\n",
       "| 2023 | Fall | Nova Scotia               | -0.4485145 |  8 | -0.4578952 |  0.03315587 | -0.4628684 | -0.5530985 |\n",
       "| 2023 | Fall | Nunavut                   | -0.6829809 |  0 | -0.6996013 | -0.62994817 | -0.6785039 | -0.7061642 |\n",
       "| 2023 | Fall | Ontario                   |  2.9201942 | 91 |  2.7975889 |  0.52531341 |  3.0187052 |  1.4521762 |\n",
       "| 2023 | Fall | Prince Edward Island      | -0.6521098 |  4 | -0.6647762 | -0.62994817 | -0.6398789 | -0.6868835 |\n",
       "| 2023 | Fall | Quebec                    |  1.3534499 | 36 |  1.4133494 |  2.15960443 |  1.1841749 |  2.1753597 |\n",
       "| 2023 | Fall | Saskatchewan              | -0.4136372 | 14 | -0.4008032 | -0.61298584 | -0.4415420 | -0.3345929 |\n",
       "| 2023 | Fall | Yukon                     | -0.6819908 |  3 | -0.6939495 | -0.62994817 | -0.6717487 | -0.6995929 |\n",
       "| 2023 | Fall | Alberta                   |  0.3810971 | 19 |  0.4939838 | -0.59914925 |  0.5384447 |  0.4826961 |\n",
       "| 2023 | Fall | British Columbia          |  0.5694118 | 40 |  0.5678102 |  0.69937522 |  0.9607513 |  0.2289098 |\n",
       "| 2023 | Fall | Manitoba                  | -0.3597012 | 20 | -0.3902943 | -0.57620635 | -0.4246022 | -0.3792090 |\n",
       "| 2023 | Fall | New Brunswick             | -0.5014901 | 12 | -0.5042317 | -0.37392956 | -0.5313598 | -0.5378831 |\n",
       "| 2023 | Fall | Newfoundland and Labrador | -0.5691796 |  6 | -0.5746901 |  0.65163481 | -0.5808117 | -0.5732303 |\n",
       "| 2023 | Fall | Northwest Territories     | -0.6820310 |  0 | -0.6976094 | -0.37301267 | -0.6767242 | -0.7000569 |\n",
       "| 2023 | Fall | Nova Scotia               | -0.4502799 | 13 | -0.4582058 | -0.18987581 | -0.4657235 | -0.5629343 |\n",
       "| 2023 | Fall | Nunavut                   | -0.6830138 |  0 | -0.6996287 | -0.62994817 | -0.6793032 | -0.7064546 |\n",
       "| 2023 | Fall | Ontario                   |  2.8759804 | 73 |  2.7720079 |  0.92354258 |  2.9781276 |  1.4493817 |\n",
       "| 2023 | Fall | Prince Edward Island      | -0.6525821 |  4 | -0.6644703 | -0.62994817 | -0.6393558 | -0.6869463 |\n",
       "| 2023 | Fall | Quebec                    |  1.3365651 | 22 |  1.3977029 |  2.78582478 |  1.1767105 |  2.0465115 |\n",
       "| 2023 | Fall | Saskatchewan              | -0.4158934 |  7 | -0.4049524 | -0.61692427 | -0.4443947 | -0.3511963 |\n",
       "| 2023 | Fall | Yukon                     | -0.6820303 |  3 | -0.6936298 | -0.62994817 | -0.6718059 | -0.7022161 |\n",
       "\n"
      ],
      "text/plain": [
       "    year month  prov                      pop        protests retail    \n",
       "1   2022 Spring Alberta                    0.3320973 17        0.4154217\n",
       "2   2022 Spring British Columbia           0.5216659 42        0.5517610\n",
       "3   2022 Spring Manitoba                  -0.3710644  2       -0.4144921\n",
       "4   2022 Spring New Brunswick             -0.5090145  5       -0.5188768\n",
       "5   2022 Spring Newfoundland and Labrador -0.5713185  2       -0.5779367\n",
       "6   2022 Spring Northwest Territories     -0.6820639  0       -0.6965524\n",
       "7   2022 Spring Nova Scotia               -0.4603085  2       -0.4699081\n",
       "8   2022 Spring Nunavut                   -0.6830559  0       -0.7004528\n",
       "9   2022 Spring Ontario                    2.7474632 46        2.7521281\n",
       "10  2022 Spring Prince Edward Island      -0.6544711  0       -0.6694827\n",
       "11  2022 Spring Quebec                     1.2800611 26        1.2455829\n",
       "12  2022 Spring Saskatchewan              -0.4240643  5       -0.4193632\n",
       "13  2022 Spring Yukon                     -0.6823780  2       -0.6947943\n",
       "14  2022 Summer Alberta                    0.3389409  6        0.4608503\n",
       "15  2022 Summer British Columbia           0.5322096 19        0.5778590\n",
       "16  2022 Summer Manitoba                  -0.3691871  6       -0.3937623\n",
       "17  2022 Summer New Brunswick             -0.5072336  4       -0.5149728\n",
       "18  2022 Summer Newfoundland and Labrador -0.5707849  5       -0.5725403\n",
       "19  2022 Summer Northwest Territories     -0.6820966  0       -0.6966416\n",
       "20  2022 Summer Nova Scotia               -0.4578811  8       -0.4664024\n",
       "21  2022 Summer Nunavut                   -0.6830568  0       -0.7005191\n",
       "22  2022 Summer Ontario                    2.7700491 28        2.7105290\n",
       "23  2022 Summer Prince Edward Island      -0.6540907  1       -0.6676609\n",
       "24  2022 Summer Quebec                     1.2902712  8        1.3095606\n",
       "25  2022 Summer Saskatchewan              -0.4229084  4       -0.4107059\n",
       "26  2022 Summer Yukon                     -0.6822749  0       -0.6942399\n",
       "27  2022 Winter Alberta                    0.3504765  4        0.4775698\n",
       "28  2022 Winter British Columbia           0.5430103 16        0.5519179\n",
       "29  2022 Winter Manitoba                  -0.3668582  8       -0.3875592\n",
       "30  2022 Winter New Brunswick             -0.5053594  7       -0.5138822\n",
       "⋮   ⋮    ⋮      ⋮                         ⋮          ⋮        ⋮         \n",
       "270 2023 Fall   Prince Edward Island      -0.6521098  2       -0.6642072\n",
       "271 2023 Fall   Quebec                     1.3534499 43        1.3811680\n",
       "272 2023 Fall   Saskatchewan              -0.4136372  5       -0.4096328\n",
       "273 2023 Fall   Yukon                     -0.6819908  4       -0.6935584\n",
       "274 2023 Fall   Alberta                    0.3950695 17        0.4906971\n",
       "275 2023 Fall   British Columbia           0.5836119 31        0.5737986\n",
       "276 2023 Fall   Manitoba                  -0.3572920 14       -0.3891669\n",
       "277 2023 Fall   New Brunswick             -0.4996534  4       -0.5006664\n",
       "278 2023 Fall   Newfoundland and Labrador -0.5687651  7       -0.5732341\n",
       "279 2023 Fall   Northwest Territories     -0.6820795  0       -0.6955738\n",
       "280 2023 Fall   Nova Scotia               -0.4485145  8       -0.4578952\n",
       "281 2023 Fall   Nunavut                   -0.6829809  0       -0.6996013\n",
       "282 2023 Fall   Ontario                    2.9201942 91        2.7975889\n",
       "283 2023 Fall   Prince Edward Island      -0.6521098  4       -0.6647762\n",
       "284 2023 Fall   Quebec                     1.3534499 36        1.4133494\n",
       "285 2023 Fall   Saskatchewan              -0.4136372 14       -0.4008032\n",
       "286 2023 Fall   Yukon                     -0.6819908  3       -0.6939495\n",
       "287 2023 Fall   Alberta                    0.3810971 19        0.4939838\n",
       "288 2023 Fall   British Columbia           0.5694118 40        0.5678102\n",
       "289 2023 Fall   Manitoba                  -0.3597012 20       -0.3902943\n",
       "290 2023 Fall   New Brunswick             -0.5014901 12       -0.5042317\n",
       "291 2023 Fall   Newfoundland and Labrador -0.5691796  6       -0.5746901\n",
       "292 2023 Fall   Northwest Territories     -0.6820310  0       -0.6976094\n",
       "293 2023 Fall   Nova Scotia               -0.4502799 13       -0.4582058\n",
       "294 2023 Fall   Nunavut                   -0.6830138  0       -0.6996287\n",
       "295 2023 Fall   Ontario                    2.8759804 73        2.7720079\n",
       "296 2023 Fall   Prince Edward Island      -0.6525821  4       -0.6644703\n",
       "297 2023 Fall   Quebec                     1.3365651 22        1.3977029\n",
       "298 2023 Fall   Saskatchewan              -0.4158934  7       -0.4049524\n",
       "299 2023 Fall   Yukon                     -0.6820303  3       -0.6936298\n",
       "    oil         food       power     \n",
       "1   -0.58844881  0.3739484  0.4393113\n",
       "2    0.17683553  0.8040771  0.2824956\n",
       "3   -0.56441190 -0.4467717 -0.2989093\n",
       "4   -0.61100621 -0.5410066 -0.4874573\n",
       "5    0.17399111 -0.5877810 -0.5793902\n",
       "6   -0.62994817 -0.6760600 -0.6980796\n",
       "7   -0.13169544 -0.4834504 -0.5390880\n",
       "8   -0.62994817 -0.6807593 -0.7061819\n",
       "9    2.15911473  2.5798809  1.3188851\n",
       "10  -0.62994817 -0.6459565 -0.6847955\n",
       "11   1.74938285  0.9155292  2.6050731\n",
       "12  -0.61655960 -0.4656579 -0.3554531\n",
       "13  -0.62994817 -0.6735114 -0.7009390\n",
       "14  -0.58422907  0.4194333  0.5744133\n",
       "15   0.94990295  0.8173735  0.2124749\n",
       "16  -0.58317674 -0.4413157 -0.3204868\n",
       "17  -0.60586958 -0.5411879 -0.5204134\n",
       "18   0.93566002 -0.5869928 -0.5796773\n",
       "19  -0.24742061 -0.6759286 -0.6994146\n",
       "20  -0.03450589 -0.4800770 -0.5489363\n",
       "21  -0.62994817 -0.6801341 -0.7064972\n",
       "22   2.04564010  2.6677937  1.7483939\n",
       "23  -0.62994817 -0.6425880 -0.6873077\n",
       "24   3.10949473  1.0148418  2.1421196\n",
       "25  -0.61321506 -0.4617638 -0.3187102\n",
       "26  -0.62994817 -0.6739080 -0.7020144\n",
       "27  -0.60269175  0.4575122  0.6430265\n",
       "28   1.11183691  0.8807044  0.5919738\n",
       "29  -0.59235598 -0.4294974 -0.1648267\n",
       "30  -0.61710139 -0.5346541 -0.4414441\n",
       "⋮   ⋮           ⋮          ⋮         \n",
       "270 -0.62994817 -0.6388132 -0.6828546\n",
       "271  2.61441984  1.2030051  2.8450128\n",
       "272 -0.61625744 -0.4348938 -0.2929549\n",
       "273 -0.62994817 -0.6715152 -0.6972985\n",
       "274 -0.60906825  0.5589476  0.5352330\n",
       "275  0.87630229  0.9717205  0.3280646\n",
       "276 -0.58708391 -0.4225500 -0.3528020\n",
       "277 -0.61810163 -0.5249975 -0.5233587\n",
       "278 -0.62994817 -0.5778082 -0.5545593\n",
       "279 -0.62994817 -0.6751050 -0.7002754\n",
       "280  0.03315587 -0.4628684 -0.5530985\n",
       "281 -0.62994817 -0.6785039 -0.7061642\n",
       "282  0.52531341  3.0187052  1.4521762\n",
       "283 -0.62994817 -0.6398789 -0.6868835\n",
       "284  2.15960443  1.1841749  2.1753597\n",
       "285 -0.61298584 -0.4415420 -0.3345929\n",
       "286 -0.62994817 -0.6717487 -0.6995929\n",
       "287 -0.59914925  0.5384447  0.4826961\n",
       "288  0.69937522  0.9607513  0.2289098\n",
       "289 -0.57620635 -0.4246022 -0.3792090\n",
       "290 -0.37392956 -0.5313598 -0.5378831\n",
       "291  0.65163481 -0.5808117 -0.5732303\n",
       "292 -0.37301267 -0.6767242 -0.7000569\n",
       "293 -0.18987581 -0.4657235 -0.5629343\n",
       "294 -0.62994817 -0.6793032 -0.7064546\n",
       "295  0.92354258  2.9781276  1.4493817\n",
       "296 -0.62994817 -0.6393558 -0.6869463\n",
       "297  2.78582478  1.1767105  2.0465115\n",
       "298 -0.61692427 -0.4443947 -0.3511963\n",
       "299 -0.62994817 -0.6718059 -0.7022161"
      ]
     },
     "metadata": {},
     "output_type": "display_data"
    }
   ],
   "source": [
    "init_data"
   ]
  },
  {
   "cell_type": "code",
   "execution_count": 368,
   "metadata": {
    "vscode": {
     "languageId": "r"
    }
   },
   "outputs": [],
   "source": [
    "model1 <- glm.nb(protests ~., data=init_data, init.theta = 1)"
   ]
  },
  {
   "cell_type": "code",
   "execution_count": 369,
   "metadata": {
    "vscode": {
     "languageId": "r"
    }
   },
   "outputs": [
    {
     "data": {
      "text/plain": [
       "\n",
       "Call:\n",
       "glm.nb(formula = protests ~ ., data = init_data, init.theta = 8.787356117, \n",
       "    link = log)\n",
       "\n",
       "Coefficients:\n",
       "                              Estimate Std. Error z value Pr(>|z|)    \n",
       "(Intercept)                    3.49134    0.82959   4.208 2.57e-05 ***\n",
       "year2023                       0.09127    0.07835   1.165   0.2441    \n",
       "monthSpring                   -0.03918    0.08668  -0.452   0.6513    \n",
       "monthSummer                   -0.53066    0.08765  -6.054 1.41e-09 ***\n",
       "monthWinter                   -0.17789    0.09594  -1.854   0.0637 .  \n",
       "provBritish Columbia           0.70090    0.37307   1.879   0.0603 .  \n",
       "provManitoba                  -1.61586    1.63901  -0.986   0.3242    \n",
       "provNew Brunswick             -2.21134    1.93107  -1.145   0.2522    \n",
       "provNewfoundland and Labrador -2.57320    2.06609  -1.245   0.2130    \n",
       "provNorthwest Territories     -4.84238    2.34607  -2.064   0.0390 *  \n",
       "provNova Scotia               -2.03238    1.82298  -1.115   0.2649    \n",
       "provNunavut                   -4.46958    2.34348  -1.907   0.0565 .  \n",
       "provOntario                    3.68766    5.29595   0.696   0.4862    \n",
       "provPrince Edward Island      -3.61895    2.27313  -1.592   0.1114    \n",
       "provQuebec                     1.81488    2.17220   0.836   0.4034    \n",
       "provSaskatchewan              -2.20521    1.73856  -1.268   0.2046    \n",
       "provYukon                     -3.61983    2.33373  -1.551   0.1209    \n",
       "pop                            1.75023    2.06369   0.848   0.3964    \n",
       "retail                        -2.41493    1.21992  -1.980   0.0478 *  \n",
       "oil                           -0.04936    0.06776  -0.728   0.4663    \n",
       "food                          -0.34791    0.33713  -1.032   0.3021    \n",
       "power                         -0.20999    0.14441  -1.454   0.1459    \n",
       "---\n",
       "Signif. codes:  0 ‘***’ 0.001 ‘**’ 0.01 ‘*’ 0.05 ‘.’ 0.1 ‘ ’ 1\n",
       "\n",
       "(Dispersion parameter for Negative Binomial(8.7874) family taken to be 1)\n",
       "\n",
       "    Null deviance: 2151.08  on 298  degrees of freedom\n",
       "Residual deviance:  350.72  on 277  degrees of freedom\n",
       "AIC: 1589.5\n",
       "\n",
       "Number of Fisher Scoring iterations: 1\n",
       "\n",
       "\n",
       "              Theta:  8.79 \n",
       "          Std. Err.:  1.59 \n",
       "\n",
       " 2 x log-likelihood:  -1543.477 "
      ]
     },
     "metadata": {},
     "output_type": "display_data"
    }
   ],
   "source": [
    "summary(model1)"
   ]
  },
  {
   "cell_type": "code",
   "execution_count": 370,
   "metadata": {
    "vscode": {
     "languageId": "r"
    }
   },
   "outputs": [
    {
     "data": {
      "image/png": "[encoded data removed]",
      "text/plain": [
       "Plot with title “Histogram of dummy”"
      ]
     },
     "metadata": {
      "image/png": {
       "height": 420,
       "width": 420
      }
     },
     "output_type": "display_data"
    }
   ],
   "source": [
    "dummy <- rnegbin(fitted(model1), theta = 8.68)\n",
    "hist(dummy, breaks=25)"
   ]
  },
  {
   "cell_type": "code",
   "execution_count": 371,
   "metadata": {
    "vscode": {
     "languageId": "r"
    }
   },
   "outputs": [
    {
     "name": "stderr",
     "output_type": "stream",
     "text": [
      "Warning message in anova.negbin(model1):\n",
      "“tests made without re-estimating 'theta'”\n"
     ]
    },
    {
     "data": {
      "text/html": [
       "<table class=\"dataframe\">\n",
       "<caption>A anova: 9 × 5</caption>\n",
       "<thead>\n",
       "\t<tr><th></th><th scope=col>Df</th><th scope=col>Deviance</th><th scope=col>Resid. Df</th><th scope=col>Resid. Dev</th><th scope=col>Pr(&gt;Chi)</th></tr>\n",
       "\t<tr><th></th><th scope=col>&lt;int&gt;</th><th scope=col>&lt;dbl&gt;</th><th scope=col>&lt;int&gt;</th><th scope=col>&lt;dbl&gt;</th><th scope=col>&lt;dbl&gt;</th></tr>\n",
       "</thead>\n",
       "<tbody>\n",
       "\t<tr><th scope=row>NULL</th><td>NA</td><td>          NA</td><td>298</td><td>2151.0784</td><td>          NA</td></tr>\n",
       "\t<tr><th scope=row>year</th><td> 1</td><td>1.022458e+00</td><td>297</td><td>2150.0560</td><td>3.119367e-01</td></tr>\n",
       "\t<tr><th scope=row>month</th><td> 3</td><td>5.355482e+01</td><td>294</td><td>2096.5012</td><td>1.396212e-11</td></tr>\n",
       "\t<tr><th scope=row>prov</th><td>12</td><td>1.737473e+03</td><td>282</td><td> 359.0283</td><td>0.000000e+00</td></tr>\n",
       "\t<tr><th scope=row>pop</th><td> 1</td><td>6.022725e-03</td><td>281</td><td> 359.0222</td><td>9.381413e-01</td></tr>\n",
       "\t<tr><th scope=row>retail</th><td> 1</td><td>5.208708e+00</td><td>280</td><td> 353.8135</td><td>2.247403e-02</td></tr>\n",
       "\t<tr><th scope=row>oil</th><td> 1</td><td>3.983980e-01</td><td>279</td><td> 353.4151</td><td>5.279178e-01</td></tr>\n",
       "\t<tr><th scope=row>food</th><td> 1</td><td>5.640837e-01</td><td>278</td><td> 352.8511</td><td>4.526195e-01</td></tr>\n",
       "\t<tr><th scope=row>power</th><td> 1</td><td>2.134495e+00</td><td>277</td><td> 350.7166</td><td>1.440179e-01</td></tr>\n",
       "</tbody>\n",
       "</table>\n"
      ],
      "text/latex": [
       "A anova: 9 × 5\n",
       "\\begin{tabular}{r|lllll}\n",
       "  & Df & Deviance & Resid. Df & Resid. Dev & Pr(>Chi)\\\\\n",
       "  & <int> & <dbl> & <int> & <dbl> & <dbl>\\\\\n",
       "\\hline\n",
       "\tNULL & NA &           NA & 298 & 2151.0784 &           NA\\\\\n",
       "\tyear &  1 & 1.022458e+00 & 297 & 2150.0560 & 3.119367e-01\\\\\n",
       "\tmonth &  3 & 5.355482e+01 & 294 & 2096.5012 & 1.396212e-11\\\\\n",
       "\tprov & 12 & 1.737473e+03 & 282 &  359.0283 & 0.000000e+00\\\\\n",
       "\tpop &  1 & 6.022725e-03 & 281 &  359.0222 & 9.381413e-01\\\\\n",
       "\tretail &  1 & 5.208708e+00 & 280 &  353.8135 & 2.247403e-02\\\\\n",
       "\toil &  1 & 3.983980e-01 & 279 &  353.4151 & 5.279178e-01\\\\\n",
       "\tfood &  1 & 5.640837e-01 & 278 &  352.8511 & 4.526195e-01\\\\\n",
       "\tpower &  1 & 2.134495e+00 & 277 &  350.7166 & 1.440179e-01\\\\\n",
       "\\end{tabular}\n"
      ],
      "text/markdown": [
       "\n",
       "A anova: 9 × 5\n",
       "\n",
       "| <!--/--> | Df &lt;int&gt; | Deviance &lt;dbl&gt; | Resid. Df &lt;int&gt; | Resid. Dev &lt;dbl&gt; | Pr(&gt;Chi) &lt;dbl&gt; |\n",
       "|---|---|---|---|---|---|\n",
       "| NULL | NA |           NA | 298 | 2151.0784 |           NA |\n",
       "| year |  1 | 1.022458e+00 | 297 | 2150.0560 | 3.119367e-01 |\n",
       "| month |  3 | 5.355482e+01 | 294 | 2096.5012 | 1.396212e-11 |\n",
       "| prov | 12 | 1.737473e+03 | 282 |  359.0283 | 0.000000e+00 |\n",
       "| pop |  1 | 6.022725e-03 | 281 |  359.0222 | 9.381413e-01 |\n",
       "| retail |  1 | 5.208708e+00 | 280 |  353.8135 | 2.247403e-02 |\n",
       "| oil |  1 | 3.983980e-01 | 279 |  353.4151 | 5.279178e-01 |\n",
       "| food |  1 | 5.640837e-01 | 278 |  352.8511 | 4.526195e-01 |\n",
       "| power |  1 | 2.134495e+00 | 277 |  350.7166 | 1.440179e-01 |\n",
       "\n"
      ],
      "text/plain": [
       "       Df Deviance     Resid. Df Resid. Dev Pr(>Chi)    \n",
       "NULL   NA           NA 298       2151.0784            NA\n",
       "year    1 1.022458e+00 297       2150.0560  3.119367e-01\n",
       "month   3 5.355482e+01 294       2096.5012  1.396212e-11\n",
       "prov   12 1.737473e+03 282        359.0283  0.000000e+00\n",
       "pop     1 6.022725e-03 281        359.0222  9.381413e-01\n",
       "retail  1 5.208708e+00 280        353.8135  2.247403e-02\n",
       "oil     1 3.983980e-01 279        353.4151  5.279178e-01\n",
       "food    1 5.640837e-01 278        352.8511  4.526195e-01\n",
       "power   1 2.134495e+00 277        350.7166  1.440179e-01"
      ]
     },
     "metadata": {},
     "output_type": "display_data"
    }
   ],
   "source": [
    "anova(model1)"
   ]
  },
  {
   "cell_type": "code",
   "execution_count": 372,
   "metadata": {
    "vscode": {
     "languageId": "r"
    }
   },
   "outputs": [
    {
     "name": "stdout",
     "output_type": "stream",
     "text": [
      "Start:  AIC=1584.06\n",
      "protests ~ month + prov + retail + power\n",
      "\n",
      "         Df Deviance    AIC\n",
      "- power   1   350.06 1583.0\n",
      "<none>        349.12 1584.1\n",
      "- retail  1   352.66 1585.6\n",
      "- month   3   397.71 1626.7\n",
      "- prov   12   740.51 1951.5\n",
      "\n",
      "Step:  AIC=1583\n",
      "protests ~ month + prov + retail\n",
      "\n",
      "         Df Deviance    AIC\n",
      "<none>        349.20 1583.0\n",
      "- retail  1   352.33 1584.1\n",
      "- month   3   397.19 1625.0\n",
      "- prov   12   745.36 1955.2\n"
     ]
    },
    {
     "data": {
      "text/plain": [
       "\n",
       "Call:\n",
       "glm.nb(formula = protests ~ month + prov + retail, data = data, \n",
       "    init.theta = 8.30561596, link = log)\n",
       "\n",
       "Coefficients:\n",
       "                              Estimate Std. Error z value Pr(>|z|)    \n",
       "(Intercept)                    3.68364    0.50985   7.225 5.01e-13 ***\n",
       "monthSpring                   -0.06502    0.08264  -0.787 0.431441    \n",
       "monthSummer                   -0.55217    0.08629  -6.399 1.57e-10 ***\n",
       "monthWinter                   -0.22871    0.08873  -2.578 0.009946 ** \n",
       "provBritish Columbia           0.81551    0.16310   5.000 5.73e-07 ***\n",
       "provManitoba                  -1.91505    0.92108  -2.079 0.037605 *  \n",
       "provNew Brunswick             -2.62399    1.04409  -2.513 0.011965 *  \n",
       "provNewfoundland and Labrador -3.06967    1.11340  -2.757 0.005833 ** \n",
       "provNorthwest Territories     -5.35839    1.26866  -4.224 2.40e-05 ***\n",
       "provNova Scotia               -2.41344    0.99351  -2.429 0.015133 *  \n",
       "provNunavut                   -4.98454    1.26290  -3.947 7.92e-05 ***\n",
       "provOntario                    5.59695    2.44944   2.285 0.022314 *  \n",
       "provPrince Edward Island      -4.11279    1.21600  -3.382 0.000719 ***\n",
       "provQuebec                     2.19032    0.93156   2.351 0.018711 *  \n",
       "provSaskatchewan              -2.58187    0.94178  -2.741 0.006116 ** \n",
       "provYukon                     -4.13848    1.24460  -3.325 0.000884 ***\n",
       "retail                        -1.85334    1.06448  -1.741 0.081671 .  \n",
       "---\n",
       "Signif. codes:  0 ‘***’ 0.001 ‘**’ 0.01 ‘*’ 0.05 ‘.’ 0.1 ‘ ’ 1\n",
       "\n",
       "(Dispersion parameter for Negative Binomial(8.3056) family taken to be 1)\n",
       "\n",
       "    Null deviance: 2091.2  on 298  degrees of freedom\n",
       "Residual deviance:  349.2  on 282  degrees of freedom\n",
       "AIC: 1585\n",
       "\n",
       "Number of Fisher Scoring iterations: 1\n",
       "\n",
       "\n",
       "              Theta:  8.31 \n",
       "          Std. Err.:  1.46 \n",
       "\n",
       " 2 x log-likelihood:  -1548.997 "
      ]
     },
     "metadata": {},
     "output_type": "display_data"
    }
   ],
   "source": [
    "data <- init_data[, -c(1, 4, 7, 8, 9)]\n",
    "model <- glm.nb(protests ~., data=data, init.theta = 1)\n",
    "\n",
    "summary(step(model))\n",
    "# names(summary(model))\n",
    "# summary(model)"
   ]
  },
  {
   "cell_type": "markdown",
   "metadata": {},
   "source": [
    "## Bootstrap Methods"
   ]
  },
  {
   "cell_type": "markdown",
   "metadata": {},
   "source": [
    "### 1. Resampling Bootstrap"
   ]
  },
  {
   "cell_type": "code",
   "execution_count": 373,
   "metadata": {
    "vscode": {
     "languageId": "r"
    }
   },
   "outputs": [],
   "source": [
    "resampBoot <- function(df, B) {\n",
    "\n",
    "    # Get sample size\n",
    "    n <- nrow(df)\n",
    "    # Initialize empty dataframe\n",
    "    params <- c()\n",
    "    # Initialize progress bar\n",
    "    bar <- txtProgressBar(min=0, max=B, style=1)\n",
    "    # Perform B iterations\n",
    "    for (b in 1:B) {\n",
    "        # Select a sample of size n\n",
    "        indices <- sample(1:n, replace = TRUE)\n",
    "        samp <- df[indices, ]\n",
    "        # Fit the model with the sample\n",
    "        boot_model <- glm.nb(protests ~., data=samp, init.theta = 10)\n",
    "        boot_params <- coef(boot_model)\n",
    "        params <- rbind(params, boot_params)\n",
    "        setTxtProgressBar(bar, b)\n",
    "    }\n",
    "    close(bar)\n",
    "    return(params)  \n",
    "}"
   ]
  },
  {
   "cell_type": "code",
   "execution_count": 374,
   "metadata": {
    "vscode": {
     "languageId": "r"
    }
   },
   "outputs": [],
   "source": [
    "# boot_models <- resampBoot(data, B)\n",
    "# boot_models <- as.data.frame(boot_models)\n",
    "# write.csv(boot_models, \"data/results/resamp_boot_results.csv\")"
   ]
  },
  {
   "cell_type": "markdown",
   "metadata": {},
   "source": [
    "### 2. Parametric Bootstrap"
   ]
  },
  {
   "cell_type": "code",
   "execution_count": 375,
   "metadata": {
    "vscode": {
     "languageId": "r"
    }
   },
   "outputs": [],
   "source": [
    "conditionalNegBinom <- function(theta, mu) {\n",
    "    nb_sample <- rnbinom(size=theta, mu=mu, n=1)\n",
    "    return(nb_sample)\n",
    "}"
   ]
  },
  {
   "cell_type": "code",
   "execution_count": 376,
   "metadata": {
    "vscode": {
     "languageId": "r"
    }
   },
   "outputs": [],
   "source": [
    "paramBoot <- function(B, X, yhat, theta, func) {\n",
    "\n",
    "    # Initialize empty vector\n",
    "    params <- c()\n",
    "    # Iterate B times\n",
    "    for (b in 1:B) {\n",
    "        # Simulate NB given means\n",
    "        sim_y <- sapply(yhat, function(y) func(theta, y))\n",
    "        # Add to the dataframe\n",
    "        sim_data <- cbind(X, protests=sim_y)\n",
    "        # Fit the model to the simulated data\n",
    "        sim_model <- glm.nb(protests ~., data=sim_data, init.theta = theta)\n",
    "        # Access the coefficients and store\n",
    "        parameters <- coef(sim_model)\n",
    "        params <- rbind(params, parameters)\n",
    "    }\n",
    "    return(params)\n",
    "}"
   ]
  },
  {
   "cell_type": "code",
   "execution_count": 377,
   "metadata": {
    "vscode": {
     "languageId": "r"
    }
   },
   "outputs": [],
   "source": [
    "model <- glm.nb(protests ~., data=data, init.theta = 1)\n",
    "\n",
    "theta <- summary(model)$theta\n",
    "X <- data[, c(1,2,4)]\n",
    "yhat <- fitted(model)"
   ]
  },
  {
   "cell_type": "code",
   "execution_count": 378,
   "metadata": {
    "vscode": {
     "languageId": "r"
    }
   },
   "outputs": [],
   "source": [
    "# parametric_results <- paramBoot(B, X, yhat, theta, func=conditionalNegBinom)\n",
    "# param_results <- as.data.frame(parametric_results)\n",
    "# write.csv(param_results, \"data/results/param_boot_results.csv\")"
   ]
  },
  {
   "cell_type": "markdown",
   "metadata": {},
   "source": [
    "### 3. Error Bootstrap"
   ]
  },
  {
   "cell_type": "code",
   "execution_count": 379,
   "metadata": {
    "vscode": {
     "languageId": "r"
    }
   },
   "outputs": [],
   "source": [
    "epsilonBoot <- function(X, model, B, err_mean, err_sd, errors) {\n",
    "\n",
    "    # Get sample size\n",
    "    n <- nrow(X)\n",
    "    # Initialize empty vector\n",
    "    params <- c()\n",
    "    # Perform B iterations\n",
    "    for (b in 1:B) {\n",
    "        # Get errors\n",
    "        # errs <- rnorm(n=n, mean=err_mean, sd=1)\n",
    "        errs <- sample(errors, size=n, replace=TRUE)\n",
    "        # Get fitted values\n",
    "        yhat <- fitted(model)\n",
    "        # Get simulated y\n",
    "        ystar <- yhat + errs\n",
    "        # round up negative values\n",
    "        ystar <- pmax(rep(0, n), ystar)\n",
    "        # Turn into DataFrame\n",
    "        sim_data <- data.frame(protests=ystar, X)\n",
    "        # round to integers\n",
    "        # sim_data$protests <- round(sim_data$protests)\n",
    "        \n",
    "        # Fit the model with the simulated data\n",
    "        paramboot_model <- glm.nb(protests ~., data=sim_data, init.theta = 5)\n",
    "        boot_params <- coef(paramboot_model)\n",
    "        params <- rbind(params, boot_params)\n",
    "    }\n",
    "    return(params)\n",
    "}"
   ]
  },
  {
   "cell_type": "code",
   "execution_count": 380,
   "metadata": {
    "vscode": {
     "languageId": "r"
    }
   },
   "outputs": [],
   "source": [
    "model <- glm.nb(protests ~., data=data, init.theta = 10)"
   ]
  },
  {
   "cell_type": "code",
   "execution_count": 381,
   "metadata": {
    "vscode": {
     "languageId": "r"
    }
   },
   "outputs": [],
   "source": [
    "X <- data[, c(1,2,4)]\n",
    "epsilon <- resid(model)\n",
    "err_mean <- mean(epsilon)\n",
    "err_sd <- sd(epsilon)"
   ]
  },
  {
   "cell_type": "code",
   "execution_count": 382,
   "metadata": {
    "vscode": {
     "languageId": "r"
    }
   },
   "outputs": [],
   "source": [
    "# suppressWarnings({\n",
    "#   error_models <- epsilonBoot(X, model, B, err_mean, err_sd, epsilon)\n",
    "# })\n",
    "# error_results <- as.data.frame(error_models)\n",
    "# write.csv(param_results, \"data/results/error_boot_results.csv\")"
   ]
  },
  {
   "cell_type": "markdown",
   "metadata": {},
   "source": [
    "### 3. Smooth Bootstrap"
   ]
  },
  {
   "cell_type": "code",
   "execution_count": 383,
   "metadata": {
    "vscode": {
     "languageId": "r"
    }
   },
   "outputs": [],
   "source": [
    "addNoise <- function(X) {\n",
    "\n",
    "    cols <- colnames(X)\n",
    "    new_X <- X\n",
    "    for (col in cols) {\n",
    "        Xi <- X[, col]\n",
    "        if (class(data[, col]) != \"factor\") {\n",
    "            n <- length(Xi)\n",
    "            S_sq <- var(Xi)\n",
    "            noise_var <- S_sq / n\n",
    "            new_X[, col] <- Xi + rnorm(n=n, mean=0, sd=sqrt(noise_var))\n",
    "        } else {\n",
    "            new_X[, col] <- Xi\n",
    "        }\n",
    "    }\n",
    "    return(new_X)\n",
    "}"
   ]
  },
  {
   "cell_type": "code",
   "execution_count": 384,
   "metadata": {
    "vscode": {
     "languageId": "r"
    }
   },
   "outputs": [],
   "source": [
    "smoothBoot <- function(X, y, B, noisefunc) {\n",
    "\n",
    "    # Get sample size\n",
    "    n <- nrow(X)\n",
    "    # Initialize empty vector\n",
    "    params <- c()\n",
    "    \n",
    "    # Initialize progress bar\n",
    "    pb <- txtProgressBar(min = 0, max = B, style = 3)\n",
    "    \n",
    "    # Perform B iterations\n",
    "    for (b in 1:B) {\n",
    "        # Update progress bar\n",
    "        setTxtProgressBar(pb, b)\n",
    "        \n",
    "        # Get new dataset\n",
    "        new_X <- noisefunc(X)\n",
    "        new_data <- data.frame(protests=y, new_X)\n",
    "        \n",
    "        # Fit the model with the simulated data\n",
    "        smoothboot_model <- glm.nb(protests ~., data=new_data, init.theta = 5)\n",
    "        boot_params <- coef(smoothboot_model)\n",
    "        params <- rbind(params, boot_params)\n",
    "    }\n",
    "    \n",
    "    # Close progress bar\n",
    "    close(pb)\n",
    "    \n",
    "    return(params)\n",
    "}"
   ]
  },
  {
   "cell_type": "code",
   "execution_count": 388,
   "metadata": {
    "vscode": {
     "languageId": "r"
    }
   },
   "outputs": [
    {
     "ename": "ERROR",
     "evalue": "Error in `[.data.frame`(data, , c(c(1, 2, 4), \"oil\")): undefined columns selected\n",
     "output_type": "error",
     "traceback": [
      "Error in `[.data.frame`(data, , c(c(1, 2, 4), \"oil\")): undefined columns selected\nTraceback:\n",
      "1. data[, c(c(1, 2, 4), \"oil\")]",
      "2. `[.data.frame`(data, , c(c(1, 2, 4), \"oil\"))",
      "3. stop(\"undefined columns selected\")"
     ]
    }
   ],
   "source": [
    "X <- data[, c(1,2,4)]\n",
    "y <- data$protests\n"
   ]
  },
  {
   "cell_type": "code",
   "execution_count": 386,
   "metadata": {
    "vscode": {
     "languageId": "r"
    }
   },
   "outputs": [],
   "source": [
    "# smooth_data <- smoothBoot(X, y, B, addNoise)\n",
    "# smooth_results <- as.data.frame(smooth_data)\n",
    "# write.csv(smooth_results, \"data/results/smooth_boot_results.csv\")"
   ]
  },
  {
   "cell_type": "markdown",
   "metadata": {},
   "source": [
    "## Monte Carlo Prediction"
   ]
  },
  {
   "cell_type": "code",
   "execution_count": 387,
   "metadata": {
    "vscode": {
     "languageId": "r"
    }
   },
   "outputs": [],
   "source": [
    "# Assuming 'data' is your data frame and 'month' is the column with the month names\n",
    "month_names <- c(\"January\", \"February\", \"March\", \"April\", \"May\", \"June\", \n",
    "                 \"July\", \"August\", \"September\", \"October\", \"November\", \"December\")\n",
    "data$month_number <- match(data$month, month_names)\n",
    "\n",
    "data$year <- as.integer(init_data$year)\n",
    "data$t <- data$month_number\n",
    "data[data$year == 2, ]$t = data[data$year == 2, ]$t + 12\n",
    "\n",
    "data[, c(\"year\", \"month_number\")] <- NULL"
   ]
  },
  {
   "cell_type": "markdown",
   "metadata": {},
   "source": [
    "### Make Predictions"
   ]
  }
 ],
 "metadata": {
  "kernelspec": {
   "display_name": "R",
   "language": "R",
   "name": "ir"
  },
  "language_info": {
   "codemirror_mode": "r",
   "file_extension": ".r",
   "mimetype": "text/x-r-source",
   "name": "R",
   "pygments_lexer": "r",
   "version": "4.3.3"
  }
 },
 "nbformat": 4,
 "nbformat_minor": 2
}
