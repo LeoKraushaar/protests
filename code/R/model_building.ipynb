{
 "cells": [
  {
   "cell_type": "markdown",
   "metadata": {},
   "source": [
    "## Model Building"
   ]
  },
  {
   "cell_type": "code",
   "execution_count": 65,
   "metadata": {
    "vscode": {
     "languageId": "r"
    }
   },
   "outputs": [],
   "source": [
    "library(MASS)\n",
    "library(glmnet)\n",
    "library(scales)"
   ]
  },
  {
   "cell_type": "code",
   "execution_count": 66,
   "metadata": {
    "vscode": {
     "languageId": "r"
    }
   },
   "outputs": [],
   "source": [
    "setwd(\"/home/leoKraushaar/Documents/School/Year 3/Semester 2/STAT 413/Project/protests/\")"
   ]
  },
  {
   "cell_type": "code",
   "execution_count": 67,
   "metadata": {
    "vscode": {
     "languageId": "r"
    }
   },
   "outputs": [
    {
     "data": {
      "text/html": [
       "<table class=\"dataframe\">\n",
       "<caption>A data.frame: 6 × 8</caption>\n",
       "<thead>\n",
       "\t<tr><th></th><th scope=col>year</th><th scope=col>month</th><th scope=col>GEO</th><th scope=col>pop</th><th scope=col>protests</th><th scope=col>retail</th><th scope=col>oil</th><th scope=col>power</th></tr>\n",
       "\t<tr><th></th><th scope=col>&lt;int&gt;</th><th scope=col>&lt;chr&gt;</th><th scope=col>&lt;chr&gt;</th><th scope=col>&lt;int&gt;</th><th scope=col>&lt;int&gt;</th><th scope=col>&lt;dbl&gt;</th><th scope=col>&lt;int&gt;</th><th scope=col>&lt;int&gt;</th></tr>\n",
       "</thead>\n",
       "<tbody>\n",
       "\t<tr><th scope=row>1</th><td>2022</td><td>April</td><td>Alberta                  </td><td>4480956</td><td>17</td><td>7989056</td><td> 3983</td><td>6069621</td></tr>\n",
       "\t<tr><th scope=row>2</th><td>2022</td><td>April</td><td>British Columbia         </td><td>5310164</td><td>42</td><td>8959229</td><td>77433</td><td>5240902</td></tr>\n",
       "\t<tr><th scope=row>3</th><td>2022</td><td>April</td><td>Manitoba                 </td><td>1405197</td><td> 2</td><td>2083495</td><td> 6290</td><td>2168371</td></tr>\n",
       "\t<tr><th scope=row>4</th><td>2022</td><td>April</td><td>New Brunswick            </td><td> 801778</td><td> 5</td><td>1340707</td><td> 1818</td><td>1171958</td></tr>\n",
       "\t<tr><th scope=row>5</th><td>2022</td><td>April</td><td>Newfoundland and Labrador</td><td> 529249</td><td> 2</td><td> 920444</td><td>77160</td><td> 686123</td></tr>\n",
       "\t<tr><th scope=row>6</th><td>2022</td><td>April</td><td>Northwest Territories    </td><td>  44828</td><td> 0</td><td>  76390</td><td>    0</td><td>  58889</td></tr>\n",
       "</tbody>\n",
       "</table>\n"
      ],
      "text/latex": [
       "A data.frame: 6 × 8\n",
       "\\begin{tabular}{r|llllllll}\n",
       "  & year & month & GEO & pop & protests & retail & oil & power\\\\\n",
       "  & <int> & <chr> & <chr> & <int> & <int> & <dbl> & <int> & <int>\\\\\n",
       "\\hline\n",
       "\t1 & 2022 & April & Alberta                   & 4480956 & 17 & 7989056 &  3983 & 6069621\\\\\n",
       "\t2 & 2022 & April & British Columbia          & 5310164 & 42 & 8959229 & 77433 & 5240902\\\\\n",
       "\t3 & 2022 & April & Manitoba                  & 1405197 &  2 & 2083495 &  6290 & 2168371\\\\\n",
       "\t4 & 2022 & April & New Brunswick             &  801778 &  5 & 1340707 &  1818 & 1171958\\\\\n",
       "\t5 & 2022 & April & Newfoundland and Labrador &  529249 &  2 &  920444 & 77160 &  686123\\\\\n",
       "\t6 & 2022 & April & Northwest Territories     &   44828 &  0 &   76390 &     0 &   58889\\\\\n",
       "\\end{tabular}\n"
      ],
      "text/markdown": [
       "\n",
       "A data.frame: 6 × 8\n",
       "\n",
       "| <!--/--> | year &lt;int&gt; | month &lt;chr&gt; | GEO &lt;chr&gt; | pop &lt;int&gt; | protests &lt;int&gt; | retail &lt;dbl&gt; | oil &lt;int&gt; | power &lt;int&gt; |\n",
       "|---|---|---|---|---|---|---|---|---|\n",
       "| 1 | 2022 | April | Alberta                   | 4480956 | 17 | 7989056 |  3983 | 6069621 |\n",
       "| 2 | 2022 | April | British Columbia          | 5310164 | 42 | 8959229 | 77433 | 5240902 |\n",
       "| 3 | 2022 | April | Manitoba                  | 1405197 |  2 | 2083495 |  6290 | 2168371 |\n",
       "| 4 | 2022 | April | New Brunswick             |  801778 |  5 | 1340707 |  1818 | 1171958 |\n",
       "| 5 | 2022 | April | Newfoundland and Labrador |  529249 |  2 |  920444 | 77160 |  686123 |\n",
       "| 6 | 2022 | April | Northwest Territories     |   44828 |  0 |   76390 |     0 |   58889 |\n",
       "\n"
      ],
      "text/plain": [
       "  year month GEO                       pop     protests retail  oil   power  \n",
       "1 2022 April Alberta                   4480956 17       7989056  3983 6069621\n",
       "2 2022 April British Columbia          5310164 42       8959229 77433 5240902\n",
       "3 2022 April Manitoba                  1405197  2       2083495  6290 2168371\n",
       "4 2022 April New Brunswick              801778  5       1340707  1818 1171958\n",
       "5 2022 April Newfoundland and Labrador  529249  2        920444 77160  686123\n",
       "6 2022 April Northwest Territories       44828  0         76390     0   58889"
      ]
     },
     "metadata": {},
     "output_type": "display_data"
    }
   ],
   "source": [
    "data <- read.csv(\"data/merged_data.csv\")[, -1]\n",
    "data$food <- NULL\n",
    "data$manufac <- NULL\n",
    "\n",
    "# data <- data[, 1:5]\n",
    "\n",
    "head(data)"
   ]
  },
  {
   "cell_type": "code",
   "execution_count": 68,
   "metadata": {
    "vscode": {
     "languageId": "r"
    }
   },
   "outputs": [],
   "source": [
    "# data$pop <- rescale(data$pop)\n",
    "# data$retail <- rescale(data$retail)\n",
    "# data$oil <- rescale(data$oil)\n",
    "# data$power <- rescale(data$power)"
   ]
  },
  {
   "cell_type": "code",
   "execution_count": 69,
   "metadata": {
    "vscode": {
     "languageId": "r"
    }
   },
   "outputs": [
    {
     "data": {
      "text/html": [
       "<table class=\"dataframe\">\n",
       "<caption>A data.frame: 6 × 8</caption>\n",
       "<thead>\n",
       "\t<tr><th></th><th scope=col>year</th><th scope=col>month</th><th scope=col>prov</th><th scope=col>pop</th><th scope=col>protests</th><th scope=col>retail</th><th scope=col>oil</th><th scope=col>power</th></tr>\n",
       "\t<tr><th></th><th scope=col>&lt;int&gt;</th><th scope=col>&lt;chr&gt;</th><th scope=col>&lt;chr&gt;</th><th scope=col>&lt;int&gt;</th><th scope=col>&lt;int&gt;</th><th scope=col>&lt;dbl&gt;</th><th scope=col>&lt;int&gt;</th><th scope=col>&lt;int&gt;</th></tr>\n",
       "</thead>\n",
       "<tbody>\n",
       "\t<tr><th scope=row>1</th><td>2022</td><td>April</td><td>Alberta                  </td><td>4480956</td><td>17</td><td>7989056</td><td> 3983</td><td>6069621</td></tr>\n",
       "\t<tr><th scope=row>2</th><td>2022</td><td>April</td><td>British Columbia         </td><td>5310164</td><td>42</td><td>8959229</td><td>77433</td><td>5240902</td></tr>\n",
       "\t<tr><th scope=row>3</th><td>2022</td><td>April</td><td>Manitoba                 </td><td>1405197</td><td> 2</td><td>2083495</td><td> 6290</td><td>2168371</td></tr>\n",
       "\t<tr><th scope=row>4</th><td>2022</td><td>April</td><td>New Brunswick            </td><td> 801778</td><td> 5</td><td>1340707</td><td> 1818</td><td>1171958</td></tr>\n",
       "\t<tr><th scope=row>5</th><td>2022</td><td>April</td><td>Newfoundland and Labrador</td><td> 529249</td><td> 2</td><td> 920444</td><td>77160</td><td> 686123</td></tr>\n",
       "\t<tr><th scope=row>6</th><td>2022</td><td>April</td><td>Northwest Territories    </td><td>  44828</td><td> 0</td><td>  76390</td><td>    0</td><td>  58889</td></tr>\n",
       "</tbody>\n",
       "</table>\n"
      ],
      "text/latex": [
       "A data.frame: 6 × 8\n",
       "\\begin{tabular}{r|llllllll}\n",
       "  & year & month & prov & pop & protests & retail & oil & power\\\\\n",
       "  & <int> & <chr> & <chr> & <int> & <int> & <dbl> & <int> & <int>\\\\\n",
       "\\hline\n",
       "\t1 & 2022 & April & Alberta                   & 4480956 & 17 & 7989056 &  3983 & 6069621\\\\\n",
       "\t2 & 2022 & April & British Columbia          & 5310164 & 42 & 8959229 & 77433 & 5240902\\\\\n",
       "\t3 & 2022 & April & Manitoba                  & 1405197 &  2 & 2083495 &  6290 & 2168371\\\\\n",
       "\t4 & 2022 & April & New Brunswick             &  801778 &  5 & 1340707 &  1818 & 1171958\\\\\n",
       "\t5 & 2022 & April & Newfoundland and Labrador &  529249 &  2 &  920444 & 77160 &  686123\\\\\n",
       "\t6 & 2022 & April & Northwest Territories     &   44828 &  0 &   76390 &     0 &   58889\\\\\n",
       "\\end{tabular}\n"
      ],
      "text/markdown": [
       "\n",
       "A data.frame: 6 × 8\n",
       "\n",
       "| <!--/--> | year &lt;int&gt; | month &lt;chr&gt; | prov &lt;chr&gt; | pop &lt;int&gt; | protests &lt;int&gt; | retail &lt;dbl&gt; | oil &lt;int&gt; | power &lt;int&gt; |\n",
       "|---|---|---|---|---|---|---|---|---|\n",
       "| 1 | 2022 | April | Alberta                   | 4480956 | 17 | 7989056 |  3983 | 6069621 |\n",
       "| 2 | 2022 | April | British Columbia          | 5310164 | 42 | 8959229 | 77433 | 5240902 |\n",
       "| 3 | 2022 | April | Manitoba                  | 1405197 |  2 | 2083495 |  6290 | 2168371 |\n",
       "| 4 | 2022 | April | New Brunswick             |  801778 |  5 | 1340707 |  1818 | 1171958 |\n",
       "| 5 | 2022 | April | Newfoundland and Labrador |  529249 |  2 |  920444 | 77160 |  686123 |\n",
       "| 6 | 2022 | April | Northwest Territories     |   44828 |  0 |   76390 |     0 |   58889 |\n",
       "\n"
      ],
      "text/plain": [
       "  year month prov                      pop     protests retail  oil   power  \n",
       "1 2022 April Alberta                   4480956 17       7989056  3983 6069621\n",
       "2 2022 April British Columbia          5310164 42       8959229 77433 5240902\n",
       "3 2022 April Manitoba                  1405197  2       2083495  6290 2168371\n",
       "4 2022 April New Brunswick              801778  5       1340707  1818 1171958\n",
       "5 2022 April Newfoundland and Labrador  529249  2        920444 77160  686123\n",
       "6 2022 April Northwest Territories       44828  0         76390     0   58889"
      ]
     },
     "metadata": {},
     "output_type": "display_data"
    }
   ],
   "source": [
    "colnames(data)[colnames(data) == \"GEO\"] <- \"prov\"\n",
    "head(data)"
   ]
  },
  {
   "cell_type": "code",
   "execution_count": 70,
   "metadata": {
    "vscode": {
     "languageId": "r"
    }
   },
   "outputs": [],
   "source": [
    "data$prov  <- as.factor(data$prov)\n",
    "data$month <- as.factor(data$month)\n",
    "data$year <- as.factor(data$year)"
   ]
  },
  {
   "cell_type": "code",
   "execution_count": 71,
   "metadata": {
    "vscode": {
     "languageId": "r"
    }
   },
   "outputs": [
    {
     "data": {
      "text/html": [
       "<table class=\"dataframe\">\n",
       "<caption>A data.frame: 6 × 8</caption>\n",
       "<thead>\n",
       "\t<tr><th></th><th scope=col>year</th><th scope=col>month</th><th scope=col>prov</th><th scope=col>pop</th><th scope=col>protests</th><th scope=col>retail</th><th scope=col>oil</th><th scope=col>power</th></tr>\n",
       "\t<tr><th></th><th scope=col>&lt;fct&gt;</th><th scope=col>&lt;fct&gt;</th><th scope=col>&lt;fct&gt;</th><th scope=col>&lt;int&gt;</th><th scope=col>&lt;int&gt;</th><th scope=col>&lt;dbl&gt;</th><th scope=col>&lt;int&gt;</th><th scope=col>&lt;int&gt;</th></tr>\n",
       "</thead>\n",
       "<tbody>\n",
       "\t<tr><th scope=row>1</th><td>2022</td><td>April</td><td>Alberta                  </td><td>4480956</td><td>17</td><td>7989056</td><td> 3983</td><td>6069621</td></tr>\n",
       "\t<tr><th scope=row>2</th><td>2022</td><td>April</td><td>British Columbia         </td><td>5310164</td><td>42</td><td>8959229</td><td>77433</td><td>5240902</td></tr>\n",
       "\t<tr><th scope=row>3</th><td>2022</td><td>April</td><td>Manitoba                 </td><td>1405197</td><td> 2</td><td>2083495</td><td> 6290</td><td>2168371</td></tr>\n",
       "\t<tr><th scope=row>4</th><td>2022</td><td>April</td><td>New Brunswick            </td><td> 801778</td><td> 5</td><td>1340707</td><td> 1818</td><td>1171958</td></tr>\n",
       "\t<tr><th scope=row>5</th><td>2022</td><td>April</td><td>Newfoundland and Labrador</td><td> 529249</td><td> 2</td><td> 920444</td><td>77160</td><td> 686123</td></tr>\n",
       "\t<tr><th scope=row>6</th><td>2022</td><td>April</td><td>Northwest Territories    </td><td>  44828</td><td> 0</td><td>  76390</td><td>    0</td><td>  58889</td></tr>\n",
       "</tbody>\n",
       "</table>\n"
      ],
      "text/latex": [
       "A data.frame: 6 × 8\n",
       "\\begin{tabular}{r|llllllll}\n",
       "  & year & month & prov & pop & protests & retail & oil & power\\\\\n",
       "  & <fct> & <fct> & <fct> & <int> & <int> & <dbl> & <int> & <int>\\\\\n",
       "\\hline\n",
       "\t1 & 2022 & April & Alberta                   & 4480956 & 17 & 7989056 &  3983 & 6069621\\\\\n",
       "\t2 & 2022 & April & British Columbia          & 5310164 & 42 & 8959229 & 77433 & 5240902\\\\\n",
       "\t3 & 2022 & April & Manitoba                  & 1405197 &  2 & 2083495 &  6290 & 2168371\\\\\n",
       "\t4 & 2022 & April & New Brunswick             &  801778 &  5 & 1340707 &  1818 & 1171958\\\\\n",
       "\t5 & 2022 & April & Newfoundland and Labrador &  529249 &  2 &  920444 & 77160 &  686123\\\\\n",
       "\t6 & 2022 & April & Northwest Territories     &   44828 &  0 &   76390 &     0 &   58889\\\\\n",
       "\\end{tabular}\n"
      ],
      "text/markdown": [
       "\n",
       "A data.frame: 6 × 8\n",
       "\n",
       "| <!--/--> | year &lt;fct&gt; | month &lt;fct&gt; | prov &lt;fct&gt; | pop &lt;int&gt; | protests &lt;int&gt; | retail &lt;dbl&gt; | oil &lt;int&gt; | power &lt;int&gt; |\n",
       "|---|---|---|---|---|---|---|---|---|\n",
       "| 1 | 2022 | April | Alberta                   | 4480956 | 17 | 7989056 |  3983 | 6069621 |\n",
       "| 2 | 2022 | April | British Columbia          | 5310164 | 42 | 8959229 | 77433 | 5240902 |\n",
       "| 3 | 2022 | April | Manitoba                  | 1405197 |  2 | 2083495 |  6290 | 2168371 |\n",
       "| 4 | 2022 | April | New Brunswick             |  801778 |  5 | 1340707 |  1818 | 1171958 |\n",
       "| 5 | 2022 | April | Newfoundland and Labrador |  529249 |  2 |  920444 | 77160 |  686123 |\n",
       "| 6 | 2022 | April | Northwest Territories     |   44828 |  0 |   76390 |     0 |   58889 |\n",
       "\n"
      ],
      "text/plain": [
       "  year month prov                      pop     protests retail  oil   power  \n",
       "1 2022 April Alberta                   4480956 17       7989056  3983 6069621\n",
       "2 2022 April British Columbia          5310164 42       8959229 77433 5240902\n",
       "3 2022 April Manitoba                  1405197  2       2083495  6290 2168371\n",
       "4 2022 April New Brunswick              801778  5       1340707  1818 1171958\n",
       "5 2022 April Newfoundland and Labrador  529249  2        920444 77160  686123\n",
       "6 2022 April Northwest Territories       44828  0         76390     0   58889"
      ]
     },
     "metadata": {},
     "output_type": "display_data"
    },
    {
     "name": "stderr",
     "output_type": "stream",
     "text": [
      "The following objects are masked from data (pos = 3):\n",
      "\n",
      "    month, oil, pop, power, protests, prov, retail, year\n",
      "\n",
      "\n",
      "The following objects are masked from data (pos = 4):\n",
      "\n",
      "    month, oil, pop, power, protests, prov, retail, year\n",
      "\n",
      "\n",
      "The following objects are masked from data (pos = 5):\n",
      "\n",
      "    month, oil, pop, power, protests, prov, retail, year\n",
      "\n",
      "\n",
      "The following objects are masked from data (pos = 6):\n",
      "\n",
      "    month, oil, pop, power, protests, prov, retail, year\n",
      "\n",
      "\n"
     ]
    }
   ],
   "source": [
    "head(data)\n",
    "attach(data)"
   ]
  },
  {
   "cell_type": "markdown",
   "metadata": {},
   "source": [
    "## Negative Binomial Model"
   ]
  },
  {
   "cell_type": "code",
   "execution_count": 72,
   "metadata": {
    "vscode": {
     "languageId": "r"
    }
   },
   "outputs": [
    {
     "data": {
      "text/plain": [
       "\n",
       "Call:\n",
       "glm.nb(formula = protests ~ ., data = data, init.theta = 10.75475187, \n",
       "    link = log)\n",
       "\n",
       "Deviance Residuals: \n",
       "    Min       1Q   Median       3Q      Max  \n",
       "-3.2993  -0.9709  -0.1634   0.5407   3.0443  \n",
       "\n",
       "Coefficients:\n",
       "                                Estimate Std. Error z value Pr(>|z|)    \n",
       "(Intercept)                    3.645e+00  1.898e+00   1.921 0.054755 .  \n",
       "year2023                       1.030e-02  7.908e-02   0.130 0.896387    \n",
       "monthAugust                   -7.164e-01  1.450e-01  -4.942 7.75e-07 ***\n",
       "monthDecember                 -6.195e-01  1.873e-01  -3.307 0.000943 ***\n",
       "monthFebruary                  5.988e-02  1.315e-01   0.455 0.648944    \n",
       "monthJanuary                  -3.207e-01  1.427e-01  -2.248 0.024598 *  \n",
       "monthJuly                     -5.626e-01  1.415e-01  -3.975 7.04e-05 ***\n",
       "monthJune                     -3.254e-01  1.382e-01  -2.354 0.018556 *  \n",
       "monthMarch                    -9.807e-02  1.339e-01  -0.732 0.463950    \n",
       "monthMay                      -1.506e-02  1.317e-01  -0.114 0.908934    \n",
       "monthNovember                 -1.134e-01  1.375e-01  -0.825 0.409526    \n",
       "monthOctober                   4.189e-03  1.350e-01   0.031 0.975236    \n",
       "monthSeptember                 8.582e-02  1.302e-01   0.659 0.509882    \n",
       "provBritish Columbia           5.307e-01  3.305e-01   1.606 0.108295    \n",
       "provManitoba                  -1.043e+00  1.368e+00  -0.762 0.445818    \n",
       "provNew Brunswick             -1.542e+00  1.599e+00  -0.965 0.334774    \n",
       "provNewfoundland and Labrador -1.876e+00  1.708e+00  -1.098 0.272040    \n",
       "provNorthwest Territories     -4.048e+00  1.936e+00  -2.091 0.036514 *  \n",
       "provNova Scotia               -1.384e+00  1.512e+00  -0.915 0.360022    \n",
       "provNunavut                   -3.673e+00  1.933e+00  -1.900 0.057376 .  \n",
       "provOntario                    2.225e+00  4.235e+00   0.525 0.599367    \n",
       "provPrince Edward Island      -2.840e+00  1.872e+00  -1.517 0.129159    \n",
       "provQuebec                     9.287e-01  1.721e+00   0.539 0.589557    \n",
       "provSaskatchewan              -1.607e+00  1.440e+00  -1.116 0.264312    \n",
       "provYukon                     -2.822e+00  1.921e+00  -1.469 0.141731    \n",
       "pop                            4.770e-07  3.490e-07   1.367 0.171728    \n",
       "retail                        -3.654e-07  1.590e-07  -2.299 0.021531 *  \n",
       "oil                           -2.244e-07  6.552e-07  -0.342 0.732003    \n",
       "power                          5.934e-10  2.687e-08   0.022 0.982378    \n",
       "---\n",
       "Signif. codes:  0 ‘***’ 0.001 ‘**’ 0.01 ‘*’ 0.05 ‘.’ 0.1 ‘ ’ 1\n",
       "\n",
       "(Dispersion parameter for Negative Binomial(10.7548) family taken to be 1)\n",
       "\n",
       "    Null deviance: 2368.91  on 298  degrees of freedom\n",
       "Residual deviance:  352.49  on 270  degrees of freedom\n",
       "AIC: 1581.4\n",
       "\n",
       "Number of Fisher Scoring iterations: 1\n",
       "\n",
       "\n",
       "              Theta:  10.75 \n",
       "          Std. Err.:  2.10 \n",
       "\n",
       " 2 x log-likelihood:  -1521.40 "
      ]
     },
     "metadata": {},
     "output_type": "display_data"
    }
   ],
   "source": [
    "model <- glm.nb(protests ~., data=data, init.theta = 1)\n",
    "\n",
    "summary(model)"
   ]
  },
  {
   "cell_type": "code",
   "execution_count": 73,
   "metadata": {
    "vscode": {
     "languageId": "r"
    }
   },
   "outputs": [
    {
     "data": {
      "image/png": "[encoded data removed]",
      "text/plain": [
       "Plot with title “Histogram of dummy”"
      ]
     },
     "metadata": {
      "image/png": {
       "height": 420,
       "width": 420
      }
     },
     "output_type": "display_data"
    }
   ],
   "source": [
    "dummy <- rnegbin(fitted(model), theta = 10.75)\n",
    "\n",
    "hist(dummy, breaks=25)"
   ]
  },
  {
   "cell_type": "code",
   "execution_count": 74,
   "metadata": {
    "vscode": {
     "languageId": "r"
    }
   },
   "outputs": [
    {
     "name": "stderr",
     "output_type": "stream",
     "text": [
      "Warning message in anova.negbin(model):\n",
      "“tests made without re-estimating 'theta'”\n"
     ]
    },
    {
     "data": {
      "text/html": [
       "<table class=\"dataframe\">\n",
       "<caption>A anova: 8 × 5</caption>\n",
       "<thead>\n",
       "\t<tr><th></th><th scope=col>Df</th><th scope=col>Deviance</th><th scope=col>Resid. Df</th><th scope=col>Resid. Dev</th><th scope=col>Pr(&gt;Chi)</th></tr>\n",
       "\t<tr><th></th><th scope=col>&lt;int&gt;</th><th scope=col>&lt;dbl&gt;</th><th scope=col>&lt;int&gt;</th><th scope=col>&lt;dbl&gt;</th><th scope=col>&lt;dbl&gt;</th></tr>\n",
       "</thead>\n",
       "<tbody>\n",
       "\t<tr><th scope=row>NULL</th><td>NA</td><td>          NA</td><td>298</td><td>2368.9063</td><td>          NA</td></tr>\n",
       "\t<tr><th scope=row>year</th><td> 1</td><td>1.143289e+00</td><td>297</td><td>2367.7630</td><td>2.849583e-01</td></tr>\n",
       "\t<tr><th scope=row>month</th><td>11</td><td>8.988210e+01</td><td>286</td><td>2277.8809</td><td>1.758231e-14</td></tr>\n",
       "\t<tr><th scope=row>prov</th><td>12</td><td>1.918190e+03</td><td>274</td><td> 359.6911</td><td>0.000000e+00</td></tr>\n",
       "\t<tr><th scope=row>pop</th><td> 1</td><td>1.223328e+00</td><td>273</td><td> 358.4678</td><td>2.687085e-01</td></tr>\n",
       "\t<tr><th scope=row>retail</th><td> 1</td><td>5.846439e+00</td><td>272</td><td> 352.6213</td><td>1.560860e-02</td></tr>\n",
       "\t<tr><th scope=row>oil</th><td> 1</td><td>1.275936e-01</td><td>271</td><td> 352.4937</td><td>7.209403e-01</td></tr>\n",
       "\t<tr><th scope=row>power</th><td> 1</td><td>4.744238e-04</td><td>270</td><td> 352.4932</td><td>9.826224e-01</td></tr>\n",
       "</tbody>\n",
       "</table>\n"
      ],
      "text/latex": [
       "A anova: 8 × 5\n",
       "\\begin{tabular}{r|lllll}\n",
       "  & Df & Deviance & Resid. Df & Resid. Dev & Pr(>Chi)\\\\\n",
       "  & <int> & <dbl> & <int> & <dbl> & <dbl>\\\\\n",
       "\\hline\n",
       "\tNULL & NA &           NA & 298 & 2368.9063 &           NA\\\\\n",
       "\tyear &  1 & 1.143289e+00 & 297 & 2367.7630 & 2.849583e-01\\\\\n",
       "\tmonth & 11 & 8.988210e+01 & 286 & 2277.8809 & 1.758231e-14\\\\\n",
       "\tprov & 12 & 1.918190e+03 & 274 &  359.6911 & 0.000000e+00\\\\\n",
       "\tpop &  1 & 1.223328e+00 & 273 &  358.4678 & 2.687085e-01\\\\\n",
       "\tretail &  1 & 5.846439e+00 & 272 &  352.6213 & 1.560860e-02\\\\\n",
       "\toil &  1 & 1.275936e-01 & 271 &  352.4937 & 7.209403e-01\\\\\n",
       "\tpower &  1 & 4.744238e-04 & 270 &  352.4932 & 9.826224e-01\\\\\n",
       "\\end{tabular}\n"
      ],
      "text/markdown": [
       "\n",
       "A anova: 8 × 5\n",
       "\n",
       "| <!--/--> | Df &lt;int&gt; | Deviance &lt;dbl&gt; | Resid. Df &lt;int&gt; | Resid. Dev &lt;dbl&gt; | Pr(&gt;Chi) &lt;dbl&gt; |\n",
       "|---|---|---|---|---|---|\n",
       "| NULL | NA |           NA | 298 | 2368.9063 |           NA |\n",
       "| year |  1 | 1.143289e+00 | 297 | 2367.7630 | 2.849583e-01 |\n",
       "| month | 11 | 8.988210e+01 | 286 | 2277.8809 | 1.758231e-14 |\n",
       "| prov | 12 | 1.918190e+03 | 274 |  359.6911 | 0.000000e+00 |\n",
       "| pop |  1 | 1.223328e+00 | 273 |  358.4678 | 2.687085e-01 |\n",
       "| retail |  1 | 5.846439e+00 | 272 |  352.6213 | 1.560860e-02 |\n",
       "| oil |  1 | 1.275936e-01 | 271 |  352.4937 | 7.209403e-01 |\n",
       "| power |  1 | 4.744238e-04 | 270 |  352.4932 | 9.826224e-01 |\n",
       "\n"
      ],
      "text/plain": [
       "       Df Deviance     Resid. Df Resid. Dev Pr(>Chi)    \n",
       "NULL   NA           NA 298       2368.9063            NA\n",
       "year    1 1.143289e+00 297       2367.7630  2.849583e-01\n",
       "month  11 8.988210e+01 286       2277.8809  1.758231e-14\n",
       "prov   12 1.918190e+03 274        359.6911  0.000000e+00\n",
       "pop     1 1.223328e+00 273        358.4678  2.687085e-01\n",
       "retail  1 5.846439e+00 272        352.6213  1.560860e-02\n",
       "oil     1 1.275936e-01 271        352.4937  7.209403e-01\n",
       "power   1 4.744238e-04 270        352.4932  9.826224e-01"
      ]
     },
     "metadata": {},
     "output_type": "display_data"
    }
   ],
   "source": [
    "anova(model)"
   ]
  },
  {
   "cell_type": "code",
   "execution_count": 75,
   "metadata": {
    "vscode": {
     "languageId": "r"
    }
   },
   "outputs": [
    {
     "name": "stderr",
     "output_type": "stream",
     "text": [
      "Warning message in anova.negbin(model2):\n",
      "“tests made without re-estimating 'theta'”\n"
     ]
    },
    {
     "data": {
      "text/html": [
       "<table class=\"dataframe\">\n",
       "<caption>A anova: 4 × 5</caption>\n",
       "<thead>\n",
       "\t<tr><th></th><th scope=col>Df</th><th scope=col>Deviance</th><th scope=col>Resid. Df</th><th scope=col>Resid. Dev</th><th scope=col>Pr(&gt;Chi)</th></tr>\n",
       "\t<tr><th></th><th scope=col>&lt;int&gt;</th><th scope=col>&lt;dbl&gt;</th><th scope=col>&lt;int&gt;</th><th scope=col>&lt;dbl&gt;</th><th scope=col>&lt;dbl&gt;</th></tr>\n",
       "</thead>\n",
       "<tbody>\n",
       "\t<tr><th scope=row>NULL</th><td>NA</td><td>         NA</td><td>298</td><td>2309.3533</td><td>          NA</td></tr>\n",
       "\t<tr><th scope=row>month</th><td>11</td><td>  88.224132</td><td>287</td><td>2221.1292</td><td>3.711719e-14</td></tr>\n",
       "\t<tr><th scope=row>prov</th><td>12</td><td>1867.799461</td><td>275</td><td> 353.3297</td><td>0.000000e+00</td></tr>\n",
       "\t<tr><th scope=row>retail</th><td> 1</td><td>   3.366263</td><td>274</td><td> 349.9634</td><td>6.654454e-02</td></tr>\n",
       "</tbody>\n",
       "</table>\n"
      ],
      "text/latex": [
       "A anova: 4 × 5\n",
       "\\begin{tabular}{r|lllll}\n",
       "  & Df & Deviance & Resid. Df & Resid. Dev & Pr(>Chi)\\\\\n",
       "  & <int> & <dbl> & <int> & <dbl> & <dbl>\\\\\n",
       "\\hline\n",
       "\tNULL & NA &          NA & 298 & 2309.3533 &           NA\\\\\n",
       "\tmonth & 11 &   88.224132 & 287 & 2221.1292 & 3.711719e-14\\\\\n",
       "\tprov & 12 & 1867.799461 & 275 &  353.3297 & 0.000000e+00\\\\\n",
       "\tretail &  1 &    3.366263 & 274 &  349.9634 & 6.654454e-02\\\\\n",
       "\\end{tabular}\n"
      ],
      "text/markdown": [
       "\n",
       "A anova: 4 × 5\n",
       "\n",
       "| <!--/--> | Df &lt;int&gt; | Deviance &lt;dbl&gt; | Resid. Df &lt;int&gt; | Resid. Dev &lt;dbl&gt; | Pr(&gt;Chi) &lt;dbl&gt; |\n",
       "|---|---|---|---|---|---|\n",
       "| NULL | NA |          NA | 298 | 2309.3533 |           NA |\n",
       "| month | 11 |   88.224132 | 287 | 2221.1292 | 3.711719e-14 |\n",
       "| prov | 12 | 1867.799461 | 275 |  353.3297 | 0.000000e+00 |\n",
       "| retail |  1 |    3.366263 | 274 |  349.9634 | 6.654454e-02 |\n",
       "\n"
      ],
      "text/plain": [
       "       Df Deviance    Resid. Df Resid. Dev Pr(>Chi)    \n",
       "NULL   NA          NA 298       2309.3533            NA\n",
       "month  11   88.224132 287       2221.1292  3.711719e-14\n",
       "prov   12 1867.799461 275        353.3297  0.000000e+00\n",
       "retail  1    3.366263 274        349.9634  6.654454e-02"
      ]
     },
     "metadata": {},
     "output_type": "display_data"
    }
   ],
   "source": [
    "anova(model2)"
   ]
  },
  {
   "cell_type": "code",
   "execution_count": 76,
   "metadata": {
    "vscode": {
     "languageId": "r"
    }
   },
   "outputs": [],
   "source": [
    "coefBoot <- function(df, n, B) {\n",
    "\n",
    "    # Perform B iterations\n",
    "    for (b in 1:B) {\n",
    "\n",
    "        # Select a sample of size n\n",
    "        indices <- sample(1:nrow(df), replace = TRUE)\n",
    "        samp <- df[indices, ]\n",
    "        # Fit the model with the sample\n",
    "        boot_model <- glm.nb(protests ~., data=samp, init.theta = 10)\n",
    "        params <- coef(boot_model)\n",
    "        return(params)\n",
    "    }\n",
    "\n",
    "}"
   ]
  },
  {
   "cell_type": "code",
   "execution_count": 77,
   "metadata": {
    "vscode": {
     "languageId": "r"
    }
   },
   "outputs": [],
   "source": [
    "data2 <- data[, -c(1, 4, 7, 8)]"
   ]
  },
  {
   "cell_type": "code",
   "execution_count": 78,
   "metadata": {
    "vscode": {
     "languageId": "r"
    }
   },
   "outputs": [
    {
     "data": {
      "text/html": [
       "<style>\n",
       ".dl-inline {width: auto; margin:0; padding: 0}\n",
       ".dl-inline>dt, .dl-inline>dd {float: none; width: auto; display: inline-block}\n",
       ".dl-inline>dt::after {content: \":\\0020\"; padding-right: .5ex}\n",
       ".dl-inline>dt:not(:first-of-type) {padding-left: .5ex}\n",
       "</style><dl class=dl-inline><dt>(Intercept)</dt><dd>5.75551366235467</dd><dt>monthAugust</dt><dd>-0.424190279995688</dd><dt>monthDecember</dt><dd>-0.386725778102077</dd><dt>monthFebruary</dt><dd>0.185081395996409</dd><dt>monthJanuary</dt><dd>-0.313882583190431</dd><dt>monthJuly</dt><dd>-0.485146942922594</dd><dt>monthJune</dt><dd>-0.237358883278964</dd><dt>monthMarch</dt><dd>-0.170386678317378</dd><dt>monthMay</dt><dd>0.0953829244972799</dd><dt>monthNovember</dt><dd>0.214101467891183</dd><dt>monthOctober</dt><dd>0.15539234150234</dd><dt>monthSeptember</dt><dd>0.0920726486037844</dd><dt>provBritish Columbia</dt><dd>0.897488417730344</dd><dt>provManitoba</dt><dd>-2.53847711048348</dd><dt>provNew Brunswick</dt><dd>-3.50379700746285</dd><dt>provNewfoundland and Labrador</dt><dd>-3.7134726860109</dd><dt>provNorthwest Territories</dt><dd>-6.00482198282205</dd><dt>provNova Scotia</dt><dd>-2.95955551800827</dd><dt>provNunavut</dt><dd>-6.03359952179656</dd><dt>provOntario</dt><dd>7.12677037360951</dd><dt>provPrince Edward Island</dt><dd>-4.98014093912265</dd><dt>provQuebec</dt><dd>2.79411023185375</dd><dt>provSaskatchewan</dt><dd>-3.14735465130299</dd><dt>provYukon</dt><dd>-5.08342666793335</dd><dt>retail</dt><dd>-3.56574831507659e-07</dd></dl>\n"
      ],
      "text/latex": [
       "\\begin{description*}\n",
       "\\item[(Intercept)] 5.75551366235467\n",
       "\\item[monthAugust] -0.424190279995688\n",
       "\\item[monthDecember] -0.386725778102077\n",
       "\\item[monthFebruary] 0.185081395996409\n",
       "\\item[monthJanuary] -0.313882583190431\n",
       "\\item[monthJuly] -0.485146942922594\n",
       "\\item[monthJune] -0.237358883278964\n",
       "\\item[monthMarch] -0.170386678317378\n",
       "\\item[monthMay] 0.0953829244972799\n",
       "\\item[monthNovember] 0.214101467891183\n",
       "\\item[monthOctober] 0.15539234150234\n",
       "\\item[monthSeptember] 0.0920726486037844\n",
       "\\item[provBritish Columbia] 0.897488417730344\n",
       "\\item[provManitoba] -2.53847711048348\n",
       "\\item[provNew Brunswick] -3.50379700746285\n",
       "\\item[provNewfoundland and Labrador] -3.7134726860109\n",
       "\\item[provNorthwest Territories] -6.00482198282205\n",
       "\\item[provNova Scotia] -2.95955551800827\n",
       "\\item[provNunavut] -6.03359952179656\n",
       "\\item[provOntario] 7.12677037360951\n",
       "\\item[provPrince Edward Island] -4.98014093912265\n",
       "\\item[provQuebec] 2.79411023185375\n",
       "\\item[provSaskatchewan] -3.14735465130299\n",
       "\\item[provYukon] -5.08342666793335\n",
       "\\item[retail] -3.56574831507659e-07\n",
       "\\end{description*}\n"
      ],
      "text/markdown": [
       "(Intercept)\n",
       ":   5.75551366235467monthAugust\n",
       ":   -0.424190279995688monthDecember\n",
       ":   -0.386725778102077monthFebruary\n",
       ":   0.185081395996409monthJanuary\n",
       ":   -0.313882583190431monthJuly\n",
       ":   -0.485146942922594monthJune\n",
       ":   -0.237358883278964monthMarch\n",
       ":   -0.170386678317378monthMay\n",
       ":   0.0953829244972799monthNovember\n",
       ":   0.214101467891183monthOctober\n",
       ":   0.15539234150234monthSeptember\n",
       ":   0.0920726486037844provBritish Columbia\n",
       ":   0.897488417730344provManitoba\n",
       ":   -2.53847711048348provNew Brunswick\n",
       ":   -3.50379700746285provNewfoundland and Labrador\n",
       ":   -3.7134726860109provNorthwest Territories\n",
       ":   -6.00482198282205provNova Scotia\n",
       ":   -2.95955551800827provNunavut\n",
       ":   -6.03359952179656provOntario\n",
       ":   7.12677037360951provPrince Edward Island\n",
       ":   -4.98014093912265provQuebec\n",
       ":   2.79411023185375provSaskatchewan\n",
       ":   -3.14735465130299provYukon\n",
       ":   -5.08342666793335retail\n",
       ":   -3.56574831507659e-07\n",
       "\n"
      ],
      "text/plain": [
       "                  (Intercept)                   monthAugust \n",
       "                 5.755514e+00                 -4.241903e-01 \n",
       "                monthDecember                 monthFebruary \n",
       "                -3.867258e-01                  1.850814e-01 \n",
       "                 monthJanuary                     monthJuly \n",
       "                -3.138826e-01                 -4.851469e-01 \n",
       "                    monthJune                    monthMarch \n",
       "                -2.373589e-01                 -1.703867e-01 \n",
       "                     monthMay                 monthNovember \n",
       "                 9.538292e-02                  2.141015e-01 \n",
       "                 monthOctober                monthSeptember \n",
       "                 1.553923e-01                  9.207265e-02 \n",
       "         provBritish Columbia                  provManitoba \n",
       "                 8.974884e-01                 -2.538477e+00 \n",
       "            provNew Brunswick provNewfoundland and Labrador \n",
       "                -3.503797e+00                 -3.713473e+00 \n",
       "    provNorthwest Territories               provNova Scotia \n",
       "                -6.004822e+00                 -2.959556e+00 \n",
       "                  provNunavut                   provOntario \n",
       "                -6.033600e+00                  7.126770e+00 \n",
       "     provPrince Edward Island                    provQuebec \n",
       "                -4.980141e+00                  2.794110e+00 \n",
       "             provSaskatchewan                     provYukon \n",
       "                -3.147355e+00                 -5.083427e+00 \n",
       "                       retail \n",
       "                -3.565748e-07 "
      ]
     },
     "metadata": {},
     "output_type": "display_data"
    }
   ],
   "source": [
    "coefBoot(data2, 200, B=1)"
   ]
  }
 ],
 "metadata": {
  "kernelspec": {
   "display_name": "R",
   "language": "R",
   "name": "ir"
  },
  "language_info": {
   "codemirror_mode": "r",
   "file_extension": ".r",
   "mimetype": "text/x-r-source",
   "name": "R",
   "pygments_lexer": "r",
   "version": "4.2.3"
  }
 },
 "nbformat": 4,
 "nbformat_minor": 2
}
