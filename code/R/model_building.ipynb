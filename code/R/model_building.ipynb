{
 "cells": [
  {
   "cell_type": "markdown",
   "metadata": {},
   "source": [
    "## Model Building"
   ]
  },
  {
   "cell_type": "code",
   "execution_count": 184,
   "metadata": {
    "vscode": {
     "languageId": "r"
    }
   },
   "outputs": [],
   "source": [
    "library(MASS)\n",
    "library(glmnet)\n",
    "library(scales)\n",
    "library(ggplot2)\n",
    "library(shiny)"
   ]
  },
  {
   "cell_type": "code",
   "execution_count": 185,
   "metadata": {
    "vscode": {
     "languageId": "r"
    }
   },
   "outputs": [],
   "source": [
    "setwd(\"/home/leoKraushaar/Documents/School/Year 3/Semester 2/STAT 413/Project/protests/\")\n",
    "set.seed(42)"
   ]
  },
  {
   "cell_type": "code",
   "execution_count": 186,
   "metadata": {
    "vscode": {
     "languageId": "r"
    }
   },
   "outputs": [
    {
     "data": {
      "text/html": [
       "<table class=\"dataframe\">\n",
       "<caption>A data.frame: 6 × 8</caption>\n",
       "<thead>\n",
       "\t<tr><th></th><th scope=col>year</th><th scope=col>month</th><th scope=col>GEO</th><th scope=col>pop</th><th scope=col>protests</th><th scope=col>retail</th><th scope=col>oil</th><th scope=col>power</th></tr>\n",
       "\t<tr><th></th><th scope=col>&lt;int&gt;</th><th scope=col>&lt;chr&gt;</th><th scope=col>&lt;chr&gt;</th><th scope=col>&lt;int&gt;</th><th scope=col>&lt;int&gt;</th><th scope=col>&lt;dbl&gt;</th><th scope=col>&lt;int&gt;</th><th scope=col>&lt;int&gt;</th></tr>\n",
       "</thead>\n",
       "<tbody>\n",
       "\t<tr><th scope=row>1</th><td>2022</td><td>April</td><td>Alberta                  </td><td>4480956</td><td>17</td><td>7989056</td><td> 3983</td><td>6069621</td></tr>\n",
       "\t<tr><th scope=row>2</th><td>2022</td><td>April</td><td>British Columbia         </td><td>5310164</td><td>42</td><td>8959229</td><td>77433</td><td>5240902</td></tr>\n",
       "\t<tr><th scope=row>3</th><td>2022</td><td>April</td><td>Manitoba                 </td><td>1405197</td><td> 2</td><td>2083495</td><td> 6290</td><td>2168371</td></tr>\n",
       "\t<tr><th scope=row>4</th><td>2022</td><td>April</td><td>New Brunswick            </td><td> 801778</td><td> 5</td><td>1340707</td><td> 1818</td><td>1171958</td></tr>\n",
       "\t<tr><th scope=row>5</th><td>2022</td><td>April</td><td>Newfoundland and Labrador</td><td> 529249</td><td> 2</td><td> 920444</td><td>77160</td><td> 686123</td></tr>\n",
       "\t<tr><th scope=row>6</th><td>2022</td><td>April</td><td>Northwest Territories    </td><td>  44828</td><td> 0</td><td>  76390</td><td>    0</td><td>  58889</td></tr>\n",
       "</tbody>\n",
       "</table>\n"
      ],
      "text/latex": [
       "A data.frame: 6 × 8\n",
       "\\begin{tabular}{r|llllllll}\n",
       "  & year & month & GEO & pop & protests & retail & oil & power\\\\\n",
       "  & <int> & <chr> & <chr> & <int> & <int> & <dbl> & <int> & <int>\\\\\n",
       "\\hline\n",
       "\t1 & 2022 & April & Alberta                   & 4480956 & 17 & 7989056 &  3983 & 6069621\\\\\n",
       "\t2 & 2022 & April & British Columbia          & 5310164 & 42 & 8959229 & 77433 & 5240902\\\\\n",
       "\t3 & 2022 & April & Manitoba                  & 1405197 &  2 & 2083495 &  6290 & 2168371\\\\\n",
       "\t4 & 2022 & April & New Brunswick             &  801778 &  5 & 1340707 &  1818 & 1171958\\\\\n",
       "\t5 & 2022 & April & Newfoundland and Labrador &  529249 &  2 &  920444 & 77160 &  686123\\\\\n",
       "\t6 & 2022 & April & Northwest Territories     &   44828 &  0 &   76390 &     0 &   58889\\\\\n",
       "\\end{tabular}\n"
      ],
      "text/markdown": [
       "\n",
       "A data.frame: 6 × 8\n",
       "\n",
       "| <!--/--> | year &lt;int&gt; | month &lt;chr&gt; | GEO &lt;chr&gt; | pop &lt;int&gt; | protests &lt;int&gt; | retail &lt;dbl&gt; | oil &lt;int&gt; | power &lt;int&gt; |\n",
       "|---|---|---|---|---|---|---|---|---|\n",
       "| 1 | 2022 | April | Alberta                   | 4480956 | 17 | 7989056 |  3983 | 6069621 |\n",
       "| 2 | 2022 | April | British Columbia          | 5310164 | 42 | 8959229 | 77433 | 5240902 |\n",
       "| 3 | 2022 | April | Manitoba                  | 1405197 |  2 | 2083495 |  6290 | 2168371 |\n",
       "| 4 | 2022 | April | New Brunswick             |  801778 |  5 | 1340707 |  1818 | 1171958 |\n",
       "| 5 | 2022 | April | Newfoundland and Labrador |  529249 |  2 |  920444 | 77160 |  686123 |\n",
       "| 6 | 2022 | April | Northwest Territories     |   44828 |  0 |   76390 |     0 |   58889 |\n",
       "\n"
      ],
      "text/plain": [
       "  year month GEO                       pop     protests retail  oil   power  \n",
       "1 2022 April Alberta                   4480956 17       7989056  3983 6069621\n",
       "2 2022 April British Columbia          5310164 42       8959229 77433 5240902\n",
       "3 2022 April Manitoba                  1405197  2       2083495  6290 2168371\n",
       "4 2022 April New Brunswick              801778  5       1340707  1818 1171958\n",
       "5 2022 April Newfoundland and Labrador  529249  2        920444 77160  686123\n",
       "6 2022 April Northwest Territories       44828  0         76390     0   58889"
      ]
     },
     "metadata": {},
     "output_type": "display_data"
    }
   ],
   "source": [
    "init_data <- read.csv(\"data/merged_data.csv\")[, -1]\n",
    "init_data$food <- NULL\n",
    "init_data$manufac <- NULL\n",
    "\n",
    "# init_data <- init_data[, 1:5]\n",
    "\n",
    "head(init_data)"
   ]
  },
  {
   "cell_type": "code",
   "execution_count": 187,
   "metadata": {
    "vscode": {
     "languageId": "r"
    }
   },
   "outputs": [],
   "source": [
    "# data$pop <- rescale(data$pop)\n",
    "# data$retail <- rescale(data$retail)\n",
    "# data$oil <- rescale(data$oil)\n",
    "# data$power <- rescale(data$power)"
   ]
  },
  {
   "cell_type": "code",
   "execution_count": 188,
   "metadata": {
    "vscode": {
     "languageId": "r"
    }
   },
   "outputs": [
    {
     "data": {
      "text/html": [
       "<table class=\"dataframe\">\n",
       "<caption>A data.frame: 6 × 8</caption>\n",
       "<thead>\n",
       "\t<tr><th></th><th scope=col>year</th><th scope=col>month</th><th scope=col>prov</th><th scope=col>pop</th><th scope=col>protests</th><th scope=col>retail</th><th scope=col>oil</th><th scope=col>power</th></tr>\n",
       "\t<tr><th></th><th scope=col>&lt;int&gt;</th><th scope=col>&lt;chr&gt;</th><th scope=col>&lt;chr&gt;</th><th scope=col>&lt;int&gt;</th><th scope=col>&lt;int&gt;</th><th scope=col>&lt;dbl&gt;</th><th scope=col>&lt;int&gt;</th><th scope=col>&lt;int&gt;</th></tr>\n",
       "</thead>\n",
       "<tbody>\n",
       "\t<tr><th scope=row>1</th><td>2022</td><td>April</td><td>Alberta                  </td><td>4480956</td><td>17</td><td>7989056</td><td> 3983</td><td>6069621</td></tr>\n",
       "\t<tr><th scope=row>2</th><td>2022</td><td>April</td><td>British Columbia         </td><td>5310164</td><td>42</td><td>8959229</td><td>77433</td><td>5240902</td></tr>\n",
       "\t<tr><th scope=row>3</th><td>2022</td><td>April</td><td>Manitoba                 </td><td>1405197</td><td> 2</td><td>2083495</td><td> 6290</td><td>2168371</td></tr>\n",
       "\t<tr><th scope=row>4</th><td>2022</td><td>April</td><td>New Brunswick            </td><td> 801778</td><td> 5</td><td>1340707</td><td> 1818</td><td>1171958</td></tr>\n",
       "\t<tr><th scope=row>5</th><td>2022</td><td>April</td><td>Newfoundland and Labrador</td><td> 529249</td><td> 2</td><td> 920444</td><td>77160</td><td> 686123</td></tr>\n",
       "\t<tr><th scope=row>6</th><td>2022</td><td>April</td><td>Northwest Territories    </td><td>  44828</td><td> 0</td><td>  76390</td><td>    0</td><td>  58889</td></tr>\n",
       "</tbody>\n",
       "</table>\n"
      ],
      "text/latex": [
       "A data.frame: 6 × 8\n",
       "\\begin{tabular}{r|llllllll}\n",
       "  & year & month & prov & pop & protests & retail & oil & power\\\\\n",
       "  & <int> & <chr> & <chr> & <int> & <int> & <dbl> & <int> & <int>\\\\\n",
       "\\hline\n",
       "\t1 & 2022 & April & Alberta                   & 4480956 & 17 & 7989056 &  3983 & 6069621\\\\\n",
       "\t2 & 2022 & April & British Columbia          & 5310164 & 42 & 8959229 & 77433 & 5240902\\\\\n",
       "\t3 & 2022 & April & Manitoba                  & 1405197 &  2 & 2083495 &  6290 & 2168371\\\\\n",
       "\t4 & 2022 & April & New Brunswick             &  801778 &  5 & 1340707 &  1818 & 1171958\\\\\n",
       "\t5 & 2022 & April & Newfoundland and Labrador &  529249 &  2 &  920444 & 77160 &  686123\\\\\n",
       "\t6 & 2022 & April & Northwest Territories     &   44828 &  0 &   76390 &     0 &   58889\\\\\n",
       "\\end{tabular}\n"
      ],
      "text/markdown": [
       "\n",
       "A data.frame: 6 × 8\n",
       "\n",
       "| <!--/--> | year &lt;int&gt; | month &lt;chr&gt; | prov &lt;chr&gt; | pop &lt;int&gt; | protests &lt;int&gt; | retail &lt;dbl&gt; | oil &lt;int&gt; | power &lt;int&gt; |\n",
       "|---|---|---|---|---|---|---|---|---|\n",
       "| 1 | 2022 | April | Alberta                   | 4480956 | 17 | 7989056 |  3983 | 6069621 |\n",
       "| 2 | 2022 | April | British Columbia          | 5310164 | 42 | 8959229 | 77433 | 5240902 |\n",
       "| 3 | 2022 | April | Manitoba                  | 1405197 |  2 | 2083495 |  6290 | 2168371 |\n",
       "| 4 | 2022 | April | New Brunswick             |  801778 |  5 | 1340707 |  1818 | 1171958 |\n",
       "| 5 | 2022 | April | Newfoundland and Labrador |  529249 |  2 |  920444 | 77160 |  686123 |\n",
       "| 6 | 2022 | April | Northwest Territories     |   44828 |  0 |   76390 |     0 |   58889 |\n",
       "\n"
      ],
      "text/plain": [
       "  year month prov                      pop     protests retail  oil   power  \n",
       "1 2022 April Alberta                   4480956 17       7989056  3983 6069621\n",
       "2 2022 April British Columbia          5310164 42       8959229 77433 5240902\n",
       "3 2022 April Manitoba                  1405197  2       2083495  6290 2168371\n",
       "4 2022 April New Brunswick              801778  5       1340707  1818 1171958\n",
       "5 2022 April Newfoundland and Labrador  529249  2        920444 77160  686123\n",
       "6 2022 April Northwest Territories       44828  0         76390     0   58889"
      ]
     },
     "metadata": {},
     "output_type": "display_data"
    }
   ],
   "source": [
    "colnames(init_data)[colnames(init_data) == \"GEO\"] <- \"prov\"\n",
    "head(init_data)"
   ]
  },
  {
   "cell_type": "code",
   "execution_count": 189,
   "metadata": {
    "vscode": {
     "languageId": "r"
    }
   },
   "outputs": [],
   "source": [
    "init_data$prov  <- as.factor(init_data$prov)\n",
    "init_data$month <- as.factor(init_data$month)\n",
    "init_data$year <- as.factor(init_data$year)"
   ]
  },
  {
   "cell_type": "code",
   "execution_count": 190,
   "metadata": {
    "vscode": {
     "languageId": "r"
    }
   },
   "outputs": [
    {
     "data": {
      "text/html": [
       "<table class=\"dataframe\">\n",
       "<caption>A data.frame: 6 × 8</caption>\n",
       "<thead>\n",
       "\t<tr><th></th><th scope=col>year</th><th scope=col>month</th><th scope=col>prov</th><th scope=col>pop</th><th scope=col>protests</th><th scope=col>retail</th><th scope=col>oil</th><th scope=col>power</th></tr>\n",
       "\t<tr><th></th><th scope=col>&lt;fct&gt;</th><th scope=col>&lt;fct&gt;</th><th scope=col>&lt;fct&gt;</th><th scope=col>&lt;int&gt;</th><th scope=col>&lt;int&gt;</th><th scope=col>&lt;dbl&gt;</th><th scope=col>&lt;int&gt;</th><th scope=col>&lt;int&gt;</th></tr>\n",
       "</thead>\n",
       "<tbody>\n",
       "\t<tr><th scope=row>1</th><td>2022</td><td>April</td><td>Alberta                  </td><td>4480956</td><td>17</td><td>7989056</td><td> 3983</td><td>6069621</td></tr>\n",
       "\t<tr><th scope=row>2</th><td>2022</td><td>April</td><td>British Columbia         </td><td>5310164</td><td>42</td><td>8959229</td><td>77433</td><td>5240902</td></tr>\n",
       "\t<tr><th scope=row>3</th><td>2022</td><td>April</td><td>Manitoba                 </td><td>1405197</td><td> 2</td><td>2083495</td><td> 6290</td><td>2168371</td></tr>\n",
       "\t<tr><th scope=row>4</th><td>2022</td><td>April</td><td>New Brunswick            </td><td> 801778</td><td> 5</td><td>1340707</td><td> 1818</td><td>1171958</td></tr>\n",
       "\t<tr><th scope=row>5</th><td>2022</td><td>April</td><td>Newfoundland and Labrador</td><td> 529249</td><td> 2</td><td> 920444</td><td>77160</td><td> 686123</td></tr>\n",
       "\t<tr><th scope=row>6</th><td>2022</td><td>April</td><td>Northwest Territories    </td><td>  44828</td><td> 0</td><td>  76390</td><td>    0</td><td>  58889</td></tr>\n",
       "</tbody>\n",
       "</table>\n"
      ],
      "text/latex": [
       "A data.frame: 6 × 8\n",
       "\\begin{tabular}{r|llllllll}\n",
       "  & year & month & prov & pop & protests & retail & oil & power\\\\\n",
       "  & <fct> & <fct> & <fct> & <int> & <int> & <dbl> & <int> & <int>\\\\\n",
       "\\hline\n",
       "\t1 & 2022 & April & Alberta                   & 4480956 & 17 & 7989056 &  3983 & 6069621\\\\\n",
       "\t2 & 2022 & April & British Columbia          & 5310164 & 42 & 8959229 & 77433 & 5240902\\\\\n",
       "\t3 & 2022 & April & Manitoba                  & 1405197 &  2 & 2083495 &  6290 & 2168371\\\\\n",
       "\t4 & 2022 & April & New Brunswick             &  801778 &  5 & 1340707 &  1818 & 1171958\\\\\n",
       "\t5 & 2022 & April & Newfoundland and Labrador &  529249 &  2 &  920444 & 77160 &  686123\\\\\n",
       "\t6 & 2022 & April & Northwest Territories     &   44828 &  0 &   76390 &     0 &   58889\\\\\n",
       "\\end{tabular}\n"
      ],
      "text/markdown": [
       "\n",
       "A data.frame: 6 × 8\n",
       "\n",
       "| <!--/--> | year &lt;fct&gt; | month &lt;fct&gt; | prov &lt;fct&gt; | pop &lt;int&gt; | protests &lt;int&gt; | retail &lt;dbl&gt; | oil &lt;int&gt; | power &lt;int&gt; |\n",
       "|---|---|---|---|---|---|---|---|---|\n",
       "| 1 | 2022 | April | Alberta                   | 4480956 | 17 | 7989056 |  3983 | 6069621 |\n",
       "| 2 | 2022 | April | British Columbia          | 5310164 | 42 | 8959229 | 77433 | 5240902 |\n",
       "| 3 | 2022 | April | Manitoba                  | 1405197 |  2 | 2083495 |  6290 | 2168371 |\n",
       "| 4 | 2022 | April | New Brunswick             |  801778 |  5 | 1340707 |  1818 | 1171958 |\n",
       "| 5 | 2022 | April | Newfoundland and Labrador |  529249 |  2 |  920444 | 77160 |  686123 |\n",
       "| 6 | 2022 | April | Northwest Territories     |   44828 |  0 |   76390 |     0 |   58889 |\n",
       "\n"
      ],
      "text/plain": [
       "  year month prov                      pop     protests retail  oil   power  \n",
       "1 2022 April Alberta                   4480956 17       7989056  3983 6069621\n",
       "2 2022 April British Columbia          5310164 42       8959229 77433 5240902\n",
       "3 2022 April Manitoba                  1405197  2       2083495  6290 2168371\n",
       "4 2022 April New Brunswick              801778  5       1340707  1818 1171958\n",
       "5 2022 April Newfoundland and Labrador  529249  2        920444 77160  686123\n",
       "6 2022 April Northwest Territories       44828  0         76390     0   58889"
      ]
     },
     "metadata": {},
     "output_type": "display_data"
    }
   ],
   "source": [
    "head(init_data)\n"
   ]
  },
  {
   "cell_type": "markdown",
   "metadata": {},
   "source": [
    "## Fitting the Model"
   ]
  },
  {
   "cell_type": "code",
   "execution_count": 191,
   "metadata": {
    "vscode": {
     "languageId": "r"
    }
   },
   "outputs": [],
   "source": [
    "model1 <- glm.nb(protests ~., data=init_data, init.theta = 1)"
   ]
  },
  {
   "cell_type": "code",
   "execution_count": 192,
   "metadata": {
    "vscode": {
     "languageId": "r"
    }
   },
   "outputs": [
    {
     "data": {
      "image/png": "[encoded data removed]",
      "text/plain": [
       "Plot with title “Histogram of dummy”"
      ]
     },
     "metadata": {
      "image/png": {
       "height": 420,
       "width": 420
      }
     },
     "output_type": "display_data"
    }
   ],
   "source": [
    "dummy <- rnegbin(fitted(model1), theta = 10.75)\n",
    "hist(dummy, breaks=25)"
   ]
  },
  {
   "cell_type": "code",
   "execution_count": 193,
   "metadata": {
    "vscode": {
     "languageId": "r"
    }
   },
   "outputs": [
    {
     "name": "stderr",
     "output_type": "stream",
     "text": [
      "Warning message in anova.negbin(model1):\n",
      "“tests made without re-estimating 'theta'”\n"
     ]
    },
    {
     "data": {
      "text/html": [
       "<table class=\"dataframe\">\n",
       "<caption>A anova: 8 × 5</caption>\n",
       "<thead>\n",
       "\t<tr><th></th><th scope=col>Df</th><th scope=col>Deviance</th><th scope=col>Resid. Df</th><th scope=col>Resid. Dev</th><th scope=col>Pr(&gt;Chi)</th></tr>\n",
       "\t<tr><th></th><th scope=col>&lt;int&gt;</th><th scope=col>&lt;dbl&gt;</th><th scope=col>&lt;int&gt;</th><th scope=col>&lt;dbl&gt;</th><th scope=col>&lt;dbl&gt;</th></tr>\n",
       "</thead>\n",
       "<tbody>\n",
       "\t<tr><th scope=row>NULL</th><td>NA</td><td>          NA</td><td>298</td><td>2368.9063</td><td>          NA</td></tr>\n",
       "\t<tr><th scope=row>year</th><td> 1</td><td>1.143289e+00</td><td>297</td><td>2367.7630</td><td>2.849583e-01</td></tr>\n",
       "\t<tr><th scope=row>month</th><td>11</td><td>8.988210e+01</td><td>286</td><td>2277.8809</td><td>1.758231e-14</td></tr>\n",
       "\t<tr><th scope=row>prov</th><td>12</td><td>1.918190e+03</td><td>274</td><td> 359.6911</td><td>0.000000e+00</td></tr>\n",
       "\t<tr><th scope=row>pop</th><td> 1</td><td>1.223328e+00</td><td>273</td><td> 358.4678</td><td>2.687085e-01</td></tr>\n",
       "\t<tr><th scope=row>retail</th><td> 1</td><td>5.846439e+00</td><td>272</td><td> 352.6213</td><td>1.560860e-02</td></tr>\n",
       "\t<tr><th scope=row>oil</th><td> 1</td><td>1.275936e-01</td><td>271</td><td> 352.4937</td><td>7.209403e-01</td></tr>\n",
       "\t<tr><th scope=row>power</th><td> 1</td><td>4.744238e-04</td><td>270</td><td> 352.4932</td><td>9.826224e-01</td></tr>\n",
       "</tbody>\n",
       "</table>\n"
      ],
      "text/latex": [
       "A anova: 8 × 5\n",
       "\\begin{tabular}{r|lllll}\n",
       "  & Df & Deviance & Resid. Df & Resid. Dev & Pr(>Chi)\\\\\n",
       "  & <int> & <dbl> & <int> & <dbl> & <dbl>\\\\\n",
       "\\hline\n",
       "\tNULL & NA &           NA & 298 & 2368.9063 &           NA\\\\\n",
       "\tyear &  1 & 1.143289e+00 & 297 & 2367.7630 & 2.849583e-01\\\\\n",
       "\tmonth & 11 & 8.988210e+01 & 286 & 2277.8809 & 1.758231e-14\\\\\n",
       "\tprov & 12 & 1.918190e+03 & 274 &  359.6911 & 0.000000e+00\\\\\n",
       "\tpop &  1 & 1.223328e+00 & 273 &  358.4678 & 2.687085e-01\\\\\n",
       "\tretail &  1 & 5.846439e+00 & 272 &  352.6213 & 1.560860e-02\\\\\n",
       "\toil &  1 & 1.275936e-01 & 271 &  352.4937 & 7.209403e-01\\\\\n",
       "\tpower &  1 & 4.744238e-04 & 270 &  352.4932 & 9.826224e-01\\\\\n",
       "\\end{tabular}\n"
      ],
      "text/markdown": [
       "\n",
       "A anova: 8 × 5\n",
       "\n",
       "| <!--/--> | Df &lt;int&gt; | Deviance &lt;dbl&gt; | Resid. Df &lt;int&gt; | Resid. Dev &lt;dbl&gt; | Pr(&gt;Chi) &lt;dbl&gt; |\n",
       "|---|---|---|---|---|---|\n",
       "| NULL | NA |           NA | 298 | 2368.9063 |           NA |\n",
       "| year |  1 | 1.143289e+00 | 297 | 2367.7630 | 2.849583e-01 |\n",
       "| month | 11 | 8.988210e+01 | 286 | 2277.8809 | 1.758231e-14 |\n",
       "| prov | 12 | 1.918190e+03 | 274 |  359.6911 | 0.000000e+00 |\n",
       "| pop |  1 | 1.223328e+00 | 273 |  358.4678 | 2.687085e-01 |\n",
       "| retail |  1 | 5.846439e+00 | 272 |  352.6213 | 1.560860e-02 |\n",
       "| oil |  1 | 1.275936e-01 | 271 |  352.4937 | 7.209403e-01 |\n",
       "| power |  1 | 4.744238e-04 | 270 |  352.4932 | 9.826224e-01 |\n",
       "\n"
      ],
      "text/plain": [
       "       Df Deviance     Resid. Df Resid. Dev Pr(>Chi)    \n",
       "NULL   NA           NA 298       2368.9063            NA\n",
       "year    1 1.143289e+00 297       2367.7630  2.849583e-01\n",
       "month  11 8.988210e+01 286       2277.8809  1.758231e-14\n",
       "prov   12 1.918190e+03 274        359.6911  0.000000e+00\n",
       "pop     1 1.223328e+00 273        358.4678  2.687085e-01\n",
       "retail  1 5.846439e+00 272        352.6213  1.560860e-02\n",
       "oil     1 1.275936e-01 271        352.4937  7.209403e-01\n",
       "power   1 4.744238e-04 270        352.4932  9.826224e-01"
      ]
     },
     "metadata": {},
     "output_type": "display_data"
    }
   ],
   "source": [
    "anova(model1)"
   ]
  },
  {
   "cell_type": "code",
   "execution_count": 194,
   "metadata": {
    "vscode": {
     "languageId": "r"
    }
   },
   "outputs": [
    {
     "data": {
      "text/html": [
       "<style>\n",
       ".list-inline {list-style: none; margin:0; padding: 0}\n",
       ".list-inline>li {display: inline-block}\n",
       ".list-inline>li:not(:last-child)::after {content: \"\\00b7\"; padding: 0 .5ex}\n",
       "</style>\n",
       "<ol class=list-inline><li>'call'</li><li>'terms'</li><li>'family'</li><li>'deviance'</li><li>'aic'</li><li>'contrasts'</li><li>'df.residual'</li><li>'null.deviance'</li><li>'df.null'</li><li>'iter'</li><li>'deviance.resid'</li><li>'coefficients'</li><li>'aliased'</li><li>'dispersion'</li><li>'df'</li><li>'cov.unscaled'</li><li>'cov.scaled'</li><li>'theta'</li><li>'SE.theta'</li><li>'twologlik'</li><li>NA</li></ol>\n"
      ],
      "text/latex": [
       "\\begin{enumerate*}\n",
       "\\item 'call'\n",
       "\\item 'terms'\n",
       "\\item 'family'\n",
       "\\item 'deviance'\n",
       "\\item 'aic'\n",
       "\\item 'contrasts'\n",
       "\\item 'df.residual'\n",
       "\\item 'null.deviance'\n",
       "\\item 'df.null'\n",
       "\\item 'iter'\n",
       "\\item 'deviance.resid'\n",
       "\\item 'coefficients'\n",
       "\\item 'aliased'\n",
       "\\item 'dispersion'\n",
       "\\item 'df'\n",
       "\\item 'cov.unscaled'\n",
       "\\item 'cov.scaled'\n",
       "\\item 'theta'\n",
       "\\item 'SE.theta'\n",
       "\\item 'twologlik'\n",
       "\\item NA\n",
       "\\end{enumerate*}\n"
      ],
      "text/markdown": [
       "1. 'call'\n",
       "2. 'terms'\n",
       "3. 'family'\n",
       "4. 'deviance'\n",
       "5. 'aic'\n",
       "6. 'contrasts'\n",
       "7. 'df.residual'\n",
       "8. 'null.deviance'\n",
       "9. 'df.null'\n",
       "10. 'iter'\n",
       "11. 'deviance.resid'\n",
       "12. 'coefficients'\n",
       "13. 'aliased'\n",
       "14. 'dispersion'\n",
       "15. 'df'\n",
       "16. 'cov.unscaled'\n",
       "17. 'cov.scaled'\n",
       "18. 'theta'\n",
       "19. 'SE.theta'\n",
       "20. 'twologlik'\n",
       "21. NA\n",
       "\n",
       "\n"
      ],
      "text/plain": [
       " [1] \"call\"           \"terms\"          \"family\"         \"deviance\"      \n",
       " [5] \"aic\"            \"contrasts\"      \"df.residual\"    \"null.deviance\" \n",
       " [9] \"df.null\"        \"iter\"           \"deviance.resid\" \"coefficients\"  \n",
       "[13] \"aliased\"        \"dispersion\"     \"df\"             \"cov.unscaled\"  \n",
       "[17] \"cov.scaled\"     \"theta\"          \"SE.theta\"       \"twologlik\"     \n",
       "[21] NA              "
      ]
     },
     "metadata": {},
     "output_type": "display_data"
    },
    {
     "data": {
      "text/plain": [
       "\n",
       "Call:\n",
       "glm.nb(formula = protests ~ ., data = data, init.theta = 10.18063071, \n",
       "    link = log)\n",
       "\n",
       "Deviance Residuals: \n",
       "    Min       1Q   Median       3Q      Max  \n",
       "-3.2669  -0.9685  -0.1702   0.5728   3.0399  \n",
       "\n",
       "Coefficients:\n",
       "                                Estimate Std. Error z value Pr(>|z|)    \n",
       "(Intercept)                    4.976e+00  1.179e+00   4.222 2.42e-05 ***\n",
       "monthAugust                   -7.044e-01  1.452e-01  -4.850 1.24e-06 ***\n",
       "monthDecember                 -6.289e-01  1.798e-01  -3.498 0.000468 ***\n",
       "monthFebruary                  4.864e-02  1.314e-01   0.370 0.711202    \n",
       "monthJanuary                  -3.284e-01  1.372e-01  -2.394 0.016659 *  \n",
       "monthJuly                     -5.533e-01  1.419e-01  -3.900 9.63e-05 ***\n",
       "monthJune                     -3.512e-01  1.401e-01  -2.507 0.012169 *  \n",
       "monthMarch                    -1.060e-01  1.337e-01  -0.793 0.427836    \n",
       "monthMay                      -3.083e-02  1.335e-01  -0.231 0.817414    \n",
       "monthNovember                 -7.729e-02  1.346e-01  -0.574 0.565876    \n",
       "monthOctober                   3.975e-02  1.334e-01   0.298 0.765707    \n",
       "monthSeptember                 9.682e-02  1.313e-01   0.737 0.460990    \n",
       "provBritish Columbia           8.278e-01  1.540e-01   5.376 7.62e-08 ***\n",
       "provManitoba                  -1.918e+00  8.739e-01  -2.195 0.028170 *  \n",
       "provNew Brunswick             -2.629e+00  9.905e-01  -2.654 0.007950 ** \n",
       "provNewfoundland and Labrador -3.068e+00  1.057e+00  -2.903 0.003693 ** \n",
       "provNorthwest Territories     -5.364e+00  1.207e+00  -4.445 8.77e-06 ***\n",
       "provNova Scotia               -2.411e+00  9.426e-01  -2.558 0.010537 *  \n",
       "provNunavut                   -4.989e+00  1.200e+00  -4.157 3.23e-05 ***\n",
       "provOntario                    5.634e+00  2.326e+00   2.423 0.015410 *  \n",
       "provPrince Edward Island      -4.118e+00  1.155e+00  -3.567 0.000361 ***\n",
       "provQuebec                     2.218e+00  8.842e-01   2.509 0.012109 *  \n",
       "provSaskatchewan              -2.585e+00  8.937e-01  -2.893 0.003821 ** \n",
       "provYukon                     -4.140e+00  1.182e+00  -3.504 0.000459 ***\n",
       "retail                        -2.622e-07  1.420e-07  -1.846 0.064831 .  \n",
       "---\n",
       "Signif. codes:  0 ‘***’ 0.001 ‘**’ 0.01 ‘*’ 0.05 ‘.’ 0.1 ‘ ’ 1\n",
       "\n",
       "(Dispersion parameter for Negative Binomial(10.1806) family taken to be 1)\n",
       "\n",
       "    Null deviance: 2309.35  on 298  degrees of freedom\n",
       "Residual deviance:  349.96  on 274  degrees of freedom\n",
       "AIC: 1577.1\n",
       "\n",
       "Number of Fisher Scoring iterations: 1\n",
       "\n",
       "\n",
       "              Theta:  10.18 \n",
       "          Std. Err.:  1.93 \n",
       "\n",
       " 2 x log-likelihood:  -1525.137 "
      ]
     },
     "metadata": {},
     "output_type": "display_data"
    }
   ],
   "source": [
    "data <- init_data[, -c(1, 4, 7, 8)]\n",
    "model <- glm.nb(protests ~., data=data, init.theta = 1)\n",
    "\n",
    "names(summary(model))\n",
    "summary(model)"
   ]
  },
  {
   "cell_type": "markdown",
   "metadata": {},
   "source": [
    "## Bootstrap Methods"
   ]
  },
  {
   "cell_type": "markdown",
   "metadata": {},
   "source": [
    "### 1. Resampling Bootstrap"
   ]
  },
  {
   "cell_type": "code",
   "execution_count": 195,
   "metadata": {
    "vscode": {
     "languageId": "r"
    }
   },
   "outputs": [],
   "source": [
    "resampBoot <- function(df, B) {\n",
    "\n",
    "    # Get sample size\n",
    "    n <- nrow(df)\n",
    "    # Initialize empty dataframe\n",
    "    params <- c()\n",
    "    # Initialize progress bar\n",
    "    bar <- txtProgressBar(min=0, max=B, style=1)\n",
    "    # Perform B iterations\n",
    "    for (b in 1:B) {\n",
    "        # Select a sample of size n\n",
    "        indices <- sample(1:n, replace = TRUE)\n",
    "        samp <- df[indices, ]\n",
    "        # Fit the model with the sample\n",
    "        boot_model <- glm.nb(protests ~., data=samp, init.theta = 10)\n",
    "        boot_params <- coef(boot_model)\n",
    "        params <- rbind(params, boot_params)\n",
    "        setTxtProgressBar(bar, b)\n",
    "    }\n",
    "    close(bar)\n",
    "    return(params)\n",
    "\n",
    "}\n",
    "\n",
    "# boot_models <- resampBoot(data, 5000)"
   ]
  },
  {
   "cell_type": "code",
   "execution_count": 196,
   "metadata": {
    "vscode": {
     "languageId": "r"
    }
   },
   "outputs": [],
   "source": [
    "# boot_models <- as.data.frame(boot_models)\n",
    "# boot_models"
   ]
  },
  {
   "cell_type": "code",
   "execution_count": 197,
   "metadata": {
    "vscode": {
     "languageId": "r"
    }
   },
   "outputs": [],
   "source": [
    "# write.csv(boot_models, \"data/results/resamp_boot_results.csv\")"
   ]
  },
  {
   "cell_type": "markdown",
   "metadata": {},
   "source": [
    "### 2. Parametric Bootstrap"
   ]
  },
  {
   "cell_type": "code",
   "execution_count": 198,
   "metadata": {
    "vscode": {
     "languageId": "r"
    }
   },
   "outputs": [],
   "source": [
    "parametricBoot <- function(X, model, B, err_mean, err_sd, errors) {\n",
    "\n",
    "    # Get sample size\n",
    "    n <- nrow(X)\n",
    "    # Initialize empty vector\n",
    "    params <- c()\n",
    "    # Perform B iterations\n",
    "    for (b in 1:B) {\n",
    "        # Get errors\n",
    "        # errs <- rnorm(n=n, mean=err_mean, sd=1)\n",
    "        errs <- sample(errors, size=n, replace=TRUE)\n",
    "        # Get fitted values\n",
    "        yhat <- fitted(model)\n",
    "        # Get simulated y\n",
    "        ystar <- yhat + errs\n",
    "        # round up negative values\n",
    "        ystar <- pmax(rep(0, n), ystar)\n",
    "        # Turn into DataFrame\n",
    "        sim_data <- data.frame(protests=ystar, X)\n",
    "        # round to integers\n",
    "        # sim_data$protests <- round(sim_data$protests)\n",
    "        \n",
    "        # Fit the model with the simulated data\n",
    "        paramboot_model <- glm.nb(protests ~., data=sim_data, init.theta = 5)\n",
    "        boot_params <- coef(paramboot_model)\n",
    "        params <- rbind(params, boot_params)\n",
    "    }\n",
    "    return(params)\n",
    "}"
   ]
  },
  {
   "cell_type": "code",
   "execution_count": 199,
   "metadata": {
    "vscode": {
     "languageId": "r"
    }
   },
   "outputs": [],
   "source": [
    "model <- glm.nb(protests ~., data=data, init.theta = 1)"
   ]
  },
  {
   "cell_type": "code",
   "execution_count": 200,
   "metadata": {
    "vscode": {
     "languageId": "r"
    }
   },
   "outputs": [],
   "source": [
    "X <- data[, c(1,2,4)]\n",
    "B <- 5000\n",
    "epsilon <- resid(model)\n",
    "err_mean <- mean(epsilon)\n",
    "err_sd <- sd(epsilon)\n",
    "\n",
    "# suppressWarnings({\n",
    "#   parametric_models <- parametricBoot(X, model, B, err_mean, err_sd, epsilon)\n",
    "# })\n",
    "\n",
    "# parametric_models"
   ]
  },
  {
   "cell_type": "code",
   "execution_count": 201,
   "metadata": {
    "vscode": {
     "languageId": "r"
    }
   },
   "outputs": [],
   "source": [
    "# param_results <- as.data.frame(parametric_models)\n",
    "# param_results"
   ]
  },
  {
   "cell_type": "code",
   "execution_count": 202,
   "metadata": {
    "vscode": {
     "languageId": "r"
    }
   },
   "outputs": [],
   "source": [
    "# write.csv(param_results, \"data/results/param_boot_results.csv\")"
   ]
  },
  {
   "cell_type": "code",
   "execution_count": 203,
   "metadata": {
    "vscode": {
     "languageId": "r"
    }
   },
   "outputs": [
    {
     "data": {
      "text/html": [
       "'factor'"
      ],
      "text/latex": [
       "'factor'"
      ],
      "text/markdown": [
       "'factor'"
      ],
      "text/plain": [
       "[1] \"factor\""
      ]
     },
     "metadata": {},
     "output_type": "display_data"
    }
   ],
   "source": [
    "class(data$prov)"
   ]
  },
  {
   "cell_type": "markdown",
   "metadata": {},
   "source": [
    "### 3. Smooth Bootstrap"
   ]
  },
  {
   "cell_type": "code",
   "execution_count": 204,
   "metadata": {
    "vscode": {
     "languageId": "r"
    }
   },
   "outputs": [],
   "source": [
    "addNoise <- function(X) {\n",
    "\n",
    "    cols <- colnames(X)\n",
    "    new_X <- X\n",
    "    for (col in cols) {\n",
    "        Xi <- X[, col]\n",
    "        if (class(data[, col]) != \"factor\") {\n",
    "            n <- length(Xi)\n",
    "            S_sq <- var(Xi)\n",
    "            noise_var <- S_sq / n\n",
    "            new_X[, col] <- Xi + rnorm(n=n, mean=0, sd=sqrt(noise_var))\n",
    "        } else {\n",
    "            new_X[, col] <- Xi\n",
    "        }\n",
    "    }\n",
    "    return(new_X)\n",
    "}"
   ]
  },
  {
   "cell_type": "code",
   "execution_count": 205,
   "metadata": {
    "vscode": {
     "languageId": "r"
    }
   },
   "outputs": [],
   "source": [
    "smoothBoot <- function(X, y, B, noisefunc) {\n",
    "\n",
    "    # Get sample size\n",
    "    n <- nrow(X)\n",
    "    # Initialize empty vector\n",
    "    params <- c()\n",
    "    \n",
    "    # Initialize progress bar\n",
    "    pb <- txtProgressBar(min = 0, max = B, style = 3)\n",
    "    \n",
    "    # Perform B iterations\n",
    "    for (b in 1:B) {\n",
    "        # Update progress bar\n",
    "        setTxtProgressBar(pb, b)\n",
    "        \n",
    "        # Get new dataset\n",
    "        new_X <- noisefunc(X)\n",
    "        new_data <- data.frame(protests=y, new_X)\n",
    "        \n",
    "        # Fit the model with the simulated data\n",
    "        smoothboot_model <- glm.nb(protests ~., data=new_data, init.theta = 5)\n",
    "        boot_params <- coef(smoothboot_model)\n",
    "        params <- rbind(params, boot_params)\n",
    "    }\n",
    "    \n",
    "    # Close progress bar\n",
    "    close(pb)\n",
    "    \n",
    "    return(params)\n",
    "}"
   ]
  },
  {
   "cell_type": "code",
   "execution_count": 206,
   "metadata": {
    "vscode": {
     "languageId": "r"
    }
   },
   "outputs": [
    {
     "name": "stdout",
     "output_type": "stream",
     "text": [
      "  |                                                                      |   0%"
     ]
    },
    {
     "name": "stdout",
     "output_type": "stream",
     "text": [
      "  |======================================================================| 100%\n"
     ]
    }
   ],
   "source": [
    "X <- data[, c(1,2,4)]\n",
    "y <- data$protests\n",
    "B <- 5000\n",
    "smooth_data <- smoothBoot(X, y, B, addNoise)"
   ]
  },
  {
   "cell_type": "code",
   "execution_count": 207,
   "metadata": {
    "vscode": {
     "languageId": "r"
    }
   },
   "outputs": [
    {
     "data": {
      "text/html": [
       "<table class=\"dataframe\">\n",
       "<caption>A data.frame: 6 × 25</caption>\n",
       "<thead>\n",
       "\t<tr><th></th><th scope=col>(Intercept)</th><th scope=col>monthAugust</th><th scope=col>monthDecember</th><th scope=col>monthFebruary</th><th scope=col>monthJanuary</th><th scope=col>monthJuly</th><th scope=col>monthJune</th><th scope=col>monthMarch</th><th scope=col>monthMay</th><th scope=col>monthNovember</th><th scope=col>⋯</th><th scope=col>provNewfoundland and Labrador</th><th scope=col>provNorthwest Territories</th><th scope=col>provNova Scotia</th><th scope=col>provNunavut</th><th scope=col>provOntario</th><th scope=col>provPrince Edward Island</th><th scope=col>provQuebec</th><th scope=col>provSaskatchewan</th><th scope=col>provYukon</th><th scope=col>retail</th></tr>\n",
       "\t<tr><th></th><th scope=col>&lt;dbl&gt;</th><th scope=col>&lt;dbl&gt;</th><th scope=col>&lt;dbl&gt;</th><th scope=col>&lt;dbl&gt;</th><th scope=col>&lt;dbl&gt;</th><th scope=col>&lt;dbl&gt;</th><th scope=col>&lt;dbl&gt;</th><th scope=col>&lt;dbl&gt;</th><th scope=col>&lt;dbl&gt;</th><th scope=col>&lt;dbl&gt;</th><th scope=col>⋯</th><th scope=col>&lt;dbl&gt;</th><th scope=col>&lt;dbl&gt;</th><th scope=col>&lt;dbl&gt;</th><th scope=col>&lt;dbl&gt;</th><th scope=col>&lt;dbl&gt;</th><th scope=col>&lt;dbl&gt;</th><th scope=col>&lt;dbl&gt;</th><th scope=col>&lt;dbl&gt;</th><th scope=col>&lt;dbl&gt;</th><th scope=col>&lt;dbl&gt;</th></tr>\n",
       "</thead>\n",
       "<tbody>\n",
       "\t<tr><th scope=row>boot_params</th><td>3.411332</td><td>-0.7177051</td><td>-0.6480531</td><td>0.06143487</td><td>-0.3210770</td><td>-0.5802266</td><td>-0.3985163</td><td>-0.09004081</td><td>-0.04414388</td><td>-0.09862936</td><td>⋯</td><td>-1.668035</td><td>-3.810976</td><td>-1.1734855</td><td>-3.420045</td><td>2.496597</td><td>-2.594981</td><td>1.0279749</td><td>-1.4226696</td><td>-2.577871</td><td>-7.150367e-08</td></tr>\n",
       "\t<tr><th scope=row>boot_params.1</th><td>3.277708</td><td>-0.7176239</td><td>-0.6391480</td><td>0.07277080</td><td>-0.3147501</td><td>-0.5574586</td><td>-0.3819086</td><td>-0.08576057</td><td>-0.04541287</td><td>-0.10779227</td><td>⋯</td><td>-1.560807</td><td>-3.671845</td><td>-1.0674603</td><td>-3.303896</td><td>2.238579</td><td>-2.478139</td><td>0.9287324</td><td>-1.3187201</td><td>-2.455466</td><td>-5.549627e-08</td></tr>\n",
       "\t<tr><th scope=row>boot_params.2</th><td>2.694526</td><td>-0.7192592</td><td>-0.6389254</td><td>0.06560224</td><td>-0.3144183</td><td>-0.5679472</td><td>-0.3934821</td><td>-0.08143561</td><td>-0.05438845</td><td>-0.10978499</td><td>⋯</td><td>-1.036732</td><td>-3.093686</td><td>-0.5982885</td><td>-2.710938</td><td>1.098825</td><td>-1.905690</td><td>0.5009218</td><td>-0.8720643</td><td>-1.873432</td><td> 1.467485e-08</td></tr>\n",
       "\t<tr><th scope=row>boot_params.3</th><td>3.886273</td><td>-0.6992835</td><td>-0.6789964</td><td>0.06544552</td><td>-0.3145204</td><td>-0.5820351</td><td>-0.3729310</td><td>-0.10087243</td><td>-0.04262702</td><td>-0.08025947</td><td>⋯</td><td>-2.113127</td><td>-4.267449</td><td>-1.5245355</td><td>-3.892033</td><td>3.504266</td><td>-3.040408</td><td>1.4028500</td><td>-1.7614812</td><td>-3.051773</td><td>-1.311480e-07</td></tr>\n",
       "\t<tr><th scope=row>boot_params.4</th><td>4.740854</td><td>-0.7204619</td><td>-0.6276271</td><td>0.05514618</td><td>-0.3225442</td><td>-0.5244651</td><td>-0.3567210</td><td>-0.11344956</td><td>-0.04646426</td><td>-0.12474938</td><td>⋯</td><td>-2.837590</td><td>-5.141782</td><td>-2.2208911</td><td>-4.748131</td><td>5.045644</td><td>-3.911841</td><td>1.9556387</td><td>-2.4229641</td><td>-3.952419</td><td>-2.298875e-07</td></tr>\n",
       "\t<tr><th scope=row>boot_params.5</th><td>2.970901</td><td>-0.7168700</td><td>-0.6370900</td><td>0.06618022</td><td>-0.3144440</td><td>-0.5633817</td><td>-0.3904819</td><td>-0.08324737</td><td>-0.04796965</td><td>-0.10578830</td><td>⋯</td><td>-1.283002</td><td>-3.367722</td><td>-0.8183922</td><td>-2.989383</td><td>1.654675</td><td>-2.173842</td><td>0.7126848</td><td>-1.0800300</td><td>-2.150632</td><td>-1.914643e-08</td></tr>\n",
       "</tbody>\n",
       "</table>\n"
      ],
      "text/latex": [
       "A data.frame: 6 × 25\n",
       "\\begin{tabular}{r|lllllllllllllllllllll}\n",
       "  & (Intercept) & monthAugust & monthDecember & monthFebruary & monthJanuary & monthJuly & monthJune & monthMarch & monthMay & monthNovember & ⋯ & provNewfoundland and Labrador & provNorthwest Territories & provNova Scotia & provNunavut & provOntario & provPrince Edward Island & provQuebec & provSaskatchewan & provYukon & retail\\\\\n",
       "  & <dbl> & <dbl> & <dbl> & <dbl> & <dbl> & <dbl> & <dbl> & <dbl> & <dbl> & <dbl> & ⋯ & <dbl> & <dbl> & <dbl> & <dbl> & <dbl> & <dbl> & <dbl> & <dbl> & <dbl> & <dbl>\\\\\n",
       "\\hline\n",
       "\tboot\\_params & 3.411332 & -0.7177051 & -0.6480531 & 0.06143487 & -0.3210770 & -0.5802266 & -0.3985163 & -0.09004081 & -0.04414388 & -0.09862936 & ⋯ & -1.668035 & -3.810976 & -1.1734855 & -3.420045 & 2.496597 & -2.594981 & 1.0279749 & -1.4226696 & -2.577871 & -7.150367e-08\\\\\n",
       "\tboot\\_params.1 & 3.277708 & -0.7176239 & -0.6391480 & 0.07277080 & -0.3147501 & -0.5574586 & -0.3819086 & -0.08576057 & -0.04541287 & -0.10779227 & ⋯ & -1.560807 & -3.671845 & -1.0674603 & -3.303896 & 2.238579 & -2.478139 & 0.9287324 & -1.3187201 & -2.455466 & -5.549627e-08\\\\\n",
       "\tboot\\_params.2 & 2.694526 & -0.7192592 & -0.6389254 & 0.06560224 & -0.3144183 & -0.5679472 & -0.3934821 & -0.08143561 & -0.05438845 & -0.10978499 & ⋯ & -1.036732 & -3.093686 & -0.5982885 & -2.710938 & 1.098825 & -1.905690 & 0.5009218 & -0.8720643 & -1.873432 &  1.467485e-08\\\\\n",
       "\tboot\\_params.3 & 3.886273 & -0.6992835 & -0.6789964 & 0.06544552 & -0.3145204 & -0.5820351 & -0.3729310 & -0.10087243 & -0.04262702 & -0.08025947 & ⋯ & -2.113127 & -4.267449 & -1.5245355 & -3.892033 & 3.504266 & -3.040408 & 1.4028500 & -1.7614812 & -3.051773 & -1.311480e-07\\\\\n",
       "\tboot\\_params.4 & 4.740854 & -0.7204619 & -0.6276271 & 0.05514618 & -0.3225442 & -0.5244651 & -0.3567210 & -0.11344956 & -0.04646426 & -0.12474938 & ⋯ & -2.837590 & -5.141782 & -2.2208911 & -4.748131 & 5.045644 & -3.911841 & 1.9556387 & -2.4229641 & -3.952419 & -2.298875e-07\\\\\n",
       "\tboot\\_params.5 & 2.970901 & -0.7168700 & -0.6370900 & 0.06618022 & -0.3144440 & -0.5633817 & -0.3904819 & -0.08324737 & -0.04796965 & -0.10578830 & ⋯ & -1.283002 & -3.367722 & -0.8183922 & -2.989383 & 1.654675 & -2.173842 & 0.7126848 & -1.0800300 & -2.150632 & -1.914643e-08\\\\\n",
       "\\end{tabular}\n"
      ],
      "text/markdown": [
       "\n",
       "A data.frame: 6 × 25\n",
       "\n",
       "| <!--/--> | (Intercept) &lt;dbl&gt; | monthAugust &lt;dbl&gt; | monthDecember &lt;dbl&gt; | monthFebruary &lt;dbl&gt; | monthJanuary &lt;dbl&gt; | monthJuly &lt;dbl&gt; | monthJune &lt;dbl&gt; | monthMarch &lt;dbl&gt; | monthMay &lt;dbl&gt; | monthNovember &lt;dbl&gt; | ⋯ ⋯ | provNewfoundland and Labrador &lt;dbl&gt; | provNorthwest Territories &lt;dbl&gt; | provNova Scotia &lt;dbl&gt; | provNunavut &lt;dbl&gt; | provOntario &lt;dbl&gt; | provPrince Edward Island &lt;dbl&gt; | provQuebec &lt;dbl&gt; | provSaskatchewan &lt;dbl&gt; | provYukon &lt;dbl&gt; | retail &lt;dbl&gt; |\n",
       "|---|---|---|---|---|---|---|---|---|---|---|---|---|---|---|---|---|---|---|---|---|---|\n",
       "| boot_params | 3.411332 | -0.7177051 | -0.6480531 | 0.06143487 | -0.3210770 | -0.5802266 | -0.3985163 | -0.09004081 | -0.04414388 | -0.09862936 | ⋯ | -1.668035 | -3.810976 | -1.1734855 | -3.420045 | 2.496597 | -2.594981 | 1.0279749 | -1.4226696 | -2.577871 | -7.150367e-08 |\n",
       "| boot_params.1 | 3.277708 | -0.7176239 | -0.6391480 | 0.07277080 | -0.3147501 | -0.5574586 | -0.3819086 | -0.08576057 | -0.04541287 | -0.10779227 | ⋯ | -1.560807 | -3.671845 | -1.0674603 | -3.303896 | 2.238579 | -2.478139 | 0.9287324 | -1.3187201 | -2.455466 | -5.549627e-08 |\n",
       "| boot_params.2 | 2.694526 | -0.7192592 | -0.6389254 | 0.06560224 | -0.3144183 | -0.5679472 | -0.3934821 | -0.08143561 | -0.05438845 | -0.10978499 | ⋯ | -1.036732 | -3.093686 | -0.5982885 | -2.710938 | 1.098825 | -1.905690 | 0.5009218 | -0.8720643 | -1.873432 |  1.467485e-08 |\n",
       "| boot_params.3 | 3.886273 | -0.6992835 | -0.6789964 | 0.06544552 | -0.3145204 | -0.5820351 | -0.3729310 | -0.10087243 | -0.04262702 | -0.08025947 | ⋯ | -2.113127 | -4.267449 | -1.5245355 | -3.892033 | 3.504266 | -3.040408 | 1.4028500 | -1.7614812 | -3.051773 | -1.311480e-07 |\n",
       "| boot_params.4 | 4.740854 | -0.7204619 | -0.6276271 | 0.05514618 | -0.3225442 | -0.5244651 | -0.3567210 | -0.11344956 | -0.04646426 | -0.12474938 | ⋯ | -2.837590 | -5.141782 | -2.2208911 | -4.748131 | 5.045644 | -3.911841 | 1.9556387 | -2.4229641 | -3.952419 | -2.298875e-07 |\n",
       "| boot_params.5 | 2.970901 | -0.7168700 | -0.6370900 | 0.06618022 | -0.3144440 | -0.5633817 | -0.3904819 | -0.08324737 | -0.04796965 | -0.10578830 | ⋯ | -1.283002 | -3.367722 | -0.8183922 | -2.989383 | 1.654675 | -2.173842 | 0.7126848 | -1.0800300 | -2.150632 | -1.914643e-08 |\n",
       "\n"
      ],
      "text/plain": [
       "              (Intercept) monthAugust monthDecember monthFebruary monthJanuary\n",
       "boot_params   3.411332    -0.7177051  -0.6480531    0.06143487    -0.3210770  \n",
       "boot_params.1 3.277708    -0.7176239  -0.6391480    0.07277080    -0.3147501  \n",
       "boot_params.2 2.694526    -0.7192592  -0.6389254    0.06560224    -0.3144183  \n",
       "boot_params.3 3.886273    -0.6992835  -0.6789964    0.06544552    -0.3145204  \n",
       "boot_params.4 4.740854    -0.7204619  -0.6276271    0.05514618    -0.3225442  \n",
       "boot_params.5 2.970901    -0.7168700  -0.6370900    0.06618022    -0.3144440  \n",
       "              monthJuly  monthJune  monthMarch  monthMay    monthNovember ⋯\n",
       "boot_params   -0.5802266 -0.3985163 -0.09004081 -0.04414388 -0.09862936   ⋯\n",
       "boot_params.1 -0.5574586 -0.3819086 -0.08576057 -0.04541287 -0.10779227   ⋯\n",
       "boot_params.2 -0.5679472 -0.3934821 -0.08143561 -0.05438845 -0.10978499   ⋯\n",
       "boot_params.3 -0.5820351 -0.3729310 -0.10087243 -0.04262702 -0.08025947   ⋯\n",
       "boot_params.4 -0.5244651 -0.3567210 -0.11344956 -0.04646426 -0.12474938   ⋯\n",
       "boot_params.5 -0.5633817 -0.3904819 -0.08324737 -0.04796965 -0.10578830   ⋯\n",
       "              provNewfoundland and Labrador provNorthwest Territories\n",
       "boot_params   -1.668035                     -3.810976                \n",
       "boot_params.1 -1.560807                     -3.671845                \n",
       "boot_params.2 -1.036732                     -3.093686                \n",
       "boot_params.3 -2.113127                     -4.267449                \n",
       "boot_params.4 -2.837590                     -5.141782                \n",
       "boot_params.5 -1.283002                     -3.367722                \n",
       "              provNova Scotia provNunavut provOntario provPrince Edward Island\n",
       "boot_params   -1.1734855      -3.420045   2.496597    -2.594981               \n",
       "boot_params.1 -1.0674603      -3.303896   2.238579    -2.478139               \n",
       "boot_params.2 -0.5982885      -2.710938   1.098825    -1.905690               \n",
       "boot_params.3 -1.5245355      -3.892033   3.504266    -3.040408               \n",
       "boot_params.4 -2.2208911      -4.748131   5.045644    -3.911841               \n",
       "boot_params.5 -0.8183922      -2.989383   1.654675    -2.173842               \n",
       "              provQuebec provSaskatchewan provYukon retail       \n",
       "boot_params   1.0279749  -1.4226696       -2.577871 -7.150367e-08\n",
       "boot_params.1 0.9287324  -1.3187201       -2.455466 -5.549627e-08\n",
       "boot_params.2 0.5009218  -0.8720643       -1.873432  1.467485e-08\n",
       "boot_params.3 1.4028500  -1.7614812       -3.051773 -1.311480e-07\n",
       "boot_params.4 1.9556387  -2.4229641       -3.952419 -2.298875e-07\n",
       "boot_params.5 0.7126848  -1.0800300       -2.150632 -1.914643e-08"
      ]
     },
     "metadata": {},
     "output_type": "display_data"
    }
   ],
   "source": [
    "smooth_results <- as.data.frame(smooth_data)\n",
    "head(smooth_results)"
   ]
  },
  {
   "cell_type": "code",
   "execution_count": 208,
   "metadata": {
    "vscode": {
     "languageId": "r"
    }
   },
   "outputs": [],
   "source": [
    "write.csv(smooth_results, \"data/results/smooth_boot_results.csv\")"
   ]
  }
 ],
 "metadata": {
  "kernelspec": {
   "display_name": "R",
   "language": "R",
   "name": "ir"
  },
  "language_info": {
   "codemirror_mode": "r",
   "file_extension": ".r",
   "mimetype": "text/x-r-source",
   "name": "R",
   "pygments_lexer": "r",
   "version": "4.2.3"
  }
 },
 "nbformat": 4,
 "nbformat_minor": 2
}
