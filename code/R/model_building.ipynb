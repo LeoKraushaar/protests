{
 "cells": [
  {
   "cell_type": "markdown",
   "metadata": {},
   "source": [
    "## Model Building"
   ]
  },
  {
   "cell_type": "code",
   "execution_count": 629,
   "metadata": {
    "vscode": {
     "languageId": "r"
    }
   },
   "outputs": [],
   "source": [
    "library(MASS)\n",
    "library(glmnet)\n",
    "library(scales)"
   ]
  },
  {
   "cell_type": "code",
   "execution_count": 630,
   "metadata": {
    "vscode": {
     "languageId": "r"
    }
   },
   "outputs": [],
   "source": [
    "setwd(\"/home/leoKraushaar/Documents/School/Year 3/Semester 2/STAT 413/Project/protests/\")"
   ]
  },
  {
   "cell_type": "code",
   "execution_count": 631,
   "metadata": {
    "vscode": {
     "languageId": "r"
    }
   },
   "outputs": [
    {
     "data": {
      "text/html": [
       "<table class=\"dataframe\">\n",
       "<caption>A data.frame: 6 × 8</caption>\n",
       "<thead>\n",
       "\t<tr><th></th><th scope=col>year</th><th scope=col>month</th><th scope=col>GEO</th><th scope=col>pop</th><th scope=col>protests</th><th scope=col>retail</th><th scope=col>oil</th><th scope=col>power</th></tr>\n",
       "\t<tr><th></th><th scope=col>&lt;int&gt;</th><th scope=col>&lt;chr&gt;</th><th scope=col>&lt;chr&gt;</th><th scope=col>&lt;int&gt;</th><th scope=col>&lt;int&gt;</th><th scope=col>&lt;dbl&gt;</th><th scope=col>&lt;int&gt;</th><th scope=col>&lt;int&gt;</th></tr>\n",
       "</thead>\n",
       "<tbody>\n",
       "\t<tr><th scope=row>1</th><td>2022</td><td>April</td><td>Alberta                  </td><td>4480956</td><td>17</td><td>7989056</td><td> 3983</td><td>6069621</td></tr>\n",
       "\t<tr><th scope=row>2</th><td>2022</td><td>April</td><td>British Columbia         </td><td>5310164</td><td>42</td><td>8959229</td><td>77433</td><td>5240902</td></tr>\n",
       "\t<tr><th scope=row>3</th><td>2022</td><td>April</td><td>Manitoba                 </td><td>1405197</td><td> 2</td><td>2083495</td><td> 6290</td><td>2168371</td></tr>\n",
       "\t<tr><th scope=row>4</th><td>2022</td><td>April</td><td>New Brunswick            </td><td> 801778</td><td> 5</td><td>1340707</td><td> 1818</td><td>1171958</td></tr>\n",
       "\t<tr><th scope=row>5</th><td>2022</td><td>April</td><td>Newfoundland and Labrador</td><td> 529249</td><td> 2</td><td> 920444</td><td>77160</td><td> 686123</td></tr>\n",
       "\t<tr><th scope=row>6</th><td>2022</td><td>April</td><td>Northwest Territories    </td><td>  44828</td><td> 0</td><td>  76390</td><td>    0</td><td>  58889</td></tr>\n",
       "</tbody>\n",
       "</table>\n"
      ],
      "text/latex": [
       "A data.frame: 6 × 8\n",
       "\\begin{tabular}{r|llllllll}\n",
       "  & year & month & GEO & pop & protests & retail & oil & power\\\\\n",
       "  & <int> & <chr> & <chr> & <int> & <int> & <dbl> & <int> & <int>\\\\\n",
       "\\hline\n",
       "\t1 & 2022 & April & Alberta                   & 4480956 & 17 & 7989056 &  3983 & 6069621\\\\\n",
       "\t2 & 2022 & April & British Columbia          & 5310164 & 42 & 8959229 & 77433 & 5240902\\\\\n",
       "\t3 & 2022 & April & Manitoba                  & 1405197 &  2 & 2083495 &  6290 & 2168371\\\\\n",
       "\t4 & 2022 & April & New Brunswick             &  801778 &  5 & 1340707 &  1818 & 1171958\\\\\n",
       "\t5 & 2022 & April & Newfoundland and Labrador &  529249 &  2 &  920444 & 77160 &  686123\\\\\n",
       "\t6 & 2022 & April & Northwest Territories     &   44828 &  0 &   76390 &     0 &   58889\\\\\n",
       "\\end{tabular}\n"
      ],
      "text/markdown": [
       "\n",
       "A data.frame: 6 × 8\n",
       "\n",
       "| <!--/--> | year &lt;int&gt; | month &lt;chr&gt; | GEO &lt;chr&gt; | pop &lt;int&gt; | protests &lt;int&gt; | retail &lt;dbl&gt; | oil &lt;int&gt; | power &lt;int&gt; |\n",
       "|---|---|---|---|---|---|---|---|---|\n",
       "| 1 | 2022 | April | Alberta                   | 4480956 | 17 | 7989056 |  3983 | 6069621 |\n",
       "| 2 | 2022 | April | British Columbia          | 5310164 | 42 | 8959229 | 77433 | 5240902 |\n",
       "| 3 | 2022 | April | Manitoba                  | 1405197 |  2 | 2083495 |  6290 | 2168371 |\n",
       "| 4 | 2022 | April | New Brunswick             |  801778 |  5 | 1340707 |  1818 | 1171958 |\n",
       "| 5 | 2022 | April | Newfoundland and Labrador |  529249 |  2 |  920444 | 77160 |  686123 |\n",
       "| 6 | 2022 | April | Northwest Territories     |   44828 |  0 |   76390 |     0 |   58889 |\n",
       "\n"
      ],
      "text/plain": [
       "  year month GEO                       pop     protests retail  oil   power  \n",
       "1 2022 April Alberta                   4480956 17       7989056  3983 6069621\n",
       "2 2022 April British Columbia          5310164 42       8959229 77433 5240902\n",
       "3 2022 April Manitoba                  1405197  2       2083495  6290 2168371\n",
       "4 2022 April New Brunswick              801778  5       1340707  1818 1171958\n",
       "5 2022 April Newfoundland and Labrador  529249  2        920444 77160  686123\n",
       "6 2022 April Northwest Territories       44828  0         76390     0   58889"
      ]
     },
     "metadata": {},
     "output_type": "display_data"
    }
   ],
   "source": [
    "data <- read.csv(\"data/merged_data.csv\")[, -1]\n",
    "data$food <- NULL\n",
    "data$manufac <- NULL\n",
    "\n",
    "# data <- data[, 1:5]\n",
    "\n",
    "head(data)"
   ]
  },
  {
   "cell_type": "code",
   "execution_count": 632,
   "metadata": {
    "vscode": {
     "languageId": "r"
    }
   },
   "outputs": [],
   "source": [
    "# data$pop <- rescale(data$pop)\n",
    "# data$retail <- rescale(data$retail)\n",
    "# data$oil <- rescale(data$oil)\n",
    "# data$power <- rescale(data$power)"
   ]
  },
  {
   "cell_type": "code",
   "execution_count": 633,
   "metadata": {
    "vscode": {
     "languageId": "r"
    }
   },
   "outputs": [
    {
     "data": {
      "image/png": "[encoded data removed]",
      "text/plain": [
       "Plot with title “Histogram of protests”"
      ]
     },
     "metadata": {
      "image/png": {
       "height": 420,
       "width": 420
      }
     },
     "output_type": "display_data"
    }
   ],
   "source": [
    "hist(protests, breaks=25)"
   ]
  },
  {
   "cell_type": "code",
   "execution_count": 634,
   "metadata": {
    "vscode": {
     "languageId": "r"
    }
   },
   "outputs": [
    {
     "data": {
      "text/html": [
       "<table class=\"dataframe\">\n",
       "<caption>A data.frame: 6 × 8</caption>\n",
       "<thead>\n",
       "\t<tr><th></th><th scope=col>year</th><th scope=col>month</th><th scope=col>prov</th><th scope=col>pop</th><th scope=col>protests</th><th scope=col>retail</th><th scope=col>oil</th><th scope=col>power</th></tr>\n",
       "\t<tr><th></th><th scope=col>&lt;int&gt;</th><th scope=col>&lt;chr&gt;</th><th scope=col>&lt;chr&gt;</th><th scope=col>&lt;int&gt;</th><th scope=col>&lt;int&gt;</th><th scope=col>&lt;dbl&gt;</th><th scope=col>&lt;int&gt;</th><th scope=col>&lt;int&gt;</th></tr>\n",
       "</thead>\n",
       "<tbody>\n",
       "\t<tr><th scope=row>1</th><td>2022</td><td>April</td><td>Alberta                  </td><td>4480956</td><td>17</td><td>7989056</td><td> 3983</td><td>6069621</td></tr>\n",
       "\t<tr><th scope=row>2</th><td>2022</td><td>April</td><td>British Columbia         </td><td>5310164</td><td>42</td><td>8959229</td><td>77433</td><td>5240902</td></tr>\n",
       "\t<tr><th scope=row>3</th><td>2022</td><td>April</td><td>Manitoba                 </td><td>1405197</td><td> 2</td><td>2083495</td><td> 6290</td><td>2168371</td></tr>\n",
       "\t<tr><th scope=row>4</th><td>2022</td><td>April</td><td>New Brunswick            </td><td> 801778</td><td> 5</td><td>1340707</td><td> 1818</td><td>1171958</td></tr>\n",
       "\t<tr><th scope=row>5</th><td>2022</td><td>April</td><td>Newfoundland and Labrador</td><td> 529249</td><td> 2</td><td> 920444</td><td>77160</td><td> 686123</td></tr>\n",
       "\t<tr><th scope=row>6</th><td>2022</td><td>April</td><td>Northwest Territories    </td><td>  44828</td><td> 0</td><td>  76390</td><td>    0</td><td>  58889</td></tr>\n",
       "</tbody>\n",
       "</table>\n"
      ],
      "text/latex": [
       "A data.frame: 6 × 8\n",
       "\\begin{tabular}{r|llllllll}\n",
       "  & year & month & prov & pop & protests & retail & oil & power\\\\\n",
       "  & <int> & <chr> & <chr> & <int> & <int> & <dbl> & <int> & <int>\\\\\n",
       "\\hline\n",
       "\t1 & 2022 & April & Alberta                   & 4480956 & 17 & 7989056 &  3983 & 6069621\\\\\n",
       "\t2 & 2022 & April & British Columbia          & 5310164 & 42 & 8959229 & 77433 & 5240902\\\\\n",
       "\t3 & 2022 & April & Manitoba                  & 1405197 &  2 & 2083495 &  6290 & 2168371\\\\\n",
       "\t4 & 2022 & April & New Brunswick             &  801778 &  5 & 1340707 &  1818 & 1171958\\\\\n",
       "\t5 & 2022 & April & Newfoundland and Labrador &  529249 &  2 &  920444 & 77160 &  686123\\\\\n",
       "\t6 & 2022 & April & Northwest Territories     &   44828 &  0 &   76390 &     0 &   58889\\\\\n",
       "\\end{tabular}\n"
      ],
      "text/markdown": [
       "\n",
       "A data.frame: 6 × 8\n",
       "\n",
       "| <!--/--> | year &lt;int&gt; | month &lt;chr&gt; | prov &lt;chr&gt; | pop &lt;int&gt; | protests &lt;int&gt; | retail &lt;dbl&gt; | oil &lt;int&gt; | power &lt;int&gt; |\n",
       "|---|---|---|---|---|---|---|---|---|\n",
       "| 1 | 2022 | April | Alberta                   | 4480956 | 17 | 7989056 |  3983 | 6069621 |\n",
       "| 2 | 2022 | April | British Columbia          | 5310164 | 42 | 8959229 | 77433 | 5240902 |\n",
       "| 3 | 2022 | April | Manitoba                  | 1405197 |  2 | 2083495 |  6290 | 2168371 |\n",
       "| 4 | 2022 | April | New Brunswick             |  801778 |  5 | 1340707 |  1818 | 1171958 |\n",
       "| 5 | 2022 | April | Newfoundland and Labrador |  529249 |  2 |  920444 | 77160 |  686123 |\n",
       "| 6 | 2022 | April | Northwest Territories     |   44828 |  0 |   76390 |     0 |   58889 |\n",
       "\n"
      ],
      "text/plain": [
       "  year month prov                      pop     protests retail  oil   power  \n",
       "1 2022 April Alberta                   4480956 17       7989056  3983 6069621\n",
       "2 2022 April British Columbia          5310164 42       8959229 77433 5240902\n",
       "3 2022 April Manitoba                  1405197  2       2083495  6290 2168371\n",
       "4 2022 April New Brunswick              801778  5       1340707  1818 1171958\n",
       "5 2022 April Newfoundland and Labrador  529249  2        920444 77160  686123\n",
       "6 2022 April Northwest Territories       44828  0         76390     0   58889"
      ]
     },
     "metadata": {},
     "output_type": "display_data"
    }
   ],
   "source": [
    "colnames(data)[colnames(data) == \"GEO\"] <- \"prov\"\n",
    "head(data)"
   ]
  },
  {
   "cell_type": "code",
   "execution_count": 635,
   "metadata": {
    "vscode": {
     "languageId": "r"
    }
   },
   "outputs": [],
   "source": [
    "data$prov  <- as.factor(data$prov)\n",
    "data$month <- as.factor(data$month)\n",
    "data$year <- as.factor(data$year)"
   ]
  },
  {
   "cell_type": "code",
   "execution_count": 636,
   "metadata": {
    "vscode": {
     "languageId": "r"
    }
   },
   "outputs": [
    {
     "data": {
      "text/html": [
       "<table class=\"dataframe\">\n",
       "<caption>A data.frame: 6 × 8</caption>\n",
       "<thead>\n",
       "\t<tr><th></th><th scope=col>year</th><th scope=col>month</th><th scope=col>prov</th><th scope=col>pop</th><th scope=col>protests</th><th scope=col>retail</th><th scope=col>oil</th><th scope=col>power</th></tr>\n",
       "\t<tr><th></th><th scope=col>&lt;fct&gt;</th><th scope=col>&lt;fct&gt;</th><th scope=col>&lt;fct&gt;</th><th scope=col>&lt;int&gt;</th><th scope=col>&lt;int&gt;</th><th scope=col>&lt;dbl&gt;</th><th scope=col>&lt;int&gt;</th><th scope=col>&lt;int&gt;</th></tr>\n",
       "</thead>\n",
       "<tbody>\n",
       "\t<tr><th scope=row>1</th><td>2022</td><td>April</td><td>Alberta                  </td><td>4480956</td><td>17</td><td>7989056</td><td> 3983</td><td>6069621</td></tr>\n",
       "\t<tr><th scope=row>2</th><td>2022</td><td>April</td><td>British Columbia         </td><td>5310164</td><td>42</td><td>8959229</td><td>77433</td><td>5240902</td></tr>\n",
       "\t<tr><th scope=row>3</th><td>2022</td><td>April</td><td>Manitoba                 </td><td>1405197</td><td> 2</td><td>2083495</td><td> 6290</td><td>2168371</td></tr>\n",
       "\t<tr><th scope=row>4</th><td>2022</td><td>April</td><td>New Brunswick            </td><td> 801778</td><td> 5</td><td>1340707</td><td> 1818</td><td>1171958</td></tr>\n",
       "\t<tr><th scope=row>5</th><td>2022</td><td>April</td><td>Newfoundland and Labrador</td><td> 529249</td><td> 2</td><td> 920444</td><td>77160</td><td> 686123</td></tr>\n",
       "\t<tr><th scope=row>6</th><td>2022</td><td>April</td><td>Northwest Territories    </td><td>  44828</td><td> 0</td><td>  76390</td><td>    0</td><td>  58889</td></tr>\n",
       "</tbody>\n",
       "</table>\n"
      ],
      "text/latex": [
       "A data.frame: 6 × 8\n",
       "\\begin{tabular}{r|llllllll}\n",
       "  & year & month & prov & pop & protests & retail & oil & power\\\\\n",
       "  & <fct> & <fct> & <fct> & <int> & <int> & <dbl> & <int> & <int>\\\\\n",
       "\\hline\n",
       "\t1 & 2022 & April & Alberta                   & 4480956 & 17 & 7989056 &  3983 & 6069621\\\\\n",
       "\t2 & 2022 & April & British Columbia          & 5310164 & 42 & 8959229 & 77433 & 5240902\\\\\n",
       "\t3 & 2022 & April & Manitoba                  & 1405197 &  2 & 2083495 &  6290 & 2168371\\\\\n",
       "\t4 & 2022 & April & New Brunswick             &  801778 &  5 & 1340707 &  1818 & 1171958\\\\\n",
       "\t5 & 2022 & April & Newfoundland and Labrador &  529249 &  2 &  920444 & 77160 &  686123\\\\\n",
       "\t6 & 2022 & April & Northwest Territories     &   44828 &  0 &   76390 &     0 &   58889\\\\\n",
       "\\end{tabular}\n"
      ],
      "text/markdown": [
       "\n",
       "A data.frame: 6 × 8\n",
       "\n",
       "| <!--/--> | year &lt;fct&gt; | month &lt;fct&gt; | prov &lt;fct&gt; | pop &lt;int&gt; | protests &lt;int&gt; | retail &lt;dbl&gt; | oil &lt;int&gt; | power &lt;int&gt; |\n",
       "|---|---|---|---|---|---|---|---|---|\n",
       "| 1 | 2022 | April | Alberta                   | 4480956 | 17 | 7989056 |  3983 | 6069621 |\n",
       "| 2 | 2022 | April | British Columbia          | 5310164 | 42 | 8959229 | 77433 | 5240902 |\n",
       "| 3 | 2022 | April | Manitoba                  | 1405197 |  2 | 2083495 |  6290 | 2168371 |\n",
       "| 4 | 2022 | April | New Brunswick             |  801778 |  5 | 1340707 |  1818 | 1171958 |\n",
       "| 5 | 2022 | April | Newfoundland and Labrador |  529249 |  2 |  920444 | 77160 |  686123 |\n",
       "| 6 | 2022 | April | Northwest Territories     |   44828 |  0 |   76390 |     0 |   58889 |\n",
       "\n"
      ],
      "text/plain": [
       "  year month prov                      pop     protests retail  oil   power  \n",
       "1 2022 April Alberta                   4480956 17       7989056  3983 6069621\n",
       "2 2022 April British Columbia          5310164 42       8959229 77433 5240902\n",
       "3 2022 April Manitoba                  1405197  2       2083495  6290 2168371\n",
       "4 2022 April New Brunswick              801778  5       1340707  1818 1171958\n",
       "5 2022 April Newfoundland and Labrador  529249  2        920444 77160  686123\n",
       "6 2022 April Northwest Territories       44828  0         76390     0   58889"
      ]
     },
     "metadata": {},
     "output_type": "display_data"
    },
    {
     "name": "stderr",
     "output_type": "stream",
     "text": [
      "The following objects are masked from data (pos = 3):\n",
      "\n",
      "    month, oil, pop, power, protests, prov, retail, year\n",
      "\n",
      "\n",
      "The following objects are masked from data (pos = 4):\n",
      "\n",
      "    month, oil, pop, power, protests, prov, retail, year\n",
      "\n",
      "\n",
      "The following objects are masked from data (pos = 5):\n",
      "\n",
      "    month, oil, pop, power, protests, prov, retail, year\n",
      "\n",
      "\n",
      "The following objects are masked from data (pos = 6):\n",
      "\n",
      "    month, oil, pop, power, protests, prov, retail, year\n",
      "\n",
      "\n",
      "The following objects are masked from data (pos = 7):\n",
      "\n",
      "    month, oil, pop, power, protests, prov, retail, year\n",
      "\n",
      "\n",
      "The following objects are masked from data (pos = 8):\n",
      "\n",
      "    month, oil, pop, power, protests, prov, retail, year\n",
      "\n",
      "\n",
      "The following objects are masked from data (pos = 9):\n",
      "\n",
      "    month, oil, pop, power, protests, prov, retail, year\n",
      "\n",
      "\n",
      "The following objects are masked from data (pos = 10):\n",
      "\n",
      "    month, oil, pop, power, protests, prov, retail, year\n",
      "\n",
      "\n",
      "The following objects are masked from data (pos = 11):\n",
      "\n",
      "    month, oil, pop, power, protests, prov, retail, year\n",
      "\n",
      "\n",
      "The following objects are masked from data (pos = 12):\n",
      "\n",
      "    month, oil, pop, power, protests, prov, retail, year\n",
      "\n",
      "\n",
      "The following objects are masked from data (pos = 13):\n",
      "\n",
      "    month, oil, pop, power, protests, prov, retail, year\n",
      "\n",
      "\n",
      "The following objects are masked from data (pos = 14):\n",
      "\n",
      "    month, oil, pop, power, protests, prov, retail, year\n",
      "\n",
      "\n",
      "The following objects are masked from data (pos = 15):\n",
      "\n",
      "    month, oil, pop, power, protests, prov, retail, year\n",
      "\n",
      "\n",
      "The following objects are masked from data (pos = 16):\n",
      "\n",
      "    month, oil, pop, power, protests, prov, retail, year\n",
      "\n",
      "\n",
      "The following objects are masked from data (pos = 17):\n",
      "\n",
      "    month, oil, pop, power, protests, prov, retail, year\n",
      "\n",
      "\n",
      "The following objects are masked from data (pos = 18):\n",
      "\n",
      "    month, oil, pop, power, protests, prov, retail, year\n",
      "\n",
      "\n",
      "The following objects are masked from data (pos = 19):\n",
      "\n",
      "    month, oil, pop, power, protests, prov, retail, year\n",
      "\n",
      "\n",
      "The following objects are masked from data (pos = 20):\n",
      "\n",
      "    month, oil, pop, power, protests, prov, retail, year\n",
      "\n",
      "\n",
      "The following objects are masked from data (pos = 22):\n",
      "\n",
      "    month, oil, pop, power, protests, prov, retail, year\n",
      "\n",
      "\n",
      "The following objects are masked from data (pos = 23):\n",
      "\n",
      "    month, oil, pop, power, protests, prov, retail, year\n",
      "\n",
      "\n",
      "The following objects are masked from data (pos = 24):\n",
      "\n",
      "    month, oil, pop, power, protests, prov, retail, year\n",
      "\n",
      "\n",
      "The following objects are masked from data (pos = 25):\n",
      "\n",
      "    month, oil, pop, power, protests, prov, retail, year\n",
      "\n",
      "\n",
      "The following objects are masked from data (pos = 26):\n",
      "\n",
      "    month, pop, protests, prov, year\n",
      "\n",
      "\n",
      "The following objects are masked from data (pos = 27):\n",
      "\n",
      "    month, oil, pop, power, protests, prov, retail, year\n",
      "\n",
      "\n",
      "The following objects are masked from data (pos = 28):\n",
      "\n",
      "    month, oil, pop, power, protests, prov, retail, year\n",
      "\n",
      "\n",
      "The following objects are masked from data (pos = 29):\n",
      "\n",
      "    month, oil, pop, power, protests, prov, retail, year\n",
      "\n",
      "\n",
      "The following objects are masked from data (pos = 30):\n",
      "\n",
      "    month, oil, pop, power, protests, prov, retail, year\n",
      "\n",
      "\n",
      "The following objects are masked from data (pos = 31):\n",
      "\n",
      "    month, oil, pop, power, protests, prov, retail, year\n",
      "\n",
      "\n"
     ]
    }
   ],
   "source": [
    "head(data)\n",
    "attach(data)"
   ]
  },
  {
   "cell_type": "markdown",
   "metadata": {},
   "source": [
    "## Negative Binomial Model"
   ]
  },
  {
   "cell_type": "code",
   "execution_count": 637,
   "metadata": {
    "vscode": {
     "languageId": "r"
    }
   },
   "outputs": [
    {
     "data": {
      "text/plain": [
       "\n",
       "Call:\n",
       "glm.nb(formula = protests ~ ., data = data, init.theta = 10.75475187, \n",
       "    link = log)\n",
       "\n",
       "Deviance Residuals: \n",
       "    Min       1Q   Median       3Q      Max  \n",
       "-3.2993  -0.9709  -0.1634   0.5407   3.0443  \n",
       "\n",
       "Coefficients:\n",
       "                                Estimate Std. Error z value Pr(>|z|)    \n",
       "(Intercept)                    3.645e+00  1.898e+00   1.921 0.054755 .  \n",
       "year2023                       1.030e-02  7.908e-02   0.130 0.896387    \n",
       "monthAugust                   -7.164e-01  1.450e-01  -4.942 7.75e-07 ***\n",
       "monthDecember                 -6.195e-01  1.873e-01  -3.307 0.000943 ***\n",
       "monthFebruary                  5.988e-02  1.315e-01   0.455 0.648944    \n",
       "monthJanuary                  -3.207e-01  1.427e-01  -2.248 0.024598 *  \n",
       "monthJuly                     -5.626e-01  1.415e-01  -3.975 7.04e-05 ***\n",
       "monthJune                     -3.254e-01  1.382e-01  -2.354 0.018556 *  \n",
       "monthMarch                    -9.807e-02  1.339e-01  -0.732 0.463950    \n",
       "monthMay                      -1.506e-02  1.317e-01  -0.114 0.908934    \n",
       "monthNovember                 -1.134e-01  1.375e-01  -0.825 0.409526    \n",
       "monthOctober                   4.189e-03  1.350e-01   0.031 0.975236    \n",
       "monthSeptember                 8.582e-02  1.302e-01   0.659 0.509882    \n",
       "provBritish Columbia           5.307e-01  3.305e-01   1.606 0.108295    \n",
       "provManitoba                  -1.043e+00  1.368e+00  -0.762 0.445818    \n",
       "provNew Brunswick             -1.542e+00  1.599e+00  -0.965 0.334774    \n",
       "provNewfoundland and Labrador -1.876e+00  1.708e+00  -1.098 0.272040    \n",
       "provNorthwest Territories     -4.048e+00  1.936e+00  -2.091 0.036514 *  \n",
       "provNova Scotia               -1.384e+00  1.512e+00  -0.915 0.360022    \n",
       "provNunavut                   -3.673e+00  1.933e+00  -1.900 0.057376 .  \n",
       "provOntario                    2.225e+00  4.235e+00   0.525 0.599367    \n",
       "provPrince Edward Island      -2.840e+00  1.872e+00  -1.517 0.129159    \n",
       "provQuebec                     9.287e-01  1.721e+00   0.539 0.589557    \n",
       "provSaskatchewan              -1.607e+00  1.440e+00  -1.116 0.264312    \n",
       "provYukon                     -2.822e+00  1.921e+00  -1.469 0.141731    \n",
       "pop                            4.770e-07  3.490e-07   1.367 0.171728    \n",
       "retail                        -3.654e-07  1.590e-07  -2.299 0.021531 *  \n",
       "oil                           -2.244e-07  6.552e-07  -0.342 0.732003    \n",
       "power                          5.934e-10  2.687e-08   0.022 0.982378    \n",
       "---\n",
       "Signif. codes:  0 ‘***’ 0.001 ‘**’ 0.01 ‘*’ 0.05 ‘.’ 0.1 ‘ ’ 1\n",
       "\n",
       "(Dispersion parameter for Negative Binomial(10.7548) family taken to be 1)\n",
       "\n",
       "    Null deviance: 2368.91  on 298  degrees of freedom\n",
       "Residual deviance:  352.49  on 270  degrees of freedom\n",
       "AIC: 1581.4\n",
       "\n",
       "Number of Fisher Scoring iterations: 1\n",
       "\n",
       "\n",
       "              Theta:  10.75 \n",
       "          Std. Err.:  2.10 \n",
       "\n",
       " 2 x log-likelihood:  -1521.40 "
      ]
     },
     "metadata": {},
     "output_type": "display_data"
    }
   ],
   "source": [
    "model <- glm.nb(protests ~., data=data, init.theta = 1)\n",
    "\n",
    "summary(model)"
   ]
  },
  {
   "cell_type": "code",
   "execution_count": 638,
   "metadata": {
    "vscode": {
     "languageId": "r"
    }
   },
   "outputs": [
    {
     "data": {
      "image/png": "[encoded data removed]",
      "text/plain": [
       "Plot with title “Histogram of dummy”"
      ]
     },
     "metadata": {
      "image/png": {
       "height": 420,
       "width": 420
      }
     },
     "output_type": "display_data"
    }
   ],
   "source": [
    "dummy <- rnegbin(fitted(model), theta = 10.75)\n",
    "\n",
    "hist(dummy, breaks=25)"
   ]
  },
  {
   "cell_type": "code",
   "execution_count": 639,
   "metadata": {
    "vscode": {
     "languageId": "r"
    }
   },
   "outputs": [
    {
     "name": "stderr",
     "output_type": "stream",
     "text": [
      "Warning message in anova.negbin(model):\n",
      "“tests made without re-estimating 'theta'”\n"
     ]
    },
    {
     "data": {
      "text/html": [
       "<table class=\"dataframe\">\n",
       "<caption>A anova: 8 × 5</caption>\n",
       "<thead>\n",
       "\t<tr><th></th><th scope=col>Df</th><th scope=col>Deviance</th><th scope=col>Resid. Df</th><th scope=col>Resid. Dev</th><th scope=col>Pr(&gt;Chi)</th></tr>\n",
       "\t<tr><th></th><th scope=col>&lt;int&gt;</th><th scope=col>&lt;dbl&gt;</th><th scope=col>&lt;int&gt;</th><th scope=col>&lt;dbl&gt;</th><th scope=col>&lt;dbl&gt;</th></tr>\n",
       "</thead>\n",
       "<tbody>\n",
       "\t<tr><th scope=row>NULL</th><td>NA</td><td>          NA</td><td>298</td><td>2368.9063</td><td>          NA</td></tr>\n",
       "\t<tr><th scope=row>year</th><td> 1</td><td>1.143289e+00</td><td>297</td><td>2367.7630</td><td>2.849583e-01</td></tr>\n",
       "\t<tr><th scope=row>month</th><td>11</td><td>8.988210e+01</td><td>286</td><td>2277.8809</td><td>1.758231e-14</td></tr>\n",
       "\t<tr><th scope=row>prov</th><td>12</td><td>1.918190e+03</td><td>274</td><td> 359.6911</td><td>0.000000e+00</td></tr>\n",
       "\t<tr><th scope=row>pop</th><td> 1</td><td>1.223328e+00</td><td>273</td><td> 358.4678</td><td>2.687085e-01</td></tr>\n",
       "\t<tr><th scope=row>retail</th><td> 1</td><td>5.846439e+00</td><td>272</td><td> 352.6213</td><td>1.560860e-02</td></tr>\n",
       "\t<tr><th scope=row>oil</th><td> 1</td><td>1.275936e-01</td><td>271</td><td> 352.4937</td><td>7.209403e-01</td></tr>\n",
       "\t<tr><th scope=row>power</th><td> 1</td><td>4.744238e-04</td><td>270</td><td> 352.4932</td><td>9.826224e-01</td></tr>\n",
       "</tbody>\n",
       "</table>\n"
      ],
      "text/latex": [
       "A anova: 8 × 5\n",
       "\\begin{tabular}{r|lllll}\n",
       "  & Df & Deviance & Resid. Df & Resid. Dev & Pr(>Chi)\\\\\n",
       "  & <int> & <dbl> & <int> & <dbl> & <dbl>\\\\\n",
       "\\hline\n",
       "\tNULL & NA &           NA & 298 & 2368.9063 &           NA\\\\\n",
       "\tyear &  1 & 1.143289e+00 & 297 & 2367.7630 & 2.849583e-01\\\\\n",
       "\tmonth & 11 & 8.988210e+01 & 286 & 2277.8809 & 1.758231e-14\\\\\n",
       "\tprov & 12 & 1.918190e+03 & 274 &  359.6911 & 0.000000e+00\\\\\n",
       "\tpop &  1 & 1.223328e+00 & 273 &  358.4678 & 2.687085e-01\\\\\n",
       "\tretail &  1 & 5.846439e+00 & 272 &  352.6213 & 1.560860e-02\\\\\n",
       "\toil &  1 & 1.275936e-01 & 271 &  352.4937 & 7.209403e-01\\\\\n",
       "\tpower &  1 & 4.744238e-04 & 270 &  352.4932 & 9.826224e-01\\\\\n",
       "\\end{tabular}\n"
      ],
      "text/markdown": [
       "\n",
       "A anova: 8 × 5\n",
       "\n",
       "| <!--/--> | Df &lt;int&gt; | Deviance &lt;dbl&gt; | Resid. Df &lt;int&gt; | Resid. Dev &lt;dbl&gt; | Pr(&gt;Chi) &lt;dbl&gt; |\n",
       "|---|---|---|---|---|---|\n",
       "| NULL | NA |           NA | 298 | 2368.9063 |           NA |\n",
       "| year |  1 | 1.143289e+00 | 297 | 2367.7630 | 2.849583e-01 |\n",
       "| month | 11 | 8.988210e+01 | 286 | 2277.8809 | 1.758231e-14 |\n",
       "| prov | 12 | 1.918190e+03 | 274 |  359.6911 | 0.000000e+00 |\n",
       "| pop |  1 | 1.223328e+00 | 273 |  358.4678 | 2.687085e-01 |\n",
       "| retail |  1 | 5.846439e+00 | 272 |  352.6213 | 1.560860e-02 |\n",
       "| oil |  1 | 1.275936e-01 | 271 |  352.4937 | 7.209403e-01 |\n",
       "| power |  1 | 4.744238e-04 | 270 |  352.4932 | 9.826224e-01 |\n",
       "\n"
      ],
      "text/plain": [
       "       Df Deviance     Resid. Df Resid. Dev Pr(>Chi)    \n",
       "NULL   NA           NA 298       2368.9063            NA\n",
       "year    1 1.143289e+00 297       2367.7630  2.849583e-01\n",
       "month  11 8.988210e+01 286       2277.8809  1.758231e-14\n",
       "prov   12 1.918190e+03 274        359.6911  0.000000e+00\n",
       "pop     1 1.223328e+00 273        358.4678  2.687085e-01\n",
       "retail  1 5.846439e+00 272        352.6213  1.560860e-02\n",
       "oil     1 1.275936e-01 271        352.4937  7.209403e-01\n",
       "power   1 4.744238e-04 270        352.4932  9.826224e-01"
      ]
     },
     "metadata": {},
     "output_type": "display_data"
    }
   ],
   "source": [
    "anova(model)"
   ]
  },
  {
   "cell_type": "code",
   "execution_count": 640,
   "metadata": {
    "vscode": {
     "languageId": "r"
    }
   },
   "outputs": [
    {
     "data": {
      "text/plain": [
       "\n",
       "Call:\n",
       "glm.nb(formula = protests ~ ., data = data2, init.theta = 10.18063071, \n",
       "    link = log)\n",
       "\n",
       "Deviance Residuals: \n",
       "    Min       1Q   Median       3Q      Max  \n",
       "-3.2669  -0.9685  -0.1702   0.5728   3.0399  \n",
       "\n",
       "Coefficients:\n",
       "                                Estimate Std. Error z value Pr(>|z|)    \n",
       "(Intercept)                    4.976e+00  1.179e+00   4.222 2.42e-05 ***\n",
       "monthAugust                   -7.044e-01  1.452e-01  -4.850 1.24e-06 ***\n",
       "monthDecember                 -6.289e-01  1.798e-01  -3.498 0.000468 ***\n",
       "monthFebruary                  4.864e-02  1.314e-01   0.370 0.711202    \n",
       "monthJanuary                  -3.284e-01  1.372e-01  -2.394 0.016659 *  \n",
       "monthJuly                     -5.533e-01  1.419e-01  -3.900 9.63e-05 ***\n",
       "monthJune                     -3.512e-01  1.401e-01  -2.507 0.012169 *  \n",
       "monthMarch                    -1.060e-01  1.337e-01  -0.793 0.427836    \n",
       "monthMay                      -3.083e-02  1.335e-01  -0.231 0.817414    \n",
       "monthNovember                 -7.729e-02  1.346e-01  -0.574 0.565876    \n",
       "monthOctober                   3.975e-02  1.334e-01   0.298 0.765707    \n",
       "monthSeptember                 9.682e-02  1.313e-01   0.737 0.460990    \n",
       "provBritish Columbia           8.278e-01  1.540e-01   5.376 7.62e-08 ***\n",
       "provManitoba                  -1.918e+00  8.739e-01  -2.195 0.028170 *  \n",
       "provNew Brunswick             -2.629e+00  9.905e-01  -2.654 0.007950 ** \n",
       "provNewfoundland and Labrador -3.068e+00  1.057e+00  -2.903 0.003693 ** \n",
       "provNorthwest Territories     -5.364e+00  1.207e+00  -4.445 8.77e-06 ***\n",
       "provNova Scotia               -2.411e+00  9.426e-01  -2.558 0.010537 *  \n",
       "provNunavut                   -4.989e+00  1.200e+00  -4.157 3.23e-05 ***\n",
       "provOntario                    5.634e+00  2.326e+00   2.423 0.015410 *  \n",
       "provPrince Edward Island      -4.118e+00  1.155e+00  -3.567 0.000361 ***\n",
       "provQuebec                     2.218e+00  8.842e-01   2.509 0.012109 *  \n",
       "provSaskatchewan              -2.585e+00  8.937e-01  -2.893 0.003821 ** \n",
       "provYukon                     -4.140e+00  1.182e+00  -3.504 0.000459 ***\n",
       "retail                        -2.622e-07  1.420e-07  -1.846 0.064831 .  \n",
       "---\n",
       "Signif. codes:  0 ‘***’ 0.001 ‘**’ 0.01 ‘*’ 0.05 ‘.’ 0.1 ‘ ’ 1\n",
       "\n",
       "(Dispersion parameter for Negative Binomial(10.1806) family taken to be 1)\n",
       "\n",
       "    Null deviance: 2309.35  on 298  degrees of freedom\n",
       "Residual deviance:  349.96  on 274  degrees of freedom\n",
       "AIC: 1577.1\n",
       "\n",
       "Number of Fisher Scoring iterations: 1\n",
       "\n",
       "\n",
       "              Theta:  10.18 \n",
       "          Std. Err.:  1.93 \n",
       "\n",
       " 2 x log-likelihood:  -1525.137 "
      ]
     },
     "metadata": {},
     "output_type": "display_data"
    }
   ],
   "source": [
    "data2 <- data[, -c(1, 4, 7, 8)]\n",
    "\n",
    "model2 <- glm.nb(protests ~., data=data2, init.theta = 1)\n",
    "\n",
    "summary(model2)"
   ]
  },
  {
   "cell_type": "code",
   "execution_count": 641,
   "metadata": {
    "vscode": {
     "languageId": "r"
    }
   },
   "outputs": [
    {
     "name": "stderr",
     "output_type": "stream",
     "text": [
      "Warning message in anova.negbin(model2):\n",
      "“tests made without re-estimating 'theta'”\n"
     ]
    },
    {
     "data": {
      "text/html": [
       "<table class=\"dataframe\">\n",
       "<caption>A anova: 4 × 5</caption>\n",
       "<thead>\n",
       "\t<tr><th></th><th scope=col>Df</th><th scope=col>Deviance</th><th scope=col>Resid. Df</th><th scope=col>Resid. Dev</th><th scope=col>Pr(&gt;Chi)</th></tr>\n",
       "\t<tr><th></th><th scope=col>&lt;int&gt;</th><th scope=col>&lt;dbl&gt;</th><th scope=col>&lt;int&gt;</th><th scope=col>&lt;dbl&gt;</th><th scope=col>&lt;dbl&gt;</th></tr>\n",
       "</thead>\n",
       "<tbody>\n",
       "\t<tr><th scope=row>NULL</th><td>NA</td><td>         NA</td><td>298</td><td>2309.3533</td><td>          NA</td></tr>\n",
       "\t<tr><th scope=row>month</th><td>11</td><td>  88.224132</td><td>287</td><td>2221.1292</td><td>3.711719e-14</td></tr>\n",
       "\t<tr><th scope=row>prov</th><td>12</td><td>1867.799461</td><td>275</td><td> 353.3297</td><td>0.000000e+00</td></tr>\n",
       "\t<tr><th scope=row>retail</th><td> 1</td><td>   3.366263</td><td>274</td><td> 349.9634</td><td>6.654454e-02</td></tr>\n",
       "</tbody>\n",
       "</table>\n"
      ],
      "text/latex": [
       "A anova: 4 × 5\n",
       "\\begin{tabular}{r|lllll}\n",
       "  & Df & Deviance & Resid. Df & Resid. Dev & Pr(>Chi)\\\\\n",
       "  & <int> & <dbl> & <int> & <dbl> & <dbl>\\\\\n",
       "\\hline\n",
       "\tNULL & NA &          NA & 298 & 2309.3533 &           NA\\\\\n",
       "\tmonth & 11 &   88.224132 & 287 & 2221.1292 & 3.711719e-14\\\\\n",
       "\tprov & 12 & 1867.799461 & 275 &  353.3297 & 0.000000e+00\\\\\n",
       "\tretail &  1 &    3.366263 & 274 &  349.9634 & 6.654454e-02\\\\\n",
       "\\end{tabular}\n"
      ],
      "text/markdown": [
       "\n",
       "A anova: 4 × 5\n",
       "\n",
       "| <!--/--> | Df &lt;int&gt; | Deviance &lt;dbl&gt; | Resid. Df &lt;int&gt; | Resid. Dev &lt;dbl&gt; | Pr(&gt;Chi) &lt;dbl&gt; |\n",
       "|---|---|---|---|---|---|\n",
       "| NULL | NA |          NA | 298 | 2309.3533 |           NA |\n",
       "| month | 11 |   88.224132 | 287 | 2221.1292 | 3.711719e-14 |\n",
       "| prov | 12 | 1867.799461 | 275 |  353.3297 | 0.000000e+00 |\n",
       "| retail |  1 |    3.366263 | 274 |  349.9634 | 6.654454e-02 |\n",
       "\n"
      ],
      "text/plain": [
       "       Df Deviance    Resid. Df Resid. Dev Pr(>Chi)    \n",
       "NULL   NA          NA 298       2309.3533            NA\n",
       "month  11   88.224132 287       2221.1292  3.711719e-14\n",
       "prov   12 1867.799461 275        353.3297  0.000000e+00\n",
       "retail  1    3.366263 274        349.9634  6.654454e-02"
      ]
     },
     "metadata": {},
     "output_type": "display_data"
    }
   ],
   "source": [
    "anova(model2)"
   ]
  }
 ],
 "metadata": {
  "kernelspec": {
   "display_name": "R",
   "language": "R",
   "name": "ir"
  },
  "language_info": {
   "codemirror_mode": "r",
   "file_extension": ".r",
   "mimetype": "text/x-r-source",
   "name": "R",
   "pygments_lexer": "r",
   "version": "4.2.3"
  }
 },
 "nbformat": 4,
 "nbformat_minor": 2
}
