{
 "cells": [
  {
   "cell_type": "code",
   "execution_count": 37,
   "metadata": {
    "vscode": {
     "languageId": "r"
    }
   },
   "outputs": [],
   "source": [
    "setwd('/home/leoKraushaar/Documents/School/Year 3/Semester 2/STAT 413/Project/protests/')"
   ]
  },
  {
   "cell_type": "markdown",
   "metadata": {},
   "source": [
    "## Retail"
   ]
  },
  {
   "cell_type": "code",
   "execution_count": 38,
   "metadata": {
    "vscode": {
     "languageId": "r"
    }
   },
   "outputs": [
    {
     "data": {
      "text/html": [
       "<table class=\"dataframe\">\n",
       "<caption>A data.frame: 6 × 3</caption>\n",
       "<thead>\n",
       "\t<tr><th></th><th scope=col>REF_DATE</th><th scope=col>GEO</th><th scope=col>VALUE</th></tr>\n",
       "\t<tr><th></th><th scope=col>&lt;chr&gt;</th><th scope=col>&lt;chr&gt;</th><th scope=col>&lt;int&gt;</th></tr>\n",
       "</thead>\n",
       "<tbody>\n",
       "\t<tr><th scope=row>1</th><td>2022-01</td><td>Newfoundland and Labrador</td><td>927147</td></tr>\n",
       "\t<tr><th scope=row>2</th><td>2022-02</td><td>Newfoundland and Labrador</td><td>903733</td></tr>\n",
       "\t<tr><th scope=row>3</th><td>2022-03</td><td>Newfoundland and Labrador</td><td>915525</td></tr>\n",
       "\t<tr><th scope=row>4</th><td>2022-04</td><td>Newfoundland and Labrador</td><td>920444</td></tr>\n",
       "\t<tr><th scope=row>5</th><td>2022-05</td><td>Newfoundland and Labrador</td><td>934566</td></tr>\n",
       "\t<tr><th scope=row>6</th><td>2022-06</td><td>Newfoundland and Labrador</td><td>913765</td></tr>\n",
       "</tbody>\n",
       "</table>\n"
      ],
      "text/latex": [
       "A data.frame: 6 × 3\n",
       "\\begin{tabular}{r|lll}\n",
       "  & REF\\_DATE & GEO & VALUE\\\\\n",
       "  & <chr> & <chr> & <int>\\\\\n",
       "\\hline\n",
       "\t1 & 2022-01 & Newfoundland and Labrador & 927147\\\\\n",
       "\t2 & 2022-02 & Newfoundland and Labrador & 903733\\\\\n",
       "\t3 & 2022-03 & Newfoundland and Labrador & 915525\\\\\n",
       "\t4 & 2022-04 & Newfoundland and Labrador & 920444\\\\\n",
       "\t5 & 2022-05 & Newfoundland and Labrador & 934566\\\\\n",
       "\t6 & 2022-06 & Newfoundland and Labrador & 913765\\\\\n",
       "\\end{tabular}\n"
      ],
      "text/markdown": [
       "\n",
       "A data.frame: 6 × 3\n",
       "\n",
       "| <!--/--> | REF_DATE &lt;chr&gt; | GEO &lt;chr&gt; | VALUE &lt;int&gt; |\n",
       "|---|---|---|---|\n",
       "| 1 | 2022-01 | Newfoundland and Labrador | 927147 |\n",
       "| 2 | 2022-02 | Newfoundland and Labrador | 903733 |\n",
       "| 3 | 2022-03 | Newfoundland and Labrador | 915525 |\n",
       "| 4 | 2022-04 | Newfoundland and Labrador | 920444 |\n",
       "| 5 | 2022-05 | Newfoundland and Labrador | 934566 |\n",
       "| 6 | 2022-06 | Newfoundland and Labrador | 913765 |\n",
       "\n"
      ],
      "text/plain": [
       "  REF_DATE GEO                       VALUE \n",
       "1 2022-01  Newfoundland and Labrador 927147\n",
       "2 2022-02  Newfoundland and Labrador 903733\n",
       "3 2022-03  Newfoundland and Labrador 915525\n",
       "4 2022-04  Newfoundland and Labrador 920444\n",
       "5 2022-05  Newfoundland and Labrador 934566\n",
       "6 2022-06  Newfoundland and Labrador 913765"
      ]
     },
     "metadata": {},
     "output_type": "display_data"
    }
   ],
   "source": [
    "retail <- read.csv(\"data/raw/retail.csv\")\n",
    "retail <- retail[, c(\"REF_DATE\", \"GEO\", \"VALUE\")]\n",
    "\n",
    "write.csv(retail, \"data/clean/retail.csv\", row.names = FALSE)\n",
    "\n",
    "head(retail)"
   ]
  },
  {
   "cell_type": "markdown",
   "metadata": {},
   "source": [
    "## Power"
   ]
  },
  {
   "cell_type": "code",
   "execution_count": 39,
   "metadata": {
    "vscode": {
     "languageId": "r"
    }
   },
   "outputs": [
    {
     "data": {
      "text/html": [
       "<table class=\"dataframe\">\n",
       "<caption>A data.frame: 6 × 4</caption>\n",
       "<thead>\n",
       "\t<tr><th></th><th scope=col>REF_DATE</th><th scope=col>GEO</th><th scope=col>Electric.power..components</th><th scope=col>VALUE</th></tr>\n",
       "\t<tr><th></th><th scope=col>&lt;chr&gt;</th><th scope=col>&lt;chr&gt;</th><th scope=col>&lt;chr&gt;</th><th scope=col>&lt;int&gt;</th></tr>\n",
       "</thead>\n",
       "<tbody>\n",
       "\t<tr><th scope=row>1</th><td>2022-01</td><td>Newfoundland and Labrador</td><td>Total generation</td><td>4501677</td></tr>\n",
       "\t<tr><th scope=row>2</th><td>2022-02</td><td>Newfoundland and Labrador</td><td>Total generation</td><td>4119837</td></tr>\n",
       "\t<tr><th scope=row>3</th><td>2022-03</td><td>Newfoundland and Labrador</td><td>Total generation</td><td>4202358</td></tr>\n",
       "\t<tr><th scope=row>4</th><td>2022-04</td><td>Newfoundland and Labrador</td><td>Total generation</td><td>3356896</td></tr>\n",
       "\t<tr><th scope=row>5</th><td>2022-05</td><td>Newfoundland and Labrador</td><td>Total generation</td><td>2939704</td></tr>\n",
       "\t<tr><th scope=row>6</th><td>2022-06</td><td>Newfoundland and Labrador</td><td>Total generation</td><td>2822154</td></tr>\n",
       "</tbody>\n",
       "</table>\n"
      ],
      "text/latex": [
       "A data.frame: 6 × 4\n",
       "\\begin{tabular}{r|llll}\n",
       "  & REF\\_DATE & GEO & Electric.power..components & VALUE\\\\\n",
       "  & <chr> & <chr> & <chr> & <int>\\\\\n",
       "\\hline\n",
       "\t1 & 2022-01 & Newfoundland and Labrador & Total generation & 4501677\\\\\n",
       "\t2 & 2022-02 & Newfoundland and Labrador & Total generation & 4119837\\\\\n",
       "\t3 & 2022-03 & Newfoundland and Labrador & Total generation & 4202358\\\\\n",
       "\t4 & 2022-04 & Newfoundland and Labrador & Total generation & 3356896\\\\\n",
       "\t5 & 2022-05 & Newfoundland and Labrador & Total generation & 2939704\\\\\n",
       "\t6 & 2022-06 & Newfoundland and Labrador & Total generation & 2822154\\\\\n",
       "\\end{tabular}\n"
      ],
      "text/markdown": [
       "\n",
       "A data.frame: 6 × 4\n",
       "\n",
       "| <!--/--> | REF_DATE &lt;chr&gt; | GEO &lt;chr&gt; | Electric.power..components &lt;chr&gt; | VALUE &lt;int&gt; |\n",
       "|---|---|---|---|---|\n",
       "| 1 | 2022-01 | Newfoundland and Labrador | Total generation | 4501677 |\n",
       "| 2 | 2022-02 | Newfoundland and Labrador | Total generation | 4119837 |\n",
       "| 3 | 2022-03 | Newfoundland and Labrador | Total generation | 4202358 |\n",
       "| 4 | 2022-04 | Newfoundland and Labrador | Total generation | 3356896 |\n",
       "| 5 | 2022-05 | Newfoundland and Labrador | Total generation | 2939704 |\n",
       "| 6 | 2022-06 | Newfoundland and Labrador | Total generation | 2822154 |\n",
       "\n"
      ],
      "text/plain": [
       "  REF_DATE GEO                       Electric.power..components VALUE  \n",
       "1 2022-01  Newfoundland and Labrador Total generation           4501677\n",
       "2 2022-02  Newfoundland and Labrador Total generation           4119837\n",
       "3 2022-03  Newfoundland and Labrador Total generation           4202358\n",
       "4 2022-04  Newfoundland and Labrador Total generation           3356896\n",
       "5 2022-05  Newfoundland and Labrador Total generation           2939704\n",
       "6 2022-06  Newfoundland and Labrador Total generation           2822154"
      ]
     },
     "metadata": {},
     "output_type": "display_data"
    }
   ],
   "source": [
    "power <- read.csv(\"data/raw/power.csv\")\n",
    "power <- power[, c(\"REF_DATE\", \"GEO\", \"Electric.power..components\", \"VALUE\")]\n",
    "\n",
    "write.csv(power, \"data/clean/power.csv\", row.names = FALSE)\n",
    "\n",
    "head(power)"
   ]
  },
  {
   "cell_type": "markdown",
   "metadata": {},
   "source": [
    "## Oil"
   ]
  },
  {
   "cell_type": "code",
   "execution_count": 40,
   "metadata": {
    "vscode": {
     "languageId": "r"
    }
   },
   "outputs": [
    {
     "data": {
      "text/html": [
       "<table class=\"dataframe\">\n",
       "<caption>A data.frame: 6 × 3</caption>\n",
       "<thead>\n",
       "\t<tr><th></th><th scope=col>REF_DATE</th><th scope=col>GEO</th><th scope=col>VALUE</th></tr>\n",
       "\t<tr><th></th><th scope=col>&lt;chr&gt;</th><th scope=col>&lt;chr&gt;</th><th scope=col>&lt;int&gt;</th></tr>\n",
       "</thead>\n",
       "<tbody>\n",
       "\t<tr><th scope=row>1</th><td>2022-01</td><td>Newfoundland and Labrador</td><td>132480</td></tr>\n",
       "\t<tr><th scope=row>2</th><td>2022-02</td><td>Newfoundland and Labrador</td><td> 81776</td></tr>\n",
       "\t<tr><th scope=row>3</th><td>2022-03</td><td>Newfoundland and Labrador</td><td> 44268</td></tr>\n",
       "\t<tr><th scope=row>4</th><td>2022-04</td><td>Newfoundland and Labrador</td><td> 77160</td></tr>\n",
       "\t<tr><th scope=row>5</th><td>2022-05</td><td>Newfoundland and Labrador</td><td>119265</td></tr>\n",
       "\t<tr><th scope=row>6</th><td>2022-06</td><td>Newfoundland and Labrador</td><td> 46353</td></tr>\n",
       "</tbody>\n",
       "</table>\n"
      ],
      "text/latex": [
       "A data.frame: 6 × 3\n",
       "\\begin{tabular}{r|lll}\n",
       "  & REF\\_DATE & GEO & VALUE\\\\\n",
       "  & <chr> & <chr> & <int>\\\\\n",
       "\\hline\n",
       "\t1 & 2022-01 & Newfoundland and Labrador & 132480\\\\\n",
       "\t2 & 2022-02 & Newfoundland and Labrador &  81776\\\\\n",
       "\t3 & 2022-03 & Newfoundland and Labrador &  44268\\\\\n",
       "\t4 & 2022-04 & Newfoundland and Labrador &  77160\\\\\n",
       "\t5 & 2022-05 & Newfoundland and Labrador & 119265\\\\\n",
       "\t6 & 2022-06 & Newfoundland and Labrador &  46353\\\\\n",
       "\\end{tabular}\n"
      ],
      "text/markdown": [
       "\n",
       "A data.frame: 6 × 3\n",
       "\n",
       "| <!--/--> | REF_DATE &lt;chr&gt; | GEO &lt;chr&gt; | VALUE &lt;int&gt; |\n",
       "|---|---|---|---|\n",
       "| 1 | 2022-01 | Newfoundland and Labrador | 132480 |\n",
       "| 2 | 2022-02 | Newfoundland and Labrador |  81776 |\n",
       "| 3 | 2022-03 | Newfoundland and Labrador |  44268 |\n",
       "| 4 | 2022-04 | Newfoundland and Labrador |  77160 |\n",
       "| 5 | 2022-05 | Newfoundland and Labrador | 119265 |\n",
       "| 6 | 2022-06 | Newfoundland and Labrador |  46353 |\n",
       "\n"
      ],
      "text/plain": [
       "  REF_DATE GEO                       VALUE \n",
       "1 2022-01  Newfoundland and Labrador 132480\n",
       "2 2022-02  Newfoundland and Labrador  81776\n",
       "3 2022-03  Newfoundland and Labrador  44268\n",
       "4 2022-04  Newfoundland and Labrador  77160\n",
       "5 2022-05  Newfoundland and Labrador 119265\n",
       "6 2022-06  Newfoundland and Labrador  46353"
      ]
     },
     "metadata": {},
     "output_type": "display_data"
    }
   ],
   "source": [
    "oil <- read.csv(\"data/raw/oil.csv\")\n",
    "oil <- oil[, c(\"REF_DATE\", \"GEO\", \"VALUE\")]\n",
    "\n",
    "write.csv(oil, \"data/clean/oil.csv\", row.names = FALSE)\n",
    "\n",
    "head(oil)"
   ]
  },
  {
   "cell_type": "markdown",
   "metadata": {},
   "source": [
    "## Manufacturing"
   ]
  },
  {
   "cell_type": "code",
   "execution_count": 42,
   "metadata": {
    "vscode": {
     "languageId": "r"
    }
   },
   "outputs": [
    {
     "data": {
      "text/html": [
       "<table class=\"dataframe\">\n",
       "<caption>A data.frame: 6 × 3</caption>\n",
       "<thead>\n",
       "\t<tr><th></th><th scope=col>REF_DATE</th><th scope=col>GEO</th><th scope=col>VALUE</th></tr>\n",
       "\t<tr><th></th><th scope=col>&lt;chr&gt;</th><th scope=col>&lt;chr&gt;</th><th scope=col>&lt;int&gt;</th></tr>\n",
       "</thead>\n",
       "<tbody>\n",
       "\t<tr><th scope=row>1</th><td>2022-01</td><td>Newfoundland and Labrador</td><td>264436</td></tr>\n",
       "\t<tr><th scope=row>2</th><td>2022-02</td><td>Newfoundland and Labrador</td><td>304927</td></tr>\n",
       "\t<tr><th scope=row>3</th><td>2022-03</td><td>Newfoundland and Labrador</td><td>353745</td></tr>\n",
       "\t<tr><th scope=row>4</th><td>2022-04</td><td>Newfoundland and Labrador</td><td>346772</td></tr>\n",
       "\t<tr><th scope=row>5</th><td>2022-05</td><td>Newfoundland and Labrador</td><td>409908</td></tr>\n",
       "\t<tr><th scope=row>6</th><td>2022-06</td><td>Newfoundland and Labrador</td><td>335747</td></tr>\n",
       "</tbody>\n",
       "</table>\n"
      ],
      "text/latex": [
       "A data.frame: 6 × 3\n",
       "\\begin{tabular}{r|lll}\n",
       "  & REF\\_DATE & GEO & VALUE\\\\\n",
       "  & <chr> & <chr> & <int>\\\\\n",
       "\\hline\n",
       "\t1 & 2022-01 & Newfoundland and Labrador & 264436\\\\\n",
       "\t2 & 2022-02 & Newfoundland and Labrador & 304927\\\\\n",
       "\t3 & 2022-03 & Newfoundland and Labrador & 353745\\\\\n",
       "\t4 & 2022-04 & Newfoundland and Labrador & 346772\\\\\n",
       "\t5 & 2022-05 & Newfoundland and Labrador & 409908\\\\\n",
       "\t6 & 2022-06 & Newfoundland and Labrador & 335747\\\\\n",
       "\\end{tabular}\n"
      ],
      "text/markdown": [
       "\n",
       "A data.frame: 6 × 3\n",
       "\n",
       "| <!--/--> | REF_DATE &lt;chr&gt; | GEO &lt;chr&gt; | VALUE &lt;int&gt; |\n",
       "|---|---|---|---|\n",
       "| 1 | 2022-01 | Newfoundland and Labrador | 264436 |\n",
       "| 2 | 2022-02 | Newfoundland and Labrador | 304927 |\n",
       "| 3 | 2022-03 | Newfoundland and Labrador | 353745 |\n",
       "| 4 | 2022-04 | Newfoundland and Labrador | 346772 |\n",
       "| 5 | 2022-05 | Newfoundland and Labrador | 409908 |\n",
       "| 6 | 2022-06 | Newfoundland and Labrador | 335747 |\n",
       "\n"
      ],
      "text/plain": [
       "  REF_DATE GEO                       VALUE \n",
       "1 2022-01  Newfoundland and Labrador 264436\n",
       "2 2022-02  Newfoundland and Labrador 304927\n",
       "3 2022-03  Newfoundland and Labrador 353745\n",
       "4 2022-04  Newfoundland and Labrador 346772\n",
       "5 2022-05  Newfoundland and Labrador 409908\n",
       "6 2022-06  Newfoundland and Labrador 335747"
      ]
     },
     "metadata": {},
     "output_type": "display_data"
    }
   ],
   "source": [
    "manufac <- read.csv(\"data/raw/manufac.csv\")\n",
    "\n",
    "manufac <- manufac[, c(\"REF_DATE\", \"GEO\", \"VALUE\")]\n",
    "\n",
    "write.csv(manufac, \"data/clean/manufac.csv\", row.names = FALSE)\n",
    "\n",
    "head(manufac)"
   ]
  },
  {
   "cell_type": "markdown",
   "metadata": {},
   "source": [
    "## Food"
   ]
  },
  {
   "cell_type": "code",
   "execution_count": 43,
   "metadata": {
    "vscode": {
     "languageId": "r"
    }
   },
   "outputs": [
    {
     "data": {
      "text/html": [
       "<table class=\"dataframe\">\n",
       "<caption>A data.frame: 6 × 3</caption>\n",
       "<thead>\n",
       "\t<tr><th></th><th scope=col>REF_DATE</th><th scope=col>GEO</th><th scope=col>VALUE</th></tr>\n",
       "\t<tr><th></th><th scope=col>&lt;chr&gt;</th><th scope=col>&lt;chr&gt;</th><th scope=col>&lt;int&gt;</th></tr>\n",
       "</thead>\n",
       "<tbody>\n",
       "\t<tr><th scope=row>1</th><td>2022-01</td><td>Newfoundland and Labrador</td><td>64729</td></tr>\n",
       "\t<tr><th scope=row>2</th><td>2022-02</td><td>Newfoundland and Labrador</td><td>73373</td></tr>\n",
       "\t<tr><th scope=row>3</th><td>2022-03</td><td>Newfoundland and Labrador</td><td>75167</td></tr>\n",
       "\t<tr><th scope=row>4</th><td>2022-04</td><td>Newfoundland and Labrador</td><td>78292</td></tr>\n",
       "\t<tr><th scope=row>5</th><td>2022-05</td><td>Newfoundland and Labrador</td><td>75795</td></tr>\n",
       "\t<tr><th scope=row>6</th><td>2022-06</td><td>Newfoundland and Labrador</td><td>76517</td></tr>\n",
       "</tbody>\n",
       "</table>\n"
      ],
      "text/latex": [
       "A data.frame: 6 × 3\n",
       "\\begin{tabular}{r|lll}\n",
       "  & REF\\_DATE & GEO & VALUE\\\\\n",
       "  & <chr> & <chr> & <int>\\\\\n",
       "\\hline\n",
       "\t1 & 2022-01 & Newfoundland and Labrador & 64729\\\\\n",
       "\t2 & 2022-02 & Newfoundland and Labrador & 73373\\\\\n",
       "\t3 & 2022-03 & Newfoundland and Labrador & 75167\\\\\n",
       "\t4 & 2022-04 & Newfoundland and Labrador & 78292\\\\\n",
       "\t5 & 2022-05 & Newfoundland and Labrador & 75795\\\\\n",
       "\t6 & 2022-06 & Newfoundland and Labrador & 76517\\\\\n",
       "\\end{tabular}\n"
      ],
      "text/markdown": [
       "\n",
       "A data.frame: 6 × 3\n",
       "\n",
       "| <!--/--> | REF_DATE &lt;chr&gt; | GEO &lt;chr&gt; | VALUE &lt;int&gt; |\n",
       "|---|---|---|---|\n",
       "| 1 | 2022-01 | Newfoundland and Labrador | 64729 |\n",
       "| 2 | 2022-02 | Newfoundland and Labrador | 73373 |\n",
       "| 3 | 2022-03 | Newfoundland and Labrador | 75167 |\n",
       "| 4 | 2022-04 | Newfoundland and Labrador | 78292 |\n",
       "| 5 | 2022-05 | Newfoundland and Labrador | 75795 |\n",
       "| 6 | 2022-06 | Newfoundland and Labrador | 76517 |\n",
       "\n"
      ],
      "text/plain": [
       "  REF_DATE GEO                       VALUE\n",
       "1 2022-01  Newfoundland and Labrador 64729\n",
       "2 2022-02  Newfoundland and Labrador 73373\n",
       "3 2022-03  Newfoundland and Labrador 75167\n",
       "4 2022-04  Newfoundland and Labrador 78292\n",
       "5 2022-05  Newfoundland and Labrador 75795\n",
       "6 2022-06  Newfoundland and Labrador 76517"
      ]
     },
     "metadata": {},
     "output_type": "display_data"
    }
   ],
   "source": [
    "food <- read.csv(\"data/raw/food.csv\")\n",
    "\n",
    "food <- food[, c(\"REF_DATE\", \"GEO\", \"VALUE\")]\n",
    "\n",
    "write.csv(food, \"data/clean/food.csv\", row.names = FALSE)\n",
    "\n",
    "head(food)"
   ]
  },
  {
   "cell_type": "code",
   "execution_count": null,
   "metadata": {
    "vscode": {
     "languageId": "r"
    }
   },
   "outputs": [],
   "source": []
  }
 ],
 "metadata": {
  "kernelspec": {
   "display_name": "R",
   "language": "R",
   "name": "ir"
  },
  "language_info": {
   "codemirror_mode": "r",
   "file_extension": ".r",
   "mimetype": "text/x-r-source",
   "name": "R",
   "pygments_lexer": "r",
   "version": "4.2.3"
  }
 },
 "nbformat": 4,
 "nbformat_minor": 2
}
