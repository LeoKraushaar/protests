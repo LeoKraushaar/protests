{
 "cells": [
  {
   "cell_type": "code",
   "execution_count": 2,
   "metadata": {
    "vscode": {
     "languageId": "r"
    }
   },
   "outputs": [],
   "source": [
    "# Change to directory with data\n",
    "setwd(\"/home/leoKraushaar/Documents/School/Year 3/Semester 2/STAT 413/Project/protests/\")"
   ]
  },
  {
   "cell_type": "markdown",
   "metadata": {},
   "source": [
    "## Retail"
   ]
  },
  {
   "cell_type": "code",
   "execution_count": 5,
   "metadata": {
    "vscode": {
     "languageId": "r"
    }
   },
   "outputs": [
    {
     "data": {
      "text/html": [
       "<table class=\"dataframe\">\n",
       "<caption>A data.frame: 6 × 18</caption>\n",
       "<thead>\n",
       "\t<tr><th></th><th scope=col>REF_DATE</th><th scope=col>GEO</th><th scope=col>DGUID</th><th scope=col>North.American.Industry.Classification.System..NAICS.</th><th scope=col>Sales</th><th scope=col>Adjustments</th><th scope=col>Release</th><th scope=col>UOM</th><th scope=col>UOM_ID</th><th scope=col>SCALAR_FACTOR</th><th scope=col>SCALAR_ID</th><th scope=col>VECTOR</th><th scope=col>COORDINATE</th><th scope=col>VALUE</th><th scope=col>STATUS</th><th scope=col>SYMBOL</th><th scope=col>TERMINATED</th><th scope=col>DECIMALS</th></tr>\n",
       "\t<tr><th></th><th scope=col>&lt;chr&gt;</th><th scope=col>&lt;chr&gt;</th><th scope=col>&lt;chr&gt;</th><th scope=col>&lt;chr&gt;</th><th scope=col>&lt;chr&gt;</th><th scope=col>&lt;chr&gt;</th><th scope=col>&lt;chr&gt;</th><th scope=col>&lt;chr&gt;</th><th scope=col>&lt;int&gt;</th><th scope=col>&lt;chr&gt;</th><th scope=col>&lt;int&gt;</th><th scope=col>&lt;chr&gt;</th><th scope=col>&lt;chr&gt;</th><th scope=col>&lt;int&gt;</th><th scope=col>&lt;chr&gt;</th><th scope=col>&lt;lgl&gt;</th><th scope=col>&lt;lgl&gt;</th><th scope=col>&lt;int&gt;</th></tr>\n",
       "</thead>\n",
       "<tbody>\n",
       "\t<tr><th scope=row>1</th><td>2022-01</td><td>Newfoundland and Labrador</td><td>2016A000210</td><td>Retail trade [44-45]</td><td>Total retail sales</td><td>Seasonally adjusted</td><td>January 19, 2024</td><td>Dollars</td><td>81</td><td>thousands</td><td>3</td><td>v1579556174</td><td>2.1.1.2.11</td><td>927147</td><td></td><td>NA</td><td>NA</td><td>0</td></tr>\n",
       "\t<tr><th scope=row>2</th><td>2022-02</td><td>Newfoundland and Labrador</td><td>2016A000210</td><td>Retail trade [44-45]</td><td>Total retail sales</td><td>Seasonally adjusted</td><td>January 19, 2024</td><td>Dollars</td><td>81</td><td>thousands</td><td>3</td><td>v1579556174</td><td>2.1.1.2.11</td><td>903733</td><td></td><td>NA</td><td>NA</td><td>0</td></tr>\n",
       "\t<tr><th scope=row>3</th><td>2022-03</td><td>Newfoundland and Labrador</td><td>2016A000210</td><td>Retail trade [44-45]</td><td>Total retail sales</td><td>Seasonally adjusted</td><td>January 19, 2024</td><td>Dollars</td><td>81</td><td>thousands</td><td>3</td><td>v1579556174</td><td>2.1.1.2.11</td><td>915525</td><td></td><td>NA</td><td>NA</td><td>0</td></tr>\n",
       "\t<tr><th scope=row>4</th><td>2022-04</td><td>Newfoundland and Labrador</td><td>2016A000210</td><td>Retail trade [44-45]</td><td>Total retail sales</td><td>Seasonally adjusted</td><td>January 19, 2024</td><td>Dollars</td><td>81</td><td>thousands</td><td>3</td><td>v1579556174</td><td>2.1.1.2.11</td><td>920444</td><td></td><td>NA</td><td>NA</td><td>0</td></tr>\n",
       "\t<tr><th scope=row>5</th><td>2022-05</td><td>Newfoundland and Labrador</td><td>2016A000210</td><td>Retail trade [44-45]</td><td>Total retail sales</td><td>Seasonally adjusted</td><td>January 19, 2024</td><td>Dollars</td><td>81</td><td>thousands</td><td>3</td><td>v1579556174</td><td>2.1.1.2.11</td><td>934566</td><td></td><td>NA</td><td>NA</td><td>0</td></tr>\n",
       "\t<tr><th scope=row>6</th><td>2022-06</td><td>Newfoundland and Labrador</td><td>2016A000210</td><td>Retail trade [44-45]</td><td>Total retail sales</td><td>Seasonally adjusted</td><td>January 19, 2024</td><td>Dollars</td><td>81</td><td>thousands</td><td>3</td><td>v1579556174</td><td>2.1.1.2.11</td><td>913765</td><td></td><td>NA</td><td>NA</td><td>0</td></tr>\n",
       "</tbody>\n",
       "</table>\n"
      ],
      "text/latex": [
       "A data.frame: 6 × 18\n",
       "\\begin{tabular}{r|llllllllllllllllll}\n",
       "  & REF\\_DATE & GEO & DGUID & North.American.Industry.Classification.System..NAICS. & Sales & Adjustments & Release & UOM & UOM\\_ID & SCALAR\\_FACTOR & SCALAR\\_ID & VECTOR & COORDINATE & VALUE & STATUS & SYMBOL & TERMINATED & DECIMALS\\\\\n",
       "  & <chr> & <chr> & <chr> & <chr> & <chr> & <chr> & <chr> & <chr> & <int> & <chr> & <int> & <chr> & <chr> & <int> & <chr> & <lgl> & <lgl> & <int>\\\\\n",
       "\\hline\n",
       "\t1 & 2022-01 & Newfoundland and Labrador & 2016A000210 & Retail trade {[}44-45{]} & Total retail sales & Seasonally adjusted & January 19, 2024 & Dollars & 81 & thousands & 3 & v1579556174 & 2.1.1.2.11 & 927147 &  & NA & NA & 0\\\\\n",
       "\t2 & 2022-02 & Newfoundland and Labrador & 2016A000210 & Retail trade {[}44-45{]} & Total retail sales & Seasonally adjusted & January 19, 2024 & Dollars & 81 & thousands & 3 & v1579556174 & 2.1.1.2.11 & 903733 &  & NA & NA & 0\\\\\n",
       "\t3 & 2022-03 & Newfoundland and Labrador & 2016A000210 & Retail trade {[}44-45{]} & Total retail sales & Seasonally adjusted & January 19, 2024 & Dollars & 81 & thousands & 3 & v1579556174 & 2.1.1.2.11 & 915525 &  & NA & NA & 0\\\\\n",
       "\t4 & 2022-04 & Newfoundland and Labrador & 2016A000210 & Retail trade {[}44-45{]} & Total retail sales & Seasonally adjusted & January 19, 2024 & Dollars & 81 & thousands & 3 & v1579556174 & 2.1.1.2.11 & 920444 &  & NA & NA & 0\\\\\n",
       "\t5 & 2022-05 & Newfoundland and Labrador & 2016A000210 & Retail trade {[}44-45{]} & Total retail sales & Seasonally adjusted & January 19, 2024 & Dollars & 81 & thousands & 3 & v1579556174 & 2.1.1.2.11 & 934566 &  & NA & NA & 0\\\\\n",
       "\t6 & 2022-06 & Newfoundland and Labrador & 2016A000210 & Retail trade {[}44-45{]} & Total retail sales & Seasonally adjusted & January 19, 2024 & Dollars & 81 & thousands & 3 & v1579556174 & 2.1.1.2.11 & 913765 &  & NA & NA & 0\\\\\n",
       "\\end{tabular}\n"
      ],
      "text/markdown": [
       "\n",
       "A data.frame: 6 × 18\n",
       "\n",
       "| <!--/--> | REF_DATE &lt;chr&gt; | GEO &lt;chr&gt; | DGUID &lt;chr&gt; | North.American.Industry.Classification.System..NAICS. &lt;chr&gt; | Sales &lt;chr&gt; | Adjustments &lt;chr&gt; | Release &lt;chr&gt; | UOM &lt;chr&gt; | UOM_ID &lt;int&gt; | SCALAR_FACTOR &lt;chr&gt; | SCALAR_ID &lt;int&gt; | VECTOR &lt;chr&gt; | COORDINATE &lt;chr&gt; | VALUE &lt;int&gt; | STATUS &lt;chr&gt; | SYMBOL &lt;lgl&gt; | TERMINATED &lt;lgl&gt; | DECIMALS &lt;int&gt; |\n",
       "|---|---|---|---|---|---|---|---|---|---|---|---|---|---|---|---|---|---|---|\n",
       "| 1 | 2022-01 | Newfoundland and Labrador | 2016A000210 | Retail trade [44-45] | Total retail sales | Seasonally adjusted | January 19, 2024 | Dollars | 81 | thousands | 3 | v1579556174 | 2.1.1.2.11 | 927147 | <!----> | NA | NA | 0 |\n",
       "| 2 | 2022-02 | Newfoundland and Labrador | 2016A000210 | Retail trade [44-45] | Total retail sales | Seasonally adjusted | January 19, 2024 | Dollars | 81 | thousands | 3 | v1579556174 | 2.1.1.2.11 | 903733 | <!----> | NA | NA | 0 |\n",
       "| 3 | 2022-03 | Newfoundland and Labrador | 2016A000210 | Retail trade [44-45] | Total retail sales | Seasonally adjusted | January 19, 2024 | Dollars | 81 | thousands | 3 | v1579556174 | 2.1.1.2.11 | 915525 | <!----> | NA | NA | 0 |\n",
       "| 4 | 2022-04 | Newfoundland and Labrador | 2016A000210 | Retail trade [44-45] | Total retail sales | Seasonally adjusted | January 19, 2024 | Dollars | 81 | thousands | 3 | v1579556174 | 2.1.1.2.11 | 920444 | <!----> | NA | NA | 0 |\n",
       "| 5 | 2022-05 | Newfoundland and Labrador | 2016A000210 | Retail trade [44-45] | Total retail sales | Seasonally adjusted | January 19, 2024 | Dollars | 81 | thousands | 3 | v1579556174 | 2.1.1.2.11 | 934566 | <!----> | NA | NA | 0 |\n",
       "| 6 | 2022-06 | Newfoundland and Labrador | 2016A000210 | Retail trade [44-45] | Total retail sales | Seasonally adjusted | January 19, 2024 | Dollars | 81 | thousands | 3 | v1579556174 | 2.1.1.2.11 | 913765 | <!----> | NA | NA | 0 |\n",
       "\n"
      ],
      "text/plain": [
       "  REF_DATE GEO                       DGUID      \n",
       "1 2022-01  Newfoundland and Labrador 2016A000210\n",
       "2 2022-02  Newfoundland and Labrador 2016A000210\n",
       "3 2022-03  Newfoundland and Labrador 2016A000210\n",
       "4 2022-04  Newfoundland and Labrador 2016A000210\n",
       "5 2022-05  Newfoundland and Labrador 2016A000210\n",
       "6 2022-06  Newfoundland and Labrador 2016A000210\n",
       "  North.American.Industry.Classification.System..NAICS. Sales             \n",
       "1 Retail trade [44-45]                                  Total retail sales\n",
       "2 Retail trade [44-45]                                  Total retail sales\n",
       "3 Retail trade [44-45]                                  Total retail sales\n",
       "4 Retail trade [44-45]                                  Total retail sales\n",
       "5 Retail trade [44-45]                                  Total retail sales\n",
       "6 Retail trade [44-45]                                  Total retail sales\n",
       "  Adjustments         Release          UOM     UOM_ID SCALAR_FACTOR SCALAR_ID\n",
       "1 Seasonally adjusted January 19, 2024 Dollars 81     thousands     3        \n",
       "2 Seasonally adjusted January 19, 2024 Dollars 81     thousands     3        \n",
       "3 Seasonally adjusted January 19, 2024 Dollars 81     thousands     3        \n",
       "4 Seasonally adjusted January 19, 2024 Dollars 81     thousands     3        \n",
       "5 Seasonally adjusted January 19, 2024 Dollars 81     thousands     3        \n",
       "6 Seasonally adjusted January 19, 2024 Dollars 81     thousands     3        \n",
       "  VECTOR      COORDINATE VALUE  STATUS SYMBOL TERMINATED DECIMALS\n",
       "1 v1579556174 2.1.1.2.11 927147        NA     NA         0       \n",
       "2 v1579556174 2.1.1.2.11 903733        NA     NA         0       \n",
       "3 v1579556174 2.1.1.2.11 915525        NA     NA         0       \n",
       "4 v1579556174 2.1.1.2.11 920444        NA     NA         0       \n",
       "5 v1579556174 2.1.1.2.11 934566        NA     NA         0       \n",
       "6 v1579556174 2.1.1.2.11 913765        NA     NA         0       "
      ]
     },
     "metadata": {},
     "output_type": "display_data"
    }
   ],
   "source": [
    "retail <- read.csv(\"data/raw/retail.csv\")\n",
    "# retail <- retail[, c(\"REF_DATE\", \"GEO\", \"VALUE\")]\n",
    "\n",
    "# write.csv(retail, \"data/clean/retail.csv\", row.names = FALSE)\n",
    "\n",
    "head(retail)"
   ]
  },
  {
   "cell_type": "code",
   "execution_count": 4,
   "metadata": {
    "vscode": {
     "languageId": "r"
    }
   },
   "outputs": [
    {
     "data": {
      "text/html": [
       "<style>\n",
       ".list-inline {list-style: none; margin:0; padding: 0}\n",
       ".list-inline>li {display: inline-block}\n",
       ".list-inline>li:not(:last-child)::after {content: \"\\00b7\"; padding: 0 .5ex}\n",
       "</style>\n",
       "<ol class=list-inline><li>1495</li><li>3</li></ol>\n"
      ],
      "text/latex": [
       "\\begin{enumerate*}\n",
       "\\item 1495\n",
       "\\item 3\n",
       "\\end{enumerate*}\n"
      ],
      "text/markdown": [
       "1. 1495\n",
       "2. 3\n",
       "\n",
       "\n"
      ],
      "text/plain": [
       "[1] 1495    3"
      ]
     },
     "metadata": {},
     "output_type": "display_data"
    }
   ],
   "source": [
    "dim(retail)"
   ]
  },
  {
   "cell_type": "markdown",
   "metadata": {},
   "source": [
    "## Power"
   ]
  },
  {
   "cell_type": "code",
   "execution_count": 39,
   "metadata": {
    "vscode": {
     "languageId": "r"
    }
   },
   "outputs": [
    {
     "data": {
      "text/html": [
       "<table class=\"dataframe\">\n",
       "<caption>A data.frame: 6 × 4</caption>\n",
       "<thead>\n",
       "\t<tr><th></th><th scope=col>REF_DATE</th><th scope=col>GEO</th><th scope=col>Electric.power..components</th><th scope=col>VALUE</th></tr>\n",
       "\t<tr><th></th><th scope=col>&lt;chr&gt;</th><th scope=col>&lt;chr&gt;</th><th scope=col>&lt;chr&gt;</th><th scope=col>&lt;int&gt;</th></tr>\n",
       "</thead>\n",
       "<tbody>\n",
       "\t<tr><th scope=row>1</th><td>2022-01</td><td>Newfoundland and Labrador</td><td>Total generation</td><td>4501677</td></tr>\n",
       "\t<tr><th scope=row>2</th><td>2022-02</td><td>Newfoundland and Labrador</td><td>Total generation</td><td>4119837</td></tr>\n",
       "\t<tr><th scope=row>3</th><td>2022-03</td><td>Newfoundland and Labrador</td><td>Total generation</td><td>4202358</td></tr>\n",
       "\t<tr><th scope=row>4</th><td>2022-04</td><td>Newfoundland and Labrador</td><td>Total generation</td><td>3356896</td></tr>\n",
       "\t<tr><th scope=row>5</th><td>2022-05</td><td>Newfoundland and Labrador</td><td>Total generation</td><td>2939704</td></tr>\n",
       "\t<tr><th scope=row>6</th><td>2022-06</td><td>Newfoundland and Labrador</td><td>Total generation</td><td>2822154</td></tr>\n",
       "</tbody>\n",
       "</table>\n"
      ],
      "text/latex": [
       "A data.frame: 6 × 4\n",
       "\\begin{tabular}{r|llll}\n",
       "  & REF\\_DATE & GEO & Electric.power..components & VALUE\\\\\n",
       "  & <chr> & <chr> & <chr> & <int>\\\\\n",
       "\\hline\n",
       "\t1 & 2022-01 & Newfoundland and Labrador & Total generation & 4501677\\\\\n",
       "\t2 & 2022-02 & Newfoundland and Labrador & Total generation & 4119837\\\\\n",
       "\t3 & 2022-03 & Newfoundland and Labrador & Total generation & 4202358\\\\\n",
       "\t4 & 2022-04 & Newfoundland and Labrador & Total generation & 3356896\\\\\n",
       "\t5 & 2022-05 & Newfoundland and Labrador & Total generation & 2939704\\\\\n",
       "\t6 & 2022-06 & Newfoundland and Labrador & Total generation & 2822154\\\\\n",
       "\\end{tabular}\n"
      ],
      "text/markdown": [
       "\n",
       "A data.frame: 6 × 4\n",
       "\n",
       "| <!--/--> | REF_DATE &lt;chr&gt; | GEO &lt;chr&gt; | Electric.power..components &lt;chr&gt; | VALUE &lt;int&gt; |\n",
       "|---|---|---|---|---|\n",
       "| 1 | 2022-01 | Newfoundland and Labrador | Total generation | 4501677 |\n",
       "| 2 | 2022-02 | Newfoundland and Labrador | Total generation | 4119837 |\n",
       "| 3 | 2022-03 | Newfoundland and Labrador | Total generation | 4202358 |\n",
       "| 4 | 2022-04 | Newfoundland and Labrador | Total generation | 3356896 |\n",
       "| 5 | 2022-05 | Newfoundland and Labrador | Total generation | 2939704 |\n",
       "| 6 | 2022-06 | Newfoundland and Labrador | Total generation | 2822154 |\n",
       "\n"
      ],
      "text/plain": [
       "  REF_DATE GEO                       Electric.power..components VALUE  \n",
       "1 2022-01  Newfoundland and Labrador Total generation           4501677\n",
       "2 2022-02  Newfoundland and Labrador Total generation           4119837\n",
       "3 2022-03  Newfoundland and Labrador Total generation           4202358\n",
       "4 2022-04  Newfoundland and Labrador Total generation           3356896\n",
       "5 2022-05  Newfoundland and Labrador Total generation           2939704\n",
       "6 2022-06  Newfoundland and Labrador Total generation           2822154"
      ]
     },
     "metadata": {},
     "output_type": "display_data"
    }
   ],
   "source": [
    "power <- read.csv(\"data/raw/power.csv\")\n",
    "power <- power[, c(\"REF_DATE\", \"GEO\", \"Electric.power..components\", \"VALUE\")]\n",
    "\n",
    "write.csv(power, \"data/clean/power.csv\", row.names = FALSE)\n",
    "\n",
    "head(power)"
   ]
  },
  {
   "cell_type": "markdown",
   "metadata": {},
   "source": [
    "## Oil"
   ]
  },
  {
   "cell_type": "code",
   "execution_count": 40,
   "metadata": {
    "vscode": {
     "languageId": "r"
    }
   },
   "outputs": [
    {
     "data": {
      "text/html": [
       "<table class=\"dataframe\">\n",
       "<caption>A data.frame: 6 × 3</caption>\n",
       "<thead>\n",
       "\t<tr><th></th><th scope=col>REF_DATE</th><th scope=col>GEO</th><th scope=col>VALUE</th></tr>\n",
       "\t<tr><th></th><th scope=col>&lt;chr&gt;</th><th scope=col>&lt;chr&gt;</th><th scope=col>&lt;int&gt;</th></tr>\n",
       "</thead>\n",
       "<tbody>\n",
       "\t<tr><th scope=row>1</th><td>2022-01</td><td>Newfoundland and Labrador</td><td>132480</td></tr>\n",
       "\t<tr><th scope=row>2</th><td>2022-02</td><td>Newfoundland and Labrador</td><td> 81776</td></tr>\n",
       "\t<tr><th scope=row>3</th><td>2022-03</td><td>Newfoundland and Labrador</td><td> 44268</td></tr>\n",
       "\t<tr><th scope=row>4</th><td>2022-04</td><td>Newfoundland and Labrador</td><td> 77160</td></tr>\n",
       "\t<tr><th scope=row>5</th><td>2022-05</td><td>Newfoundland and Labrador</td><td>119265</td></tr>\n",
       "\t<tr><th scope=row>6</th><td>2022-06</td><td>Newfoundland and Labrador</td><td> 46353</td></tr>\n",
       "</tbody>\n",
       "</table>\n"
      ],
      "text/latex": [
       "A data.frame: 6 × 3\n",
       "\\begin{tabular}{r|lll}\n",
       "  & REF\\_DATE & GEO & VALUE\\\\\n",
       "  & <chr> & <chr> & <int>\\\\\n",
       "\\hline\n",
       "\t1 & 2022-01 & Newfoundland and Labrador & 132480\\\\\n",
       "\t2 & 2022-02 & Newfoundland and Labrador &  81776\\\\\n",
       "\t3 & 2022-03 & Newfoundland and Labrador &  44268\\\\\n",
       "\t4 & 2022-04 & Newfoundland and Labrador &  77160\\\\\n",
       "\t5 & 2022-05 & Newfoundland and Labrador & 119265\\\\\n",
       "\t6 & 2022-06 & Newfoundland and Labrador &  46353\\\\\n",
       "\\end{tabular}\n"
      ],
      "text/markdown": [
       "\n",
       "A data.frame: 6 × 3\n",
       "\n",
       "| <!--/--> | REF_DATE &lt;chr&gt; | GEO &lt;chr&gt; | VALUE &lt;int&gt; |\n",
       "|---|---|---|---|\n",
       "| 1 | 2022-01 | Newfoundland and Labrador | 132480 |\n",
       "| 2 | 2022-02 | Newfoundland and Labrador |  81776 |\n",
       "| 3 | 2022-03 | Newfoundland and Labrador |  44268 |\n",
       "| 4 | 2022-04 | Newfoundland and Labrador |  77160 |\n",
       "| 5 | 2022-05 | Newfoundland and Labrador | 119265 |\n",
       "| 6 | 2022-06 | Newfoundland and Labrador |  46353 |\n",
       "\n"
      ],
      "text/plain": [
       "  REF_DATE GEO                       VALUE \n",
       "1 2022-01  Newfoundland and Labrador 132480\n",
       "2 2022-02  Newfoundland and Labrador  81776\n",
       "3 2022-03  Newfoundland and Labrador  44268\n",
       "4 2022-04  Newfoundland and Labrador  77160\n",
       "5 2022-05  Newfoundland and Labrador 119265\n",
       "6 2022-06  Newfoundland and Labrador  46353"
      ]
     },
     "metadata": {},
     "output_type": "display_data"
    }
   ],
   "source": [
    "oil <- read.csv(\"data/raw/oil.csv\")\n",
    "oil <- oil[, c(\"REF_DATE\", \"GEO\", \"VALUE\")]\n",
    "\n",
    "write.csv(oil, \"data/clean/oil.csv\", row.names = FALSE)\n",
    "\n",
    "head(oil)"
   ]
  },
  {
   "cell_type": "markdown",
   "metadata": {},
   "source": [
    "## Manufacturing"
   ]
  },
  {
   "cell_type": "code",
   "execution_count": 42,
   "metadata": {
    "vscode": {
     "languageId": "r"
    }
   },
   "outputs": [
    {
     "data": {
      "text/html": [
       "<table class=\"dataframe\">\n",
       "<caption>A data.frame: 6 × 3</caption>\n",
       "<thead>\n",
       "\t<tr><th></th><th scope=col>REF_DATE</th><th scope=col>GEO</th><th scope=col>VALUE</th></tr>\n",
       "\t<tr><th></th><th scope=col>&lt;chr&gt;</th><th scope=col>&lt;chr&gt;</th><th scope=col>&lt;int&gt;</th></tr>\n",
       "</thead>\n",
       "<tbody>\n",
       "\t<tr><th scope=row>1</th><td>2022-01</td><td>Newfoundland and Labrador</td><td>264436</td></tr>\n",
       "\t<tr><th scope=row>2</th><td>2022-02</td><td>Newfoundland and Labrador</td><td>304927</td></tr>\n",
       "\t<tr><th scope=row>3</th><td>2022-03</td><td>Newfoundland and Labrador</td><td>353745</td></tr>\n",
       "\t<tr><th scope=row>4</th><td>2022-04</td><td>Newfoundland and Labrador</td><td>346772</td></tr>\n",
       "\t<tr><th scope=row>5</th><td>2022-05</td><td>Newfoundland and Labrador</td><td>409908</td></tr>\n",
       "\t<tr><th scope=row>6</th><td>2022-06</td><td>Newfoundland and Labrador</td><td>335747</td></tr>\n",
       "</tbody>\n",
       "</table>\n"
      ],
      "text/latex": [
       "A data.frame: 6 × 3\n",
       "\\begin{tabular}{r|lll}\n",
       "  & REF\\_DATE & GEO & VALUE\\\\\n",
       "  & <chr> & <chr> & <int>\\\\\n",
       "\\hline\n",
       "\t1 & 2022-01 & Newfoundland and Labrador & 264436\\\\\n",
       "\t2 & 2022-02 & Newfoundland and Labrador & 304927\\\\\n",
       "\t3 & 2022-03 & Newfoundland and Labrador & 353745\\\\\n",
       "\t4 & 2022-04 & Newfoundland and Labrador & 346772\\\\\n",
       "\t5 & 2022-05 & Newfoundland and Labrador & 409908\\\\\n",
       "\t6 & 2022-06 & Newfoundland and Labrador & 335747\\\\\n",
       "\\end{tabular}\n"
      ],
      "text/markdown": [
       "\n",
       "A data.frame: 6 × 3\n",
       "\n",
       "| <!--/--> | REF_DATE &lt;chr&gt; | GEO &lt;chr&gt; | VALUE &lt;int&gt; |\n",
       "|---|---|---|---|\n",
       "| 1 | 2022-01 | Newfoundland and Labrador | 264436 |\n",
       "| 2 | 2022-02 | Newfoundland and Labrador | 304927 |\n",
       "| 3 | 2022-03 | Newfoundland and Labrador | 353745 |\n",
       "| 4 | 2022-04 | Newfoundland and Labrador | 346772 |\n",
       "| 5 | 2022-05 | Newfoundland and Labrador | 409908 |\n",
       "| 6 | 2022-06 | Newfoundland and Labrador | 335747 |\n",
       "\n"
      ],
      "text/plain": [
       "  REF_DATE GEO                       VALUE \n",
       "1 2022-01  Newfoundland and Labrador 264436\n",
       "2 2022-02  Newfoundland and Labrador 304927\n",
       "3 2022-03  Newfoundland and Labrador 353745\n",
       "4 2022-04  Newfoundland and Labrador 346772\n",
       "5 2022-05  Newfoundland and Labrador 409908\n",
       "6 2022-06  Newfoundland and Labrador 335747"
      ]
     },
     "metadata": {},
     "output_type": "display_data"
    }
   ],
   "source": [
    "manufac <- read.csv(\"data/raw/manufac.csv\")\n",
    "\n",
    "manufac <- manufac[, c(\"REF_DATE\", \"GEO\", \"VALUE\")]\n",
    "\n",
    "write.csv(manufac, \"data/clean/manufac.csv\", row.names = FALSE)\n",
    "\n",
    "head(manufac)"
   ]
  },
  {
   "cell_type": "markdown",
   "metadata": {},
   "source": [
    "## Food"
   ]
  },
  {
   "cell_type": "code",
   "execution_count": 43,
   "metadata": {
    "vscode": {
     "languageId": "r"
    }
   },
   "outputs": [
    {
     "data": {
      "text/html": [
       "<table class=\"dataframe\">\n",
       "<caption>A data.frame: 6 × 3</caption>\n",
       "<thead>\n",
       "\t<tr><th></th><th scope=col>REF_DATE</th><th scope=col>GEO</th><th scope=col>VALUE</th></tr>\n",
       "\t<tr><th></th><th scope=col>&lt;chr&gt;</th><th scope=col>&lt;chr&gt;</th><th scope=col>&lt;int&gt;</th></tr>\n",
       "</thead>\n",
       "<tbody>\n",
       "\t<tr><th scope=row>1</th><td>2022-01</td><td>Newfoundland and Labrador</td><td>64729</td></tr>\n",
       "\t<tr><th scope=row>2</th><td>2022-02</td><td>Newfoundland and Labrador</td><td>73373</td></tr>\n",
       "\t<tr><th scope=row>3</th><td>2022-03</td><td>Newfoundland and Labrador</td><td>75167</td></tr>\n",
       "\t<tr><th scope=row>4</th><td>2022-04</td><td>Newfoundland and Labrador</td><td>78292</td></tr>\n",
       "\t<tr><th scope=row>5</th><td>2022-05</td><td>Newfoundland and Labrador</td><td>75795</td></tr>\n",
       "\t<tr><th scope=row>6</th><td>2022-06</td><td>Newfoundland and Labrador</td><td>76517</td></tr>\n",
       "</tbody>\n",
       "</table>\n"
      ],
      "text/latex": [
       "A data.frame: 6 × 3\n",
       "\\begin{tabular}{r|lll}\n",
       "  & REF\\_DATE & GEO & VALUE\\\\\n",
       "  & <chr> & <chr> & <int>\\\\\n",
       "\\hline\n",
       "\t1 & 2022-01 & Newfoundland and Labrador & 64729\\\\\n",
       "\t2 & 2022-02 & Newfoundland and Labrador & 73373\\\\\n",
       "\t3 & 2022-03 & Newfoundland and Labrador & 75167\\\\\n",
       "\t4 & 2022-04 & Newfoundland and Labrador & 78292\\\\\n",
       "\t5 & 2022-05 & Newfoundland and Labrador & 75795\\\\\n",
       "\t6 & 2022-06 & Newfoundland and Labrador & 76517\\\\\n",
       "\\end{tabular}\n"
      ],
      "text/markdown": [
       "\n",
       "A data.frame: 6 × 3\n",
       "\n",
       "| <!--/--> | REF_DATE &lt;chr&gt; | GEO &lt;chr&gt; | VALUE &lt;int&gt; |\n",
       "|---|---|---|---|\n",
       "| 1 | 2022-01 | Newfoundland and Labrador | 64729 |\n",
       "| 2 | 2022-02 | Newfoundland and Labrador | 73373 |\n",
       "| 3 | 2022-03 | Newfoundland and Labrador | 75167 |\n",
       "| 4 | 2022-04 | Newfoundland and Labrador | 78292 |\n",
       "| 5 | 2022-05 | Newfoundland and Labrador | 75795 |\n",
       "| 6 | 2022-06 | Newfoundland and Labrador | 76517 |\n",
       "\n"
      ],
      "text/plain": [
       "  REF_DATE GEO                       VALUE\n",
       "1 2022-01  Newfoundland and Labrador 64729\n",
       "2 2022-02  Newfoundland and Labrador 73373\n",
       "3 2022-03  Newfoundland and Labrador 75167\n",
       "4 2022-04  Newfoundland and Labrador 78292\n",
       "5 2022-05  Newfoundland and Labrador 75795\n",
       "6 2022-06  Newfoundland and Labrador 76517"
      ]
     },
     "metadata": {},
     "output_type": "display_data"
    }
   ],
   "source": [
    "food <- read.csv(\"data/raw/food.csv\")\n",
    "\n",
    "food <- food[, c(\"REF_DATE\", \"GEO\", \"VALUE\")]\n",
    "\n",
    "write.csv(food, \"data/clean/food.csv\", row.names = FALSE)\n",
    "\n",
    "head(food)"
   ]
  },
  {
   "cell_type": "markdown",
   "metadata": {},
   "source": [
    "## New Retail"
   ]
  },
  {
   "cell_type": "code",
   "execution_count": null,
   "metadata": {
    "vscode": {
     "languageId": "r"
    }
   },
   "outputs": [],
   "source": []
  }
 ],
 "metadata": {
  "kernelspec": {
   "display_name": "R",
   "language": "R",
   "name": "ir"
  },
  "language_info": {
   "codemirror_mode": "r",
   "file_extension": ".r",
   "mimetype": "text/x-r-source",
   "name": "R",
   "pygments_lexer": "r",
   "version": "4.2.3"
  }
 },
 "nbformat": 4,
 "nbformat_minor": 2
}
