{
 "cells": [
  {
   "cell_type": "markdown",
   "metadata": {},
   "source": [
    "## Part 3"
   ]
  },
  {
   "cell_type": "code",
   "execution_count": 2,
   "metadata": {
    "vscode": {
     "languageId": "r"
    }
   },
   "outputs": [],
   "source": [
    "setwd(\"/home/leoKraushaar/Documents/School/Year 3/Semester 2/STAT 413/Project/protests/\")\n",
    "set.seed(42)"
   ]
  },
  {
   "cell_type": "markdown",
   "metadata": {},
   "source": [
    "### Libraries"
   ]
  },
  {
   "cell_type": "code",
   "execution_count": 3,
   "metadata": {
    "vscode": {
     "languageId": "r"
    }
   },
   "outputs": [],
   "source": [
    "library(MASS)"
   ]
  },
  {
   "cell_type": "markdown",
   "metadata": {},
   "source": [
    "### Clean Data"
   ]
  },
  {
   "cell_type": "code",
   "execution_count": 4,
   "metadata": {
    "vscode": {
     "languageId": "r"
    }
   },
   "outputs": [],
   "source": [
    "data <- read.csv(\"data/merged_data.csv\")[, -1]\n",
    "data$food <- NULL\n",
    "data$manufac <- NULL"
   ]
  },
  {
   "cell_type": "code",
   "execution_count": 5,
   "metadata": {
    "vscode": {
     "languageId": "r"
    }
   },
   "outputs": [],
   "source": [
    "newMonth <- function(x) {\n",
    "    if (x %in% c(\"December\", \"January\", \"February\")) {\n",
    "        return(\"Winter\")\n",
    "    } else if (x %in% c(\"March\", \"April\", \"May\")) {\n",
    "        return(\"Spring\")\n",
    "    } else if (x %in% c(\"June\", \"July\", \"August\")) {\n",
    "        return(\"Summer\")\n",
    "    } else {\n",
    "        return(\"Fall\")\n",
    "    }\n",
    "}\n",
    "\n",
    "data$month <- sapply(data$month, newMonth)\n",
    "colnames(data)[2] <- \"season\""
   ]
  },
  {
   "cell_type": "code",
   "execution_count": 6,
   "metadata": {
    "vscode": {
     "languageId": "r"
    }
   },
   "outputs": [],
   "source": [
    "standardize <- function(x, mu, std) {\n",
    "    return((x-mu)/std)\n",
    "}\n",
    "\n",
    "# data$pop <- sapply(data$pop, function(x) standardize(x, mean(data$pop), sd(data$pop)))"
   ]
  },
  {
   "cell_type": "code",
   "execution_count": 7,
   "metadata": {
    "vscode": {
     "languageId": "r"
    }
   },
   "outputs": [],
   "source": [
    "colnames(data)[colnames(data) == \"GEO\"] <- \"prov\"\n",
    "\n",
    "data$prov  <- as.factor(data$prov)\n",
    "data$season <- as.factor(data$season)\n",
    "data$year <- as.factor(data$year)"
   ]
  },
  {
   "cell_type": "code",
   "execution_count": 8,
   "metadata": {
    "vscode": {
     "languageId": "r"
    }
   },
   "outputs": [],
   "source": [
    "data$retail <- sapply(data$retail, function(x) {standardize(x, mean(data$retail), sd(data$retail))})\n",
    "data$power <- sapply(data$power, function(x) {standardize(x, mean(data$power), sd(data$power))})\n",
    "# data$oil <- sapply(data$oil, function(x) {standardize(x, mean(data$oil), sd(data$oil))})"
   ]
  },
  {
   "cell_type": "code",
   "execution_count": 9,
   "metadata": {
    "vscode": {
     "languageId": "r"
    }
   },
   "outputs": [
    {
     "data": {
      "text/html": [
       "<table class=\"dataframe\">\n",
       "<caption>A data.frame: 6 × 8</caption>\n",
       "<thead>\n",
       "\t<tr><th></th><th scope=col>year</th><th scope=col>season</th><th scope=col>prov</th><th scope=col>pop</th><th scope=col>protests</th><th scope=col>retail</th><th scope=col>oil</th><th scope=col>power</th></tr>\n",
       "\t<tr><th></th><th scope=col>&lt;fct&gt;</th><th scope=col>&lt;fct&gt;</th><th scope=col>&lt;fct&gt;</th><th scope=col>&lt;int&gt;</th><th scope=col>&lt;int&gt;</th><th scope=col>&lt;dbl&gt;</th><th scope=col>&lt;int&gt;</th><th scope=col>&lt;dbl&gt;</th></tr>\n",
       "</thead>\n",
       "<tbody>\n",
       "\t<tr><th scope=row>1</th><td>2022</td><td>Spring</td><td>Alberta                  </td><td>4480956</td><td>17</td><td> 0.4154217</td><td> 3983</td><td> 0.4393113</td></tr>\n",
       "\t<tr><th scope=row>2</th><td>2022</td><td>Spring</td><td>British Columbia         </td><td>5310164</td><td>42</td><td> 0.5517610</td><td>77433</td><td> 0.2824956</td></tr>\n",
       "\t<tr><th scope=row>3</th><td>2022</td><td>Spring</td><td>Manitoba                 </td><td>1405197</td><td> 2</td><td>-0.4144921</td><td> 6290</td><td>-0.2989093</td></tr>\n",
       "\t<tr><th scope=row>4</th><td>2022</td><td>Spring</td><td>New Brunswick            </td><td> 801778</td><td> 5</td><td>-0.5188768</td><td> 1818</td><td>-0.4874573</td></tr>\n",
       "\t<tr><th scope=row>5</th><td>2022</td><td>Spring</td><td>Newfoundland and Labrador</td><td> 529249</td><td> 2</td><td>-0.5779367</td><td>77160</td><td>-0.5793902</td></tr>\n",
       "\t<tr><th scope=row>6</th><td>2022</td><td>Spring</td><td>Northwest Territories    </td><td>  44828</td><td> 0</td><td>-0.6965524</td><td>    0</td><td>-0.6980796</td></tr>\n",
       "</tbody>\n",
       "</table>\n"
      ],
      "text/latex": [
       "A data.frame: 6 × 8\n",
       "\\begin{tabular}{r|llllllll}\n",
       "  & year & season & prov & pop & protests & retail & oil & power\\\\\n",
       "  & <fct> & <fct> & <fct> & <int> & <int> & <dbl> & <int> & <dbl>\\\\\n",
       "\\hline\n",
       "\t1 & 2022 & Spring & Alberta                   & 4480956 & 17 &  0.4154217 &  3983 &  0.4393113\\\\\n",
       "\t2 & 2022 & Spring & British Columbia          & 5310164 & 42 &  0.5517610 & 77433 &  0.2824956\\\\\n",
       "\t3 & 2022 & Spring & Manitoba                  & 1405197 &  2 & -0.4144921 &  6290 & -0.2989093\\\\\n",
       "\t4 & 2022 & Spring & New Brunswick             &  801778 &  5 & -0.5188768 &  1818 & -0.4874573\\\\\n",
       "\t5 & 2022 & Spring & Newfoundland and Labrador &  529249 &  2 & -0.5779367 & 77160 & -0.5793902\\\\\n",
       "\t6 & 2022 & Spring & Northwest Territories     &   44828 &  0 & -0.6965524 &     0 & -0.6980796\\\\\n",
       "\\end{tabular}\n"
      ],
      "text/markdown": [
       "\n",
       "A data.frame: 6 × 8\n",
       "\n",
       "| <!--/--> | year &lt;fct&gt; | season &lt;fct&gt; | prov &lt;fct&gt; | pop &lt;int&gt; | protests &lt;int&gt; | retail &lt;dbl&gt; | oil &lt;int&gt; | power &lt;dbl&gt; |\n",
       "|---|---|---|---|---|---|---|---|---|\n",
       "| 1 | 2022 | Spring | Alberta                   | 4480956 | 17 |  0.4154217 |  3983 |  0.4393113 |\n",
       "| 2 | 2022 | Spring | British Columbia          | 5310164 | 42 |  0.5517610 | 77433 |  0.2824956 |\n",
       "| 3 | 2022 | Spring | Manitoba                  | 1405197 |  2 | -0.4144921 |  6290 | -0.2989093 |\n",
       "| 4 | 2022 | Spring | New Brunswick             |  801778 |  5 | -0.5188768 |  1818 | -0.4874573 |\n",
       "| 5 | 2022 | Spring | Newfoundland and Labrador |  529249 |  2 | -0.5779367 | 77160 | -0.5793902 |\n",
       "| 6 | 2022 | Spring | Northwest Territories     |   44828 |  0 | -0.6965524 |     0 | -0.6980796 |\n",
       "\n"
      ],
      "text/plain": [
       "  year season prov                      pop     protests retail     oil  \n",
       "1 2022 Spring Alberta                   4480956 17        0.4154217  3983\n",
       "2 2022 Spring British Columbia          5310164 42        0.5517610 77433\n",
       "3 2022 Spring Manitoba                  1405197  2       -0.4144921  6290\n",
       "4 2022 Spring New Brunswick              801778  5       -0.5188768  1818\n",
       "5 2022 Spring Newfoundland and Labrador  529249  2       -0.5779367 77160\n",
       "6 2022 Spring Northwest Territories       44828  0       -0.6965524     0\n",
       "  power     \n",
       "1  0.4393113\n",
       "2  0.2824956\n",
       "3 -0.2989093\n",
       "4 -0.4874573\n",
       "5 -0.5793902\n",
       "6 -0.6980796"
      ]
     },
     "metadata": {},
     "output_type": "display_data"
    }
   ],
   "source": [
    "# data$retail <- NULL\n",
    "head(data)"
   ]
  },
  {
   "cell_type": "code",
   "execution_count": 10,
   "metadata": {
    "vscode": {
     "languageId": "r"
    }
   },
   "outputs": [
    {
     "data": {
      "text/html": [
       "<table class=\"dataframe\">\n",
       "<caption>A data.frame: 299 × 9</caption>\n",
       "<thead>\n",
       "\t<tr><th scope=col>year</th><th scope=col>season</th><th scope=col>prov</th><th scope=col>pop</th><th scope=col>protests</th><th scope=col>retail</th><th scope=col>oil</th><th scope=col>power</th><th scope=col>interaction(data$oil, data$prov, labels = levels(data$prov))</th></tr>\n",
       "\t<tr><th scope=col>&lt;fct&gt;</th><th scope=col>&lt;fct&gt;</th><th scope=col>&lt;fct&gt;</th><th scope=col>&lt;int&gt;</th><th scope=col>&lt;int&gt;</th><th scope=col>&lt;dbl&gt;</th><th scope=col>&lt;int&gt;</th><th scope=col>&lt;dbl&gt;</th><th scope=col>&lt;fct&gt;</th></tr>\n",
       "</thead>\n",
       "<tbody>\n",
       "\t<tr><td>2022</td><td>Spring</td><td>Alberta                  </td><td> 4480956</td><td>17</td><td> 0.4154217</td><td>  3983</td><td> 0.4393113</td><td>3983.Alberta.Alberta                                      </td></tr>\n",
       "\t<tr><td>2022</td><td>Spring</td><td>British Columbia         </td><td> 5310164</td><td>42</td><td> 0.5517610</td><td> 77433</td><td> 0.2824956</td><td>77433.British Columbia.British Columbia                   </td></tr>\n",
       "\t<tr><td>2022</td><td>Spring</td><td>Manitoba                 </td><td> 1405197</td><td> 2</td><td>-0.4144921</td><td>  6290</td><td>-0.2989093</td><td>6290.Manitoba.Manitoba                                    </td></tr>\n",
       "\t<tr><td>2022</td><td>Spring</td><td>New Brunswick            </td><td>  801778</td><td> 5</td><td>-0.5188768</td><td>  1818</td><td>-0.4874573</td><td>1818.New Brunswick.New Brunswick                          </td></tr>\n",
       "\t<tr><td>2022</td><td>Spring</td><td>Newfoundland and Labrador</td><td>  529249</td><td> 2</td><td>-0.5779367</td><td> 77160</td><td>-0.5793902</td><td>77160.Newfoundland and Labrador.Newfoundland and Labrador </td></tr>\n",
       "\t<tr><td>2022</td><td>Spring</td><td>Northwest Territories    </td><td>   44828</td><td> 0</td><td>-0.6965524</td><td>     0</td><td>-0.6980796</td><td>0.Northwest Territories.Northwest Territories             </td></tr>\n",
       "\t<tr><td>2022</td><td>Spring</td><td>Nova Scotia              </td><td> 1014827</td><td> 2</td><td>-0.4699081</td><td> 47821</td><td>-0.5390880</td><td>47821.Nova Scotia.Nova Scotia                             </td></tr>\n",
       "\t<tr><td>2022</td><td>Spring</td><td>Nunavut                  </td><td>   40489</td><td> 0</td><td>-0.7004528</td><td>     0</td><td>-0.7061819</td><td>0.Nunavut.Nunavut                                         </td></tr>\n",
       "\t<tr><td>2022</td><td>Spring</td><td>Ontario                  </td><td>15046211</td><td>46</td><td> 2.7521281</td><td>267687</td><td> 1.3188851</td><td>267687.Ontario.Ontario                                    </td></tr>\n",
       "\t<tr><td>2022</td><td>Spring</td><td>Prince Edward Island     </td><td>  165524</td><td> 0</td><td>-0.6694827</td><td>     0</td><td>-0.6847955</td><td>0.Prince Edward Island.Prince Edward Island               </td></tr>\n",
       "\t<tr><td>2022</td><td>Spring</td><td>Quebec                   </td><td> 8627524</td><td>26</td><td> 1.2455829</td><td>228362</td><td> 2.6050731</td><td>228362.Quebec.Quebec                                      </td></tr>\n",
       "\t<tr><td>2022</td><td>Spring</td><td>Saskatchewan             </td><td> 1173366</td><td> 5</td><td>-0.4193632</td><td>  1285</td><td>-0.3554531</td><td>1285.Saskatchewan.Saskatchewan                            </td></tr>\n",
       "\t<tr><td>2022</td><td>Spring</td><td>Yukon                    </td><td>   43454</td><td> 2</td><td>-0.6947943</td><td>     0</td><td>-0.7009390</td><td>0.Yukon.Yukon                                             </td></tr>\n",
       "\t<tr><td>2022</td><td>Summer</td><td>Alberta                  </td><td> 4510891</td><td> 6</td><td> 0.4608503</td><td>  4388</td><td> 0.5744133</td><td>4388.Alberta.Alberta                                      </td></tr>\n",
       "\t<tr><td>2022</td><td>Summer</td><td>British Columbia         </td><td> 5356284</td><td>19</td><td> 0.5778590</td><td>151630</td><td> 0.2124749</td><td>151630.British Columbia.British Columbia                  </td></tr>\n",
       "\t<tr><td>2022</td><td>Summer</td><td>Manitoba                 </td><td> 1413409</td><td> 6</td><td>-0.3937623</td><td>  4489</td><td>-0.3204868</td><td>4489.Manitoba.Manitoba                                    </td></tr>\n",
       "\t<tr><td>2022</td><td>Summer</td><td>New Brunswick            </td><td>  809568</td><td> 4</td><td>-0.5149728</td><td>  2311</td><td>-0.5204134</td><td>2311.New Brunswick.New Brunswick                          </td></tr>\n",
       "\t<tr><td>2022</td><td>Summer</td><td>Newfoundland and Labrador</td><td>  531583</td><td> 5</td><td>-0.5725403</td><td>150263</td><td>-0.5796773</td><td>150263.Newfoundland and Labrador.Newfoundland and Labrador</td></tr>\n",
       "\t<tr><td>2022</td><td>Summer</td><td>Northwest Territories    </td><td>   44685</td><td> 0</td><td>-0.6966416</td><td> 36714</td><td>-0.6994146</td><td>36714.Northwest Territories.Northwest Territories         </td></tr>\n",
       "\t<tr><td>2022</td><td>Summer</td><td>Nova Scotia              </td><td> 1025445</td><td> 8</td><td>-0.4664024</td><td> 57149</td><td>-0.5489363</td><td>57149.Nova Scotia.Nova Scotia                             </td></tr>\n",
       "\t<tr><td>2022</td><td>Summer</td><td>Nunavut                  </td><td>   40485</td><td> 0</td><td>-0.7005191</td><td>     0</td><td>-0.7064972</td><td>0.Nunavut.Nunavut                                         </td></tr>\n",
       "\t<tr><td>2022</td><td>Summer</td><td>Ontario                  </td><td>15145006</td><td>28</td><td> 2.7105290</td><td>256796</td><td> 1.7483939</td><td>256796.Ontario.Ontario                                    </td></tr>\n",
       "\t<tr><td>2022</td><td>Summer</td><td>Prince Edward Island     </td><td>  167188</td><td> 1</td><td>-0.6676609</td><td>     0</td><td>-0.6873077</td><td>0.Prince Edward Island.Prince Edward Island               </td></tr>\n",
       "\t<tr><td>2022</td><td>Summer</td><td>Quebec                   </td><td> 8672185</td><td> 8</td><td> 1.3095606</td><td>358902</td><td> 2.1421196</td><td>358902.Quebec.Quebec                                      </td></tr>\n",
       "\t<tr><td>2022</td><td>Summer</td><td>Saskatchewan             </td><td> 1178422</td><td> 4</td><td>-0.4107059</td><td>  1606</td><td>-0.3187102</td><td>1606.Saskatchewan.Saskatchewan                            </td></tr>\n",
       "\t<tr><td>2022</td><td>Summer</td><td>Yukon                    </td><td>   43905</td><td> 0</td><td>-0.6942399</td><td>     0</td><td>-0.7020144</td><td>0.Yukon.Yukon                                             </td></tr>\n",
       "\t<tr><td>2022</td><td>Winter</td><td>Alberta                  </td><td> 4561350</td><td> 4</td><td> 0.4775698</td><td>  2616</td><td> 0.6430265</td><td>2616.Alberta.Alberta                                      </td></tr>\n",
       "\t<tr><td>2022</td><td>Winter</td><td>British Columbia         </td><td> 5403528</td><td>16</td><td> 0.5519179</td><td>167172</td><td> 0.5919738</td><td>167172.British Columbia.British Columbia                  </td></tr>\n",
       "\t<tr><td>2022</td><td>Winter</td><td>Manitoba                 </td><td> 1423596</td><td> 8</td><td>-0.3875592</td><td>  3608</td><td>-0.1648267</td><td>3608.Manitoba.Manitoba                                    </td></tr>\n",
       "\t<tr><td>2022</td><td>Winter</td><td>New Brunswick            </td><td>  817766</td><td> 7</td><td>-0.5138822</td><td>  1233</td><td>-0.4414441</td><td>1233.New Brunswick.New Brunswick                          </td></tr>\n",
       "\t<tr><td>⋮</td><td>⋮</td><td>⋮</td><td>⋮</td><td>⋮</td><td>⋮</td><td>⋮</td><td>⋮</td><td>⋮</td></tr>\n",
       "\t<tr><td>2023</td><td>Fall</td><td>Prince Edward Island     </td><td>  175853</td><td> 2</td><td>-0.6642072</td><td>     0</td><td>-0.6828546</td><td>0.Prince Edward Island.Prince Edward Island               </td></tr>\n",
       "\t<tr><td>2023</td><td>Fall</td><td>Quebec                   </td><td> 8948540</td><td>43</td><td> 1.3811680</td><td>311386</td><td> 2.8450128</td><td>311386.Quebec.Quebec                                      </td></tr>\n",
       "\t<tr><td>2023</td><td>Fall</td><td>Saskatchewan             </td><td> 1218976</td><td> 5</td><td>-0.4096328</td><td>  1314</td><td>-0.2929549</td><td>1314.Saskatchewan.Saskatchewan                            </td></tr>\n",
       "\t<tr><td>2023</td><td>Fall</td><td>Yukon                    </td><td>   45148</td><td> 4</td><td>-0.6935584</td><td>     0</td><td>-0.6972985</td><td>0.Yukon.Yukon                                             </td></tr>\n",
       "\t<tr><td>2023</td><td>Fall</td><td>Alberta                  </td><td> 4756408</td><td>17</td><td> 0.4906971</td><td>  2004</td><td> 0.5352330</td><td>2004.Alberta.Alberta                                      </td></tr>\n",
       "\t<tr><td>2023</td><td>Fall</td><td>British Columbia         </td><td> 5581127</td><td>31</td><td> 0.5737986</td><td>144566</td><td> 0.3280646</td><td>144566.British Columbia.British Columbia                  </td></tr>\n",
       "\t<tr><td>2023</td><td>Fall</td><td>Manitoba                 </td><td> 1465440</td><td>14</td><td>-0.3891669</td><td>  4114</td><td>-0.3528020</td><td>4114.Manitoba.Manitoba                                    </td></tr>\n",
       "\t<tr><td>2023</td><td>Fall</td><td>New Brunswick            </td><td>  842725</td><td> 4</td><td>-0.5006664</td><td>  1137</td><td>-0.5233587</td><td>1137.New Brunswick.New Brunswick                          </td></tr>\n",
       "\t<tr><td>2023</td><td>Fall</td><td>Newfoundland and Labrador</td><td>  540418</td><td> 7</td><td>-0.5732341</td><td>     0</td><td>-0.5545593</td><td>0.Newfoundland and Labrador.Newfoundland and Labrador     </td></tr>\n",
       "\t<tr><td>2023</td><td>Fall</td><td>Northwest Territories    </td><td>   44760</td><td> 0</td><td>-0.6955738</td><td>     0</td><td>-0.7002754</td><td>0.Northwest Territories.Northwest Territories             </td></tr>\n",
       "\t<tr><td>2023</td><td>Fall</td><td>Nova Scotia              </td><td> 1066416</td><td> 8</td><td>-0.4578952</td><td> 63643</td><td>-0.5530985</td><td>63643.Nova Scotia.Nova Scotia                             </td></tr>\n",
       "\t<tr><td>2023</td><td>Fall</td><td>Nunavut                  </td><td>   40817</td><td> 0</td><td>-0.6996013</td><td>     0</td><td>-0.7061642</td><td>0.Nunavut.Nunavut                                         </td></tr>\n",
       "\t<tr><td>2023</td><td>Fall</td><td>Ontario                  </td><td>15801768</td><td>91</td><td> 2.7975889</td><td>110879</td><td> 1.4521762</td><td>110879.Ontario.Ontario                                    </td></tr>\n",
       "\t<tr><td>2023</td><td>Fall</td><td>Prince Edward Island     </td><td>  175853</td><td> 4</td><td>-0.6647762</td><td>     0</td><td>-0.6868835</td><td>0.Prince Edward Island.Prince Edward Island               </td></tr>\n",
       "\t<tr><td>2023</td><td>Fall</td><td>Quebec                   </td><td> 8948540</td><td>36</td><td> 1.4133494</td><td>267734</td><td> 2.1753597</td><td>267734.Quebec.Quebec                                      </td></tr>\n",
       "\t<tr><td>2023</td><td>Fall</td><td>Saskatchewan             </td><td> 1218976</td><td>14</td><td>-0.4008032</td><td>  1628</td><td>-0.3345929</td><td>1628.Saskatchewan.Saskatchewan                            </td></tr>\n",
       "\t<tr><td>2023</td><td>Fall</td><td>Yukon                    </td><td>   45148</td><td> 3</td><td>-0.6939495</td><td>     0</td><td>-0.6995929</td><td>0.Yukon.Yukon                                             </td></tr>\n",
       "\t<tr><td>2023</td><td>Fall</td><td>Alberta                  </td><td> 4695290</td><td>19</td><td> 0.4939838</td><td>  2956</td><td> 0.4826961</td><td>2956.Alberta.Alberta                                      </td></tr>\n",
       "\t<tr><td>2023</td><td>Fall</td><td>British Columbia         </td><td> 5519013</td><td>40</td><td> 0.5678102</td><td>127585</td><td> 0.2289098</td><td>127585.British Columbia.British Columbia                  </td></tr>\n",
       "\t<tr><td>2023</td><td>Fall</td><td>Manitoba                 </td><td> 1454902</td><td>20</td><td>-0.3902943</td><td>  5158</td><td>-0.3792090</td><td>5158.Manitoba.Manitoba                                    </td></tr>\n",
       "\t<tr><td>2023</td><td>Fall</td><td>New Brunswick            </td><td>  834691</td><td>12</td><td>-0.5042317</td><td> 24572</td><td>-0.5378831</td><td>24572.New Brunswick.New Brunswick                         </td></tr>\n",
       "\t<tr><td>2023</td><td>Fall</td><td>Newfoundland and Labrador</td><td>  538605</td><td> 6</td><td>-0.5746901</td><td>123003</td><td>-0.5732303</td><td>123003.Newfoundland and Labrador.Newfoundland and Labrador</td></tr>\n",
       "\t<tr><td>2023</td><td>Fall</td><td>Northwest Territories    </td><td>   44972</td><td> 0</td><td>-0.6976094</td><td> 24660</td><td>-0.7000569</td><td>24660.Northwest Territories.Northwest Territories         </td></tr>\n",
       "\t<tr><td>2023</td><td>Fall</td><td>Nova Scotia              </td><td> 1058694</td><td>13</td><td>-0.4582058</td><td> 42237</td><td>-0.5629343</td><td>42237.Nova Scotia.Nova Scotia                             </td></tr>\n",
       "\t<tr><td>2023</td><td>Fall</td><td>Nunavut                  </td><td>   40673</td><td> 0</td><td>-0.6996287</td><td>     0</td><td>-0.7064546</td><td>0.Nunavut.Nunavut                                         </td></tr>\n",
       "\t<tr><td>2023</td><td>Fall</td><td>Ontario                  </td><td>15608369</td><td>73</td><td> 2.7720079</td><td>149100</td><td> 1.4493817</td><td>149100.Ontario.Ontario                                    </td></tr>\n",
       "\t<tr><td>2023</td><td>Fall</td><td>Prince Edward Island     </td><td>  173787</td><td> 4</td><td>-0.6644703</td><td>     0</td><td>-0.6869463</td><td>0.Prince Edward Island.Prince Edward Island               </td></tr>\n",
       "\t<tr><td>2023</td><td>Fall</td><td>Quebec                   </td><td> 8874683</td><td>22</td><td> 1.3977029</td><td>327837</td><td> 2.0465115</td><td>327837.Quebec.Quebec                                      </td></tr>\n",
       "\t<tr><td>2023</td><td>Fall</td><td>Saskatchewan             </td><td> 1209107</td><td> 7</td><td>-0.4049524</td><td>  1250</td><td>-0.3511963</td><td>1250.Saskatchewan.Saskatchewan                            </td></tr>\n",
       "\t<tr><td>2023</td><td>Fall</td><td>Yukon                    </td><td>   44975</td><td> 3</td><td>-0.6936298</td><td>     0</td><td>-0.7022161</td><td>0.Yukon.Yukon                                             </td></tr>\n",
       "</tbody>\n",
       "</table>\n"
      ],
      "text/latex": [
       "A data.frame: 299 × 9\n",
       "\\begin{tabular}{lllllllll}\n",
       " year & season & prov & pop & protests & retail & oil & power & interaction(data\\$oil, data\\$prov, labels = levels(data\\$prov))\\\\\n",
       " <fct> & <fct> & <fct> & <int> & <int> & <dbl> & <int> & <dbl> & <fct>\\\\\n",
       "\\hline\n",
       "\t 2022 & Spring & Alberta                   &  4480956 & 17 &  0.4154217 &   3983 &  0.4393113 & 3983.Alberta.Alberta                                      \\\\\n",
       "\t 2022 & Spring & British Columbia          &  5310164 & 42 &  0.5517610 &  77433 &  0.2824956 & 77433.British Columbia.British Columbia                   \\\\\n",
       "\t 2022 & Spring & Manitoba                  &  1405197 &  2 & -0.4144921 &   6290 & -0.2989093 & 6290.Manitoba.Manitoba                                    \\\\\n",
       "\t 2022 & Spring & New Brunswick             &   801778 &  5 & -0.5188768 &   1818 & -0.4874573 & 1818.New Brunswick.New Brunswick                          \\\\\n",
       "\t 2022 & Spring & Newfoundland and Labrador &   529249 &  2 & -0.5779367 &  77160 & -0.5793902 & 77160.Newfoundland and Labrador.Newfoundland and Labrador \\\\\n",
       "\t 2022 & Spring & Northwest Territories     &    44828 &  0 & -0.6965524 &      0 & -0.6980796 & 0.Northwest Territories.Northwest Territories             \\\\\n",
       "\t 2022 & Spring & Nova Scotia               &  1014827 &  2 & -0.4699081 &  47821 & -0.5390880 & 47821.Nova Scotia.Nova Scotia                             \\\\\n",
       "\t 2022 & Spring & Nunavut                   &    40489 &  0 & -0.7004528 &      0 & -0.7061819 & 0.Nunavut.Nunavut                                         \\\\\n",
       "\t 2022 & Spring & Ontario                   & 15046211 & 46 &  2.7521281 & 267687 &  1.3188851 & 267687.Ontario.Ontario                                    \\\\\n",
       "\t 2022 & Spring & Prince Edward Island      &   165524 &  0 & -0.6694827 &      0 & -0.6847955 & 0.Prince Edward Island.Prince Edward Island               \\\\\n",
       "\t 2022 & Spring & Quebec                    &  8627524 & 26 &  1.2455829 & 228362 &  2.6050731 & 228362.Quebec.Quebec                                      \\\\\n",
       "\t 2022 & Spring & Saskatchewan              &  1173366 &  5 & -0.4193632 &   1285 & -0.3554531 & 1285.Saskatchewan.Saskatchewan                            \\\\\n",
       "\t 2022 & Spring & Yukon                     &    43454 &  2 & -0.6947943 &      0 & -0.7009390 & 0.Yukon.Yukon                                             \\\\\n",
       "\t 2022 & Summer & Alberta                   &  4510891 &  6 &  0.4608503 &   4388 &  0.5744133 & 4388.Alberta.Alberta                                      \\\\\n",
       "\t 2022 & Summer & British Columbia          &  5356284 & 19 &  0.5778590 & 151630 &  0.2124749 & 151630.British Columbia.British Columbia                  \\\\\n",
       "\t 2022 & Summer & Manitoba                  &  1413409 &  6 & -0.3937623 &   4489 & -0.3204868 & 4489.Manitoba.Manitoba                                    \\\\\n",
       "\t 2022 & Summer & New Brunswick             &   809568 &  4 & -0.5149728 &   2311 & -0.5204134 & 2311.New Brunswick.New Brunswick                          \\\\\n",
       "\t 2022 & Summer & Newfoundland and Labrador &   531583 &  5 & -0.5725403 & 150263 & -0.5796773 & 150263.Newfoundland and Labrador.Newfoundland and Labrador\\\\\n",
       "\t 2022 & Summer & Northwest Territories     &    44685 &  0 & -0.6966416 &  36714 & -0.6994146 & 36714.Northwest Territories.Northwest Territories         \\\\\n",
       "\t 2022 & Summer & Nova Scotia               &  1025445 &  8 & -0.4664024 &  57149 & -0.5489363 & 57149.Nova Scotia.Nova Scotia                             \\\\\n",
       "\t 2022 & Summer & Nunavut                   &    40485 &  0 & -0.7005191 &      0 & -0.7064972 & 0.Nunavut.Nunavut                                         \\\\\n",
       "\t 2022 & Summer & Ontario                   & 15145006 & 28 &  2.7105290 & 256796 &  1.7483939 & 256796.Ontario.Ontario                                    \\\\\n",
       "\t 2022 & Summer & Prince Edward Island      &   167188 &  1 & -0.6676609 &      0 & -0.6873077 & 0.Prince Edward Island.Prince Edward Island               \\\\\n",
       "\t 2022 & Summer & Quebec                    &  8672185 &  8 &  1.3095606 & 358902 &  2.1421196 & 358902.Quebec.Quebec                                      \\\\\n",
       "\t 2022 & Summer & Saskatchewan              &  1178422 &  4 & -0.4107059 &   1606 & -0.3187102 & 1606.Saskatchewan.Saskatchewan                            \\\\\n",
       "\t 2022 & Summer & Yukon                     &    43905 &  0 & -0.6942399 &      0 & -0.7020144 & 0.Yukon.Yukon                                             \\\\\n",
       "\t 2022 & Winter & Alberta                   &  4561350 &  4 &  0.4775698 &   2616 &  0.6430265 & 2616.Alberta.Alberta                                      \\\\\n",
       "\t 2022 & Winter & British Columbia          &  5403528 & 16 &  0.5519179 & 167172 &  0.5919738 & 167172.British Columbia.British Columbia                  \\\\\n",
       "\t 2022 & Winter & Manitoba                  &  1423596 &  8 & -0.3875592 &   3608 & -0.1648267 & 3608.Manitoba.Manitoba                                    \\\\\n",
       "\t 2022 & Winter & New Brunswick             &   817766 &  7 & -0.5138822 &   1233 & -0.4414441 & 1233.New Brunswick.New Brunswick                          \\\\\n",
       "\t ⋮ & ⋮ & ⋮ & ⋮ & ⋮ & ⋮ & ⋮ & ⋮ & ⋮\\\\\n",
       "\t 2023 & Fall & Prince Edward Island      &   175853 &  2 & -0.6642072 &      0 & -0.6828546 & 0.Prince Edward Island.Prince Edward Island               \\\\\n",
       "\t 2023 & Fall & Quebec                    &  8948540 & 43 &  1.3811680 & 311386 &  2.8450128 & 311386.Quebec.Quebec                                      \\\\\n",
       "\t 2023 & Fall & Saskatchewan              &  1218976 &  5 & -0.4096328 &   1314 & -0.2929549 & 1314.Saskatchewan.Saskatchewan                            \\\\\n",
       "\t 2023 & Fall & Yukon                     &    45148 &  4 & -0.6935584 &      0 & -0.6972985 & 0.Yukon.Yukon                                             \\\\\n",
       "\t 2023 & Fall & Alberta                   &  4756408 & 17 &  0.4906971 &   2004 &  0.5352330 & 2004.Alberta.Alberta                                      \\\\\n",
       "\t 2023 & Fall & British Columbia          &  5581127 & 31 &  0.5737986 & 144566 &  0.3280646 & 144566.British Columbia.British Columbia                  \\\\\n",
       "\t 2023 & Fall & Manitoba                  &  1465440 & 14 & -0.3891669 &   4114 & -0.3528020 & 4114.Manitoba.Manitoba                                    \\\\\n",
       "\t 2023 & Fall & New Brunswick             &   842725 &  4 & -0.5006664 &   1137 & -0.5233587 & 1137.New Brunswick.New Brunswick                          \\\\\n",
       "\t 2023 & Fall & Newfoundland and Labrador &   540418 &  7 & -0.5732341 &      0 & -0.5545593 & 0.Newfoundland and Labrador.Newfoundland and Labrador     \\\\\n",
       "\t 2023 & Fall & Northwest Territories     &    44760 &  0 & -0.6955738 &      0 & -0.7002754 & 0.Northwest Territories.Northwest Territories             \\\\\n",
       "\t 2023 & Fall & Nova Scotia               &  1066416 &  8 & -0.4578952 &  63643 & -0.5530985 & 63643.Nova Scotia.Nova Scotia                             \\\\\n",
       "\t 2023 & Fall & Nunavut                   &    40817 &  0 & -0.6996013 &      0 & -0.7061642 & 0.Nunavut.Nunavut                                         \\\\\n",
       "\t 2023 & Fall & Ontario                   & 15801768 & 91 &  2.7975889 & 110879 &  1.4521762 & 110879.Ontario.Ontario                                    \\\\\n",
       "\t 2023 & Fall & Prince Edward Island      &   175853 &  4 & -0.6647762 &      0 & -0.6868835 & 0.Prince Edward Island.Prince Edward Island               \\\\\n",
       "\t 2023 & Fall & Quebec                    &  8948540 & 36 &  1.4133494 & 267734 &  2.1753597 & 267734.Quebec.Quebec                                      \\\\\n",
       "\t 2023 & Fall & Saskatchewan              &  1218976 & 14 & -0.4008032 &   1628 & -0.3345929 & 1628.Saskatchewan.Saskatchewan                            \\\\\n",
       "\t 2023 & Fall & Yukon                     &    45148 &  3 & -0.6939495 &      0 & -0.6995929 & 0.Yukon.Yukon                                             \\\\\n",
       "\t 2023 & Fall & Alberta                   &  4695290 & 19 &  0.4939838 &   2956 &  0.4826961 & 2956.Alberta.Alberta                                      \\\\\n",
       "\t 2023 & Fall & British Columbia          &  5519013 & 40 &  0.5678102 & 127585 &  0.2289098 & 127585.British Columbia.British Columbia                  \\\\\n",
       "\t 2023 & Fall & Manitoba                  &  1454902 & 20 & -0.3902943 &   5158 & -0.3792090 & 5158.Manitoba.Manitoba                                    \\\\\n",
       "\t 2023 & Fall & New Brunswick             &   834691 & 12 & -0.5042317 &  24572 & -0.5378831 & 24572.New Brunswick.New Brunswick                         \\\\\n",
       "\t 2023 & Fall & Newfoundland and Labrador &   538605 &  6 & -0.5746901 & 123003 & -0.5732303 & 123003.Newfoundland and Labrador.Newfoundland and Labrador\\\\\n",
       "\t 2023 & Fall & Northwest Territories     &    44972 &  0 & -0.6976094 &  24660 & -0.7000569 & 24660.Northwest Territories.Northwest Territories         \\\\\n",
       "\t 2023 & Fall & Nova Scotia               &  1058694 & 13 & -0.4582058 &  42237 & -0.5629343 & 42237.Nova Scotia.Nova Scotia                             \\\\\n",
       "\t 2023 & Fall & Nunavut                   &    40673 &  0 & -0.6996287 &      0 & -0.7064546 & 0.Nunavut.Nunavut                                         \\\\\n",
       "\t 2023 & Fall & Ontario                   & 15608369 & 73 &  2.7720079 & 149100 &  1.4493817 & 149100.Ontario.Ontario                                    \\\\\n",
       "\t 2023 & Fall & Prince Edward Island      &   173787 &  4 & -0.6644703 &      0 & -0.6869463 & 0.Prince Edward Island.Prince Edward Island               \\\\\n",
       "\t 2023 & Fall & Quebec                    &  8874683 & 22 &  1.3977029 & 327837 &  2.0465115 & 327837.Quebec.Quebec                                      \\\\\n",
       "\t 2023 & Fall & Saskatchewan              &  1209107 &  7 & -0.4049524 &   1250 & -0.3511963 & 1250.Saskatchewan.Saskatchewan                            \\\\\n",
       "\t 2023 & Fall & Yukon                     &    44975 &  3 & -0.6936298 &      0 & -0.7022161 & 0.Yukon.Yukon                                             \\\\\n",
       "\\end{tabular}\n"
      ],
      "text/markdown": [
       "\n",
       "A data.frame: 299 × 9\n",
       "\n",
       "| year &lt;fct&gt; | season &lt;fct&gt; | prov &lt;fct&gt; | pop &lt;int&gt; | protests &lt;int&gt; | retail &lt;dbl&gt; | oil &lt;int&gt; | power &lt;dbl&gt; | interaction(data$oil, data$prov, labels = levels(data$prov)) &lt;fct&gt; |\n",
       "|---|---|---|---|---|---|---|---|---|\n",
       "| 2022 | Spring | Alberta                   |  4480956 | 17 |  0.4154217 |   3983 |  0.4393113 | 3983.Alberta.Alberta                                       |\n",
       "| 2022 | Spring | British Columbia          |  5310164 | 42 |  0.5517610 |  77433 |  0.2824956 | 77433.British Columbia.British Columbia                    |\n",
       "| 2022 | Spring | Manitoba                  |  1405197 |  2 | -0.4144921 |   6290 | -0.2989093 | 6290.Manitoba.Manitoba                                     |\n",
       "| 2022 | Spring | New Brunswick             |   801778 |  5 | -0.5188768 |   1818 | -0.4874573 | 1818.New Brunswick.New Brunswick                           |\n",
       "| 2022 | Spring | Newfoundland and Labrador |   529249 |  2 | -0.5779367 |  77160 | -0.5793902 | 77160.Newfoundland and Labrador.Newfoundland and Labrador  |\n",
       "| 2022 | Spring | Northwest Territories     |    44828 |  0 | -0.6965524 |      0 | -0.6980796 | 0.Northwest Territories.Northwest Territories              |\n",
       "| 2022 | Spring | Nova Scotia               |  1014827 |  2 | -0.4699081 |  47821 | -0.5390880 | 47821.Nova Scotia.Nova Scotia                              |\n",
       "| 2022 | Spring | Nunavut                   |    40489 |  0 | -0.7004528 |      0 | -0.7061819 | 0.Nunavut.Nunavut                                          |\n",
       "| 2022 | Spring | Ontario                   | 15046211 | 46 |  2.7521281 | 267687 |  1.3188851 | 267687.Ontario.Ontario                                     |\n",
       "| 2022 | Spring | Prince Edward Island      |   165524 |  0 | -0.6694827 |      0 | -0.6847955 | 0.Prince Edward Island.Prince Edward Island                |\n",
       "| 2022 | Spring | Quebec                    |  8627524 | 26 |  1.2455829 | 228362 |  2.6050731 | 228362.Quebec.Quebec                                       |\n",
       "| 2022 | Spring | Saskatchewan              |  1173366 |  5 | -0.4193632 |   1285 | -0.3554531 | 1285.Saskatchewan.Saskatchewan                             |\n",
       "| 2022 | Spring | Yukon                     |    43454 |  2 | -0.6947943 |      0 | -0.7009390 | 0.Yukon.Yukon                                              |\n",
       "| 2022 | Summer | Alberta                   |  4510891 |  6 |  0.4608503 |   4388 |  0.5744133 | 4388.Alberta.Alberta                                       |\n",
       "| 2022 | Summer | British Columbia          |  5356284 | 19 |  0.5778590 | 151630 |  0.2124749 | 151630.British Columbia.British Columbia                   |\n",
       "| 2022 | Summer | Manitoba                  |  1413409 |  6 | -0.3937623 |   4489 | -0.3204868 | 4489.Manitoba.Manitoba                                     |\n",
       "| 2022 | Summer | New Brunswick             |   809568 |  4 | -0.5149728 |   2311 | -0.5204134 | 2311.New Brunswick.New Brunswick                           |\n",
       "| 2022 | Summer | Newfoundland and Labrador |   531583 |  5 | -0.5725403 | 150263 | -0.5796773 | 150263.Newfoundland and Labrador.Newfoundland and Labrador |\n",
       "| 2022 | Summer | Northwest Territories     |    44685 |  0 | -0.6966416 |  36714 | -0.6994146 | 36714.Northwest Territories.Northwest Territories          |\n",
       "| 2022 | Summer | Nova Scotia               |  1025445 |  8 | -0.4664024 |  57149 | -0.5489363 | 57149.Nova Scotia.Nova Scotia                              |\n",
       "| 2022 | Summer | Nunavut                   |    40485 |  0 | -0.7005191 |      0 | -0.7064972 | 0.Nunavut.Nunavut                                          |\n",
       "| 2022 | Summer | Ontario                   | 15145006 | 28 |  2.7105290 | 256796 |  1.7483939 | 256796.Ontario.Ontario                                     |\n",
       "| 2022 | Summer | Prince Edward Island      |   167188 |  1 | -0.6676609 |      0 | -0.6873077 | 0.Prince Edward Island.Prince Edward Island                |\n",
       "| 2022 | Summer | Quebec                    |  8672185 |  8 |  1.3095606 | 358902 |  2.1421196 | 358902.Quebec.Quebec                                       |\n",
       "| 2022 | Summer | Saskatchewan              |  1178422 |  4 | -0.4107059 |   1606 | -0.3187102 | 1606.Saskatchewan.Saskatchewan                             |\n",
       "| 2022 | Summer | Yukon                     |    43905 |  0 | -0.6942399 |      0 | -0.7020144 | 0.Yukon.Yukon                                              |\n",
       "| 2022 | Winter | Alberta                   |  4561350 |  4 |  0.4775698 |   2616 |  0.6430265 | 2616.Alberta.Alberta                                       |\n",
       "| 2022 | Winter | British Columbia          |  5403528 | 16 |  0.5519179 | 167172 |  0.5919738 | 167172.British Columbia.British Columbia                   |\n",
       "| 2022 | Winter | Manitoba                  |  1423596 |  8 | -0.3875592 |   3608 | -0.1648267 | 3608.Manitoba.Manitoba                                     |\n",
       "| 2022 | Winter | New Brunswick             |   817766 |  7 | -0.5138822 |   1233 | -0.4414441 | 1233.New Brunswick.New Brunswick                           |\n",
       "| ⋮ | ⋮ | ⋮ | ⋮ | ⋮ | ⋮ | ⋮ | ⋮ | ⋮ |\n",
       "| 2023 | Fall | Prince Edward Island      |   175853 |  2 | -0.6642072 |      0 | -0.6828546 | 0.Prince Edward Island.Prince Edward Island                |\n",
       "| 2023 | Fall | Quebec                    |  8948540 | 43 |  1.3811680 | 311386 |  2.8450128 | 311386.Quebec.Quebec                                       |\n",
       "| 2023 | Fall | Saskatchewan              |  1218976 |  5 | -0.4096328 |   1314 | -0.2929549 | 1314.Saskatchewan.Saskatchewan                             |\n",
       "| 2023 | Fall | Yukon                     |    45148 |  4 | -0.6935584 |      0 | -0.6972985 | 0.Yukon.Yukon                                              |\n",
       "| 2023 | Fall | Alberta                   |  4756408 | 17 |  0.4906971 |   2004 |  0.5352330 | 2004.Alberta.Alberta                                       |\n",
       "| 2023 | Fall | British Columbia          |  5581127 | 31 |  0.5737986 | 144566 |  0.3280646 | 144566.British Columbia.British Columbia                   |\n",
       "| 2023 | Fall | Manitoba                  |  1465440 | 14 | -0.3891669 |   4114 | -0.3528020 | 4114.Manitoba.Manitoba                                     |\n",
       "| 2023 | Fall | New Brunswick             |   842725 |  4 | -0.5006664 |   1137 | -0.5233587 | 1137.New Brunswick.New Brunswick                           |\n",
       "| 2023 | Fall | Newfoundland and Labrador |   540418 |  7 | -0.5732341 |      0 | -0.5545593 | 0.Newfoundland and Labrador.Newfoundland and Labrador      |\n",
       "| 2023 | Fall | Northwest Territories     |    44760 |  0 | -0.6955738 |      0 | -0.7002754 | 0.Northwest Territories.Northwest Territories              |\n",
       "| 2023 | Fall | Nova Scotia               |  1066416 |  8 | -0.4578952 |  63643 | -0.5530985 | 63643.Nova Scotia.Nova Scotia                              |\n",
       "| 2023 | Fall | Nunavut                   |    40817 |  0 | -0.6996013 |      0 | -0.7061642 | 0.Nunavut.Nunavut                                          |\n",
       "| 2023 | Fall | Ontario                   | 15801768 | 91 |  2.7975889 | 110879 |  1.4521762 | 110879.Ontario.Ontario                                     |\n",
       "| 2023 | Fall | Prince Edward Island      |   175853 |  4 | -0.6647762 |      0 | -0.6868835 | 0.Prince Edward Island.Prince Edward Island                |\n",
       "| 2023 | Fall | Quebec                    |  8948540 | 36 |  1.4133494 | 267734 |  2.1753597 | 267734.Quebec.Quebec                                       |\n",
       "| 2023 | Fall | Saskatchewan              |  1218976 | 14 | -0.4008032 |   1628 | -0.3345929 | 1628.Saskatchewan.Saskatchewan                             |\n",
       "| 2023 | Fall | Yukon                     |    45148 |  3 | -0.6939495 |      0 | -0.6995929 | 0.Yukon.Yukon                                              |\n",
       "| 2023 | Fall | Alberta                   |  4695290 | 19 |  0.4939838 |   2956 |  0.4826961 | 2956.Alberta.Alberta                                       |\n",
       "| 2023 | Fall | British Columbia          |  5519013 | 40 |  0.5678102 | 127585 |  0.2289098 | 127585.British Columbia.British Columbia                   |\n",
       "| 2023 | Fall | Manitoba                  |  1454902 | 20 | -0.3902943 |   5158 | -0.3792090 | 5158.Manitoba.Manitoba                                     |\n",
       "| 2023 | Fall | New Brunswick             |   834691 | 12 | -0.5042317 |  24572 | -0.5378831 | 24572.New Brunswick.New Brunswick                          |\n",
       "| 2023 | Fall | Newfoundland and Labrador |   538605 |  6 | -0.5746901 | 123003 | -0.5732303 | 123003.Newfoundland and Labrador.Newfoundland and Labrador |\n",
       "| 2023 | Fall | Northwest Territories     |    44972 |  0 | -0.6976094 |  24660 | -0.7000569 | 24660.Northwest Territories.Northwest Territories          |\n",
       "| 2023 | Fall | Nova Scotia               |  1058694 | 13 | -0.4582058 |  42237 | -0.5629343 | 42237.Nova Scotia.Nova Scotia                              |\n",
       "| 2023 | Fall | Nunavut                   |    40673 |  0 | -0.6996287 |      0 | -0.7064546 | 0.Nunavut.Nunavut                                          |\n",
       "| 2023 | Fall | Ontario                   | 15608369 | 73 |  2.7720079 | 149100 |  1.4493817 | 149100.Ontario.Ontario                                     |\n",
       "| 2023 | Fall | Prince Edward Island      |   173787 |  4 | -0.6644703 |      0 | -0.6869463 | 0.Prince Edward Island.Prince Edward Island                |\n",
       "| 2023 | Fall | Quebec                    |  8874683 | 22 |  1.3977029 | 327837 |  2.0465115 | 327837.Quebec.Quebec                                       |\n",
       "| 2023 | Fall | Saskatchewan              |  1209107 |  7 | -0.4049524 |   1250 | -0.3511963 | 1250.Saskatchewan.Saskatchewan                             |\n",
       "| 2023 | Fall | Yukon                     |    44975 |  3 | -0.6936298 |      0 | -0.7022161 | 0.Yukon.Yukon                                              |\n",
       "\n"
      ],
      "text/plain": [
       "    year season prov                      pop      protests retail     oil   \n",
       "1   2022 Spring Alberta                    4480956 17        0.4154217   3983\n",
       "2   2022 Spring British Columbia           5310164 42        0.5517610  77433\n",
       "3   2022 Spring Manitoba                   1405197  2       -0.4144921   6290\n",
       "4   2022 Spring New Brunswick               801778  5       -0.5188768   1818\n",
       "5   2022 Spring Newfoundland and Labrador   529249  2       -0.5779367  77160\n",
       "6   2022 Spring Northwest Territories        44828  0       -0.6965524      0\n",
       "7   2022 Spring Nova Scotia                1014827  2       -0.4699081  47821\n",
       "8   2022 Spring Nunavut                      40489  0       -0.7004528      0\n",
       "9   2022 Spring Ontario                   15046211 46        2.7521281 267687\n",
       "10  2022 Spring Prince Edward Island        165524  0       -0.6694827      0\n",
       "11  2022 Spring Quebec                     8627524 26        1.2455829 228362\n",
       "12  2022 Spring Saskatchewan               1173366  5       -0.4193632   1285\n",
       "13  2022 Spring Yukon                        43454  2       -0.6947943      0\n",
       "14  2022 Summer Alberta                    4510891  6        0.4608503   4388\n",
       "15  2022 Summer British Columbia           5356284 19        0.5778590 151630\n",
       "16  2022 Summer Manitoba                   1413409  6       -0.3937623   4489\n",
       "17  2022 Summer New Brunswick               809568  4       -0.5149728   2311\n",
       "18  2022 Summer Newfoundland and Labrador   531583  5       -0.5725403 150263\n",
       "19  2022 Summer Northwest Territories        44685  0       -0.6966416  36714\n",
       "20  2022 Summer Nova Scotia                1025445  8       -0.4664024  57149\n",
       "21  2022 Summer Nunavut                      40485  0       -0.7005191      0\n",
       "22  2022 Summer Ontario                   15145006 28        2.7105290 256796\n",
       "23  2022 Summer Prince Edward Island        167188  1       -0.6676609      0\n",
       "24  2022 Summer Quebec                     8672185  8        1.3095606 358902\n",
       "25  2022 Summer Saskatchewan               1178422  4       -0.4107059   1606\n",
       "26  2022 Summer Yukon                        43905  0       -0.6942399      0\n",
       "27  2022 Winter Alberta                    4561350  4        0.4775698   2616\n",
       "28  2022 Winter British Columbia           5403528 16        0.5519179 167172\n",
       "29  2022 Winter Manitoba                   1423596  8       -0.3875592   3608\n",
       "30  2022 Winter New Brunswick               817766  7       -0.5138822   1233\n",
       "⋮   ⋮    ⋮      ⋮                         ⋮        ⋮        ⋮          ⋮     \n",
       "270 2023 Fall   Prince Edward Island        175853  2       -0.6642072      0\n",
       "271 2023 Fall   Quebec                     8948540 43        1.3811680 311386\n",
       "272 2023 Fall   Saskatchewan               1218976  5       -0.4096328   1314\n",
       "273 2023 Fall   Yukon                        45148  4       -0.6935584      0\n",
       "274 2023 Fall   Alberta                    4756408 17        0.4906971   2004\n",
       "275 2023 Fall   British Columbia           5581127 31        0.5737986 144566\n",
       "276 2023 Fall   Manitoba                   1465440 14       -0.3891669   4114\n",
       "277 2023 Fall   New Brunswick               842725  4       -0.5006664   1137\n",
       "278 2023 Fall   Newfoundland and Labrador   540418  7       -0.5732341      0\n",
       "279 2023 Fall   Northwest Territories        44760  0       -0.6955738      0\n",
       "280 2023 Fall   Nova Scotia                1066416  8       -0.4578952  63643\n",
       "281 2023 Fall   Nunavut                      40817  0       -0.6996013      0\n",
       "282 2023 Fall   Ontario                   15801768 91        2.7975889 110879\n",
       "283 2023 Fall   Prince Edward Island        175853  4       -0.6647762      0\n",
       "284 2023 Fall   Quebec                     8948540 36        1.4133494 267734\n",
       "285 2023 Fall   Saskatchewan               1218976 14       -0.4008032   1628\n",
       "286 2023 Fall   Yukon                        45148  3       -0.6939495      0\n",
       "287 2023 Fall   Alberta                    4695290 19        0.4939838   2956\n",
       "288 2023 Fall   British Columbia           5519013 40        0.5678102 127585\n",
       "289 2023 Fall   Manitoba                   1454902 20       -0.3902943   5158\n",
       "290 2023 Fall   New Brunswick               834691 12       -0.5042317  24572\n",
       "291 2023 Fall   Newfoundland and Labrador   538605  6       -0.5746901 123003\n",
       "292 2023 Fall   Northwest Territories        44972  0       -0.6976094  24660\n",
       "293 2023 Fall   Nova Scotia                1058694 13       -0.4582058  42237\n",
       "294 2023 Fall   Nunavut                      40673  0       -0.6996287      0\n",
       "295 2023 Fall   Ontario                   15608369 73        2.7720079 149100\n",
       "296 2023 Fall   Prince Edward Island        173787  4       -0.6644703      0\n",
       "297 2023 Fall   Quebec                     8874683 22        1.3977029 327837\n",
       "298 2023 Fall   Saskatchewan               1209107  7       -0.4049524   1250\n",
       "299 2023 Fall   Yukon                        44975  3       -0.6936298      0\n",
       "    power      interaction(data$oil, data$prov, labels = levels(data$prov))\n",
       "1    0.4393113 3983.Alberta.Alberta                                        \n",
       "2    0.2824956 77433.British Columbia.British Columbia                     \n",
       "3   -0.2989093 6290.Manitoba.Manitoba                                      \n",
       "4   -0.4874573 1818.New Brunswick.New Brunswick                            \n",
       "5   -0.5793902 77160.Newfoundland and Labrador.Newfoundland and Labrador   \n",
       "6   -0.6980796 0.Northwest Territories.Northwest Territories               \n",
       "7   -0.5390880 47821.Nova Scotia.Nova Scotia                               \n",
       "8   -0.7061819 0.Nunavut.Nunavut                                           \n",
       "9    1.3188851 267687.Ontario.Ontario                                      \n",
       "10  -0.6847955 0.Prince Edward Island.Prince Edward Island                 \n",
       "11   2.6050731 228362.Quebec.Quebec                                        \n",
       "12  -0.3554531 1285.Saskatchewan.Saskatchewan                              \n",
       "13  -0.7009390 0.Yukon.Yukon                                               \n",
       "14   0.5744133 4388.Alberta.Alberta                                        \n",
       "15   0.2124749 151630.British Columbia.British Columbia                    \n",
       "16  -0.3204868 4489.Manitoba.Manitoba                                      \n",
       "17  -0.5204134 2311.New Brunswick.New Brunswick                            \n",
       "18  -0.5796773 150263.Newfoundland and Labrador.Newfoundland and Labrador  \n",
       "19  -0.6994146 36714.Northwest Territories.Northwest Territories           \n",
       "20  -0.5489363 57149.Nova Scotia.Nova Scotia                               \n",
       "21  -0.7064972 0.Nunavut.Nunavut                                           \n",
       "22   1.7483939 256796.Ontario.Ontario                                      \n",
       "23  -0.6873077 0.Prince Edward Island.Prince Edward Island                 \n",
       "24   2.1421196 358902.Quebec.Quebec                                        \n",
       "25  -0.3187102 1606.Saskatchewan.Saskatchewan                              \n",
       "26  -0.7020144 0.Yukon.Yukon                                               \n",
       "27   0.6430265 2616.Alberta.Alberta                                        \n",
       "28   0.5919738 167172.British Columbia.British Columbia                    \n",
       "29  -0.1648267 3608.Manitoba.Manitoba                                      \n",
       "30  -0.4414441 1233.New Brunswick.New Brunswick                            \n",
       "⋮   ⋮          ⋮                                                           \n",
       "270 -0.6828546 0.Prince Edward Island.Prince Edward Island                 \n",
       "271  2.8450128 311386.Quebec.Quebec                                        \n",
       "272 -0.2929549 1314.Saskatchewan.Saskatchewan                              \n",
       "273 -0.6972985 0.Yukon.Yukon                                               \n",
       "274  0.5352330 2004.Alberta.Alberta                                        \n",
       "275  0.3280646 144566.British Columbia.British Columbia                    \n",
       "276 -0.3528020 4114.Manitoba.Manitoba                                      \n",
       "277 -0.5233587 1137.New Brunswick.New Brunswick                            \n",
       "278 -0.5545593 0.Newfoundland and Labrador.Newfoundland and Labrador       \n",
       "279 -0.7002754 0.Northwest Territories.Northwest Territories               \n",
       "280 -0.5530985 63643.Nova Scotia.Nova Scotia                               \n",
       "281 -0.7061642 0.Nunavut.Nunavut                                           \n",
       "282  1.4521762 110879.Ontario.Ontario                                      \n",
       "283 -0.6868835 0.Prince Edward Island.Prince Edward Island                 \n",
       "284  2.1753597 267734.Quebec.Quebec                                        \n",
       "285 -0.3345929 1628.Saskatchewan.Saskatchewan                              \n",
       "286 -0.6995929 0.Yukon.Yukon                                               \n",
       "287  0.4826961 2956.Alberta.Alberta                                        \n",
       "288  0.2289098 127585.British Columbia.British Columbia                    \n",
       "289 -0.3792090 5158.Manitoba.Manitoba                                      \n",
       "290 -0.5378831 24572.New Brunswick.New Brunswick                           \n",
       "291 -0.5732303 123003.Newfoundland and Labrador.Newfoundland and Labrador  \n",
       "292 -0.7000569 24660.Northwest Territories.Northwest Territories           \n",
       "293 -0.5629343 42237.Nova Scotia.Nova Scotia                               \n",
       "294 -0.7064546 0.Nunavut.Nunavut                                           \n",
       "295  1.4493817 149100.Ontario.Ontario                                      \n",
       "296 -0.6869463 0.Prince Edward Island.Prince Edward Island                 \n",
       "297  2.0465115 327837.Quebec.Quebec                                        \n",
       "298 -0.3511963 1250.Saskatchewan.Saskatchewan                              \n",
       "299 -0.7022161 0.Yukon.Yukon                                               "
      ]
     },
     "metadata": {},
     "output_type": "display_data"
    }
   ],
   "source": [
    "cbind(data, interaction(data$oil, data$prov, labels=levels(data$prov)))"
   ]
  },
  {
   "cell_type": "markdown",
   "metadata": {},
   "source": [
    "### Build Model"
   ]
  },
  {
   "cell_type": "code",
   "execution_count": 12,
   "metadata": {
    "vscode": {
     "languageId": "r"
    }
   },
   "outputs": [
    {
     "name": "stdout",
     "output_type": "stream",
     "text": [
      "Start:  AIC=1579.35\n",
      "protests ~ season + prov + retail/pop\n",
      "\n",
      "             Df Deviance    AIC\n",
      "<none>            351.68 1579.3\n",
      "- retail:pop  1   357.47 1583.1\n",
      "- season      3   401.03 1622.7\n",
      "- prov       12   608.45 1812.1\n"
     ]
    },
    {
     "data": {
      "text/plain": [
       "\n",
       "Call:\n",
       "glm.nb(formula = protests ~ season + prov + retail/pop, data = data, \n",
       "    init.theta = 8.865860964, link = log)\n",
       "\n",
       "Coefficients:\n",
       "                                Estimate Std. Error z value Pr(>|z|)    \n",
       "(Intercept)                    4.490e+00  6.115e-01   7.342 2.11e-13 ***\n",
       "seasonSpring                  -5.156e-02  8.130e-02  -0.634 0.525962    \n",
       "seasonSummer                  -5.466e-01  8.495e-02  -6.435 1.24e-10 ***\n",
       "seasonWinter                  -2.114e-01  8.734e-02  -2.421 0.015482 *  \n",
       "provBritish Columbia           8.922e-01  1.634e-01   5.461 4.73e-08 ***\n",
       "provManitoba                  -3.718e+00  1.196e+00  -3.109 0.001880 ** \n",
       "provNew Brunswick             -4.787e+00  1.390e+00  -3.444 0.000572 ***\n",
       "provNewfoundland and Labrador -5.438e+00  1.501e+00  -3.624 0.000290 ***\n",
       "provNorthwest Territories     -8.134e+00  1.733e+00  -4.693 2.69e-06 ***\n",
       "provNova Scotia               -4.425e+00  1.310e+00  -3.378 0.000730 ***\n",
       "provNunavut                   -7.771e+00  1.732e+00  -4.486 7.24e-06 ***\n",
       "provOntario                    2.950e+00  2.644e+00   1.116 0.264454    \n",
       "provPrince Edward Island      -6.785e+00  1.665e+00  -4.076 4.58e-05 ***\n",
       "provQuebec                     2.485e+00  9.217e-01   2.696 0.007026 ** \n",
       "provSaskatchewan              -4.450e+00  1.230e+00  -3.617 0.000298 ***\n",
       "provYukon                     -6.907e+00  1.714e+00  -4.031 5.56e-05 ***\n",
       "retail                        -4.678e+00  1.609e+00  -2.908 0.003641 ** \n",
       "retail:pop                     2.275e-07  9.789e-08   2.324 0.020121 *  \n",
       "---\n",
       "Signif. codes:  0 ‘***’ 0.001 ‘**’ 0.01 ‘*’ 0.05 ‘.’ 0.1 ‘ ’ 1\n",
       "\n",
       "(Dispersion parameter for Negative Binomial(8.8659) family taken to be 1)\n",
       "\n",
       "    Null deviance: 2160.57  on 298  degrees of freedom\n",
       "Residual deviance:  351.68  on 281  degrees of freedom\n",
       "AIC: 1581.3\n",
       "\n",
       "Number of Fisher Scoring iterations: 1\n",
       "\n",
       "\n",
       "              Theta:  8.87 \n",
       "          Std. Err.:  1.61 \n",
       "\n",
       " 2 x log-likelihood:  -1543.35 "
      ]
     },
     "metadata": {},
     "output_type": "display_data"
    }
   ],
   "source": [
    "init_model <- glm.nb(protests ~ season + prov + retail/pop, data=data)\n",
    "\n",
    "summary(step(init_model))"
   ]
  },
  {
   "cell_type": "markdown",
   "metadata": {},
   "source": [
    "## Perform Monte Carlo Simulation"
   ]
  },
  {
   "cell_type": "code",
   "execution_count": null,
   "metadata": {
    "vscode": {
     "languageId": "r"
    }
   },
   "outputs": [],
   "source": []
  }
 ],
 "metadata": {
  "kernelspec": {
   "display_name": "R",
   "language": "R",
   "name": "ir"
  },
  "language_info": {
   "codemirror_mode": "r",
   "file_extension": ".r",
   "mimetype": "text/x-r-source",
   "name": "R",
   "pygments_lexer": "r",
   "version": "4.3.3"
  }
 },
 "nbformat": 4,
 "nbformat_minor": 2
}
