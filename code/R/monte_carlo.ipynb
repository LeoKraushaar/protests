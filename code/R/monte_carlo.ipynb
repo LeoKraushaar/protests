{
 "cells": [
  {
   "cell_type": "markdown",
   "metadata": {},
   "source": [
    "## Part 3"
   ]
  },
  {
   "cell_type": "code",
   "execution_count": 89,
   "metadata": {
    "vscode": {
     "languageId": "r"
    }
   },
   "outputs": [],
   "source": [
    "setwd(\"/home/leoKraushaar/Documents/School/Year 3/Semester 2/STAT 413/Project/protests/\")\n",
    "set.seed(42)"
   ]
  },
  {
   "cell_type": "markdown",
   "metadata": {},
   "source": [
    "### Libraries"
   ]
  },
  {
   "cell_type": "code",
   "execution_count": 90,
   "metadata": {
    "vscode": {
     "languageId": "r"
    }
   },
   "outputs": [],
   "source": [
    "library(MASS)"
   ]
  },
  {
   "cell_type": "markdown",
   "metadata": {},
   "source": [
    "### Clean Data"
   ]
  },
  {
   "cell_type": "code",
   "execution_count": 91,
   "metadata": {
    "vscode": {
     "languageId": "r"
    }
   },
   "outputs": [],
   "source": [
    "data <- read.csv(\"data/merged_data.csv\")[, -1]\n",
    "data$food <- NULL\n",
    "data$manufac <- NULL"
   ]
  },
  {
   "cell_type": "code",
   "execution_count": 92,
   "metadata": {
    "vscode": {
     "languageId": "r"
    }
   },
   "outputs": [],
   "source": [
    "newMonth <- function(x) {\n",
    "    if (x %in% c(\"December\", \"January\", \"February\")) {\n",
    "        return(\"Winter\")\n",
    "    } else if (x %in% c(\"March\", \"April\", \"May\")) {\n",
    "        return(\"Spring\")\n",
    "    } else if (x %in% c(\"June\", \"July\", \"August\")) {\n",
    "        return(\"Summer\")\n",
    "    } else {\n",
    "        return(\"Fall\")\n",
    "    }\n",
    "}\n",
    "\n",
    "data$month <- sapply(data$month, newMonth)\n",
    "colnames(data)[2] <- \"season\""
   ]
  },
  {
   "cell_type": "code",
   "execution_count": 93,
   "metadata": {
    "vscode": {
     "languageId": "r"
    }
   },
   "outputs": [],
   "source": [
    "standardize <- function(x, mu, std) {\n",
    "    return((x-mu)/std)\n",
    "}\n",
    "\n",
    "# data$pop <- sapply(data$pop, function(x) standardize(x, mean(data$pop), sd(data$pop)))"
   ]
  },
  {
   "cell_type": "code",
   "execution_count": 94,
   "metadata": {
    "vscode": {
     "languageId": "r"
    }
   },
   "outputs": [],
   "source": [
    "colnames(data)[colnames(data) == \"GEO\"] <- \"prov\"\n",
    "\n",
    "data$prov  <- as.factor(data$prov)\n",
    "data$season <- as.factor(data$season)\n",
    "data$year <- as.factor(data$year)"
   ]
  },
  {
   "cell_type": "code",
   "execution_count": 95,
   "metadata": {
    "vscode": {
     "languageId": "r"
    }
   },
   "outputs": [],
   "source": [
    "data$retail <- sapply(data$retail, function(x) {standardize(x, mean(data$retail), sd(data$retail))})\n",
    "data$pop <- sapply(data$pop, function(x) {standardize(x, mean(data$pop), sd(data$pop))})\n",
    "# data$power <- sapply(data$power, function(x) {standardize(x, mean(data$power), sd(data$power))})\n",
    "# data$oil <- sapply(data$oil, function(x) {standardize(x, mean(data$oil), sd(data$oil))})"
   ]
  },
  {
   "cell_type": "code",
   "execution_count": 96,
   "metadata": {
    "vscode": {
     "languageId": "r"
    }
   },
   "outputs": [
    {
     "data": {
      "text/html": [
       "<table class=\"dataframe\">\n",
       "<caption>A data.frame: 6 × 8</caption>\n",
       "<thead>\n",
       "\t<tr><th></th><th scope=col>year</th><th scope=col>season</th><th scope=col>prov</th><th scope=col>pop</th><th scope=col>protests</th><th scope=col>retail</th><th scope=col>oil</th><th scope=col>power</th></tr>\n",
       "\t<tr><th></th><th scope=col>&lt;fct&gt;</th><th scope=col>&lt;fct&gt;</th><th scope=col>&lt;fct&gt;</th><th scope=col>&lt;dbl&gt;</th><th scope=col>&lt;int&gt;</th><th scope=col>&lt;dbl&gt;</th><th scope=col>&lt;int&gt;</th><th scope=col>&lt;int&gt;</th></tr>\n",
       "</thead>\n",
       "<tbody>\n",
       "\t<tr><th scope=row>1</th><td>2022</td><td>Spring</td><td>Alberta                  </td><td> 0.3320973</td><td>17</td><td> 0.4154217</td><td> 3983</td><td>6069621</td></tr>\n",
       "\t<tr><th scope=row>2</th><td>2022</td><td>Spring</td><td>British Columbia         </td><td> 0.5216659</td><td>42</td><td> 0.5517610</td><td>77433</td><td>5240902</td></tr>\n",
       "\t<tr><th scope=row>3</th><td>2022</td><td>Spring</td><td>Manitoba                 </td><td>-0.3710644</td><td> 2</td><td>-0.4144921</td><td> 6290</td><td>2168371</td></tr>\n",
       "\t<tr><th scope=row>4</th><td>2022</td><td>Spring</td><td>New Brunswick            </td><td>-0.5090145</td><td> 5</td><td>-0.5188768</td><td> 1818</td><td>1171958</td></tr>\n",
       "\t<tr><th scope=row>5</th><td>2022</td><td>Spring</td><td>Newfoundland and Labrador</td><td>-0.5713185</td><td> 2</td><td>-0.5779367</td><td>77160</td><td> 686123</td></tr>\n",
       "\t<tr><th scope=row>6</th><td>2022</td><td>Spring</td><td>Northwest Territories    </td><td>-0.6820639</td><td> 0</td><td>-0.6965524</td><td>    0</td><td>  58889</td></tr>\n",
       "</tbody>\n",
       "</table>\n"
      ],
      "text/latex": [
       "A data.frame: 6 × 8\n",
       "\\begin{tabular}{r|llllllll}\n",
       "  & year & season & prov & pop & protests & retail & oil & power\\\\\n",
       "  & <fct> & <fct> & <fct> & <dbl> & <int> & <dbl> & <int> & <int>\\\\\n",
       "\\hline\n",
       "\t1 & 2022 & Spring & Alberta                   &  0.3320973 & 17 &  0.4154217 &  3983 & 6069621\\\\\n",
       "\t2 & 2022 & Spring & British Columbia          &  0.5216659 & 42 &  0.5517610 & 77433 & 5240902\\\\\n",
       "\t3 & 2022 & Spring & Manitoba                  & -0.3710644 &  2 & -0.4144921 &  6290 & 2168371\\\\\n",
       "\t4 & 2022 & Spring & New Brunswick             & -0.5090145 &  5 & -0.5188768 &  1818 & 1171958\\\\\n",
       "\t5 & 2022 & Spring & Newfoundland and Labrador & -0.5713185 &  2 & -0.5779367 & 77160 &  686123\\\\\n",
       "\t6 & 2022 & Spring & Northwest Territories     & -0.6820639 &  0 & -0.6965524 &     0 &   58889\\\\\n",
       "\\end{tabular}\n"
      ],
      "text/markdown": [
       "\n",
       "A data.frame: 6 × 8\n",
       "\n",
       "| <!--/--> | year &lt;fct&gt; | season &lt;fct&gt; | prov &lt;fct&gt; | pop &lt;dbl&gt; | protests &lt;int&gt; | retail &lt;dbl&gt; | oil &lt;int&gt; | power &lt;int&gt; |\n",
       "|---|---|---|---|---|---|---|---|---|\n",
       "| 1 | 2022 | Spring | Alberta                   |  0.3320973 | 17 |  0.4154217 |  3983 | 6069621 |\n",
       "| 2 | 2022 | Spring | British Columbia          |  0.5216659 | 42 |  0.5517610 | 77433 | 5240902 |\n",
       "| 3 | 2022 | Spring | Manitoba                  | -0.3710644 |  2 | -0.4144921 |  6290 | 2168371 |\n",
       "| 4 | 2022 | Spring | New Brunswick             | -0.5090145 |  5 | -0.5188768 |  1818 | 1171958 |\n",
       "| 5 | 2022 | Spring | Newfoundland and Labrador | -0.5713185 |  2 | -0.5779367 | 77160 |  686123 |\n",
       "| 6 | 2022 | Spring | Northwest Territories     | -0.6820639 |  0 | -0.6965524 |     0 |   58889 |\n",
       "\n"
      ],
      "text/plain": [
       "  year season prov                      pop        protests retail     oil  \n",
       "1 2022 Spring Alberta                    0.3320973 17        0.4154217  3983\n",
       "2 2022 Spring British Columbia           0.5216659 42        0.5517610 77433\n",
       "3 2022 Spring Manitoba                  -0.3710644  2       -0.4144921  6290\n",
       "4 2022 Spring New Brunswick             -0.5090145  5       -0.5188768  1818\n",
       "5 2022 Spring Newfoundland and Labrador -0.5713185  2       -0.5779367 77160\n",
       "6 2022 Spring Northwest Territories     -0.6820639  0       -0.6965524     0\n",
       "  power  \n",
       "1 6069621\n",
       "2 5240902\n",
       "3 2168371\n",
       "4 1171958\n",
       "5  686123\n",
       "6   58889"
      ]
     },
     "metadata": {},
     "output_type": "display_data"
    }
   ],
   "source": [
    "# data$retail <- NULL\n",
    "head(data)"
   ]
  },
  {
   "cell_type": "markdown",
   "metadata": {},
   "source": [
    "### Build Model"
   ]
  },
  {
   "cell_type": "code",
   "execution_count": 103,
   "metadata": {
    "vscode": {
     "languageId": "r"
    }
   },
   "outputs": [
    {
     "name": "stderr",
     "output_type": "stream",
     "text": [
      "Warning message:\n",
      "“glm.fit: fitted rates numerically 0 occurred”\n"
     ]
    },
    {
     "name": "stdout",
     "output_type": "stream",
     "text": [
      "Start:  AIC=1593.22\n",
      "protests ~ season + prov + oil * prov\n",
      "\n",
      "           Df Deviance    AIC\n",
      "- prov:oil 11   356.77 1585.6\n",
      "<none>          342.41 1593.2\n",
      "- season    3   386.28 1631.1\n",
      "\n",
      "Step:  AIC=1585.46\n",
      "protests ~ season + prov + oil\n",
      "\n",
      "         Df Deviance    AIC\n",
      "- oil     1   349.98 1584.1\n",
      "<none>        349.33 1585.5\n",
      "- season  3   394.23 1624.4\n",
      "- prov   12  1381.38 2593.5\n",
      "\n",
      "Step:  AIC=1584.11\n",
      "protests ~ season + prov\n",
      "\n",
      "         Df Deviance    AIC\n",
      "<none>        348.80 1584.1\n",
      "- season  3   396.76 1626.1\n",
      "- prov   12  2010.84 3222.1\n"
     ]
    },
    {
     "data": {
      "text/plain": [
       "\n",
       "Call:\n",
       "glm.nb(formula = protests ~ season + prov, data = data, init.theta = 8.079867033, \n",
       "    link = log)\n",
       "\n",
       "Coefficients:\n",
       "                              Estimate Std. Error z value Pr(>|z|)    \n",
       "(Intercept)                    2.81967    0.10470  26.931  < 2e-16 ***\n",
       "seasonSpring                  -0.03746    0.08205  -0.457   0.6480    \n",
       "seasonSummer                  -0.54781    0.08704  -6.294 3.10e-10 ***\n",
       "seasonWinter                  -0.18977    0.08757  -2.167   0.0302 *  \n",
       "provBritish Columbia           0.62564    0.12503   5.004 5.62e-07 ***\n",
       "provManitoba                  -0.33500    0.13541  -2.474   0.0134 *  \n",
       "provNew Brunswick             -0.83074    0.14533  -5.716 1.09e-08 ***\n",
       "provNewfoundland and Labrador -1.15759    0.15449  -7.493 6.74e-14 ***\n",
       "provNorthwest Territories     -3.22119    0.30203 -10.665  < 2e-16 ***\n",
       "provNova Scotia               -0.70980    0.14252  -4.980 6.34e-07 ***\n",
       "provNunavut                   -2.84012    0.25844 -10.989  < 2e-16 ***\n",
       "provOntario                    1.32556    0.12158  10.903  < 2e-16 ***\n",
       "provPrince Edward Island      -2.03084    0.19380 -10.479  < 2e-16 ***\n",
       "provQuebec                     0.57379    0.12539   4.576 4.74e-06 ***\n",
       "provSaskatchewan              -0.96972    0.14894  -6.511 7.47e-11 ***\n",
       "provYukon                     -2.00554    0.19228 -10.430  < 2e-16 ***\n",
       "---\n",
       "Signif. codes:  0 ‘***’ 0.001 ‘**’ 0.01 ‘*’ 0.05 ‘.’ 0.1 ‘ ’ 1\n",
       "\n",
       "(Dispersion parameter for Negative Binomial(8.0799) family taken to be 1)\n",
       "\n",
       "    Null deviance: 2062.1  on 298  degrees of freedom\n",
       "Residual deviance:  348.8  on 283  degrees of freedom\n",
       "AIC: 1586.1\n",
       "\n",
       "Number of Fisher Scoring iterations: 1\n",
       "\n",
       "\n",
       "              Theta:  8.08 \n",
       "          Std. Err.:  1.41 \n",
       "\n",
       " 2 x log-likelihood:  -1552.109 "
      ]
     },
     "metadata": {},
     "output_type": "display_data"
    }
   ],
   "source": [
    "init_model <- glm.nb(protests ~ season + prov + oil*prov, data=data)\n",
    "\n",
    "summary(step(init_model))\n",
    "# summary(init_model)"
   ]
  },
  {
   "cell_type": "markdown",
   "metadata": {},
   "source": [
    "## Perform Monte Carlo Simulation"
   ]
  },
  {
   "cell_type": "markdown",
   "metadata": {
    "vscode": {
     "languageId": "r"
    }
   },
   "source": [
    "### Get an idea of retail and population"
   ]
  },
  {
   "cell_type": "code",
   "execution_count": 98,
   "metadata": {
    "vscode": {
     "languageId": "r"
    }
   },
   "outputs": [
    {
     "data": {
      "text/html": [
       "<table class=\"dataframe\">\n",
       "<caption>A data.frame: 13 × 2</caption>\n",
       "<thead>\n",
       "\t<tr><th scope=col>prov</th><th scope=col>pop</th></tr>\n",
       "\t<tr><th scope=col>&lt;fct&gt;</th><th scope=col>&lt;dbl&gt;</th></tr>\n",
       "</thead>\n",
       "<tbody>\n",
       "\t<tr><td>Alberta                  </td><td> 0.3551965</td></tr>\n",
       "\t<tr><td>British Columbia         </td><td> 0.5450133</td></tr>\n",
       "\t<tr><td>Manitoba                 </td><td>-0.3657537</td></tr>\n",
       "\t<tr><td>New Brunswick            </td><td>-0.5052908</td></tr>\n",
       "\t<tr><td>Newfoundland and Labrador</td><td>-0.5702505</td></tr>\n",
       "\t<tr><td>Northwest Territories    </td><td>-0.6820850</td></tr>\n",
       "\t<tr><td>Nova Scotia              </td><td>-0.4554273</td></tr>\n",
       "\t<tr><td>Nunavut                  </td><td>-0.6830511</td></tr>\n",
       "\t<tr><td>Ontario                  </td><td> 2.8100380</td></tr>\n",
       "\t<tr><td>Prince Edward Island     </td><td>-0.6535830</td></tr>\n",
       "\t<tr><td>Quebec                   </td><td> 1.3075439</td></tr>\n",
       "\t<tr><td>Saskatchewan             </td><td>-0.4201345</td></tr>\n",
       "\t<tr><td>Yukon                    </td><td>-0.6822157</td></tr>\n",
       "</tbody>\n",
       "</table>\n"
      ],
      "text/latex": [
       "A data.frame: 13 × 2\n",
       "\\begin{tabular}{ll}\n",
       " prov & pop\\\\\n",
       " <fct> & <dbl>\\\\\n",
       "\\hline\n",
       "\t Alberta                   &  0.3551965\\\\\n",
       "\t British Columbia          &  0.5450133\\\\\n",
       "\t Manitoba                  & -0.3657537\\\\\n",
       "\t New Brunswick             & -0.5052908\\\\\n",
       "\t Newfoundland and Labrador & -0.5702505\\\\\n",
       "\t Northwest Territories     & -0.6820850\\\\\n",
       "\t Nova Scotia               & -0.4554273\\\\\n",
       "\t Nunavut                   & -0.6830511\\\\\n",
       "\t Ontario                   &  2.8100380\\\\\n",
       "\t Prince Edward Island      & -0.6535830\\\\\n",
       "\t Quebec                    &  1.3075439\\\\\n",
       "\t Saskatchewan              & -0.4201345\\\\\n",
       "\t Yukon                     & -0.6822157\\\\\n",
       "\\end{tabular}\n"
      ],
      "text/markdown": [
       "\n",
       "A data.frame: 13 × 2\n",
       "\n",
       "| prov &lt;fct&gt; | pop &lt;dbl&gt; |\n",
       "|---|---|\n",
       "| Alberta                   |  0.3551965 |\n",
       "| British Columbia          |  0.5450133 |\n",
       "| Manitoba                  | -0.3657537 |\n",
       "| New Brunswick             | -0.5052908 |\n",
       "| Newfoundland and Labrador | -0.5702505 |\n",
       "| Northwest Territories     | -0.6820850 |\n",
       "| Nova Scotia               | -0.4554273 |\n",
       "| Nunavut                   | -0.6830511 |\n",
       "| Ontario                   |  2.8100380 |\n",
       "| Prince Edward Island      | -0.6535830 |\n",
       "| Quebec                    |  1.3075439 |\n",
       "| Saskatchewan              | -0.4201345 |\n",
       "| Yukon                     | -0.6822157 |\n",
       "\n"
      ],
      "text/plain": [
       "   prov                      pop       \n",
       "1  Alberta                    0.3551965\n",
       "2  British Columbia           0.5450133\n",
       "3  Manitoba                  -0.3657537\n",
       "4  New Brunswick             -0.5052908\n",
       "5  Newfoundland and Labrador -0.5702505\n",
       "6  Northwest Territories     -0.6820850\n",
       "7  Nova Scotia               -0.4554273\n",
       "8  Nunavut                   -0.6830511\n",
       "9  Ontario                    2.8100380\n",
       "10 Prince Edward Island      -0.6535830\n",
       "11 Quebec                     1.3075439\n",
       "12 Saskatchewan              -0.4201345\n",
       "13 Yukon                     -0.6822157"
      ]
     },
     "metadata": {},
     "output_type": "display_data"
    }
   ],
   "source": [
    "meanretail <- aggregate(data[c(\"pop\")], by=list(prov=data$prov), FUN=mean)\n",
    "meanretail"
   ]
  }
 ],
 "metadata": {
  "kernelspec": {
   "display_name": "R",
   "language": "R",
   "name": "ir"
  },
  "language_info": {
   "codemirror_mode": "r",
   "file_extension": ".r",
   "mimetype": "text/x-r-source",
   "name": "R",
   "pygments_lexer": "r",
   "version": "4.3.3"
  }
 },
 "nbformat": 4,
 "nbformat_minor": 2
}
