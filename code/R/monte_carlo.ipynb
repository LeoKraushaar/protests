{
 "cells": [
  {
   "cell_type": "markdown",
   "metadata": {},
   "source": [
    "## Part 3"
   ]
  },
  {
   "cell_type": "code",
   "execution_count": 1,
   "metadata": {
    "vscode": {
     "languageId": "r"
    }
   },
   "outputs": [],
   "source": [
    "setwd(\"/home/leoKraushaar/Documents/School/Year 3/Semester 2/STAT 413/Project/protests/\")\n",
    "set.seed(42)"
   ]
  },
  {
   "cell_type": "markdown",
   "metadata": {},
   "source": [
    "### Libraries"
   ]
  },
  {
   "cell_type": "code",
   "execution_count": 2,
   "metadata": {
    "vscode": {
     "languageId": "r"
    }
   },
   "outputs": [
    {
     "name": "stderr",
     "output_type": "stream",
     "text": [
      "\n",
      "Attaching package: ‘dplyr’\n",
      "\n",
      "\n",
      "The following object is masked from ‘package:MASS’:\n",
      "\n",
      "    select\n",
      "\n",
      "\n",
      "The following objects are masked from ‘package:stats’:\n",
      "\n",
      "    filter, lag\n",
      "\n",
      "\n",
      "The following objects are masked from ‘package:base’:\n",
      "\n",
      "    intersect, setdiff, setequal, union\n",
      "\n",
      "\n"
     ]
    }
   ],
   "source": [
    "library(MASS)\n",
    "library(dplyr)"
   ]
  },
  {
   "cell_type": "markdown",
   "metadata": {},
   "source": [
    "### Clean Data"
   ]
  },
  {
   "cell_type": "code",
   "execution_count": 3,
   "metadata": {
    "vscode": {
     "languageId": "r"
    }
   },
   "outputs": [],
   "source": [
    "newMonth <- function(x) {\n",
    "    if (x %in% c(\"December\", \"January\", \"February\")) {\n",
    "        return(\"Winter\")\n",
    "    } else if (x %in% c(\"March\", \"April\", \"May\")) {\n",
    "        return(\"Spring\")\n",
    "    } else if (x %in% c(\"June\", \"July\", \"August\")) {\n",
    "        return(\"Summer\")\n",
    "    } else {\n",
    "        return(\"Fall\")\n",
    "    }\n",
    "}"
   ]
  },
  {
   "cell_type": "code",
   "execution_count": 4,
   "metadata": {
    "vscode": {
     "languageId": "r"
    }
   },
   "outputs": [
    {
     "data": {
      "text/html": [
       "<table class=\"dataframe\">\n",
       "<caption>A data.frame: 6 × 4</caption>\n",
       "<thead>\n",
       "\t<tr><th></th><th scope=col>prov</th><th scope=col>retail</th><th scope=col>year</th><th scope=col>season</th></tr>\n",
       "\t<tr><th></th><th scope=col>&lt;fct&gt;</th><th scope=col>&lt;int&gt;</th><th scope=col>&lt;dbl&gt;</th><th scope=col>&lt;fct&gt;</th></tr>\n",
       "</thead>\n",
       "<tbody>\n",
       "\t<tr><th scope=row>1</th><td>Alberta                  </td><td>6726992</td><td>2017</td><td>Winter</td></tr>\n",
       "\t<tr><th scope=row>2</th><td>British Columbia         </td><td>7277591</td><td>2017</td><td>Winter</td></tr>\n",
       "\t<tr><th scope=row>3</th><td>Manitoba                 </td><td>1749096</td><td>2017</td><td>Winter</td></tr>\n",
       "\t<tr><th scope=row>4</th><td>New Brunswick            </td><td>1049815</td><td>2017</td><td>Winter</td></tr>\n",
       "\t<tr><th scope=row>5</th><td>Newfoundland and Labrador</td><td> 800919</td><td>2017</td><td>Winter</td></tr>\n",
       "\t<tr><th scope=row>6</th><td>Northwest Territories    </td><td>  65317</td><td>2017</td><td>Winter</td></tr>\n",
       "</tbody>\n",
       "</table>\n"
      ],
      "text/latex": [
       "A data.frame: 6 × 4\n",
       "\\begin{tabular}{r|llll}\n",
       "  & prov & retail & year & season\\\\\n",
       "  & <fct> & <int> & <dbl> & <fct>\\\\\n",
       "\\hline\n",
       "\t1 & Alberta                   & 6726992 & 2017 & Winter\\\\\n",
       "\t2 & British Columbia          & 7277591 & 2017 & Winter\\\\\n",
       "\t3 & Manitoba                  & 1749096 & 2017 & Winter\\\\\n",
       "\t4 & New Brunswick             & 1049815 & 2017 & Winter\\\\\n",
       "\t5 & Newfoundland and Labrador &  800919 & 2017 & Winter\\\\\n",
       "\t6 & Northwest Territories     &   65317 & 2017 & Winter\\\\\n",
       "\\end{tabular}\n"
      ],
      "text/markdown": [
       "\n",
       "A data.frame: 6 × 4\n",
       "\n",
       "| <!--/--> | prov &lt;fct&gt; | retail &lt;int&gt; | year &lt;dbl&gt; | season &lt;fct&gt; |\n",
       "|---|---|---|---|---|\n",
       "| 1 | Alberta                   | 6726992 | 2017 | Winter |\n",
       "| 2 | British Columbia          | 7277591 | 2017 | Winter |\n",
       "| 3 | Manitoba                  | 1749096 | 2017 | Winter |\n",
       "| 4 | New Brunswick             | 1049815 | 2017 | Winter |\n",
       "| 5 | Newfoundland and Labrador |  800919 | 2017 | Winter |\n",
       "| 6 | Northwest Territories     |   65317 | 2017 | Winter |\n",
       "\n"
      ],
      "text/plain": [
       "  prov                      retail  year season\n",
       "1 Alberta                   6726992 2017 Winter\n",
       "2 British Columbia          7277591 2017 Winter\n",
       "3 Manitoba                  1749096 2017 Winter\n",
       "4 New Brunswick             1049815 2017 Winter\n",
       "5 Newfoundland and Labrador  800919 2017 Winter\n",
       "6 Northwest Territories       65317 2017 Winter"
      ]
     },
     "metadata": {},
     "output_type": "display_data"
    }
   ],
   "source": [
    "new_retail <- read.csv(\"data/clean/new_retail.csv\")[, -1]\n",
    "\n",
    "new_retail$season <- as.factor(sapply(new_retail$month, newMonth))\n",
    "new_retail$month <- NULL\n",
    "colnames(new_retail)[1] <- \"prov\"\n",
    "\n",
    "new_retail$year <- as.numeric(new_retail$year)\n",
    "new_retail$prov <- as.factor(new_retail$prov)\n",
    "\n",
    "head(new_retail)"
   ]
  },
  {
   "cell_type": "code",
   "execution_count": 5,
   "metadata": {
    "vscode": {
     "languageId": "r"
    }
   },
   "outputs": [
    {
     "data": {
      "image/png": "[encoded data removed]",
      "text/plain": [
       "plot without title"
      ]
     },
     "metadata": {
      "image/png": {
       "height": 420,
       "width": 420
      }
     },
     "output_type": "display_data"
    }
   ],
   "source": [
    "plot(new_retail$year, new_retail$retail, type=\"p\")"
   ]
  },
  {
   "cell_type": "code",
   "execution_count": 6,
   "metadata": {
    "vscode": {
     "languageId": "r"
    }
   },
   "outputs": [
    {
     "name": "stdout",
     "output_type": "stream",
     "text": [
      "Start:  AIC=29552.41\n",
      "retail ~ prov + year + season\n",
      "\n",
      "         Df  Sum of Sq        RSS   AIC\n",
      "<none>                 5.9960e+14 29552\n",
      "- season  3 8.0735e+12 6.0767e+14 29561\n",
      "- year    1 1.8588e+14 7.8548e+14 29845\n",
      "- prov   12 4.2392e+16 4.2991e+16 34194\n"
     ]
    },
    {
     "data": {
      "text/plain": [
       "\n",
       "Call:\n",
       "lm(formula = retail ~ prov + year + season, data = new_retail)\n",
       "\n",
       "Residuals:\n",
       "     Min       1Q   Median       3Q      Max \n",
       "-7709160  -300011   -45066   329186  3847004 \n",
       "\n",
       "Coefficients:\n",
       "                                Estimate Std. Error t value Pr(>|t|)    \n",
       "(Intercept)                   -409202370   22826475 -17.927  < 2e-16 ***\n",
       "provBritish Columbia              731375     115239   6.347 3.24e-10 ***\n",
       "provManitoba                    -5471763     115239 -47.482  < 2e-16 ***\n",
       "provNew Brunswick               -6192468     115239 -53.736  < 2e-16 ***\n",
       "provNewfoundland and Labrador   -6572306     115239 -57.032  < 2e-16 ***\n",
       "provNorthwest Territories       -7335838     115239 -63.657  < 2e-16 ***\n",
       "provNova Scotia                 -5891235     115239 -51.122  < 2e-16 ***\n",
       "provNunavut                     -7363982     115239 -63.902  < 2e-16 ***\n",
       "provOntario                     14308586     115239 124.164  < 2e-16 ***\n",
       "provPrince Edward Island        -7168491     115239 -62.205  < 2e-16 ***\n",
       "provQuebec                       5010660     115239  43.480  < 2e-16 ***\n",
       "provSaskatchewan                -5572432     115239 -48.355  < 2e-16 ***\n",
       "provYukon                       -7327016     115239 -63.581  < 2e-16 ***\n",
       "year                              206291      11300  18.256  < 2e-16 ***\n",
       "seasonSpring                     -232696      63923  -3.640 0.000285 ***\n",
       "seasonSummer                      -55290      63923  -0.865 0.387264    \n",
       "seasonWinter                     -100333      63923  -1.570 0.116806    \n",
       "---\n",
       "Signif. codes:  0 ‘***’ 0.001 ‘**’ 0.01 ‘*’ 0.05 ‘.’ 0.1 ‘ ’ 1\n",
       "\n",
       "Residual standard error: 746800 on 1075 degrees of freedom\n",
       "Multiple R-squared:  0.9861,\tAdjusted R-squared:  0.9859 \n",
       "F-statistic:  4772 on 16 and 1075 DF,  p-value: < 2.2e-16\n"
      ]
     },
     "metadata": {},
     "output_type": "display_data"
    }
   ],
   "source": [
    "retail_predictor <- step(lm(retail ~ ., data=new_retail))\n",
    "summary(retail_predictor)"
   ]
  },
  {
   "cell_type": "code",
   "execution_count": 7,
   "metadata": {
    "vscode": {
     "languageId": "r"
    }
   },
   "outputs": [],
   "source": [
    "data <- read.csv(\"data/merged_data.csv\")[, -1]\n",
    "data$food <- NULL\n",
    "data$manufac <- NULL"
   ]
  },
  {
   "cell_type": "code",
   "execution_count": 8,
   "metadata": {
    "vscode": {
     "languageId": "r"
    }
   },
   "outputs": [
    {
     "data": {
      "text/html": [
       "<table class=\"dataframe\">\n",
       "<caption>A data.frame: 6 × 8</caption>\n",
       "<thead>\n",
       "\t<tr><th></th><th scope=col>year</th><th scope=col>month</th><th scope=col>GEO</th><th scope=col>pop</th><th scope=col>protests</th><th scope=col>retail</th><th scope=col>oil</th><th scope=col>power</th></tr>\n",
       "\t<tr><th></th><th scope=col>&lt;int&gt;</th><th scope=col>&lt;chr&gt;</th><th scope=col>&lt;chr&gt;</th><th scope=col>&lt;int&gt;</th><th scope=col>&lt;int&gt;</th><th scope=col>&lt;dbl&gt;</th><th scope=col>&lt;int&gt;</th><th scope=col>&lt;int&gt;</th></tr>\n",
       "</thead>\n",
       "<tbody>\n",
       "\t<tr><th scope=row>1</th><td>2022</td><td>April</td><td>Alberta                  </td><td>4480956</td><td>17</td><td>7989056</td><td> 3983</td><td>6069621</td></tr>\n",
       "\t<tr><th scope=row>2</th><td>2022</td><td>April</td><td>British Columbia         </td><td>5310164</td><td>42</td><td>8959229</td><td>77433</td><td>5240902</td></tr>\n",
       "\t<tr><th scope=row>3</th><td>2022</td><td>April</td><td>Manitoba                 </td><td>1405197</td><td> 2</td><td>2083495</td><td> 6290</td><td>2168371</td></tr>\n",
       "\t<tr><th scope=row>4</th><td>2022</td><td>April</td><td>New Brunswick            </td><td> 801778</td><td> 5</td><td>1340707</td><td> 1818</td><td>1171958</td></tr>\n",
       "\t<tr><th scope=row>5</th><td>2022</td><td>April</td><td>Newfoundland and Labrador</td><td> 529249</td><td> 2</td><td> 920444</td><td>77160</td><td> 686123</td></tr>\n",
       "\t<tr><th scope=row>6</th><td>2022</td><td>April</td><td>Northwest Territories    </td><td>  44828</td><td> 0</td><td>  76390</td><td>    0</td><td>  58889</td></tr>\n",
       "</tbody>\n",
       "</table>\n"
      ],
      "text/latex": [
       "A data.frame: 6 × 8\n",
       "\\begin{tabular}{r|llllllll}\n",
       "  & year & month & GEO & pop & protests & retail & oil & power\\\\\n",
       "  & <int> & <chr> & <chr> & <int> & <int> & <dbl> & <int> & <int>\\\\\n",
       "\\hline\n",
       "\t1 & 2022 & April & Alberta                   & 4480956 & 17 & 7989056 &  3983 & 6069621\\\\\n",
       "\t2 & 2022 & April & British Columbia          & 5310164 & 42 & 8959229 & 77433 & 5240902\\\\\n",
       "\t3 & 2022 & April & Manitoba                  & 1405197 &  2 & 2083495 &  6290 & 2168371\\\\\n",
       "\t4 & 2022 & April & New Brunswick             &  801778 &  5 & 1340707 &  1818 & 1171958\\\\\n",
       "\t5 & 2022 & April & Newfoundland and Labrador &  529249 &  2 &  920444 & 77160 &  686123\\\\\n",
       "\t6 & 2022 & April & Northwest Territories     &   44828 &  0 &   76390 &     0 &   58889\\\\\n",
       "\\end{tabular}\n"
      ],
      "text/markdown": [
       "\n",
       "A data.frame: 6 × 8\n",
       "\n",
       "| <!--/--> | year &lt;int&gt; | month &lt;chr&gt; | GEO &lt;chr&gt; | pop &lt;int&gt; | protests &lt;int&gt; | retail &lt;dbl&gt; | oil &lt;int&gt; | power &lt;int&gt; |\n",
       "|---|---|---|---|---|---|---|---|---|\n",
       "| 1 | 2022 | April | Alberta                   | 4480956 | 17 | 7989056 |  3983 | 6069621 |\n",
       "| 2 | 2022 | April | British Columbia          | 5310164 | 42 | 8959229 | 77433 | 5240902 |\n",
       "| 3 | 2022 | April | Manitoba                  | 1405197 |  2 | 2083495 |  6290 | 2168371 |\n",
       "| 4 | 2022 | April | New Brunswick             |  801778 |  5 | 1340707 |  1818 | 1171958 |\n",
       "| 5 | 2022 | April | Newfoundland and Labrador |  529249 |  2 |  920444 | 77160 |  686123 |\n",
       "| 6 | 2022 | April | Northwest Territories     |   44828 |  0 |   76390 |     0 |   58889 |\n",
       "\n"
      ],
      "text/plain": [
       "  year month GEO                       pop     protests retail  oil   power  \n",
       "1 2022 April Alberta                   4480956 17       7989056  3983 6069621\n",
       "2 2022 April British Columbia          5310164 42       8959229 77433 5240902\n",
       "3 2022 April Manitoba                  1405197  2       2083495  6290 2168371\n",
       "4 2022 April New Brunswick              801778  5       1340707  1818 1171958\n",
       "5 2022 April Newfoundland and Labrador  529249  2        920444 77160  686123\n",
       "6 2022 April Northwest Territories       44828  0         76390     0   58889"
      ]
     },
     "metadata": {},
     "output_type": "display_data"
    }
   ],
   "source": [
    "head(data)"
   ]
  },
  {
   "cell_type": "code",
   "execution_count": 9,
   "metadata": {
    "vscode": {
     "languageId": "r"
    }
   },
   "outputs": [],
   "source": [
    "\n",
    "\n",
    "data$month <- sapply(data$month, newMonth)\n",
    "colnames(data)[2] <- \"season\""
   ]
  },
  {
   "cell_type": "code",
   "execution_count": 10,
   "metadata": {
    "vscode": {
     "languageId": "r"
    }
   },
   "outputs": [],
   "source": [
    "standardize <- function(x, mu, std) {\n",
    "    return((x-mu)/std)\n",
    "}\n",
    "\n",
    "# data$pop <- sapply(data$pop, function(x) standardize(x, mean(data$pop), sd(data$pop)))"
   ]
  },
  {
   "cell_type": "code",
   "execution_count": 11,
   "metadata": {
    "vscode": {
     "languageId": "r"
    }
   },
   "outputs": [],
   "source": [
    "colnames(data)[colnames(data) == \"GEO\"] <- \"prov\"\n",
    "\n",
    "data$prov  <- as.factor(data$prov)\n",
    "data$season <- as.factor(data$season)\n",
    "data$year <- as.factor(data$year)"
   ]
  },
  {
   "cell_type": "code",
   "execution_count": 12,
   "metadata": {
    "vscode": {
     "languageId": "r"
    }
   },
   "outputs": [
    {
     "data": {
      "text/html": [
       "<table class=\"dataframe\">\n",
       "<caption>A tibble: 13 × 2</caption>\n",
       "<thead>\n",
       "\t<tr><th scope=col>prov</th><th scope=col>mean</th></tr>\n",
       "\t<tr><th scope=col>&lt;fct&gt;</th><th scope=col>&lt;dbl&gt;</th></tr>\n",
       "</thead>\n",
       "<tbody>\n",
       "\t<tr><td>Alberta                  </td><td>139</td></tr>\n",
       "\t<tr><td>British Columbia         </td><td>284</td></tr>\n",
       "\t<tr><td>Manitoba                 </td><td>118</td></tr>\n",
       "\t<tr><td>New Brunswick            </td><td> 61</td></tr>\n",
       "\t<tr><td>Newfoundland and Labrador</td><td> 61</td></tr>\n",
       "\t<tr><td>Northwest Territories    </td><td>  6</td></tr>\n",
       "\t<tr><td>Nova Scotia              </td><td> 85</td></tr>\n",
       "\t<tr><td>Nunavut                  </td><td> 11</td></tr>\n",
       "\t<tr><td>Ontario                  </td><td>627</td></tr>\n",
       "\t<tr><td>Prince Edward Island     </td><td> 29</td></tr>\n",
       "\t<tr><td>Quebec                   </td><td>270</td></tr>\n",
       "\t<tr><td>Saskatchewan             </td><td> 56</td></tr>\n",
       "\t<tr><td>Yukon                    </td><td> 18</td></tr>\n",
       "</tbody>\n",
       "</table>\n"
      ],
      "text/latex": [
       "A tibble: 13 × 2\n",
       "\\begin{tabular}{ll}\n",
       " prov & mean\\\\\n",
       " <fct> & <dbl>\\\\\n",
       "\\hline\n",
       "\t Alberta                   & 139\\\\\n",
       "\t British Columbia          & 284\\\\\n",
       "\t Manitoba                  & 118\\\\\n",
       "\t New Brunswick             &  61\\\\\n",
       "\t Newfoundland and Labrador &  61\\\\\n",
       "\t Northwest Territories     &   6\\\\\n",
       "\t Nova Scotia               &  85\\\\\n",
       "\t Nunavut                   &  11\\\\\n",
       "\t Ontario                   & 627\\\\\n",
       "\t Prince Edward Island      &  29\\\\\n",
       "\t Quebec                    & 270\\\\\n",
       "\t Saskatchewan              &  56\\\\\n",
       "\t Yukon                     &  18\\\\\n",
       "\\end{tabular}\n"
      ],
      "text/markdown": [
       "\n",
       "A tibble: 13 × 2\n",
       "\n",
       "| prov &lt;fct&gt; | mean &lt;dbl&gt; |\n",
       "|---|---|\n",
       "| Alberta                   | 139 |\n",
       "| British Columbia          | 284 |\n",
       "| Manitoba                  | 118 |\n",
       "| New Brunswick             |  61 |\n",
       "| Newfoundland and Labrador |  61 |\n",
       "| Northwest Territories     |   6 |\n",
       "| Nova Scotia               |  85 |\n",
       "| Nunavut                   |  11 |\n",
       "| Ontario                   | 627 |\n",
       "| Prince Edward Island      |  29 |\n",
       "| Quebec                    | 270 |\n",
       "| Saskatchewan              |  56 |\n",
       "| Yukon                     |  18 |\n",
       "\n"
      ],
      "text/plain": [
       "   prov                      mean\n",
       "1  Alberta                   139 \n",
       "2  British Columbia          284 \n",
       "3  Manitoba                  118 \n",
       "4  New Brunswick              61 \n",
       "5  Newfoundland and Labrador  61 \n",
       "6  Northwest Territories       6 \n",
       "7  Nova Scotia                85 \n",
       "8  Nunavut                    11 \n",
       "9  Ontario                   627 \n",
       "10 Prince Edward Island       29 \n",
       "11 Quebec                    270 \n",
       "12 Saskatchewan               56 \n",
       "13 Yukon                      18 "
      ]
     },
     "metadata": {},
     "output_type": "display_data"
    }
   ],
   "source": [
    "total_protests <- data[as.character(data$year) == \"2023\", ] %>% group_by(prov) %>% summarise(total = sum(protests))\n",
    "total_protests %>% group_by(prov) %>% summarise(mean = mean(total))"
   ]
  },
  {
   "cell_type": "code",
   "execution_count": 13,
   "metadata": {
    "vscode": {
     "languageId": "r"
    }
   },
   "outputs": [
    {
     "data": {
      "text/html": [
       "<table class=\"dataframe\">\n",
       "<caption>A data.frame: 6 × 8</caption>\n",
       "<thead>\n",
       "\t<tr><th></th><th scope=col>year</th><th scope=col>season</th><th scope=col>prov</th><th scope=col>pop</th><th scope=col>protests</th><th scope=col>retail</th><th scope=col>oil</th><th scope=col>power</th></tr>\n",
       "\t<tr><th></th><th scope=col>&lt;fct&gt;</th><th scope=col>&lt;fct&gt;</th><th scope=col>&lt;fct&gt;</th><th scope=col>&lt;int&gt;</th><th scope=col>&lt;int&gt;</th><th scope=col>&lt;dbl&gt;</th><th scope=col>&lt;int&gt;</th><th scope=col>&lt;int&gt;</th></tr>\n",
       "</thead>\n",
       "<tbody>\n",
       "\t<tr><th scope=row>1</th><td>2022</td><td>Spring</td><td>Alberta                  </td><td>4480956</td><td>17</td><td>7989056</td><td> 3983</td><td>6069621</td></tr>\n",
       "\t<tr><th scope=row>2</th><td>2022</td><td>Spring</td><td>British Columbia         </td><td>5310164</td><td>42</td><td>8959229</td><td>77433</td><td>5240902</td></tr>\n",
       "\t<tr><th scope=row>3</th><td>2022</td><td>Spring</td><td>Manitoba                 </td><td>1405197</td><td> 2</td><td>2083495</td><td> 6290</td><td>2168371</td></tr>\n",
       "\t<tr><th scope=row>4</th><td>2022</td><td>Spring</td><td>New Brunswick            </td><td> 801778</td><td> 5</td><td>1340707</td><td> 1818</td><td>1171958</td></tr>\n",
       "\t<tr><th scope=row>5</th><td>2022</td><td>Spring</td><td>Newfoundland and Labrador</td><td> 529249</td><td> 2</td><td> 920444</td><td>77160</td><td> 686123</td></tr>\n",
       "\t<tr><th scope=row>6</th><td>2022</td><td>Spring</td><td>Northwest Territories    </td><td>  44828</td><td> 0</td><td>  76390</td><td>    0</td><td>  58889</td></tr>\n",
       "</tbody>\n",
       "</table>\n"
      ],
      "text/latex": [
       "A data.frame: 6 × 8\n",
       "\\begin{tabular}{r|llllllll}\n",
       "  & year & season & prov & pop & protests & retail & oil & power\\\\\n",
       "  & <fct> & <fct> & <fct> & <int> & <int> & <dbl> & <int> & <int>\\\\\n",
       "\\hline\n",
       "\t1 & 2022 & Spring & Alberta                   & 4480956 & 17 & 7989056 &  3983 & 6069621\\\\\n",
       "\t2 & 2022 & Spring & British Columbia          & 5310164 & 42 & 8959229 & 77433 & 5240902\\\\\n",
       "\t3 & 2022 & Spring & Manitoba                  & 1405197 &  2 & 2083495 &  6290 & 2168371\\\\\n",
       "\t4 & 2022 & Spring & New Brunswick             &  801778 &  5 & 1340707 &  1818 & 1171958\\\\\n",
       "\t5 & 2022 & Spring & Newfoundland and Labrador &  529249 &  2 &  920444 & 77160 &  686123\\\\\n",
       "\t6 & 2022 & Spring & Northwest Territories     &   44828 &  0 &   76390 &     0 &   58889\\\\\n",
       "\\end{tabular}\n"
      ],
      "text/markdown": [
       "\n",
       "A data.frame: 6 × 8\n",
       "\n",
       "| <!--/--> | year &lt;fct&gt; | season &lt;fct&gt; | prov &lt;fct&gt; | pop &lt;int&gt; | protests &lt;int&gt; | retail &lt;dbl&gt; | oil &lt;int&gt; | power &lt;int&gt; |\n",
       "|---|---|---|---|---|---|---|---|---|\n",
       "| 1 | 2022 | Spring | Alberta                   | 4480956 | 17 | 7989056 |  3983 | 6069621 |\n",
       "| 2 | 2022 | Spring | British Columbia          | 5310164 | 42 | 8959229 | 77433 | 5240902 |\n",
       "| 3 | 2022 | Spring | Manitoba                  | 1405197 |  2 | 2083495 |  6290 | 2168371 |\n",
       "| 4 | 2022 | Spring | New Brunswick             |  801778 |  5 | 1340707 |  1818 | 1171958 |\n",
       "| 5 | 2022 | Spring | Newfoundland and Labrador |  529249 |  2 |  920444 | 77160 |  686123 |\n",
       "| 6 | 2022 | Spring | Northwest Territories     |   44828 |  0 |   76390 |     0 |   58889 |\n",
       "\n"
      ],
      "text/plain": [
       "  year season prov                      pop     protests retail  oil   power  \n",
       "1 2022 Spring Alberta                   4480956 17       7989056  3983 6069621\n",
       "2 2022 Spring British Columbia          5310164 42       8959229 77433 5240902\n",
       "3 2022 Spring Manitoba                  1405197  2       2083495  6290 2168371\n",
       "4 2022 Spring New Brunswick              801778  5       1340707  1818 1171958\n",
       "5 2022 Spring Newfoundland and Labrador  529249  2        920444 77160  686123\n",
       "6 2022 Spring Northwest Territories       44828  0         76390     0   58889"
      ]
     },
     "metadata": {},
     "output_type": "display_data"
    }
   ],
   "source": [
    "# data$retail <- NULL\n",
    "head(data)"
   ]
  },
  {
   "cell_type": "markdown",
   "metadata": {},
   "source": [
    "### Build Model"
   ]
  },
  {
   "cell_type": "code",
   "execution_count": 14,
   "metadata": {
    "vscode": {
     "languageId": "r"
    }
   },
   "outputs": [
    {
     "data": {
      "text/plain": [
       "\n",
       "Call:\n",
       "glm.nb(formula = protests ~ prov + retail + season, data = data, \n",
       "    init.theta = 8.30561596, link = log)\n",
       "\n",
       "Coefficients:\n",
       "                                Estimate Std. Error z value Pr(>|z|)    \n",
       "(Intercept)                    4.994e+00  1.256e+00   3.975 7.03e-05 ***\n",
       "provBritish Columbia           8.155e-01  1.631e-01   5.000 5.73e-07 ***\n",
       "provManitoba                  -1.915e+00  9.211e-01  -2.079 0.037605 *  \n",
       "provNew Brunswick             -2.624e+00  1.044e+00  -2.513 0.011965 *  \n",
       "provNewfoundland and Labrador -3.070e+00  1.113e+00  -2.757 0.005833 ** \n",
       "provNorthwest Territories     -5.358e+00  1.269e+00  -4.224 2.40e-05 ***\n",
       "provNova Scotia               -2.413e+00  9.935e-01  -2.429 0.015133 *  \n",
       "provNunavut                   -4.985e+00  1.263e+00  -3.947 7.92e-05 ***\n",
       "provOntario                    5.597e+00  2.449e+00   2.285 0.022314 *  \n",
       "provPrince Edward Island      -4.113e+00  1.216e+00  -3.382 0.000719 ***\n",
       "provQuebec                     2.190e+00  9.316e-01   2.351 0.018711 *  \n",
       "provSaskatchewan              -2.582e+00  9.418e-01  -2.741 0.006116 ** \n",
       "provYukon                     -4.138e+00  1.245e+00  -3.325 0.000884 ***\n",
       "retail                        -2.605e-07  1.496e-07  -1.741 0.081671 .  \n",
       "seasonSpring                  -6.502e-02  8.264e-02  -0.787 0.431441    \n",
       "seasonSummer                  -5.522e-01  8.629e-02  -6.399 1.57e-10 ***\n",
       "seasonWinter                  -2.287e-01  8.873e-02  -2.578 0.009946 ** \n",
       "---\n",
       "Signif. codes:  0 ‘***’ 0.001 ‘**’ 0.01 ‘*’ 0.05 ‘.’ 0.1 ‘ ’ 1\n",
       "\n",
       "(Dispersion parameter for Negative Binomial(8.3056) family taken to be 1)\n",
       "\n",
       "    Null deviance: 2091.2  on 298  degrees of freedom\n",
       "Residual deviance:  349.2  on 282  degrees of freedom\n",
       "AIC: 1585\n",
       "\n",
       "Number of Fisher Scoring iterations: 1\n",
       "\n",
       "\n",
       "              Theta:  8.31 \n",
       "          Std. Err.:  1.46 \n",
       "\n",
       " 2 x log-likelihood:  -1548.997 "
      ]
     },
     "metadata": {},
     "output_type": "display_data"
    }
   ],
   "source": [
    "# std_data <- data\n",
    "# std_data$retail <- sapply(std_data$retail, function(x) {standardize(x, mean(std_data$retail), sd(std_data$retail))})\n",
    "\n",
    "\n",
    "# model <- glm.nb(protests ~ prov + retail + season, data=std_data)\n",
    "\n",
    "model <- glm.nb(protests ~ prov + retail + season, data=data)\n",
    "summary(model)\n"
   ]
  },
  {
   "cell_type": "markdown",
   "metadata": {},
   "source": [
    "## Perform Monte Carlo Simulation"
   ]
  },
  {
   "cell_type": "code",
   "execution_count": 15,
   "metadata": {
    "vscode": {
     "languageId": "r"
    }
   },
   "outputs": [
    {
     "data": {
      "text/html": [
       "<style>\n",
       ".list-inline {list-style: none; margin:0; padding: 0}\n",
       ".list-inline>li {display: inline-block}\n",
       ".list-inline>li:not(:last-child)::after {content: \"\\00b7\"; padding: 0 .5ex}\n",
       "</style>\n",
       "<ol class=list-inline><li>143</li><li>3</li></ol>\n"
      ],
      "text/latex": [
       "\\begin{enumerate*}\n",
       "\\item 143\n",
       "\\item 3\n",
       "\\end{enumerate*}\n"
      ],
      "text/markdown": [
       "1. 143\n",
       "2. 3\n",
       "\n",
       "\n"
      ],
      "text/plain": [
       "[1] 143   3"
      ]
     },
     "metadata": {},
     "output_type": "display_data"
    }
   ],
   "source": [
    "data <- data[c(\"prov\", \"season\", \"retail\", \"year\")]\n",
    "\n",
    "dim(data[as.character(data$year) == \"2023\", ][, c(-3)])"
   ]
  },
  {
   "cell_type": "markdown",
   "metadata": {},
   "source": [
    "### Create New Data"
   ]
  },
  {
   "cell_type": "markdown",
   "metadata": {},
   "source": [
    "#### 1. High Retail Sales"
   ]
  },
  {
   "cell_type": "code",
   "execution_count": 16,
   "metadata": {
    "vscode": {
     "languageId": "r"
    }
   },
   "outputs": [
    {
     "name": "stdout",
     "output_type": "stream",
     "text": [
      "================================================================================\n"
     ]
    }
   ],
   "source": [
    "num_iterations <- 2860\n",
    "results <- c()\n",
    "\n",
    "retail_pred_std <- summary(retail_predictor)$sigma\n",
    "bar <- txtProgressBar(min=0, max=num_iterations, style=1)\n",
    "\n",
    "for (i in 1:num_iterations) {\n",
    "    # Get constant values\n",
    "    blank_data <- data[as.character(data$year) == \"2023\", ][, c(-3)]\n",
    "\n",
    "    blank_data$year <- 2030\n",
    "\n",
    "\tretail_preds <- predict.lm(retail_predictor, newdata=blank_data, interval = \"prediction\")\n",
    "\tpred_means <- retail_preds[, \"fit\"]\n",
    "    \n",
    "\t# Predict retail stochastically\n",
    "    blank_data <- cbind(blank_data, retail_preds)\n",
    "    blank_data <- as.data.frame(blank_data)\n",
    "    pred_retails <- rnorm(n=nrow(blank_data), mean=pred_means, sd=retail_pred_std)\n",
    "    \n",
    "    blank_data$retail <- pred_retails\n",
    "    blank_data[, c(\"fit\", \"lwr\", \"upr\")] <- NULL\n",
    "    blank_data$year <- NULL\n",
    "    \n",
    "    # Predict protests\n",
    "    blank_data$protests <- predict.glm(model, newdata=blank_data, type=\"response\")\n",
    "    # Round off to nearest integer\n",
    "    blank_data$protests <- round(blank_data$protests)\n",
    "\n",
    "    rownames(blank_data) <- NULL\n",
    "    results <- rbind(results, blank_data)\n",
    "\tsetTxtProgressBar(bar, i)\n",
    "}\n",
    "close(bar)"
   ]
  },
  {
   "cell_type": "code",
   "execution_count": 18,
   "metadata": {
    "vscode": {
     "languageId": "r"
    }
   },
   "outputs": [
    {
     "data": {
      "text/html": [
       "<table class=\"dataframe\">\n",
       "<caption>A data.frame: 408980 × 4</caption>\n",
       "<thead>\n",
       "\t<tr><th scope=col>prov</th><th scope=col>season</th><th scope=col>retail</th><th scope=col>protests</th></tr>\n",
       "\t<tr><th scope=col>&lt;fct&gt;</th><th scope=col>&lt;fct&gt;</th><th scope=col>&lt;dbl&gt;</th><th scope=col>&lt;dbl&gt;</th></tr>\n",
       "</thead>\n",
       "<tbody>\n",
       "\t<tr><td>Alberta                  </td><td>Spring</td><td>10359631.2</td><td> 9</td></tr>\n",
       "\t<tr><td>British Columbia         </td><td>Spring</td><td> 9645387.9</td><td>25</td></tr>\n",
       "\t<tr><td>Manitoba                 </td><td>Spring</td><td> 4135183.9</td><td> 7</td></tr>\n",
       "\t<tr><td>New Brunswick            </td><td>Spring</td><td> 3615926.1</td><td> 4</td></tr>\n",
       "\t<tr><td>Newfoundland and Labrador</td><td>Spring</td><td> 3065366.1</td><td> 3</td></tr>\n",
       "\t<tr><td>Northwest Territories    </td><td>Spring</td><td> 1920653.8</td><td> 0</td></tr>\n",
       "\t<tr><td>Nova Scotia              </td><td>Spring</td><td> 4573374.5</td><td> 4</td></tr>\n",
       "\t<tr><td>Nunavut                  </td><td>Spring</td><td> 1901073.3</td><td> 1</td></tr>\n",
       "\t<tr><td>Ontario                  </td><td>Spring</td><td>25151767.8</td><td>53</td></tr>\n",
       "\t<tr><td>Prince Edward Island     </td><td>Spring</td><td> 2120421.3</td><td> 1</td></tr>\n",
       "\t<tr><td>Quebec                   </td><td>Spring</td><td>15320933.9</td><td>23</td></tr>\n",
       "\t<tr><td>Saskatchewan             </td><td>Spring</td><td> 5471067.8</td><td> 3</td></tr>\n",
       "\t<tr><td>Yukon                    </td><td>Spring</td><td>  971481.9</td><td> 2</td></tr>\n",
       "\t<tr><td>Alberta                  </td><td>Summer</td><td> 9304946.0</td><td> 8</td></tr>\n",
       "\t<tr><td>British Columbia         </td><td>Summer</td><td>10144961.6</td><td>14</td></tr>\n",
       "\t<tr><td>Manitoba                 </td><td>Summer</td><td> 4516343.0</td><td> 4</td></tr>\n",
       "\t<tr><td>New Brunswick            </td><td>Summer</td><td> 3108396.8</td><td> 3</td></tr>\n",
       "\t<tr><td>Newfoundland and Labrador</td><td>Summer</td><td>  956912.5</td><td> 3</td></tr>\n",
       "\t<tr><td>Northwest Territories    </td><td>Summer</td><td>  354688.1</td><td> 0</td></tr>\n",
       "\t<tr><td>Nova Scotia              </td><td>Summer</td><td> 4607829.4</td><td> 2</td></tr>\n",
       "\t<tr><td>Nunavut                  </td><td>Summer</td><td> 1920165.0</td><td> 0</td></tr>\n",
       "\t<tr><td>Ontario                  </td><td>Summer</td><td>22491395.9</td><td>65</td></tr>\n",
       "\t<tr><td>Prince Edward Island     </td><td>Summer</td><td> 2216270.2</td><td> 1</td></tr>\n",
       "\t<tr><td>Quebec                   </td><td>Summer</td><td>15430978.8</td><td>14</td></tr>\n",
       "\t<tr><td>Saskatchewan             </td><td>Summer</td><td> 5356123.1</td><td> 2</td></tr>\n",
       "\t<tr><td>Yukon                    </td><td>Summer</td><td> 1864649.2</td><td> 1</td></tr>\n",
       "\t<tr><td>Alberta                  </td><td>Winter</td><td> 9275974.3</td><td>10</td></tr>\n",
       "\t<tr><td>British Columbia         </td><td>Winter</td><td> 8882693.6</td><td>26</td></tr>\n",
       "\t<tr><td>Manitoba                 </td><td>Winter</td><td> 4339966.4</td><td> 6</td></tr>\n",
       "\t<tr><td>New Brunswick            </td><td>Winter</td><td> 2797672.7</td><td> 4</td></tr>\n",
       "\t<tr><td>⋮</td><td>⋮</td><td>⋮</td><td>⋮</td></tr>\n",
       "\t<tr><td>Prince Edward Island     </td><td>Fall</td><td> 1537527.4</td><td> 2</td></tr>\n",
       "\t<tr><td>Quebec                   </td><td>Fall</td><td>14103665.2</td><td>33</td></tr>\n",
       "\t<tr><td>Saskatchewan             </td><td>Fall</td><td> 4481712.6</td><td> 3</td></tr>\n",
       "\t<tr><td>Yukon                    </td><td>Fall</td><td> 2453887.4</td><td> 1</td></tr>\n",
       "\t<tr><td>Alberta                  </td><td>Fall</td><td>10011905.9</td><td>11</td></tr>\n",
       "\t<tr><td>British Columbia         </td><td>Fall</td><td> 9044057.5</td><td>32</td></tr>\n",
       "\t<tr><td>Manitoba                 </td><td>Fall</td><td> 3522051.5</td><td> 9</td></tr>\n",
       "\t<tr><td>New Brunswick            </td><td>Fall</td><td> 2888161.2</td><td> 5</td></tr>\n",
       "\t<tr><td>Newfoundland and Labrador</td><td>Fall</td><td> 1615510.7</td><td> 4</td></tr>\n",
       "\t<tr><td>Northwest Territories    </td><td>Fall</td><td> 2208866.5</td><td> 0</td></tr>\n",
       "\t<tr><td>Nova Scotia              </td><td>Fall</td><td> 2352074.8</td><td> 7</td></tr>\n",
       "\t<tr><td>Nunavut                  </td><td>Fall</td><td> 2614791.5</td><td> 1</td></tr>\n",
       "\t<tr><td>Ontario                  </td><td>Fall</td><td>23053728.3</td><td>98</td></tr>\n",
       "\t<tr><td>Prince Edward Island     </td><td>Fall</td><td> 3164125.6</td><td> 1</td></tr>\n",
       "\t<tr><td>Quebec                   </td><td>Fall</td><td>14076816.5</td><td>34</td></tr>\n",
       "\t<tr><td>Saskatchewan             </td><td>Fall</td><td> 5858702.3</td><td> 2</td></tr>\n",
       "\t<tr><td>Yukon                    </td><td>Fall</td><td> 1514940.1</td><td> 2</td></tr>\n",
       "\t<tr><td>Alberta                  </td><td>Fall</td><td> 9108336.9</td><td>14</td></tr>\n",
       "\t<tr><td>British Columbia         </td><td>Fall</td><td>10521684.7</td><td>22</td></tr>\n",
       "\t<tr><td>Manitoba                 </td><td>Fall</td><td> 4397592.4</td><td> 7</td></tr>\n",
       "\t<tr><td>New Brunswick            </td><td>Fall</td><td> 2980777.4</td><td> 5</td></tr>\n",
       "\t<tr><td>Newfoundland and Labrador</td><td>Fall</td><td> 1889110.5</td><td> 4</td></tr>\n",
       "\t<tr><td>Northwest Territories    </td><td>Fall</td><td> 1589032.1</td><td> 0</td></tr>\n",
       "\t<tr><td>Nova Scotia              </td><td>Fall</td><td> 5240328.9</td><td> 3</td></tr>\n",
       "\t<tr><td>Nunavut                  </td><td>Fall</td><td>  747006.3</td><td> 1</td></tr>\n",
       "\t<tr><td>Ontario                  </td><td>Fall</td><td>23650196.8</td><td>84</td></tr>\n",
       "\t<tr><td>Prince Edward Island     </td><td>Fall</td><td> 1555686.7</td><td> 2</td></tr>\n",
       "\t<tr><td>Quebec                   </td><td>Fall</td><td>13921605.0</td><td>35</td></tr>\n",
       "\t<tr><td>Saskatchewan             </td><td>Fall</td><td> 3772600.4</td><td> 4</td></tr>\n",
       "\t<tr><td>Yukon                    </td><td>Fall</td><td> 2436516.1</td><td> 1</td></tr>\n",
       "</tbody>\n",
       "</table>\n"
      ],
      "text/latex": [
       "A data.frame: 408980 × 4\n",
       "\\begin{tabular}{llll}\n",
       " prov & season & retail & protests\\\\\n",
       " <fct> & <fct> & <dbl> & <dbl>\\\\\n",
       "\\hline\n",
       "\t Alberta                   & Spring & 10359631.2 &  9\\\\\n",
       "\t British Columbia          & Spring &  9645387.9 & 25\\\\\n",
       "\t Manitoba                  & Spring &  4135183.9 &  7\\\\\n",
       "\t New Brunswick             & Spring &  3615926.1 &  4\\\\\n",
       "\t Newfoundland and Labrador & Spring &  3065366.1 &  3\\\\\n",
       "\t Northwest Territories     & Spring &  1920653.8 &  0\\\\\n",
       "\t Nova Scotia               & Spring &  4573374.5 &  4\\\\\n",
       "\t Nunavut                   & Spring &  1901073.3 &  1\\\\\n",
       "\t Ontario                   & Spring & 25151767.8 & 53\\\\\n",
       "\t Prince Edward Island      & Spring &  2120421.3 &  1\\\\\n",
       "\t Quebec                    & Spring & 15320933.9 & 23\\\\\n",
       "\t Saskatchewan              & Spring &  5471067.8 &  3\\\\\n",
       "\t Yukon                     & Spring &   971481.9 &  2\\\\\n",
       "\t Alberta                   & Summer &  9304946.0 &  8\\\\\n",
       "\t British Columbia          & Summer & 10144961.6 & 14\\\\\n",
       "\t Manitoba                  & Summer &  4516343.0 &  4\\\\\n",
       "\t New Brunswick             & Summer &  3108396.8 &  3\\\\\n",
       "\t Newfoundland and Labrador & Summer &   956912.5 &  3\\\\\n",
       "\t Northwest Territories     & Summer &   354688.1 &  0\\\\\n",
       "\t Nova Scotia               & Summer &  4607829.4 &  2\\\\\n",
       "\t Nunavut                   & Summer &  1920165.0 &  0\\\\\n",
       "\t Ontario                   & Summer & 22491395.9 & 65\\\\\n",
       "\t Prince Edward Island      & Summer &  2216270.2 &  1\\\\\n",
       "\t Quebec                    & Summer & 15430978.8 & 14\\\\\n",
       "\t Saskatchewan              & Summer &  5356123.1 &  2\\\\\n",
       "\t Yukon                     & Summer &  1864649.2 &  1\\\\\n",
       "\t Alberta                   & Winter &  9275974.3 & 10\\\\\n",
       "\t British Columbia          & Winter &  8882693.6 & 26\\\\\n",
       "\t Manitoba                  & Winter &  4339966.4 &  6\\\\\n",
       "\t New Brunswick             & Winter &  2797672.7 &  4\\\\\n",
       "\t ⋮ & ⋮ & ⋮ & ⋮\\\\\n",
       "\t Prince Edward Island      & Fall &  1537527.4 &  2\\\\\n",
       "\t Quebec                    & Fall & 14103665.2 & 33\\\\\n",
       "\t Saskatchewan              & Fall &  4481712.6 &  3\\\\\n",
       "\t Yukon                     & Fall &  2453887.4 &  1\\\\\n",
       "\t Alberta                   & Fall & 10011905.9 & 11\\\\\n",
       "\t British Columbia          & Fall &  9044057.5 & 32\\\\\n",
       "\t Manitoba                  & Fall &  3522051.5 &  9\\\\\n",
       "\t New Brunswick             & Fall &  2888161.2 &  5\\\\\n",
       "\t Newfoundland and Labrador & Fall &  1615510.7 &  4\\\\\n",
       "\t Northwest Territories     & Fall &  2208866.5 &  0\\\\\n",
       "\t Nova Scotia               & Fall &  2352074.8 &  7\\\\\n",
       "\t Nunavut                   & Fall &  2614791.5 &  1\\\\\n",
       "\t Ontario                   & Fall & 23053728.3 & 98\\\\\n",
       "\t Prince Edward Island      & Fall &  3164125.6 &  1\\\\\n",
       "\t Quebec                    & Fall & 14076816.5 & 34\\\\\n",
       "\t Saskatchewan              & Fall &  5858702.3 &  2\\\\\n",
       "\t Yukon                     & Fall &  1514940.1 &  2\\\\\n",
       "\t Alberta                   & Fall &  9108336.9 & 14\\\\\n",
       "\t British Columbia          & Fall & 10521684.7 & 22\\\\\n",
       "\t Manitoba                  & Fall &  4397592.4 &  7\\\\\n",
       "\t New Brunswick             & Fall &  2980777.4 &  5\\\\\n",
       "\t Newfoundland and Labrador & Fall &  1889110.5 &  4\\\\\n",
       "\t Northwest Territories     & Fall &  1589032.1 &  0\\\\\n",
       "\t Nova Scotia               & Fall &  5240328.9 &  3\\\\\n",
       "\t Nunavut                   & Fall &   747006.3 &  1\\\\\n",
       "\t Ontario                   & Fall & 23650196.8 & 84\\\\\n",
       "\t Prince Edward Island      & Fall &  1555686.7 &  2\\\\\n",
       "\t Quebec                    & Fall & 13921605.0 & 35\\\\\n",
       "\t Saskatchewan              & Fall &  3772600.4 &  4\\\\\n",
       "\t Yukon                     & Fall &  2436516.1 &  1\\\\\n",
       "\\end{tabular}\n"
      ],
      "text/markdown": [
       "\n",
       "A data.frame: 408980 × 4\n",
       "\n",
       "| prov &lt;fct&gt; | season &lt;fct&gt; | retail &lt;dbl&gt; | protests &lt;dbl&gt; |\n",
       "|---|---|---|---|\n",
       "| Alberta                   | Spring | 10359631.2 |  9 |\n",
       "| British Columbia          | Spring |  9645387.9 | 25 |\n",
       "| Manitoba                  | Spring |  4135183.9 |  7 |\n",
       "| New Brunswick             | Spring |  3615926.1 |  4 |\n",
       "| Newfoundland and Labrador | Spring |  3065366.1 |  3 |\n",
       "| Northwest Territories     | Spring |  1920653.8 |  0 |\n",
       "| Nova Scotia               | Spring |  4573374.5 |  4 |\n",
       "| Nunavut                   | Spring |  1901073.3 |  1 |\n",
       "| Ontario                   | Spring | 25151767.8 | 53 |\n",
       "| Prince Edward Island      | Spring |  2120421.3 |  1 |\n",
       "| Quebec                    | Spring | 15320933.9 | 23 |\n",
       "| Saskatchewan              | Spring |  5471067.8 |  3 |\n",
       "| Yukon                     | Spring |   971481.9 |  2 |\n",
       "| Alberta                   | Summer |  9304946.0 |  8 |\n",
       "| British Columbia          | Summer | 10144961.6 | 14 |\n",
       "| Manitoba                  | Summer |  4516343.0 |  4 |\n",
       "| New Brunswick             | Summer |  3108396.8 |  3 |\n",
       "| Newfoundland and Labrador | Summer |   956912.5 |  3 |\n",
       "| Northwest Territories     | Summer |   354688.1 |  0 |\n",
       "| Nova Scotia               | Summer |  4607829.4 |  2 |\n",
       "| Nunavut                   | Summer |  1920165.0 |  0 |\n",
       "| Ontario                   | Summer | 22491395.9 | 65 |\n",
       "| Prince Edward Island      | Summer |  2216270.2 |  1 |\n",
       "| Quebec                    | Summer | 15430978.8 | 14 |\n",
       "| Saskatchewan              | Summer |  5356123.1 |  2 |\n",
       "| Yukon                     | Summer |  1864649.2 |  1 |\n",
       "| Alberta                   | Winter |  9275974.3 | 10 |\n",
       "| British Columbia          | Winter |  8882693.6 | 26 |\n",
       "| Manitoba                  | Winter |  4339966.4 |  6 |\n",
       "| New Brunswick             | Winter |  2797672.7 |  4 |\n",
       "| ⋮ | ⋮ | ⋮ | ⋮ |\n",
       "| Prince Edward Island      | Fall |  1537527.4 |  2 |\n",
       "| Quebec                    | Fall | 14103665.2 | 33 |\n",
       "| Saskatchewan              | Fall |  4481712.6 |  3 |\n",
       "| Yukon                     | Fall |  2453887.4 |  1 |\n",
       "| Alberta                   | Fall | 10011905.9 | 11 |\n",
       "| British Columbia          | Fall |  9044057.5 | 32 |\n",
       "| Manitoba                  | Fall |  3522051.5 |  9 |\n",
       "| New Brunswick             | Fall |  2888161.2 |  5 |\n",
       "| Newfoundland and Labrador | Fall |  1615510.7 |  4 |\n",
       "| Northwest Territories     | Fall |  2208866.5 |  0 |\n",
       "| Nova Scotia               | Fall |  2352074.8 |  7 |\n",
       "| Nunavut                   | Fall |  2614791.5 |  1 |\n",
       "| Ontario                   | Fall | 23053728.3 | 98 |\n",
       "| Prince Edward Island      | Fall |  3164125.6 |  1 |\n",
       "| Quebec                    | Fall | 14076816.5 | 34 |\n",
       "| Saskatchewan              | Fall |  5858702.3 |  2 |\n",
       "| Yukon                     | Fall |  1514940.1 |  2 |\n",
       "| Alberta                   | Fall |  9108336.9 | 14 |\n",
       "| British Columbia          | Fall | 10521684.7 | 22 |\n",
       "| Manitoba                  | Fall |  4397592.4 |  7 |\n",
       "| New Brunswick             | Fall |  2980777.4 |  5 |\n",
       "| Newfoundland and Labrador | Fall |  1889110.5 |  4 |\n",
       "| Northwest Territories     | Fall |  1589032.1 |  0 |\n",
       "| Nova Scotia               | Fall |  5240328.9 |  3 |\n",
       "| Nunavut                   | Fall |   747006.3 |  1 |\n",
       "| Ontario                   | Fall | 23650196.8 | 84 |\n",
       "| Prince Edward Island      | Fall |  1555686.7 |  2 |\n",
       "| Quebec                    | Fall | 13921605.0 | 35 |\n",
       "| Saskatchewan              | Fall |  3772600.4 |  4 |\n",
       "| Yukon                     | Fall |  2436516.1 |  1 |\n",
       "\n"
      ],
      "text/plain": [
       "       prov                      season retail     protests\n",
       "1      Alberta                   Spring 10359631.2  9      \n",
       "2      British Columbia          Spring  9645387.9 25      \n",
       "3      Manitoba                  Spring  4135183.9  7      \n",
       "4      New Brunswick             Spring  3615926.1  4      \n",
       "5      Newfoundland and Labrador Spring  3065366.1  3      \n",
       "6      Northwest Territories     Spring  1920653.8  0      \n",
       "7      Nova Scotia               Spring  4573374.5  4      \n",
       "8      Nunavut                   Spring  1901073.3  1      \n",
       "9      Ontario                   Spring 25151767.8 53      \n",
       "10     Prince Edward Island      Spring  2120421.3  1      \n",
       "11     Quebec                    Spring 15320933.9 23      \n",
       "12     Saskatchewan              Spring  5471067.8  3      \n",
       "13     Yukon                     Spring   971481.9  2      \n",
       "14     Alberta                   Summer  9304946.0  8      \n",
       "15     British Columbia          Summer 10144961.6 14      \n",
       "16     Manitoba                  Summer  4516343.0  4      \n",
       "17     New Brunswick             Summer  3108396.8  3      \n",
       "18     Newfoundland and Labrador Summer   956912.5  3      \n",
       "19     Northwest Territories     Summer   354688.1  0      \n",
       "20     Nova Scotia               Summer  4607829.4  2      \n",
       "21     Nunavut                   Summer  1920165.0  0      \n",
       "22     Ontario                   Summer 22491395.9 65      \n",
       "23     Prince Edward Island      Summer  2216270.2  1      \n",
       "24     Quebec                    Summer 15430978.8 14      \n",
       "25     Saskatchewan              Summer  5356123.1  2      \n",
       "26     Yukon                     Summer  1864649.2  1      \n",
       "27     Alberta                   Winter  9275974.3 10      \n",
       "28     British Columbia          Winter  8882693.6 26      \n",
       "29     Manitoba                  Winter  4339966.4  6      \n",
       "30     New Brunswick             Winter  2797672.7  4      \n",
       "⋮      ⋮                         ⋮      ⋮          ⋮       \n",
       "408951 Prince Edward Island      Fall    1537527.4  2      \n",
       "408952 Quebec                    Fall   14103665.2 33      \n",
       "408953 Saskatchewan              Fall    4481712.6  3      \n",
       "408954 Yukon                     Fall    2453887.4  1      \n",
       "408955 Alberta                   Fall   10011905.9 11      \n",
       "408956 British Columbia          Fall    9044057.5 32      \n",
       "408957 Manitoba                  Fall    3522051.5  9      \n",
       "408958 New Brunswick             Fall    2888161.2  5      \n",
       "408959 Newfoundland and Labrador Fall    1615510.7  4      \n",
       "408960 Northwest Territories     Fall    2208866.5  0      \n",
       "408961 Nova Scotia               Fall    2352074.8  7      \n",
       "408962 Nunavut                   Fall    2614791.5  1      \n",
       "408963 Ontario                   Fall   23053728.3 98      \n",
       "408964 Prince Edward Island      Fall    3164125.6  1      \n",
       "408965 Quebec                    Fall   14076816.5 34      \n",
       "408966 Saskatchewan              Fall    5858702.3  2      \n",
       "408967 Yukon                     Fall    1514940.1  2      \n",
       "408968 Alberta                   Fall    9108336.9 14      \n",
       "408969 British Columbia          Fall   10521684.7 22      \n",
       "408970 Manitoba                  Fall    4397592.4  7      \n",
       "408971 New Brunswick             Fall    2980777.4  5      \n",
       "408972 Newfoundland and Labrador Fall    1889110.5  4      \n",
       "408973 Northwest Territories     Fall    1589032.1  0      \n",
       "408974 Nova Scotia               Fall    5240328.9  3      \n",
       "408975 Nunavut                   Fall     747006.3  1      \n",
       "408976 Ontario                   Fall   23650196.8 84      \n",
       "408977 Prince Edward Island      Fall    1555686.7  2      \n",
       "408978 Quebec                    Fall   13921605.0 35      \n",
       "408979 Saskatchewan              Fall    3772600.4  4      \n",
       "408980 Yukon                     Fall    2436516.1  1      "
      ]
     },
     "metadata": {},
     "output_type": "display_data"
    }
   ],
   "source": [
    "results"
   ]
  },
  {
   "cell_type": "code",
   "execution_count": 19,
   "metadata": {
    "vscode": {
     "languageId": "r"
    }
   },
   "outputs": [],
   "source": [
    "write.csv(results, \"data/montecarlo/2030_norm.csv\")"
   ]
  }
 ],
 "metadata": {
  "kernelspec": {
   "display_name": "R",
   "language": "R",
   "name": "ir"
  },
  "language_info": {
   "codemirror_mode": "r",
   "file_extension": ".r",
   "mimetype": "text/x-r-source",
   "name": "R",
   "pygments_lexer": "r",
   "version": "4.3.3"
  }
 },
 "nbformat": 4,
 "nbformat_minor": 2
}
