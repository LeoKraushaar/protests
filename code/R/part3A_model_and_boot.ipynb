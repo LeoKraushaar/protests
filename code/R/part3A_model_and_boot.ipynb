{
 "cells": [
  {
   "cell_type": "markdown",
   "metadata": {},
   "source": [
    "## Model Building"
   ]
  },
  {
   "cell_type": "code",
   "execution_count": 98,
   "metadata": {
    "vscode": {
     "languageId": "r"
    }
   },
   "outputs": [],
   "source": [
    "library(MASS)\n",
    "library(dplyr)"
   ]
  },
  {
   "cell_type": "code",
   "execution_count": 99,
   "metadata": {
    "vscode": {
     "languageId": "r"
    }
   },
   "outputs": [],
   "source": [
    "setwd(\"/home/leoKraushaar/Documents/School/Year 3/Semester 2/STAT 413/Project/protests/\")\n",
    "set.seed(42)"
   ]
  },
  {
   "cell_type": "code",
   "execution_count": 100,
   "metadata": {
    "vscode": {
     "languageId": "r"
    }
   },
   "outputs": [],
   "source": [
    "B <- 1e4\n",
    "init_data <- read.csv(\"data/merged_data.csv\")[, -1]"
   ]
  },
  {
   "cell_type": "code",
   "execution_count": 101,
   "metadata": {
    "notebookRunGroups": {
     "groupValue": "1"
    },
    "vscode": {
     "languageId": "r"
    }
   },
   "outputs": [],
   "source": [
    "no_na <- init_data[!is.na(init_data$food), ]"
   ]
  },
  {
   "cell_type": "code",
   "execution_count": 102,
   "metadata": {
    "vscode": {
     "languageId": "r"
    }
   },
   "outputs": [
    {
     "data": {
      "image/png": "[encoded data removed]",
      "text/plain": [
       "Plot with title “Histogram of Protests”"
      ]
     },
     "metadata": {
      "image/png": {
       "height": 420,
       "width": 420
      }
     },
     "output_type": "display_data"
    }
   ],
   "source": [
    "hist(init_data$protests, breaks = 20, main = \"Histogram of Protests\", xlab = \"Protests\", col=\"light blue\")"
   ]
  },
  {
   "cell_type": "code",
   "execution_count": 103,
   "metadata": {
    "vscode": {
     "languageId": "r"
    }
   },
   "outputs": [
    {
     "name": "stderr",
     "output_type": "stream",
     "text": [
      "Warning message in mean.default(X[[i]], ...):\n",
      "“argument is not numeric or logical: returning NA”\n",
      "Warning message in mean.default(X[[i]], ...):\n",
      "“argument is not numeric or logical: returning NA”\n",
      "Warning message in mean.default(X[[i]], ...):\n",
      "“argument is not numeric or logical: returning NA”\n",
      "Warning message in mean.default(X[[i]], ...):\n",
      "“argument is not numeric or logical: returning NA”\n",
      "Warning message in mean.default(X[[i]], ...):\n",
      "“argument is not numeric or logical: returning NA”\n",
      "Warning message in mean.default(X[[i]], ...):\n",
      "“argument is not numeric or logical: returning NA”\n",
      "Warning message in mean.default(X[[i]], ...):\n",
      "“argument is not numeric or logical: returning NA”\n",
      "Warning message in mean.default(X[[i]], ...):\n",
      "“argument is not numeric or logical: returning NA”\n",
      "Warning message in mean.default(X[[i]], ...):\n",
      "“argument is not numeric or logical: returning NA”\n",
      "Warning message in mean.default(X[[i]], ...):\n",
      "“argument is not numeric or logical: returning NA”\n",
      "Warning message in mean.default(X[[i]], ...):\n",
      "“argument is not numeric or logical: returning NA”\n",
      "Warning message in mean.default(X[[i]], ...):\n",
      "“argument is not numeric or logical: returning NA”\n",
      "Warning message in mean.default(X[[i]], ...):\n",
      "“argument is not numeric or logical: returning NA”\n",
      "Warning message in mean.default(X[[i]], ...):\n",
      "“argument is not numeric or logical: returning NA”\n",
      "Warning message in mean.default(X[[i]], ...):\n",
      "“argument is not numeric or logical: returning NA”\n",
      "Warning message in mean.default(X[[i]], ...):\n",
      "“argument is not numeric or logical: returning NA”\n",
      "Warning message in mean.default(X[[i]], ...):\n",
      "“argument is not numeric or logical: returning NA”\n",
      "Warning message in mean.default(X[[i]], ...):\n",
      "“argument is not numeric or logical: returning NA”\n",
      "Warning message in mean.default(X[[i]], ...):\n",
      "“argument is not numeric or logical: returning NA”\n",
      "Warning message in mean.default(X[[i]], ...):\n",
      "“argument is not numeric or logical: returning NA”\n",
      "Warning message in mean.default(X[[i]], ...):\n",
      "“argument is not numeric or logical: returning NA”\n",
      "Warning message in mean.default(X[[i]], ...):\n",
      "“argument is not numeric or logical: returning NA”\n",
      "Warning message in mean.default(X[[i]], ...):\n",
      "“argument is not numeric or logical: returning NA”\n",
      "Warning message in mean.default(X[[i]], ...):\n",
      "“argument is not numeric or logical: returning NA”\n",
      "Warning message in mean.default(X[[i]], ...):\n",
      "“argument is not numeric or logical: returning NA”\n",
      "Warning message in mean.default(X[[i]], ...):\n",
      "“argument is not numeric or logical: returning NA”\n"
     ]
    }
   ],
   "source": [
    "means <- aggregate(no_na, by=list(GEO=no_na$GEO), mean)"
   ]
  },
  {
   "cell_type": "code",
   "execution_count": 104,
   "metadata": {
    "vscode": {
     "languageId": "r"
    }
   },
   "outputs": [],
   "source": [
    "replaceFood <- function(food, prov, means) {\n",
    "\n",
    "    if (is.na(food)) {\n",
    "        new_val <- means[means$GEO == prov, \"food\"]\n",
    "        return(as.numeric(new_val))\n",
    "    } else {\n",
    "        return(as.numeric(food))\n",
    "    }\n",
    "}"
   ]
  },
  {
   "cell_type": "code",
   "execution_count": 105,
   "metadata": {
    "vscode": {
     "languageId": "r"
    }
   },
   "outputs": [],
   "source": [
    "init_data$food <- apply(init_data, MARGIN = 1, function(row) {replaceFood(row[\"food\"], row[\"GEO\"], means)})"
   ]
  },
  {
   "cell_type": "code",
   "execution_count": 106,
   "metadata": {
    "vscode": {
     "languageId": "r"
    }
   },
   "outputs": [],
   "source": [
    "\n",
    "\n",
    "init_data$manufac <- NULL\n",
    "\n",
    "\n",
    "init_data$food <- NULL\n",
    "# init_data <- init_data[, 1:5]\n"
   ]
  },
  {
   "cell_type": "code",
   "execution_count": 107,
   "metadata": {
    "vscode": {
     "languageId": "r"
    }
   },
   "outputs": [],
   "source": [
    "newMonth <- function(x) {\n",
    "    if (x %in% c(\"December\", \"January\", \"February\")) {\n",
    "        return(\"Winter\")\n",
    "    } else if (x %in% c(\"March\", \"April\", \"May\")) {\n",
    "        return(\"Spring\")\n",
    "    } else if (x %in% c(\"June\", \"July\", \"August\")) {\n",
    "        return(\"Summer\")\n",
    "    } else {\n",
    "        return(\"Fall\")\n",
    "    }\n",
    "}\n",
    "\n",
    "newProv <- function(x) {\n",
    "    if (x %in% c(\"Yukon\", \"Nunavut\", \"Northwest Territories\")) {\n",
    "        return(\"Northern\")\n",
    "    } else {\n",
    "        return(x)\n",
    "    }\n",
    "}"
   ]
  },
  {
   "cell_type": "code",
   "execution_count": 108,
   "metadata": {
    "vscode": {
     "languageId": "r"
    }
   },
   "outputs": [
    {
     "data": {
      "text/html": [
       "<style>\n",
       ".list-inline {list-style: none; margin:0; padding: 0}\n",
       ".list-inline>li {display: inline-block}\n",
       ".list-inline>li:not(:last-child)::after {content: \"\\00b7\"; padding: 0 .5ex}\n",
       "</style>\n",
       "<ol class=list-inline><li>'year'</li><li>'month'</li><li>'GEO'</li><li>'pop'</li><li>'protests'</li><li>'retail'</li><li>'oil'</li><li>'power'</li></ol>\n"
      ],
      "text/latex": [
       "\\begin{enumerate*}\n",
       "\\item 'year'\n",
       "\\item 'month'\n",
       "\\item 'GEO'\n",
       "\\item 'pop'\n",
       "\\item 'protests'\n",
       "\\item 'retail'\n",
       "\\item 'oil'\n",
       "\\item 'power'\n",
       "\\end{enumerate*}\n"
      ],
      "text/markdown": [
       "1. 'year'\n",
       "2. 'month'\n",
       "3. 'GEO'\n",
       "4. 'pop'\n",
       "5. 'protests'\n",
       "6. 'retail'\n",
       "7. 'oil'\n",
       "8. 'power'\n",
       "\n",
       "\n"
      ],
      "text/plain": [
       "[1] \"year\"     \"month\"    \"GEO\"      \"pop\"      \"protests\" \"retail\"   \"oil\"     \n",
       "[8] \"power\"   "
      ]
     },
     "metadata": {},
     "output_type": "display_data"
    }
   ],
   "source": [
    "colnames(init_data)"
   ]
  },
  {
   "cell_type": "code",
   "execution_count": 109,
   "metadata": {
    "vscode": {
     "languageId": "r"
    }
   },
   "outputs": [
    {
     "data": {
      "text/html": [
       "<table class=\"dataframe\">\n",
       "<caption>A data.frame: 6 × 8</caption>\n",
       "<thead>\n",
       "\t<tr><th></th><th scope=col>year</th><th scope=col>season</th><th scope=col>GEO</th><th scope=col>pop</th><th scope=col>protests</th><th scope=col>retail</th><th scope=col>oil</th><th scope=col>power</th></tr>\n",
       "\t<tr><th></th><th scope=col>&lt;int&gt;</th><th scope=col>&lt;chr&gt;</th><th scope=col>&lt;chr&gt;</th><th scope=col>&lt;int&gt;</th><th scope=col>&lt;int&gt;</th><th scope=col>&lt;dbl&gt;</th><th scope=col>&lt;int&gt;</th><th scope=col>&lt;int&gt;</th></tr>\n",
       "</thead>\n",
       "<tbody>\n",
       "\t<tr><th scope=row>1</th><td>2022</td><td>Spring</td><td>Alberta                  </td><td>4480956</td><td>17</td><td>7989056</td><td> 3983</td><td>6069621</td></tr>\n",
       "\t<tr><th scope=row>2</th><td>2022</td><td>Spring</td><td>British Columbia         </td><td>5310164</td><td>42</td><td>8959229</td><td>77433</td><td>5240902</td></tr>\n",
       "\t<tr><th scope=row>3</th><td>2022</td><td>Spring</td><td>Manitoba                 </td><td>1405197</td><td> 2</td><td>2083495</td><td> 6290</td><td>2168371</td></tr>\n",
       "\t<tr><th scope=row>4</th><td>2022</td><td>Spring</td><td>New Brunswick            </td><td> 801778</td><td> 5</td><td>1340707</td><td> 1818</td><td>1171958</td></tr>\n",
       "\t<tr><th scope=row>5</th><td>2022</td><td>Spring</td><td>Newfoundland and Labrador</td><td> 529249</td><td> 2</td><td> 920444</td><td>77160</td><td> 686123</td></tr>\n",
       "\t<tr><th scope=row>6</th><td>2022</td><td>Spring</td><td>Northwest Territories    </td><td>  44828</td><td> 0</td><td>  76390</td><td>    0</td><td>  58889</td></tr>\n",
       "</tbody>\n",
       "</table>\n"
      ],
      "text/latex": [
       "A data.frame: 6 × 8\n",
       "\\begin{tabular}{r|llllllll}\n",
       "  & year & season & GEO & pop & protests & retail & oil & power\\\\\n",
       "  & <int> & <chr> & <chr> & <int> & <int> & <dbl> & <int> & <int>\\\\\n",
       "\\hline\n",
       "\t1 & 2022 & Spring & Alberta                   & 4480956 & 17 & 7989056 &  3983 & 6069621\\\\\n",
       "\t2 & 2022 & Spring & British Columbia          & 5310164 & 42 & 8959229 & 77433 & 5240902\\\\\n",
       "\t3 & 2022 & Spring & Manitoba                  & 1405197 &  2 & 2083495 &  6290 & 2168371\\\\\n",
       "\t4 & 2022 & Spring & New Brunswick             &  801778 &  5 & 1340707 &  1818 & 1171958\\\\\n",
       "\t5 & 2022 & Spring & Newfoundland and Labrador &  529249 &  2 &  920444 & 77160 &  686123\\\\\n",
       "\t6 & 2022 & Spring & Northwest Territories     &   44828 &  0 &   76390 &     0 &   58889\\\\\n",
       "\\end{tabular}\n"
      ],
      "text/markdown": [
       "\n",
       "A data.frame: 6 × 8\n",
       "\n",
       "| <!--/--> | year &lt;int&gt; | season &lt;chr&gt; | GEO &lt;chr&gt; | pop &lt;int&gt; | protests &lt;int&gt; | retail &lt;dbl&gt; | oil &lt;int&gt; | power &lt;int&gt; |\n",
       "|---|---|---|---|---|---|---|---|---|\n",
       "| 1 | 2022 | Spring | Alberta                   | 4480956 | 17 | 7989056 |  3983 | 6069621 |\n",
       "| 2 | 2022 | Spring | British Columbia          | 5310164 | 42 | 8959229 | 77433 | 5240902 |\n",
       "| 3 | 2022 | Spring | Manitoba                  | 1405197 |  2 | 2083495 |  6290 | 2168371 |\n",
       "| 4 | 2022 | Spring | New Brunswick             |  801778 |  5 | 1340707 |  1818 | 1171958 |\n",
       "| 5 | 2022 | Spring | Newfoundland and Labrador |  529249 |  2 |  920444 | 77160 |  686123 |\n",
       "| 6 | 2022 | Spring | Northwest Territories     |   44828 |  0 |   76390 |     0 |   58889 |\n",
       "\n"
      ],
      "text/plain": [
       "  year season GEO                       pop     protests retail  oil   power  \n",
       "1 2022 Spring Alberta                   4480956 17       7989056  3983 6069621\n",
       "2 2022 Spring British Columbia          5310164 42       8959229 77433 5240902\n",
       "3 2022 Spring Manitoba                  1405197  2       2083495  6290 2168371\n",
       "4 2022 Spring New Brunswick              801778  5       1340707  1818 1171958\n",
       "5 2022 Spring Newfoundland and Labrador  529249  2        920444 77160  686123\n",
       "6 2022 Spring Northwest Territories       44828  0         76390     0   58889"
      ]
     },
     "metadata": {},
     "output_type": "display_data"
    }
   ],
   "source": [
    "init_data$month <- sapply(init_data$month, newMonth)\n",
    "colnames(init_data)[2] <- \"season\"\n",
    "\n",
    "head(init_data)"
   ]
  },
  {
   "cell_type": "code",
   "execution_count": 110,
   "metadata": {
    "vscode": {
     "languageId": "r"
    }
   },
   "outputs": [],
   "source": [
    "standardize <- function(x, mu, std) {\n",
    "    return((x-mu)/std)\n",
    "}"
   ]
  },
  {
   "cell_type": "code",
   "execution_count": 111,
   "metadata": {
    "vscode": {
     "languageId": "r"
    }
   },
   "outputs": [
    {
     "data": {
      "text/html": [
       "<table class=\"dataframe\">\n",
       "<caption>A data.frame: 6 × 8</caption>\n",
       "<thead>\n",
       "\t<tr><th></th><th scope=col>year</th><th scope=col>season</th><th scope=col>prov</th><th scope=col>pop</th><th scope=col>protests</th><th scope=col>retail</th><th scope=col>oil</th><th scope=col>power</th></tr>\n",
       "\t<tr><th></th><th scope=col>&lt;int&gt;</th><th scope=col>&lt;chr&gt;</th><th scope=col>&lt;chr&gt;</th><th scope=col>&lt;int&gt;</th><th scope=col>&lt;int&gt;</th><th scope=col>&lt;dbl&gt;</th><th scope=col>&lt;int&gt;</th><th scope=col>&lt;int&gt;</th></tr>\n",
       "</thead>\n",
       "<tbody>\n",
       "\t<tr><th scope=row>1</th><td>2022</td><td>Spring</td><td>Alberta                  </td><td>4480956</td><td>17</td><td>7989056</td><td> 3983</td><td>6069621</td></tr>\n",
       "\t<tr><th scope=row>2</th><td>2022</td><td>Spring</td><td>British Columbia         </td><td>5310164</td><td>42</td><td>8959229</td><td>77433</td><td>5240902</td></tr>\n",
       "\t<tr><th scope=row>3</th><td>2022</td><td>Spring</td><td>Manitoba                 </td><td>1405197</td><td> 2</td><td>2083495</td><td> 6290</td><td>2168371</td></tr>\n",
       "\t<tr><th scope=row>4</th><td>2022</td><td>Spring</td><td>New Brunswick            </td><td> 801778</td><td> 5</td><td>1340707</td><td> 1818</td><td>1171958</td></tr>\n",
       "\t<tr><th scope=row>5</th><td>2022</td><td>Spring</td><td>Newfoundland and Labrador</td><td> 529249</td><td> 2</td><td> 920444</td><td>77160</td><td> 686123</td></tr>\n",
       "\t<tr><th scope=row>6</th><td>2022</td><td>Spring</td><td>Northwest Territories    </td><td>  44828</td><td> 0</td><td>  76390</td><td>    0</td><td>  58889</td></tr>\n",
       "</tbody>\n",
       "</table>\n"
      ],
      "text/latex": [
       "A data.frame: 6 × 8\n",
       "\\begin{tabular}{r|llllllll}\n",
       "  & year & season & prov & pop & protests & retail & oil & power\\\\\n",
       "  & <int> & <chr> & <chr> & <int> & <int> & <dbl> & <int> & <int>\\\\\n",
       "\\hline\n",
       "\t1 & 2022 & Spring & Alberta                   & 4480956 & 17 & 7989056 &  3983 & 6069621\\\\\n",
       "\t2 & 2022 & Spring & British Columbia          & 5310164 & 42 & 8959229 & 77433 & 5240902\\\\\n",
       "\t3 & 2022 & Spring & Manitoba                  & 1405197 &  2 & 2083495 &  6290 & 2168371\\\\\n",
       "\t4 & 2022 & Spring & New Brunswick             &  801778 &  5 & 1340707 &  1818 & 1171958\\\\\n",
       "\t5 & 2022 & Spring & Newfoundland and Labrador &  529249 &  2 &  920444 & 77160 &  686123\\\\\n",
       "\t6 & 2022 & Spring & Northwest Territories     &   44828 &  0 &   76390 &     0 &   58889\\\\\n",
       "\\end{tabular}\n"
      ],
      "text/markdown": [
       "\n",
       "A data.frame: 6 × 8\n",
       "\n",
       "| <!--/--> | year &lt;int&gt; | season &lt;chr&gt; | prov &lt;chr&gt; | pop &lt;int&gt; | protests &lt;int&gt; | retail &lt;dbl&gt; | oil &lt;int&gt; | power &lt;int&gt; |\n",
       "|---|---|---|---|---|---|---|---|---|\n",
       "| 1 | 2022 | Spring | Alberta                   | 4480956 | 17 | 7989056 |  3983 | 6069621 |\n",
       "| 2 | 2022 | Spring | British Columbia          | 5310164 | 42 | 8959229 | 77433 | 5240902 |\n",
       "| 3 | 2022 | Spring | Manitoba                  | 1405197 |  2 | 2083495 |  6290 | 2168371 |\n",
       "| 4 | 2022 | Spring | New Brunswick             |  801778 |  5 | 1340707 |  1818 | 1171958 |\n",
       "| 5 | 2022 | Spring | Newfoundland and Labrador |  529249 |  2 |  920444 | 77160 |  686123 |\n",
       "| 6 | 2022 | Spring | Northwest Territories     |   44828 |  0 |   76390 |     0 |   58889 |\n",
       "\n"
      ],
      "text/plain": [
       "  year season prov                      pop     protests retail  oil   power  \n",
       "1 2022 Spring Alberta                   4480956 17       7989056  3983 6069621\n",
       "2 2022 Spring British Columbia          5310164 42       8959229 77433 5240902\n",
       "3 2022 Spring Manitoba                  1405197  2       2083495  6290 2168371\n",
       "4 2022 Spring New Brunswick              801778  5       1340707  1818 1171958\n",
       "5 2022 Spring Newfoundland and Labrador  529249  2        920444 77160  686123\n",
       "6 2022 Spring Northwest Territories       44828  0         76390     0   58889"
      ]
     },
     "metadata": {},
     "output_type": "display_data"
    }
   ],
   "source": [
    "colnames(init_data)[colnames(init_data) == \"GEO\"] <- \"prov\"\n",
    "head(init_data)"
   ]
  },
  {
   "cell_type": "code",
   "execution_count": 112,
   "metadata": {
    "vscode": {
     "languageId": "r"
    }
   },
   "outputs": [],
   "source": [
    "init_data$prov  <- as.factor(init_data$prov)\n",
    "init_data$season <- as.factor(init_data$season)\n",
    "init_data$year <- as.factor(init_data$year)"
   ]
  },
  {
   "cell_type": "code",
   "execution_count": 113,
   "metadata": {
    "vscode": {
     "languageId": "r"
    }
   },
   "outputs": [
    {
     "data": {
      "text/html": [
       "<table class=\"dataframe\">\n",
       "<caption>A data.frame: 6 × 8</caption>\n",
       "<thead>\n",
       "\t<tr><th></th><th scope=col>year</th><th scope=col>season</th><th scope=col>prov</th><th scope=col>pop</th><th scope=col>protests</th><th scope=col>retail</th><th scope=col>oil</th><th scope=col>power</th></tr>\n",
       "\t<tr><th></th><th scope=col>&lt;fct&gt;</th><th scope=col>&lt;fct&gt;</th><th scope=col>&lt;fct&gt;</th><th scope=col>&lt;int&gt;</th><th scope=col>&lt;int&gt;</th><th scope=col>&lt;dbl&gt;</th><th scope=col>&lt;int&gt;</th><th scope=col>&lt;int&gt;</th></tr>\n",
       "</thead>\n",
       "<tbody>\n",
       "\t<tr><th scope=row>1</th><td>2022</td><td>Spring</td><td>Alberta                  </td><td>4480956</td><td>17</td><td>7989056</td><td> 3983</td><td>6069621</td></tr>\n",
       "\t<tr><th scope=row>2</th><td>2022</td><td>Spring</td><td>British Columbia         </td><td>5310164</td><td>42</td><td>8959229</td><td>77433</td><td>5240902</td></tr>\n",
       "\t<tr><th scope=row>3</th><td>2022</td><td>Spring</td><td>Manitoba                 </td><td>1405197</td><td> 2</td><td>2083495</td><td> 6290</td><td>2168371</td></tr>\n",
       "\t<tr><th scope=row>4</th><td>2022</td><td>Spring</td><td>New Brunswick            </td><td> 801778</td><td> 5</td><td>1340707</td><td> 1818</td><td>1171958</td></tr>\n",
       "\t<tr><th scope=row>5</th><td>2022</td><td>Spring</td><td>Newfoundland and Labrador</td><td> 529249</td><td> 2</td><td> 920444</td><td>77160</td><td> 686123</td></tr>\n",
       "\t<tr><th scope=row>6</th><td>2022</td><td>Spring</td><td>Northwest Territories    </td><td>  44828</td><td> 0</td><td>  76390</td><td>    0</td><td>  58889</td></tr>\n",
       "</tbody>\n",
       "</table>\n"
      ],
      "text/latex": [
       "A data.frame: 6 × 8\n",
       "\\begin{tabular}{r|llllllll}\n",
       "  & year & season & prov & pop & protests & retail & oil & power\\\\\n",
       "  & <fct> & <fct> & <fct> & <int> & <int> & <dbl> & <int> & <int>\\\\\n",
       "\\hline\n",
       "\t1 & 2022 & Spring & Alberta                   & 4480956 & 17 & 7989056 &  3983 & 6069621\\\\\n",
       "\t2 & 2022 & Spring & British Columbia          & 5310164 & 42 & 8959229 & 77433 & 5240902\\\\\n",
       "\t3 & 2022 & Spring & Manitoba                  & 1405197 &  2 & 2083495 &  6290 & 2168371\\\\\n",
       "\t4 & 2022 & Spring & New Brunswick             &  801778 &  5 & 1340707 &  1818 & 1171958\\\\\n",
       "\t5 & 2022 & Spring & Newfoundland and Labrador &  529249 &  2 &  920444 & 77160 &  686123\\\\\n",
       "\t6 & 2022 & Spring & Northwest Territories     &   44828 &  0 &   76390 &     0 &   58889\\\\\n",
       "\\end{tabular}\n"
      ],
      "text/markdown": [
       "\n",
       "A data.frame: 6 × 8\n",
       "\n",
       "| <!--/--> | year &lt;fct&gt; | season &lt;fct&gt; | prov &lt;fct&gt; | pop &lt;int&gt; | protests &lt;int&gt; | retail &lt;dbl&gt; | oil &lt;int&gt; | power &lt;int&gt; |\n",
       "|---|---|---|---|---|---|---|---|---|\n",
       "| 1 | 2022 | Spring | Alberta                   | 4480956 | 17 | 7989056 |  3983 | 6069621 |\n",
       "| 2 | 2022 | Spring | British Columbia          | 5310164 | 42 | 8959229 | 77433 | 5240902 |\n",
       "| 3 | 2022 | Spring | Manitoba                  | 1405197 |  2 | 2083495 |  6290 | 2168371 |\n",
       "| 4 | 2022 | Spring | New Brunswick             |  801778 |  5 | 1340707 |  1818 | 1171958 |\n",
       "| 5 | 2022 | Spring | Newfoundland and Labrador |  529249 |  2 |  920444 | 77160 |  686123 |\n",
       "| 6 | 2022 | Spring | Northwest Territories     |   44828 |  0 |   76390 |     0 |   58889 |\n",
       "\n"
      ],
      "text/plain": [
       "  year season prov                      pop     protests retail  oil   power  \n",
       "1 2022 Spring Alberta                   4480956 17       7989056  3983 6069621\n",
       "2 2022 Spring British Columbia          5310164 42       8959229 77433 5240902\n",
       "3 2022 Spring Manitoba                  1405197  2       2083495  6290 2168371\n",
       "4 2022 Spring New Brunswick              801778  5       1340707  1818 1171958\n",
       "5 2022 Spring Newfoundland and Labrador  529249  2        920444 77160  686123\n",
       "6 2022 Spring Northwest Territories       44828  0         76390     0   58889"
      ]
     },
     "metadata": {},
     "output_type": "display_data"
    }
   ],
   "source": [
    "head(init_data)"
   ]
  },
  {
   "cell_type": "markdown",
   "metadata": {},
   "source": [
    "## Fitting the Model"
   ]
  },
  {
   "cell_type": "code",
   "execution_count": 114,
   "metadata": {
    "vscode": {
     "languageId": "r"
    }
   },
   "outputs": [],
   "source": [
    "init_data$pop <- sapply(init_data$pop, function(x) {standardize(x, mean(init_data$pop), sd(init_data$pop))})\n",
    "init_data$retail <- sapply(init_data$retail, function(x) {standardize(x, mean(init_data$retail), sd(init_data$retail))})\n",
    "init_data$power <- sapply(init_data$power, function(x) {standardize(x, mean(init_data$power), sd(init_data$power))})\n",
    "init_data$oil <- sapply(init_data$oil, function(x) {standardize(x, mean(init_data$oil), sd(init_data$oil))})\n",
    "# init_data$food <- sapply(init_data$food, function(x) {standardize(x, mean(init_data$food), sd(init_data$food))})"
   ]
  },
  {
   "cell_type": "code",
   "execution_count": 115,
   "metadata": {
    "vscode": {
     "languageId": "r"
    }
   },
   "outputs": [],
   "source": [
    "model1 <- glm.nb(protests ~., data=init_data, init.theta = 1)"
   ]
  },
  {
   "cell_type": "code",
   "execution_count": 116,
   "metadata": {
    "vscode": {
     "languageId": "r"
    }
   },
   "outputs": [
    {
     "data": {
      "text/plain": [
       "\n",
       "Call:\n",
       "glm.nb(formula = protests ~ ., data = init_data, init.theta = 8.677088102, \n",
       "    link = log)\n",
       "\n",
       "Coefficients:\n",
       "                              Estimate Std. Error z value Pr(>|z|)    \n",
       "(Intercept)                    3.91893    0.71143   5.509 3.62e-08 ***\n",
       "year2023                       0.09195    0.07858   1.170  0.24193    \n",
       "seasonSpring                  -0.05347    0.08579  -0.623  0.53310    \n",
       "seasonSummer                  -0.53435    0.08791  -6.078 1.22e-09 ***\n",
       "seasonWinter                  -0.18075    0.09610  -1.881  0.05999 .  \n",
       "provBritish Columbia           0.85741    0.33826   2.535  0.01125 *  \n",
       "provManitoba                  -2.48527    1.38933  -1.789  0.07364 .  \n",
       "provNew Brunswick             -3.25743    1.62353  -2.006  0.04481 *  \n",
       "provNewfoundland and Labrador -3.69438    1.73569  -2.128  0.03330 *  \n",
       "provNorthwest Territories     -6.12502    1.96525  -3.117  0.00183 ** \n",
       "provNova Scotia               -3.01460    1.53652  -1.962  0.04977 *  \n",
       "provNunavut                   -5.75161    1.96220  -2.931  0.00338 ** \n",
       "provOntario                    6.78505    4.29142   1.581  0.11386    \n",
       "provPrince Edward Island      -4.86758    1.90026  -2.562  0.01042 *  \n",
       "provQuebec                     3.12556    1.74047   1.796  0.07252 .  \n",
       "provSaskatchewan              -3.14550    1.46210  -2.151  0.03145 *  \n",
       "provYukon                     -4.90305    1.94998  -2.514  0.01192 *  \n",
       "pop                            0.42469    1.57923   0.269  0.78799    \n",
       "retail                        -2.69373    1.19413  -2.256  0.02408 *  \n",
       "oil                           -0.06406    0.06661  -0.962  0.33620    \n",
       "power                         -0.19272    0.14322  -1.346  0.17844    \n",
       "---\n",
       "Signif. codes:  0 ‘***’ 0.001 ‘**’ 0.01 ‘*’ 0.05 ‘.’ 0.1 ‘ ’ 1\n",
       "\n",
       "(Dispersion parameter for Negative Binomial(8.6771) family taken to be 1)\n",
       "\n",
       "    Null deviance: 2137.63  on 298  degrees of freedom\n",
       "Residual deviance:  350.02  on 278  degrees of freedom\n",
       "AIC: 1588.3\n",
       "\n",
       "Number of Fisher Scoring iterations: 1\n",
       "\n",
       "\n",
       "              Theta:  8.68 \n",
       "          Std. Err.:  1.55 \n",
       "\n",
       " 2 x log-likelihood:  -1544.343 "
      ]
     },
     "metadata": {},
     "output_type": "display_data"
    }
   ],
   "source": [
    "summary(model1)"
   ]
  },
  {
   "cell_type": "code",
   "execution_count": 117,
   "metadata": {
    "vscode": {
     "languageId": "r"
    }
   },
   "outputs": [
    {
     "data": {
      "image/png": "[encoded data removed]",
      "text/plain": [
       "Plot with title “Histogram of dummy”"
      ]
     },
     "metadata": {
      "image/png": {
       "height": 420,
       "width": 420
      }
     },
     "output_type": "display_data"
    }
   ],
   "source": [
    "dummy <- rnegbin(fitted(model1), theta = 8.68)\n",
    "hist(dummy, breaks=25)"
   ]
  },
  {
   "cell_type": "code",
   "execution_count": 118,
   "metadata": {
    "vscode": {
     "languageId": "r"
    }
   },
   "outputs": [
    {
     "name": "stderr",
     "output_type": "stream",
     "text": [
      "Warning message in anova.negbin(model1):\n",
      "“tests made without re-estimating 'theta'”\n"
     ]
    },
    {
     "data": {
      "text/html": [
       "<table class=\"dataframe\">\n",
       "<caption>A anova: 8 × 5</caption>\n",
       "<thead>\n",
       "\t<tr><th></th><th scope=col>Df</th><th scope=col>Deviance</th><th scope=col>Resid. Df</th><th scope=col>Resid. Dev</th><th scope=col>Pr(&gt;Chi)</th></tr>\n",
       "\t<tr><th></th><th scope=col>&lt;int&gt;</th><th scope=col>&lt;dbl&gt;</th><th scope=col>&lt;int&gt;</th><th scope=col>&lt;dbl&gt;</th><th scope=col>&lt;dbl&gt;</th></tr>\n",
       "</thead>\n",
       "<tbody>\n",
       "\t<tr><th scope=row>NULL</th><td>NA</td><td>          NA</td><td>298</td><td>2137.6259</td><td>          NA</td></tr>\n",
       "\t<tr><th scope=row>year</th><td> 1</td><td>1.015006e+00</td><td>297</td><td>2136.6109</td><td>3.137065e-01</td></tr>\n",
       "\t<tr><th scope=row>season</th><td> 3</td><td>5.317336e+01</td><td>294</td><td>2083.4375</td><td>1.683786e-11</td></tr>\n",
       "\t<tr><th scope=row>prov</th><td>12</td><td>1.726032e+03</td><td>282</td><td> 357.4054</td><td>0.000000e+00</td></tr>\n",
       "\t<tr><th scope=row>pop</th><td> 1</td><td>6.481575e-03</td><td>281</td><td> 357.3989</td><td>9.358331e-01</td></tr>\n",
       "\t<tr><th scope=row>retail</th><td> 1</td><td>5.170175e+00</td><td>280</td><td> 352.2287</td><td>2.297790e-02</td></tr>\n",
       "\t<tr><th scope=row>oil</th><td> 1</td><td>3.935834e-01</td><td>279</td><td> 351.8351</td><td>5.304218e-01</td></tr>\n",
       "\t<tr><th scope=row>power</th><td> 1</td><td>1.815668e+00</td><td>278</td><td> 350.0194</td><td>1.778298e-01</td></tr>\n",
       "</tbody>\n",
       "</table>\n"
      ],
      "text/latex": [
       "A anova: 8 × 5\n",
       "\\begin{tabular}{r|lllll}\n",
       "  & Df & Deviance & Resid. Df & Resid. Dev & Pr(>Chi)\\\\\n",
       "  & <int> & <dbl> & <int> & <dbl> & <dbl>\\\\\n",
       "\\hline\n",
       "\tNULL & NA &           NA & 298 & 2137.6259 &           NA\\\\\n",
       "\tyear &  1 & 1.015006e+00 & 297 & 2136.6109 & 3.137065e-01\\\\\n",
       "\tseason &  3 & 5.317336e+01 & 294 & 2083.4375 & 1.683786e-11\\\\\n",
       "\tprov & 12 & 1.726032e+03 & 282 &  357.4054 & 0.000000e+00\\\\\n",
       "\tpop &  1 & 6.481575e-03 & 281 &  357.3989 & 9.358331e-01\\\\\n",
       "\tretail &  1 & 5.170175e+00 & 280 &  352.2287 & 2.297790e-02\\\\\n",
       "\toil &  1 & 3.935834e-01 & 279 &  351.8351 & 5.304218e-01\\\\\n",
       "\tpower &  1 & 1.815668e+00 & 278 &  350.0194 & 1.778298e-01\\\\\n",
       "\\end{tabular}\n"
      ],
      "text/markdown": [
       "\n",
       "A anova: 8 × 5\n",
       "\n",
       "| <!--/--> | Df &lt;int&gt; | Deviance &lt;dbl&gt; | Resid. Df &lt;int&gt; | Resid. Dev &lt;dbl&gt; | Pr(&gt;Chi) &lt;dbl&gt; |\n",
       "|---|---|---|---|---|---|\n",
       "| NULL | NA |           NA | 298 | 2137.6259 |           NA |\n",
       "| year |  1 | 1.015006e+00 | 297 | 2136.6109 | 3.137065e-01 |\n",
       "| season |  3 | 5.317336e+01 | 294 | 2083.4375 | 1.683786e-11 |\n",
       "| prov | 12 | 1.726032e+03 | 282 |  357.4054 | 0.000000e+00 |\n",
       "| pop |  1 | 6.481575e-03 | 281 |  357.3989 | 9.358331e-01 |\n",
       "| retail |  1 | 5.170175e+00 | 280 |  352.2287 | 2.297790e-02 |\n",
       "| oil |  1 | 3.935834e-01 | 279 |  351.8351 | 5.304218e-01 |\n",
       "| power |  1 | 1.815668e+00 | 278 |  350.0194 | 1.778298e-01 |\n",
       "\n"
      ],
      "text/plain": [
       "       Df Deviance     Resid. Df Resid. Dev Pr(>Chi)    \n",
       "NULL   NA           NA 298       2137.6259            NA\n",
       "year    1 1.015006e+00 297       2136.6109  3.137065e-01\n",
       "season  3 5.317336e+01 294       2083.4375  1.683786e-11\n",
       "prov   12 1.726032e+03 282        357.4054  0.000000e+00\n",
       "pop     1 6.481575e-03 281        357.3989  9.358331e-01\n",
       "retail  1 5.170175e+00 280        352.2287  2.297790e-02\n",
       "oil     1 3.935834e-01 279        351.8351  5.304218e-01\n",
       "power   1 1.815668e+00 278        350.0194  1.778298e-01"
      ]
     },
     "metadata": {},
     "output_type": "display_data"
    }
   ],
   "source": [
    "anova(model1)"
   ]
  },
  {
   "cell_type": "code",
   "execution_count": 119,
   "metadata": {
    "vscode": {
     "languageId": "r"
    }
   },
   "outputs": [
    {
     "name": "stdout",
     "output_type": "stream",
     "text": [
      "Start:  AIC=1583\n",
      "protests ~ season + prov + retail\n",
      "\n",
      "         Df Deviance    AIC\n",
      "<none>        349.20 1583.0\n",
      "- retail  1   352.33 1584.1\n",
      "- season  3   397.19 1625.0\n",
      "- prov   12   745.36 1955.2\n"
     ]
    },
    {
     "data": {
      "text/plain": [
       "\n",
       "Call:\n",
       "glm.nb(formula = protests ~ season + prov + retail, data = data, \n",
       "    init.theta = 8.305615956, link = log)\n",
       "\n",
       "Coefficients:\n",
       "                              Estimate Std. Error z value Pr(>|z|)    \n",
       "(Intercept)                    3.68364    0.50985   7.225 5.01e-13 ***\n",
       "seasonSpring                  -0.06502    0.08264  -0.787 0.431441    \n",
       "seasonSummer                  -0.55217    0.08629  -6.399 1.57e-10 ***\n",
       "seasonWinter                  -0.22871    0.08873  -2.578 0.009946 ** \n",
       "provBritish Columbia           0.81551    0.16310   5.000 5.73e-07 ***\n",
       "provManitoba                  -1.91505    0.92108  -2.079 0.037605 *  \n",
       "provNew Brunswick             -2.62399    1.04409  -2.513 0.011965 *  \n",
       "provNewfoundland and Labrador -3.06967    1.11340  -2.757 0.005833 ** \n",
       "provNorthwest Territories     -5.35839    1.26866  -4.224 2.40e-05 ***\n",
       "provNova Scotia               -2.41344    0.99351  -2.429 0.015133 *  \n",
       "provNunavut                   -4.98454    1.26290  -3.947 7.92e-05 ***\n",
       "provOntario                    5.59695    2.44944   2.285 0.022314 *  \n",
       "provPrince Edward Island      -4.11279    1.21600  -3.382 0.000719 ***\n",
       "provQuebec                     2.19032    0.93156   2.351 0.018711 *  \n",
       "provSaskatchewan              -2.58187    0.94178  -2.741 0.006116 ** \n",
       "provYukon                     -4.13848    1.24460  -3.325 0.000884 ***\n",
       "retail                        -1.85334    1.06448  -1.741 0.081671 .  \n",
       "---\n",
       "Signif. codes:  0 ‘***’ 0.001 ‘**’ 0.01 ‘*’ 0.05 ‘.’ 0.1 ‘ ’ 1\n",
       "\n",
       "(Dispersion parameter for Negative Binomial(8.3056) family taken to be 1)\n",
       "\n",
       "    Null deviance: 2091.2  on 298  degrees of freedom\n",
       "Residual deviance:  349.2  on 282  degrees of freedom\n",
       "AIC: 1585\n",
       "\n",
       "Number of Fisher Scoring iterations: 1\n",
       "\n",
       "\n",
       "              Theta:  8.31 \n",
       "          Std. Err.:  1.46 \n",
       "\n",
       " 2 x log-likelihood:  -1548.997 "
      ]
     },
     "metadata": {},
     "output_type": "display_data"
    }
   ],
   "source": [
    "data <- init_data[, -c(1, 4, 7, 8)]\n",
    "model <- glm.nb(protests ~., data=data, init.theta = 1)\n",
    "\n",
    "model <- step(model)\n",
    "summary(model)\n",
    "# names(summary(model))\n",
    "# summary(model)"
   ]
  },
  {
   "cell_type": "markdown",
   "metadata": {},
   "source": [
    "## Bootstrap Methods"
   ]
  },
  {
   "cell_type": "markdown",
   "metadata": {},
   "source": [
    "### 1. Resampling Bootstrap"
   ]
  },
  {
   "cell_type": "code",
   "execution_count": 120,
   "metadata": {
    "vscode": {
     "languageId": "r"
    }
   },
   "outputs": [],
   "source": [
    "resampBoot <- function(df, B) {\n",
    "\n",
    "    # Get sample size\n",
    "    n <- nrow(df)\n",
    "    # Initialize empty dataframe\n",
    "    params <- c()\n",
    "    # Initialize progress bar\n",
    "    bar <- txtProgressBar(min=0, max=B, style=1)\n",
    "    # Perform B iterations\n",
    "    for (b in 1:B) {\n",
    "        # Select a sample of size n\n",
    "        indices <- sample(1:n, replace = TRUE)\n",
    "        samp <- df[indices, ]\n",
    "        # Fit the model with the sample\n",
    "        boot_model <- glm.nb(protests ~., data=samp, init.theta = 10)\n",
    "        boot_params <- coef(boot_model)\n",
    "        params <- rbind(params, boot_params)\n",
    "        setTxtProgressBar(bar, b)\n",
    "    }\n",
    "    close(bar)\n",
    "    return(params)  \n",
    "}"
   ]
  },
  {
   "cell_type": "code",
   "execution_count": 121,
   "metadata": {
    "vscode": {
     "languageId": "r"
    }
   },
   "outputs": [],
   "source": [
    "# boot_models <- resampBoot(data, B)\n",
    "# boot_models <- as.data.frame(boot_models)\n",
    "# write.csv(boot_models, \"data/results/resamp_boot_results.csv\")"
   ]
  },
  {
   "cell_type": "markdown",
   "metadata": {},
   "source": [
    "### 2. Parametric Bootstrap"
   ]
  },
  {
   "cell_type": "code",
   "execution_count": 122,
   "metadata": {
    "vscode": {
     "languageId": "r"
    }
   },
   "outputs": [],
   "source": [
    "conditionalNegBinom <- function(theta, mu) {\n",
    "    nb_sample <- rnbinom(size=theta, mu=mu, n=1)\n",
    "    return(nb_sample)\n",
    "}"
   ]
  },
  {
   "cell_type": "code",
   "execution_count": 123,
   "metadata": {
    "vscode": {
     "languageId": "r"
    }
   },
   "outputs": [],
   "source": [
    "paramBoot <- function(B, X, yhat, theta, func) {\n",
    "\n",
    "    # Initialize empty vector\n",
    "    params <- c()\n",
    "    # Iterate B times\n",
    "    for (b in 1:B) {\n",
    "        # Simulate NB given means\n",
    "        sim_y <- sapply(yhat, function(y) func(theta, y))\n",
    "        # Add to the dataframe\n",
    "        sim_data <- cbind(X, protests=sim_y)\n",
    "        # Fit the model to the simulated data\n",
    "        sim_model <- glm.nb(protests ~., data=sim_data, init.theta = theta)\n",
    "        # Access the coefficients and store\n",
    "        parameters <- coef(sim_model)\n",
    "        params <- rbind(params, parameters)\n",
    "    }\n",
    "    return(params)\n",
    "}"
   ]
  },
  {
   "cell_type": "code",
   "execution_count": 124,
   "metadata": {
    "vscode": {
     "languageId": "r"
    }
   },
   "outputs": [],
   "source": [
    "model <- glm.nb(protests ~., data=data, init.theta = 1)\n",
    "\n",
    "theta <- summary(model)$theta\n",
    "X <- data[, c(1,2,4)]\n",
    "yhat <- fitted(model)"
   ]
  },
  {
   "cell_type": "code",
   "execution_count": 125,
   "metadata": {
    "vscode": {
     "languageId": "r"
    }
   },
   "outputs": [],
   "source": [
    "# parametric_results <- paramBoot(B, X, yhat, theta, func=conditionalNegBinom)\n",
    "# param_results <- as.data.frame(parametric_results)\n",
    "# write.csv(param_results, \"data/results/param_boot_results.csv\")"
   ]
  },
  {
   "cell_type": "markdown",
   "metadata": {},
   "source": [
    "### 3. Error Bootstrap"
   ]
  },
  {
   "cell_type": "code",
   "execution_count": 126,
   "metadata": {
    "vscode": {
     "languageId": "r"
    }
   },
   "outputs": [],
   "source": [
    "epsilonBoot <- function(X, model, B, errors) {\n",
    "\n",
    "    # Get sample size\n",
    "    n <- nrow(X)\n",
    "    # Initialize empty vector\n",
    "    params <- c()\n",
    "    # Perform B iterations\n",
    "    for (b in 1:B) {\n",
    "        # Get errors\n",
    "        errs <- sample(errors, size=n, replace=TRUE)\n",
    "        # Get fitted values\n",
    "        yhat <- fitted(model)\n",
    "        # Get simulated y\n",
    "        ystar <- yhat + errs\n",
    "        # round up negative values\n",
    "        ystar <- pmax(rep(0, n), ystar)\n",
    "        # Turn into DataFrame\n",
    "        sim_data <- data.frame(protests=ystar, X)\n",
    "        # Fit the model with the simulated data\n",
    "        paramboot_model <- glm.nb(protests ~., data=sim_data, init.theta = 5)\n",
    "        boot_params <- coef(paramboot_model)\n",
    "        params <- rbind(params, boot_params)\n",
    "    }\n",
    "    return(params)\n",
    "}"
   ]
  },
  {
   "cell_type": "code",
   "execution_count": 127,
   "metadata": {
    "vscode": {
     "languageId": "r"
    }
   },
   "outputs": [],
   "source": [
    "model <- glm.nb(protests ~., data=data, init.theta = 10)"
   ]
  },
  {
   "cell_type": "code",
   "execution_count": 128,
   "metadata": {
    "vscode": {
     "languageId": "r"
    }
   },
   "outputs": [
    {
     "data": {
      "text/html": [
       "<style>\n",
       ".list-inline {list-style: none; margin:0; padding: 0}\n",
       ".list-inline>li {display: inline-block}\n",
       ".list-inline>li:not(:last-child)::after {content: \"\\00b7\"; padding: 0 .5ex}\n",
       "</style>\n",
       "<ol class=list-inline><li>'call'</li><li>'terms'</li><li>'family'</li><li>'deviance'</li><li>'aic'</li><li>'contrasts'</li><li>'df.residual'</li><li>'null.deviance'</li><li>'df.null'</li><li>'iter'</li><li>'deviance.resid'</li><li>'coefficients'</li><li>'aliased'</li><li>'dispersion'</li><li>'df'</li><li>'cov.unscaled'</li><li>'cov.scaled'</li><li>'theta'</li><li>'SE.theta'</li><li>'twologlik'</li><li>NA</li></ol>\n"
      ],
      "text/latex": [
       "\\begin{enumerate*}\n",
       "\\item 'call'\n",
       "\\item 'terms'\n",
       "\\item 'family'\n",
       "\\item 'deviance'\n",
       "\\item 'aic'\n",
       "\\item 'contrasts'\n",
       "\\item 'df.residual'\n",
       "\\item 'null.deviance'\n",
       "\\item 'df.null'\n",
       "\\item 'iter'\n",
       "\\item 'deviance.resid'\n",
       "\\item 'coefficients'\n",
       "\\item 'aliased'\n",
       "\\item 'dispersion'\n",
       "\\item 'df'\n",
       "\\item 'cov.unscaled'\n",
       "\\item 'cov.scaled'\n",
       "\\item 'theta'\n",
       "\\item 'SE.theta'\n",
       "\\item 'twologlik'\n",
       "\\item NA\n",
       "\\end{enumerate*}\n"
      ],
      "text/markdown": [
       "1. 'call'\n",
       "2. 'terms'\n",
       "3. 'family'\n",
       "4. 'deviance'\n",
       "5. 'aic'\n",
       "6. 'contrasts'\n",
       "7. 'df.residual'\n",
       "8. 'null.deviance'\n",
       "9. 'df.null'\n",
       "10. 'iter'\n",
       "11. 'deviance.resid'\n",
       "12. 'coefficients'\n",
       "13. 'aliased'\n",
       "14. 'dispersion'\n",
       "15. 'df'\n",
       "16. 'cov.unscaled'\n",
       "17. 'cov.scaled'\n",
       "18. 'theta'\n",
       "19. 'SE.theta'\n",
       "20. 'twologlik'\n",
       "21. NA\n",
       "\n",
       "\n"
      ],
      "text/plain": [
       " [1] \"call\"           \"terms\"          \"family\"         \"deviance\"      \n",
       " [5] \"aic\"            \"contrasts\"      \"df.residual\"    \"null.deviance\" \n",
       " [9] \"df.null\"        \"iter\"           \"deviance.resid\" \"coefficients\"  \n",
       "[13] \"aliased\"        \"dispersion\"     \"df\"             \"cov.unscaled\"  \n",
       "[17] \"cov.scaled\"     \"theta\"          \"SE.theta\"       \"twologlik\"     \n",
       "[21] NA              "
      ]
     },
     "metadata": {},
     "output_type": "display_data"
    }
   ],
   "source": [
    "names(summary(model))"
   ]
  },
  {
   "cell_type": "code",
   "execution_count": 129,
   "metadata": {
    "vscode": {
     "languageId": "r"
    }
   },
   "outputs": [
    {
     "data": {
      "text/plain": [
       "\n",
       "Call:\n",
       "glm.nb(formula = protests ~ ., data = data, init.theta = 8.305615979, \n",
       "    link = log)\n",
       "\n",
       "Coefficients:\n",
       "                              Estimate Std. Error z value Pr(>|z|)    \n",
       "(Intercept)                    3.68364    0.50985   7.225 5.01e-13 ***\n",
       "seasonSpring                  -0.06502    0.08264  -0.787 0.431441    \n",
       "seasonSummer                  -0.55217    0.08629  -6.399 1.57e-10 ***\n",
       "seasonWinter                  -0.22871    0.08873  -2.578 0.009946 ** \n",
       "provBritish Columbia           0.81551    0.16310   5.000 5.73e-07 ***\n",
       "provManitoba                  -1.91505    0.92108  -2.079 0.037605 *  \n",
       "provNew Brunswick             -2.62399    1.04409  -2.513 0.011965 *  \n",
       "provNewfoundland and Labrador -3.06967    1.11340  -2.757 0.005833 ** \n",
       "provNorthwest Territories     -5.35839    1.26866  -4.224 2.40e-05 ***\n",
       "provNova Scotia               -2.41344    0.99351  -2.429 0.015133 *  \n",
       "provNunavut                   -4.98454    1.26290  -3.947 7.92e-05 ***\n",
       "provOntario                    5.59695    2.44944   2.285 0.022314 *  \n",
       "provPrince Edward Island      -4.11279    1.21600  -3.382 0.000719 ***\n",
       "provQuebec                     2.19032    0.93156   2.351 0.018711 *  \n",
       "provSaskatchewan              -2.58187    0.94178  -2.741 0.006116 ** \n",
       "provYukon                     -4.13848    1.24460  -3.325 0.000884 ***\n",
       "retail                        -1.85334    1.06448  -1.741 0.081671 .  \n",
       "---\n",
       "Signif. codes:  0 ‘***’ 0.001 ‘**’ 0.01 ‘*’ 0.05 ‘.’ 0.1 ‘ ’ 1\n",
       "\n",
       "(Dispersion parameter for Negative Binomial(8.3056) family taken to be 1)\n",
       "\n",
       "    Null deviance: 2091.2  on 298  degrees of freedom\n",
       "Residual deviance:  349.2  on 282  degrees of freedom\n",
       "AIC: 1585\n",
       "\n",
       "Number of Fisher Scoring iterations: 1\n",
       "\n",
       "\n",
       "              Theta:  8.31 \n",
       "          Std. Err.:  1.46 \n",
       "\n",
       " 2 x log-likelihood:  -1548.997 "
      ]
     },
     "metadata": {},
     "output_type": "display_data"
    }
   ],
   "source": [
    "summary(model)"
   ]
  },
  {
   "cell_type": "code",
   "execution_count": 130,
   "metadata": {
    "notebookRunGroups": {
     "groupValue": "1"
    },
    "vscode": {
     "languageId": "r"
    }
   },
   "outputs": [],
   "source": [
    "residuals <- residuals.glm(model, type=\"deviance\")"
   ]
  },
  {
   "cell_type": "code",
   "execution_count": 136,
   "metadata": {
    "vscode": {
     "languageId": "r"
    }
   },
   "outputs": [],
   "source": [
    "p_resid <- quantile(residuals, probs=(1/100)*(1:100))"
   ]
  },
  {
   "cell_type": "code",
   "execution_count": 132,
   "metadata": {
    "vscode": {
     "languageId": "r"
    }
   },
   "outputs": [
    {
     "data": {
      "text/html": [
       "8.30561597921406"
      ],
      "text/latex": [
       "8.30561597921406"
      ],
      "text/markdown": [
       "8.30561597921406"
      ],
      "text/plain": [
       "[1] 8.305616"
      ]
     },
     "metadata": {},
     "output_type": "display_data"
    }
   ],
   "source": [
    "summary(model)$theta"
   ]
  },
  {
   "cell_type": "code",
   "execution_count": 41,
   "metadata": {
    "vscode": {
     "languageId": "r"
    }
   },
   "outputs": [],
   "source": [
    "X <- data[, c(1,2,4)]\n",
    "epsilon <- resid(model)\n",
    "err_mean <- mean(epsilon)\n",
    "err_sd <- sd(epsilon)"
   ]
  },
  {
   "cell_type": "code",
   "execution_count": 42,
   "metadata": {
    "vscode": {
     "languageId": "r"
    }
   },
   "outputs": [],
   "source": [
    "suppressWarnings({\n",
    "  error_models <- epsilonBoot(X, model, B, epsilon)\n",
    "})\n",
    "error_results <- as.data.frame(error_models)\n",
    "# write.csv(error_results, \"data/results/error_boot_results.csv\")"
   ]
  },
  {
   "cell_type": "code",
   "execution_count": null,
   "metadata": {
    "vscode": {
     "languageId": "r"
    }
   },
   "outputs": [
    {
     "data": {
      "text/html": [
       "1"
      ],
      "text/latex": [
       "1"
      ],
      "text/markdown": [
       "1"
      ],
      "text/plain": [
       "[1] 1"
      ]
     },
     "metadata": {},
     "output_type": "display_data"
    }
   ],
   "source": [
    "var(data$retail)"
   ]
  },
  {
   "cell_type": "markdown",
   "metadata": {},
   "source": [
    "### 3. Smooth Bootstrap"
   ]
  },
  {
   "cell_type": "code",
   "execution_count": null,
   "metadata": {
    "vscode": {
     "languageId": "r"
    }
   },
   "outputs": [],
   "source": [
    "addNoise <- function(X) {\n",
    "\n",
    "    cols <- colnames(X)\n",
    "    new_X <- X\n",
    "    for (col in cols) {\n",
    "        Xi <- X[, col]\n",
    "        if (class(data[, col]) != \"factor\") {\n",
    "            n <- length(Xi)\n",
    "            S_sq <- var(Xi)\n",
    "            noise_var <- S_sq / n\n",
    "            new_X[, col] <- Xi + rnorm(n=n, mean=0, sd=sqrt(noise_var))\n",
    "        } else {\n",
    "            new_X[, col] <- Xi\n",
    "        }\n",
    "    }\n",
    "    return(new_X)\n",
    "}"
   ]
  },
  {
   "cell_type": "code",
   "execution_count": null,
   "metadata": {
    "vscode": {
     "languageId": "r"
    }
   },
   "outputs": [],
   "source": [
    "smoothBoot <- function(X, y, B, noisefunc) {\n",
    "\n",
    "    # Get sample size\n",
    "    n <- nrow(X)\n",
    "    # Initialize empty vector\n",
    "    params <- c()\n",
    "    \n",
    "    # Initialize progress bar\n",
    "    pb <- txtProgressBar(min = 0, max = B, style = 3)\n",
    "    \n",
    "    # Perform B iterations\n",
    "    for (b in 1:B) {\n",
    "        # Update progress bar\n",
    "        setTxtProgressBar(pb, b)\n",
    "        \n",
    "        # Get new dataset\n",
    "        new_X <- noisefunc(X)\n",
    "        new_data <- data.frame(protests=y, new_X)\n",
    "        \n",
    "        # Fit the model with the simulated data\n",
    "        smoothboot_model <- glm.nb(protests ~., data=new_data, init.theta = 5)\n",
    "        boot_params <- coef(smoothboot_model)\n",
    "        params <- rbind(params, boot_params)\n",
    "    }\n",
    "    \n",
    "    # Close progress bar\n",
    "    close(pb)\n",
    "    \n",
    "    return(params)\n",
    "}"
   ]
  },
  {
   "cell_type": "code",
   "execution_count": null,
   "metadata": {
    "vscode": {
     "languageId": "r"
    }
   },
   "outputs": [],
   "source": [
    "X <- data[, c(1,2,4)]\n",
    "y <- data$protests\n"
   ]
  },
  {
   "cell_type": "code",
   "execution_count": null,
   "metadata": {
    "vscode": {
     "languageId": "r"
    }
   },
   "outputs": [],
   "source": [
    "# smooth_data <- smoothBoot(X, y, B, addNoise)\n",
    "# smooth_results <- as.data.frame(smooth_data)\n",
    "# write.csv(smooth_results, \"data/results/smooth_boot_results.csv\")"
   ]
  },
  {
   "cell_type": "markdown",
   "metadata": {},
   "source": [
    "## Monte Carlo Prediction"
   ]
  },
  {
   "cell_type": "markdown",
   "metadata": {},
   "source": [
    "### Make Predictions"
   ]
  }
 ],
 "metadata": {
  "kernelspec": {
   "display_name": "R",
   "language": "R",
   "name": "ir"
  },
  "language_info": {
   "codemirror_mode": "r",
   "file_extension": ".r",
   "mimetype": "text/x-r-source",
   "name": "R",
   "pygments_lexer": "r",
   "version": "4.3.3"
  }
 },
 "nbformat": 4,
 "nbformat_minor": 2
}
