{
 "cells": [
  {
   "cell_type": "code",
   "execution_count": 114,
   "metadata": {
    "vscode": {
     "languageId": "r"
    }
   },
   "outputs": [],
   "source": [
    "setwd('/home/leoKraushaar/Documents/School/Year 3/Semester 2/STAT 413/Project/protests/')"
   ]
  },
  {
   "cell_type": "code",
   "execution_count": 115,
   "metadata": {
    "vscode": {
     "languageId": "r"
    }
   },
   "outputs": [],
   "source": [
    "library(dplyr)"
   ]
  },
  {
   "cell_type": "code",
   "execution_count": 116,
   "metadata": {
    "vscode": {
     "languageId": "r"
    }
   },
   "outputs": [],
   "source": [
    "init_data <- read.csv(\"data/clean/canadianProtestData.csv\")"
   ]
  },
  {
   "cell_type": "code",
   "execution_count": 117,
   "metadata": {
    "vscode": {
     "languageId": "r"
    }
   },
   "outputs": [
    {
     "data": {
      "text/html": [
       "<table class=\"dataframe\">\n",
       "<caption>A data.frame: 6 × 3</caption>\n",
       "<thead>\n",
       "\t<tr><th></th><th scope=col>REF_DATE</th><th scope=col>GEO</th><th scope=col>ret_sales_tot</th></tr>\n",
       "\t<tr><th></th><th scope=col>&lt;chr&gt;</th><th scope=col>&lt;chr&gt;</th><th scope=col>&lt;int&gt;</th></tr>\n",
       "</thead>\n",
       "<tbody>\n",
       "\t<tr><th scope=row>1</th><td>2022-01</td><td>Newfoundland and Labrador</td><td>927147</td></tr>\n",
       "\t<tr><th scope=row>2</th><td>2022-02</td><td>Newfoundland and Labrador</td><td>903733</td></tr>\n",
       "\t<tr><th scope=row>3</th><td>2022-03</td><td>Newfoundland and Labrador</td><td>915525</td></tr>\n",
       "\t<tr><th scope=row>4</th><td>2022-04</td><td>Newfoundland and Labrador</td><td>920444</td></tr>\n",
       "\t<tr><th scope=row>5</th><td>2022-05</td><td>Newfoundland and Labrador</td><td>934566</td></tr>\n",
       "\t<tr><th scope=row>6</th><td>2022-06</td><td>Newfoundland and Labrador</td><td>913765</td></tr>\n",
       "</tbody>\n",
       "</table>\n"
      ],
      "text/latex": [
       "A data.frame: 6 × 3\n",
       "\\begin{tabular}{r|lll}\n",
       "  & REF\\_DATE & GEO & ret\\_sales\\_tot\\\\\n",
       "  & <chr> & <chr> & <int>\\\\\n",
       "\\hline\n",
       "\t1 & 2022-01 & Newfoundland and Labrador & 927147\\\\\n",
       "\t2 & 2022-02 & Newfoundland and Labrador & 903733\\\\\n",
       "\t3 & 2022-03 & Newfoundland and Labrador & 915525\\\\\n",
       "\t4 & 2022-04 & Newfoundland and Labrador & 920444\\\\\n",
       "\t5 & 2022-05 & Newfoundland and Labrador & 934566\\\\\n",
       "\t6 & 2022-06 & Newfoundland and Labrador & 913765\\\\\n",
       "\\end{tabular}\n"
      ],
      "text/markdown": [
       "\n",
       "A data.frame: 6 × 3\n",
       "\n",
       "| <!--/--> | REF_DATE &lt;chr&gt; | GEO &lt;chr&gt; | ret_sales_tot &lt;int&gt; |\n",
       "|---|---|---|---|\n",
       "| 1 | 2022-01 | Newfoundland and Labrador | 927147 |\n",
       "| 2 | 2022-02 | Newfoundland and Labrador | 903733 |\n",
       "| 3 | 2022-03 | Newfoundland and Labrador | 915525 |\n",
       "| 4 | 2022-04 | Newfoundland and Labrador | 920444 |\n",
       "| 5 | 2022-05 | Newfoundland and Labrador | 934566 |\n",
       "| 6 | 2022-06 | Newfoundland and Labrador | 913765 |\n",
       "\n"
      ],
      "text/plain": [
       "  REF_DATE GEO                       ret_sales_tot\n",
       "1 2022-01  Newfoundland and Labrador 927147       \n",
       "2 2022-02  Newfoundland and Labrador 903733       \n",
       "3 2022-03  Newfoundland and Labrador 915525       \n",
       "4 2022-04  Newfoundland and Labrador 920444       \n",
       "5 2022-05  Newfoundland and Labrador 934566       \n",
       "6 2022-06  Newfoundland and Labrador 913765       "
      ]
     },
     "metadata": {},
     "output_type": "display_data"
    }
   ],
   "source": [
    "retail <- read.csv(\"data/clean/retail.csv\")\n",
    "retail <- dplyr::rename(retail, ret_sales_tot=VALUE)\n",
    "head(retail)"
   ]
  },
  {
   "cell_type": "code",
   "execution_count": 118,
   "metadata": {
    "vscode": {
     "languageId": "r"
    }
   },
   "outputs": [
    {
     "data": {
      "text/html": [
       "<table class=\"dataframe\">\n",
       "<caption>A data.frame: 6 × 3</caption>\n",
       "<thead>\n",
       "\t<tr><th></th><th scope=col>REF_DATE</th><th scope=col>GEO</th><th scope=col>import_oil</th></tr>\n",
       "\t<tr><th></th><th scope=col>&lt;chr&gt;</th><th scope=col>&lt;chr&gt;</th><th scope=col>&lt;int&gt;</th></tr>\n",
       "</thead>\n",
       "<tbody>\n",
       "\t<tr><th scope=row>1</th><td>2022-01</td><td>Newfoundland and Labrador</td><td>132480</td></tr>\n",
       "\t<tr><th scope=row>2</th><td>2022-02</td><td>Newfoundland and Labrador</td><td> 81776</td></tr>\n",
       "\t<tr><th scope=row>3</th><td>2022-03</td><td>Newfoundland and Labrador</td><td> 44268</td></tr>\n",
       "\t<tr><th scope=row>4</th><td>2022-04</td><td>Newfoundland and Labrador</td><td> 77160</td></tr>\n",
       "\t<tr><th scope=row>5</th><td>2022-05</td><td>Newfoundland and Labrador</td><td>119265</td></tr>\n",
       "\t<tr><th scope=row>6</th><td>2022-06</td><td>Newfoundland and Labrador</td><td> 46353</td></tr>\n",
       "</tbody>\n",
       "</table>\n"
      ],
      "text/latex": [
       "A data.frame: 6 × 3\n",
       "\\begin{tabular}{r|lll}\n",
       "  & REF\\_DATE & GEO & import\\_oil\\\\\n",
       "  & <chr> & <chr> & <int>\\\\\n",
       "\\hline\n",
       "\t1 & 2022-01 & Newfoundland and Labrador & 132480\\\\\n",
       "\t2 & 2022-02 & Newfoundland and Labrador &  81776\\\\\n",
       "\t3 & 2022-03 & Newfoundland and Labrador &  44268\\\\\n",
       "\t4 & 2022-04 & Newfoundland and Labrador &  77160\\\\\n",
       "\t5 & 2022-05 & Newfoundland and Labrador & 119265\\\\\n",
       "\t6 & 2022-06 & Newfoundland and Labrador &  46353\\\\\n",
       "\\end{tabular}\n"
      ],
      "text/markdown": [
       "\n",
       "A data.frame: 6 × 3\n",
       "\n",
       "| <!--/--> | REF_DATE &lt;chr&gt; | GEO &lt;chr&gt; | import_oil &lt;int&gt; |\n",
       "|---|---|---|---|\n",
       "| 1 | 2022-01 | Newfoundland and Labrador | 132480 |\n",
       "| 2 | 2022-02 | Newfoundland and Labrador |  81776 |\n",
       "| 3 | 2022-03 | Newfoundland and Labrador |  44268 |\n",
       "| 4 | 2022-04 | Newfoundland and Labrador |  77160 |\n",
       "| 5 | 2022-05 | Newfoundland and Labrador | 119265 |\n",
       "| 6 | 2022-06 | Newfoundland and Labrador |  46353 |\n",
       "\n"
      ],
      "text/plain": [
       "  REF_DATE GEO                       import_oil\n",
       "1 2022-01  Newfoundland and Labrador 132480    \n",
       "2 2022-02  Newfoundland and Labrador  81776    \n",
       "3 2022-03  Newfoundland and Labrador  44268    \n",
       "4 2022-04  Newfoundland and Labrador  77160    \n",
       "5 2022-05  Newfoundland and Labrador 119265    \n",
       "6 2022-06  Newfoundland and Labrador  46353    "
      ]
     },
     "metadata": {},
     "output_type": "display_data"
    }
   ],
   "source": [
    "oil <- read.csv(\"data/clean/oil.csv\")\n",
    "\n",
    "oil <- dplyr::rename(oil, import_oil=VALUE)\n",
    "\n",
    "head(oil)"
   ]
  },
  {
   "cell_type": "code",
   "execution_count": 119,
   "metadata": {
    "vscode": {
     "languageId": "r"
    }
   },
   "outputs": [],
   "source": [
    "food <- read.csv(\"data/clean/food.csv\")\n",
    "\n",
    "food <- dplyr::rename(food, food_sales=VALUE)"
   ]
  },
  {
   "cell_type": "code",
   "execution_count": 120,
   "metadata": {
    "vscode": {
     "languageId": "r"
    }
   },
   "outputs": [],
   "source": [
    "manufac <- read.csv(\"data/clean/manufac.csv\")\n",
    "\n",
    "manufac <- dplyr::rename(manufac, manufac_sales=VALUE)"
   ]
  },
  {
   "cell_type": "code",
   "execution_count": 121,
   "metadata": {
    "vscode": {
     "languageId": "r"
    }
   },
   "outputs": [],
   "source": [
    "power <- read.csv(\"data/clean/power.csv\")\n",
    "power <- power[power$Electric.power..components != \"Total generation\", ]\n",
    "power <- power[, -c(3)]\n",
    "power <- dplyr::rename(power, power_avail=VALUE)"
   ]
  },
  {
   "cell_type": "code",
   "execution_count": 122,
   "metadata": {
    "vscode": {
     "languageId": "r"
    }
   },
   "outputs": [],
   "source": [
    "date_as_string <- function(date) {\n",
    "    month_map <- c(\"January\", \"February\", \"March\", \"April\", \"May\", \"June\", \n",
    "                   \"July\", \"August\", \"September\", \"October\", \"November\", \"December\")\n",
    "    names(month_map) <- 1:12\n",
    "\n",
    "    year <- substr(date, start=1, stop=4)\n",
    "    month <- substr(date, start=6, stop=nchar(date))\n",
    "    \n",
    "    if (substr(month, start=1, stop=1) == \"0\") {\n",
    "        month = substr(month, start=2, stop=nchar(month))\n",
    "    }\n",
    "\n",
    "    month_string <- month_map[as.integer(month)]\n",
    "\n",
    "    return(c(year, month_string))\n",
    "}"
   ]
  }
 ],
 "metadata": {
  "kernelspec": {
   "display_name": "R",
   "language": "R",
   "name": "ir"
  },
  "language_info": {
   "codemirror_mode": "r",
   "file_extension": ".r",
   "mimetype": "text/x-r-source",
   "name": "R",
   "pygments_lexer": "r",
   "version": "4.2.3"
  }
 },
 "nbformat": 4,
 "nbformat_minor": 2
}
