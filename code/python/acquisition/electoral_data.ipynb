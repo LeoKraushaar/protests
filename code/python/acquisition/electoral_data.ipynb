{
 "cells": [
  {
   "cell_type": "code",
   "execution_count": 2,
   "metadata": {},
   "outputs": [],
   "source": [
    "import pandas as pd\n",
    "from bs4 import BeautifulSoup\n",
    "import requests\n",
    "import lxml"
   ]
  },
  {
   "cell_type": "code",
   "execution_count": 3,
   "metadata": {},
   "outputs": [],
   "source": [
    "provinces_and_territories = [\n",
    "    \"Alberta\",\n",
    "    \"British Columbia\",\n",
    "    \"Manitoba\",\n",
    "    \"New Brunswick\",\n",
    "    \"Newfoundland and Labrador\",\n",
    "    \"Nova Scotia\",\n",
    "    \"Nunavut\",\n",
    "    \"Northwest Territories\",\n",
    "    \"Ontario\",\n",
    "    \"Prince Edward Island\",\n",
    "    \"Quebec\",\n",
    "    \"Saskatchewan\",\n",
    "    \"Yukon\"\n",
    "]"
   ]
  },
  {
   "cell_type": "code",
   "execution_count": 9,
   "metadata": {},
   "outputs": [
    {
     "name": "stdout",
     "output_type": "stream",
     "text": [
      "['https://canadianelectionsdatabase.ca/PHASE5/?p=0&type=election&sort=provincial#page_1=province_id-equals-9', 'https://canadianelectionsdatabase.ca/PHASE5/?p=0&type=election&sort=provincial#page_1=province_id-equals-10', 'https://canadianelectionsdatabase.ca/PHASE5/?p=0&type=election&sort=provincial#page_1=province_id-equals-7', 'https://canadianelectionsdatabase.ca/PHASE5/?p=0&type=election&sort=provincial#page_1=province_id-equals-4', 'https://canadianelectionsdatabase.ca/PHASE5/?p=0&type=election&sort=provincial#page_1=province_id-equals-5', 'https://canadianelectionsdatabase.ca/PHASE5/?p=0&type=election&sort=provincial#page_1=province_id-equals-2', 'https://canadianelectionsdatabase.ca/PHASE5/?p=0&type=election&sort=provincial#page_1=province_id-equals-12', 'https://canadianelectionsdatabase.ca/PHASE5/?p=0&type=election&sort=provincial#page_1=province_id-equals-6', 'https://canadianelectionsdatabase.ca/PHASE5/?p=0&type=election&sort=provincial#page_1=province_id-equals-0', 'https://canadianelectionsdatabase.ca/PHASE5/?p=0&type=election&sort=provincial#page_1=province_id-equals-1', 'https://canadianelectionsdatabase.ca/PHASE5/?p=0&type=election&sort=provincial#page_1=province_id-equals-11', 'https://canadianelectionsdatabase.ca/PHASE5/?p=0&type=election&sort=provincial#page_1=province_id-equals-8', 'https://canadianelectionsdatabase.ca/PHASE5/?p=0&type=election&sort=provincial#page_1=province_id-equals-13']\n"
     ]
    }
   ],
   "source": [
    "base_url = \"https://canadianelectionsdatabase.ca/PHASE5/?p=0&type=election&sort=provincial\"\n",
    "\n",
    "html = requests.get(base_url).text\n",
    "\n",
    "soup = BeautifulSoup(html)\n",
    "\n",
    "region_urls = []\n",
    "\n",
    "regions = soup.find(class_ = \"region-group clearfix\").find_all(\"li\")\n",
    "\n",
    "for region in regions:\n",
    "    href = region.a.get(\"href\")\n",
    "    region_urls.append(base_url + href)\n",
    "\n",
    "print(region_urls)"
   ]
  }
 ],
 "metadata": {
  "kernelspec": {
   "display_name": "Python 3",
   "language": "python",
   "name": "python3"
  },
  "language_info": {
   "codemirror_mode": {
    "name": "ipython",
    "version": 3
   },
   "file_extension": ".py",
   "mimetype": "text/x-python",
   "name": "python",
   "nbconvert_exporter": "python",
   "pygments_lexer": "ipython3",
   "version": "3.11.6"
  }
 },
 "nbformat": 4,
 "nbformat_minor": 2
}
